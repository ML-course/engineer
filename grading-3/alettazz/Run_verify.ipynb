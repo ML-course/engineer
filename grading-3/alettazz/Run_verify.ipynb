{
  "nbformat": 4,
  "nbformat_minor": 0,
  "metadata": {
    "colab": {
      "name": "Run_verify.ipynb",
      "provenance": [],
      "collapsed_sections": [],
      "machine_shape": "hm"
    },
    "kernelspec": {
      "name": "python3",
      "display_name": "Python 3"
    },
    "accelerator": "GPU"
  },
  "cells": [
    {
      "cell_type": "code",
      "metadata": {
        "id": "wCxHyeVhckkb",
        "colab_type": "code",
        "colab": {
          "base_uri": "https://localhost:8080/",
          "height": 125
        },
        "outputId": "235ac48e-8f9c-4057-de35-8334fde72490"
      },
      "source": [
        "from google.colab import drive\n",
        "drive.mount('/content/drive')"
      ],
      "execution_count": 1,
      "outputs": [
        {
          "output_type": "stream",
          "text": [
            "Go to this URL in a browser: https://accounts.google.com/o/oauth2/auth?client_id=947318989803-6bn6qk8qdgf4n4g3pfee6491hc0brc4i.apps.googleusercontent.com&redirect_uri=urn%3aietf%3awg%3aoauth%3a2.0%3aoob&response_type=code&scope=email%20https%3a%2f%2fwww.googleapis.com%2fauth%2fdocs.test%20https%3a%2f%2fwww.googleapis.com%2fauth%2fdrive%20https%3a%2f%2fwww.googleapis.com%2fauth%2fdrive.photos.readonly%20https%3a%2f%2fwww.googleapis.com%2fauth%2fpeopleapi.readonly\n",
            "\n",
            "Enter your authorization code:\n",
            "··········\n",
            "Mounted at /content/drive\n"
          ],
          "name": "stdout"
        }
      ]
    },
    {
      "cell_type": "code",
      "metadata": {
        "id": "GklFE8ypwunV",
        "colab_type": "code",
        "outputId": "d9f2b276-03db-445e-8f28-f3bb4ada5260",
        "colab": {
          "base_uri": "https://localhost:8080/",
          "height": 34
        }
      },
      "source": [
        "%cd '/content/drive/My Drive/Colab Notebooks/'"
      ],
      "execution_count": 2,
      "outputs": [
        {
          "output_type": "stream",
          "text": [
            "/content/drive/My Drive/Colab Notebooks\n"
          ],
          "name": "stdout"
        }
      ]
    },
    {
      "cell_type": "code",
      "metadata": {
        "id": "GRPC8hQBwX8F",
        "colab_type": "code",
        "colab": {}
      },
      "source": [
        "# Crash for high-RAM colab\n",
        "#  a = []\n",
        "#  while(1):\n",
        "#     a.append(1)"
      ],
      "execution_count": 0,
      "outputs": []
    },
    {
      "cell_type": "code",
      "metadata": {
        "id": "EYkeQchodqKd",
        "colab_type": "code",
        "colab": {}
      },
      "source": [
        "# Dirty way to generate submission.html; takes long\n",
        "#  !python verify.py"
      ],
      "execution_count": 0,
      "outputs": []
    },
    {
      "cell_type": "code",
      "metadata": {
        "id": "MaHVehkswIKR",
        "colab_type": "code",
        "colab": {
          "base_uri": "https://localhost:8080/",
          "height": 70
        },
        "outputId": "8b424d2c-8c39-4fcb-f177-c1b1518c3196"
      },
      "source": [
        "!pip install --quiet openml"
      ],
      "execution_count": 5,
      "outputs": [
        {
          "output_type": "stream",
          "text": [
            "\u001b[?25l\r\u001b[K     |██                              | 10kB 24.1MB/s eta 0:00:01\r\u001b[K     |████▏                           | 20kB 4.3MB/s eta 0:00:01\r\u001b[K     |██████▏                         | 30kB 5.1MB/s eta 0:00:01\r\u001b[K     |████████▎                       | 40kB 6.5MB/s eta 0:00:01\r\u001b[K     |██████████▎                     | 51kB 4.9MB/s eta 0:00:01\r\u001b[K     |████████████▍                   | 61kB 5.8MB/s eta 0:00:01\r\u001b[K     |██████████████▍                 | 71kB 6.1MB/s eta 0:00:01\r\u001b[K     |████████████████▌               | 81kB 6.9MB/s eta 0:00:01\r\u001b[K     |██████████████████▌             | 92kB 7.6MB/s eta 0:00:01\r\u001b[K     |████████████████████▋           | 102kB 6.4MB/s eta 0:00:01\r\u001b[K     |██████████████████████▊         | 112kB 6.4MB/s eta 0:00:01\r\u001b[K     |████████████████████████▊       | 122kB 6.4MB/s eta 0:00:01\r\u001b[K     |██████████████████████████▉     | 133kB 6.4MB/s eta 0:00:01\r\u001b[K     |████████████████████████████▉   | 143kB 6.4MB/s eta 0:00:01\r\u001b[K     |███████████████████████████████ | 153kB 6.4MB/s eta 0:00:01\r\u001b[K     |████████████████████████████████| 163kB 6.4MB/s \n",
            "\u001b[?25h  Building wheel for openml (setup.py) ... \u001b[?25l\u001b[?25hdone\n",
            "  Building wheel for liac-arff (setup.py) ... \u001b[?25l\u001b[?25hdone\n"
          ],
          "name": "stdout"
        }
      ]
    },
    {
      "cell_type": "code",
      "metadata": {
        "id": "VJygYdMow1L5",
        "colab_type": "code",
        "outputId": "72181256-2685-42e5-ec5b-3e9292923265",
        "colab": {
          "base_uri": "https://localhost:8080/",
          "height": 34
        }
      },
      "source": [
        "import os\n",
        "import openml as oml\n",
        "oml.config.cache_directory = os.path.expanduser('/content/cache')\n",
        "# SVHN = oml.datasets.get_dataset(41081)\n",
        "# X, y, _, _ = SVHN.get_data(dataset_format='array',\n",
        "#     target=SVHN.default_target_attribute)\n",
        "\n",
        "from google_drive_downloader import GoogleDriveDownloader as gdd\n",
        "gdd.download_file_from_google_drive(file_id='1zZRRe3ffmuAf1x4yZmYwG_rLiuggep2A',\n",
        "             dest_path='/content/cache/org/openml/www/datasets/41081/dataset.pkl.py3')"
      ],
      "execution_count": 6,
      "outputs": [
        {
          "output_type": "stream",
          "text": [
            "Downloading 1zZRRe3ffmuAf1x4yZmYwG_rLiuggep2A into /content/cache/org/openml/www/datasets/41081/dataset.pkl.py3... Done.\n"
          ],
          "name": "stdout"
        }
      ]
    },
    {
      "cell_type": "code",
      "metadata": {
        "id": "1TI5kYOSdH92",
        "colab_type": "code",
        "outputId": "e2e22f7c-1184-4ff1-8ce5-c17d9583a592",
        "colab": {
          "base_uri": "https://localhost:8080/",
          "height": 87
        }
      },
      "source": [
        "import nbformat\n",
        "from nbconvert import PythonExporter, HTMLExporter\n",
        "from nbconvert.preprocessors import CellExecutionError, ExecutePreprocessor\n",
        "from traitlets.config import Config\n",
        "import warnings\n",
        "warnings.filterwarnings('ignore') \n",
        "\n",
        "basedir = './' \n",
        "\n",
        "# Convert notebook to python\n",
        "assignment_path = basedir + 'Assignment 3.ipynb'\n",
        "export_path = basedir + 'solution.py'\n",
        "template_path = basedir + 'submit/Template.ipynb'\n",
        "submission_path = basedir + 'Submission.html'\n",
        "\n",
        "print(\"Converting: {0}\".format(assignment_path))\n",
        "exporter = PythonExporter()\n",
        "# source is a tuple of python source code, meta contains metadata\n",
        "(source, meta) = exporter.from_filename(assignment_path)\n",
        "with open(export_path, 'w+') as fh:\n",
        "    fh.writelines(source)\n",
        "    fh.writelines(\"last_edit = '{}'\".format(meta['metadata']['modified_date']))\n",
        "    \n",
        "# Run solution notebook\n",
        "with open(template_path) as f:\n",
        "    snb = nbformat.read(f, as_version=4)\n",
        "# Already updated to 4000 seconds.\n",
        "ep = ExecutePreprocessor(timeout=4000, kernel_name='python3')\n",
        "\n",
        "try:\n",
        "    print(\"Running notebook... (may take a while)\")\n",
        "    out = ep.preprocess(snb, {'metadata': {'path': './'}})\n",
        "except CellExecutionError:\n",
        "    out = None\n",
        "    msg = 'Error executing the notebook \"%s\".\\n\\n' % template_path\n",
        "    msg += 'See notebook \"%s\" for the traceback.' % template_path\n",
        "    print(msg)\n",
        "    raise\n",
        "finally:\n",
        "    # Save notebook\n",
        "    with open(template_path, mode='w', encoding='utf-8') as f:\n",
        "        nbformat.write(snb, f)\n",
        "\n",
        "# Export as HTML (PDF is too much hassle)\n",
        "print(\"All good. Building report.\")\n",
        "c = Config()\n",
        "c.TagRemovePreprocessor.enabled=True\n",
        "c.TagRemovePreprocessor.remove_input_tags = set([\"hide_input\"])\n",
        "c.preprocessors = [\"TagRemovePreprocessor\"]\n",
        "\n",
        "html_exporter = HTMLExporter(config=c)\n",
        "html_data, resources = html_exporter.from_notebook_node(snb)\n",
        "html_data = html_data.replace('</head>', '<style>pre{font-family: \"Times New Roman\", Times, serif;}</style></head>')\n",
        "\n",
        "with open(submission_path, \"wb\") as f:\n",
        "    f.write(html_data.encode('utf8'))\n",
        "    f.close()\n",
        "#Cleanup\n",
        "#os.remove(\"solution.py\")\n",
        "print(\"Done.\")"
      ],
      "execution_count": 23,
      "outputs": [
        {
          "output_type": "stream",
          "text": [
            "Converting: ./Assignment 3.ipynb\n",
            "Running notebook... (may take a while)\n",
            "All good. Building report.\n",
            "Done.\n"
          ],
          "name": "stdout"
        }
      ]
    },
    {
      "cell_type": "code",
      "metadata": {
        "id": "2WWvPjPCuhE6",
        "colab_type": "code",
        "colab": {}
      },
      "source": [
        ""
      ],
      "execution_count": 0,
      "outputs": []
    }
  ]
}