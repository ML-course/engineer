{
 "cells": [
  {
   "cell_type": "code",
   "execution_count": 1,
   "metadata": {
    "colab": {},
    "colab_type": "code",
    "id": "uPiqHyC_MuLL"
   },
   "outputs": [],
   "source": [
    "# Fill in your name using the format below and student ID number\n",
    "your_name = \"Coremans, Bavo\"\n",
    "student_id = \"0962143\""
   ]
  },
  {
   "cell_type": "code",
   "execution_count": 2,
   "metadata": {},
   "outputs": [],
   "source": [
    "# Before submission, set this to True so that you can render and verify this notebook without training deep learning models.\n",
    "# Any deep learning models will be trained from file instead.\n",
    "stop_training = False"
   ]
  },
  {
   "cell_type": "code",
   "execution_count": 3,
   "metadata": {
    "colab": {
     "base_uri": "https://localhost:8080/",
     "height": 71
    },
    "colab_type": "code",
    "id": "-rAuraOsM22r",
    "outputId": "af1729f6-a9f4-494f-db04-ef9c03d26008"
   },
   "outputs": [],
   "source": [
    "# Uncomment the following line to run in Google Colab\n",
    "# !pip install --quiet openml "
   ]
  },
  {
   "cell_type": "code",
   "execution_count": 4,
   "metadata": {
    "colab": {
     "base_uri": "https://localhost:8080/",
     "height": 35
    },
    "colab_type": "code",
    "id": "OS-d8ziENCs1",
    "outputId": "0bc61a59-66c6-487c-9f32-2aaa2818469e"
   },
   "outputs": [
    {
     "data": {
      "text/plain": [
       "[]"
      ]
     },
     "execution_count": 4,
     "metadata": {},
     "output_type": "execute_result"
    }
   ],
   "source": [
    "# Uncomment the following line to run in Google Colab\n",
    "#%tensorflow_version 2.x\n",
    "import tensorflow as tf\n",
    "tf.config.experimental.list_physical_devices('GPU') # Check whether GPUs are available"
   ]
  },
  {
   "cell_type": "code",
   "execution_count": 5,
   "metadata": {
    "colab": {},
    "colab_type": "code",
    "id": "-iTn6RmNMuLT"
   },
   "outputs": [],
   "source": [
    "%matplotlib inline\n",
    "import openml as oml\n",
    "import numpy as np\n",
    "import matplotlib.pyplot as plt\n",
    "import sklearn"
   ]
  },
  {
   "cell_type": "code",
   "execution_count": 6,
   "metadata": {
    "colab": {
     "base_uri": "https://localhost:8080/",
     "height": 35
    },
    "colab_type": "code",
    "id": "brth0Z_TMuLZ",
    "outputId": "d3ad568e-e9a2-4c40-a93c-9160e4ed1e49"
   },
   "outputs": [
    {
     "name": "stdout",
     "output_type": "stream",
     "text": [
      "Hi Bavo, Looks good. You may continue :)\n"
     ]
    }
   ],
   "source": [
    "from packaging import version\n",
    "import sklearn\n",
    "import tensorflow\n",
    "sklearn_version = sklearn.__version__\n",
    "tensorflow_version = tensorflow.__version__\n",
    "if version.parse(sklearn_version) < version.parse(\"0.22.0\"):\n",
    "    print(\"scikit-learn is outdated. Please update now!\")\n",
    "if version.parse(tensorflow_version) < version.parse(\"2.1.0\"):\n",
    "    print(\"Tensorflow is outdated. This is version {}. Please update to 2.1.\".format(tensorflow_version))\n",
    "else:\n",
    "    print(\"Hi{}, Looks good. You may continue :)\".format(your_name.split(\",\")[1]))"
   ]
  },
  {
   "cell_type": "markdown",
   "metadata": {
    "colab_type": "text",
    "id": "7kdeFjIGMuLv"
   },
   "source": [
    "# Assignment 3"
   ]
  },
  {
   "cell_type": "markdown",
   "metadata": {
    "colab_type": "text",
    "id": "ljhP8DXu-H4j"
   },
   "source": [
    "### Choice of libraries\n",
    "We recommend to use Tensorflow in this assignment since that is what we covered in the labs. If you feel confident using PyTorch (and Skorch for the scikit-learn wrapper), that is allowed too, as long as you are able to implement the requested functions and return the requested data. Read the assignment carefully and ensure that you can. Note that you may also need to do a bit more work to implement certain helper functions and wrappers."
   ]
  },
  {
   "cell_type": "markdown",
   "metadata": {
    "colab_type": "text",
    "id": "-BQG9Kp2EcPc"
   },
   "source": [
    "### Storing and submitting files\n",
    "You must be able to store your models and submit them to GitHub Classroom. The evaluation functions used in this notebook will automatically store models for you.\n",
    "\n",
    "If you want to run and solve the notebook on your local machine/laptop, fill in the path 'base_dir' to your assignment folder into the next cell.\n",
    "\n",
    "If you use Colab, we recommend that you link it to your Google Drive:  \n",
    "* Upload the assignment folder to your Google Drive (+ New > Folder Upload)\n",
    "* Open Colab in a browser, open the 'Files' menu in the left sidebar, and click 'Mount Drive'\n",
    "  * At this point you may need to authenticate\n",
    "* Fill in the path to your assignment folder below\n",
    "  * It's likely '/content/drive/My Drive/assignment-3-yourname'"
   ]
  },
  {
   "cell_type": "code",
   "execution_count": 7,
   "metadata": {
    "colab": {},
    "colab_type": "code",
    "id": "aO6jTIIFHQNU"
   },
   "outputs": [],
   "source": [
    "#base_dir = '/content/drive/My Drive/TestAssignment' # For Google Colab\n",
    "base_dir = './'"
   ]
  },
  {
   "cell_type": "code",
   "execution_count": 8,
   "metadata": {
    "colab": {
     "base_uri": "https://localhost:8080/",
     "height": 127
    },
    "colab_type": "code",
    "id": "HKaM3mwrODBR",
    "outputId": "159fb13d-54c8-43ea-8026-5e4998023e16"
   },
   "outputs": [],
   "source": [
    "#Uncomment to link Colab notebook to Google Drive\n",
    "#from google.colab import drive\n",
    "#drive.mount('/content/drive')"
   ]
  },
  {
   "cell_type": "markdown",
   "metadata": {
    "colab_type": "text",
    "id": "D_BDIpWh92Dk"
   },
   "source": [
    "### Using GPUs\n",
    "While you can solve this assignment on a CPU, using a GPU will speed things up training quite a bit. If you have a local GPU, you can use that. If you don't, we recommend Google Colab. When you are in Colab:\n",
    "* In Runtime > Change runtime type, select the GPU under Hardware Accelerator\n",
    "* Run the 3rd cell on the top of this notebook to check that the GPU is found.\n",
    "\n",
    "Note that Colab may not always have GPUs ready all the time, and may deny you a GPU when you have used them a lot. When you are temporarily 'locked out', you can switch to a non-GPU runtime or to a local instance of Jupyter running on your machine."
   ]
  },
  {
   "cell_type": "markdown",
   "metadata": {
    "colab_type": "text",
    "id": "hq6oPNF546_5"
   },
   "source": [
    "### Constraints\n",
    "* Your stored models should not be larger than 100MB when stored in file. GitHub will not allow uploading if they are.\n",
    "* When questions ask you to provide an explanation, it should be less than 500\n",
    "characters long. Some questions have a higher limit. Always answer in full sentences.\n",
    "* Don't train for more than 100 epochs, i.e. don't throw excessing computational resources at the problem. If your model hasn't converged by then, think of ways it could be made to converge faster. In this assignment you are not after the last tiny improvement, you can stop when learning curves flatten out. Do at least 5 epochs to get a reasonable learning curve."
   ]
  },
  {
   "cell_type": "markdown",
   "metadata": {
    "colab_type": "text",
    "id": "h8wBDNspEvcY"
   },
   "source": [
    "### Grading\n",
    "Grading is based on the following aspects:\n",
    "* Correctness in answering the question. Carefully read the question and answer\n",
    "what is asked for. Train your models on the correct data. It should be clear on which data should be trained, but ask when in doubt. When something is not defined (e.g. the number of epochs or batch size), you can freely choose them.\n",
    "* Clarity of your explanations. Write short but precise descriptions of what you did and why. Give short but clear explanations of the observed performance. \n",
    "After your explanation, your approach and model should make perfect sense. Refrain from using symbols as substitute for words in your explanation (e.g. no: \"More layers -> more parameters\" yes: \"More layers mean more parameters\"). \n",
    "* Part of your grade depends on how well your model performs. When the question says 'you should at least get x%', x% will give you a good but not the maximal grade. You can get the full grade when you are close to what is the expected maximal performance. You don't need to invest lots of effort into the last tiny improvement, though. Unless specified, we look at the accuracy on the validation set. If your learning curves are very erratic we'll compute a score based on the smoothed curves (i.e. single peaks don't count).\n",
    "* The weight of each question is indicated. Take this into account when planning your time."
   ]
  },
  {
   "cell_type": "markdown",
   "metadata": {
    "colab_type": "text",
    "id": "KNyA5dEpR00Z"
   },
   "source": [
    "### Other tips\n",
    "* Don't wait until the last minute to do the assignment. The models take time to train, most questions will require some thinking, and some require you to read up on some new concepts.\n",
    "* Take care that you upload the results as requested. You need to submit not only the notebooks but also the trained models and learning curves (training histories). Be sure to run the verification script and check that all the results are included.\n",
    "* We provide an evaluation function that also stored models to disk. After you are done training the model, set the 'train' attribute to False so that the model doesn't train again (and loads from file instead) when you restart and rerun your notebook.\n",
    "* Explore. For many questions we'll ask you to explain your model design decisions. You cannot magically know the best solutions but you can experiment\n",
    "based on your understanding and make decisions based on both your knowledge and experiments. Your explanation is at least as important as the performance of your model.\n",
    "* Be original. We will check for plagiarism between student submissions."
   ]
  },
  {
   "cell_type": "markdown",
   "metadata": {
    "colab_type": "text",
    "id": "k0nKOZrPJTn8"
   },
   "source": [
    "### Data\n",
    "The [Street View House Numbers Dataset](https://www.openml.org/d/41081) contains 32-by-32 RGB images centered around a single digit of a house number appearing in Google Street View. Many of the images do contain some distractors at the sides. It consists of 10 classes, 1 for each digit. Digit '1' has label 1, '9' has label 9 and '0' has label 10. Your goal is to build models that recognize the correct digit."
   ]
  },
  {
   "cell_type": "markdown",
   "metadata": {
    "colab_type": "text",
    "id": "B8sOA7mEKOSp"
   },
   "source": [
    "If you use Colab, uncomment the following to cache the dataset inside the VM. This will make reloading faster if you need to restart your notebook. After longer periods of inactivity, your VM may be recycled and the cache lost, in which case the dataset will be downloaded again. Also note that this dataset is about 1Gb large, and will take even more space in memory. You may need to switch to a high-RAM environment (Colab will ask you if you hit the limit)."
   ]
  },
  {
   "cell_type": "code",
   "execution_count": 9,
   "metadata": {
    "colab": {},
    "colab_type": "code",
    "id": "Wu9s9dnlJMP0"
   },
   "outputs": [],
   "source": [
    "# Use OpenML caching in Colab\n",
    "# On your local machine, it will store data in a hidden folder '~/.openml'\n",
    "#import os\n",
    "#oml.config.cache_directory = os.path.expanduser('/content/cache')"
   ]
  },
  {
   "cell_type": "code",
   "execution_count": 10,
   "metadata": {
    "colab": {},
    "colab_type": "code",
    "id": "_3o_TT8SMuLy"
   },
   "outputs": [],
   "source": [
    "# Download Streetview data. Takes a while (several minutes), and quite a bit of\n",
    "# memory when it needs to download. After caching it loads faster.\n",
    "SVHN = oml.datasets.get_dataset(41081)\n",
    "X, y, _, _ = SVHN.get_data(dataset_format='array',\n",
    "    target=SVHN.default_target_attribute)"
   ]
  },
  {
   "cell_type": "markdown",
   "metadata": {
    "colab_type": "text",
    "id": "EPwHgeC3MuMI"
   },
   "source": [
    "Reshape, sample and split the data"
   ]
  },
  {
   "cell_type": "code",
   "execution_count": 11,
   "metadata": {
    "colab": {},
    "colab_type": "code",
    "id": "3C14250QOGpL"
   },
   "outputs": [],
   "source": [
    "from tensorflow.keras.utils import to_categorical\n",
    "\n",
    "Xr = X.reshape((len(X),32,32,3))\n",
    "Xr = Xr / 255.\n",
    "yr = to_categorical(y)"
   ]
  },
  {
   "cell_type": "code",
   "execution_count": 12,
   "metadata": {
    "colab": {},
    "colab_type": "code",
    "id": "sbxtRoDcMuMK"
   },
   "outputs": [],
   "source": [
    "# DO NOT EDIT. DO NOT OVERWRITE THESE VARIABLES.\n",
    "from sklearn.model_selection import train_test_split\n",
    "# We do an 80-20 split for the training and test set, and then again a 80-20 split into training and validation data\n",
    "X_train_all, X_test, y_train_all, y_test = train_test_split(Xr,yr, stratify=yr, train_size=0.8, test_size=0.2, random_state=1)\n",
    "X_train, X_val, y_train, y_val = train_test_split(X_train_all,y_train_all, stratify=y_train_all, train_size=0.8, random_state=1)\n",
    "evaluation_split = X_train, X_val, y_train, y_val"
   ]
  },
  {
   "cell_type": "markdown",
   "metadata": {
    "colab_type": "text",
    "id": "gUAf28y2O6ks"
   },
   "source": [
    "Check the formatting - and what the data looks like"
   ]
  },
  {
   "cell_type": "code",
   "execution_count": 13,
   "metadata": {
    "colab": {
     "base_uri": "https://localhost:8080/",
     "height": 141
    },
    "colab_type": "code",
    "id": "QEWsr56hMuL8",
    "outputId": "6b3d17a1-bbc8-46ef-f5c6-66e15f01b963"
   },
   "outputs": [
    {
     "data": {
      "image/png": "[encoded data removed]",
      "text/plain": [
       "<Figure size 720x360 with 5 Axes>"
      ]
     },
     "metadata": {},
     "output_type": "display_data"
    }
   ],
   "source": [
    "from random import randint\n",
    "\n",
    "# Takes a list of row ids, and plots the corresponding images\n",
    "# Use grayscale=True for plotting grayscale images\n",
    "def plot_images(X, y, grayscale=False):\n",
    "    fig, axes = plt.subplots(1, len(X),  figsize=(10, 5))\n",
    "    for n in range(len(X)):\n",
    "        if grayscale:\n",
    "            axes[n].imshow(X[n], cmap='gray')\n",
    "        else:\n",
    "            axes[n].imshow(X[n])\n",
    "        axes[n].set_xlabel((np.argmax(y[n])+1)%10) # Label is index+1\n",
    "        axes[n].set_xticks(()), axes[n].set_yticks(())\n",
    "    plt.show();\n",
    "\n",
    "images = [randint(0,len(X_train)) for i in range(5)]\n",
    "X_random = [X_train[i] for i in images]\n",
    "y_random = [y_train[i] for i in images]\n",
    "plot_images(X_random, y_random)"
   ]
  },
  {
   "cell_type": "markdown",
   "metadata": {
    "colab_type": "text",
    "id": "yUQ22FEawd-J"
   },
   "source": [
    "### Evaluation harness\n",
    "We provide an evaluation function 'run_evaluation' that you should use to \n",
    "evaluate all your models. It also stores the trained models to disk so that\n",
    "your submission can be quickly verified, as well as to avoid having to train\n",
    "them over and over again. Your last run of the evaluation function (the last one\n",
    "stored to file), is the one that will be evaluated. The 'train' argument indicates whether to train or to load from disk. We have provided helper functions for saving and loading models to/from file, assuming you use TensorFlow. If you use PyTorch you'll have to adapt them."
   ]
  },
  {
   "cell_type": "code",
   "execution_count": 14,
   "metadata": {
    "colab": {},
    "colab_type": "code",
    "id": "SFGTq4mUV2zK"
   },
   "outputs": [],
   "source": [
    "import os\n",
    "import pickle\n",
    "import pandas as pd\n",
    "import numpy as np\n",
    "from tensorflow.keras.models import load_model # for use with tensorflow\n",
    "\n",
    "def shout(text, verbose=1):\n",
    "    \"\"\" Prints text in red. Just for fun.\n",
    "    \"\"\"\n",
    "    if verbose>0:\n",
    "        print('\\033[91m'+text+'\\x1b[0m')\n",
    "\n",
    "def load_model_from_file(base_dir, name, extension='.h5'):\n",
    "    \"\"\" Loads a model from a file. The returned model must have a 'fit' and 'summary'\n",
    "    function following the Keras API. Don't change if you use TensorFlow. Otherwise,\n",
    "    adapt as needed. \n",
    "    Keyword arguments:\n",
    "    base_dir -- Directory where the models are stored\n",
    "    name -- Name of the model, e.g. 'question_1_1'\n",
    "    extension -- the file extension\n",
    "    \"\"\"\n",
    "    try:\n",
    "        model = load_model(os.path.join(base_dir, name+extension))\n",
    "    except OSError:\n",
    "        shout(\"Saved model could not be found. Was it trained and stored correctly? Is the base_dir correct?\")\n",
    "        return False\n",
    "    return model\n",
    "\n",
    "def save_model_to_file(model, base_dir, name, extension='.h5'):\n",
    "    \"\"\" Saves a model to file. Don't change if you use TensorFlow. Otherwise,\n",
    "    adapt as needed. \n",
    "    Keyword arguments:\n",
    "    model -- the model to be saved\n",
    "    base_dir -- Directory where the models should be stored\n",
    "    name -- Name of the model, e.g. 'question_1_1'\n",
    "    extension -- the file extension\n",
    "    \"\"\"\n",
    "    model.save(os.path.join(base_dir, name+extension))\n",
    "\n",
    "# Helper function to extract min/max from the learning curves\n",
    "def minMax(x):\n",
    "    return pd.Series(index=['min','max'],data=[x.min(),x.max()])\n",
    "\n",
    "# DO NOT EDIT\n",
    "def run_evaluation(name, model_builder, data, base_dir, train=True, \n",
    "                   generator=False, epochs=3, batch_size=32, steps_per_epoch=60, \n",
    "                   verbose=1, **kwargs):\n",
    "    \"\"\" Trains and evaluates the given model on the predefined train and test splits,\n",
    "    stores the trained model and learning curves. Also prints out a summary of the \n",
    "    model and plots the learning curves.\n",
    "    Keyword arguments:\n",
    "    name -- the name of the model to be stored, e.g. 'question_1_1.h5'\n",
    "    model_builder -- function that returns an (untrained) model. The model must \n",
    "                     have a 'fit' function that follows the Keras API. It can wrap\n",
    "                     a non-Keras model as long as the 'fit' function takes the \n",
    "                     same attributes and returns the learning curves (history).\n",
    "                     It also must have a 'summary' function that prints out a \n",
    "                     model summary, and a 'save' function that saves the model \n",
    "                     to disk. \n",
    "    data -- data split for evaluation. A tuple of either:\n",
    "            * Numpy arrays (X_train, X_val, y_train, y_val)\n",
    "            * A data generator and validation data (generator, X_val, y_val)\n",
    "    base_dir -- the directory to save or read models to/from\n",
    "    train -- whether or not the data should be trained. If False, the trained model\n",
    "             will be loaded from disk.\n",
    "    generator -- whether the data in given as a generator or not\n",
    "    epochs -- the number of epochs to train for\n",
    "    batch_size -- the batch size to train with\n",
    "    steps_per_epoch -- steps per epoch, in case a generator is used (ignored otherwise)\n",
    "    verbose -- verbosity level, 0: silent, 1: minimal,...\n",
    "    kwargs -- keyword arguments that should be passed to model_builder.\n",
    "              Not required, but may help you to adjust its behavior\n",
    "    \"\"\"\n",
    "    model = model_builder(**kwargs)\n",
    "    if not model:\n",
    "        shout(\"No model is returned by the model_builder\")\n",
    "        return\n",
    "    if not hasattr(model, 'fit'):\n",
    "        shout(\"Model is not built correctly\")\n",
    "        return\n",
    "    learning_curves = {}\n",
    "    if train and not stop_training: # Train anew\n",
    "        shout(\"Training the model\", verbose)\n",
    "        if generator:\n",
    "            generator, X_val, y_val = data\n",
    "            history = model.fit(generator, epochs=epochs, batch_size=batch_size,\n",
    "                              steps_per_epoch=steps_per_epoch, verbose=1, \n",
    "                              validation_data=(X_val, y_val))\n",
    "            learning_curves = history.history\n",
    "        else:\n",
    "            X_train, X_val, y_train, y_val = data\n",
    "            history = model.fit(X_train, y_train, epochs=epochs, batch_size=batch_size,\n",
    "                              verbose=1, validation_data=(X_val, y_val))\n",
    "            learning_curves = history.history\n",
    "        shout(\"Saving to file\", verbose)\n",
    "        save_model_to_file(model, base_dir, name)\n",
    "        with open(os.path.join(base_dir, name+'.p'), 'wb') as file_pi:\n",
    "            pickle.dump(learning_curves, file_pi)\n",
    "        shout(\"Model stored in \"+base_dir, verbose)\n",
    "    else: # Load from file\n",
    "        shout(\"Loading model from file\", verbose)\n",
    "        model = load_model_from_file(base_dir, name)\n",
    "        if not model:\n",
    "            shout(\"Model not found\")\n",
    "            return\n",
    "        learning_curves = None\n",
    "        try:\n",
    "            learning_curves = pickle.load(open(os.path.join(base_dir, name+'.p'), \"rb\"))\n",
    "        except FileNotFoundError:\n",
    "            shout(\"Learning curves not found\")\n",
    "            return\n",
    "        shout(\"Success!\", verbose)\n",
    "    # Report\n",
    "    print(model.summary())\n",
    "    lc = pd.DataFrame(learning_curves)\n",
    "    lc.plot(lw=2,style=['b:','r:','b-','r-']);\n",
    "    plt.xlabel('epochs');\n",
    "    print(lc.apply(minMax))"
   ]
  },
  {
   "cell_type": "code",
   "execution_count": 49,
   "metadata": {
    "colab": {
     "base_uri": "https://localhost:8080/",
     "height": 785
    },
    "colab_type": "code",
    "id": "FCzYq_jpkDZO",
    "outputId": "ca26e3ab-8883-4e08-aa8e-20fa7d0f552e"
   },
   "outputs": [],
   "source": [
    "# Toy usage example\n",
    "# Remove before submission\n",
    "from tensorflow.keras import models\n",
    "from tensorflow.keras import layers \n"
   ]
  },
  {
   "cell_type": "code",
   "execution_count": 50,
   "metadata": {
    "colab": {
     "base_uri": "https://localhost:8080/",
     "height": 677
    },
    "colab_type": "code",
    "id": "vKkkQwwdta8r",
    "outputId": "041144bd-3993-4406-b275-74fbb77710c3"
   },
   "outputs": [],
   "source": [
    "# Toy usage example\n",
    "# Remove before submission\n",
    "# With train=False: load from file and report the same results without rerunning\n"
   ]
  },
  {
   "cell_type": "markdown",
   "metadata": {
    "colab_type": "text",
    "id": "IU_zPWGPypce"
   },
   "source": [
    "## Part 1. Dense networks (10 points)\n",
    "\n",
    "### Question 1.1: Baseline model (4 points)\n",
    "- Build a dense network (with only dense layers) of at least 3 layers that is shaped like a pyramid: The first layer must have many nodes, and every subsequent layer must have increasingly fewer nodes, e.g. half as many. Implement a function 'build_model_1_1' that returns this model.\n",
    "- You can explore different settings, but don't use any preprocessing or regularization yet. You should be able to achieve at least 70% accuracy, but more is of course better. Unless otherwise stated, you can use accuracy as the evaluation metric in all questions.\n",
    "* Add a small description of your design choices (max. 500 characters) in 'answer_q_1_1': explain what you did and also why. Also discuss the performance of the model. Is it working well? Both the performance of the model and your explanations matter.\n",
    "- The name of the model should be 'model_1_1'. Evaluate it using the 'run_evaluation' function. For this question, you should not use more than 50 epochs."
   ]
  },
  {
   "cell_type": "code",
   "execution_count": 19,
   "metadata": {
    "colab": {
     "base_uri": "https://localhost:8080/",
     "height": 53
    },
    "colab_type": "code",
    "id": "hci6BIdHJTN0",
    "outputId": "d55ca35d-f1d7-467b-9a08-cb3caa0b75c4",
    "scrolled": true
   },
   "outputs": [
    {
     "name": "stdout",
     "output_type": "stream",
     "text": [
      "\u001b[91mTraining the model\u001b[0m\n",
      "Train on 63544 samples, validate on 15887 samples\n",
      "Epoch 1/15\n",
      "63544/63544 [==============================] - 11s 181us/sample - loss: 2.0478 - accuracy: 0.2801 - val_loss: 1.7662 - val_accuracy: 0.3819\n",
      "Epoch 2/15\n",
      "63544/63544 [==============================] - 11s 173us/sample - loss: 1.5058 - accuracy: 0.5075 - val_loss: 1.3946 - val_accuracy: 0.5679\n",
      "Epoch 3/15\n",
      "63544/63544 [==============================] - 11s 169us/sample - loss: 1.2421 - accuracy: 0.6062 - val_loss: 1.1274 - val_accuracy: 0.6547\n",
      "Epoch 4/15\n",
      "63544/63544 [==============================] - 11s 172us/sample - loss: 1.1121 - accuracy: 0.6541 - val_loss: 1.0434 - val_accuracy: 0.6840\n",
      "Epoch 5/15\n",
      "63544/63544 [==============================] - 11s 171us/sample - loss: 1.0291 - accuracy: 0.6831 - val_loss: 1.0784 - val_accuracy: 0.6709\n",
      "Epoch 6/15\n",
      "63544/63544 [==============================] - 11s 172us/sample - loss: 0.9658 - accuracy: 0.7035 - val_loss: 1.0231 - val_accuracy: 0.6789\n",
      "Epoch 7/15\n",
      "63544/63544 [==============================] - 11s 172us/sample - loss: 0.9123 - accuracy: 0.7207 - val_loss: 0.8910 - val_accuracy: 0.7298\n",
      "Epoch 8/15\n",
      "63544/63544 [==============================] - 11s 175us/sample - loss: 0.8763 - accuracy: 0.7308 - val_loss: 0.8878 - val_accuracy: 0.7317\n",
      "Epoch 9/15\n",
      "63544/63544 [==============================] - 11s 172us/sample - loss: 0.8384 - accuracy: 0.7434 - val_loss: 0.8906 - val_accuracy: 0.7286\n",
      "Epoch 10/15\n",
      "63544/63544 [==============================] - 13s 199us/sample - loss: 0.8131 - accuracy: 0.7514 - val_loss: 0.8525 - val_accuracy: 0.7419\n",
      "Epoch 11/15\n",
      "63544/63544 [==============================] - 11s 179us/sample - loss: 0.7863 - accuracy: 0.7603 - val_loss: 0.8270 - val_accuracy: 0.7517\n",
      "Epoch 12/15\n",
      "63544/63544 [==============================] - 11s 171us/sample - loss: 0.7597 - accuracy: 0.7679 - val_loss: 0.7815 - val_accuracy: 0.7696\n",
      "Epoch 13/15\n",
      "63544/63544 [==============================] - 11s 176us/sample - loss: 0.7384 - accuracy: 0.7762 - val_loss: 0.8744 - val_accuracy: 0.7390\n",
      "Epoch 14/15\n",
      "63544/63544 [==============================] - 11s 173us/sample - loss: 0.7196 - accuracy: 0.7813 - val_loss: 0.7725 - val_accuracy: 0.7645\n",
      "Epoch 15/15\n",
      "63544/63544 [==============================] - 11s 173us/sample - loss: 0.7016 - accuracy: 0.7872 - val_loss: 0.8932 - val_accuracy: 0.7338\n",
      "\u001b[91mSaving to file\u001b[0m\n",
      "\u001b[91mModel stored in ./\u001b[0m\n",
      "Model: \"sequential_4\"\n",
      "_________________________________________________________________\n",
      "Layer (type)                 Output Shape              Param #   \n",
      "=================================================================\n",
      "reshape_4 (Reshape)          (None, 3072)              0         \n",
      "_________________________________________________________________\n",
      "dense_12 (Dense)             (None, 256)               786688    \n",
      "_________________________________________________________________\n",
      "dense_13 (Dense)             (None, 128)               32896     \n",
      "_________________________________________________________________\n",
      "dense_14 (Dense)             (None, 64)                8256      \n",
      "_________________________________________________________________\n",
      "dense_15 (Dense)             (None, 10)                650       \n",
      "=================================================================\n",
      "Total params: 828,490\n",
      "Trainable params: 828,490\n",
      "Non-trainable params: 0\n",
      "_________________________________________________________________\n",
      "None\n",
      "         loss  accuracy  val_loss  val_accuracy\n",
      "min  0.701635  0.280089  0.772481      0.381948\n",
      "max  2.047824  0.787187  1.766187      0.769623\n",
      "Answer is 44 characters long\n"
     ]
    },
    {
     "data": {
      "image/png": "[encoded data removed]",
      "text/plain": [
       "<Figure size 432x288 with 1 Axes>"
      ]
     },
     "metadata": {
      "needs_background": "light"
     },
     "output_type": "display_data"
    }
   ],
   "source": [
    "def build_model_1_1():\n",
    "    model = models.Sequential()\n",
    "    model.add(layers.Reshape((3072,), input_shape=(32,32,3)))\n",
    "    model.add(layers.Dense(256, activation='relu'))\n",
    "    model.add(layers.Dense(128, activation='relu')) # hidden nodes relu or tanh, relu cheap to compute\n",
    "    model.add(layers.Dense(64, activation='relu')) # softmax for classification (or sigmoid)\n",
    "#     model.add(layers.Dense(16, activation='relu'))\n",
    "    model.add(layers.Dense(10, activation='softmax'))\n",
    "    model.compile(optimizer='sgd', # gradient descent\n",
    "                  loss='categorical_crossentropy',\n",
    "                  metrics=['accuracy'])\n",
    "    return model\n",
    "\n",
    "run_evaluation(\"model_1_1\", build_model_1_1, evaluation_split, base_dir, \n",
    "               train=False, epochs=15, batch_size=32)\n",
    "answer_q_1_1 = \"\"\"\n",
    "               More than 3 layers did not seem to improve the model. Using sgd instead of rmsprop as optimizer gave\n",
    "               better results. The model starts overfitting after 11 epochs.\n",
    "               \"\"\"\n",
    "print(\"Answer is {} characters long\".format(len(answer_q_1_1)))"
   ]
  },
  {
   "cell_type": "markdown",
   "metadata": {
    "colab_type": "text",
    "id": "kmicpoNvonjd"
   },
   "source": [
    "### Question 1.2: Preprocessing (2 points)\n",
    "Rerun the model, but now preprocess the data first by converting the images to \n",
    "greyscale. You can use the helper function below. If you want to do additional \n",
    "preprocessing, you can do that here, too.\n",
    "* Store the preprocessed data as a tuple `preprocessed_split`\n",
    "* Rerun and re-evaluate your model using the preprocessed data.\n",
    "  * For the remainder of the assignment, always use the preprocessed data\n",
    "* Explain what you did and interpret the results in 'answer_q_1_2'. Is the model\n",
    "  better, if so, why?"
   ]
  },
  {
   "cell_type": "code",
   "execution_count": 20,
   "metadata": {
    "colab": {},
    "colab_type": "code",
    "id": "_wFGWDQSqkIM"
   },
   "outputs": [],
   "source": [
    "# Luminance-preserving RGB to greyscale conversion\n",
    "def rgb2gray(X):\n",
    "    return np.expand_dims(np.dot(X, [0.2990, 0.5870, 0.1140]), axis=3)"
   ]
  },
  {
   "cell_type": "code",
   "execution_count": 30,
   "metadata": {
    "colab": {
     "base_uri": "https://localhost:8080/",
     "height": 53
    },
    "colab_type": "code",
    "id": "3aTVsLaojNeM",
    "outputId": "7ce47d0b-a86f-476b-b1ab-bce088c17a8e",
    "scrolled": true
   },
   "outputs": [
    {
     "name": "stdout",
     "output_type": "stream",
     "text": [
      "\u001b[91mTraining the model\u001b[0m\n",
      "Train on 63544 samples, validate on 15887 samples\n",
      "Epoch 1/15\n",
      "63544/63544 [==============================] - 8s 129us/sample - loss: 2.1567 - accuracy: 0.2367 - val_loss: 1.9741 - val_accuracy: 0.3196\n",
      "Epoch 2/15\n",
      "63544/63544 [==============================] - 8s 119us/sample - loss: 1.7089 - accuracy: 0.4282 - val_loss: 1.5470 - val_accuracy: 0.4760\n",
      "Epoch 3/15\n",
      "63544/63544 [==============================] - 8s 119us/sample - loss: 1.3711 - accuracy: 0.5632 - val_loss: 1.3743 - val_accuracy: 0.5387\n",
      "Epoch 4/15\n",
      "63544/63544 [==============================] - 8s 125us/sample - loss: 1.1991 - accuracy: 0.6256 - val_loss: 1.1335 - val_accuracy: 0.6546\n",
      "Epoch 5/15\n",
      "63544/63544 [==============================] - 8s 123us/sample - loss: 1.0979 - accuracy: 0.6623 - val_loss: 1.1096 - val_accuracy: 0.6530\n",
      "Epoch 6/15\n",
      "63544/63544 [==============================] - 8s 124us/sample - loss: 1.0267 - accuracy: 0.6840 - val_loss: 0.9916 - val_accuracy: 0.7004\n",
      "Epoch 7/15\n",
      "63544/63544 [==============================] - 8s 124us/sample - loss: 0.9678 - accuracy: 0.7033 - val_loss: 0.9837 - val_accuracy: 0.6986\n",
      "Epoch 8/15\n",
      "63544/63544 [==============================] - 8s 122us/sample - loss: 0.9183 - accuracy: 0.7190 - val_loss: 0.8930 - val_accuracy: 0.7307\n",
      "Epoch 9/15\n",
      "63544/63544 [==============================] - 8s 123us/sample - loss: 0.8805 - accuracy: 0.7314 - val_loss: 0.9966 - val_accuracy: 0.6878\n",
      "Epoch 10/15\n",
      "63544/63544 [==============================] - 8s 126us/sample - loss: 0.8497 - accuracy: 0.7407 - val_loss: 0.9334 - val_accuracy: 0.7093\n",
      "Epoch 11/15\n",
      "63544/63544 [==============================] - 8s 118us/sample - loss: 0.8208 - accuracy: 0.7497 - val_loss: 0.8365 - val_accuracy: 0.7506\n",
      "Epoch 12/15\n",
      "63544/63544 [==============================] - 7s 118us/sample - loss: 0.7946 - accuracy: 0.7584 - val_loss: 0.8391 - val_accuracy: 0.7494\n",
      "Epoch 13/15\n",
      "63544/63544 [==============================] - 8s 118us/sample - loss: 0.7699 - accuracy: 0.7651 - val_loss: 0.7936 - val_accuracy: 0.7626\n",
      "Epoch 14/15\n",
      "63544/63544 [==============================] - 8s 119us/sample - loss: 0.7494 - accuracy: 0.7739 - val_loss: 0.8204 - val_accuracy: 0.7534\n",
      "Epoch 15/15\n",
      "63544/63544 [==============================] - 8s 132us/sample - loss: 0.7319 - accuracy: 0.7787 - val_loss: 0.7607 - val_accuracy: 0.7730\n",
      "\u001b[91mSaving to file\u001b[0m\n",
      "\u001b[91mModel stored in ./\u001b[0m\n",
      "Model: \"sequential_13\"\n",
      "_________________________________________________________________\n",
      "Layer (type)                 Output Shape              Param #   \n",
      "=================================================================\n",
      "reshape_10 (Reshape)         (None, 1024)              0         \n",
      "_________________________________________________________________\n",
      "dense_48 (Dense)             (None, 256)               262400    \n",
      "_________________________________________________________________\n",
      "dense_49 (Dense)             (None, 128)               32896     \n",
      "_________________________________________________________________\n",
      "dense_50 (Dense)             (None, 64)                8256      \n",
      "_________________________________________________________________\n",
      "dense_51 (Dense)             (None, 10)                650       \n",
      "=================================================================\n",
      "Total params: 304,202\n",
      "Trainable params: 304,202\n",
      "Non-trainable params: 0\n",
      "_________________________________________________________________\n",
      "None\n",
      "         loss  accuracy  val_loss  val_accuracy\n",
      "min  0.731910  0.236686  0.760690      0.319632\n",
      "max  2.156706  0.778657  1.974091      0.773022\n",
      "Answer is 44 characters long\n"
     ]
    },
    {
     "data": {
      "image/png": "[encoded data removed]",
      "text/plain": [
       "<Figure size 432x288 with 1 Axes>"
      ]
     },
     "metadata": {
      "needs_background": "light"
     },
     "output_type": "display_data"
    }
   ],
   "source": [
    "# Replace with the preprocessed data\n",
    "preprocessed_split = rgb2gray(X_train), rgb2gray(X_val), y_train, y_val\n",
    "\n",
    "# Adjusted model\n",
    "def build_model_1_2():\n",
    "    model = models.Sequential()\n",
    "    model.add(layers.Reshape((1024,), input_shape=(32,32,1)))\n",
    "    model.add(layers.Dense(256, activation='relu'))\n",
    "    model.add(layers.Dense(128, activation='relu')) # hidden nodes relu or tanh, relu cheap to compute\n",
    "    model.add(layers.Dense(64, activation='relu')) # softmax for classification (or sigmoid)\n",
    "#     model.add(layers.Dense(16, activation='relu'))\n",
    "    model.add(layers.Dense(10, activation='softmax'))\n",
    "    model.compile(optimizer='sgd', # gradient descent\n",
    "                  loss='categorical_crossentropy',\n",
    "                  metrics=['accuracy'])\n",
    "    return model\n",
    "\n",
    "# Evaluate. Use a new name 'model_1_2' to not overwrite the previous trained model\n",
    "run_evaluation(\"model_1_2\", build_model_1_2, preprocessed_split, base_dir, \n",
    "               train=False, epochs=15, batch_size=32)\n",
    "answer_q_1_2 = \"\"\"\n",
    "               The input shape had to be adjusted when switching to grayscale. The model is slightly better. \n",
    "               \"\"\"\n",
    "print(\"Answer is {} characters long\".format(len(answer_q_1_2)))"
   ]
  },
  {
   "cell_type": "markdown",
   "metadata": {
    "colab_type": "text",
    "id": "7l1pHwimiWQI"
   },
   "source": [
    "### Question 1.3: Regularization and tuning (4 points)\n",
    "* Regularize the model. You can explore (and combine) different techniques. What works best?\n",
    "* Tune other hyperparameters (e.g. learning rate, batch size,...) as you see fit.\n",
    "* Explain your findings and final design decisions. Retrain the model again on the preprocessed data and discuss the results.\n",
    "* Return your model in function 'build_model_1_3' and write your answer in 'answer_q_1_3'"
   ]
  },
  {
   "cell_type": "code",
   "execution_count": 37,
   "metadata": {
    "colab": {
     "base_uri": "https://localhost:8080/",
     "height": 53
    },
    "colab_type": "code",
    "id": "2ZZenVX1jDIQ",
    "outputId": "21294110-1f3e-4555-f3f3-a24bae135de5"
   },
   "outputs": [
    {
     "name": "stdout",
     "output_type": "stream",
     "text": [
      "\u001b[91mTraining the model\u001b[0m\n",
      "Train on 63544 samples, validate on 15887 samples\n",
      "Epoch 1/40\n",
      "63544/63544 [==============================] - 11s 175us/sample - loss: 2.8991 - accuracy: 0.1842 - val_loss: 2.8439 - val_accuracy: 0.1910\n",
      "Epoch 2/40\n",
      "63544/63544 [==============================] - 10s 160us/sample - loss: 2.7896 - accuracy: 0.2018 - val_loss: 2.6781 - val_accuracy: 0.2513\n",
      "Epoch 3/40\n",
      "63544/63544 [==============================] - 10s 160us/sample - loss: 2.6132 - accuracy: 0.2703 - val_loss: 2.4550 - val_accuracy: 0.3762\n",
      "Epoch 4/40\n",
      "63544/63544 [==============================] - 10s 161us/sample - loss: 2.4078 - accuracy: 0.3366 - val_loss: 2.2212 - val_accuracy: 0.3944\n",
      "Epoch 5/40\n",
      "63544/63544 [==============================] - 10s 160us/sample - loss: 2.2725 - accuracy: 0.3769 - val_loss: 2.1315 - val_accuracy: 0.4154\n",
      "Epoch 6/40\n",
      "63544/63544 [==============================] - 10s 160us/sample - loss: 2.1704 - accuracy: 0.4109 - val_loss: 1.9994 - val_accuracy: 0.4974\n",
      "Epoch 7/40\n",
      "63544/63544 [==============================] - 10s 160us/sample - loss: 2.0872 - accuracy: 0.4362 - val_loss: 1.8955 - val_accuracy: 0.5118\n",
      "Epoch 8/40\n",
      "63544/63544 [==============================] - 10s 160us/sample - loss: 2.0016 - accuracy: 0.4610 - val_loss: 1.7957 - val_accuracy: 0.5516\n",
      "Epoch 9/40\n",
      "63544/63544 [==============================] - 10s 160us/sample - loss: 1.9387 - accuracy: 0.4801 - val_loss: 1.8094 - val_accuracy: 0.5292\n",
      "Epoch 10/40\n",
      "63544/63544 [==============================] - 10s 161us/sample - loss: 1.8826 - accuracy: 0.4941 - val_loss: 1.6616 - val_accuracy: 0.5955\n",
      "Epoch 11/40\n",
      "63544/63544 [==============================] - 10s 160us/sample - loss: 1.8297 - accuracy: 0.5114 - val_loss: 1.6229 - val_accuracy: 0.6029\n",
      "Epoch 12/40\n",
      "63544/63544 [==============================] - 10s 159us/sample - loss: 1.7877 - accuracy: 0.5214 - val_loss: 1.5570 - val_accuracy: 0.6254\n",
      "Epoch 13/40\n",
      "63544/63544 [==============================] - 10s 160us/sample - loss: 1.7483 - accuracy: 0.5345 - val_loss: 1.6123 - val_accuracy: 0.5893\n",
      "Epoch 14/40\n",
      "63544/63544 [==============================] - 10s 160us/sample - loss: 1.7096 - accuracy: 0.5444 - val_loss: 1.5136 - val_accuracy: 0.6279\n",
      "Epoch 15/40\n",
      "63544/63544 [==============================] - 10s 159us/sample - loss: 1.6809 - accuracy: 0.5540 - val_loss: 1.4988 - val_accuracy: 0.6308\n",
      "Epoch 16/40\n",
      "63544/63544 [==============================] - 10s 161us/sample - loss: 1.6504 - accuracy: 0.5616 - val_loss: 1.4421 - val_accuracy: 0.6502\n",
      "Epoch 17/40\n",
      "63544/63544 [==============================] - 10s 161us/sample - loss: 1.6197 - accuracy: 0.5685 - val_loss: 1.4210 - val_accuracy: 0.6598\n",
      "Epoch 18/40\n",
      "63544/63544 [==============================] - 10s 163us/sample - loss: 1.5981 - accuracy: 0.5768 - val_loss: 1.3727 - val_accuracy: 0.6677\n",
      "Epoch 19/40\n",
      "63544/63544 [==============================] - 10s 160us/sample - loss: 1.5749 - accuracy: 0.5818 - val_loss: 1.3794 - val_accuracy: 0.6556\n",
      "Epoch 20/40\n",
      "63544/63544 [==============================] - 10s 159us/sample - loss: 1.5567 - accuracy: 0.5859 - val_loss: 1.3345 - val_accuracy: 0.6875\n",
      "Epoch 21/40\n",
      "63544/63544 [==============================] - 10s 159us/sample - loss: 1.5340 - accuracy: 0.5930 - val_loss: 1.3198 - val_accuracy: 0.6845\n",
      "Epoch 22/40\n",
      "63544/63544 [==============================] - 10s 160us/sample - loss: 1.5191 - accuracy: 0.5976 - val_loss: 1.3325 - val_accuracy: 0.6686\n",
      "Epoch 23/40\n",
      "63544/63544 [==============================] - 10s 159us/sample - loss: 1.5084 - accuracy: 0.6009 - val_loss: 1.2893 - val_accuracy: 0.6856\n",
      "Epoch 24/40\n",
      "63544/63544 [==============================] - 10s 160us/sample - loss: 1.4912 - accuracy: 0.6042 - val_loss: 1.3036 - val_accuracy: 0.6829\n",
      "Epoch 25/40\n",
      "63544/63544 [==============================] - 10s 160us/sample - loss: 1.4812 - accuracy: 0.6075 - val_loss: 1.2891 - val_accuracy: 0.6839\n",
      "Epoch 26/40\n",
      "63544/63544 [==============================] - 10s 159us/sample - loss: 1.4709 - accuracy: 0.6086 - val_loss: 1.2543 - val_accuracy: 0.7064\n",
      "Epoch 27/40\n",
      "63544/63544 [==============================] - 10s 159us/sample - loss: 1.4565 - accuracy: 0.6141 - val_loss: 1.2655 - val_accuracy: 0.7011\n",
      "Epoch 28/40\n",
      "63544/63544 [==============================] - 10s 160us/sample - loss: 1.4459 - accuracy: 0.6153 - val_loss: 1.3024 - val_accuracy: 0.6768\n",
      "Epoch 29/40\n",
      "63544/63544 [==============================] - 10s 163us/sample - loss: 1.4398 - accuracy: 0.6174 - val_loss: 1.2012 - val_accuracy: 0.7174\n",
      "Epoch 30/40\n",
      "63544/63544 [==============================] - 10s 160us/sample - loss: 1.4294 - accuracy: 0.6211 - val_loss: 1.2108 - val_accuracy: 0.7191\n",
      "Epoch 31/40\n",
      "63544/63544 [==============================] - 10s 160us/sample - loss: 1.4192 - accuracy: 0.6249 - val_loss: 1.1965 - val_accuracy: 0.7181\n",
      "Epoch 32/40\n",
      "63544/63544 [==============================] - 10s 162us/sample - loss: 1.4117 - accuracy: 0.6272 - val_loss: 1.1992 - val_accuracy: 0.7123\n",
      "Epoch 33/40\n",
      "63544/63544 [==============================] - 10s 165us/sample - loss: 1.4087 - accuracy: 0.6283 - val_loss: 1.3162 - val_accuracy: 0.6627\n",
      "Epoch 34/40\n",
      "63544/63544 [==============================] - 10s 158us/sample - loss: 1.3998 - accuracy: 0.6308 - val_loss: 1.2195 - val_accuracy: 0.7131\n",
      "Epoch 35/40\n",
      "63544/63544 [==============================] - 10s 157us/sample - loss: 1.3930 - accuracy: 0.6321 - val_loss: 1.2179 - val_accuracy: 0.7033\n",
      "Epoch 36/40\n",
      "63544/63544 [==============================] - 10s 157us/sample - loss: 1.3904 - accuracy: 0.6325 - val_loss: 1.1730 - val_accuracy: 0.7248\n",
      "Epoch 37/40\n",
      "63544/63544 [==============================] - 10s 156us/sample - loss: 1.3858 - accuracy: 0.6354 - val_loss: 1.1898 - val_accuracy: 0.7252\n",
      "Epoch 38/40\n",
      "63544/63544 [==============================] - 10s 156us/sample - loss: 1.3787 - accuracy: 0.6382 - val_loss: 1.1512 - val_accuracy: 0.7329\n",
      "Epoch 39/40\n",
      "63544/63544 [==============================] - 10s 158us/sample - loss: 1.3746 - accuracy: 0.6385 - val_loss: 1.1722 - val_accuracy: 0.7207\n",
      "Epoch 40/40\n",
      "63544/63544 [==============================] - 10s 157us/sample - loss: 1.3698 - accuracy: 0.6400 - val_loss: 1.1499 - val_accuracy: 0.7346\n",
      "\u001b[91mSaving to file\u001b[0m\n",
      "\u001b[91mModel stored in ./\u001b[0m\n",
      "Model: \"sequential_20\"\n",
      "_________________________________________________________________\n",
      "Layer (type)                 Output Shape              Param #   \n",
      "=================================================================\n",
      "reshape_17 (Reshape)         (None, 1024)              0         \n",
      "_________________________________________________________________\n",
      "dense_72 (Dense)             (None, 256)               262400    \n",
      "_________________________________________________________________\n",
      "dropout_9 (Dropout)          (None, 256)               0         \n",
      "_________________________________________________________________\n",
      "dense_73 (Dense)             (None, 128)               32896     \n",
      "_________________________________________________________________\n",
      "dropout_10 (Dropout)         (None, 128)               0         \n",
      "_________________________________________________________________\n",
      "dense_74 (Dense)             (None, 64)                8256      \n",
      "_________________________________________________________________\n",
      "dropout_11 (Dropout)         (None, 64)                0         \n",
      "_________________________________________________________________\n",
      "dense_75 (Dense)             (None, 10)                650       \n",
      "=================================================================\n",
      "Total params: 304,202\n",
      "Trainable params: 304,202\n",
      "Non-trainable params: 0\n",
      "_________________________________________________________________\n",
      "None\n",
      "         loss  accuracy  val_loss  val_accuracy\n",
      "min  1.369818  0.184235  1.149859      0.190974\n",
      "max  2.899093  0.640045  2.843925      0.734563\n",
      "Answer is 44 characters long\n"
     ]
    },
    {
     "data": {
      "image/png": "[encoded data removed]",
      "text/plain": [
       "<Figure size 432x288 with 1 Axes>"
      ]
     },
     "metadata": {
      "needs_background": "light"
     },
     "output_type": "display_data"
    }
   ],
   "source": [
    "from tensorflow.keras import regularizers\n",
    "\n",
    "def build_model_1_3():\n",
    "    model = models.Sequential()\n",
    "    model.add(layers.Reshape((1024,), input_shape=(32,32,1)))\n",
    "    model.add(layers.Dense(256, kernel_regularizer=regularizers.l2(0.001), activation='relu'))\n",
    "    model.add(layers.Dropout(0.5)) # 0.2-0.5\n",
    "    model.add(layers.Dense(128, kernel_regularizer=regularizers.l2(0.001), activation='relu')) # hidden nodes relu or tanh, relu cheap to compute\n",
    "    model.add(layers.Dropout(0.3))\n",
    "    model.add(layers.Dense(64, kernel_regularizer=regularizers.l2(0.001), activation='relu')) # softmax for classification (or sigmoid)\n",
    "    model.add(layers.Dropout(0.2))\n",
    "#     model.add(layers.Dense(16, activation='relu'))\n",
    "    model.add(layers.Dense(10, kernel_regularizer=regularizers.l2(0.001), activation='softmax'))\n",
    "    model.compile(optimizer='sgd', # gradient descent\n",
    "                  loss='categorical_crossentropy',\n",
    "                  metrics=['accuracy'])\n",
    "    return model\n",
    "\n",
    "run_evaluation(\"model_1_3\", build_model_1_3, preprocessed_split, base_dir, \n",
    "               train=False, epochs=40, batch_size=32)\n",
    "answer_q_1_3 = \"\"\"\n",
    "               Using a dropout of 0.5 between all layers, prevented the model from learning at a descent rate.\n",
    "               making this lower on later layers gave better results. The l2 regularizer also had a positive effect.\n",
    "               \"\"\"\n",
    "print(\"Answer is {} characters long\".format(len(answer_q_1_3)))"
   ]
  },
  {
   "cell_type": "markdown",
   "metadata": {
    "colab_type": "text",
    "id": "leo7YbI9L5et"
   },
   "source": [
    "## Part 2. Convolutional neural networks (10 points)\n",
    "### Question 2.1: Design a ConvNet (7 points)\n",
    "- Build a sequential convolutional neural network. Try to achieve the best validation accuracy you can. You should be able to get at least 90% accuracy. You can use any depth, any combination of layers, and any kind of regularization and tuning. \n",
    "- Add a description of your design choices in 'answer_q_2_1': explain what you did and also why. Also discuss the performance of the model. Is it working well? Both the performance of the model and your explanations matter.\n",
    "- You are allowed **800** characters for this answer (but don’t ramble).\n",
    "- The name of the model should be 'model_2_1'. Evaluate it using the 'run_evaluation' function and the preprocessed data."
   ]
  },
  {
   "cell_type": "code",
   "execution_count": 41,
   "metadata": {
    "colab": {
     "base_uri": "https://localhost:8080/",
     "height": 53
    },
    "colab_type": "code",
    "id": "ceyv-n1JRYyP",
    "outputId": "818e2fd1-77c1-4236-a8ee-dec7d9eb8a9e"
   },
   "outputs": [
    {
     "name": "stdout",
     "output_type": "stream",
     "text": [
      "\u001b[91mTraining the model\u001b[0m\n",
      "Train on 63544 samples, validate on 15887 samples\n",
      "Epoch 1/15\n",
      "63544/63544 [==============================] - 52s 813us/sample - loss: 2.2347 - accuracy: 0.1906 - val_loss: 2.2254 - val_accuracy: 0.1910\n",
      "Epoch 2/15\n",
      "63544/63544 [==============================] - 55s 866us/sample - loss: 2.1580 - accuracy: 0.2330 - val_loss: 1.8533 - val_accuracy: 0.3770\n",
      "Epoch 3/15\n",
      "63544/63544 [==============================] - 56s 887us/sample - loss: 1.1308 - accuracy: 0.6543 - val_loss: 0.8021 - val_accuracy: 0.7689\n",
      "Epoch 4/15\n",
      "63544/63544 [==============================] - 57s 904us/sample - loss: 0.6822 - accuracy: 0.8048 - val_loss: 0.6121 - val_accuracy: 0.8289\n",
      "Epoch 5/15\n",
      "63544/63544 [==============================] - 57s 904us/sample - loss: 0.5680 - accuracy: 0.8366 - val_loss: 0.5413 - val_accuracy: 0.8431\n",
      "Epoch 6/15\n",
      "63544/63544 [==============================] - 57s 897us/sample - loss: 0.5010 - accuracy: 0.8558 - val_loss: 0.5004 - val_accuracy: 0.8547\n",
      "Epoch 7/15\n",
      "63544/63544 [==============================] - 52s 820us/sample - loss: 0.4569 - accuracy: 0.8678 - val_loss: 0.4830 - val_accuracy: 0.8592\n",
      "Epoch 8/15\n",
      "63544/63544 [==============================] - 58s 911us/sample - loss: 0.4197 - accuracy: 0.8775 - val_loss: 0.4349 - val_accuracy: 0.8715\n",
      "Epoch 9/15\n",
      "63544/63544 [==============================] - 58s 906us/sample - loss: 0.3931 - accuracy: 0.8865 - val_loss: 0.4271 - val_accuracy: 0.8746\n",
      "Epoch 10/15\n",
      "63544/63544 [==============================] - 59s 930us/sample - loss: 0.3693 - accuracy: 0.8935 - val_loss: 0.4054 - val_accuracy: 0.8823\n",
      "Epoch 11/15\n",
      "63544/63544 [==============================] - 60s 951us/sample - loss: 0.3502 - accuracy: 0.8985 - val_loss: 0.4571 - val_accuracy: 0.8629\n",
      "Epoch 12/15\n",
      "63544/63544 [==============================] - 59s 934us/sample - loss: 0.3316 - accuracy: 0.9049 - val_loss: 0.3851 - val_accuracy: 0.8916\n",
      "Epoch 13/15\n",
      "63544/63544 [==============================] - 59s 922us/sample - loss: 0.3155 - accuracy: 0.9099 - val_loss: 0.3913 - val_accuracy: 0.8854\n",
      "Epoch 14/15\n",
      "63544/63544 [==============================] - 59s 936us/sample - loss: 0.3015 - accuracy: 0.9148 - val_loss: 0.3699 - val_accuracy: 0.8954\n",
      "Epoch 15/15\n",
      "63544/63544 [==============================] - 62s 970us/sample - loss: 0.2879 - accuracy: 0.9172 - val_loss: 0.3693 - val_accuracy: 0.8953\n",
      "\u001b[91mSaving to file\u001b[0m\n",
      "\u001b[91mModel stored in ./\u001b[0m\n",
      "Model: \"sequential_24\"\n",
      "_________________________________________________________________\n",
      "Layer (type)                 Output Shape              Param #   \n",
      "=================================================================\n",
      "conv2d_9 (Conv2D)            (None, 30, 30, 32)        320       \n",
      "_________________________________________________________________\n",
      "max_pooling2d_6 (MaxPooling2 (None, 15, 15, 32)        0         \n",
      "_________________________________________________________________\n",
      "conv2d_10 (Conv2D)           (None, 13, 13, 64)        18496     \n",
      "_________________________________________________________________\n",
      "max_pooling2d_7 (MaxPooling2 (None, 6, 6, 64)          0         \n",
      "_________________________________________________________________\n",
      "conv2d_11 (Conv2D)           (None, 4, 4, 64)          36928     \n",
      "_________________________________________________________________\n",
      "flatten_3 (Flatten)          (None, 1024)              0         \n",
      "_________________________________________________________________\n",
      "dense_82 (Dense)             (None, 64)                65600     \n",
      "_________________________________________________________________\n",
      "dense_83 (Dense)             (None, 10)                650       \n",
      "=================================================================\n",
      "Total params: 121,994\n",
      "Trainable params: 121,994\n",
      "Non-trainable params: 0\n",
      "_________________________________________________________________\n",
      "None\n",
      "         loss  accuracy  val_loss  val_accuracy\n",
      "min  0.287888  0.190624  0.369263      0.190974\n",
      "max  2.234655  0.917160  2.225403      0.895449\n",
      "Answer is 44 characters long\n"
     ]
    },
    {
     "data": {
      "image/png": "[encoded data removed]",
      "text/plain": [
       "<Figure size 432x288 with 1 Axes>"
      ]
     },
     "metadata": {
      "needs_background": "light"
     },
     "output_type": "display_data"
    }
   ],
   "source": [
    "def build_model_2_1():\n",
    "    model = models.Sequential()\n",
    "    model.add(layers.Conv2D(32, (3, 3), activation='relu', input_shape=(32, 32, 1)))\n",
    "    model.add(layers.MaxPooling2D((2, 2)))\n",
    "    model.add(layers.Conv2D(64, (3, 3), activation='relu'))\n",
    "    model.add(layers.MaxPooling2D((2, 2)))\n",
    "    model.add(layers.Conv2D(64, (3, 3), activation='relu'))\n",
    "    model.add(layers.Flatten())\n",
    "    model.add(layers.Dense(64, activation='relu'))\n",
    "    model.add(layers.Dense(10, activation='softmax'))\n",
    "    model.compile(optimizer='sgd', # gradient descent\n",
    "                  loss='categorical_crossentropy',\n",
    "                  metrics=['accuracy'])\n",
    "    return model\n",
    "\n",
    "run_evaluation(\"model_2_1\", build_model_2_1, preprocessed_split, base_dir, \n",
    "               train=False, epochs=15, batch_size=32)\n",
    "answer_q_2_1 = \"\"\"\n",
    "               The images are quite small, so the capacity of the model did not need to be that big.\n",
    "               \"\"\"\n",
    "print(\"Answer is {} characters long\".format(len(answer_q_2_1)))"
   ]
  },
  {
   "cell_type": "markdown",
   "metadata": {
    "colab_type": "text",
    "id": "EpdLTbPwXmOc"
   },
   "source": [
    "### Question 2.2: Data Augmentation (3 points)\n",
    "\n",
    "- Augment the preprocessed training data. You can explore using image shifts, rotations, zooming, flips, etc. What works well, and what does not?\n",
    "- Evaluate the model from question 2.1 with the augmented data using the 'run_evaluation' function. Store the new trained model as 'model_2_2'.\n",
    "- Add a description of your design choices in 'answer_q_2_2': explain what you did and also why. Also discuss the performance of the model."
   ]
  },
  {
   "cell_type": "code",
   "execution_count": 45,
   "metadata": {
    "colab": {
     "base_uri": "https://localhost:8080/",
     "height": 53
    },
    "colab_type": "code",
    "id": "cp8wMUU-aqhQ",
    "outputId": "4cdfe1e6-2c8f-4f19-ca46-cd283fe66113"
   },
   "outputs": [
    {
     "name": "stdout",
     "output_type": "stream",
     "text": [
      "\u001b[91mTraining the model\u001b[0m\n",
      "Train on 63544 samples, validate on 15887 samples\n",
      "Epoch 1/15\n",
      "63544/63544 [==============================] - 40s 635us/sample - loss: 2.2266 - accuracy: 0.1922 - val_loss: 2.1959 - val_accuracy: 0.2197\n",
      "Epoch 2/15\n",
      "63544/63544 [==============================] - 39s 618us/sample - loss: 1.7202 - accuracy: 0.4215 - val_loss: 1.0238 - val_accuracy: 0.7020\n",
      "Epoch 3/15\n",
      "63544/63544 [==============================] - 42s 665us/sample - loss: 0.8263 - accuracy: 0.7565 - val_loss: 0.7670 - val_accuracy: 0.7728\n",
      "Epoch 4/15\n",
      "63544/63544 [==============================] - 42s 657us/sample - loss: 0.6258 - accuracy: 0.8192 - val_loss: 0.5702 - val_accuracy: 0.8400\n",
      "Epoch 5/15\n",
      "63544/63544 [==============================] - 44s 693us/sample - loss: 0.5407 - accuracy: 0.8426 - val_loss: 0.5481 - val_accuracy: 0.8441\n",
      "Epoch 6/15\n",
      "63544/63544 [==============================] - 43s 675us/sample - loss: 0.4942 - accuracy: 0.8583 - val_loss: 0.5179 - val_accuracy: 0.8547\n",
      "Epoch 7/15\n",
      "63544/63544 [==============================] - 42s 660us/sample - loss: 0.4559 - accuracy: 0.8679 - val_loss: 0.4943 - val_accuracy: 0.8561\n",
      "Epoch 8/15\n",
      "63544/63544 [==============================] - 44s 687us/sample - loss: 0.4255 - accuracy: 0.8767 - val_loss: 0.4646 - val_accuracy: 0.8673\n",
      "Epoch 9/15\n",
      "63544/63544 [==============================] - 45s 711us/sample - loss: 0.4009 - accuracy: 0.8844 - val_loss: 0.4705 - val_accuracy: 0.8630\n",
      "Epoch 10/15\n",
      "63544/63544 [==============================] - 43s 682us/sample - loss: 0.3791 - accuracy: 0.8900 - val_loss: 0.4480 - val_accuracy: 0.8696\n",
      "Epoch 11/15\n",
      "63544/63544 [==============================] - 44s 689us/sample - loss: 0.3607 - accuracy: 0.8958 - val_loss: 0.4123 - val_accuracy: 0.8822\n",
      "Epoch 12/15\n",
      "63544/63544 [==============================] - 43s 676us/sample - loss: 0.3440 - accuracy: 0.9000 - val_loss: 0.4188 - val_accuracy: 0.8827\n",
      "Epoch 13/15\n",
      "63544/63544 [==============================] - 44s 693us/sample - loss: 0.3275 - accuracy: 0.9059 - val_loss: 0.4078 - val_accuracy: 0.8844\n",
      "Epoch 14/15\n",
      "63544/63544 [==============================] - 43s 679us/sample - loss: 0.3131 - accuracy: 0.9098 - val_loss: 0.4017 - val_accuracy: 0.8875\n",
      "Epoch 15/15\n",
      "63544/63544 [==============================] - 43s 680us/sample - loss: 0.2991 - accuracy: 0.9144 - val_loss: 0.3928 - val_accuracy: 0.8916\n",
      "\u001b[91mSaving to file\u001b[0m\n",
      "\u001b[91mModel stored in ./\u001b[0m\n",
      "Model: \"sequential_26\"\n",
      "_________________________________________________________________\n",
      "Layer (type)                 Output Shape              Param #   \n",
      "=================================================================\n",
      "conv2d_15 (Conv2D)           (None, 30, 30, 32)        320       \n",
      "_________________________________________________________________\n",
      "max_pooling2d_10 (MaxPooling (None, 15, 15, 32)        0         \n",
      "_________________________________________________________________\n",
      "conv2d_16 (Conv2D)           (None, 13, 13, 64)        18496     \n",
      "_________________________________________________________________\n",
      "max_pooling2d_11 (MaxPooling (None, 6, 6, 64)          0         \n",
      "_________________________________________________________________\n",
      "conv2d_17 (Conv2D)           (None, 4, 4, 64)          36928     \n",
      "_________________________________________________________________\n",
      "flatten_5 (Flatten)          (None, 1024)              0         \n",
      "_________________________________________________________________\n",
      "dense_86 (Dense)             (None, 64)                65600     \n",
      "_________________________________________________________________\n",
      "dense_87 (Dense)             (None, 10)                650       \n",
      "=================================================================\n",
      "Total params: 121,994\n",
      "Trainable params: 121,994\n",
      "Non-trainable params: 0\n",
      "_________________________________________________________________\n",
      "None\n",
      "         loss  accuracy  val_loss  val_accuracy\n",
      "min  0.299088  0.192166  0.392758      0.219739\n",
      "max  2.226643  0.914359  2.195891      0.891609\n",
      "Answer is 44 characters long\n"
     ]
    },
    {
     "data": {
      "image/png": "[encoded data removed]",
      "text/plain": [
       "<Figure size 432x288 with 1 Axes>"
      ]
     },
     "metadata": {
      "needs_background": "light"
     },
     "output_type": "display_data"
    }
   ],
   "source": [
    "# Note that we build the same untrained model as in question 2.1 but store the \n",
    "# trained version as model_2_2. Change attributes as needed to run on augmented\n",
    "# data\n",
    "augmented_split = preprocessed_split\n",
    "run_evaluation(\"model_2_2\", build_model_2_1, augmented_split, base_dir, \n",
    "               train=False, epochs=15, batch_size=32)\n",
    "answer_q_2_2 = \"\"\"\n",
    "               Your answer \n",
    "               \"\"\"\n",
    "print(\"Answer is {} characters long\".format(len(answer_q_2_2)))"
   ]
  },
  {
   "cell_type": "markdown",
   "metadata": {
    "colab_type": "text",
    "id": "Nb8jrFlnbBUP"
   },
   "source": [
    "## Part 3. Model interpretation (10 points)\n",
    "### Question 3.1: Interpreting misclassifications (2 points)\n",
    "Study which errors are still made by your last model (model_2_2) by evaluating it on the test data. You do not need to retrain the model.\n",
    "* What is the accuracy of model_2_2 on the test data? Store this in 'test_accuracy_3_1'.\n",
    "* Plot the confusion matrix in 'plot_confusion_matrix' and discuss which classes are often confused.\n",
    "* Visualize the misclassifications in more depth by focusing on a single\n",
    "class (e.g. the number '2') and analyse which kinds of mistakes are made for that class. For instance, are the errors related to the background, noisiness, etc.? Implement the visualization in 'plot_misclassifications'.\n",
    "* Summarize your findings in 'answer_q_3_1'"
   ]
  },
  {
   "cell_type": "code",
   "execution_count": 48,
   "metadata": {
    "colab": {},
    "colab_type": "code",
    "id": "yNg-7JsSbn2-"
   },
   "outputs": [
    {
     "name": "stdout",
     "output_type": "stream",
     "text": [
      "Answer is 44 characters long\n"
     ]
    }
   ],
   "source": [
    "from sklearn.metrics import confusion_matrix\n",
    "\n",
    "test_accuracy_3_1 = 0\n",
    "def plot_confusion_matrix():\n",
    "    pass\n",
    "        \n",
    "def plot_misclassifications():\n",
    "    pass\n",
    "answer_q_3_1 = \"\"\"\n",
    "               Your answer \n",
    "               \"\"\"\n",
    "print(\"Answer is {} characters long\".format(len(answer_q_3_1)))"
   ]
  },
  {
   "cell_type": "markdown",
   "metadata": {
    "colab_type": "text",
    "id": "EBRdBpz5Hcrx"
   },
   "source": [
    "### Question 3.2: Visualizing activations (4 points)\n",
    "* Implement a function `plot_activations()` that returns the most interesting activations (feature maps). Select the first example from the test set. Retrieve and visualize the activations of model 2_2 for that example (make sure you load that model in the function), for every filter for different convolutional layers (at different depths in the network).\n",
    "* Give an explanation (as detailed as you can) about your observations in 'answer_q_3_2'. Is your model indeed learning something useful?"
   ]
  },
  {
   "cell_type": "code",
   "execution_count": 24,
   "metadata": {
    "colab": {},
    "colab_type": "code",
    "id": "TyQ-IHHcN5Qc"
   },
   "outputs": [
    {
     "name": "stdout",
     "output_type": "stream",
     "text": [
      "Answer is 44 characters long\n"
     ]
    }
   ],
   "source": [
    "def plot_activations():\n",
    "  pass\n",
    "answer_q_3_2 = \"\"\"\n",
    "               Your answer \n",
    "               \"\"\"\n",
    "print(\"Answer is {} characters long\".format(len(answer_q_3_2)))"
   ]
  },
  {
   "cell_type": "markdown",
   "metadata": {
    "colab_type": "text",
    "id": "6a4XT0-7Ym25"
   },
   "source": [
    "### Question 3.3: Visualizing activations (4 points)\n",
    "* Again, select the first example from the test set, and the trained model_2_2.\n",
    "* Implement a function `plot_activation_map()` that builds and shows a class activation map for your last convolutional layer that highlights what the model is paying attention to when classifying the example.\n",
    "* If possible, superimpossible the activation map over the image. If not, plot\n",
    "them side by side. Implement a function 'plot_3_3' that returns the entire plot."
   ]
  },
  {
   "cell_type": "code",
   "execution_count": 25,
   "metadata": {
    "colab": {},
    "colab_type": "code",
    "id": "vsmqYQl2ZZ4n"
   },
   "outputs": [],
   "source": [
    "def plot_3_3():\n",
    "  pass"
   ]
  },
  {
   "cell_type": "markdown",
   "metadata": {
    "colab_type": "text",
    "id": "buQLQ16EypgL"
   },
   "source": [
    "## Part 4. Transfer learning (10 points)\n",
    "### Question 4.1 Fast feature extraction with VGG16 (5 points)\n",
    "- Import the VGG16 model, pretrained on ImageNet. [See here](https://keras.io/applications/). Only import the convolutional part, not the dense layers.\n",
    "- Implement a function 'build_model_4_1` that adds a dense layer to the convolutional base, and freezes the convolutional base. Consider unfreezing the last few convolutional layers and evaluate whether that works better.\n",
    "- Train the resulting model on the *original* (colored) training data\n",
    "- Evaluate the resulting model using 'run_evaluate'. Discuss the observed performance in 'answer_q_4_1'."
   ]
  },
  {
   "cell_type": "code",
   "execution_count": 26,
   "metadata": {
    "colab": {
     "base_uri": "https://localhost:8080/",
     "height": 53
    },
    "colab_type": "code",
    "id": "QXH1Z7Pqj3HW",
    "outputId": "f16a8d67-a115-464a-d06d-f7eaacc9f905"
   },
   "outputs": [
    {
     "name": "stdout",
     "output_type": "stream",
     "text": [
      "\u001b[91mNo model is returned by the model_builder\u001b[0m\n",
      "Answer is 44 characters long\n"
     ]
    }
   ],
   "source": [
    "def build_model_4_1():\n",
    "  pass\n",
    "run_evaluation(\"model_4_1\", build_model_4_1, preprocessed_split, base_dir, \n",
    "               train=True, epochs=3, batch_size=32)\n",
    "answer_q_4_1 = \"\"\"\n",
    "               Your answer \n",
    "               \"\"\"\n",
    "print(\"Answer is {} characters long\".format(len(answer_q_4_1)))"
   ]
  },
  {
   "cell_type": "markdown",
   "metadata": {
    "colab_type": "text",
    "id": "cp60rxZTYI8O"
   },
   "source": [
    "### Question 4.2 Embeddings and pipelines (5 points)\n",
    "- Generate embeddings of the original images by running them through the trained convolutional part of model_4_1 (without the dense layer) and returning the output. Embed the training and test data and store them to disk using the helper functions below. Implement a function `store_embeddings` that loads model_4_1 and stores all necessary embeddings to file. Make sure to run it once so that the embeddings are stored (and submitted).\n",
    "- Implement a function 'generate_pipeline' that returns an scikit-learn pipeline. You can use any non-deep learning technique (eg. SVMs, RFs,...), and preprocessing technique. You can do model selection using the validation set. \n",
    "- Implement a function 'evaluate_pipeline' that evaluates a given pipeline on a given training and test set. \n",
    "- Implement a function 'evaluation_4_2' that evaluates your pipeline on the embedded training and test set (loaded from file) and returns the accuracy. \n",
    "- Describe what you did and what you observed. Report the obtained accuracy score. Can you beat your best model thus far?"
   ]
  },
  {
   "cell_type": "code",
   "execution_count": 27,
   "metadata": {
    "colab": {
     "base_uri": "https://localhost:8080/",
     "height": 35
    },
    "colab_type": "code",
    "id": "IQo_zskOrs_m",
    "outputId": "f2b0314f-9953-43e6-c1c8-56f5cd7a5dcf"
   },
   "outputs": [
    {
     "name": "stdout",
     "output_type": "stream",
     "text": [
      "Pipeline: None\n",
      "Answer is 44 characters long\n"
     ]
    }
   ],
   "source": [
    "import pickle\n",
    "import gzip\n",
    "\n",
    "def store_embedding(X, name):  \n",
    "  with gzip.open(os.path.join(base_dir, name+'_embedding.p'), 'wb') as file_pi:\n",
    "    pickle.dump(X, file_pi)\n",
    "\n",
    "def load_embedding(name):\n",
    "  with gzip.open(os.path.join(base_dir, name+'_embedding.p'), 'rb') as file_pi:\n",
    "    return pickle.load(file_pi)\n",
    "\n",
    "def store_embeddings():\n",
    "  \"\"\" Stores all necessary embeddings to file\n",
    "  \"\"\"\n",
    "  pass\n",
    "\n",
    "def generate_pipeline():\n",
    "  \"\"\" Returns an sklearn pipeline.\n",
    "  \"\"\"\n",
    "  pass\n",
    "\n",
    "def evaluate_pipeline(pipeline, X_train, y_train, X_test, y_test):\n",
    "  \"\"\" Evaluates the given pipeline, trained on the given embedded training set and \n",
    "      evaluated on the supplied embedded test set. Returns the accuracy score.\n",
    "  \"\"\"\n",
    "  pass\n",
    "\n",
    "def evaluation_4_2(X_train, y_train, X_test, y_test):\n",
    "  \"\"\" Runs 'evaluate_pipeline' with embedded versions of the input data \n",
    "  and returns the accuracy.\n",
    "  \"\"\"\n",
    "  pass\n",
    "\n",
    "answer_q_4_2 = \"\"\"\n",
    "               Your answer \n",
    "               \"\"\"\n",
    "print(\"Pipeline:\",generate_pipeline())\n",
    "print(\"Answer is {} characters long\".format(len(answer_q_4_2)))"
   ]
  },
  {
   "cell_type": "code",
   "execution_count": null,
   "metadata": {},
   "outputs": [],
   "source": []
  }
 ],
 "metadata": {
  "accelerator": "GPU",
  "anaconda-cloud": {},
  "colab": {
   "collapsed_sections": [],
   "machine_shape": "hm",
   "name": "Assignment 3 - Model Solution.ipynb",
   "provenance": []
  },
  "kernelspec": {
   "display_name": "Python 3",
   "language": "python",
   "name": "python3"
  },
  "language_info": {
   "codemirror_mode": {
    "name": "ipython",
    "version": 3
   },
   "file_extension": ".py",
   "mimetype": "text/x-python",
   "name": "python",
   "nbconvert_exporter": "python",
   "pygments_lexer": "ipython3",
   "version": "3.6.8"
  }
 },
 "nbformat": 4,
 "nbformat_minor": 4
}
