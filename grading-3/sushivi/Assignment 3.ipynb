{
 "cells": [
  {
   "cell_type": "code",
   "execution_count": 1,
   "metadata": {
    "colab": {},
    "colab_type": "code",
    "id": "uPiqHyC_MuLL"
   },
   "outputs": [],
   "source": [
    "# Fill in your name using the format below and student ID number\n",
    "your_name = \"CHU, VI\"\n",
    "student_id = \"0890745\""
   ]
  },
  {
   "cell_type": "code",
   "execution_count": 2,
   "metadata": {
    "colab": {},
    "colab_type": "code",
    "id": "oqGfty_oCHKc"
   },
   "outputs": [],
   "source": [
    "# Before submission, set this to True so that you can render and verify this notebook without training deep learning models.\n",
    "# Any deep learning models will be trained from file instead.\n",
    "stop_training = True"
   ]
  },
  {
   "cell_type": "code",
   "execution_count": 3,
   "metadata": {
    "colab": {
     "base_uri": "https://localhost:8080/",
     "height": 70
    },
    "colab_type": "code",
    "executionInfo": {
     "elapsed": 8102,
     "status": "ok",
     "timestamp": 1587324287159,
     "user": {
      "displayName": "Vi Chu",
      "photoUrl": "https://lh3.googleusercontent.com/a-/AOh14Gj8oJpDPrvNSdrLx66SyIqPegabZyZbjl5nuAA=s64",
      "userId": "17961575330507641127"
     },
     "user_tz": -120
    },
    "id": "-rAuraOsM22r",
    "outputId": "d8678e72-3c06-4e3a-a6ba-09e28bac7eb2"
   },
   "outputs": [],
   "source": [
    "# Uncomment the following line to run in Google Colab\n",
    "# !pip install --quiet openml "
   ]
  },
  {
   "cell_type": "code",
   "execution_count": 4,
   "metadata": {
    "colab": {
     "base_uri": "https://localhost:8080/",
     "height": 34
    },
    "colab_type": "code",
    "executionInfo": {
     "elapsed": 9413,
     "status": "ok",
     "timestamp": 1587324288479,
     "user": {
      "displayName": "Vi Chu",
      "photoUrl": "https://lh3.googleusercontent.com/a-/AOh14Gj8oJpDPrvNSdrLx66SyIqPegabZyZbjl5nuAA=s64",
      "userId": "17961575330507641127"
     },
     "user_tz": -120
    },
    "id": "OS-d8ziENCs1",
    "outputId": "f90e8c5c-bf63-4f16-cf20-f1376cad10c8"
   },
   "outputs": [
    {
     "data": {
      "text/plain": [
       "[]"
      ]
     },
     "execution_count": 4,
     "metadata": {},
     "output_type": "execute_result"
    }
   ],
   "source": [
    "# Uncomment the following line to run in Google Colab\n",
    "# %tensorflow_version 2.x\n",
    "import tensorflow as tf\n",
    "tf.config.experimental.list_physical_devices('GPU') # Check whether GPUs are available"
   ]
  },
  {
   "cell_type": "code",
   "execution_count": 5,
   "metadata": {
    "colab": {},
    "colab_type": "code",
    "id": "-iTn6RmNMuLT"
   },
   "outputs": [],
   "source": [
    "%matplotlib inline\n",
    "import openml as oml\n",
    "import numpy as np\n",
    "import matplotlib.pyplot as plt\n",
    "import sklearn"
   ]
  },
  {
   "cell_type": "code",
   "execution_count": 6,
   "metadata": {
    "colab": {
     "base_uri": "https://localhost:8080/",
     "height": 34
    },
    "colab_type": "code",
    "executionInfo": {
     "elapsed": 9397,
     "status": "ok",
     "timestamp": 1587324288483,
     "user": {
      "displayName": "Vi Chu",
      "photoUrl": "https://lh3.googleusercontent.com/a-/AOh14Gj8oJpDPrvNSdrLx66SyIqPegabZyZbjl5nuAA=s64",
      "userId": "17961575330507641127"
     },
     "user_tz": -120
    },
    "id": "brth0Z_TMuLZ",
    "outputId": "c5bab32f-300c-4a08-da02-c0c9f6891054"
   },
   "outputs": [
    {
     "name": "stdout",
     "output_type": "stream",
     "text": [
      "Hi VI, Looks good. You may continue :)\n"
     ]
    }
   ],
   "source": [
    "from packaging import version\n",
    "import sklearn\n",
    "import tensorflow\n",
    "sklearn_version = sklearn.__version__\n",
    "tensorflow_version = tensorflow.__version__\n",
    "if version.parse(sklearn_version) < version.parse(\"0.22.0\"):\n",
    "    print(\"scikit-learn is outdated. Please update now!\")\n",
    "if version.parse(tensorflow_version) < version.parse(\"2.1.0\"):\n",
    "    print(\"Tensorflow is outdated. This is version {}. Please update to 2.1.\".format(tensorflow_version))\n",
    "else:\n",
    "    print(\"Hi{}, Looks good. You may continue :)\".format(your_name.split(\",\")[1]))"
   ]
  },
  {
   "cell_type": "markdown",
   "metadata": {
    "colab_type": "text",
    "id": "7kdeFjIGMuLv"
   },
   "source": [
    "# Assignment 3"
   ]
  },
  {
   "cell_type": "markdown",
   "metadata": {
    "colab_type": "text",
    "id": "ljhP8DXu-H4j"
   },
   "source": [
    "### Choice of libraries\n",
    "We recommend to use Tensorflow in this assignment since that is what we covered in the labs. If you feel confident using PyTorch (and Skorch for the scikit-learn wrapper), that is allowed too, as long as you are able to implement the requested functions and return the requested data. Read the assignment carefully and ensure that you can. Note that you may also need to do a bit more work to implement certain helper functions and wrappers."
   ]
  },
  {
   "cell_type": "markdown",
   "metadata": {
    "colab_type": "text",
    "id": "-BQG9Kp2EcPc"
   },
   "source": [
    "### Storing and submitting files\n",
    "You must be able to store your models and submit them to GitHub Classroom. The evaluation functions used in this notebook will automatically store models for you.\n",
    "\n",
    "If you want to run and solve the notebook on your local machine/laptop, fill in the path 'base_dir' to your assignment folder into the next cell.\n",
    "\n",
    "If you use Colab, we recommend that you link it to your Google Drive:  \n",
    "* Upload the assignment folder to your Google Drive (+ New > Folder Upload)\n",
    "* Open Colab in a browser, open the 'Files' menu in the left sidebar, and click 'Mount Drive'\n",
    "  * At this point you may need to authenticate\n",
    "* Fill in the path to your assignment folder below\n",
    "  * It's likely '/content/drive/My Drive/assignment-3-yourname'"
   ]
  },
  {
   "cell_type": "code",
   "execution_count": 7,
   "metadata": {
    "colab": {},
    "colab_type": "code",
    "id": "aO6jTIIFHQNU"
   },
   "outputs": [],
   "source": [
    "# base_dir = '/content/drive/My Drive/2imm15 Assignment 3'\n",
    " # For Google Colab\n",
    "base_dir = 'C:/Users/s144195/OneDrive/1. TUe/2. Master/Y1Q3/Web Info & Data Mining (2IMM15)/4. Assignments/assignment-3-sushivi'"
   ]
  },
  {
   "cell_type": "code",
   "execution_count": 8,
   "metadata": {
    "colab": {
     "base_uri": "https://localhost:8080/",
     "height": 125
    },
    "colab_type": "code",
    "executionInfo": {
     "elapsed": 47124,
     "status": "ok",
     "timestamp": 1587324326231,
     "user": {
      "displayName": "Vi Chu",
      "photoUrl": "https://lh3.googleusercontent.com/a-/AOh14Gj8oJpDPrvNSdrLx66SyIqPegabZyZbjl5nuAA=s64",
      "userId": "17961575330507641127"
     },
     "user_tz": -120
    },
    "id": "HKaM3mwrODBR",
    "outputId": "21098bb4-1248-4e8c-e95c-7bd4c1585451"
   },
   "outputs": [],
   "source": [
    "# Uncomment to link Colab notebook to Google Drive\n",
    "# from google.colab import drive\n",
    "# drive.mount('/content/drive')"
   ]
  },
  {
   "cell_type": "markdown",
   "metadata": {
    "colab_type": "text",
    "id": "D_BDIpWh92Dk"
   },
   "source": [
    "### Using GPUs\n",
    "While you can solve this assignment on a CPU, using a GPU will speed things up training quite a bit. If you have a local GPU, you can use that. If you don't, we recommend Google Colab. When you are in Colab:\n",
    "* In Runtime > Change runtime type, select the GPU under Hardware Accelerator\n",
    "* Run the 3rd cell on the top of this notebook to check that the GPU is found.\n",
    "\n",
    "Note that Colab may not always have GPUs ready all the time, and may deny you a GPU when you have used them a lot. When you are temporarily 'locked out', you can switch to a non-GPU runtime or to a local instance of Jupyter running on your machine."
   ]
  },
  {
   "cell_type": "markdown",
   "metadata": {
    "colab_type": "text",
    "id": "hq6oPNF546_5"
   },
   "source": [
    "### Constraints\n",
    "* Your stored models should not be larger than 100MB when stored in file. GitHub will not allow uploading if they are.\n",
    "* When questions ask you to provide an explanation, it should be less than 500\n",
    "characters long. Some questions have a higher limit. Always answer in full sentences.\n",
    "* Don't train for more than 100 epochs, i.e. don't throw excessing computational resources at the problem. If your model hasn't converged by then, think of ways it could be made to converge faster. In this assignment you are not after the last tiny improvement, you can stop when learning curves flatten out. Do at least 5 epochs to get a reasonable learning curve."
   ]
  },
  {
   "cell_type": "markdown",
   "metadata": {
    "colab_type": "text",
    "id": "h8wBDNspEvcY"
   },
   "source": [
    "### Grading\n",
    "Grading is based on the following aspects:\n",
    "* Correctness in answering the question. Carefully read the question and answer\n",
    "what is asked for. Train your models on the correct data. It should be clear on which data should be trained, but ask when in doubt. When something is not defined (e.g. the number of epochs or batch size), you can freely choose them.\n",
    "* Clarity of your explanations. Write short but precise descriptions of what you did and why. Give short but clear explanations of the observed performance. \n",
    "After your explanation, your approach and model should make perfect sense. Refrain from using symbols as substitute for words in your explanation (e.g. no: \"More layers -> more parameters\" yes: \"More layers mean more parameters\"). \n",
    "* Part of your grade depends on how well your model performs. When the question says 'you should at least get x%', x% will give you a good but not the maximal grade. You can get the full grade when you are close to what is the expected maximal performance. You don't need to invest lots of effort into the last tiny improvement, though. Unless specified, we look at the accuracy on the validation set. If your learning curves are very erratic we'll compute a score based on the smoothed curves (i.e. single peaks don't count).\n",
    "* The weight of each question is indicated. Take this into account when planning your time."
   ]
  },
  {
   "cell_type": "markdown",
   "metadata": {
    "colab_type": "text",
    "id": "KNyA5dEpR00Z"
   },
   "source": [
    "### Other tips\n",
    "* Don't wait until the last minute to do the assignment. The models take time to train, most questions will require some thinking, and some require you to read up on some new concepts.\n",
    "* Take care that you upload the results as requested. You need to submit not only the notebooks but also the trained models and learning curves (training histories). Be sure to run the verification script and check that all the results are included.\n",
    "* We provide an evaluation function that also stored models to disk. After you are done training the model, set the 'train' attribute to False so that the model doesn't train again (and loads from file instead) when you restart and rerun your notebook.\n",
    "* Explore. For many questions we'll ask you to explain your model design decisions. You cannot magically know the best solutions but you can experiment\n",
    "based on your understanding and make decisions based on both your knowledge and experiments. Your explanation is at least as important as the performance of your model.\n",
    "* Be original. We will check for plagiarism between student submissions."
   ]
  },
  {
   "cell_type": "markdown",
   "metadata": {
    "colab_type": "text",
    "id": "k0nKOZrPJTn8"
   },
   "source": [
    "### Data\n",
    "The [Street View House Numbers Dataset](https://www.openml.org/d/41081) contains 32-by-32 RGB images centered around a single digit of a house number appearing in Google Street View. Many of the images do contain some distractors at the sides. It consists of 10 classes, 1 for each digit. Digit '1' has label 1, '9' has label 9 and '0' has label 10. Your goal is to build models that recognize the correct digit."
   ]
  },
  {
   "cell_type": "markdown",
   "metadata": {
    "colab_type": "text",
    "id": "B8sOA7mEKOSp"
   },
   "source": [
    "If you use Colab, uncomment the following to cache the dataset inside the VM. This will make reloading faster if you need to restart your notebook. After longer periods of inactivity, your VM may be recycled and the cache lost, in which case the dataset will be downloaded again. Also note that this dataset is about 1Gb large, and will take even more space in memory. You may need to switch to a high-RAM environment (Colab will ask you if you hit the limit)."
   ]
  },
  {
   "cell_type": "code",
   "execution_count": 9,
   "metadata": {
    "colab": {},
    "colab_type": "code",
    "id": "Wu9s9dnlJMP0"
   },
   "outputs": [],
   "source": [
    "# Use OpenML caching in Colab\n",
    "# On your local machine, it will store data in a hidden folder '~/.openml'\n",
    "import os\n",
    "# oml.config.cache_directory = os.path.expanduser('/content/cache')"
   ]
  },
  {
   "cell_type": "code",
   "execution_count": null,
   "metadata": {
    "colab": {},
    "colab_type": "code",
    "id": "_3o_TT8SMuLy"
   },
   "outputs": [],
   "source": [
    "# Download Streetview data. Takes a while (several minutes), and quite a bit of\n",
    "# memory when it needs to download. After caching it loads faster.\n",
    "SVHN = oml.datasets.get_dataset(41081)\n",
    "X, y, _, _ = SVHN.get_data(dataset_format='array',\n",
    "    target=SVHN.default_target_attribute)"
   ]
  },
  {
   "cell_type": "markdown",
   "metadata": {
    "colab_type": "text",
    "id": "EPwHgeC3MuMI"
   },
   "source": [
    "Reshape, sample and split the data"
   ]
  },
  {
   "cell_type": "code",
   "execution_count": null,
   "metadata": {
    "colab": {},
    "colab_type": "code",
    "id": "3C14250QOGpL"
   },
   "outputs": [],
   "source": [
    "from tensorflow.keras.utils import to_categorical\n",
    "\n",
    "Xr = X.reshape((len(X),32,32,3))\n",
    "Xr = Xr / 255.\n",
    "yr = to_categorical(y)"
   ]
  },
  {
   "cell_type": "code",
   "execution_count": null,
   "metadata": {
    "colab": {},
    "colab_type": "code",
    "id": "sbxtRoDcMuMK"
   },
   "outputs": [],
   "source": [
    "# DO NOT EDIT. DO NOT OVERWRITE THESE VARIABLES.\n",
    "from sklearn.model_selection import train_test_split\n",
    "# We do an 80-20 split for the training and test set, and then again a 80-20 split into training and validation data\n",
    "X_train_all, X_test, y_train_all, y_test = train_test_split(Xr,yr, stratify=yr, train_size=0.8, test_size=0.2, random_state=1)\n",
    "X_train, X_val, y_train, y_val = train_test_split(X_train_all,y_train_all, stratify=y_train_all, train_size=0.8, random_state=1)\n",
    "evaluation_split = X_train, X_val, y_train, y_val"
   ]
  },
  {
   "cell_type": "markdown",
   "metadata": {
    "colab_type": "text",
    "id": "gUAf28y2O6ks"
   },
   "source": [
    "Check the formatting - and what the data looks like"
   ]
  },
  {
   "cell_type": "code",
   "execution_count": null,
   "metadata": {
    "colab": {
     "base_uri": "https://localhost:8080/",
     "height": 141
    },
    "colab_type": "code",
    "executionInfo": {
     "elapsed": 411456,
     "status": "ok",
     "timestamp": 1587324690616,
     "user": {
      "displayName": "Vi Chu",
      "photoUrl": "https://lh3.googleusercontent.com/a-/AOh14Gj8oJpDPrvNSdrLx66SyIqPegabZyZbjl5nuAA=s64",
      "userId": "17961575330507641127"
     },
     "user_tz": -120
    },
    "id": "QEWsr56hMuL8",
    "outputId": "d99c7852-e9fd-4d99-82dd-71d1a41133de"
   },
   "outputs": [],
   "source": [
    "from random import randint\n",
    "\n",
    "# Takes a list of row ids, and plots the corresponding images\n",
    "# Use grayscale=True for plotting grayscale images\n",
    "def plot_images(X, y, grayscale=False):\n",
    "    fig, axes = plt.subplots(1, len(X),  figsize=(10, 5))\n",
    "    for n in range(len(X)):\n",
    "        if grayscale:\n",
    "            axes[n].imshow(X[n], cmap='gray')\n",
    "        else:\n",
    "            axes[n].imshow(X[n])\n",
    "        axes[n].set_xlabel((np.argmax(y[n])+1)%10) # Label is index+1\n",
    "        axes[n].set_xticks(()), axes[n].set_yticks(())\n",
    "    plt.show();\n",
    "\n",
    "images = [randint(0,len(X_train)) for i in range(5)]\n",
    "X_random = [X_train[i] for i in images]\n",
    "y_random = [y_train[i] for i in images]\n",
    "plot_images(X_random, y_random)"
   ]
  },
  {
   "cell_type": "markdown",
   "metadata": {
    "colab_type": "text",
    "id": "yUQ22FEawd-J"
   },
   "source": [
    "### Evaluation harness\n",
    "We provide an evaluation function 'run_evaluation' that you should use to \n",
    "evaluate all your models. It also stores the trained models to disk so that\n",
    "your submission can be quickly verified, as well as to avoid having to train\n",
    "them over and over again. Your last run of the evaluation function (the last one\n",
    "stored to file), is the one that will be evaluated. The 'train' argument indicates whether to train or to load from disk. We have provided helper functions for saving and loading models to/from file, assuming you use TensorFlow. If you use PyTorch you'll have to adapt them."
   ]
  },
  {
   "cell_type": "code",
   "execution_count": null,
   "metadata": {
    "colab": {},
    "colab_type": "code",
    "id": "SFGTq4mUV2zK"
   },
   "outputs": [],
   "source": [
    "import os\n",
    "import pickle\n",
    "import pandas as pd\n",
    "import numpy as np\n",
    "from tensorflow.keras.models import load_model # for use with tensorflow\n",
    "\n",
    "def shout(text, verbose=1):\n",
    "    \"\"\" Prints text in red. Just for fun.\n",
    "    \"\"\"\n",
    "    if verbose>0:\n",
    "        print('\\033[91m'+text+'\\x1b[0m')\n",
    "\n",
    "def load_model_from_file(base_dir, name, extension='.h5'):\n",
    "    \"\"\" Loads a model from a file. The returned model must have a 'fit' and 'summary'\n",
    "    function following the Keras API. Don't change if you use TensorFlow. Otherwise,\n",
    "    adapt as needed. \n",
    "    Keyword arguments:\n",
    "    base_dir -- Directory where the models are stored\n",
    "    name -- Name of the model, e.g. 'question_1_1'\n",
    "    extension -- the file extension\n",
    "    \"\"\"\n",
    "    try:\n",
    "        model = load_model(os.path.join(base_dir, name+extension))\n",
    "    except OSError:\n",
    "        shout(\"Saved model could not be found. Was it trained and stored correctly? Is the base_dir correct?\")\n",
    "        return False\n",
    "    return model\n",
    "\n",
    "def save_model_to_file(model, base_dir, name, extension='.h5'):\n",
    "    \"\"\" Saves a model to file. Don't change if you use TensorFlow. Otherwise,\n",
    "    adapt as needed. \n",
    "    Keyword arguments:\n",
    "    model -- the model to be saved\n",
    "    base_dir -- Directory where the models should be stored\n",
    "    name -- Name of the model, e.g. 'question_1_1'\n",
    "    extension -- the file extension\n",
    "    \"\"\"\n",
    "    model.save(os.path.join(base_dir, name+extension))\n",
    "\n",
    "# Helper function to extract min/max from the learning curves\n",
    "def minMax(x):\n",
    "    return pd.Series(index=['min','max'],data=[x.min(),x.max()])\n",
    "\n",
    "# DO NOT EDIT\n",
    "def run_evaluation(name, model_builder, data, base_dir, train=True, \n",
    "                   generator=False, epochs=3, batch_size=32, steps_per_epoch=60, \n",
    "                   verbose=1, **kwargs):\n",
    "    \"\"\" Trains and evaluates the given model on the predefined train and test splits,\n",
    "    stores the trained model and learning curves. Also prints out a summary of the \n",
    "    model and plots the learning curves.\n",
    "    Keyword arguments:\n",
    "    name -- the name of the model to be stored, e.g. 'question_1_1.h5'\n",
    "    model_builder -- function that returns an (untrained) model. The model must \n",
    "                     have a 'fit' function that follows the Keras API. It can wrap\n",
    "                     a non-Keras model as long as the 'fit' function takes the \n",
    "                     same attributes and returns the learning curves (history).\n",
    "                     It also must have a 'summary' function that prints out a \n",
    "                     model summary, and a 'save' function that saves the model \n",
    "                     to disk. \n",
    "    data -- data split for evaluation. A tuple of either:\n",
    "            * Numpy arrays (X_train, X_val, y_train, y_val)\n",
    "            * A data generator and validation data (generator, X_val, y_val)\n",
    "    base_dir -- the directory to save or read models to/from\n",
    "    train -- whether or not the data should be trained. If False, the trained model\n",
    "             will be loaded from disk.\n",
    "    generator -- whether the data in given as a generator or not\n",
    "    epochs -- the number of epochs to train for\n",
    "    batch_size -- the batch size to train with\n",
    "    steps_per_epoch -- steps per epoch, in case a generator is used (ignored otherwise)\n",
    "    verbose -- verbosity level, 0: silent, 1: minimal,...\n",
    "    kwargs -- keyword arguments that should be passed to model_builder.\n",
    "              Not required, but may help you to adjust its behavior\n",
    "    \"\"\"\n",
    "    model = model_builder(**kwargs)\n",
    "    if not model:\n",
    "        shout(\"No model is returned by the model_builder\")\n",
    "        return\n",
    "    if not hasattr(model, 'fit'):\n",
    "        shout(\"Model is not built correctly\")\n",
    "        return\n",
    "    learning_curves = {}\n",
    "    if train and not stop_training: # Train anew\n",
    "        shout(\"Training the model\", verbose)\n",
    "        if generator:\n",
    "            generator, X_val, y_val = data\n",
    "            history = model.fit(generator, epochs=epochs, batch_size=batch_size,\n",
    "                              steps_per_epoch=steps_per_epoch, verbose=1, \n",
    "                              validation_data=(X_val, y_val))\n",
    "            learning_curves = history.history\n",
    "        else:\n",
    "            X_train, X_val, y_train, y_val = data\n",
    "            history = model.fit(X_train, y_train, epochs=epochs, batch_size=batch_size,\n",
    "                              verbose=1, validation_data=(X_val, y_val))\n",
    "            learning_curves = history.history\n",
    "        shout(\"Saving to file\", verbose)\n",
    "        save_model_to_file(model, base_dir, name)\n",
    "        with open(os.path.join(base_dir, name+'.p'), 'wb') as file_pi:\n",
    "            pickle.dump(learning_curves, file_pi)\n",
    "        shout(\"Model stored in \"+base_dir, verbose)\n",
    "    else: # Load from file\n",
    "        shout(\"Loading model from file\", verbose)\n",
    "        model = load_model_from_file(base_dir, name)\n",
    "        if not model:\n",
    "            shout(\"Model not found\")\n",
    "        return\n",
    "        learning_curves = None\n",
    "        try:\n",
    "            learning_curves = pickle.load(open(os.path.join(base_dir, name+'.p'), \"rb\"))\n",
    "        except FileNotFoundError:\n",
    "            shout(\"Learning curves not found\")\n",
    "        return\n",
    "        shout(\"Success!\", verbose)\n",
    "    # Report\n",
    "    print(model.summary())\n",
    "    lc = pd.DataFrame(learning_curves)\n",
    "    lc.plot(lw=2,style=['b:','r:','b-','r-']);\n",
    "    plt.xlabel('epochs');\n",
    "    print(lc.apply(minMax))"
   ]
  },
  {
   "cell_type": "code",
   "execution_count": null,
   "metadata": {
    "colab": {
     "base_uri": "https://localhost:8080/",
     "height": 34
    },
    "colab_type": "code",
    "executionInfo": {
     "elapsed": 419113,
     "status": "ok",
     "timestamp": 1587324698298,
     "user": {
      "displayName": "Vi Chu",
      "photoUrl": "https://lh3.googleusercontent.com/a-/AOh14Gj8oJpDPrvNSdrLx66SyIqPegabZyZbjl5nuAA=s64",
      "userId": "17961575330507641127"
     },
     "user_tz": -120
    },
    "id": "FCzYq_jpkDZO",
    "outputId": "9327fbc3-120a-4ba5-852f-10e4d924f6ad"
   },
   "outputs": [],
   "source": [
    "# Toy usage example\n",
    "# Remove before submission\n",
    "from tensorflow.keras import models\n",
    "from tensorflow.keras import layers \n",
    "\n",
    "def build_toy_model():\n",
    "    model = models.Sequential()\n",
    "    model.add(layers.Reshape((3072,), input_shape=(32,32,3)))\n",
    "    model.add(layers.Dense(10, activation='relu'))\n",
    "    model.add(layers.Dense(10, activation='softmax'))\n",
    "    model.compile(optimizer='rmsprop',\n",
    "                  loss='categorical_crossentropy',\n",
    "                  metrics=['accuracy'])\n",
    "    return model\n",
    "\n",
    "# First build and store\n",
    "run_evaluation(\"toy_example\", build_toy_model, evaluation_split, base_dir, \n",
    "               train=False, epochs=3, batch_size=32)"
   ]
  },
  {
   "cell_type": "code",
   "execution_count": null,
   "metadata": {
    "colab": {
     "base_uri": "https://localhost:8080/",
     "height": 34
    },
    "colab_type": "code",
    "executionInfo": {
     "elapsed": 419106,
     "status": "ok",
     "timestamp": 1587324698301,
     "user": {
      "displayName": "Vi Chu",
      "photoUrl": "https://lh3.googleusercontent.com/a-/AOh14Gj8oJpDPrvNSdrLx66SyIqPegabZyZbjl5nuAA=s64",
      "userId": "17961575330507641127"
     },
     "user_tz": -120
    },
    "id": "vKkkQwwdta8r",
    "outputId": "92b2d9cb-9759-459e-af90-dfda800e0b21"
   },
   "outputs": [],
   "source": [
    "# Toy usage example\n",
    "# Remove before submission\n",
    "# With train=False: load from file and report the same results without rerunning\n",
    "run_evaluation(\"toy_example\", build_toy_model, evaluation_split, base_dir, \n",
    "               train=False)"
   ]
  },
  {
   "cell_type": "markdown",
   "metadata": {
    "colab_type": "text",
    "id": "IU_zPWGPypce"
   },
   "source": [
    "## Part 1. Dense networks (10 points)\n",
    "\n",
    "### Question 1.1: Baseline model (4 points)\n",
    "- Build a dense network (with only dense layers) of at least 3 layers that is shaped like a pyramid: The first layer must have many nodes, and every subsequent layer must have increasingly fewer nodes, e.g. half as many. Implement a function 'build_model_1_1' that returns this model.\n",
    "- You can explore different settings, but don't use any preprocessing or regularization yet. You should be able to achieve at least 70% accuracy, but more is of course better. Unless otherwise stated, you can use accuracy as the evaluation metric in all questions.\n",
    "* Add a small description of your design choices (max. 500 characters) in 'answer_q_1_1': explain what you did and also why. Also discuss the performance of the model. Is it working well? Both the performance of the model and your explanations matter.\n",
    "\n",
    "- The name of the model should be 'model_1_1'. Evaluate it using the 'run_evaluation' function. For this question, you should not use more than 50 epochs."
   ]
  },
  {
   "cell_type": "code",
   "execution_count": null,
   "metadata": {
    "colab": {
     "base_uri": "https://localhost:8080/",
     "height": 52
    },
    "colab_type": "code",
    "executionInfo": {
     "elapsed": 421344,
     "status": "ok",
     "timestamp": 1587324700548,
     "user": {
      "displayName": "Vi Chu",
      "photoUrl": "https://lh3.googleusercontent.com/a-/AOh14Gj8oJpDPrvNSdrLx66SyIqPegabZyZbjl5nuAA=s64",
      "userId": "17961575330507641127"
     },
     "user_tz": -120
    },
    "id": "hci6BIdHJTN0",
    "outputId": "fb52ab69-448e-49ae-80db-c6a6b066e31d"
   },
   "outputs": [],
   "source": [
    "from tensorflow.keras import models\n",
    "from tensorflow.keras import layers \n",
    "\n",
    "def build_model_1_1():\n",
    "    model = models.Sequential()\n",
    "    model.add(layers.Reshape((3072,), input_shape=(32,32,3)))\n",
    "    model.add(layers.Dense(1000, activation='sigmoid'))\n",
    "    model.add(layers.Dense(500, activation='sigmoid'))\n",
    "    model.add(layers.Dense(250, activation='sigmoid'))\n",
    "    model.add(layers.Dense(100, activation='sigmoid'))\n",
    "    model.add(layers.Dense(10, activation='sigmoid'))\n",
    "    model.compile(optimizer='rmsprop',\n",
    "                  loss='categorical_crossentropy',\n",
    "                  metrics=['accuracy'])\n",
    "    return model\n",
    "\n",
    "run_evaluation(\"model_1_1\", build_model_1_1, evaluation_split, base_dir, \n",
    "               train=True, steps_per_epoch = 30, epochs=20, batch_size=50)\n",
    "answer_q_1_1 = \"\"\"\n",
    "               Since our input does not contain negative values, I have chosen\n",
    "               to not use any tanh activation. So all layers consist of a sigmoid\n",
    "               or relu activation. Trying layers in pyramid shape consisting of all relu values \n",
    "               fluctuated around the same accuracy 0.4196 as maximum within 40 epochs. This method was not a succes, so we try something different\n",
    "               Trying only sigmoid activation: a quick improvement on accuracy within 10 epochs and then starts stagnating after 20 epochs, \n",
    "               achieved  val_accuracy of 77.22% in 10th epoch.\n",
    "               Trying combination of layers: performed not quite well.\n",
    "               \"\"\"\n",
    "print(\"Answer is {} characters long\".format(len(answer_q_1_1)))"
   ]
  },
  {
   "cell_type": "markdown",
   "metadata": {
    "colab_type": "text",
    "id": "kmicpoNvonjd"
   },
   "source": [
    "### Question 1.2: Preprocessing (2 points)\n",
    "Rerun the model, but now preprocess the data first by converting the images to \n",
    "greyscale. You can use the helper function below. If you want to do additional \n",
    "preprocessing, you can do that here, too.\n",
    "* Store the preprocessed data as a tuple `preprocessed_split`\n",
    "* Rerun and re-evaluate your model using the preprocessed data.\n",
    "  * For the remainder of the assignment, always use the preprocessed data\n",
    "* Explain what you did and interpret the results in 'answer_q_1_2'. Is the model\n",
    "  better, if so, why?"
   ]
  },
  {
   "cell_type": "code",
   "execution_count": null,
   "metadata": {
    "colab": {},
    "colab_type": "code",
    "id": "_wFGWDQSqkIM"
   },
   "outputs": [],
   "source": [
    "# Luminance-preserving RGB to greyscale conversion\n",
    "def rgb2gray(X):\n",
    "  return np.expand_dims(np.dot(X, [0.2990, 0.5870, 0.1140]), axis=3)"
   ]
  },
  {
   "cell_type": "code",
   "execution_count": null,
   "metadata": {
    "colab": {
     "base_uri": "https://localhost:8080/",
     "height": 1000
    },
    "colab_type": "code",
    "executionInfo": {
     "elapsed": 87667,
     "status": "ok",
     "timestamp": 1587325502805,
     "user": {
      "displayName": "Vi Chu",
      "photoUrl": "https://lh3.googleusercontent.com/a-/AOh14Gj8oJpDPrvNSdrLx66SyIqPegabZyZbjl5nuAA=s64",
      "userId": "17961575330507641127"
     },
     "user_tz": -120
    },
    "id": "3aTVsLaojNeM",
    "outputId": "70274233-9749-449e-cfa8-55a1c6b66585"
   },
   "outputs": [],
   "source": [
    "# Replace with the preprocessed data\n",
    "preprocessed_split = rgb2gray(X_train), rgb2gray(X_val), y_train, y_val\n",
    "\n",
    "# Adjusted model\n",
    "def build_model_1_2():\n",
    "    model = models.Sequential()\n",
    "    model.add(layers.Reshape((32*32,), input_shape=(32,32,1)))\n",
    "    model.add(layers.Dense(1000, activation='sigmoid'))\n",
    "    model.add(layers.Dense(500, activation='sigmoid'))\n",
    "    model.add(layers.Dense(250, activation='sigmoid'))\n",
    "    model.add(layers.Dense(100, activation='sigmoid'))\n",
    "    model.add(layers.Dense(10, activation='sigmoid'))\n",
    "    model.compile(optimizer='rmsprop',\n",
    "                  loss='categorical_crossentropy',\n",
    "                  metrics=['accuracy'])\n",
    "    return model\n",
    "\n",
    "# Evaluate. Use a new name 'model_1_2' to not overwrite the previous trained model\n",
    "run_evaluation(\"model_1_2\", build_model_1_2, preprocessed_split, base_dir, \n",
    "               train=True, steps_per_epoch = 20, epochs=20, batch_size=50)\n",
    "answer_q_1_2 = \"\"\"\n",
    "                RGB to greyscale conversion resulted in somewhat the same performance of the model, \n",
    "                but it reduce the computing time significantly and the model started converging a bit faster. \n",
    "                Other modifications to the model, like adding a dense layer with relu activation worsened the performance of the model. \n",
    "               \"\"\"\n",
    "print(\"Answer is {} characters long\".format(len(answer_q_1_2)))"
   ]
  },
  {
   "cell_type": "markdown",
   "metadata": {
    "colab_type": "text",
    "id": "7l1pHwimiWQI"
   },
   "source": [
    "### Question 1.3: Regularization and tuning (4 points)\n",
    "* Regularize the model. You can explore (and combine) different techniques. What works best?\n",
    "* Tune other hyperparameters (e.g. learning rate, batch size,...) as you see fit.\n",
    "* Explain your findings and final design decisions. Retrain the model again on the preprocessed data and discuss the results.\n",
    "* Return your model in function 'build_model_1_3' and write your answer in 'answer_q_1_3'"
   ]
  },
  {
   "cell_type": "code",
   "execution_count": null,
   "metadata": {
    "colab": {
     "base_uri": "https://localhost:8080/",
     "height": 52
    },
    "colab_type": "code",
    "executionInfo": {
     "elapsed": 826,
     "status": "ok",
     "timestamp": 1587325718916,
     "user": {
      "displayName": "Vi Chu",
      "photoUrl": "https://lh3.googleusercontent.com/a-/AOh14Gj8oJpDPrvNSdrLx66SyIqPegabZyZbjl5nuAA=s64",
      "userId": "17961575330507641127"
     },
     "user_tz": -120
    },
    "id": "2ZZenVX1jDIQ",
    "outputId": "26350c5b-9be5-49dd-a39b-c3e781d1c7a8"
   },
   "outputs": [],
   "source": [
    "from tensorflow.keras import regularizers\n",
    "\n",
    "def build_model_1_3():\n",
    "    model = models.Sequential()\n",
    "    model.add(layers.Reshape((32*32,), input_shape=(32,32,1)))\n",
    "    model.add(layers.Dense(1500, activation='sigmoid', kernel_regularizer=regularizers.l2(0.000001)))\n",
    "    model.add(layers.Dropout(0.2))\n",
    "    model.add(layers.BatchNormalization())\n",
    "    model.add(layers.Dense(1000, activation='sigmoid', kernel_regularizer=regularizers.l2(0.000001)))\n",
    "    model.add(layers.Dropout(0.2))\n",
    "    # model.add(layers.BatchNormalization())\n",
    "    model.add(layers.Dense(500, activation='sigmoid', kernel_regularizer=regularizers.l2(0.000001)))\n",
    "  \n",
    "    model.add(layers.Dense(250, activation='sigmoid', kernel_regularizer=regularizers.l2(0.000001)))\n",
    "    model.add(layers.Dense(100, activation='sigmoid', kernel_regularizer=regularizers.l2(0.000001)))\n",
    "    # model.add(layers.Dense(50, activation='sigmoid' ))\n",
    "    model.add(layers.Dense(10, activation='sigmoid', kernel_regularizer=regularizers.l2(0.000001)))\n",
    "    model.compile(optimizer='rmsprop',\n",
    "                  loss='categorical_crossentropy',\n",
    "                  metrics=['accuracy'])\n",
    "    return model\n",
    "\n",
    "run_evaluation(\"model_1_3\", build_model_1_3, preprocessed_split, base_dir, \n",
    "               train=True, steps_per_epoch = 200, epochs=25, batch_size=32)\n",
    "\n",
    "answer_q_1_3 = \"\"\"\n",
    "               First we play with the number of nodes, to find a sweet spot. \n",
    "               We start with 500 nodes instead of 1000: This works very well and performs even better reaching val_acc of 81.19%\n",
    "               Making a smaller step between 100 to 10 nodes: This does not necesarilly perform better, so we discard the layeragain. \n",
    "               Now we try weight regularization: l2 with parameter 0.001 performs very badly. Changing the parameter to 0.000001 works better! 82.17%. l1 regularization or the combination between l1 and l2 did not perform better.\n",
    "               Next trying dropout with parameter 0.5, which performs worse. Dropout with parameter 0.2 performs better.\n",
    "               Batch normalization also performs better. \n",
    "               Trying to make the model more complex with the regularization does not work very well, so we keep the layers as it is. \n",
    "               \n",
    "               \"\"\"\n",
    "print(\"Answer is {} characters long\".format(len(answer_q_1_3)))"
   ]
  },
  {
   "cell_type": "markdown",
   "metadata": {
    "colab_type": "text",
    "id": "leo7YbI9L5et"
   },
   "source": [
    "## Part 2. Convolutional neural networks (10 points)\n",
    "### Question 2.1: Design a ConvNet (7 points)\n",
    "- Build a sequential convolutional neural network. Try to achieve the best validation accuracy you can. You should be able to get at least 90% accuracy. You can use any depth, any combination of layers, and any kind of regularization and tuning. \n",
    "- Add a description of your design choices in 'answer_q_2_1': explain what you did and also why. Also discuss the performance of the model. Is it working well? Both the performance of the model and your explanations matter.\n",
    "- You are allowed **800** characters for this answer (but don’t ramble).\n",
    "- The name of the model should be 'model_2_1'. Evaluate it using the 'run_evaluation' function and the preprocessed data."
   ]
  },
  {
   "cell_type": "code",
   "execution_count": null,
   "metadata": {
    "colab": {
     "base_uri": "https://localhost:8080/",
     "height": 52
    },
    "colab_type": "code",
    "executionInfo": {
     "elapsed": 429065,
     "status": "ok",
     "timestamp": 1587324708306,
     "user": {
      "displayName": "Vi Chu",
      "photoUrl": "https://lh3.googleusercontent.com/a-/AOh14Gj8oJpDPrvNSdrLx66SyIqPegabZyZbjl5nuAA=s64",
      "userId": "17961575330507641127"
     },
     "user_tz": -120
    },
    "id": "ceyv-n1JRYyP",
    "outputId": "b9446087-a649-48e6-f96d-070e756fd73a"
   },
   "outputs": [],
   "source": [
    "from tensorflow.keras import layers\n",
    "from tensorflow.keras import models\n",
    "from tensorflow.keras import regularizers\n",
    "\n",
    "# def build_model_2_1():\n",
    "#   model = models.Sequential()\n",
    "#   # model.add(layers.Reshape((32*32,), input_shape=(32,32,1)))\n",
    "#   model.add(layers.Conv2D(32, (3), activation='relu', input_shape=(32,32,1)))\n",
    "#   model.add(layers.Dropout(0.2))\n",
    "#   model.add(layers.MaxPooling2D((2, 2)))\n",
    "#   model.add(layers.Conv2D(64, (3, 3), activation='relu'))\n",
    "#   model.add(layers.MaxPooling2D((2, 2)))\n",
    "#   model.add(layers.Dropout(0.2))\n",
    "#   model.add(layers.Conv2D(128, (3, 3), activation='relu'))\n",
    "#   model.add(layers.MaxPooling2D((2, 2)))\n",
    "#   model.add(layers.Dropout(0.2))\n",
    "#   model.add(layers.Flatten())\n",
    "#   model.add(layers.Dense(128, activation='sigmoid', kernel_regularizer=regularizers.l2(0.0001)))\n",
    "#   # model.add(layers.Dropout(0.2))\n",
    "#   model.add(layers.Dense(50, activation='sigmoid', kernel_regularizer=regularizers.l2(0.0001)))\n",
    "#   model.add(layers.Dense(10, activation='sigmoid', kernel_regularizer=regularizers.l2(0.0001)))\n",
    "#   # model.add(layers.Dropout(0.2))\n",
    "#   # model.add(layers.Dense(10, activation='sigmoid', kernel_regularizer=regularizers.l2(0.0001)))\n",
    "#   model.compile(optimizer='rmsprop',\n",
    "#                 loss='categorical_crossentropy',\n",
    "#                 metrics=['accuracy'])\n",
    "#   return model\n",
    "\n",
    "def build_model_2_1():\n",
    "    model = models.Sequential()\n",
    "    # model.add(layers.Reshape((32*32,), input_shape=(32,32,1)))\n",
    "    model.add(layers.Conv2D(32, (3, 3), activation='relu', padding='same', input_shape=(32, 32, 1)))\n",
    "    model.add(layers.Conv2D(32, (3, 3), activation='relu', padding='same'))\n",
    "    model.add(layers.MaxPooling2D((2, 2)))\n",
    "    model.add(layers.Dropout(0.2))\n",
    "    model.add(layers.Conv2D(64, (3, 3), activation='relu', padding='same'))\n",
    "    model.add(layers.Conv2D(64, (3, 3), activation='relu', padding='same'))\n",
    "    model.add(layers.MaxPooling2D((2, 2)))\n",
    "    model.add(layers.Dropout(0.2))\n",
    "    model.add(layers.Conv2D(128, (3, 3), activation='relu', padding='same'))\n",
    "    model.add(layers.Conv2D(128, (3, 3), activation='relu', padding='same'))\n",
    "    model.add(layers.MaxPooling2D((2, 2)))\n",
    "    model.add(layers.Dropout(0.2))\n",
    "    model.add(layers.Flatten())\n",
    "    model.add(layers.Dense(128, activation='relu', kernel_regularizer=regularizers.l2(0.0001)))\n",
    "    model.add(layers.Dropout(0.1))\n",
    "    # model.add(layers.Dense(50, activation='sigmoid', kernel_regularizer=regularizers.l2(0.0001)))\n",
    "    model.add(layers.Dense(10, activation='softmax', kernel_regularizer=regularizers.l2(0.0001)))\n",
    "    model.compile(optimizer='rmsprop',\n",
    "                  loss='categorical_crossentropy',\n",
    "                  metrics=['accuracy'])\n",
    "    return model\n",
    "\n",
    "run_evaluation(\"model_2_1\", build_model_2_1, preprocessed_split, base_dir, \n",
    "               train=True,steps_per_epoch = 400, epochs=10, batch_size=32)\n",
    "answer_q_2_1 = \"\"\"\n",
    "               Trying 2Dconvolution with relu: 89,93% it started overfitting after around 10 epochs. \n",
    "               2D convolution with sigmoid: 91,55%, starts overfitting a bit.\n",
    "               Adding dropout and regularizer to go against overfitting: 92,38% but less overfitting!\n",
    "               Trying VGC like model with deeper layers: 93,61%. This is the best performing model yet, so we decide to use this model. \n",
    "\n",
    "               \"\"\"\n",
    "print(\"Answer is {} characters long\".format(len(answer_q_2_1)))"
   ]
  },
  {
   "cell_type": "markdown",
   "metadata": {
    "colab_type": "text",
    "id": "EpdLTbPwXmOc"
   },
   "source": [
    "### Question 2.2: Data Augmentation (3 points)\n",
    "\n",
    "- Augment the preprocessed training data. You can explore using image shifts, rotations, zooming, flips, etc. What works well, and what does not?\n",
    "- Evaluate the model from question 2.1 with the augmented data using the 'run_evaluation' function. Store the new trained model as 'model_2_2'.\n",
    "- Add a description of your design choices in 'answer_q_2_2': explain what you did and also why. Also discuss the performance of the model."
   ]
  },
  {
   "cell_type": "code",
   "execution_count": null,
   "metadata": {
    "colab": {},
    "colab_type": "code",
    "id": "Q0Og03Do9V2v"
   },
   "outputs": [],
   "source": [
    "# Do some date augmentation\n",
    "from tensorflow.keras.preprocessing.image import ImageDataGenerator\n",
    "train_dir = '/content/drive/My Drive/2imm15 Assignment 3/augmentation/train'\n",
    "validation_dir = '/content/drive/My Drive/2imm15 Assignment 3/augmentation/validation'\n",
    "\n",
    "train_datagen = ImageDataGenerator(\n",
    "    rotation_range=[-5,5],\n",
    "    width_shift_range=5,\n",
    "    height_shift_range=5,\n",
    "    shear_range=0.5, \n",
    "    zoom_range=0.5, \n",
    "    brightness_range=[-5.0, 5.0],\n",
    "    horizontal_flip=True,\n",
    "    vertical_flip = True,\n",
    "    fill_mode='reflect')\n",
    "\n",
    "data_gen = ImageDataGenerator()\n",
    "\n",
    "data_generator = data_gen.flow(X_train, y_train, batch_size=32)\n",
    "data_listX = []\n",
    "data_listy = []\n",
    "batch_index = 0\n",
    "\n",
    "while batch_index <= data_generator.batch_index:\n",
    "  dataX, datay = data_generator.next()\n",
    "  data_listX.append(dataX[0])\n",
    "  data_listy.append(datay[0])\n",
    "  batch_index += 1\n",
    "\n",
    "data_arrayX = np.asarray(data_listX)\n",
    "data_arrayy = np.asarray(data_listy)\n",
    "\n",
    "augmented_train = train_datagen.flow(rgb2gray(data_arrayX), data_listy, batch_size=32)\n"
   ]
  },
  {
   "cell_type": "code",
   "execution_count": null,
   "metadata": {
    "colab": {
     "base_uri": "https://localhost:8080/",
     "height": 1000
    },
    "colab_type": "code",
    "executionInfo": {
     "elapsed": 50466,
     "status": "ok",
     "timestamp": 1587327655165,
     "user": {
      "displayName": "Vi Chu",
      "photoUrl": "https://lh3.googleusercontent.com/a-/AOh14Gj8oJpDPrvNSdrLx66SyIqPegabZyZbjl5nuAA=s64",
      "userId": "17961575330507641127"
     },
     "user_tz": -120
    },
    "id": "cp8wMUU-aqhQ",
    "outputId": "0fc3a8a3-7649-422a-f04c-8a0011f4cb2e"
   },
   "outputs": [],
   "source": [
    "# Note that we build the same untrained model as in question 2.1 but store the \n",
    "# trained version as model_2_2. Change attributes as needed to run on augmented\n",
    "# data\n",
    "\n",
    "augmented_split = augmented_train.x , rgb2gray(X_val), augmented_train.y, y_val\n",
    "run_evaluation(\"model_2_1\", build_model_2_1, augmented_split, base_dir, \n",
    "               train=True,steps_per_epoch = 600, epochs=30, batch_size=32)\n",
    "answer_q_2_2 = \"\"\"\n",
    "               Tried an initial setting first for: rotation, width, height, shear, zoom, brightness and fill. This did not perform better than without augmentation. \n",
    "               Now we're trying eacht augmentation separately. Rotation augmentation performs worse. The val_accuracy is fluctuating a lot. But best accuracy lays around 75%.\n",
    "               From pictures I've noticed that widht, height, rotation, shear and zoom can vary quite a lot in digits. Trying to play with this number, slowly leads to a better result. \n",
    "                But it seems like the model is overfitting now. \n",
    "               \"\"\"\n",
    "print(\"Answer is {} characters long\".format(len(answer_q_2_2)))"
   ]
  },
  {
   "cell_type": "markdown",
   "metadata": {
    "colab_type": "text",
    "id": "Nb8jrFlnbBUP"
   },
   "source": [
    "## Part 3. Model interpretation (10 points)\n",
    "### Question 3.1: Interpreting misclassifications (2 points)\n",
    "Study which errors are still made by your last model (model_2_2) by evaluating it on the test data. You do not need to retrain the model.\n",
    "* What is the accuracy of model_2_2 on the test data? Store this in 'test_accuracy_3_1'.\n",
    "* Plot the confusion matrix in 'plot_confusion_matrix' and discuss which classes are often confused.\n",
    "* Visualize the misclassifications in more depth by focusing on a single\n",
    "class (e.g. the number '2') and analyse which kinds of mistakes are made for that class. For instance, are the errors related to the background, noisiness, etc.? Implement the visualization in 'plot_misclassifications'.\n",
    "* Summarize your findings in 'answer_q_3_1'"
   ]
  },
  {
   "cell_type": "code",
   "execution_count": null,
   "metadata": {
    "colab": {},
    "colab_type": "code",
    "id": "mRyrW4MJVnbO"
   },
   "outputs": [],
   "source": [
    "model = load_model_from_file(base_dir, \"model_2_2\", extension='.h5')\n",
    "y_pred = model.predict(rgb2gray(X_test))\n",
    "misclassified_samples = np.nonzero(np.argmax(y_test, axis=1) != np.argmax(y_pred, axis=1))[0]\n",
    "misclassified_samples_5 = []\n",
    "# print(y_test[4][0])\n",
    "for i in misclassified_samples: \n",
    "  if y_test[i][4] == 1.0:\n",
    "    misclassified_samples_5.append(i)\n"
   ]
  },
  {
   "cell_type": "code",
   "execution_count": null,
   "metadata": {
    "colab": {
     "base_uri": "https://localhost:8080/",
     "height": 34
    },
    "colab_type": "code",
    "executionInfo": {
     "elapsed": 3824,
     "status": "ok",
     "timestamp": 1587327975547,
     "user": {
      "displayName": "Vi Chu",
      "photoUrl": "https://lh3.googleusercontent.com/a-/AOh14Gj8oJpDPrvNSdrLx66SyIqPegabZyZbjl5nuAA=s64",
      "userId": "17961575330507641127"
     },
     "user_tz": -120
    },
    "id": "769aGaipkcTa",
    "outputId": "af18a1fb-1337-4fd8-f6ee-7f9b2e5c033a"
   },
   "outputs": [],
   "source": [
    "augmented_split = augmented_train.x , rgb2gray(X_test), augmented_train.y, y_test\n",
    "run_evaluation(\"model_2_1\", build_model_2_1, augmented_split, base_dir, \n",
    "               train=True,steps_per_epoch = 400, epochs=15, batch_size=32)"
   ]
  },
  {
   "cell_type": "code",
   "execution_count": null,
   "metadata": {
    "colab": {
     "base_uri": "https://localhost:8080/",
     "height": 456
    },
    "colab_type": "code",
    "executionInfo": {
     "elapsed": 4240,
     "status": "ok",
     "timestamp": 1587327975978,
     "user": {
      "displayName": "Vi Chu",
      "photoUrl": "https://lh3.googleusercontent.com/a-/AOh14Gj8oJpDPrvNSdrLx66SyIqPegabZyZbjl5nuAA=s64",
      "userId": "17961575330507641127"
     },
     "user_tz": -120
    },
    "id": "yNg-7JsSbn2-",
    "outputId": "39f2cd8b-2756-4c13-fd83-015d8ef6c3c9"
   },
   "outputs": [],
   "source": [
    "from sklearn.metrics import confusion_matrix\n",
    "import random\n",
    "\n",
    "test_accuracy_3_1 = 1- len(misclassified_samples)/len(y_test)\n",
    "print(test_accuracy_3_1)\n",
    "def plot_confusion_matrix(y_test, y_pred):\n",
    "  cm = confusion_matrix(np.argmax(y_test, axis=1),np.argmax(y_pred, axis=1))\n",
    "  fig, ax = plt.subplots()\n",
    "  im = ax.imshow(cm)\n",
    "  ax.set_xticks(np.arange(10)), ax.set_yticks(np.arange(10))\n",
    "  ax.set_xticklabels([1,2,3,4,5,6,7,8,9,10], rotation=45, ha=\"right\")\n",
    "  ax.set_yticklabels([1,2,3,4,5,6,7,8,9,10])\n",
    "  ax.set_ylabel('True')\n",
    "  ax.set_xlabel('Predicted')\n",
    "  for i in range(100):\n",
    "      ax.text(int(i/10),i%10,cm[i%10,int(i/10)], ha=\"center\", va=\"center\", color=\"w\")\n",
    "\n",
    "plot_confusion_matrix(y_test,y_pred)\n",
    "\n",
    "\n",
    "def plot_misclassifications():\n",
    "  fig, axes = plt.subplots(1, 5,  figsize=(10, 5))\n",
    "  random_misclassified_samples = random.sample(misclassified_samples_5, 5)\n",
    "  for nr, i in enumerate(random_misclassified_samples):\n",
    "      axes[nr].imshow(X_test[i])\n",
    "      axes[nr].set_xlabel(\"Predicted: %s,\\n Actual : %s\" % ((np.argmax(y_pred[i]) + 1)%10, (np.argmax(y_test[i]) + 1)%10))\n",
    "      axes[nr].set_xticks(()), axes[nr].set_yticks(())\n",
    "\n",
    "  plt.show()\n",
    "\n",
    "# Visualize the randomly five misclassifications of the digit 5, together with the predicted and actual class\n",
    "plot_misclassifications() \n",
    "\n",
    "answer_q_3_1 = \"\"\"\n",
    "                The test accuracy is 0.913. \n",
    "               The digit 5 got confused with a 3 the most. Because of the shape, \n",
    "               it is understandable that these digits get confused. Looking at random plots of misclassifications, it looks like most of the mistakes are due to noisiness. \n",
    "               However, a the prediction 3 sometimes happen even if it is not noisy at all.\n",
    "               \"\"\"\n",
    "print(\"Answer is {} characters long\".format(len(answer_q_3_1)))"
   ]
  },
  {
   "cell_type": "markdown",
   "metadata": {
    "colab_type": "text",
    "id": "EBRdBpz5Hcrx"
   },
   "source": [
    "### Question 3.2: Visualizing activations (4 points)\n",
    "* Implement a function `plot_activations()` that returns the most interesting activations (feature maps). Select the first example from the test set. Retrieve and visualize the activations of model 2_2 for that example (make sure you load that model in the function), for every filter for different convolutional layers (at different depths in the network).\n",
    "* Give an explanation (as detailed as you can) about your observations in 'answer_q_3_2'. Is your model indeed learning something useful?"
   ]
  },
  {
   "cell_type": "code",
   "execution_count": null,
   "metadata": {
    "colab": {
     "base_uri": "https://localhost:8080/",
     "height": 721
    },
    "colab_type": "code",
    "executionInfo": {
     "elapsed": 555,
     "status": "ok",
     "timestamp": 1587327976462,
     "user": {
      "displayName": "Vi Chu",
      "photoUrl": "https://lh3.googleusercontent.com/a-/AOh14Gj8oJpDPrvNSdrLx66SyIqPegabZyZbjl5nuAA=s64",
      "userId": "17961575330507641127"
     },
     "user_tz": -120
    },
    "id": "PNUE1f9pppe2",
    "outputId": "1da4f4bd-a014-4c7f-f171-10086ed95a59"
   },
   "outputs": [],
   "source": [
    "# model.summary()"
   ]
  },
  {
   "cell_type": "code",
   "execution_count": null,
   "metadata": {
    "colab": {},
    "colab_type": "code",
    "id": "x73uwO9tpz98"
   },
   "outputs": [],
   "source": [
    "# We preprocess the image into a 4D tensor\n",
    "from tensorflow.keras.preprocessing import image\n",
    "img_tensor = rgb2gray(X_test)[0]\n",
    "img_tensor = np.expand_dims(img_tensor, axis=0) \n",
    "img_tensor /= 255.\n",
    "# Extracts the outputs of the top 8 layers:\n",
    "layer_outputs = [layer.output for layer in model.layers[:15]]\n",
    "# Creates a model that will return these outputs, given the model input:\n",
    "activation_model = models.Model(inputs=model.input, outputs=layer_outputs)\n",
    "\n",
    "# This will return a list of 5 Numpy arrays:\n",
    "# one array per layer activation\n",
    "activations = activation_model.predict(img_tensor)"
   ]
  },
  {
   "cell_type": "code",
   "execution_count": null,
   "metadata": {
    "colab": {},
    "colab_type": "code",
    "id": "TyQ-IHHcN5Qc"
   },
   "outputs": [],
   "source": [
    "images_per_row = 10\n",
    "def plot_activations(layer_index, activations):\n",
    "    start = layer_index\n",
    "    end = layer_index+1\n",
    "    # Now let's display our feature maps\n",
    "    for layer_activation in activations[start:end]:\n",
    "      # This is the number of features in the feature map\n",
    "      n_features = layer_activation.shape[-1]\n",
    "\n",
    "      # The feature map has shape (1, size, size, n_features)\n",
    "      size = layer_activation.shape[1]\n",
    "\n",
    "      # We will tile the activation channels in this matrix\n",
    "      n_cols = n_features // images_per_row\n",
    "      display_grid = np.zeros((size * n_cols, images_per_row * size))\n",
    "\n",
    "      # We'll tile each filter into this big horizontal grid\n",
    "      for col in range(n_cols):\n",
    "        for row in range(images_per_row):\n",
    "            channel_image = layer_activation[0,\n",
    "                                                 :, :,\n",
    "                                                 col * images_per_row + row]\n",
    "            # Post-process the feature to make it visually palatable\n",
    "            channel_image -= channel_image.mean()\n",
    "            channel_image /= channel_image.std()\n",
    "            channel_image *= 64\n",
    "            channel_image += 128\n",
    "            channel_image = np.clip(channel_image, 0, 255).astype('uint8')\n",
    "            display_grid[col * size : (col + 1) * size,\n",
    "                             row * size : (row + 1) * size] = channel_image\n",
    "\n",
    "      # Display the grid\n",
    "      scale = 1. / size\n",
    "      plt.figure(figsize=(scale * display_grid.shape[1],\n",
    "                            scale * display_grid.shape[0]))\n",
    "      plt.title(\"Activation of layer {}\".format(layer_index+1))\n",
    "      plt.grid(False)\n",
    "      plt.imshow(display_grid, aspect='auto', cmap='viridis')\n",
    "\n",
    "    plt.show()\n",
    "for i in range(len(activations)):\n",
    "  plot_activations(i, activations)\n",
    "\n",
    "answer_q_3_2 = \"\"\"\n",
    "               It seems like the first layer is doing some edge detection which is useful. \n",
    "               Then the 4 layers after that are some more abstract versions of edge detection.\n",
    "               Layers 6 up to 8, mainly highlighting the parts of the edge of the image, which doesn't seem very useful. \n",
    "               Layer 9 to 12 are very abstract higlights of different parts of the image. This could be detecting different parts of the digit. \n",
    "               \"\"\"\n",
    "print(\"Answer is {} characters long\".format(len(answer_q_3_2)))"
   ]
  },
  {
   "cell_type": "markdown",
   "metadata": {
    "colab_type": "text",
    "id": "6a4XT0-7Ym25"
   },
   "source": [
    "### Question 3.3: Visualizing activations (4 points)\n",
    "* Again, select the first example from the test set, and the trained model_2_2.\n",
    "* Implement a function `plot_activation_map()` that builds and shows a class activation map for your last convolutional layer that highlights what the model is paying attention to when classifying the example.\n",
    "* If possible, superimpossible the activation map over the image. If not, plot\n",
    "them side by side. Implement a function 'plot_3_3' that returns the entire plot."
   ]
  },
  {
   "cell_type": "code",
   "execution_count": null,
   "metadata": {
    "colab": {},
    "colab_type": "code",
    "id": "vsmqYQl2ZZ4n"
   },
   "outputs": [],
   "source": [
    "def plot_activation_map(): \n",
    "  \n",
    "  pass\n",
    "\n",
    "def plot_3_3():\n",
    "\n",
    "  pass"
   ]
  },
  {
   "cell_type": "markdown",
   "metadata": {
    "colab_type": "text",
    "id": "buQLQ16EypgL"
   },
   "source": [
    "## Part 4. Transfer learning (10 points)\n",
    "### Question 4.1 Fast feature extraction with VGG16 (5 points)\n",
    "- Import the VGG16 model, pretrained on ImageNet. [See here](https://keras.io/applications/). Only import the convolutional part, not the dense layers.\n",
    "- Implement a function 'build_model_4_1` that adds a dense layer to the convolutional base, and freezes the convolutional base. Consider unfreezing the last few convolutional layers and evaluate whether that works better.\n",
    "- Train the resulting model on the *original* (colored) training data\n",
    "- Evaluate the resulting model using 'run_evaluate'. Discuss the observed performance in 'answer_q_4_1'."
   ]
  },
  {
   "cell_type": "code",
   "execution_count": null,
   "metadata": {
    "colab": {},
    "colab_type": "code",
    "id": "uj7__uYW1mK3"
   },
   "outputs": [],
   "source": [
    "import tensorflow.keras as keras\n",
    "conv_base = keras.applications.vgg16.VGG16(include_top=False, weights='imagenet', input_tensor=None, input_shape=(32, 32, 3), pooling=None, classes=1000)"
   ]
  },
  {
   "cell_type": "code",
   "execution_count": null,
   "metadata": {
    "colab": {
     "base_uri": "https://localhost:8080/",
     "height": 826
    },
    "colab_type": "code",
    "executionInfo": {
     "elapsed": 774,
     "status": "ok",
     "timestamp": 1587328058697,
     "user": {
      "displayName": "Vi Chu",
      "photoUrl": "https://lh3.googleusercontent.com/a-/AOh14Gj8oJpDPrvNSdrLx66SyIqPegabZyZbjl5nuAA=s64",
      "userId": "17961575330507641127"
     },
     "user_tz": -120
    },
    "id": "s56xmeJY2wJR",
    "outputId": "0c9ca654-2de6-4b9a-dd25-88b70a7da553"
   },
   "outputs": [],
   "source": [
    "conv_base.summary()"
   ]
  },
  {
   "cell_type": "code",
   "execution_count": null,
   "metadata": {
    "colab": {
     "base_uri": "https://localhost:8080/",
     "height": 385
    },
    "colab_type": "code",
    "executionInfo": {
     "elapsed": 620,
     "status": "error",
     "timestamp": 1587328061847,
     "user": {
      "displayName": "Vi Chu",
      "photoUrl": "https://lh3.googleusercontent.com/a-/AOh14Gj8oJpDPrvNSdrLx66SyIqPegabZyZbjl5nuAA=s64",
      "userId": "17961575330507641127"
     },
     "user_tz": -120
    },
    "id": "QXH1Z7Pqj3HW",
    "outputId": "ed0d62c3-9b14-4dfb-e23b-f0d073526cd1"
   },
   "outputs": [],
   "source": [
    "def build_model_4_1():\n",
    "  model = models.Sequential()\n",
    "  model.add(conv_base)\n",
    "  model.add(layers.Flatten())\n",
    "  model.add(layers.Dense(256, activation='relu'))\n",
    "  model.add(layers.Dense(1, activation='sigmoid'))\n",
    "  conv_base.trainable = False\n",
    "  return model\n",
    "\n",
    "run_evaluation(\"model_4_1\", build_model_4_1, augmented_split, base_dir, \n",
    "               train=True,steps_per_epoch = 400, epochs=15, batch_size=32)\n",
    "answer_q_4_1 = \"\"\"\n",
    "               Your answer \n",
    "               \"\"\"\n",
    "print(\"Answer is {} characters long\".format(len(answer_q_4_1)))"
   ]
  },
  {
   "cell_type": "markdown",
   "metadata": {
    "colab_type": "text",
    "id": "cp60rxZTYI8O"
   },
   "source": [
    "### Question 4.2 Embeddings and pipelines (5 points)\n",
    "- Generate embeddings of the original images by running them through the trained convolutional part of model_4_1 (without the dense layer) and returning the output. Embed the training and test data and store them to disk using the helper functions below. Implement a function `store_embeddings` that loads model_4_1 and stores all necessary embeddings to file. Make sure to run it once so that the embeddings are stored (and submitted).\n",
    "- Implement a function 'generate_pipeline' that returns an scikit-learn pipeline. You can use any non-deep learning technique (eg. SVMs, RFs,...), and preprocessing technique. You can do model selection using the validation set. \n",
    "- Implement a function 'evaluate_pipeline' that evaluates a given pipeline on a given training and test set. \n",
    "- Implement a function 'evaluation_4_2' that evaluates your pipeline on the embedded training and test set (loaded from file) and returns the accuracy. \n",
    "- Describe what you did and what you observed. Report the obtained accuracy score. Can you beat your best model thus far?"
   ]
  },
  {
   "cell_type": "code",
   "execution_count": null,
   "metadata": {
    "colab": {
     "base_uri": "https://localhost:8080/",
     "height": 52
    },
    "colab_type": "code",
    "executionInfo": {
     "elapsed": 445354,
     "status": "ok",
     "timestamp": 1587324724778,
     "user": {
      "displayName": "Vi Chu",
      "photoUrl": "https://lh3.googleusercontent.com/a-/AOh14Gj8oJpDPrvNSdrLx66SyIqPegabZyZbjl5nuAA=s64",
      "userId": "17961575330507641127"
     },
     "user_tz": -120
    },
    "id": "IQo_zskOrs_m",
    "outputId": "a9360f56-c4b9-48b4-89b6-2046e638a079"
   },
   "outputs": [],
   "source": [
    "import pickle\n",
    "import gzip\n",
    "\n",
    "def store_embedding(X, name):  \n",
    "  with gzip.open(os.path.join(base_dir, name+'_embedding.p'), 'wb') as file_pi:\n",
    "    pickle.dump(X, file_pi)\n",
    "\n",
    "def load_embedding(name):\n",
    "  with gzip.open(os.path.join(base_dir, name+'_embedding.p'), 'rb') as file_pi:\n",
    "    return pickle.load(file_pi)\n",
    "\n",
    "def store_embeddings():\n",
    "  \"\"\" Stores all necessary embeddings to file\n",
    "  \"\"\"\n",
    "  pass\n",
    "\n",
    "def generate_pipeline():\n",
    "  \"\"\" Returns an sklearn pipeline.\n",
    "  \"\"\"\n",
    "  pass\n",
    "\n",
    "def evaluate_pipeline(pipeline, X_train, y_train, X_test, y_test):\n",
    "  \"\"\" Evaluates the given pipeline, trained on the given embedded training set and \n",
    "      evaluated on the supplied embedded test set. Returns the accuracy score.\n",
    "  \"\"\"\n",
    "  pass\n",
    "\n",
    "def evaluation_4_2(X_train, y_train, X_test, y_test):\n",
    "  \"\"\" Runs 'evaluate_pipeline' with embedded versions of the input data \n",
    "  and returns the accuracy.\n",
    "  \"\"\"\n",
    "  pass\n",
    "\n",
    "answer_q_4_2 = \"\"\"\n",
    "               Your answer \n",
    "               \"\"\"\n",
    "print(\"Pipeline:\",generate_pipeline())\n",
    "print(\"Answer is {} characters long\".format(len(answer_q_4_2)))"
   ]
  },
  {
   "cell_type": "code",
   "execution_count": null,
   "metadata": {
    "colab": {},
    "colab_type": "code",
    "id": "_kAOmGNMCHMY"
   },
   "outputs": [],
   "source": [
    "import os\n",
    "import nbformat\n",
    "from nbconvert import PythonExporter, HTMLExporter\n",
    "from nbconvert.preprocessors import CellExecutionError, ExecutePreprocessor\n",
    "from traitlets.config import Config\n",
    "import warnings\n",
    "warnings.filterwarnings('ignore') \n",
    "\n",
    "# Convert notebook to python\n",
    "assignment_path = 'Assignment 3.ipynb'\n",
    "export_path = 'solution.py'\n",
    "template_path = './submit/Template.ipynb'\n",
    "submission_path = 'Submission.html'\n",
    "\n",
    "print(\"Converting: {0}\".format(assignment_path))\n",
    "exporter = PythonExporter()\n",
    "# source is a tuple of python source code, meta contains metadata\n",
    "(source, meta) = exporter.from_filename(assignment_path)\n",
    "with open(export_path, 'w+') as fh:\n",
    "    fh.writelines(source)\n",
    "    fh.writelines(\"last_edit = '{}'\".format(meta['metadata']['modified_date']))\n",
    "    \n",
    "# Run solution notebook\n",
    "with open(template_path) as f:\n",
    "    snb = nbformat.read(f, as_version=4)\n",
    "ep = ExecutePreprocessor(timeout=2000, kernel_name='python3')\n",
    "\n",
    "try:\n",
    "    print(\"Running notebook... (may take a while)\")\n",
    "    out = ep.preprocess(snb, {'metadata': {'path': './'}})\n",
    "except CellExecutionError:\n",
    "    out = None\n",
    "    msg = 'Error executing the notebook \"%s\".\\n\\n' % template_path\n",
    "    msg += 'See notebook \"%s\" for the traceback.' % template_path\n",
    "    print(msg)\n",
    "    raise\n",
    "finally:\n",
    "    # Save notebook\n",
    "    with open(template_path, mode='w', encoding='utf-8') as f:\n",
    "        nbformat.write(snb, f)\n",
    "\n",
    "# Export as HTML (PDF is too much hassle)\n",
    "print(\"All good. Building report.\")\n",
    "c = Config()\n",
    "c.TagRemovePreprocessor.enabled=True\n",
    "c.TagRemovePreprocessor.remove_input_tags = set([\"hide_input\"])\n",
    "c.preprocessors = [\"TagRemovePreprocessor\"]\n",
    "\n",
    "html_exporter = HTMLExporter(config=c)\n",
    "html_data, resources = html_exporter.from_notebook_node(snb)\n",
    "html_data = html_data.replace('</head>', '<style>pre{font-family: \"Times New Roman\", Times, serif;}</style></head>')\n",
    "\n",
    "with open(submission_path, \"wb\") as f:\n",
    "    f.write(html_data.encode('utf8'))\n",
    "    f.close()\n",
    "#Cleanup\n",
    "#os.remove(\"solution.py\")\n",
    "print(\"Done.\")"
   ]
  }
 ],
 "metadata": {
  "accelerator": "GPU",
  "anaconda-cloud": {},
  "colab": {
   "collapsed_sections": [],
   "machine_shape": "hm",
   "name": "Assignment 3.ipynb",
   "provenance": []
  },
  "kernelspec": {
   "display_name": "Python 3",
   "language": "python",
   "name": "python3"
  },
  "language_info": {
   "codemirror_mode": {
    "name": "ipython",
    "version": 3
   },
   "file_extension": ".py",
   "mimetype": "text/x-python",
   "name": "python",
   "nbconvert_exporter": "python",
   "pygments_lexer": "ipython3",
   "version": "3.7.4"
  }
 },
 "nbformat": 4,
 "nbformat_minor": 1
}
