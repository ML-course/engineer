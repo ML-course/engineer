{
 "cells": [
  {
   "cell_type": "code",
   "execution_count": 1,
   "metadata": {
    "colab": {},
    "colab_type": "code",
    "id": "uPiqHyC_MuLL"
   },
   "outputs": [],
   "source": [
    "# Fill in your name using the format below and student ID number\n",
    "your_name = \"Joosten, Thijs\"\n",
    "student_id = \"1021395\""
   ]
  },
  {
   "cell_type": "code",
   "execution_count": 2,
   "metadata": {
    "colab": {},
    "colab_type": "code",
    "id": "_46MD3k6WhGB"
   },
   "outputs": [],
   "source": [
    "# Before submission, set this to True so that you can render and verify this notebook without training deep learning models.\n",
    "# Any deep learning models will be trained from file instead.\n",
    "stop_training = True"
   ]
  },
  {
   "cell_type": "code",
   "execution_count": 3,
   "metadata": {
    "colab": {
     "base_uri": "https://localhost:8080/",
     "height": 67
    },
    "colab_type": "code",
    "id": "-rAuraOsM22r",
    "outputId": "ca71c430-985b-417d-b65b-47ad8b83d252"
   },
   "outputs": [],
   "source": [
    "# Uncomment the following line to run in Google Colab\n",
    "# !pip install --quiet openml "
   ]
  },
  {
   "cell_type": "code",
   "execution_count": 4,
   "metadata": {
    "colab": {
     "base_uri": "https://localhost:8080/",
     "height": 34
    },
    "colab_type": "code",
    "id": "OS-d8ziENCs1",
    "outputId": "d09368ad-8bb6-4e5d-a0bf-5281bd069602"
   },
   "outputs": [
    {
     "data": {
      "text/plain": [
       "[]"
      ]
     },
     "execution_count": 4,
     "metadata": {},
     "output_type": "execute_result"
    }
   ],
   "source": [
    "# Uncomment the following line to run in Google Colab\n",
    "# %tensorflow_version 2.x\n",
    "import tensorflow as tf\n",
    "tf.config.experimental.list_physical_devices('GPU') # Check whether GPUs are available"
   ]
  },
  {
   "cell_type": "code",
   "execution_count": 5,
   "metadata": {
    "colab": {},
    "colab_type": "code",
    "id": "-iTn6RmNMuLT"
   },
   "outputs": [],
   "source": [
    "%matplotlib inline\n",
    "import openml as oml\n",
    "import numpy as np\n",
    "import matplotlib.pyplot as plt\n",
    "import sklearn"
   ]
  },
  {
   "cell_type": "code",
   "execution_count": 6,
   "metadata": {
    "colab": {
     "base_uri": "https://localhost:8080/",
     "height": 34
    },
    "colab_type": "code",
    "id": "brth0Z_TMuLZ",
    "outputId": "4816e4e3-8df4-4614-c4d3-4cff12d5237c"
   },
   "outputs": [
    {
     "name": "stdout",
     "output_type": "stream",
     "text": [
      "Hi Thijs, Looks good. You may continue :)\n"
     ]
    }
   ],
   "source": [
    "from packaging import version\n",
    "import sklearn\n",
    "import tensorflow\n",
    "sklearn_version = sklearn.__version__\n",
    "tensorflow_version = tensorflow.__version__\n",
    "if version.parse(sklearn_version) < version.parse(\"0.22.0\"):\n",
    "    print(\"scikit-learn is outdated. Please update now!\")\n",
    "if version.parse(tensorflow_version) < version.parse(\"2.1.0\"):\n",
    "    print(\"Tensorflow is outdated. This is version {}. Please update to 2.1.\".format(tensorflow_version))\n",
    "else:\n",
    "    print(\"Hi{}, Looks good. You may continue :)\".format(your_name.split(\",\")[1]))"
   ]
  },
  {
   "cell_type": "markdown",
   "metadata": {
    "colab_type": "text",
    "id": "7kdeFjIGMuLv"
   },
   "source": [
    "# Assignment 3"
   ]
  },
  {
   "cell_type": "markdown",
   "metadata": {
    "colab_type": "text",
    "id": "ljhP8DXu-H4j"
   },
   "source": [
    "### Choice of libraries\n",
    "We recommend to use Tensorflow in this assignment since that is what we covered in the labs. If you feel confident using PyTorch (and Skorch for the scikit-learn wrapper), that is allowed too, as long as you are able to implement the requested functions and return the requested data. Read the assignment carefully and ensure that you can. Note that you may also need to do a bit more work to implement certain helper functions and wrappers."
   ]
  },
  {
   "cell_type": "markdown",
   "metadata": {
    "colab_type": "text",
    "id": "-BQG9Kp2EcPc"
   },
   "source": [
    "### Storing and submitting files\n",
    "You must be able to store your models and submit them to GitHub Classroom. The evaluation functions used in this notebook will automatically store models for you.\n",
    "\n",
    "If you want to run and solve the notebook on your local machine/laptop, fill in the path 'base_dir' to your assignment folder into the next cell.\n",
    "\n",
    "If you use Colab, we recommend that you link it to your Google Drive:  \n",
    "* Upload the assignment folder to your Google Drive (+ New > Folder Upload)\n",
    "* Open Colab in a browser, open the 'Files' menu in the left sidebar, and click 'Mount Drive'\n",
    "  * At this point you may need to authenticate\n",
    "* Fill in the path to your assignment folder below\n",
    "  * It's likely '/content/drive/My Drive/assignment-3-yourname'"
   ]
  },
  {
   "cell_type": "code",
   "execution_count": 7,
   "metadata": {
    "colab": {},
    "colab_type": "code",
    "id": "aO6jTIIFHQNU"
   },
   "outputs": [],
   "source": [
    "# base_dir = '/content/drive/My Drive/Colab Notebooks/assignment-3-Thijs13' # For Google Colab\n",
    "base_dir = 'C:\\\\Users\\\\s162163\\\\Documents\\\\Data mining\\\\assignment-3-Thijs13'"
   ]
  },
  {
   "cell_type": "code",
   "execution_count": 8,
   "metadata": {
    "colab": {
     "base_uri": "https://localhost:8080/",
     "height": 121
    },
    "colab_type": "code",
    "id": "HKaM3mwrODBR",
    "outputId": "f060d76f-d157-4c78-ab20-94273fee87af"
   },
   "outputs": [],
   "source": [
    "#Uncomment to link Colab notebook to Google Drive\n",
    "# from google.colab import drive\n",
    "# drive.mount('/content/drive')"
   ]
  },
  {
   "cell_type": "markdown",
   "metadata": {
    "colab_type": "text",
    "id": "D_BDIpWh92Dk"
   },
   "source": [
    "### Using GPUs\n",
    "While you can solve this assignment on a CPU, using a GPU will speed things up training quite a bit. If you have a local GPU, you can use that. If you don't, we recommend Google Colab. When you are in Colab:\n",
    "* In Runtime > Change runtime type, select the GPU under Hardware Accelerator\n",
    "* Run the 3rd cell on the top of this notebook to check that the GPU is found.\n",
    "\n",
    "Note that Colab may not always have GPUs ready all the time, and may deny you a GPU when you have used them a lot. When you are temporarily 'locked out', you can switch to a non-GPU runtime or to a local instance of Jupyter running on your machine."
   ]
  },
  {
   "cell_type": "markdown",
   "metadata": {
    "colab_type": "text",
    "id": "hq6oPNF546_5"
   },
   "source": [
    "### Constraints\n",
    "* Your stored models should not be larger than 100MB when stored in file. GitHub will not allow uploading if they are.\n",
    "* When questions ask you to provide an explanation, it should be less than 500\n",
    "characters long. Some questions have a higher limit. Always answer in full sentences.\n",
    "* Don't train for more than 100 epochs, i.e. don't throw excessing computational resources at the problem. If your model hasn't converged by then, think of ways it could be made to converge faster. In this assignment you are not after the last tiny improvement, you can stop when learning curves flatten out. Do at least 5 epochs to get a reasonable learning curve."
   ]
  },
  {
   "cell_type": "markdown",
   "metadata": {
    "colab_type": "text",
    "id": "h8wBDNspEvcY"
   },
   "source": [
    "### Grading\n",
    "Grading is based on the following aspects:\n",
    "* Correctness in answering the question. Carefully read the question and answer\n",
    "what is asked for. Train your models on the correct data. It should be clear on which data should be trained, but ask when in doubt. When something is not defined (e.g. the number of epochs or batch size), you can freely choose them.\n",
    "* Clarity of your explanations. Write short but precise descriptions of what you did and why. Give short but clear explanations of the observed performance. \n",
    "After your explanation, your approach and model should make perfect sense. Refrain from using symbols as substitute for words in your explanation (e.g. no: \"More layers -> more parameters\" yes: \"More layers mean more parameters\"). \n",
    "* Part of your grade depends on how well your model performs. When the question says 'you should at least get x%', x% will give you a good but not the maximal grade. You can get the full grade when you are close to what is the expected maximal performance. You don't need to invest lots of effort into the last tiny improvement, though. Unless specified, we look at the accuracy on the validation set. If your learning curves are very erratic we'll compute a score based on the smoothed curves (i.e. single peaks don't count).\n",
    "* The weight of each question is indicated. Take this into account when planning your time."
   ]
  },
  {
   "cell_type": "markdown",
   "metadata": {
    "colab_type": "text",
    "id": "KNyA5dEpR00Z"
   },
   "source": [
    "### Other tips\n",
    "* Don't wait until the last minute to do the assignment. The models take time to train, most questions will require some thinking, and some require you to read up on some new concepts.\n",
    "* Take care that you upload the results as requested. You need to submit not only the notebooks but also the trained models and learning curves (training histories). Be sure to run the verification script and check that all the results are included.\n",
    "* We provide an evaluation function that also stored models to disk. After you are done training the model, set the 'train' attribute to False so that the model doesn't train again (and loads from file instead) when you restart and rerun your notebook.\n",
    "* Explore. For many questions we'll ask you to explain your model design decisions. You cannot magically know the best solutions but you can experiment\n",
    "based on your understanding and make decisions based on both your knowledge and experiments. Your explanation is at least as important as the performance of your model.\n",
    "* Be original. We will check for plagiarism between student submissions."
   ]
  },
  {
   "cell_type": "markdown",
   "metadata": {
    "colab_type": "text",
    "id": "k0nKOZrPJTn8"
   },
   "source": [
    "### Data\n",
    "The [Street View House Numbers Dataset](https://www.openml.org/d/41081) contains 32-by-32 RGB images centered around a single digit of a house number appearing in Google Street View. Many of the images do contain some distractors at the sides. It consists of 10 classes, 1 for each digit. Digit '1' has label 1, '9' has label 9 and '0' has label 10. Your goal is to build models that recognize the correct digit."
   ]
  },
  {
   "cell_type": "markdown",
   "metadata": {
    "colab_type": "text",
    "id": "B8sOA7mEKOSp"
   },
   "source": [
    "If you use Colab, uncomment the following to cache the dataset inside the VM. This will make reloading faster if you need to restart your notebook. After longer periods of inactivity, your VM may be recycled and the cache lost, in which case the dataset will be downloaded again. Also note that this dataset is about 1Gb large, and will take even more space in memory. You may need to switch to a high-RAM environment (Colab will ask you if you hit the limit)."
   ]
  },
  {
   "cell_type": "code",
   "execution_count": 9,
   "metadata": {
    "colab": {},
    "colab_type": "code",
    "id": "Wu9s9dnlJMP0"
   },
   "outputs": [],
   "source": [
    "# Use OpenML caching in Colab\n",
    "# On your local machine, it will store data in a hidden folder '~/.openml'\n",
    "#import os\n",
    "#oml.config.cache_directory = os.path.expanduser('/content/cache')"
   ]
  },
  {
   "cell_type": "code",
   "execution_count": 10,
   "metadata": {
    "colab": {},
    "colab_type": "code",
    "id": "_3o_TT8SMuLy"
   },
   "outputs": [],
   "source": [
    "# Download Streetview data. Takes a while (several minutes), and quite a bit of\n",
    "# memory when it needs to download. After caching it loads faster.\n",
    "SVHN = oml.datasets.get_dataset(41081)\n",
    "X, y, _, _ = SVHN.get_data(dataset_format='array',\n",
    "    target=SVHN.default_target_attribute)"
   ]
  },
  {
   "cell_type": "markdown",
   "metadata": {
    "colab_type": "text",
    "id": "EPwHgeC3MuMI"
   },
   "source": [
    "Reshape, sample and split the data"
   ]
  },
  {
   "cell_type": "code",
   "execution_count": 11,
   "metadata": {
    "colab": {},
    "colab_type": "code",
    "id": "3C14250QOGpL"
   },
   "outputs": [],
   "source": [
    "from tensorflow.keras.utils import to_categorical\n",
    "\n",
    "Xr = X.reshape((len(X),32,32,3))\n",
    "Xr = Xr / 255.\n",
    "yr = to_categorical(y)"
   ]
  },
  {
   "cell_type": "code",
   "execution_count": 12,
   "metadata": {
    "colab": {},
    "colab_type": "code",
    "id": "sbxtRoDcMuMK"
   },
   "outputs": [],
   "source": [
    "# DO NOT EDIT. DO NOT OVERWRITE THESE VARIABLES.\n",
    "from sklearn.model_selection import train_test_split\n",
    "# We do an 80-20 split for the training and test set, and then again a 80-20 split into training and validation data\n",
    "X_train_all, X_test, y_train_all, y_test = train_test_split(Xr,yr, stratify=yr, train_size=0.8, test_size=0.2, random_state=1)\n",
    "X_train, X_val, y_train, y_val = train_test_split(X_train_all,y_train_all, stratify=y_train_all, train_size=0.8, random_state=1)\n",
    "evaluation_split = X_train, X_val, y_train, y_val"
   ]
  },
  {
   "cell_type": "markdown",
   "metadata": {
    "colab_type": "text",
    "id": "gUAf28y2O6ks"
   },
   "source": [
    "Check the formatting - and what the data looks like"
   ]
  },
  {
   "cell_type": "code",
   "execution_count": 13,
   "metadata": {
    "colab": {
     "base_uri": "https://localhost:8080/",
     "height": 141
    },
    "colab_type": "code",
    "id": "QEWsr56hMuL8",
    "outputId": "e22ff51f-b96b-4d7c-82c9-107446e30878"
   },
   "outputs": [
    {
     "data": {
      "image/png": "[encoded data removed]",
      "text/plain": [
       "<Figure size 720x360 with 5 Axes>"
      ]
     },
     "metadata": {},
     "output_type": "display_data"
    }
   ],
   "source": [
    "from random import randint\n",
    "\n",
    "# Takes a list of row ids, and plots the corresponding images\n",
    "# Use grayscale=True for plotting grayscale images\n",
    "def plot_images(X, y, grayscale=False):\n",
    "    fig, axes = plt.subplots(1, len(X),  figsize=(10, 5))\n",
    "    for n in range(len(X)):\n",
    "        if grayscale:\n",
    "            axes[n].imshow(X[n], cmap='gray')\n",
    "        else:\n",
    "            axes[n].imshow(X[n])\n",
    "        axes[n].set_xlabel((np.argmax(y[n])+1)%10) # Label is index+1\n",
    "        axes[n].set_xticks(()), axes[n].set_yticks(())\n",
    "    plt.show();\n",
    "\n",
    "images = [randint(0,len(X_train)) for i in range(5)]\n",
    "X_random = [X_train[i] for i in images]\n",
    "y_random = [y_train[i] for i in images]\n",
    "plot_images(X_random, y_random)"
   ]
  },
  {
   "cell_type": "markdown",
   "metadata": {
    "colab_type": "text",
    "id": "yUQ22FEawd-J"
   },
   "source": [
    "### Evaluation harness\n",
    "We provide an evaluation function 'run_evaluation' that you should use to \n",
    "evaluate all your models. It also stores the trained models to disk so that\n",
    "your submission can be quickly verified, as well as to avoid having to train\n",
    "them over and over again. Your last run of the evaluation function (the last one\n",
    "stored to file), is the one that will be evaluated. The 'train' argument indicates whether to train or to load from disk. We have provided helper functions for saving and loading models to/from file, assuming you use TensorFlow. If you use PyTorch you'll have to adapt them."
   ]
  },
  {
   "cell_type": "code",
   "execution_count": 14,
   "metadata": {
    "colab": {},
    "colab_type": "code",
    "id": "SFGTq4mUV2zK"
   },
   "outputs": [],
   "source": [
    "import os\n",
    "import pickle\n",
    "import pandas as pd\n",
    "import numpy as np\n",
    "from tensorflow.keras.models import load_model # for use with tensorflow\n",
    "\n",
    "def shout(text, verbose=1):\n",
    "    \"\"\" Prints text in red. Just for fun.\n",
    "    \"\"\"\n",
    "    if verbose>0:\n",
    "        print('\\033[91m'+text+'\\x1b[0m')\n",
    "\n",
    "def load_model_from_file(base_dir, name, extension='.h5'):\n",
    "    \"\"\" Loads a model from a file. The returned model must have a 'fit' and 'summary'\n",
    "    function following the Keras API. Don't change if you use TensorFlow. Otherwise,\n",
    "    adapt as needed. \n",
    "    Keyword arguments:\n",
    "    base_dir -- Directory where the models are stored\n",
    "    name -- Name of the model, e.g. 'question_1_1'\n",
    "    extension -- the file extension\n",
    "    \"\"\"\n",
    "    try:\n",
    "        model = load_model(os.path.join(base_dir, name+extension))\n",
    "    except OSError:\n",
    "        shout(\"Saved model could not be found. Was it trained and stored correctly? Is the base_dir correct?\")\n",
    "        return False\n",
    "    return model\n",
    "\n",
    "def save_model_to_file(model, base_dir, name, extension='.h5'):\n",
    "    \"\"\" Saves a model to file. Don't change if you use TensorFlow. Otherwise,\n",
    "    adapt as needed. \n",
    "    Keyword arguments:\n",
    "    model -- the model to be saved\n",
    "    base_dir -- Directory where the models should be stored\n",
    "    name -- Name of the model, e.g. 'question_1_1'\n",
    "    extension -- the file extension\n",
    "    \"\"\"\n",
    "    model.save(os.path.join(base_dir, name+extension))\n",
    "\n",
    "# Helper function to extract min/max from the learning curves\n",
    "def minMax(x):\n",
    "    return pd.Series(index=['min','max'],data=[x.min(),x.max()])\n",
    "\n",
    "# DO NOT EDIT\n",
    "def run_evaluation(name, model_builder, data, base_dir, train=True, \n",
    "                   generator=False, epochs=3, batch_size=32, steps_per_epoch=60, \n",
    "                   verbose=1, **kwargs):\n",
    "    \"\"\" Trains and evaluates the given model on the predefined train and test splits,\n",
    "    stores the trained model and learning curves. Also prints out a summary of the \n",
    "    model and plots the learning curves.\n",
    "    Keyword arguments:\n",
    "    name -- the name of the model to be stored, e.g. 'question_1_1.h5'\n",
    "    model_builder -- function that returns an (untrained) model. The model must \n",
    "                     have a 'fit' function that follows the Keras API. It can wrap\n",
    "                     a non-Keras model as long as the 'fit' function takes the \n",
    "                     same attributes and returns the learning curves (history).\n",
    "                     It also must have a 'summary' function that prints out a \n",
    "                     model summary, and a 'save' function that saves the model \n",
    "                     to disk. \n",
    "    data -- data split for evaluation. A tuple of either:\n",
    "            * Numpy arrays (X_train, X_val, y_train, y_val)\n",
    "            * A data generator and validation data (generator, X_val, y_val)\n",
    "    base_dir -- the directory to save or read models to/from\n",
    "    train -- whether or not the data should be trained. If False, the trained model\n",
    "             will be loaded from disk.\n",
    "    generator -- whether the data in given as a generator or not\n",
    "    epochs -- the number of epochs to train for\n",
    "    batch_size -- the batch size to train with\n",
    "    steps_per_epoch -- steps per epoch, in case a generator is used (ignored otherwise)\n",
    "    verbose -- verbosity level, 0: silent, 1: minimal,...\n",
    "    kwargs -- keyword arguments that should be passed to model_builder.\n",
    "              Not required, but may help you to adjust its behavior\n",
    "    \"\"\"\n",
    "    model = model_builder(**kwargs)\n",
    "    if not model:\n",
    "        shout(\"No model is returned by the model_builder\")\n",
    "        return\n",
    "    if not hasattr(model, 'fit'):\n",
    "        shout(\"Model is not built correctly\")\n",
    "        return\n",
    "    learning_curves = {}\n",
    "    if train and not stop_training: # Train anew\n",
    "        shout(\"Training the model\", verbose)\n",
    "        if generator:\n",
    "            generator, X_val, y_val = data\n",
    "            history = model.fit(generator, epochs=epochs, batch_size=batch_size,\n",
    "                              steps_per_epoch=steps_per_epoch, verbose=1, \n",
    "                              validation_data=(X_val, y_val))\n",
    "            learning_curves = history.history\n",
    "        else:\n",
    "            X_train, X_val, y_train, y_val = data\n",
    "            history = model.fit(X_train, y_train, epochs=epochs, batch_size=batch_size,\n",
    "                              verbose=1, validation_data=(X_val, y_val))\n",
    "            learning_curves = history.history\n",
    "        shout(\"Saving to file\", verbose)\n",
    "        save_model_to_file(model, base_dir, name)\n",
    "        with open(os.path.join(base_dir, name+'.p'), 'wb') as file_pi:\n",
    "            pickle.dump(learning_curves, file_pi)\n",
    "        shout(\"Model stored in \"+base_dir, verbose)\n",
    "    else: # Load from file\n",
    "        shout(\"Loading model from file\", verbose)\n",
    "        model = load_model_from_file(base_dir, name)\n",
    "        if not model:\n",
    "            shout(\"Model not found\")\n",
    "            return\n",
    "        learning_curves = None\n",
    "        try:\n",
    "            learning_curves = pickle.load(open(os.path.join(base_dir, name+'.p'), \"rb\"))\n",
    "        except FileNotFoundError:\n",
    "            shout(\"Learning curves not found\")\n",
    "            return\n",
    "        shout(\"Success!\", verbose)\n",
    "    # Report\n",
    "    print(model.summary())\n",
    "    lc = pd.DataFrame(learning_curves)\n",
    "    lc.plot(lw=2,style=['b:','r:','b-','r-']);\n",
    "    plt.xlabel('epochs');\n",
    "    print(lc.apply(minMax))"
   ]
  },
  {
   "cell_type": "code",
   "execution_count": 15,
   "metadata": {
    "colab": {
     "base_uri": "https://localhost:8080/",
     "height": 733
    },
    "colab_type": "code",
    "id": "FCzYq_jpkDZO",
    "outputId": "e1ed3e9c-d4b1-4feb-bc21-4a4a683c3fbf"
   },
   "outputs": [
    {
     "name": "stdout",
     "output_type": "stream",
     "text": [
      "\u001b[91mTraining the model\u001b[0m\n",
      "Train on 63544 samples, validate on 15887 samples\n",
      "Epoch 1/3\n",
      "63544/63544 [==============================] - 4s 66us/sample - loss: 2.2158 - accuracy: 0.1897 - val_loss: 2.1770 - val_accuracy: 0.1910\n",
      "Epoch 2/3\n",
      "63544/63544 [==============================] - 4s 56us/sample - loss: 2.1693 - accuracy: 0.1916 - val_loss: 2.1766 - val_accuracy: 0.1942\n",
      "Epoch 3/3\n",
      "63544/63544 [==============================] - 4s 55us/sample - loss: 2.1661 - accuracy: 0.1947 - val_loss: 2.1600 - val_accuracy: 0.1969\n",
      "\u001b[91mSaving to file\u001b[0m\n",
      "\u001b[91mModel stored in C:\\Users\\s162163\\Documents\\Data mining\\assignment-3-Thijs13\u001b[0m\n",
      "Model: \"sequential\"\n",
      "_________________________________________________________________\n",
      "Layer (type)                 Output Shape              Param #   \n",
      "=================================================================\n",
      "reshape (Reshape)            (None, 3072)              0         \n",
      "_________________________________________________________________\n",
      "dense (Dense)                (None, 10)                30730     \n",
      "_________________________________________________________________\n",
      "dense_1 (Dense)              (None, 10)                110       \n",
      "=================================================================\n",
      "Total params: 30,840\n",
      "Trainable params: 30,840\n",
      "Non-trainable params: 0\n",
      "_________________________________________________________________\n",
      "None\n",
      "         loss  accuracy  val_loss  val_accuracy\n",
      "min  2.166052  0.189711  2.159976      0.190974\n",
      "max  2.215764  0.194684  2.176973      0.196891\n"
     ]
    },
    {
     "data": {
      "image/png": "[encoded data removed]",
      "text/plain": [
       "<Figure size 432x288 with 1 Axes>"
      ]
     },
     "metadata": {
      "needs_background": "light"
     },
     "output_type": "display_data"
    }
   ],
   "source": [
    "# Toy usage example\n",
    "# Remove before submission\n",
    "from tensorflow.keras import models\n",
    "from tensorflow.keras import layers \n",
    "\n",
    "def build_toy_model():\n",
    "    model = models.Sequential()\n",
    "    model.add(layers.Reshape((3072,), input_shape=(32,32,3)))\n",
    "    model.add(layers.Dense(10, activation='relu'))\n",
    "    model.add(layers.Dense(10, activation='softmax'))\n",
    "    model.compile(optimizer='rmsprop',\n",
    "                  loss='categorical_crossentropy',\n",
    "                  metrics=['accuracy'])\n",
    "    return model\n",
    "\n",
    "# First build and store\n",
    "run_evaluation(\"toy_example\", build_toy_model, evaluation_split, base_dir, \n",
    "               train=True, epochs=3, batch_size=32)"
   ]
  },
  {
   "cell_type": "code",
   "execution_count": 16,
   "metadata": {
    "colab": {
     "base_uri": "https://localhost:8080/",
     "height": 615
    },
    "colab_type": "code",
    "id": "vKkkQwwdta8r",
    "outputId": "bfabbe3e-969c-441d-f5ec-886eb59c3f0a"
   },
   "outputs": [
    {
     "name": "stdout",
     "output_type": "stream",
     "text": [
      "\u001b[91mLoading model from file\u001b[0m\n",
      "\u001b[91mSuccess!\u001b[0m\n",
      "Model: \"sequential\"\n",
      "_________________________________________________________________\n",
      "Layer (type)                 Output Shape              Param #   \n",
      "=================================================================\n",
      "reshape (Reshape)            (None, 3072)              0         \n",
      "_________________________________________________________________\n",
      "dense (Dense)                (None, 10)                30730     \n",
      "_________________________________________________________________\n",
      "dense_1 (Dense)              (None, 10)                110       \n",
      "=================================================================\n",
      "Total params: 30,840\n",
      "Trainable params: 30,840\n",
      "Non-trainable params: 0\n",
      "_________________________________________________________________\n",
      "None\n",
      "         loss  accuracy  val_loss  val_accuracy\n",
      "min  2.166052  0.189711  2.159976      0.190974\n",
      "max  2.215764  0.194684  2.176973      0.196891\n"
     ]
    },
    {
     "data": {
      "image/png": "[encoded data removed]",
      "text/plain": [
       "<Figure size 432x288 with 1 Axes>"
      ]
     },
     "metadata": {
      "needs_background": "light"
     },
     "output_type": "display_data"
    }
   ],
   "source": [
    "# Toy usage example\n",
    "# Remove before submission\n",
    "# With train=False: load from file and report the same results without rerunning\n",
    "run_evaluation(\"toy_example\", build_toy_model, evaluation_split, base_dir, \n",
    "               train=False)"
   ]
  },
  {
   "cell_type": "markdown",
   "metadata": {
    "colab_type": "text",
    "id": "IU_zPWGPypce"
   },
   "source": [
    "## Part 1. Dense networks (10 points)\n",
    "\n",
    "### Question 1.1: Baseline model (4 points)\n",
    "- Build a dense network (with only dense layers) of at least 3 layers that is shaped like a pyramid: The first layer must have many nodes, and every subsequent layer must have increasingly fewer nodes, e.g. half as many. Implement a function 'build_model_1_1' that returns this model.\n",
    "- You can explore different settings, but don't use any preprocessing or regularization yet. You should be able to achieve at least 70% accuracy, but more is of course better. Unless otherwise stated, you can use accuracy as the evaluation metric in all questions.\n",
    "* Add a small description of your design choices (max. 500 characters) in 'answer_q_1_1': explain what you did and also why. Also discuss the performance of the model. Is it working well? Both the performance of the model and your explanations matter.\n",
    "- The name of the model should be 'model_1_1'. Evaluate it using the 'run_evaluation' function. For this question, you should not use more than 50 epochs."
   ]
  },
  {
   "cell_type": "code",
   "execution_count": 17,
   "metadata": {
    "colab": {
     "base_uri": "https://localhost:8080/",
     "height": 1000
    },
    "colab_type": "code",
    "id": "hci6BIdHJTN0",
    "outputId": "640fb6d7-f5bf-4caf-e5bc-e7049df4dec5"
   },
   "outputs": [
    {
     "name": "stdout",
     "output_type": "stream",
     "text": [
      "\u001b[91mTraining the model\u001b[0m\n",
      "Train on 63544 samples, validate on 15887 samples\n",
      "Epoch 1/20\n",
      "63544/63544 [==============================] - 7s 103us/sample - loss: 2.2341 - accuracy: 0.1911 - val_loss: 2.2240 - val_accuracy: 0.1910\n",
      "Epoch 2/20\n",
      "63544/63544 [==============================] - 6s 98us/sample - loss: 2.1750 - accuracy: 0.2041 - val_loss: 2.1009 - val_accuracy: 0.2192\n",
      "Epoch 3/20\n",
      "63544/63544 [==============================] - 6s 97us/sample - loss: 2.0010 - accuracy: 0.2641 - val_loss: 1.9893 - val_accuracy: 0.2786\n",
      "Epoch 4/20\n",
      "63544/63544 [==============================] - 6s 96us/sample - loss: 1.8219 - accuracy: 0.3857 - val_loss: 1.7145 - val_accuracy: 0.4424\n",
      "Epoch 5/20\n",
      "63544/63544 [==============================] - 6s 96us/sample - loss: 1.6341 - accuracy: 0.4598 - val_loss: 1.6067 - val_accuracy: 0.4529\n",
      "Epoch 6/20\n",
      "63544/63544 [==============================] - 6s 97us/sample - loss: 1.4860 - accuracy: 0.5055 - val_loss: 1.4211 - val_accuracy: 0.5338\n",
      "Epoch 7/20\n",
      "63544/63544 [==============================] - 6s 97us/sample - loss: 1.3664 - accuracy: 0.5537 - val_loss: 1.3755 - val_accuracy: 0.5584\n",
      "Epoch 8/20\n",
      "63544/63544 [==============================] - 6s 96us/sample - loss: 1.2666 - accuracy: 0.6035 - val_loss: 1.2261 - val_accuracy: 0.6233\n",
      "Epoch 9/20\n",
      "63544/63544 [==============================] - 6s 98us/sample - loss: 1.1725 - accuracy: 0.6403 - val_loss: 1.1639 - val_accuracy: 0.6441\n",
      "Epoch 10/20\n",
      "63544/63544 [==============================] - 6s 96us/sample - loss: 1.0988 - accuracy: 0.6642 - val_loss: 1.0694 - val_accuracy: 0.6821\n",
      "Epoch 11/20\n",
      "63544/63544 [==============================] - 6s 97us/sample - loss: 1.0407 - accuracy: 0.6840 - val_loss: 1.0153 - val_accuracy: 0.6921\n",
      "Epoch 12/20\n",
      "63544/63544 [==============================] - 6s 97us/sample - loss: 0.9921 - accuracy: 0.6989 - val_loss: 0.9985 - val_accuracy: 0.6967\n",
      "Epoch 13/20\n",
      "63544/63544 [==============================] - 6s 99us/sample - loss: 0.9468 - accuracy: 0.7114 - val_loss: 0.9488 - val_accuracy: 0.7183\n",
      "Epoch 14/20\n",
      "63544/63544 [==============================] - 6s 97us/sample - loss: 0.9108 - accuracy: 0.7216 - val_loss: 0.9329 - val_accuracy: 0.7179\n",
      "Epoch 15/20\n",
      "63544/63544 [==============================] - 6s 97us/sample - loss: 0.8800 - accuracy: 0.7316 - val_loss: 1.0557 - val_accuracy: 0.6670\n",
      "Epoch 16/20\n",
      "63544/63544 [==============================] - 6s 98us/sample - loss: 0.8531 - accuracy: 0.7384 - val_loss: 0.8518 - val_accuracy: 0.7414\n",
      "Epoch 17/20\n",
      "63544/63544 [==============================] - 6s 100us/sample - loss: 0.8253 - accuracy: 0.7482 - val_loss: 0.8686 - val_accuracy: 0.7348\n",
      "Epoch 18/20\n",
      "63544/63544 [==============================] - 6s 102us/sample - loss: 0.8027 - accuracy: 0.7538 - val_loss: 0.8459 - val_accuracy: 0.7415\n",
      "Epoch 19/20\n",
      "63544/63544 [==============================] - 6s 100us/sample - loss: 0.7810 - accuracy: 0.7621 - val_loss: 0.8671 - val_accuracy: 0.7387\n",
      "Epoch 20/20\n",
      "63544/63544 [==============================] - 6s 100us/sample - loss: 0.7633 - accuracy: 0.7673 - val_loss: 0.7964 - val_accuracy: 0.7598\n",
      "\u001b[91mSaving to file\u001b[0m\n",
      "\u001b[91mModel stored in C:\\Users\\s162163\\Documents\\Data mining\\assignment-3-Thijs13\u001b[0m\n",
      "Model: \"sequential_2\"\n",
      "_________________________________________________________________\n",
      "Layer (type)                 Output Shape              Param #   \n",
      "=================================================================\n",
      "flatten (Flatten)            multiple                  0         \n",
      "_________________________________________________________________\n",
      "dense_4 (Dense)              multiple                  393344    \n",
      "_________________________________________________________________\n",
      "dense_5 (Dense)              multiple                  8256      \n",
      "_________________________________________________________________\n",
      "dense_6 (Dense)              multiple                  2080      \n",
      "_________________________________________________________________\n",
      "dense_7 (Dense)              multiple                  528       \n",
      "_________________________________________________________________\n",
      "dense_8 (Dense)              multiple                  170       \n",
      "=================================================================\n",
      "Total params: 404,378\n",
      "Trainable params: 404,378\n",
      "Non-trainable params: 0\n",
      "_________________________________________________________________\n",
      "None\n",
      "         loss  accuracy  val_loss  val_accuracy\n",
      "min  0.763342  0.191112  0.796388      0.191037\n",
      "max  2.234093  0.767311  2.223975      0.759804\n",
      "Answer is 453 characters long\n"
     ]
    },
    {
     "data": {
      "image/png": "[encoded data removed]",
      "text/plain": [
       "<Figure size 432x288 with 1 Axes>"
      ]
     },
     "metadata": {
      "needs_background": "light"
     },
     "output_type": "display_data"
    }
   ],
   "source": [
    "def build_model_1_1():\n",
    "    model = models.Sequential()\n",
    "    model.add(layers.Flatten())\n",
    "    model.add(layers.Dense(128, activation='tanh'))\n",
    "    model.add(layers.Dense(64, activation='tanh'))\n",
    "    model.add(layers.Dense(32, activation='tanh'))\n",
    "    model.add(layers.Dense(16, activation='tanh'))\n",
    "    model.add(layers.Dense(10, activation='sigmoid'))\n",
    "    model.compile(optimizer='sgd', loss='categorical_crossentropy', metrics=['accuracy'])\n",
    "    return model\n",
    "\n",
    "run_evaluation(\"model_1_1\", build_model_1_1, evaluation_split, base_dir, \n",
    "               train=True, epochs=20, batch_size=32)\n",
    "\n",
    "answer_q_1_1 = \"\"\"\n",
    "               I struggeled for a while with the correct transformation of the data, flatten seems to work well. \n",
    "               I tried various layer shapes, but found none better than simply halving the amount of nodes.\n",
    "               The tanh and sigmoid activation functions outperformed others like relu and softmax. I tried \n",
    "               various optimizers and loss functions, SGD and categorical_crossentropy seem to work best.\n",
    "               \"\"\"\n",
    "print(\"Answer is {} characters long\".format(len(answer_q_1_1)))"
   ]
  },
  {
   "cell_type": "markdown",
   "metadata": {
    "colab_type": "text",
    "id": "kmicpoNvonjd"
   },
   "source": [
    "### Question 1.2: Preprocessing (2 points)\n",
    "Rerun the model, but now preprocess the data first by converting the images to \n",
    "greyscale. You can use the helper function below. If you want to do additional \n",
    "preprocessing, you can do that here, too.\n",
    "* Store the preprocessed data as a tuple `preprocessed_split`\n",
    "* Rerun and re-evaluate your model using the preprocessed data.\n",
    "  * For the remainder of the assignment, always use the preprocessed data\n",
    "* Explain what you did and interpret the results in 'answer_q_1_2'. Is the model\n",
    "  better, if so, why?"
   ]
  },
  {
   "cell_type": "code",
   "execution_count": 18,
   "metadata": {
    "colab": {},
    "colab_type": "code",
    "id": "_wFGWDQSqkIM"
   },
   "outputs": [],
   "source": [
    "# Luminance-preserving RGB to greyscale conversion\n",
    "def rgb2gray(X):\n",
    "    return np.expand_dims(np.dot(X, [0.2990, 0.5870, 0.1140]), axis=3)"
   ]
  },
  {
   "cell_type": "code",
   "execution_count": 19,
   "metadata": {
    "colab": {
     "base_uri": "https://localhost:8080/",
     "height": 1000
    },
    "colab_type": "code",
    "id": "3aTVsLaojNeM",
    "outputId": "e331f5a7-0738-458d-eac6-289d288de336"
   },
   "outputs": [
    {
     "name": "stdout",
     "output_type": "stream",
     "text": [
      "\u001b[91mTraining the model\u001b[0m\n",
      "Train on 63544 samples, validate on 15887 samples\n",
      "Epoch 1/20\n",
      "63544/63544 [==============================] - 5s 86us/sample - loss: 2.2326 - accuracy: 0.1908 - val_loss: 2.2269 - val_accuracy: 0.1910\n",
      "Epoch 2/20\n",
      "63544/63544 [==============================] - 4s 63us/sample - loss: 2.2156 - accuracy: 0.1927 - val_loss: 2.1987 - val_accuracy: 0.1983\n",
      "Epoch 3/20\n",
      "63544/63544 [==============================] - 4s 62us/sample - loss: 2.1306 - accuracy: 0.2311 - val_loss: 2.0366 - val_accuracy: 0.2896\n",
      "Epoch 4/20\n",
      "63544/63544 [==============================] - 4s 64us/sample - loss: 1.9103 - accuracy: 0.3652 - val_loss: 1.8082 - val_accuracy: 0.4064\n",
      "Epoch 5/20\n",
      "63544/63544 [==============================] - 4s 64us/sample - loss: 1.6945 - accuracy: 0.4264 - val_loss: 1.7022 - val_accuracy: 0.4345\n",
      "Epoch 6/20\n",
      "63544/63544 [==============================] - 4s 64us/sample - loss: 1.5633 - accuracy: 0.4707 - val_loss: 1.7531 - val_accuracy: 0.3794\n",
      "Epoch 7/20\n",
      "63544/63544 [==============================] - 4s 63us/sample - loss: 1.4520 - accuracy: 0.5211 - val_loss: 1.3767 - val_accuracy: 0.5534\n",
      "Epoch 8/20\n",
      "63544/63544 [==============================] - 4s 64us/sample - loss: 1.3573 - accuracy: 0.5546 - val_loss: 1.3464 - val_accuracy: 0.5581\n",
      "Epoch 9/20\n",
      "63544/63544 [==============================] - 4s 62us/sample - loss: 1.2731 - accuracy: 0.5864 - val_loss: 1.2622 - val_accuracy: 0.5856\n",
      "Epoch 10/20\n",
      "63544/63544 [==============================] - 4s 64us/sample - loss: 1.2103 - accuracy: 0.6156 - val_loss: 1.1660 - val_accuracy: 0.6327\n",
      "Epoch 11/20\n",
      "63544/63544 [==============================] - 4s 64us/sample - loss: 1.1577 - accuracy: 0.6357 - val_loss: 1.2047 - val_accuracy: 0.6131\n",
      "Epoch 12/20\n",
      "63544/63544 [==============================] - 4s 64us/sample - loss: 1.1087 - accuracy: 0.6527 - val_loss: 1.0986 - val_accuracy: 0.6626\n",
      "Epoch 13/20\n",
      "63544/63544 [==============================] - 4s 64us/sample - loss: 1.0683 - accuracy: 0.6667 - val_loss: 1.0546 - val_accuracy: 0.6699\n",
      "Epoch 14/20\n",
      "63544/63544 [==============================] - 4s 62us/sample - loss: 1.0250 - accuracy: 0.6808 - val_loss: 1.0035 - val_accuracy: 0.6919\n",
      "Epoch 15/20\n",
      "63544/63544 [==============================] - 4s 64us/sample - loss: 0.9890 - accuracy: 0.6955 - val_loss: 0.9953 - val_accuracy: 0.6923\n",
      "Epoch 16/20\n",
      "63544/63544 [==============================] - 4s 61us/sample - loss: 0.9520 - accuracy: 0.7090 - val_loss: 0.9758 - val_accuracy: 0.7049\n",
      "Epoch 17/20\n",
      "63544/63544 [==============================] - 4s 65us/sample - loss: 0.9198 - accuracy: 0.7200 - val_loss: 0.9822 - val_accuracy: 0.6990\n",
      "Epoch 18/20\n",
      "63544/63544 [==============================] - 4s 62us/sample - loss: 0.8896 - accuracy: 0.7302 - val_loss: 0.9582 - val_accuracy: 0.7055\n",
      "Epoch 19/20\n",
      "63544/63544 [==============================] - 4s 62us/sample - loss: 0.8633 - accuracy: 0.7385 - val_loss: 0.8829 - val_accuracy: 0.7303\n",
      "Epoch 20/20\n",
      "63544/63544 [==============================] - 4s 63us/sample - loss: 0.8414 - accuracy: 0.7453 - val_loss: 0.8902 - val_accuracy: 0.7297\n",
      "\u001b[91mSaving to file\u001b[0m\n",
      "\u001b[91mModel stored in C:\\Users\\s162163\\Documents\\Data mining\\assignment-3-Thijs13\u001b[0m\n",
      "Model: \"sequential_3\"\n",
      "_________________________________________________________________\n",
      "Layer (type)                 Output Shape              Param #   \n",
      "=================================================================\n",
      "flatten_1 (Flatten)          multiple                  0         \n",
      "_________________________________________________________________\n",
      "dense_9 (Dense)              multiple                  131200    \n",
      "_________________________________________________________________\n",
      "dense_10 (Dense)             multiple                  8256      \n",
      "_________________________________________________________________\n",
      "dense_11 (Dense)             multiple                  2080      \n",
      "_________________________________________________________________\n",
      "dense_12 (Dense)             multiple                  528       \n",
      "_________________________________________________________________\n",
      "dense_13 (Dense)             multiple                  170       \n",
      "=================================================================\n",
      "Total params: 142,234\n",
      "Trainable params: 142,234\n",
      "Non-trainable params: 0\n",
      "_________________________________________________________________\n",
      "None\n",
      "         loss  accuracy  val_loss  val_accuracy\n",
      "min  0.841416  0.190781  0.882943      0.190974\n",
      "max  2.232550  0.745342  2.226901      0.730283\n",
      "Answer is 151 characters long\n"
     ]
    },
    {
     "data": {
      "image/png": "[encoded data removed]",
      "text/plain": [
       "<Figure size 432x288 with 1 Axes>"
      ]
     },
     "metadata": {
      "needs_background": "light"
     },
     "output_type": "display_data"
    }
   ],
   "source": [
    "# Replace with the preprocessed data\n",
    "preprocessed_split = rgb2gray(X_train), rgb2gray(X_val), y_train, y_val\n",
    "\n",
    "# Adjusted model\n",
    "def build_model_1_2():\n",
    "  model = models.Sequential()\n",
    "  model.add(layers.Flatten())\n",
    "  model.add(layers.Dense(128, activation='tanh'))\n",
    "  model.add(layers.Dense(64, activation='tanh'))\n",
    "  model.add(layers.Dense(32, activation='tanh'))\n",
    "  model.add(layers.Dense(16, activation='tanh'))\n",
    "  model.add(layers.Dense(10, activation='sigmoid'))\n",
    "  model.compile(optimizer='sgd', loss='categorical_crossentropy', metrics=['accuracy'])\n",
    "  return model\n",
    "\n",
    "# Evaluate. Use a new name 'model_1_2' to not overwrite the previous trained model\n",
    "run_evaluation(\"model_1_2\", build_model_1_2, preprocessed_split, base_dir, \n",
    "               train=True, epochs=20, batch_size=32)\n",
    "answer_q_1_2 = \"\"\"\n",
    "               Using grayscale images did not seem to improve model performance, accuracy\n",
    "               is the same or slightly lower\n",
    "               \"\"\"\n",
    "print(\"Answer is {} characters long\".format(len(answer_q_1_2)))"
   ]
  },
  {
   "cell_type": "markdown",
   "metadata": {
    "colab_type": "text",
    "id": "7l1pHwimiWQI"
   },
   "source": [
    "### Question 1.3: Regularization and tuning (4 points)\n",
    "* Regularize the model. You can explore (and combine) different techniques. What works best?\n",
    "* Tune other hyperparameters (e.g. learning rate, batch size,...) as you see fit.\n",
    "* Explain your findings and final design decisions. Retrain the model again on the preprocessed data and discuss the results.\n",
    "* Return your model in function 'build_model_1_3' and write your answer in 'answer_q_1_3'"
   ]
  },
  {
   "cell_type": "code",
   "execution_count": 20,
   "metadata": {
    "colab": {
     "base_uri": "https://localhost:8080/",
     "height": 1000
    },
    "colab_type": "code",
    "id": "2ZZenVX1jDIQ",
    "outputId": "810f9da5-379c-4ef8-d0a2-b297e9dc8409"
   },
   "outputs": [
    {
     "name": "stderr",
     "output_type": "stream",
     "text": [
      "Using TensorFlow backend.\n"
     ]
    },
    {
     "name": "stdout",
     "output_type": "stream",
     "text": [
      "\u001b[91mTraining the model\u001b[0m\n",
      "Train on 63544 samples, validate on 15887 samples\n",
      "Epoch 1/20\n",
      "63544/63544 [==============================] - 14s 214us/sample - loss: 2.2253 - accuracy: 0.1921 - val_loss: 2.1846 - val_accuracy: 0.2254\n",
      "Epoch 2/20\n",
      "63544/63544 [==============================] - 13s 212us/sample - loss: 1.9380 - accuracy: 0.3195 - val_loss: 1.7408 - val_accuracy: 0.4241\n",
      "Epoch 3/20\n",
      "63544/63544 [==============================] - 13s 212us/sample - loss: 1.4573 - accuracy: 0.5238 - val_loss: 1.2980 - val_accuracy: 0.5903\n",
      "Epoch 4/20\n",
      "63544/63544 [==============================] - 14s 213us/sample - loss: 1.2596 - accuracy: 0.5993 - val_loss: 1.1925 - val_accuracy: 0.6245\n",
      "Epoch 5/20\n",
      "63544/63544 [==============================] - 14s 221us/sample - loss: 1.1285 - accuracy: 0.6468 - val_loss: 1.1839 - val_accuracy: 0.6342\n",
      "Epoch 6/20\n",
      "63544/63544 [==============================] - 13s 211us/sample - loss: 1.0391 - accuracy: 0.6788 - val_loss: 0.9488 - val_accuracy: 0.7116\n",
      "Epoch 7/20\n",
      "63544/63544 [==============================] - 14s 213us/sample - loss: 0.9707 - accuracy: 0.6994 - val_loss: 0.9335 - val_accuracy: 0.7123\n",
      "Epoch 8/20\n",
      "63544/63544 [==============================] - 13s 211us/sample - loss: 0.9170 - accuracy: 0.7161 - val_loss: 0.9215 - val_accuracy: 0.7125\n",
      "Epoch 9/20\n",
      "63544/63544 [==============================] - 14s 214us/sample - loss: 0.8776 - accuracy: 0.7292 - val_loss: 0.8910 - val_accuracy: 0.7231\n",
      "Epoch 10/20\n",
      "63544/63544 [==============================] - 13s 212us/sample - loss: 0.8417 - accuracy: 0.7402 - val_loss: 0.8385 - val_accuracy: 0.7439\n",
      "Epoch 11/20\n",
      "63544/63544 [==============================] - 14s 214us/sample - loss: 0.8137 - accuracy: 0.7508 - val_loss: 0.8318 - val_accuracy: 0.7421\n",
      "Epoch 12/20\n",
      "63544/63544 [==============================] - 14s 213us/sample - loss: 0.7856 - accuracy: 0.7557 - val_loss: 0.7914 - val_accuracy: 0.7570\n",
      "Epoch 13/20\n",
      "63544/63544 [==============================] - 14s 214us/sample - loss: 0.7631 - accuracy: 0.7629 - val_loss: 0.8010 - val_accuracy: 0.7526\n",
      "Epoch 14/20\n",
      "63544/63544 [==============================] - 14s 214us/sample - loss: 0.7450 - accuracy: 0.7703 - val_loss: 0.7595 - val_accuracy: 0.7653\n",
      "Epoch 15/20\n",
      "63544/63544 [==============================] - 14s 216us/sample - loss: 0.7277 - accuracy: 0.7741 - val_loss: 0.7670 - val_accuracy: 0.7675\n",
      "Epoch 16/20\n",
      "63544/63544 [==============================] - 14s 216us/sample - loss: 0.7115 - accuracy: 0.7796 - val_loss: 0.7427 - val_accuracy: 0.7714\n",
      "Epoch 17/20\n",
      "63544/63544 [==============================] - 14s 214us/sample - loss: 0.6970 - accuracy: 0.7850 - val_loss: 0.7530 - val_accuracy: 0.7689\n",
      "Epoch 18/20\n",
      "63544/63544 [==============================] - 14s 214us/sample - loss: 0.6867 - accuracy: 0.7881 - val_loss: 0.7700 - val_accuracy: 0.7625\n",
      "Epoch 19/20\n",
      "63544/63544 [==============================] - 14s 221us/sample - loss: 0.6698 - accuracy: 0.7931 - val_loss: 0.7360 - val_accuracy: 0.7759\n",
      "Epoch 20/20\n",
      "63544/63544 [==============================] - 14s 214us/sample - loss: 0.6602 - accuracy: 0.7955 - val_loss: 0.7266 - val_accuracy: 0.7803\n",
      "\u001b[91mSaving to file\u001b[0m\n",
      "\u001b[91mModel stored in C:\\Users\\s162163\\Documents\\Data mining\\assignment-3-Thijs13\u001b[0m\n",
      "Model: \"sequential_4\"\n",
      "_________________________________________________________________\n",
      "Layer (type)                 Output Shape              Param #   \n",
      "=================================================================\n",
      "flatten_2 (Flatten)          multiple                  0         \n",
      "_________________________________________________________________\n",
      "dense_14 (Dense)             multiple                  131200    \n",
      "_________________________________________________________________\n",
      "dense_15 (Dense)             multiple                  8256      \n",
      "_________________________________________________________________\n",
      "dense_16 (Dense)             multiple                  2080      \n",
      "_________________________________________________________________\n",
      "dense_17 (Dense)             multiple                  528       \n",
      "_________________________________________________________________\n",
      "dense_18 (Dense)             multiple                  170       \n",
      "=================================================================\n",
      "Total params: 142,234\n",
      "Trainable params: 142,234\n",
      "Non-trainable params: 0\n",
      "_________________________________________________________________\n",
      "None\n",
      "         loss  accuracy  val_loss  val_accuracy\n",
      "min  0.660212  0.192103  0.726566      0.225404\n",
      "max  2.225331  0.795543  2.184590      0.780261\n",
      "Answer is 431 characters long\n"
     ]
    },
    {
     "data": {
      "image/png": "[encoded data removed]",
      "text/plain": [
       "<Figure size 432x288 with 1 Axes>"
      ]
     },
     "metadata": {
      "needs_background": "light"
     },
     "output_type": "display_data"
    }
   ],
   "source": [
    "from keras import regularizers\n",
    "\n",
    "def build_model_1_3():\n",
    "  model = models.Sequential()\n",
    "  model.add(layers.Flatten())\n",
    "  model.add(layers.Dense(128, activation='tanh'))\n",
    "  model.add(layers.Dense(64, activation='tanh'))\n",
    "  model.add(layers.Dense(32, activation='tanh'))\n",
    "  model.add(layers.Dense(16, activation='tanh'))\n",
    "  model.add(layers.Dense(10, activation='sigmoid'))\n",
    "  model.compile(optimizer='sgd', loss='categorical_crossentropy', metrics=['accuracy'])\n",
    "  return model\n",
    "\n",
    "run_evaluation(\"model_1_3\", build_model_1_3, preprocessed_split, base_dir, \n",
    "               train=True, epochs=20, batch_size=8)\n",
    "\n",
    "answer_q_1_3 = \"\"\"\n",
    "               Optimizers and loss functions were optimised in question 1.1. Batch normalization\n",
    "               and dropout did not seem to improve model performance. Model performance\n",
    "               increased with decreasing batch size and increasing epochs (till about 20-25), \n",
    "               but train time increased as well. Different learning rates did not impact\n",
    "               model performance positively.\n",
    "\n",
    "               \"\"\"\n",
    "print(\"Answer is {} characters long\".format(len(answer_q_1_3)))"
   ]
  },
  {
   "cell_type": "markdown",
   "metadata": {
    "colab_type": "text",
    "id": "leo7YbI9L5et"
   },
   "source": [
    "## Part 2. Convolutional neural networks (10 points)\n",
    "### Question 2.1: Design a ConvNet (7 points)\n",
    "- Build a sequential convolutional neural network. Try to achieve the best validation accuracy you can. You should be able to get at least 90% accuracy. You can use any depth, any combination of layers, and any kind of regularization and tuning. \n",
    "- Add a description of your design choices in 'answer_q_2_1': explain what you did and also why. Also discuss the performance of the model. Is it working well? Both the performance of the model and your explanations matter.\n",
    "- You are allowed **800** characters for this answer (but don’t ramble).\n",
    "- The name of the model should be 'model_2_1'. Evaluate it using the 'run_evaluation' function and the preprocessed data."
   ]
  },
  {
   "cell_type": "code",
   "execution_count": 23,
   "metadata": {
    "colab": {
     "base_uri": "https://localhost:8080/",
     "height": 1000
    },
    "colab_type": "code",
    "id": "ceyv-n1JRYyP",
    "outputId": "2bedeecd-4f77-4f04-d337-1bb309e58905",
    "scrolled": false
   },
   "outputs": [
    {
     "name": "stdout",
     "output_type": "stream",
     "text": [
      "\u001b[91mTraining the model\u001b[0m\n",
      "Train on 63544 samples, validate on 15887 samples\n",
      "Epoch 1/15\n",
      "63544/63544 [==============================] - 188s 3ms/sample - loss: 0.2962 - accuracy: 0.3091 - val_loss: 0.2189 - val_accuracy: 0.5982\n",
      "Epoch 2/15\n",
      "63544/63544 [==============================] - 185s 3ms/sample - loss: 0.1755 - accuracy: 0.7644 - val_loss: 0.1501 - val_accuracy: 0.8475\n",
      "Epoch 3/15\n",
      "12032/63544 [====>.........................] - ETA: 2:27 - loss: 0.1530 - accuracy: 0.8437"
     ]
    },
    {
     "ename": "KeyboardInterrupt",
     "evalue": "",
     "output_type": "error",
     "traceback": [
      "\u001b[1;31m---------------------------------------------------------------------------\u001b[0m",
      "\u001b[1;31mKeyboardInterrupt\u001b[0m                         Traceback (most recent call last)",
      "\u001b[1;32m<ipython-input-23-55f3ee1bb8bb>\u001b[0m in \u001b[0;36m<module>\u001b[1;34m\u001b[0m\n\u001b[0;32m     21\u001b[0m \u001b[1;33m\u001b[0m\u001b[0m\n\u001b[0;32m     22\u001b[0m run_evaluation(\"model_2_1\", build_model_2_1, preprocessed_split, base_dir, \n\u001b[1;32m---> 23\u001b[1;33m                train=True, epochs=15, batch_size=256)\n\u001b[0m\u001b[0;32m     24\u001b[0m \u001b[1;33m\u001b[0m\u001b[0m\n\u001b[0;32m     25\u001b[0m answer_q_2_1 = \"\"\"\n",
      "\u001b[1;32m<ipython-input-14-c43c31303e12>\u001b[0m in \u001b[0;36mrun_evaluation\u001b[1;34m(name, model_builder, data, base_dir, train, generator, epochs, batch_size, steps_per_epoch, verbose, **kwargs)\u001b[0m\n\u001b[0;32m     91\u001b[0m             \u001b[0mX_train\u001b[0m\u001b[1;33m,\u001b[0m \u001b[0mX_val\u001b[0m\u001b[1;33m,\u001b[0m \u001b[0my_train\u001b[0m\u001b[1;33m,\u001b[0m \u001b[0my_val\u001b[0m \u001b[1;33m=\u001b[0m \u001b[0mdata\u001b[0m\u001b[1;33m\u001b[0m\u001b[1;33m\u001b[0m\u001b[0m\n\u001b[0;32m     92\u001b[0m             history = model.fit(X_train, y_train, epochs=epochs, batch_size=batch_size,\n\u001b[1;32m---> 93\u001b[1;33m                               verbose=1, validation_data=(X_val, y_val))\n\u001b[0m\u001b[0;32m     94\u001b[0m             \u001b[0mlearning_curves\u001b[0m \u001b[1;33m=\u001b[0m \u001b[0mhistory\u001b[0m\u001b[1;33m.\u001b[0m\u001b[0mhistory\u001b[0m\u001b[1;33m\u001b[0m\u001b[1;33m\u001b[0m\u001b[0m\n\u001b[0;32m     95\u001b[0m         \u001b[0mshout\u001b[0m\u001b[1;33m(\u001b[0m\u001b[1;34m\"Saving to file\"\u001b[0m\u001b[1;33m,\u001b[0m \u001b[0mverbose\u001b[0m\u001b[1;33m)\u001b[0m\u001b[1;33m\u001b[0m\u001b[1;33m\u001b[0m\u001b[0m\n",
      "\u001b[1;32m~\\Anaconda3\\lib\\site-packages\\tensorflow_core\\python\\keras\\engine\\training.py\u001b[0m in \u001b[0;36mfit\u001b[1;34m(self, x, y, batch_size, epochs, verbose, callbacks, validation_split, validation_data, shuffle, class_weight, sample_weight, initial_epoch, steps_per_epoch, validation_steps, validation_freq, max_queue_size, workers, use_multiprocessing, **kwargs)\u001b[0m\n\u001b[0;32m    817\u001b[0m         \u001b[0mmax_queue_size\u001b[0m\u001b[1;33m=\u001b[0m\u001b[0mmax_queue_size\u001b[0m\u001b[1;33m,\u001b[0m\u001b[1;33m\u001b[0m\u001b[1;33m\u001b[0m\u001b[0m\n\u001b[0;32m    818\u001b[0m         \u001b[0mworkers\u001b[0m\u001b[1;33m=\u001b[0m\u001b[0mworkers\u001b[0m\u001b[1;33m,\u001b[0m\u001b[1;33m\u001b[0m\u001b[1;33m\u001b[0m\u001b[0m\n\u001b[1;32m--> 819\u001b[1;33m         use_multiprocessing=use_multiprocessing)\n\u001b[0m\u001b[0;32m    820\u001b[0m \u001b[1;33m\u001b[0m\u001b[0m\n\u001b[0;32m    821\u001b[0m   def evaluate(self,\n",
      "\u001b[1;32m~\\Anaconda3\\lib\\site-packages\\tensorflow_core\\python\\keras\\engine\\training_v2.py\u001b[0m in \u001b[0;36mfit\u001b[1;34m(self, model, x, y, batch_size, epochs, verbose, callbacks, validation_split, validation_data, shuffle, class_weight, sample_weight, initial_epoch, steps_per_epoch, validation_steps, validation_freq, max_queue_size, workers, use_multiprocessing, **kwargs)\u001b[0m\n\u001b[0;32m    340\u001b[0m                 \u001b[0mmode\u001b[0m\u001b[1;33m=\u001b[0m\u001b[0mModeKeys\u001b[0m\u001b[1;33m.\u001b[0m\u001b[0mTRAIN\u001b[0m\u001b[1;33m,\u001b[0m\u001b[1;33m\u001b[0m\u001b[1;33m\u001b[0m\u001b[0m\n\u001b[0;32m    341\u001b[0m                 \u001b[0mtraining_context\u001b[0m\u001b[1;33m=\u001b[0m\u001b[0mtraining_context\u001b[0m\u001b[1;33m,\u001b[0m\u001b[1;33m\u001b[0m\u001b[1;33m\u001b[0m\u001b[0m\n\u001b[1;32m--> 342\u001b[1;33m                 total_epochs=epochs)\n\u001b[0m\u001b[0;32m    343\u001b[0m             \u001b[0mcbks\u001b[0m\u001b[1;33m.\u001b[0m\u001b[0mmake_logs\u001b[0m\u001b[1;33m(\u001b[0m\u001b[0mmodel\u001b[0m\u001b[1;33m,\u001b[0m \u001b[0mepoch_logs\u001b[0m\u001b[1;33m,\u001b[0m \u001b[0mtraining_result\u001b[0m\u001b[1;33m,\u001b[0m \u001b[0mModeKeys\u001b[0m\u001b[1;33m.\u001b[0m\u001b[0mTRAIN\u001b[0m\u001b[1;33m)\u001b[0m\u001b[1;33m\u001b[0m\u001b[1;33m\u001b[0m\u001b[0m\n\u001b[0;32m    344\u001b[0m \u001b[1;33m\u001b[0m\u001b[0m\n",
      "\u001b[1;32m~\\Anaconda3\\lib\\site-packages\\tensorflow_core\\python\\keras\\engine\\training_v2.py\u001b[0m in \u001b[0;36mrun_one_epoch\u001b[1;34m(model, iterator, execution_function, dataset_size, batch_size, strategy, steps_per_epoch, num_samples, mode, training_context, total_epochs)\u001b[0m\n\u001b[0;32m    126\u001b[0m         step=step, mode=mode, size=current_batch_size) as batch_logs:\n\u001b[0;32m    127\u001b[0m       \u001b[1;32mtry\u001b[0m\u001b[1;33m:\u001b[0m\u001b[1;33m\u001b[0m\u001b[1;33m\u001b[0m\u001b[0m\n\u001b[1;32m--> 128\u001b[1;33m         \u001b[0mbatch_outs\u001b[0m \u001b[1;33m=\u001b[0m \u001b[0mexecution_function\u001b[0m\u001b[1;33m(\u001b[0m\u001b[0miterator\u001b[0m\u001b[1;33m)\u001b[0m\u001b[1;33m\u001b[0m\u001b[1;33m\u001b[0m\u001b[0m\n\u001b[0m\u001b[0;32m    129\u001b[0m       \u001b[1;32mexcept\u001b[0m \u001b[1;33m(\u001b[0m\u001b[0mStopIteration\u001b[0m\u001b[1;33m,\u001b[0m \u001b[0merrors\u001b[0m\u001b[1;33m.\u001b[0m\u001b[0mOutOfRangeError\u001b[0m\u001b[1;33m)\u001b[0m\u001b[1;33m:\u001b[0m\u001b[1;33m\u001b[0m\u001b[1;33m\u001b[0m\u001b[0m\n\u001b[0;32m    130\u001b[0m         \u001b[1;31m# TODO(kaftan): File bug about tf function and errors.OutOfRangeError?\u001b[0m\u001b[1;33m\u001b[0m\u001b[1;33m\u001b[0m\u001b[1;33m\u001b[0m\u001b[0m\n",
      "\u001b[1;32m~\\Anaconda3\\lib\\site-packages\\tensorflow_core\\python\\keras\\engine\\training_v2_utils.py\u001b[0m in \u001b[0;36mexecution_function\u001b[1;34m(input_fn)\u001b[0m\n\u001b[0;32m     96\u001b[0m     \u001b[1;31m# `numpy` translates Tensors to values in Eager mode.\u001b[0m\u001b[1;33m\u001b[0m\u001b[1;33m\u001b[0m\u001b[1;33m\u001b[0m\u001b[0m\n\u001b[0;32m     97\u001b[0m     return nest.map_structure(_non_none_constant_value,\n\u001b[1;32m---> 98\u001b[1;33m                               distributed_function(input_fn))\n\u001b[0m\u001b[0;32m     99\u001b[0m \u001b[1;33m\u001b[0m\u001b[0m\n\u001b[0;32m    100\u001b[0m   \u001b[1;32mreturn\u001b[0m \u001b[0mexecution_function\u001b[0m\u001b[1;33m\u001b[0m\u001b[1;33m\u001b[0m\u001b[0m\n",
      "\u001b[1;32m~\\Anaconda3\\lib\\site-packages\\tensorflow_core\\python\\eager\\def_function.py\u001b[0m in \u001b[0;36m__call__\u001b[1;34m(self, *args, **kwds)\u001b[0m\n\u001b[0;32m    566\u001b[0m         \u001b[0mxla_context\u001b[0m\u001b[1;33m.\u001b[0m\u001b[0mExit\u001b[0m\u001b[1;33m(\u001b[0m\u001b[1;33m)\u001b[0m\u001b[1;33m\u001b[0m\u001b[1;33m\u001b[0m\u001b[0m\n\u001b[0;32m    567\u001b[0m     \u001b[1;32melse\u001b[0m\u001b[1;33m:\u001b[0m\u001b[1;33m\u001b[0m\u001b[1;33m\u001b[0m\u001b[0m\n\u001b[1;32m--> 568\u001b[1;33m       \u001b[0mresult\u001b[0m \u001b[1;33m=\u001b[0m \u001b[0mself\u001b[0m\u001b[1;33m.\u001b[0m\u001b[0m_call\u001b[0m\u001b[1;33m(\u001b[0m\u001b[1;33m*\u001b[0m\u001b[0margs\u001b[0m\u001b[1;33m,\u001b[0m \u001b[1;33m**\u001b[0m\u001b[0mkwds\u001b[0m\u001b[1;33m)\u001b[0m\u001b[1;33m\u001b[0m\u001b[1;33m\u001b[0m\u001b[0m\n\u001b[0m\u001b[0;32m    569\u001b[0m \u001b[1;33m\u001b[0m\u001b[0m\n\u001b[0;32m    570\u001b[0m     \u001b[1;32mif\u001b[0m \u001b[0mtracing_count\u001b[0m \u001b[1;33m==\u001b[0m \u001b[0mself\u001b[0m\u001b[1;33m.\u001b[0m\u001b[0m_get_tracing_count\u001b[0m\u001b[1;33m(\u001b[0m\u001b[1;33m)\u001b[0m\u001b[1;33m:\u001b[0m\u001b[1;33m\u001b[0m\u001b[1;33m\u001b[0m\u001b[0m\n",
      "\u001b[1;32m~\\Anaconda3\\lib\\site-packages\\tensorflow_core\\python\\eager\\def_function.py\u001b[0m in \u001b[0;36m_call\u001b[1;34m(self, *args, **kwds)\u001b[0m\n\u001b[0;32m    597\u001b[0m       \u001b[1;31m# In this case we have created variables on the first call, so we run the\u001b[0m\u001b[1;33m\u001b[0m\u001b[1;33m\u001b[0m\u001b[1;33m\u001b[0m\u001b[0m\n\u001b[0;32m    598\u001b[0m       \u001b[1;31m# defunned version which is guaranteed to never create variables.\u001b[0m\u001b[1;33m\u001b[0m\u001b[1;33m\u001b[0m\u001b[1;33m\u001b[0m\u001b[0m\n\u001b[1;32m--> 599\u001b[1;33m       \u001b[1;32mreturn\u001b[0m \u001b[0mself\u001b[0m\u001b[1;33m.\u001b[0m\u001b[0m_stateless_fn\u001b[0m\u001b[1;33m(\u001b[0m\u001b[1;33m*\u001b[0m\u001b[0margs\u001b[0m\u001b[1;33m,\u001b[0m \u001b[1;33m**\u001b[0m\u001b[0mkwds\u001b[0m\u001b[1;33m)\u001b[0m  \u001b[1;31m# pylint: disable=not-callable\u001b[0m\u001b[1;33m\u001b[0m\u001b[1;33m\u001b[0m\u001b[0m\n\u001b[0m\u001b[0;32m    600\u001b[0m     \u001b[1;32melif\u001b[0m \u001b[0mself\u001b[0m\u001b[1;33m.\u001b[0m\u001b[0m_stateful_fn\u001b[0m \u001b[1;32mis\u001b[0m \u001b[1;32mnot\u001b[0m \u001b[1;32mNone\u001b[0m\u001b[1;33m:\u001b[0m\u001b[1;33m\u001b[0m\u001b[1;33m\u001b[0m\u001b[0m\n\u001b[0;32m    601\u001b[0m       \u001b[1;31m# Release the lock early so that multiple threads can perform the call\u001b[0m\u001b[1;33m\u001b[0m\u001b[1;33m\u001b[0m\u001b[1;33m\u001b[0m\u001b[0m\n",
      "\u001b[1;32m~\\Anaconda3\\lib\\site-packages\\tensorflow_core\\python\\eager\\function.py\u001b[0m in \u001b[0;36m__call__\u001b[1;34m(self, *args, **kwargs)\u001b[0m\n\u001b[0;32m   2361\u001b[0m     \u001b[1;32mwith\u001b[0m \u001b[0mself\u001b[0m\u001b[1;33m.\u001b[0m\u001b[0m_lock\u001b[0m\u001b[1;33m:\u001b[0m\u001b[1;33m\u001b[0m\u001b[1;33m\u001b[0m\u001b[0m\n\u001b[0;32m   2362\u001b[0m       \u001b[0mgraph_function\u001b[0m\u001b[1;33m,\u001b[0m \u001b[0margs\u001b[0m\u001b[1;33m,\u001b[0m \u001b[0mkwargs\u001b[0m \u001b[1;33m=\u001b[0m \u001b[0mself\u001b[0m\u001b[1;33m.\u001b[0m\u001b[0m_maybe_define_function\u001b[0m\u001b[1;33m(\u001b[0m\u001b[0margs\u001b[0m\u001b[1;33m,\u001b[0m \u001b[0mkwargs\u001b[0m\u001b[1;33m)\u001b[0m\u001b[1;33m\u001b[0m\u001b[1;33m\u001b[0m\u001b[0m\n\u001b[1;32m-> 2363\u001b[1;33m     \u001b[1;32mreturn\u001b[0m \u001b[0mgraph_function\u001b[0m\u001b[1;33m.\u001b[0m\u001b[0m_filtered_call\u001b[0m\u001b[1;33m(\u001b[0m\u001b[0margs\u001b[0m\u001b[1;33m,\u001b[0m \u001b[0mkwargs\u001b[0m\u001b[1;33m)\u001b[0m  \u001b[1;31m# pylint: disable=protected-access\u001b[0m\u001b[1;33m\u001b[0m\u001b[1;33m\u001b[0m\u001b[0m\n\u001b[0m\u001b[0;32m   2364\u001b[0m \u001b[1;33m\u001b[0m\u001b[0m\n\u001b[0;32m   2365\u001b[0m   \u001b[1;33m@\u001b[0m\u001b[0mproperty\u001b[0m\u001b[1;33m\u001b[0m\u001b[1;33m\u001b[0m\u001b[0m\n",
      "\u001b[1;32m~\\Anaconda3\\lib\\site-packages\\tensorflow_core\\python\\eager\\function.py\u001b[0m in \u001b[0;36m_filtered_call\u001b[1;34m(self, args, kwargs)\u001b[0m\n\u001b[0;32m   1609\u001b[0m          if isinstance(t, (ops.Tensor,\n\u001b[0;32m   1610\u001b[0m                            resource_variable_ops.BaseResourceVariable))),\n\u001b[1;32m-> 1611\u001b[1;33m         self.captured_inputs)\n\u001b[0m\u001b[0;32m   1612\u001b[0m \u001b[1;33m\u001b[0m\u001b[0m\n\u001b[0;32m   1613\u001b[0m   \u001b[1;32mdef\u001b[0m \u001b[0m_call_flat\u001b[0m\u001b[1;33m(\u001b[0m\u001b[0mself\u001b[0m\u001b[1;33m,\u001b[0m \u001b[0margs\u001b[0m\u001b[1;33m,\u001b[0m \u001b[0mcaptured_inputs\u001b[0m\u001b[1;33m,\u001b[0m \u001b[0mcancellation_manager\u001b[0m\u001b[1;33m=\u001b[0m\u001b[1;32mNone\u001b[0m\u001b[1;33m)\u001b[0m\u001b[1;33m:\u001b[0m\u001b[1;33m\u001b[0m\u001b[1;33m\u001b[0m\u001b[0m\n",
      "\u001b[1;32m~\\Anaconda3\\lib\\site-packages\\tensorflow_core\\python\\eager\\function.py\u001b[0m in \u001b[0;36m_call_flat\u001b[1;34m(self, args, captured_inputs, cancellation_manager)\u001b[0m\n\u001b[0;32m   1690\u001b[0m       \u001b[1;31m# No tape is watching; skip to running the function.\u001b[0m\u001b[1;33m\u001b[0m\u001b[1;33m\u001b[0m\u001b[1;33m\u001b[0m\u001b[0m\n\u001b[0;32m   1691\u001b[0m       return self._build_call_outputs(self._inference_function.call(\n\u001b[1;32m-> 1692\u001b[1;33m           ctx, args, cancellation_manager=cancellation_manager))\n\u001b[0m\u001b[0;32m   1693\u001b[0m     forward_backward = self._select_forward_and_backward_functions(\n\u001b[0;32m   1694\u001b[0m         \u001b[0margs\u001b[0m\u001b[1;33m,\u001b[0m\u001b[1;33m\u001b[0m\u001b[1;33m\u001b[0m\u001b[0m\n",
      "\u001b[1;32m~\\Anaconda3\\lib\\site-packages\\tensorflow_core\\python\\eager\\function.py\u001b[0m in \u001b[0;36mcall\u001b[1;34m(self, ctx, args, cancellation_manager)\u001b[0m\n\u001b[0;32m    543\u001b[0m               \u001b[0minputs\u001b[0m\u001b[1;33m=\u001b[0m\u001b[0margs\u001b[0m\u001b[1;33m,\u001b[0m\u001b[1;33m\u001b[0m\u001b[1;33m\u001b[0m\u001b[0m\n\u001b[0;32m    544\u001b[0m               \u001b[0mattrs\u001b[0m\u001b[1;33m=\u001b[0m\u001b[1;33m(\u001b[0m\u001b[1;34m\"executor_type\"\u001b[0m\u001b[1;33m,\u001b[0m \u001b[0mexecutor_type\u001b[0m\u001b[1;33m,\u001b[0m \u001b[1;34m\"config_proto\"\u001b[0m\u001b[1;33m,\u001b[0m \u001b[0mconfig\u001b[0m\u001b[1;33m)\u001b[0m\u001b[1;33m,\u001b[0m\u001b[1;33m\u001b[0m\u001b[1;33m\u001b[0m\u001b[0m\n\u001b[1;32m--> 545\u001b[1;33m               ctx=ctx)\n\u001b[0m\u001b[0;32m    546\u001b[0m         \u001b[1;32melse\u001b[0m\u001b[1;33m:\u001b[0m\u001b[1;33m\u001b[0m\u001b[1;33m\u001b[0m\u001b[0m\n\u001b[0;32m    547\u001b[0m           outputs = execute.execute_with_cancellation(\n",
      "\u001b[1;32m~\\Anaconda3\\lib\\site-packages\\tensorflow_core\\python\\eager\\execute.py\u001b[0m in \u001b[0;36mquick_execute\u001b[1;34m(op_name, num_outputs, inputs, attrs, ctx, name)\u001b[0m\n\u001b[0;32m     59\u001b[0m     tensors = pywrap_tensorflow.TFE_Py_Execute(ctx._handle, device_name,\n\u001b[0;32m     60\u001b[0m                                                \u001b[0mop_name\u001b[0m\u001b[1;33m,\u001b[0m \u001b[0minputs\u001b[0m\u001b[1;33m,\u001b[0m \u001b[0mattrs\u001b[0m\u001b[1;33m,\u001b[0m\u001b[1;33m\u001b[0m\u001b[1;33m\u001b[0m\u001b[0m\n\u001b[1;32m---> 61\u001b[1;33m                                                num_outputs)\n\u001b[0m\u001b[0;32m     62\u001b[0m   \u001b[1;32mexcept\u001b[0m \u001b[0mcore\u001b[0m\u001b[1;33m.\u001b[0m\u001b[0m_NotOkStatusException\u001b[0m \u001b[1;32mas\u001b[0m \u001b[0me\u001b[0m\u001b[1;33m:\u001b[0m\u001b[1;33m\u001b[0m\u001b[1;33m\u001b[0m\u001b[0m\n\u001b[0;32m     63\u001b[0m     \u001b[1;32mif\u001b[0m \u001b[0mname\u001b[0m \u001b[1;32mis\u001b[0m \u001b[1;32mnot\u001b[0m \u001b[1;32mNone\u001b[0m\u001b[1;33m:\u001b[0m\u001b[1;33m\u001b[0m\u001b[1;33m\u001b[0m\u001b[0m\n",
      "\u001b[1;31mKeyboardInterrupt\u001b[0m: "
     ]
    }
   ],
   "source": [
    "def build_model_2_1():\n",
    "  model = models.Sequential()\n",
    "  model.add(layers.Conv2D(32, (3, 3), activation='relu', padding='same', input_shape=(32, 32, 1)))\n",
    "  model.add(layers.Conv2D(32, (3, 3), activation='relu', padding='same'))\n",
    "  model.add(layers.MaxPooling2D((2, 2)))\n",
    "  model.add(layers.Dropout(0.2))\n",
    "  model.add(layers.Conv2D(64, (3, 3), activation='relu', padding='same'))\n",
    "  model.add(layers.Conv2D(64, (3, 3), activation='relu', padding='same'))\n",
    "  model.add(layers.MaxPooling2D((2, 2)))\n",
    "  model.add(layers.Dropout(0.3))\n",
    "  model.add(layers.Conv2D(128, (3, 3), activation='relu', padding='same'))\n",
    "  model.add(layers.Conv2D(128, (3, 3), activation='relu', padding='same'))\n",
    "  model.add(layers.MaxPooling2D((2, 2)))\n",
    "  model.add(layers.Dropout(0.4))\n",
    "  model.add(layers.Flatten())\n",
    "  model.add(layers.Dense(128, activation='relu'))\n",
    "  model.add(layers.Dropout(0.5))\n",
    "  model.add(layers.Dense(10, activation='softmax'))\n",
    "  model.compile(optimizer='nadam', loss='poisson', metrics=['accuracy'])\n",
    "  return model\n",
    "\n",
    "run_evaluation(\"model_2_1\", build_model_2_1, preprocessed_split, base_dir, \n",
    "               train=True, epochs=15, batch_size=256)\n",
    "\n",
    "answer_q_2_1 = \"\"\"\n",
    "               As a base for the model I used a model from lab 6, which already worked quite well. \n",
    "               Modification the the structure of the net such as the size, type and number of layers\n",
    "               did not positively impact accuracy. I tried several activation functions as well as batch normalization\n",
    "               but neither increased performance. For the optimizers and loss functions, nadam en poisson\n",
    "               increased accuracy slightly. An increased batch size also increased accuracy.\n",
    "               Increasing dropout rates had a positive if minimal effect on accuracy\n",
    "               \"\"\"\n",
    "print(\"Answer is {} characters long\".format(len(answer_q_2_1)))"
   ]
  },
  {
   "cell_type": "markdown",
   "metadata": {
    "colab_type": "text",
    "id": "EpdLTbPwXmOc"
   },
   "source": [
    "### Question 2.2: Data Augmentation (3 points)\n",
    "\n",
    "- Augment the preprocessed training data. You can explore using image shifts, rotations, zooming, flips, etc. What works well, and what does not?\n",
    "- Evaluate the model from question 2.1 with the augmented data using the 'run_evaluation' function. Store the new trained model as 'model_2_2'.\n",
    "- Add a description of your design choices in 'answer_q_2_2': explain what you did and also why. Also discuss the performance of the model."
   ]
  },
  {
   "cell_type": "code",
   "execution_count": 24,
   "metadata": {
    "colab": {
     "base_uri": "https://localhost:8080/",
     "height": 1000
    },
    "colab_type": "code",
    "id": "cp8wMUU-aqhQ",
    "outputId": "c896d60a-c08b-4b80-f6bb-89141e707d0c"
   },
   "outputs": [
    {
     "name": "stdout",
     "output_type": "stream",
     "text": [
      "\u001b[91mTraining the model\u001b[0m\n",
      "Train on 63544 samples, validate on 15887 samples\n",
      "Epoch 1/25\n",
      "63544/63544 [==============================] - 185s 3ms/sample - loss: 0.3005 - accuracy: 0.2881 - val_loss: 0.2221 - val_accuracy: 0.6169\n",
      "Epoch 2/25\n",
      "63544/63544 [==============================] - 185s 3ms/sample - loss: 0.1750 - accuracy: 0.7672 - val_loss: 0.1416 - val_accuracy: 0.8739\n",
      "Epoch 3/25\n",
      "63544/63544 [==============================] - 197s 3ms/sample - loss: 0.1475 - accuracy: 0.8584 - val_loss: 0.1341 - val_accuracy: 0.8969\n",
      "Epoch 4/25\n",
      "63544/63544 [==============================] - 187s 3ms/sample - loss: 0.1390 - accuracy: 0.8854 - val_loss: 0.1285 - val_accuracy: 0.9142\n",
      "Epoch 5/25\n",
      "63544/63544 [==============================] - 188s 3ms/sample - loss: 0.1348 - accuracy: 0.8986 - val_loss: 0.1258 - val_accuracy: 0.9237\n",
      "Epoch 6/25\n",
      "63544/63544 [==============================] - 203s 3ms/sample - loss: 0.1313 - accuracy: 0.9098 - val_loss: 0.1255 - val_accuracy: 0.9252\n",
      "Epoch 7/25\n",
      "63544/63544 [==============================] - 218s 3ms/sample - loss: 0.1291 - accuracy: 0.9172 - val_loss: 0.1229 - val_accuracy: 0.9333\n",
      "Epoch 8/25\n",
      "63544/63544 [==============================] - 219s 3ms/sample - loss: 0.1275 - accuracy: 0.9230 - val_loss: 0.1235 - val_accuracy: 0.9318\n",
      "Epoch 9/25\n",
      "63544/63544 [==============================] - 219s 3ms/sample - loss: 0.1261 - accuracy: 0.9262 - val_loss: 0.1222 - val_accuracy: 0.9362\n",
      "Epoch 10/25\n",
      "63544/63544 [==============================] - 219s 3ms/sample - loss: 0.1250 - accuracy: 0.9287 - val_loss: 0.1261 - val_accuracy: 0.9211\n",
      "Epoch 11/25\n",
      "63544/63544 [==============================] - 215s 3ms/sample - loss: 0.1242 - accuracy: 0.9321 - val_loss: 0.1204 - val_accuracy: 0.9430\n",
      "Epoch 12/25\n",
      "63544/63544 [==============================] - 187s 3ms/sample - loss: 0.1227 - accuracy: 0.9359 - val_loss: 0.1214 - val_accuracy: 0.9389\n",
      "Epoch 13/25\n",
      "63544/63544 [==============================] - 186s 3ms/sample - loss: 0.1218 - accuracy: 0.9380 - val_loss: 0.1200 - val_accuracy: 0.9442\n",
      "Epoch 14/25\n",
      "63544/63544 [==============================] - 184s 3ms/sample - loss: 0.1213 - accuracy: 0.9399 - val_loss: 0.1238 - val_accuracy: 0.9321\n",
      "Epoch 15/25\n",
      "63544/63544 [==============================] - 192s 3ms/sample - loss: 0.1206 - accuracy: 0.9418 - val_loss: 0.1230 - val_accuracy: 0.9349\n",
      "Epoch 16/25\n",
      "63544/63544 [==============================] - 213s 3ms/sample - loss: 0.1201 - accuracy: 0.9431 - val_loss: 0.1211 - val_accuracy: 0.9427\n",
      "Epoch 17/25\n",
      "63544/63544 [==============================] - 218s 3ms/sample - loss: 0.1195 - accuracy: 0.9458 - val_loss: 0.1206 - val_accuracy: 0.9411\n",
      "Epoch 18/25\n",
      "63544/63544 [==============================] - 217s 3ms/sample - loss: 0.1187 - accuracy: 0.9476 - val_loss: 0.1223 - val_accuracy: 0.9395\n",
      "Epoch 19/25\n",
      "63544/63544 [==============================] - 217s 3ms/sample - loss: 0.1186 - accuracy: 0.9477 - val_loss: 0.1202 - val_accuracy: 0.9460\n",
      "Epoch 20/25\n",
      "63544/63544 [==============================] - 216s 3ms/sample - loss: 0.1182 - accuracy: 0.9481 - val_loss: 0.1230 - val_accuracy: 0.9349\n",
      "Epoch 21/25\n",
      "63544/63544 [==============================] - 218s 3ms/sample - loss: 0.1176 - accuracy: 0.9497 - val_loss: 0.1211 - val_accuracy: 0.9421\n",
      "Epoch 22/25\n",
      "63544/63544 [==============================] - 216s 3ms/sample - loss: 0.1169 - accuracy: 0.9514 - val_loss: 0.1193 - val_accuracy: 0.9489\n",
      "Epoch 23/25\n",
      "63544/63544 [==============================] - 195s 3ms/sample - loss: 0.1167 - accuracy: 0.9521 - val_loss: 0.1197 - val_accuracy: 0.9493\n",
      "Epoch 24/25\n",
      "63544/63544 [==============================] - 184s 3ms/sample - loss: 0.1162 - accuracy: 0.9534 - val_loss: 0.1198 - val_accuracy: 0.9473\n",
      "Epoch 25/25\n",
      "63544/63544 [==============================] - 183s 3ms/sample - loss: 0.1162 - accuracy: 0.9540 - val_loss: 0.1204 - val_accuracy: 0.9458\n",
      "\u001b[91mSaving to file\u001b[0m\n",
      "\u001b[91mModel stored in C:\\Users\\s162163\\Documents\\Data mining\\assignment-3-Thijs13\u001b[0m\n",
      "Model: \"sequential_8\"\n",
      "_________________________________________________________________\n",
      "Layer (type)                 Output Shape              Param #   \n",
      "=================================================================\n",
      "conv2d_18 (Conv2D)           (None, 32, 32, 32)        320       \n",
      "_________________________________________________________________\n",
      "conv2d_19 (Conv2D)           (None, 32, 32, 32)        9248      \n",
      "_________________________________________________________________\n",
      "max_pooling2d_9 (MaxPooling2 (None, 16, 16, 32)        0         \n",
      "_________________________________________________________________\n",
      "dropout_12 (Dropout)         (None, 16, 16, 32)        0         \n",
      "_________________________________________________________________\n",
      "conv2d_20 (Conv2D)           (None, 16, 16, 64)        18496     \n",
      "_________________________________________________________________\n",
      "conv2d_21 (Conv2D)           (None, 16, 16, 64)        36928     \n",
      "_________________________________________________________________\n",
      "max_pooling2d_10 (MaxPooling (None, 8, 8, 64)          0         \n",
      "_________________________________________________________________\n",
      "dropout_13 (Dropout)         (None, 8, 8, 64)          0         \n",
      "_________________________________________________________________\n",
      "conv2d_22 (Conv2D)           (None, 8, 8, 128)         73856     \n",
      "_________________________________________________________________\n",
      "conv2d_23 (Conv2D)           (None, 8, 8, 128)         147584    \n",
      "_________________________________________________________________\n",
      "max_pooling2d_11 (MaxPooling (None, 4, 4, 128)         0         \n",
      "_________________________________________________________________\n",
      "dropout_14 (Dropout)         (None, 4, 4, 128)         0         \n",
      "_________________________________________________________________\n",
      "flatten_6 (Flatten)          (None, 2048)              0         \n",
      "_________________________________________________________________\n",
      "dense_25 (Dense)             (None, 128)               262272    \n",
      "_________________________________________________________________\n",
      "dropout_15 (Dropout)         (None, 128)               0         \n",
      "_________________________________________________________________\n",
      "dense_26 (Dense)             (None, 10)                1290      \n",
      "=================================================================\n",
      "Total params: 549,994\n",
      "Trainable params: 549,994\n",
      "Non-trainable params: 0\n",
      "_________________________________________________________________\n",
      "None\n",
      "         loss  accuracy  val_loss  val_accuracy\n",
      "min  0.116195  0.288131  0.119272      0.616857\n",
      "max  0.300494  0.954016  0.222111      0.949267\n",
      "Answer is 427 characters long\n"
     ]
    },
    {
     "data": {
      "image/png": "[encoded data removed]",
      "text/plain": [
       "<Figure size 432x288 with 1 Axes>"
      ]
     },
     "metadata": {
      "needs_background": "light"
     },
     "output_type": "display_data"
    }
   ],
   "source": [
    "from tensorflow.keras.preprocessing.image import ImageDataGenerator\n",
    "import numpy\n",
    "\n",
    "# Note that we build the same untrained model as in question 2.1 but store the \n",
    "# trained version as model_2_2. Change attributes as needed to run on augmented\n",
    "# data\n",
    "train_data_gen = ImageDataGenerator(\n",
    "    rotation_range=15,\n",
    "    width_shift_range=0.3,\n",
    "    height_shift_range=0.3,\n",
    "    vertical_flip=True,\n",
    "    horizontal_flip=True,\n",
    "    )\n",
    "aug_train = train_data_gen.flow(rgb2gray(X_train), y_train, batch_size=64)\n",
    "augmented_split = aug_train.x, rgb2gray(X_val), aug_train.y, y_val\n",
    "run_evaluation(\"model_2_2\", build_model_2_1, augmented_split, base_dir, \n",
    "               train=True, epochs=25, batch_size=256)\n",
    "\n",
    "answer_q_2_2 = \"\"\"\n",
    "               The effect of data augementation seems quite minimal, which may in part\n",
    "               be attributed to the lack of overfitting of the model. Small roations,\n",
    "               shifts and flips seem to improve accuracy very slightly in combination with more epochs. \n",
    "               Other data augmentation like shear, changes in brightness and zoom \n",
    "               seem to have no or negative effect\n",
    "               \"\"\"\n",
    "print(\"Answer is {} characters long\".format(len(answer_q_2_2)))"
   ]
  },
  {
   "cell_type": "markdown",
   "metadata": {
    "colab_type": "text",
    "id": "Nb8jrFlnbBUP"
   },
   "source": [
    "## Part 3. Model interpretation (10 points)\n",
    "### Question 3.1: Interpreting misclassifications (2 points)\n",
    "Study which errors are still made by your last model (model_2_2) by evaluating it on the test data. You do not need to retrain the model.\n",
    "* What is the accuracy of model_2_2 on the test data? Store this in 'test_accuracy_3_1'.\n",
    "* Plot the confusion matrix in 'plot_confusion_matrix' and discuss which classes are often confused.\n",
    "* Visualize the misclassifications in more depth by focusing on a single\n",
    "class (e.g. the number '2') and analyse which kinds of mistakes are made for that class. For instance, are the errors related to the background, noisiness, etc.? Implement the visualization in 'plot_misclassifications'.\n",
    "* Summarize your findings in 'answer_q_3_1'"
   ]
  },
  {
   "cell_type": "code",
   "execution_count": 27,
   "metadata": {
    "colab": {
     "base_uri": "https://localhost:8080/",
     "height": 414
    },
    "colab_type": "code",
    "id": "yNg-7JsSbn2-",
    "outputId": "7e61abec-7639-4e33-a2f7-6609996119f4"
   },
   "outputs": [
    {
     "name": "stdout",
     "output_type": "stream",
     "text": [
      "19858/19858 [==============================] - 14s 715us/sample - loss: 0.1206 - accuracy: 0.9463\n"
     ]
    },
    {
     "data": {
      "image/png": "[encoded data removed]",
      "text/plain": [
       "<Figure size 432x288 with 1 Axes>"
      ]
     },
     "metadata": {
      "needs_background": "light"
     },
     "output_type": "display_data"
    },
    {
     "data": {
      "image/png": "[encoded data removed]",
      "text/plain": [
       "<Figure size 720x360 with 8 Axes>"
      ]
     },
     "metadata": {},
     "output_type": "display_data"
    },
    {
     "name": "stdout",
     "output_type": "stream",
     "text": [
      "Answer is 539 characters long\n"
     ]
    }
   ],
   "source": [
    "from sklearn.metrics import confusion_matrix\n",
    "\n",
    "model_2_2 = load_model_from_file('C:\\\\Users\\\\s162163\\\\Documents\\\\Data mining\\\\assignment-3-Thijs13', \"model_2_2\")  \n",
    "test_accuracy_3_1 = model_2_2.evaluate(rgb2gray(X_test), y_test)[1]\n",
    "\n",
    "y_pred = model_2_2.predict(rgb2gray(X_test))\n",
    "def plot_confusion_matrix():\n",
    "  cm = confusion_matrix(np.argmax(y_test, axis=1),np.argmax(y_pred, axis=1))\n",
    "  fig, ax = plt.subplots()\n",
    "  im = ax.imshow(cm)\n",
    "  ax.set_xticks(np.arange(10)), ax.set_yticks(np.arange(10))\n",
    "  ax.set_xticklabels(list(range(0,10)), rotation=45, ha=\"right\")\n",
    "  ax.set_yticklabels(list(range(0,10)))\n",
    "  ax.set_ylabel('True')\n",
    "  ax.set_xlabel('Predicted')\n",
    "  for i in range(100):\n",
    "      ax.text(int(i/10),i%10,cm[i%10,int(i/10)], ha=\"center\", va=\"center\", color=\"w\")\n",
    "def plot_misclassifications():\n",
    "  misclassified_samples = np.nonzero(np.argmax(y_test, axis=1) != np.argmax(y_pred, axis=1))[0]\n",
    "  fig, axes = plt.subplots(1, 8,  figsize=(10, 5))\n",
    "  count = 0\n",
    "  for nr, i in enumerate(misclassified_samples):\n",
    "    if np.argmax(y_test[i]) == 0 or np.argmax(y_pred[i]) == 0:\n",
    "      axes[count].imshow(X_test[i])\n",
    "      axes[count].set_xlabel(\"Predicted: %s,\\n Actual : %s\" % (np.argmax(y_pred[i]),np.argmax(y_test[i])))\n",
    "      axes[count].set_xticks(()), axes[count].set_yticks(())\n",
    "      count += 1\n",
    "    if count == 8 or i == misclassified_samples.size - 1:\n",
    "      break;\n",
    "  plt.show();\n",
    "\n",
    "plot_confusion_matrix()\n",
    "plot_misclassifications()\n",
    "answer_q_3_1 = \"\"\"\n",
    "               Erros are distributed quite evenly, but it is clear that the most mispredictions\n",
    "               are made with zeroes. This may be attributed to the higher number of zeroes\n",
    "               in the dataset, but it is still interesting to look at zeroes. The errors\n",
    "               that are made are mostly pictures that are too vague to see any number,\n",
    "               and surprisingly, pictures that have an incorrect 'true' number. Filtering\n",
    "               The data for incorrect labels might improve the model.\n",
    "               \"\"\"\n",
    "print(\"Answer is {} characters long\".format(len(answer_q_3_1)))"
   ]
  },
  {
   "cell_type": "markdown",
   "metadata": {
    "colab_type": "text",
    "id": "EBRdBpz5Hcrx"
   },
   "source": [
    "### Question 3.2: Visualizing activations (4 points)\n",
    "* Implement a function `plot_activations()` that returns the most interesting activations (feature maps). Select the first example from the test set. Retrieve and visualize the activations of model 2_2 for that example (make sure you load that model in the function), for every filter for different convolutional layers (at different depths in the network).\n",
    "* Give an explanation (as detailed as you can) about your observations in 'answer_q_3_2'. Is your model indeed learning something useful?"
   ]
  },
  {
   "cell_type": "code",
   "execution_count": 28,
   "metadata": {
    "colab": {
     "base_uri": "https://localhost:8080/",
     "height": 206
    },
    "colab_type": "code",
    "id": "TyQ-IHHcN5Qc",
    "outputId": "c4065530-4031-4bc4-fea5-882301e06364"
   },
   "outputs": [
    {
     "name": "stdout",
     "output_type": "stream",
     "text": [
      "Answer is 577 characters long\n"
     ]
    },
    {
     "name": "stderr",
     "output_type": "stream",
     "text": [
      "C:\\Users\\s162163\\Anaconda3\\lib\\site-packages\\ipykernel_launcher.py:57: RuntimeWarning: invalid value encountered in true_divide\n"
     ]
    },
    {
     "data": {
      "image/png": "[encoded data removed]",
      "text/plain": [
       "<Figure size 1152x144 with 1 Axes>"
      ]
     },
     "metadata": {
      "needs_background": "light"
     },
     "output_type": "display_data"
    }
   ],
   "source": [
    "from tensorflow.keras import models\n",
    "\n",
    "def plot_activations():\n",
    "  model = load_model_from_file('C:\\\\Users\\\\s162163\\\\Documents\\\\Data mining\\\\assignment-3-Thijs13', \"model_2_2\")\n",
    "  img_tensor = X_test[0]\n",
    "  img_tensor = np.expand_dims(img_tensor, axis=0) \n",
    "\n",
    "  # Extracts the outputs of the top 8 layers:\n",
    "  layer_outputs = [layer.output for layer in model.layers[:15]]\n",
    "  # Creates a model that will return these outputs, given the model input:\n",
    "  activation_model = models.Model(inputs=model.input, outputs=layer_outputs)\n",
    "\n",
    "  # This will return a list of 5 Numpy arrays:\n",
    "  # one array per layer activation\n",
    "  activations = activation_model.predict(rgb2gray(img_tensor))\n",
    "\n",
    "  # plt.rcParams['figure.dpi'] = 120\n",
    "  # first_layer_activation = activations[0]\n",
    "\n",
    "  # f, (ax1, ax2) = plt.subplots(1, 2, sharey=True)\n",
    "  # ax1.imshow(img_tensor[0])\n",
    "  # ax2.matshow(first_layer_activation[0, :, :, 2], cmap='viridis')\n",
    "  # ax1.set_xticks([])\n",
    "  # ax1.set_yticks([])\n",
    "  # ax2.set_xticks([])\n",
    "  # ax2.set_yticks([])\n",
    "  # ax1.set_xlabel('Input image')\n",
    "  # ax2.set_xlabel('Activation of filter 2');\n",
    "\n",
    "  images_per_row = 16\n",
    "  layer_names = []\n",
    "  for layer in model.layers[:15]:\n",
    "      layer_names.append(layer.name)\n",
    "  \n",
    "  layer_index = 0\n",
    "  start = layer_index\n",
    "  end = layer_index+1\n",
    "  for layer_name, layer_activation in zip(layer_names[start:end], activations[start:end]):\n",
    "    # This is the number of features in the feature map\n",
    "    n_features = layer_activation.shape[-1]\n",
    "\n",
    "    # The feature map has shape (1, size, size, n_features)\n",
    "    size = layer_activation.shape[1]\n",
    "\n",
    "    # We will tile the activation channels in this matrix\n",
    "    n_cols = n_features // images_per_row\n",
    "    display_grid = np.zeros((size * n_cols, images_per_row * size))\n",
    "\n",
    "    # We'll tile each filter into this big horizontal grid\n",
    "    for col in range(n_cols):\n",
    "        for row in range(images_per_row):\n",
    "            channel_image = layer_activation[0,\n",
    "                                            :, :,\n",
    "                                            col * images_per_row + row]\n",
    "            # Post-process the feature to make it visually palatable\n",
    "            channel_image -= channel_image.mean()\n",
    "            channel_image /= channel_image.std()\n",
    "            channel_image *= 64\n",
    "            channel_image += 128\n",
    "            channel_image = np.clip(channel_image, 0, 255).astype('uint8')\n",
    "            display_grid[col * size : (col + 1) * size,\n",
    "                        row * size : (row + 1) * size] = channel_image\n",
    "\n",
    "    # Display the grid\n",
    "    scale = 1. / size\n",
    "    plt.figure(figsize=(scale * display_grid.shape[1],\n",
    "                        scale * display_grid.shape[0]))\n",
    "    plt.title(\"Activation of layer {} ({})\".format(layer_index+1,layer_name))\n",
    "    plt.grid(False)\n",
    "    plt.imshow(display_grid, aspect='auto', cmap='viridis')\n",
    "\n",
    "plot_activations()\n",
    "\n",
    "answer_q_3_2 = \"\"\"\n",
    "               The model seems to be learning what it should learn. At lower layers\n",
    "               you can see various outlines of numbers indicating that the model\n",
    "               has learned different ways to detect lines and edges. Some squares\n",
    "               are completely dark, indicating that different inputs activate different nodes,\n",
    "               although it is somewhat worrying that some nodes to not seem to activate\n",
    "               for any input. Overall the model seems to correctly learn to recognise\n",
    "               the numbers on house numbers.\n",
    "               \"\"\"\n",
    "print(\"Answer is {} characters long\".format(len(answer_q_3_2)))"
   ]
  },
  {
   "cell_type": "markdown",
   "metadata": {
    "colab_type": "text",
    "id": "6a4XT0-7Ym25"
   },
   "source": [
    "### Question 3.3: Visualizing activations (4 points)\n",
    "* Again, select the first example from the test set, and the trained model_2_2.\n",
    "* Implement a function `plot_activation_map()` that builds and shows a class activation map for your last convolutional layer that highlights what the model is paying attention to when classifying the example.\n",
    "* If possible, superimpossible the activation map over the image. If not, plot\n",
    "them side by side. Implement a function 'plot_3_3' that returns the entire plot."
   ]
  },
  {
   "cell_type": "code",
   "execution_count": 4,
   "metadata": {
    "colab": {
     "base_uri": "https://localhost:8080/",
     "height": 357
    },
    "colab_type": "code",
    "id": "vsmqYQl2ZZ4n",
    "outputId": "532617a8-764d-47a0-81ef-7a223270d1c9"
   },
   "outputs": [
    {
     "name": "stdout",
     "output_type": "stream",
     "text": [
      ":(\n"
     ]
    }
   ],
   "source": [
    "# from tensorflow.keras.preprocessing import image\n",
    "# from tensorflow.keras.applications.vgg16 import preprocess_input, decode_predictions\n",
    "# import numpy as np\n",
    "# from tensorflow.keras import backend as K\n",
    "\n",
    "def plot_3_3():\n",
    "    print(\":(\")\n",
    "#   model = load_model_from_file('C:\\\\Users\\\\s162163\\\\Documents\\\\Data mining\\\\assignment-3-Thijs13', \"model_2_2\")\n",
    "\n",
    "#   # `img` is a PIL image of size 224x224\n",
    "#   img = X_test[0]\n",
    "\n",
    "#   # `x` is a float32 Numpy array of shape (224, 224, 3)\n",
    "#   x = image.img_to_array(img)\n",
    "\n",
    "#   # We add a dimension to transform our array into a \"batch\"\n",
    "#   # of size (1, 224, 224, 3)\n",
    "#   x = np.expand_dims(x, axis=0)\n",
    "\n",
    "#   # Finally we preprocess the batch\n",
    "#   # (this does channel-wise color normalization)\n",
    "#   x = preprocess_input(x)# This is the \"african elephant\" entry in the prediction vector\n",
    "#   picture_output = model.output\n",
    "\n",
    "#   # The is the output feature map of the `conv2d_11` layer,\n",
    "#   # the last convolutional layer\n",
    "#   last_conv_layer = model.get_layer('conv2d_11')\n",
    "\n",
    "#   # This is the gradient of the \"african elephant\" class with regard to\n",
    "#   # the output feature map of `block5_conv3`\n",
    "#   grads = K.gradients(picture_output, last_conv_layer.output)[0]\n",
    "\n",
    "#   # This is a vector of shape (512,), where each entry\n",
    "#   # is the mean intensity of the gradient over a specific feature map channel\n",
    "#   pooled_grads = K.mean(grads, axis=(0, 1, 2))\n",
    "\n",
    "#   # This function allows us to access the values of the quantities we just defined:\n",
    "#   # `pooled_grads` and the output feature map of `block5_conv3`,\n",
    "#   # given a sample image\n",
    "#   iterate = K.function([model.input], [pooled_grads, last_conv_layer.output[0]])\n",
    "\n",
    "#   # These are the values of these two quantities, as Numpy arrays,\n",
    "#   # given our sample image of two elephants\n",
    "#   pooled_grads_value, conv_layer_output_value = iterate([x])\n",
    "\n",
    "#   # We multiply each channel in the feature map array\n",
    "#   # by \"how important this channel is\" with regard to the elephant class\n",
    "#   for i in range(512):\n",
    "#       conv_layer_output_value[:, :, i] *= pooled_grads_value[i]\n",
    "\n",
    "#   # The channel-wise mean of the resulting feature map\n",
    "#   # is our heatmap of class activation\n",
    "\n",
    "#   heatmap = np.mean(conv_layer_output_value, axis=-1)\n",
    "#   heatmap = np.maximum(heatmap, 0)\n",
    "#   heatmap /= np.max(heatmap)\n",
    "#   plt.matshow(heatmap)\n",
    "#   plt.show()\n",
    "\n",
    "#   # pip install opencv-python\n",
    "#   import cv2\n",
    "\n",
    "#   # We use cv2 to load the original image\n",
    "#   img = cv2.imread(img_path)\n",
    "\n",
    "#   # We resize the heatmap to have the same size as the original image\n",
    "#   heatmap = cv2.resize(heatmap, (img.shape[1], img.shape[0]))\n",
    "\n",
    "#   # We convert the heatmap to RGB\n",
    "#   heatmap = np.uint8(255 * heatmap)\n",
    "\n",
    "#   # We apply the heatmap to the original image\n",
    "#   heatmap = cv2.applyColorMap(heatmap, cv2.COLORMAP_JET)\n",
    "\n",
    "#   # 0.4 here is a heatmap intensity factor\n",
    "#   superimposed_img = heatmap * 0.4 + img\n",
    "\n",
    "#   img = cv2.imread('../images/elephant_cam.jpg')\n",
    "#   RGB_im = cv2.cvtColor(img, cv2.COLOR_BGR2RGB)\n",
    "\n",
    "#   plt.rcParams['figure.dpi'] = 120\n",
    "#   plt.imshow(RGB_im)\n",
    "#   plt.title('Class activation map')\n",
    "#   plt.xticks([])\n",
    "#   plt.yticks([])\n",
    "#   plt.show()\n",
    "\n",
    "plot_3_3()"
   ]
  },
  {
   "cell_type": "markdown",
   "metadata": {
    "colab_type": "text",
    "id": "buQLQ16EypgL"
   },
   "source": [
    "## Part 4. Transfer learning (10 points)\n",
    "### Question 4.1 Fast feature extraction with VGG16 (5 points)\n",
    "- Import the VGG16 model, pretrained on ImageNet. [See here](https://keras.io/applications/). Only import the convolutional part, not the dense layers.\n",
    "- Implement a function 'build_model_4_1` that adds a dense layer to the convolutional base, and freezes the convolutional base. Consider unfreezing the last few convolutional layers and evaluate whether that works better.\n",
    "- Train the resulting model on the *original* (colored) training data\n",
    "- Evaluate the resulting model using 'run_evaluate'. Discuss the observed performance in 'answer_q_4_1'."
   ]
  },
  {
   "cell_type": "code",
   "execution_count": 30,
   "metadata": {
    "colab": {},
    "colab_type": "code",
    "id": "QXH1Z7Pqj3HW"
   },
   "outputs": [
    {
     "name": "stdout",
     "output_type": "stream",
     "text": [
      "\u001b[91mTraining the model\u001b[0m\n",
      "Train on 63544 samples, validate on 15887 samples\n",
      "Epoch 1/15\n",
      "63544/63544 [==============================] - 237s 4ms/sample - loss: 2.0607 - accuracy: 0.2775 - val_loss: 1.9034 - val_accuracy: 0.3354\n",
      "Epoch 2/15\n",
      "63544/63544 [==============================] - 235s 4ms/sample - loss: 1.8328 - accuracy: 0.3699 - val_loss: 1.7861 - val_accuracy: 0.3877\n",
      "Epoch 3/15\n",
      "63544/63544 [==============================] - 255s 4ms/sample - loss: 1.7450 - accuracy: 0.4052 - val_loss: 1.7224 - val_accuracy: 0.4237\n",
      "Epoch 4/15\n",
      "63544/63544 [==============================] - 235s 4ms/sample - loss: 1.6921 - accuracy: 0.4238 - val_loss: 1.6810 - val_accuracy: 0.4274\n",
      "Epoch 5/15\n",
      "63544/63544 [==============================] - 234s 4ms/sample - loss: 1.6548 - accuracy: 0.4392 - val_loss: 1.6473 - val_accuracy: 0.4482\n",
      "Epoch 6/15\n",
      "63544/63544 [==============================] - 253s 4ms/sample - loss: 1.6257 - accuracy: 0.4484 - val_loss: 1.6299 - val_accuracy: 0.4490\n",
      "Epoch 7/15\n",
      "63544/63544 [==============================] - 305s 5ms/sample - loss: 1.6025 - accuracy: 0.4579 - val_loss: 1.6052 - val_accuracy: 0.4572\n",
      "Epoch 8/15\n",
      "63544/63544 [==============================] - 309s 5ms/sample - loss: 1.5831 - accuracy: 0.4660 - val_loss: 1.5868 - val_accuracy: 0.4681\n",
      "Epoch 9/15\n",
      "63544/63544 [==============================] - 306s 5ms/sample - loss: 1.5666 - accuracy: 0.4714 - val_loss: 1.5713 - val_accuracy: 0.4715\n",
      "Epoch 10/15\n",
      "63544/63544 [==============================] - 305s 5ms/sample - loss: 1.5524 - accuracy: 0.4762 - val_loss: 1.5602 - val_accuracy: 0.4783\n",
      "Epoch 11/15\n",
      "63544/63544 [==============================] - 292s 5ms/sample - loss: 1.5397 - accuracy: 0.4810 - val_loss: 1.5482 - val_accuracy: 0.4834\n",
      "Epoch 12/15\n",
      "63544/63544 [==============================] - 254s 4ms/sample - loss: 1.5282 - accuracy: 0.4857 - val_loss: 1.5377 - val_accuracy: 0.4815\n",
      "Epoch 13/15\n",
      "63544/63544 [==============================] - 247s 4ms/sample - loss: 1.5178 - accuracy: 0.4907 - val_loss: 1.5280 - val_accuracy: 0.4875\n",
      "Epoch 14/15\n",
      "63544/63544 [==============================] - 250s 4ms/sample - loss: 1.5094 - accuracy: 0.4924 - val_loss: 1.5240 - val_accuracy: 0.4879\n",
      "Epoch 15/15\n",
      "63544/63544 [==============================] - 271s 4ms/sample - loss: 1.5007 - accuracy: 0.4971 - val_loss: 1.5151 - val_accuracy: 0.4877\n",
      "\u001b[91mSaving to file\u001b[0m\n",
      "\u001b[91mModel stored in C:\\Users\\s162163\\Documents\\Data mining\\assignment-3-Thijs13\u001b[0m\n",
      "Model: \"sequential_10\"\n",
      "_________________________________________________________________\n",
      "Layer (type)                 Output Shape              Param #   \n",
      "=================================================================\n",
      "vgg16 (Model)                (None, 1, 1, 512)         14714688  \n",
      "_________________________________________________________________\n",
      "flatten_8 (Flatten)          (None, 512)               0         \n",
      "_________________________________________________________________\n",
      "dense_28 (Dense)             (None, 10)                5130      \n",
      "=================================================================\n",
      "Total params: 14,719,818\n",
      "Trainable params: 5,130\n",
      "Non-trainable params: 14,714,688\n",
      "_________________________________________________________________\n",
      "None\n",
      "         loss  accuracy  val_loss  val_accuracy\n",
      "min  1.500724  0.277540  1.515138      0.335369\n",
      "max  2.060721  0.497073  1.903408      0.487946\n",
      "Answer is 458 characters long\n"
     ]
    },
    {
     "data": {
      "image/png": "[encoded data removed]",
      "text/plain": [
       "<Figure size 432x288 with 1 Axes>"
      ]
     },
     "metadata": {
      "needs_background": "light"
     },
     "output_type": "display_data"
    }
   ],
   "source": [
    "from tensorflow.keras.applications.vgg16 import VGG16\n",
    "\n",
    "def build_model_4_1():\n",
    "  model = models.Sequential()\n",
    "  conv_base = VGG16(weights='imagenet', include_top=False, input_shape=(32, 32, 3))\n",
    "  model.add(conv_base)\n",
    "  model.add(layers.Flatten())\n",
    "  model.add(layers.Dense(10, activation='sigmoid'))\n",
    "  for layer in conv_base.layers:\n",
    "    if \"block5\" in layer.name:\n",
    "        layer.trainable = False\n",
    "    else:\n",
    "        layer.trainable = False\n",
    "\n",
    "  model.compile(optimizer='sgd', loss='categorical_crossentropy', metrics=['accuracy'])\n",
    "  return model\n",
    "\n",
    "run_evaluation(\"model_4_1\", build_model_4_1, evaluation_split, base_dir, \n",
    "               train=True, epochs=15, batch_size=64)\n",
    "answer_q_4_1 = \"\"\"\n",
    "               Performance is not great. When the convolutional base is completely frozen\n",
    "               accuracy is below 0.5. With the last layers trainable accuracy rises\n",
    "               to about 0.82 which is still outperformed by model_2_2 or a completely\n",
    "               unfrozen base. Changing the dense layers does not seem to have an effect on \n",
    "               accuracy. The partly unfrozen model overfits significantly with a higher number of epochs.\n",
    "               \"\"\"\n",
    "print(\"Answer is {} characters long\".format(len(answer_q_4_1)))"
   ]
  },
  {
   "cell_type": "markdown",
   "metadata": {
    "colab_type": "text",
    "id": "cp60rxZTYI8O"
   },
   "source": [
    "### Question 4.2 Embeddings and pipelines (5 points)\n",
    "- Generate embeddings of the original images by running them through the trained convolutional part of model_4_1 (without the dense layer) and returning the output. Embed the training and test data and store them to disk using the helper functions below. Implement a function `store_embeddings` that loads model_4_1 and stores all necessary embeddings to file. Make sure to run it once so that the embeddings are stored (and submitted).\n",
    "- Implement a function 'generate_pipeline' that returns an scikit-learn pipeline. You can use any non-deep learning technique (eg. SVMs, RFs,...), and preprocessing technique. You can do model selection using the validation set. \n",
    "- Implement a function 'evaluate_pipeline' that evaluates a given pipeline on a given training and test set. \n",
    "- Implement a function 'evaluation_4_2' that evaluates your pipeline on the embedded training and test set (loaded from file) and returns the accuracy. \n",
    "- Describe what you did and what you observed. Report the obtained accuracy score. Can you beat your best model thus far?"
   ]
  },
  {
   "cell_type": "code",
   "execution_count": null,
   "metadata": {
    "colab": {},
    "colab_type": "code",
    "id": "kSR7BJRL-eeb"
   },
   "outputs": [],
   "source": [
    "from sklearn.base import BaseEstimator, TransformerMixin\n",
    "\n",
    "# NOTE: code copied from: https://kapernikov.com/tutorial-image-classification-with-scikit-learn/\n",
    "\n",
    "class HogTransformer(BaseEstimator, TransformerMixin):\n",
    "    \"\"\"\n",
    "    Expects an array of 2d arrays (1 channel images)\n",
    "    Calculates hog features for each img\n",
    "    \"\"\"\n",
    " \n",
    "    def __init__(self, y=None, orientations=9,\n",
    "                 pixels_per_cell=(8, 8),\n",
    "                 cells_per_block=(3, 3), block_norm='L2-Hys'):\n",
    "        self.y = y\n",
    "        self.orientations = orientations\n",
    "        self.pixels_per_cell = pixels_per_cell\n",
    "        self.cells_per_block = cells_per_block\n",
    "        self.block_norm = block_norm\n",
    " \n",
    "    def fit(self, X, y=None):\n",
    "        return self\n",
    " \n",
    "    def transform(self, X, y=None):\n",
    " \n",
    "        def local_hog(X):\n",
    "            return hog(X,\n",
    "                       orientations=self.orientations,\n",
    "                       pixels_per_cell=self.pixels_per_cell,\n",
    "                       cells_per_block=self.cells_per_block,\n",
    "                       block_norm=self.block_norm)\n",
    " \n",
    "        try: # parallel\n",
    "            return np.array([local_hog(img) for img in X])\n",
    "        except:\n",
    "            return np.array([local_hog(img) for img in X])"
   ]
  },
  {
   "cell_type": "code",
   "execution_count": null,
   "metadata": {
    "colab": {
     "base_uri": "https://localhost:8080/",
     "height": 626
    },
    "colab_type": "code",
    "id": "IQo_zskOrs_m",
    "outputId": "cffea94e-e4fb-4906-ba11-10d4fa5ed58c"
   },
   "outputs": [],
   "source": [
    "import pickle\n",
    "import gzip\n",
    "from keras.preprocessing.image import ImageDataGenerator\n",
    "from sklearn.model_selection import cross_val_score\n",
    "from sklearn.linear_model import LinearRegression\n",
    "from sklearn.svm import SVR\n",
    "from sklearn.pipeline import make_pipeline, Pipeline\n",
    "from skimage.feature import hog\n",
    "\n",
    "def store_embedding(X, name):  \n",
    "  with gzip.open(os.path.join(base_dir, name+'_embedding.p'), 'wb') as file_pi:\n",
    "    pickle.dump(X, file_pi)\n",
    "\n",
    "def load_embedding(name):\n",
    "  with gzip.open(os.path.join(base_dir, name+'_embedding.p'), 'rb') as file_pi:\n",
    "    return pickle.load(file_pi)\n",
    "\n",
    "def store_embeddings():\n",
    "  conv_base = VGG16(weights='imagenet', include_top=False, input_shape=(32, 32, 3))\n",
    "  generator = datagen.flow_from_directory(dir, target_size=(32, 32), batch_size=batch_size, class_mode='binary')\n",
    "  for inputs_batch, labels_batch in generator:\n",
    "    features_batch = conv_base.predict(inputs_batch)\n",
    "  pass\n",
    "\n",
    "def generate_pipeline():\n",
    "  \"\"\" Returns an sklearn pipeline.\n",
    "  \"\"\"\n",
    "  transform = make_pipeline(HogTransformer(\n",
    "    pixels_per_cell=(8, 8),\n",
    "    cells_per_block=(4,4),\n",
    "    orientations=8,\n",
    "    block_norm='L2-Hys'))\n",
    "  Pipeline(steps=[('preprocess', transform), ('svr', SVR())])\n",
    "\n",
    "def evaluate_pipeline(pipeline, X_train, y_train, X_test, y_test):\n",
    "  \"\"\" Evaluates the given pipeline, trained on the given embedded training set and \n",
    "      evaluated on the supplied embedded test set. Returns the accuracy score.\n",
    "  \"\"\"\n",
    "  scores = cross_val_score(pipeline, X_train, y_train, X_test, y_test).mean()\n",
    "  return scores\n",
    "\n",
    "def evaluation_4_2(X_train, y_train, X_test, y_test):\n",
    "  \"\"\" Runs 'evaluate_pipeline' with embedded versions of the input data \n",
    "  and returns the accuracy.\n",
    "  \"\"\"\n",
    "  pass\n",
    "\n",
    "# pipe = generate_pipeline()\n",
    "# evaluate_pipeline(pipe, rgb2gray(X_train), rgb2gray(X_val), y_train, y_val)\n",
    "\n",
    "answer_q_4_2 = \"\"\"\n",
    "               Your answer \n",
    "               \"\"\"\n",
    "print(\"Pipeline:\",generate_pipeline())\n",
    "print(\"Answer is {} characters long\".format(len(answer_q_4_2)))"
   ]
  },
  {
   "cell_type": "code",
   "execution_count": null,
   "metadata": {
    "colab": {},
    "colab_type": "code",
    "id": "C1OeQVeCWhHg"
   },
   "outputs": [],
   "source": []
  }
 ],
 "metadata": {
  "accelerator": "GPU",
  "anaconda-cloud": {},
  "colab": {
   "collapsed_sections": [],
   "machine_shape": "hm",
   "name": "Assignment 3.ipynb",
   "provenance": [],
   "toc_visible": true
  },
  "kernelspec": {
   "display_name": "Python 3",
   "language": "python",
   "name": "python3"
  },
  "language_info": {
   "codemirror_mode": {
    "name": "ipython",
    "version": 3
   },
   "file_extension": ".py",
   "mimetype": "text/x-python",
   "name": "python",
   "nbconvert_exporter": "python",
   "pygments_lexer": "ipython3",
   "version": "3.7.6"
  }
 },
 "nbformat": 4,
 "nbformat_minor": 1
}
