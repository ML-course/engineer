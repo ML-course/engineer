{
  "nbformat": 4,
  "nbformat_minor": 0,
  "metadata": {
    "colab": {
      "name": "ColabVerify",
      "provenance": [],
      "collapsed_sections": [],
      "machine_shape": "hm"
    },
    "kernelspec": {
      "name": "python3",
      "display_name": "Python 3"
    }
  },
  "cells": [
    {
      "cell_type": "code",
      "metadata": {
        "id": "MaHVehkswIKR",
        "colab_type": "code",
        "colab": {
          "base_uri": "https://localhost:8080/",
          "height": 66
        },
        "outputId": "65bfde90-3ebc-4555-efe4-ab7283a38a83"
      },
      "source": [
        "!pip install --quiet openml"
      ],
      "execution_count": 1,
      "outputs": [
        {
          "output_type": "stream",
          "text": [
            "\u001b[?25l\r\u001b[K     |██                              | 10kB 24.5MB/s eta 0:00:01\r\u001b[K     |████▏                           | 20kB 1.8MB/s eta 0:00:01\r\u001b[K     |██████▏                         | 30kB 2.4MB/s eta 0:00:01\r\u001b[K     |████████▎                       | 40kB 1.8MB/s eta 0:00:01\r\u001b[K     |██████████▎                     | 51kB 1.9MB/s eta 0:00:01\r\u001b[K     |████████████▍                   | 61kB 2.3MB/s eta 0:00:01\r\u001b[K     |██████████████▍                 | 71kB 2.5MB/s eta 0:00:01\r\u001b[K     |████████████████▌               | 81kB 2.6MB/s eta 0:00:01\r\u001b[K     |██████████████████▌             | 92kB 3.0MB/s eta 0:00:01\r\u001b[K     |████████████████████▋           | 102kB 2.9MB/s eta 0:00:01\r\u001b[K     |██████████████████████▊         | 112kB 2.9MB/s eta 0:00:01\r\u001b[K     |████████████████████████▊       | 122kB 2.9MB/s eta 0:00:01\r\u001b[K     |██████████████████████████▉     | 133kB 2.9MB/s eta 0:00:01\r\u001b[K     |████████████████████████████▉   | 143kB 2.9MB/s eta 0:00:01\r\u001b[K     |███████████████████████████████ | 153kB 2.9MB/s eta 0:00:01\r\u001b[K     |████████████████████████████████| 163kB 2.9MB/s \n",
            "\u001b[?25h  Building wheel for openml (setup.py) ... \u001b[?25l\u001b[?25hdone\n",
            "  Building wheel for liac-arff (setup.py) ... \u001b[?25l\u001b[?25hdone\n"
          ],
          "name": "stdout"
        }
      ]
    },
    {
      "cell_type": "code",
      "metadata": {
        "id": "VJygYdMow1L5",
        "colab_type": "code",
        "colab": {}
      },
      "source": [
        "# Load data. It's possible that Colab will ask to switch to a high-RAM runtime\n",
        "import openml as oml\n",
        "import os\n",
        "oml.config.cache_directory = os.path.expanduser('/content/cache')\n",
        "SVHN = oml.datasets.get_dataset(41081)\n",
        "X, y, _, _ = SVHN.get_data(dataset_format='array',\n",
        "    target=SVHN.default_target_attribute)"
      ],
      "execution_count": 0,
      "outputs": []
    },
    {
      "cell_type": "code",
      "metadata": {
        "id": "qjT-9QGHe4Un",
        "colab_type": "code",
        "colab": {}
      },
      "source": [
        "# If the kernel dies loading the data, run this\n",
        "# Replace '/content/cache' with the cache directory you specified in your notebook\n",
        "from google_drive_downloader import GoogleDriveDownloader as gdd\n",
        "gdd.download_file_from_google_drive(file_id='1zZRRe3ffmuAf1x4yZmYwG_rLiuggep2A',\n",
        "             dest_path='/content/cache/org/openml/www/datasets/41081/dataset.pkl.py3')"
      ],
      "execution_count": 0,
      "outputs": []
    },
    {
      "cell_type": "code",
      "metadata": {
        "id": "1TI5kYOSdH92",
        "colab_type": "code",
        "colab": {
          "base_uri": "https://localhost:8080/",
          "height": 115
        },
        "outputId": "ce1add74-3096-489d-eafb-83e9fff4b903"
      },
      "source": [
        "# Run verify.py\n",
        "# Update 'my_directory' with the path to your files\n",
        "\n",
        "import os\n",
        "import nbformat\n",
        "from nbconvert import PythonExporter, HTMLExporter\n",
        "from nbconvert.preprocessors import CellExecutionError, ExecutePreprocessor\n",
        "from traitlets.config import Config\n",
        "import warnings\n",
        "warnings.filterwarnings('ignore') \n",
        "\n",
        "from google.colab import drive\n",
        "drive.mount('/content/drive')\n",
        "\n",
        "# Replace 'my_directory' with the directory on Google Drive where you have\n",
        "# uploaded your assignment and model files.\n",
        "# Most likely: /content/drive/My Drive/Colab Notebooks/assignment-3-githubname\n",
        "%cd /content/drive/My Drive/ass3\n",
        "basedir = '/content/drive/My Drive/ass3/' \n",
        "\n",
        "# Convert notebook to python\n",
        "assignment_path = basedir + 'Assignment 3.ipynb'\n",
        "export_path = basedir + 'solution.py'\n",
        "template_path = basedir + 'submit/Template.ipynb'\n",
        "submission_path = basedir + 'Submission.html'\n",
        "\n",
        "print(\"Converting: {0}\".format(assignment_path))\n",
        "exporter = PythonExporter()\n",
        "# source is a tuple of python source code, meta contains metadata\n",
        "(source, meta) = exporter.from_filename(assignment_path)\n",
        "with open(export_path, 'w+') as fh:\n",
        "    fh.writelines(source)\n",
        "    fh.writelines(\"last_edit = '{}'\".format(meta['metadata']['modified_date']))\n",
        "    \n",
        "# Run solution notebook\n",
        "with open(template_path) as f:\n",
        "    snb = nbformat.read(f, as_version=4)\n",
        "# Already updated to 4000 seconds.\n",
        "ep = ExecutePreprocessor(timeout=4000, kernel_name='python3')\n",
        "\n",
        "try:\n",
        "    print(\"Running notebook... (may take a while)\")\n",
        "    out = ep.preprocess(snb, {'metadata': {'path': './'}})\n",
        "except CellExecutionError:\n",
        "    out = None\n",
        "    msg = 'Error executing the notebook \"%s\".\\n\\n' % template_path\n",
        "    msg += 'See notebook \"%s\" for the traceback.' % template_path\n",
        "    print(msg)\n",
        "    raise\n",
        "finally:\n",
        "    # Save notebook\n",
        "    with open(template_path, mode='w', encoding='utf-8') as f:\n",
        "        nbformat.write(snb, f)\n",
        "\n",
        "# Export as HTML (PDF is too much hassle)\n",
        "print(\"All good. Building report.\")\n",
        "c = Config()\n",
        "c.TagRemovePreprocessor.enabled=True\n",
        "c.TagRemovePreprocessor.remove_input_tags = set([\"hide_input\"])\n",
        "c.preprocessors = [\"TagRemovePreprocessor\"]\n",
        "\n",
        "html_exporter = HTMLExporter(config=c)\n",
        "html_data, resources = html_exporter.from_notebook_node(snb)\n",
        "html_data = html_data.replace('</head>', '<style>pre{font-family: \"Times New Roman\", Times, serif;}</style></head>')\n",
        "\n",
        "with open(submission_path, \"wb\") as f:\n",
        "    f.write(html_data.encode('utf8'))\n",
        "    f.close()\n",
        "#Cleanup\n",
        "#os.remove(\"solution.py\")\n",
        "print(\"Done.\")"
      ],
      "execution_count": 8,
      "outputs": [
        {
          "output_type": "stream",
          "text": [
            "Drive already mounted at /content/drive; to attempt to forcibly remount, call drive.mount(\"/content/drive\", force_remount=True).\n",
            "/content/drive/My Drive/ass3\n",
            "Converting: /content/drive/My Drive/ass3/Assignment 3.ipynb\n",
            "Running notebook... (may take a while)\n",
            "All good. Building report.\n",
            "Done.\n"
          ],
          "name": "stdout"
        }
      ]
    }
  ]
}