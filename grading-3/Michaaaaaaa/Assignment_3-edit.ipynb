{
 "cells": [
  {
   "cell_type": "code",
   "execution_count": 5,
   "metadata": {
    "colab": {},
    "colab_type": "code",
    "id": "uPiqHyC_MuLL"
   },
   "outputs": [],
   "source": [
    "# Fill in your name using the format below and student ID number\n",
    "your_name = \"van den Herik, Micha\"\n",
    "student_id = \"0948949\"\n"
   ]
  },
  {
   "cell_type": "code",
   "execution_count": 108,
   "metadata": {
    "colab": {},
    "colab_type": "code",
    "id": "mOS5f-eFYmZz"
   },
   "outputs": [],
   "source": [
    "\n",
    "# Before submission, set this to True so that you can render and verify this notebook without training deep learning models.\n",
    "# Any deep learning models will be trained from file instead.\n",
    "stop_training = True"
   ]
  },
  {
   "cell_type": "code",
   "execution_count": 7,
   "metadata": {
    "colab": {},
    "colab_type": "code",
    "id": "-rAuraOsM22r"
   },
   "outputs": [],
   "source": [
    "# Uncomment the following line to run in Google Colab\n",
    "#!pip install --quiet openml "
   ]
  },
  {
   "cell_type": "code",
   "execution_count": 8,
   "metadata": {
    "colab": {
     "base_uri": "https://localhost:8080/",
     "height": 33
    },
    "colab_type": "code",
    "id": "OS-d8ziENCs1",
    "outputId": "a54c8a67-1b7d-4d0a-9118-9f17f83c1e88"
   },
   "outputs": [],
   "source": [
    "# Uncomment the following line to run in Google Colab\n",
    "#%tensorflow_version 2.x\n",
    "#import tensorflow as tf\n",
    "#tf.config.experimental.list_physical_devices('GPU') # Check whether GPUs are available"
   ]
  },
  {
   "cell_type": "code",
   "execution_count": 23,
   "metadata": {
    "colab": {},
    "colab_type": "code",
    "id": "-iTn6RmNMuLT"
   },
   "outputs": [],
   "source": [
    "%matplotlib inline\n",
    "import openml as oml\n",
    "import numpy as np\n",
    "import matplotlib.pyplot as plt\n",
    "import sklearn"
   ]
  },
  {
   "cell_type": "code",
   "execution_count": 24,
   "metadata": {
    "colab": {
     "base_uri": "https://localhost:8080/",
     "height": 33
    },
    "colab_type": "code",
    "id": "brth0Z_TMuLZ",
    "outputId": "c3e7ae96-2bad-437c-ce3a-a752000e171a"
   },
   "outputs": [
    {
     "name": "stdout",
     "output_type": "stream",
     "text": [
      "Hi Micha, Looks good. You may continue :)\n"
     ]
    }
   ],
   "source": [
    "from packaging import version\n",
    "import sklearn\n",
    "import tensorflow\n",
    "sklearn_version = sklearn.__version__\n",
    "tensorflow_version = tensorflow.__version__\n",
    "if version.parse(sklearn_version) < version.parse(\"0.22.0\"):\n",
    "    print(\"scikit-learn is outdated. Please update now!\")\n",
    "if version.parse(tensorflow_version) < version.parse(\"2.1.0\"):\n",
    "    print(\"Tensorflow is outdated. This is version {}. Please update to 2.1.\".format(tensorflow_version))\n",
    "else:\n",
    "    print(\"Hi{}, Looks good. You may continue :)\".format(your_name.split(\",\")[1]))"
   ]
  },
  {
   "cell_type": "markdown",
   "metadata": {
    "colab_type": "text",
    "id": "7kdeFjIGMuLv"
   },
   "source": [
    "# Assignment 3"
   ]
  },
  {
   "cell_type": "markdown",
   "metadata": {
    "colab_type": "text",
    "id": "ljhP8DXu-H4j"
   },
   "source": [
    "### Choice of libraries\n",
    "We recommend to use Tensorflow in this assignment since that is what we covered in the labs. If you feel confident using PyTorch (and Skorch for the scikit-learn wrapper), that is allowed too, as long as you are able to implement the requested functions and return the requested data. Read the assignment carefully and ensure that you can. Note that you may also need to do a bit more work to implement certain helper functions and wrappers."
   ]
  },
  {
   "cell_type": "markdown",
   "metadata": {
    "colab_type": "text",
    "id": "-BQG9Kp2EcPc"
   },
   "source": [
    "### Storing and submitting files\n",
    "You must be able to store your models and submit them to GitHub Classroom. The evaluation functions used in this notebook will automatically store models for you.\n",
    "\n",
    "If you want to run and solve the notebook on your local machine/laptop, fill in the path 'base_dir' to your assignment folder into the next cell.\n",
    "\n",
    "If you use Colab, we recommend that you link it to your Google Drive:  \n",
    "* Upload the assignment folder to your Google Drive (+ New > Folder Upload)\n",
    "* Open Colab in a browser, open the 'Files' menu in the left sidebar, and click 'Mount Drive'\n",
    "  * At this point you may need to authenticate\n",
    "* Fill in the path to your assignment folder below\n",
    "  * It's likely '/content/drive/My Drive/assignment-3-yourname'"
   ]
  },
  {
   "cell_type": "code",
   "execution_count": null,
   "metadata": {
    "colab": {
     "base_uri": "https://localhost:8080/",
     "height": 33
    },
    "colab_type": "code",
    "id": "HKaM3mwrODBR",
    "outputId": "8d0834b0-97f4-4344-af82-9ce40602ebf9"
   },
   "outputs": [],
   "source": [
    "#Uncomment to link Colab notebook to Google Drive\n",
    "#from google.colab import drive\n",
    "#drive.mount('/content/drive/')"
   ]
  },
  {
   "cell_type": "code",
   "execution_count": 20,
   "metadata": {
    "colab": {},
    "colab_type": "code",
    "id": "aO6jTIIFHQNU"
   },
   "outputs": [],
   "source": [
    "base_dir = 'C://Users//micha//OneDrive - TU Eindhoven//00. Studie Relevant//2IMM15//assignment-3-Michaaaaaaa//' # For Google Colab\n",
    "#base_dir = './'"
   ]
  },
  {
   "cell_type": "markdown",
   "metadata": {
    "colab_type": "text",
    "id": "D_BDIpWh92Dk"
   },
   "source": [
    "### Using GPUs\n",
    "While you can solve this assignment on a CPU, using a GPU will speed things up training quite a bit. If you have a local GPU, you can use that. If you don't, we recommend Google Colab. When you are in Colab:\n",
    "* In Runtime > Change runtime type, select the GPU under Hardware Accelerator\n",
    "* Run the 3rd cell on the top of this notebook to check that the GPU is found.\n",
    "\n",
    "Note that Colab may not always have GPUs ready all the time, and may deny you a GPU when you have used them a lot. When you are temporarily 'locked out', you can switch to a non-GPU runtime or to a local instance of Jupyter running on your machine."
   ]
  },
  {
   "cell_type": "markdown",
   "metadata": {
    "colab_type": "text",
    "id": "hq6oPNF546_5"
   },
   "source": [
    "### Constraints\n",
    "* Your stored models should not be larger than 100MB when stored in file. GitHub will not allow uploading if they are.\n",
    "* When questions ask you to provide an explanation, it should be less than 500\n",
    "characters long. Some questions have a higher limit. Always answer in full sentences.\n",
    "* Don't train for more than 100 epochs, i.e. don't throw excessing computational resources at the problem. If your model hasn't converged by then, think of ways it could be made to converge faster. In this assignment you are not after the last tiny improvement, you can stop when learning curves flatten out. Do at least 5 epochs to get a reasonable learning curve."
   ]
  },
  {
   "cell_type": "markdown",
   "metadata": {
    "colab_type": "text",
    "id": "h8wBDNspEvcY"
   },
   "source": [
    "### Grading\n",
    "Grading is based on the following aspects:\n",
    "* Correctness in answering the question. Carefully read the question and answer\n",
    "what is asked for. Train your models on the correct data. It should be clear on which data should be trained, but ask when in doubt. When something is not defined (e.g. the number of epochs or batch size), you can freely choose them.\n",
    "* Clarity of your explanations. Write short but precise descriptions of what you did and why. Give short but clear explanations of the observed performance. \n",
    "After your explanation, your approach and model should make perfect sense. Refrain from using symbols as substitute for words in your explanation (e.g. no: \"More layers -> more parameters\" yes: \"More layers mean more parameters\"). \n",
    "* Part of your grade depends on how well your model performs. When the question says 'you should at least get x%', x% will give you a good but not the maximal grade. You can get the full grade when you are close to what is the expected maximal performance. You don't need to invest lots of effort into the last tiny improvement, though. Unless specified, we look at the accuracy on the validation set. If your learning curves are very erratic we'll compute a score based on the smoothed curves (i.e. single peaks don't count).\n",
    "* The weight of each question is indicated. Take this into account when planning your time."
   ]
  },
  {
   "cell_type": "markdown",
   "metadata": {
    "colab_type": "text",
    "id": "KNyA5dEpR00Z"
   },
   "source": [
    "### Other tips\n",
    "* Don't wait until the last minute to do the assignment. The models take time to train, most questions will require some thinking, and some require you to read up on some new concepts.\n",
    "* Take care that you upload the results as requested. You need to submit not only the notebooks but also the trained models and learning curves (training histories). Be sure to run the verification script and check that all the results are included.\n",
    "* We provide an evaluation function that also stored models to disk. After you are done training the model, set the 'train' attribute to False so that the model doesn't train again (and loads from file instead) when you restart and rerun your notebook.\n",
    "* Explore. For many questions we'll ask you to explain your model design decisions. You cannot magically know the best solutions but you can experiment\n",
    "based on your understanding and make decisions based on both your knowledge and experiments. Your explanation is at least as important as the performance of your model.\n",
    "* Be original. We will check for plagiarism between student submissions."
   ]
  },
  {
   "cell_type": "markdown",
   "metadata": {
    "colab_type": "text",
    "id": "k0nKOZrPJTn8"
   },
   "source": [
    "### Data\n",
    "The [Street View House Numbers Dataset](https://www.openml.org/d/41081) contains 32-by-32 RGB images centered around a single digit of a house number appearing in Google Street View. Many of the images do contain some distractors at the sides. It consists of 10 classes, 1 for each digit. Digit '1' has label 1, '9' has label 9 and '0' has label 10. Your goal is to build models that recognize the correct digit."
   ]
  },
  {
   "cell_type": "markdown",
   "metadata": {
    "colab_type": "text",
    "id": "B8sOA7mEKOSp"
   },
   "source": [
    "If you use Colab, uncomment the following to cache the dataset inside the VM. This will make reloading faster if you need to restart your notebook. After longer periods of inactivity, your VM may be recycled and the cache lost, in which case the dataset will be downloaded again. Also note that this dataset is about 1Gb large, and will take even more space in memory. You may need to switch to a high-RAM environment (Colab will ask you if you hit the limit)."
   ]
  },
  {
   "cell_type": "code",
   "execution_count": null,
   "metadata": {
    "colab": {},
    "colab_type": "code",
    "id": "Wu9s9dnlJMP0"
   },
   "outputs": [],
   "source": [
    "# Use OpenML caching in Colab\n",
    "# On your local machine, it will store data in a hidden folder '~/.openml'\n",
    "#import os\n",
    "#oml.config.cache_directory = os.path.expanduser('/content/cache')"
   ]
  },
  {
   "cell_type": "code",
   "execution_count": 12,
   "metadata": {
    "colab": {},
    "colab_type": "code",
    "id": "_3o_TT8SMuLy"
   },
   "outputs": [],
   "source": [
    "# Download Streetview data. Takes a while (several minutes), and quite a bit of\n",
    "# memory when it needs to download. After caching it loads faster.\n",
    "SVHN = oml.datasets.get_dataset(41081)\n",
    "X, y, _, _ = SVHN.get_data(dataset_format='array',\n",
    "    target=SVHN.default_target_attribute)"
   ]
  },
  {
   "cell_type": "markdown",
   "metadata": {
    "colab_type": "text",
    "id": "EPwHgeC3MuMI"
   },
   "source": [
    "Reshape, sample and split the data"
   ]
  },
  {
   "cell_type": "code",
   "execution_count": 13,
   "metadata": {
    "colab": {
     "base_uri": "https://localhost:8080/",
     "height": 228
    },
    "colab_type": "code",
    "id": "3C14250QOGpL",
    "outputId": "a4175cce-ee80-48e0-f83f-5bae30864b59"
   },
   "outputs": [],
   "source": [
    "from tensorflow.keras.utils import to_categorical\n",
    "\n",
    "Xr = X.reshape((len(X),32,32,3))\n",
    "Xr = Xr / 255.\n",
    "yr = to_categorical(y)"
   ]
  },
  {
   "cell_type": "code",
   "execution_count": 14,
   "metadata": {
    "colab": {},
    "colab_type": "code",
    "id": "sbxtRoDcMuMK"
   },
   "outputs": [],
   "source": [
    "# DO NOT EDIT. DO NOT OVERWRITE THESE VARIABLES.\n",
    "from sklearn.model_selection import train_test_split\n",
    "# We do an 80-20 split for the training and test set, and then again a 80-20 split into training and validation data\n",
    "X_train_all, X_test, y_train_all, y_test = train_test_split(Xr,yr, stratify=yr, train_size=0.8, test_size=0.2, random_state=1)\n",
    "X_train, X_val, y_train, y_val = train_test_split(X_train_all,y_train_all, stratify=y_train_all, train_size=0.8, random_state=1)\n",
    "evaluation_split = X_train, X_val, y_train, y_val"
   ]
  },
  {
   "cell_type": "markdown",
   "metadata": {
    "colab_type": "text",
    "id": "gUAf28y2O6ks"
   },
   "source": [
    "Check the formatting - and what the data looks like"
   ]
  },
  {
   "cell_type": "code",
   "execution_count": 15,
   "metadata": {
    "colab": {},
    "colab_type": "code",
    "id": "QEWsr56hMuL8"
   },
   "outputs": [
    {
     "data": {
      "image/png": "[encoded data removed]",
      "text/plain": [
       "<Figure size 720x360 with 5 Axes>"
      ]
     },
     "metadata": {},
     "output_type": "display_data"
    }
   ],
   "source": [
    "from random import randint\n",
    "\n",
    "# Takes a list of row ids, and plots the corresponding images\n",
    "# Use grayscale=True for plotting grayscale images\n",
    "def plot_images(X, y, grayscale=False):\n",
    "    fig, axes = plt.subplots(1, len(X),  figsize=(10, 5))\n",
    "    for n in range(len(X)):\n",
    "        if grayscale:\n",
    "            axes[n].imshow(X[n], cmap='gray')\n",
    "        else:\n",
    "            axes[n].imshow(X[n])\n",
    "        axes[n].set_xlabel((np.argmax(y[n])+1)%10) # Label is index+1\n",
    "        axes[n].set_xticks(()), axes[n].set_yticks(())\n",
    "    plt.show();\n",
    "\n",
    "images = [randint(0,len(X_train)) for i in range(5)]\n",
    "X_random = [X_train[i] for i in images]\n",
    "y_random = [y_train[i] for i in images]\n",
    "plot_images(X_random, y_random)"
   ]
  },
  {
   "cell_type": "markdown",
   "metadata": {
    "colab_type": "text",
    "id": "yUQ22FEawd-J"
   },
   "source": [
    "### Evaluation harness\n",
    "We provide an evaluation function 'run_evaluation' that you should use to \n",
    "evaluate all your models. It also stores the trained models to disk so that\n",
    "your submission can be quickly verified, as well as to avoid having to train\n",
    "them over and over again. Your last run of the evaluation function (the last one\n",
    "stored to file), is the one that will be evaluated. The 'train' argument indicates whether to train or to load from disk. We have provided helper functions for saving and loading models to/from file, assuming you use TensorFlow. If you use PyTorch you'll have to adapt them."
   ]
  },
  {
   "cell_type": "code",
   "execution_count": 16,
   "metadata": {
    "colab": {},
    "colab_type": "code",
    "id": "SFGTq4mUV2zK"
   },
   "outputs": [],
   "source": [
    "import os\n",
    "import pickle\n",
    "import pandas as pd\n",
    "import numpy as np\n",
    "from tensorflow.keras.models import load_model # for use with tensorflow\n",
    "\n",
    "def shout(text, verbose=1):\n",
    "    \"\"\" Prints text in red. Just for fun.\n",
    "    \"\"\"\n",
    "    if verbose>0:\n",
    "        print('\\033[91m'+text+'\\x1b[0m')\n",
    "\n",
    "def load_model_from_file(base_dir, name, extension='.h5'):\n",
    "    \"\"\" Loads a model from a file. The returned model must have a 'fit' and 'summary'\n",
    "    function following the Keras API. Don't change if you use TensorFlow. Otherwise,\n",
    "    adapt as needed. \n",
    "    Keyword arguments:\n",
    "    base_dir -- Directory where the models are stored\n",
    "    name -- Name of the model, e.g. 'question_1_1'\n",
    "    extension -- the file extension\n",
    "    \"\"\"\n",
    "    print('{}'.format(os.path.join(base_dir, name+extension)))\n",
    "    try:\n",
    "        model = load_model(os.path.join(base_dir, name+extension))\n",
    "    except OSError:\n",
    "        shout(\"Saved model could not be found. Was it trained and stored correctly? Is the base_dir correct?\")\n",
    "        return False\n",
    "    return model\n",
    "\n",
    "def save_model_to_file(model, base_dir, name, extension='.h5'):\n",
    "    \"\"\" Saves a model to file. Don't change if you use TensorFlow. Otherwise,\n",
    "    adapt as needed. \n",
    "    Keyword arguments:\n",
    "    model -- the model to be saved\n",
    "    base_dir -- Directory where the models should be stored\n",
    "    name -- Name of the model, e.g. 'question_1_1'\n",
    "    extension -- the file extension\n",
    "    \"\"\"\n",
    "    print('{}'.format(os.path.join(base_dir, name+extension)))\n",
    "    model.save(os.path.join(base_dir, name+extension))\n",
    "    print('done')\n",
    "\n",
    "# Helper function to extract min/max from the learning curves\n",
    "def minMax(x):\n",
    "    return pd.Series(index=['min','max'],data=[x.min(),x.max()])\n",
    "\n",
    "# DO NOT EDIT\n",
    "def run_evaluation(name, model_builder, data, base_dir, train=True, \n",
    "                   generator=False, epochs=3, batch_size=32, steps_per_epoch=60, \n",
    "                   verbose=1, **kwargs):\n",
    "    \"\"\" Trains and evaluates the given model on the predefined train and test splits,\n",
    "    stores the trained model and learning curves. Also prints out a summary of the \n",
    "    model and plots the learning curves.\n",
    "    Keyword arguments:\n",
    "    name -- the name of the model to be stored, e.g. 'question_1_1.h5'\n",
    "    model_builder -- function that returns an (untrained) model. The model must \n",
    "                     have a 'fit' function that follows the Keras API. It can wrap\n",
    "                     a non-Keras model as long as the 'fit' function takes the \n",
    "                     same attributes and returns the learning curves (history).\n",
    "                     It also must have a 'summary' function that prints out a \n",
    "                     model summary, and a 'save' function that saves the model \n",
    "                     to disk. \n",
    "    data -- data split for evaluation. A tuple of either:\n",
    "            * Numpy arrays (X_train, X_val, y_train, y_val)\n",
    "            * A data generator and validation data (generator, X_val, y_val)\n",
    "    base_dir -- the directory to save or read models to/from\n",
    "    train -- whether or not the data should be trained. If False, the trained model\n",
    "             will be loaded from disk.\n",
    "    generator -- whether the data in given as a generator or not\n",
    "    epochs -- the number of epochs to train for\n",
    "    batch_size -- the batch size to train with\n",
    "    steps_per_epoch -- steps per epoch, in case a generator is used (ignored otherwise)\n",
    "    verbose -- verbosity level, 0: silent, 1: minimal,...\n",
    "    kwargs -- keyword arguments that should be passed to model_builder.\n",
    "              Not required, but may help you to adjust its behavior\n",
    "    \"\"\"\n",
    "    model = model_builder(**kwargs)\n",
    "    if not model:\n",
    "        shout(\"No model is returned by the model_builder\")\n",
    "        return\n",
    "    if not hasattr(model, 'fit'):\n",
    "        shout(\"Model is not built correctly\")\n",
    "        return\n",
    "    learning_curves = {}\n",
    "    if train and not stop_training: # Train anew\n",
    "        shout(\"Training the model\", verbose)\n",
    "        if generator:\n",
    "            generator, X_val, y_val = data\n",
    "            history = model.fit(generator, epochs=epochs, batch_size=batch_size,\n",
    "                              steps_per_epoch=steps_per_epoch, verbose=1, \n",
    "                              validation_data=(X_val, y_val))\n",
    "            learning_curves = history.history\n",
    "        else:\n",
    "            X_train, X_val, y_train, y_val = data\n",
    "            history = model.fit(X_train, y_train, epochs=epochs, batch_size=batch_size,\n",
    "                              verbose=1, validation_data=(X_val, y_val))\n",
    "            learning_curves = history.history\n",
    "        shout(\"Saving to file\", verbose)\n",
    "        save_model_to_file(model, base_dir, name)\n",
    "        with open(os.path.join(base_dir, name+'.p'), 'wb') as file_pi:\n",
    "            pickle.dump(learning_curves, file_pi)\n",
    "        shout(\"Model stored in \"+base_dir, verbose)\n",
    "    else: # Load from file\n",
    "        shout(\"Loading model from file\", verbose)\n",
    "        model = load_model_from_file(base_dir, name)\n",
    "        if not model:\n",
    "            shout(\"Model not found\")\n",
    "            return\n",
    "        learning_curves = None\n",
    "        try:\n",
    "            learning_curves = pickle.load(open(os.path.join(base_dir, name+'.p'), \"rb\"))\n",
    "        except FileNotFoundError:\n",
    "            shout(\"Learning curves not found\")\n",
    "            return\n",
    "        shout(\"Success!\", verbose)\n",
    "    # Report\n",
    "    print(model.summary())\n",
    "    lc = pd.DataFrame(learning_curves)\n",
    "    lc.plot(lw=2,style=['b:','r:','b-','r-']);\n",
    "    plt.xlabel('epochs');\n",
    "    print(lc.apply(minMax))"
   ]
  },
  {
   "cell_type": "code",
   "execution_count": 21,
   "metadata": {
    "colab": {},
    "colab_type": "code",
    "id": "FCzYq_jpkDZO"
   },
   "outputs": [
    {
     "name": "stdout",
     "output_type": "stream",
     "text": [
      "\u001b[91mLoading model from file\u001b[0m\n",
      "C://Users//micha//OneDrive - TU Eindhoven//00. Studie Relevant//2IMM15//assignment-3-Michaaaaaaa//toy_example.h5\n",
      "\u001b[91mSuccess!\u001b[0m\n",
      "Model: \"sequential_14\"\n",
      "_________________________________________________________________\n",
      "Layer (type)                 Output Shape              Param #   \n",
      "=================================================================\n",
      "reshape_4 (Reshape)          (None, 3072)              0         \n",
      "_________________________________________________________________\n",
      "dense_30 (Dense)             (None, 10)                30730     \n",
      "_________________________________________________________________\n",
      "dense_31 (Dense)             (None, 10)                110       \n",
      "=================================================================\n",
      "Total params: 30,840\n",
      "Trainable params: 30,840\n",
      "Non-trainable params: 0\n",
      "_________________________________________________________________\n",
      "None\n",
      "         loss  accuracy  val_loss  val_accuracy\n",
      "min  2.233482  0.190498  2.233027      0.190974\n",
      "max  2.246467  0.190907  2.233055      0.190974\n"
     ]
    },
    {
     "data": {
      "image/png": "[encoded data removed]",
      "text/plain": [
       "<Figure size 432x288 with 1 Axes>"
      ]
     },
     "metadata": {
      "needs_background": "light"
     },
     "output_type": "display_data"
    }
   ],
   "source": [
    "# Toy usage example\n",
    "# Remove before submission\n",
    "from tensorflow.keras import models\n",
    "from tensorflow.keras import layers \n",
    "\n",
    "def build_toy_model():\n",
    "    model = models.Sequential()\n",
    "    model.add(layers.Reshape((3072,), input_shape=(32,32,3)))\n",
    "    model.add(layers.Dense(10, activation='relu'))\n",
    "    model.add(layers.Dense(10, activation='softmax'))\n",
    "    model.compile(optimizer='rmsprop',  \n",
    "                  loss='categorical_crossentropy',\n",
    "                  metrics=['accuracy'])\n",
    "    return model\n",
    "\n",
    "# First build and store\n",
    "run_evaluation(\"toy_example\", build_toy_model, evaluation_split, base_dir, \n",
    "               train=True, epochs=3, batch_size=32)"
   ]
  },
  {
   "cell_type": "code",
   "execution_count": null,
   "metadata": {
    "colab": {},
    "colab_type": "code",
    "id": "vKkkQwwdta8r"
   },
   "outputs": [],
   "source": [
    "# Toy usage example\n",
    "# Remove before submission\n",
    "# With train=False: load from file and report the same results without rerunning\n",
    "run_evaluation(\"toy_example\", build_toy_model, evaluation_split, base_dir, \n",
    "               train=False)"
   ]
  },
  {
   "cell_type": "markdown",
   "metadata": {
    "colab_type": "text",
    "id": "IU_zPWGPypce"
   },
   "source": [
    "## Part 1. Dense networks (10 points)\n",
    "\n",
    "### Question 1.1: Baseline model (4 points)\n",
    "- Build a dense network (with only dense layers) of at least 3 layers that is shaped like a pyramid: The first layer must have many nodes, and every subsequent layer must have increasingly fewer nodes, e.g. half as many. Implement a function 'build_model_1_1' that returns this model.\n",
    "- You can explore different settings, but don't use any preprocessing or regularization yet. You should be able to achieve at least 70% accuracy, but more is of course better. Unless otherwise stated, you can use accuracy as the evaluation metric in all questions.\n",
    "* Add a small description of your design choices (max. 500 characters) in 'answer_q_1_1': explain what you did and also why. Also discuss the performance of the model. Is it working well? Both the performance of the model and your explanations matter.\n",
    "- The name of the model should be 'model_1_1'. Evaluate it using the 'run_evaluation' function. For this question, you should not use more than 50 epochs."
   ]
  },
  {
   "cell_type": "code",
   "execution_count": null,
   "metadata": {
    "colab": {},
    "colab_type": "code",
    "id": "hci6BIdHJTN0"
   },
   "outputs": [],
   "source": [
    "from tensorflow.keras import models\n",
    "from tensorflow.keras import layers \n",
    "from tensorflow.keras import optimizers\n",
    "\n",
    "def build_model_1_1():\n",
    "    model = models.Sequential()\n",
    "    model.add(layers.Reshape((3072,), input_shape=(32,32,3)))\n",
    "    model.add(layers.Dense(256, activation='relu'))\n",
    "    model.add(layers.Dense(32, activation='relu'))\n",
    "    model.add(layers.Dense(10, activation='softmax'))\n",
    "    model.compile(optimizer='sgd',  \n",
    "                  loss='categorical_crossentropy',\n",
    "                  metrics=['accuracy'])\n",
    "    return model\n",
    "\n",
    "run_evaluation(\"model_1_1\", build_model_1_1, evaluation_split, base_dir, \n",
    "               train=True, epochs=50, batch_size=32)\n",
    "answer_q_1_1 = \"\"\"\n",
    "               Three dense layers with 256, 32, and 10 classes respectively, such that they are in a 'pyramid scheme'.\n",
    "               First two layers use relu.\n",
    "               Last layer has size 10 to classify 10 classes, and uses softmax for calculate final probabilities.\n",
    "               Mini-batch SGD with batch_size 32 yields best results versus other optimizers as Adagrad or RMSprop.\n",
    "               Final validation accuracy is approximateyl 0.81.\n",
    "               \"\"\"\n",
    "print(\"Answer is {} characters long\".format(len(answer_q_1_1)))"
   ]
  },
  {
   "cell_type": "markdown",
   "metadata": {
    "colab_type": "text",
    "id": "kmicpoNvonjd"
   },
   "source": [
    "### Question 1.2: Preprocessing (2 points)\n",
    "Rerun the model, but now preprocess the data first by converting the images to \n",
    "greyscale. You can use the helper function below. If you want to do additional \n",
    "preprocessing, you can do that here, too.\n",
    "* Store the preprocessed data as a tuple `preprocessed_split`\n",
    "* Rerun and re-evaluate your model using the preprocessed data.\n",
    "  * For the remainder of the assignment, always use the preprocessed data\n",
    "* Explain what you did and interpret the results in 'answer_q_1_2'. Is the model\n",
    "  better, if so, why?"
   ]
  },
  {
   "cell_type": "code",
   "execution_count": null,
   "metadata": {
    "colab": {},
    "colab_type": "code",
    "id": "_wFGWDQSqkIM"
   },
   "outputs": [],
   "source": [
    "# Luminance-preserving RGB to greyscale conversion\n",
    "def rgb2gray(X):\n",
    "    return np.expand_dims(np.dot(X, [0.2990, 0.5870, 0.1140]), axis=3)"
   ]
  },
  {
   "cell_type": "code",
   "execution_count": null,
   "metadata": {
    "colab": {},
    "colab_type": "code",
    "id": "3aTVsLaojNeM"
   },
   "outputs": [],
   "source": [
    "from tensorflow.keras import models\n",
    "from tensorflow.keras import layers \n",
    "from tensorflow.keras import optimizers\n",
    "\n",
    "# Replace with the preprocessed data\n",
    "X_train_pre = rgb2gray(X_train)\n",
    "X_val_pre = rgb2gray(X_val) \n",
    "\n",
    "#Assign split\n",
    "preprocessed_split = X_train_pre, X_val_pre, y_train, y_val\n",
    "\n",
    "# Adjusted model\n",
    "def build_model_1_2():\n",
    "    model = models.Sequential()\n",
    "    model.add(layers.Reshape((1024,), input_shape=(32,32,1)))\n",
    "    model.add(layers.Dense(256, activation='relu'))\n",
    "    model.add(layers.Dense(32, activation='relu'))\n",
    "    model.add(layers.Dense(10, activation='softmax'))\n",
    "    model.compile(optimizer='sgd',  \n",
    "                  loss='categorical_crossentropy',\n",
    "                  metrics=['accuracy'])\n",
    "    return model\n",
    "\n",
    "\n",
    "# Evaluate. Use a new name 'model_1_2' to not overwrite the previous trained model\n",
    "run_evaluation(\"model_1_2\", build_model_1_2, preprocessed_split, base_dir, train=True, epochs=50, batch_size=32)\n",
    "answer_q_1_2 = \"\"\"\n",
    "               Using the exact same parameters, the model performs approximately the same for 50 epochs, as here an accuracy of ~0.81 is achieved as well.\n",
    "               \"\"\"\n",
    "print(\"Answer is {} characters long\".format(len(answer_q_1_2)))"
   ]
  },
  {
   "cell_type": "markdown",
   "metadata": {
    "colab_type": "text",
    "id": "7l1pHwimiWQI"
   },
   "source": [
    "### Question 1.3: Regularization and tuning (4 points)\n",
    "* Regularize the model. You can explore (and combine) different techniques. What works best?\n",
    "* Tune other hyperparameters (e.g. learning rate, batch size,...) as you see fit.\n",
    "* Explain your findings and final design decisions. Retrain the model again on the preprocessed data and discuss the results.\n",
    "* Return your model in function 'build_model_1_3' and write your answer in 'answer_q_1_3'"
   ]
  },
  {
   "cell_type": "code",
   "execution_count": null,
   "metadata": {
    "colab": {},
    "colab_type": "code",
    "id": "2ZZenVX1jDIQ"
   },
   "outputs": [],
   "source": [
    "# Luminance-preserving RGB to greyscale conversion\n",
    "def rgb2gray(X):\n",
    "    return np.expand_dims(np.dot(X, [0.2990, 0.5870, 0.1140]), axis=3)\n",
    "\n",
    "from tensorflow.keras import models\n",
    "from tensorflow.keras import layers \n",
    "from tensorflow.keras import optimizers\n",
    "from tensorflow.keras import regularizers\n",
    "\n",
    "# Replace with the preprocessed data\n",
    "X_train_pre = rgb2gray(X_train)\n",
    "X_val_pre = rgb2gray(X_val) \n",
    "\n",
    "#Assign split\n",
    "preprocessed_split = X_train_pre, X_val_pre, y_train, y_val\n",
    "\n",
    "def build_model_1_3():\n",
    "    model = models.Sequential()\n",
    "    model.add(layers.Reshape((1024,), input_shape=(32,32,1)))\n",
    "    #model.add(layers.Dense(256, kernel_regularizer=regularizers.l1_l2(0.01), activation='relu'))\n",
    "    model.add(layers.Dense(256, activation='relu'))\n",
    "    model.add(layers.Dropout(0.1))\n",
    "    #model.add(layers.BatchNormalization()) #Don't perform Dropout & BN together: https://arxiv.org/pdf/1801.05134.pdf\n",
    "    #model.add(layers.Dense(32, kernel_regularizer=regularizers.l1_l2(0.01), activation='relu'))\n",
    "    model.add(layers.Dense(256, activation='relu'))\n",
    "    model.add(layers.Dropout(0.1))\n",
    "    #model.add(layers.BatchNormalization())\n",
    "    model.add(layers.Dense(10, activation='softmax'))\n",
    "\n",
    "    sgd = optimizers.SGD(lr=0.01, decay=0.01/50, momentum=0.9, nesterov=True)\n",
    "    model.compile(optimizer=sgd,  \n",
    "                  loss='categorical_crossentropy',\n",
    "                  metrics=['accuracy'])\n",
    "    return model\n",
    "  \n",
    "run_evaluation(\"model_1_3\", build_model_1_3, preprocessed_split, base_dir, train=True, epochs=50, batch_size=16)\n",
    "answer_q_1_3 = \"\"\"\n",
    "               Many different parameters and regularization options were tried, but only a couple differences yield similar results, such as:\n",
    "               Dropout of 0.1: 0.83\n",
    "               Batch Normalization: 0.79\n",
    "               Batch size of 16; 0.79\n",
    "               Batch size of 16 + Dropout 0.1: \n",
    "               \n",
    "               All values were achieved after 50 epochs. The best parameters is just adding a Dropout layer with value 0.1.\n",
    "               Other parameters used: learning rate = 0.01, decay = 0.01/50, momentum = 0.9, batch size = 32.\n",
    "               \"\"\"\n",
    "print(\"Answer is {} characters long\".format(len(answer_q_1_3)))"
   ]
  },
  {
   "cell_type": "markdown",
   "metadata": {
    "colab_type": "text",
    "id": "leo7YbI9L5et"
   },
   "source": [
    "## Part 2. Convolutional neural networks (10 points)\n",
    "### Question 2.1: Design a ConvNet (7 points)\n",
    "- Build a sequential convolutional neural network. Try to achieve the best validation accuracy you can. You should be able to get at least 90% accuracy. You can use any depth, any combination of layers, and any kind of regularization and tuning. \n",
    "- Add a description of your design choices in 'answer_q_2_1': explain what you did and also why. Also discuss the performance of the model. Is it working well? Both the performance of the model and your explanations matter.\n",
    "- You are allowed **800** characters for this answer (but don’t ramble).\n",
    "- The name of the model should be 'model_2_1'. Evaluate it using the 'run_evaluation' function and the preprocessed data."
   ]
  },
  {
   "cell_type": "code",
   "execution_count": null,
   "metadata": {
    "colab": {},
    "colab_type": "code",
    "id": "ceyv-n1JRYyP"
   },
   "outputs": [],
   "source": [
    "# Luminance-preserving RGB to greyscale conversion\n",
    "def rgb2gray(X):\n",
    "    return np.expand_dims(np.dot(X, [0.2990, 0.5870, 0.1140]), axis=3)\n",
    "\n",
    "from tensorflow.keras import models\n",
    "from tensorflow.keras import layers \n",
    "from tensorflow.keras import optimizers\n",
    "from tensorflow.keras import regularizers\n",
    "\n",
    "# Replace with the preprocessed data\n",
    "X_train_pre = rgb2gray(X_train)\n",
    "X_val_pre = rgb2gray(X_val) \n",
    "\n",
    "#Assign split\n",
    "preprocessed_split = X_train_pre, X_val_pre, y_train, y_val\n",
    "\n",
    "def build_model_2_1():\n",
    "    model = models.Sequential()\n",
    "    #model.add(layers.Reshape((1024,), input_shape=(32,32,1)))\n",
    "    model.add(layers.Conv2D(32, kernel_size=3, activation='relu', padding = 'same', input_shape=(32,32,1)))\n",
    "    # model.add(layers.BatchNormalization())\n",
    "    # model.add(layers.MaxPooling2D(pool_size=(2, 2)))\n",
    "    # model.add(layers.Conv2D(64, kernel_size=3, activation='relu'))\n",
    "    # model.add(layers.BatchNormalization())\n",
    "    # model.add(layers.MaxPooling2D(pool_size=(2, 2)))\n",
    "    # model.add(layers.Conv2D(128, kernel_size=3, activation='relu'))\n",
    "    # model.add(layers.BatchNormalization())\n",
    "    # model.add(layers.MaxPooling2D(pool_size=(2, 2)))\n",
    "    model.add(layers.BatchNormalization())\n",
    "    model.add(layers.Conv2D(32, (3, 3), activation='relu', padding='same'))\n",
    "    model.add(layers.BatchNormalization())\n",
    "    model.add(layers.MaxPooling2D((2, 2)))\n",
    "    model.add(layers.Dropout(0.2))\n",
    "    model.add(layers.Conv2D(64, (3, 3), activation='relu', padding='same'))\n",
    "    model.add(layers.BatchNormalization())\n",
    "    model.add(layers.Conv2D(64, (3, 3), activation='relu', padding='same'))\n",
    "    model.add(layers.BatchNormalization())\n",
    "    model.add(layers.MaxPooling2D((2, 2)))\n",
    "    model.add(layers.Dropout(0.3))\n",
    "    model.add(layers.Conv2D(128, (3, 3), activation='relu', padding='same'))\n",
    "    model.add(layers.BatchNormalization())\n",
    "    model.add(layers.Conv2D(128, (3, 3), activation='relu', padding='same'))\n",
    "    model.add(layers.BatchNormalization())\n",
    "    model.add(layers.MaxPooling2D((2, 2)))\n",
    "    model.add(layers.Dropout(0.4))\n",
    "    model.add(layers.Flatten())\n",
    "    model.add(layers.Dropout(0.5))\n",
    "    model.add(layers.Dense(128, activation='relu'))\n",
    "    model.add(layers.BatchNormalization())\n",
    "    model.add(layers.Dropout(0.5))    \n",
    "    #model.add(layers.Dense(64, activation='relu'))\n",
    "    model.add(layers.Dense(10, activation='softmax'))\n",
    "\n",
    "    #sgd = optimizers.SGD(lr=0.01, decay=0.01/50, momentum=0.9, nesterov=True)\n",
    "    adam = optimizers.Adam(learning_rate=0.001, beta_1=0.9, beta_2=0.999, amsgrad=False)\n",
    "\n",
    "    model.compile(optimizer='adam',  \n",
    "                  loss='categorical_crossentropy',\n",
    "                  metrics=['accuracy'])\n",
    "    return model\n",
    "\n",
    "run_evaluation(\"model_2_1\", build_model_2_1, preprocessed_split, base_dir, train=True, epochs=50, batch_size=32)\n",
    "answer_q_2_1 = \"\"\"\n",
    "               Validation Accuracy equals 0.9563.\n",
    "               THe model performs really well on the validation set, and it does not overfit.\n",
    "               I took the example model from Lab 6, and improved it for this assignment. Padding 'same' is used to ensure that the output matches the input shape for all Conv layers. \n",
    "               I also added an extra dense layer after flattening, to improve the classification and reduce overfitting.\n",
    "               An ADAM optimizer is popular to use with CNNs, and with its standard parameters, the best validation accuracy was achieved.\n",
    "               \"\"\"\n",
    "print(\"Answer is {} characters long\".format(len(answer_q_2_1)))"
   ]
  },
  {
   "cell_type": "markdown",
   "metadata": {
    "colab_type": "text",
    "id": "EpdLTbPwXmOc"
   },
   "source": [
    "### Question 2.2: Data Augmentation (3 points)\n",
    "\n",
    "- Augment the preprocessed training data. You can explore using image shifts, rotations, zooming, flips, etc. What works well, and what does not?\n",
    "- Evaluate the model from question 2.1 with the augmented data using the 'run_evaluation' function. Store the new trained model as 'model_2_2'.\n",
    "- Add a description of your design choices in 'answer_q_2_2': explain what you did and also why. Also discuss the performance of the model."
   ]
  },
  {
   "cell_type": "code",
   "execution_count": null,
   "metadata": {
    "colab": {},
    "colab_type": "code",
    "id": "cp8wMUU-aqhQ"
   },
   "outputs": [],
   "source": [
    "# Note that we build the same untrained model as in question 2.1 but store the \n",
    "# trained version as model_2_2. Change attributes as needed to run on augmented\n",
    "# data\n",
    "from keras.preprocessing.image import ImageDataGenerator\n",
    "\n",
    "# Luminance-preserving RGB to greyscale conversion\n",
    "def rgb2gray(X):\n",
    "    return np.expand_dims(np.dot(X, [0.2990, 0.5870, 0.1140]), axis=3)\n",
    "\n",
    "from tensorflow.keras import models\n",
    "from tensorflow.keras import layers \n",
    "from tensorflow.keras import optimizers\n",
    "from tensorflow.keras import regularizers\n",
    "\n",
    "# Replace with the preprocessed data\n",
    "X_train_pre = rgb2gray(X_train)\n",
    "X_val_pre = rgb2gray(X_val)  \n",
    "\n",
    "preprocessed_split = X_train_pre, X_val_pre, y_train, y_val\n",
    "\n",
    "datagen = ImageDataGenerator(\n",
    "    #rotation_range=10,\n",
    "    #height_shift_range=0.05,\n",
    "    #width_shift_range=0.05,\n",
    "    #brightness_range=(0.8, 1), #0 is black, 1 is original image\n",
    "    #shear_range=0.1, \n",
    "    #zoom_range=0.1,\n",
    "    #rescale=1.05,\n",
    "    fill_mode='nearest')\n",
    "\n",
    "it_train = datagen.flow(X_train_pre, y_train, batch_size=32)\n",
    "\n",
    "augmented_split = it_train, X_val_pre, y_val\n",
    "\n",
    "run_evaluation(\"model_2_2\", build_model_2_1, augmented_split, base_dir, generator=True, train=True, epochs=50, batch_size=32)\n",
    "answer_q_2_2 = \"\"\"\n",
    "               Horizontal & Vertical flips do not work well as the numbers are not recognizable anymore. Same holds for a large degree of rotations. Besides that, rotations destroy too much information, just like the sheer.\n",
    "              Also adjusting the birghtness did not yield good results. The best accuracy results were achieve with height/width shift_range and rescale, where an accuracy of 0.91 was achieved, all parameters with very minimal adjustments (0.1 shifts and 1.1 scaling.)\n",
    "               \"\"\"\n",
    "print(\"Answer is {} characters long\".format(len(answer_q_2_2)))"
   ]
  },
  {
   "cell_type": "markdown",
   "metadata": {
    "colab_type": "text",
    "id": "Nb8jrFlnbBUP"
   },
   "source": [
    "## Part 3. Model interpretation (10 points)\n",
    "### Question 3.1: Interpreting misclassifications (2 points)\n",
    "Study which errors are still made by your last model (model_2_2) by evaluating it on the test data. You do not need to retrain the model.\n",
    "* What is the accuracy of model_2_2 on the test data? Store this in 'test_accuracy_3_1'.\n",
    "* Plot the confusion matrix in 'plot_confusion_matrix' and discuss which classes are often confused.\n",
    "* Visualize the misclassifications in more depth by focusing on a single\n",
    "class (e.g. the number '2') and analyse which kinds of mistakes are made for that class. For instance, are the errors related to the background, noisiness, etc.? Implement the visualization in 'plot_misclassifications'.\n",
    "* Summarize your findings in 'answer_q_3_1'"
   ]
  },
  {
   "cell_type": "code",
   "execution_count": 32,
   "metadata": {
    "colab": {},
    "colab_type": "code",
    "id": "yNg-7JsSbn2-"
   },
   "outputs": [
    {
     "name": "stdout",
     "output_type": "stream",
     "text": [
      "C://Users//micha//OneDrive - TU Eindhoven//00. Studie Relevant//2IMM15//assignment-3-Michaaaaaaa//model_2_1.h5\n",
      "C://Users//micha//OneDrive - TU Eindhoven//00. Studie Relevant//2IMM15//assignment-3-Michaaaaaaa//model_2_2.h5\n",
      "done\n"
     ]
    },
    {
     "data": {
      "image/png": "[encoded data removed]",
      "text/plain": [
       "<Figure size 432x288 with 1 Axes>"
      ]
     },
     "metadata": {
      "needs_background": "light"
     },
     "output_type": "display_data"
    },
    {
     "data": {
      "image/png": "[encoded data removed]",
      "text/plain": [
       "<Figure size 720x360 with 10 Axes>"
      ]
     },
     "metadata": {},
     "output_type": "display_data"
    },
    {
     "name": "stdout",
     "output_type": "stream",
     "text": [
      "Answer is 252 characters long\n"
     ]
    }
   ],
   "source": [
    "#Test accuracy: run_evaluation(\"model_2_2\", build_model_2_1, augmented_split, base_dir, generator=True, train=False, epochs=50, batch_size=32)\n",
    "test_accuracy_3_1 = 0.89213\n",
    "\n",
    "#Also overwrite save model 2_2 as model 2_1 as it is the best model\n",
    "model21 = load_model_from_file(base_dir, 'model_2_1', extension='.h5')\n",
    "save_model_to_file(model21, base_dir, name='model_2_2', extension='.h5')\n",
    "\n",
    "def rgb2gray(X):\n",
    "    return np.expand_dims(np.dot(X, [0.2990, 0.5870, 0.1140]), axis=3)\n",
    "\n",
    "X_test_pre = rgb2gray(X_test)\n",
    "\n",
    "model = tensorflow.keras.models.load_model(os.path.join(base_dir, 'model_2_2.h5'))\n",
    "y_pred = model.predict(X_test_pre)\n",
    "\n",
    "name_classes = {0: \"0\", 1: \"1\", 2: \"2\", 3: \"3\", 4: \"4\",\n",
    "                 5: \"5\", 6: \"6\", 7: \"7\", 8: \"8\", 9: \"9\"}\n",
    "\n",
    "from sklearn.metrics import confusion_matrix\n",
    "\n",
    "def plot_confusion_matrix():\n",
    "  cm = confusion_matrix(np.argmax(y_test, axis=1),np.argmax(y_pred, axis=1))\n",
    "  #cm = confusion_matrix(y_test,y_pred)\n",
    "  fig, ax = plt.subplots()\n",
    "  im = ax.imshow(cm)\n",
    "  fig.tight_layout()\n",
    "  ax.set_xticks(np.arange(10)), ax.set_yticks(np.arange(10))\n",
    "  ax.set_xticklabels(list(name_classes.values()), rotation=45, ha=\"right\")\n",
    "  ax.set_yticklabels(list(name_classes.values()))\n",
    "  ax.set_ylabel('True')\n",
    "  ax.set_xlabel('Predicted')\n",
    "  for i in range(100):\n",
    "      ax.text(int(i/10),i%10,cm[i%10,int(i/10)], ha=\"center\", va=\"center\", color=\"w\")\n",
    "\n",
    "\n",
    "def plot_misclassifications():\n",
    "  k = 0\n",
    "  # Visualize the (first five) misclassifications, together with the predicted and actual class\n",
    "  misclassified_samples = np.nonzero(np.argmax(y_test, axis=1) != np.argmax(y_pred, axis=1))[0]\n",
    "  fig, axes = plt.subplots(1, 10,  figsize=(10, 5))\n",
    "  \n",
    "  \n",
    "  for nr, i in enumerate(misclassified_samples[:10]):\n",
    "      axes[nr].imshow(X_test[i])\n",
    "      axes[nr].set_xlabel(\"Predicted: %s,\\n Actual : %s\" % (name_classes[np.argmax(y_pred[i])],name_classes[np.argmax(y_test[i])]))\n",
    "      axes[nr].set_xticks(()), axes[nr].set_yticks(())\n",
    "  \n",
    "  plt.show();\n",
    "\n",
    "plot_confusion_matrix()\n",
    "plot_misclassifications()\n",
    "\n",
    "answer_q_3_1 = \"\"\"\n",
    "               Most misclassifications are at 0, 1, 2 and 6. 0's are misclassified as 6 and vice versa often compared to other misclassifications. \n",
    "               Another relatively occurring many times is misclassifiying a 2 as a 4. Looking at the misclassifications, several al due to low quality, as even a human eye cna decifer the numbers.\n",
    "               Some characters have also low contrast, as there are blue on white background.\n",
    "               \"\"\"\n",
    "print(\"Answer is {} characters long\".format(len(answer_q_3_1)))"
   ]
  },
  {
   "cell_type": "code",
   "execution_count": 30,
   "metadata": {},
   "outputs": [
    {
     "data": {
      "image/png": "[encoded data removed]",
      "text/plain": [
       "<Figure size 1440x360 with 20 Axes>"
      ]
     },
     "metadata": {
      "needs_background": "light"
     },
     "output_type": "display_data"
    }
   ],
   "source": [
    "# def plot_misclassifications():\n",
    "#   k = 0\n",
    "#   # Visualize the (first five) misclassifications, together with the predicted and actual class\n",
    "#   misclassified_samples = np.nonzero(np.argmax(y_test, axis=1) != np.argmax(y_pred, axis=1))[0]\n",
    "#   fig, axes = plt.subplots(1, 20,  figsize=(20, 5))\n",
    "  \n",
    "#   for nr, i in enumerate(misclassified_samples):\n",
    "#     if name_classes[np.argmax(y_pred[i])] == 2:\n",
    "#         axes[nr].imshow(X_test[i])\n",
    "#         axes[nr].set_xlabel(\"Predicted: %s,\\n Actual : %s\" % (name_classes[np.argmax(y_pred[i])],name_classes[np.argmax(y_test[i])]))\n",
    "#         axes[nr].set_xticks(()), axes[nr].set_yticks(())\n",
    "  \n",
    "#   plt.show();\n",
    "    \n",
    "# plot_misclassifications()"
   ]
  },
  {
   "cell_type": "markdown",
   "metadata": {
    "colab_type": "text",
    "id": "EBRdBpz5Hcrx"
   },
   "source": [
    "### Question 3.2: Visualizing activations (4 points)\n",
    "* Implement a function `plot_activations()` that returns the most interesting activations (feature maps). Select the first example from the test set. Retrieve and visualize the activations of model 2_2 for that example (make sure you load that model in the function), for every filter for different convolutional layers (at different depths in the network).\n",
    "* Give an explanation (as detailed as you can) about your observations in 'answer_q_3_2'. Is your model indeed learning something useful?"
   ]
  },
  {
   "cell_type": "code",
   "execution_count": 66,
   "metadata": {
    "colab": {},
    "colab_type": "code",
    "id": "TyQ-IHHcN5Qc"
   },
   "outputs": [
    {
     "name": "stdout",
     "output_type": "stream",
     "text": [
      "(None, 32, 32, 1)\n"
     ]
    },
    {
     "name": "stderr",
     "output_type": "stream",
     "text": [
      "C:\\Users\\micha\\Anaconda3\\envs\\2imm15\\lib\\site-packages\\ipykernel_launcher.py:51: RuntimeWarning: invalid value encountered in true_divide\n"
     ]
    },
    {
     "data": {
      "image/png": "[encoded data removed]",
      "text/plain": [
       "<Figure size 1152x144 with 1 Axes>"
      ]
     },
     "metadata": {
      "needs_background": "light"
     },
     "output_type": "display_data"
    },
    {
     "name": "stdout",
     "output_type": "stream",
     "text": [
      "Answer is 44 characters long\n"
     ]
    }
   ],
   "source": [
    "from tensorflow.keras import models\n",
    "\n",
    "img_tensor = X_test_pre[1]\n",
    "img_tensor = np.expand_dims(img_tensor, axis=0) \n",
    "#img_tensor = 32 32 3: 1 image\n",
    "\n",
    "model = load_model(os.path.join(base_dir, 'model_2_2.h5'))\n",
    "\n",
    "# Extracts the outputs of the top 8 layers:\n",
    "layer_outputs = [layer.output for layer in model.layers[:15]]\n",
    "print((model.input).shape)\n",
    "# Creates a model that will return these outputs, given the model input:\n",
    "activation_model = models.Model(inputs=model.input, outputs=layer_outputs)\n",
    "\n",
    "# This will return a list of 5 Numpy arrays:\n",
    "# one array per layer activation\n",
    "activations = activation_model.predict(img_tensor)\n",
    "\n",
    "images_per_row = 16\n",
    "\n",
    "layer_names = []\n",
    "for layer in model.layers[:15]:\n",
    "    layer_names.append(layer.name)\n",
    "    #print(\"{}\\n\".format(layer.name))\n",
    "    \n",
    "\n",
    "def plot_activations(layer_index, activations):\n",
    "    start = layer_index\n",
    "    end = layer_index+1\n",
    "    #print(activations)\n",
    "    # Now let's display our feature maps\n",
    "    for layer_name, layer_activation in zip(layer_names[start:end], activations[start:end]):\n",
    "        # This is the number of features in the feature map\n",
    "        n_features = layer_activation.shape[-1]\n",
    "\n",
    "        # The feature map has shape (1, size, size, n_features)\n",
    "        size = layer_activation.shape[1]\n",
    "\n",
    "        # We will tile the activation channels in this matrix\n",
    "        n_cols = n_features // images_per_row\n",
    "        display_grid = np.zeros((size * n_cols, images_per_row * size))\n",
    "\n",
    "        # We'll tile each filter into this big horizontal grid\n",
    "        for col in range(n_cols):\n",
    "            for row in range(images_per_row):\n",
    "                channel_image = layer_activation[0,\n",
    "                                                 :, :,\n",
    "                                                 col * images_per_row + row]\n",
    "                # Post-process the feature to make it visually palatable\n",
    "                channel_image -= channel_image.mean()\n",
    "                channel_image /= channel_image.std()\n",
    "                channel_image *= 64\n",
    "                channel_image += 128\n",
    "                channel_image = np.clip(channel_image, 0, 255).astype('uint8')\n",
    "                display_grid[col * size : (col + 1) * size,\n",
    "                             row * size : (row + 1) * size] = channel_image\n",
    "\n",
    "        # Display the grid\n",
    "        scale = 1. / size\n",
    "        plt.figure(figsize=(scale * display_grid.shape[1],\n",
    "                            scale * display_grid.shape[0]))\n",
    "        plt.title(\"Activation of layer {} ({})\".format(layer_index+1,layer_name))\n",
    "        plt.grid(False)\n",
    "        plt.imshow(display_grid, aspect='auto', cmap='viridis')\n",
    "\n",
    "    plt.show()\n",
    "\n",
    "plot_activations(0, activations)\n",
    "answer_q_3_2 = \"\"\"\n",
    "               As seen in the figure, the layer is learning several different parts of an image, for example horizontal edges, vertical edges, a bit of curves as well.\n",
    "               Several activations also react to the background of an image, which is of course not desired. Some filters also don't respond to the image at all. This is not incredibly bad however, as those filters might respond to other images better.\n",
    "               \"\"\"\n",
    "print(\"Answer is {} characters long\".format(len(answer_q_3_2)))"
   ]
  },
  {
   "cell_type": "markdown",
   "metadata": {
    "colab_type": "text",
    "id": "6a4XT0-7Ym25"
   },
   "source": [
    "### Question 3.3: Visualizing activations (4 points)\n",
    "* Again, select the first example from the test set, and the trained model_2_2.\n",
    "* Implement a function `plot_activation_map()` that builds and shows a class activation map for your last convolutional layer that highlights what the model is paying attention to when classifying the example.\n",
    "* If possible, superimpossible the activation map over the image. If not, plot\n",
    "them side by side. Implement a function 'plot_3_3' that returns the entire plot."
   ]
  },
  {
   "cell_type": "code",
   "execution_count": 103,
   "metadata": {
    "colab": {},
    "colab_type": "code",
    "id": "vsmqYQl2ZZ4n"
   },
   "outputs": [
    {
     "name": "stdout",
     "output_type": "stream",
     "text": [
      "(32, 32, 3)\n",
      "(None, 32, 32, 1)\n",
      "(1, 10)\n",
      "(10,)\n"
     ]
    },
    {
     "data": {
      "image/png": "[encoded data removed]",
      "text/plain": [
       "<Figure size 720x480 with 2 Axes>"
      ]
     },
     "metadata": {},
     "output_type": "display_data"
    }
   ],
   "source": [
    "img_clr = X_test[1]\n",
    "print(img_clr.shape)\n",
    "\n",
    "img_tensor = X_test_pre[1]\n",
    "img_tensor = np.expand_dims(img_tensor, axis=0) \n",
    "#img_tensor = 32 32 3: 1 image\n",
    "\n",
    "# Extracts the outputs of the last layer:\n",
    "layer_outputs = [layer.output for layer in model.layers[-1:]]\n",
    "print((model.input).shape)\n",
    "# Creates a model that will return the output, given the model input:\n",
    "activation_model = models.Model(inputs=model.input, outputs=layer_outputs)\n",
    "activations = activation_model.predict(img_tensor)\n",
    "print(activations.shape)\n",
    "\n",
    "f, (ax1, ax2) = plt.subplots(1, 2, sharey=True)\n",
    "\n",
    "def plot_activation_map():\n",
    "    plt.rcParams['figure.dpi'] = 120\n",
    "    first_layer_activation = activations[0]\n",
    "    print(first_layer_activation.shape)\n",
    "    ax1.imshow(img_clr)\n",
    "    ax2.matshow(img_clr[0], cmap='viridis')\n",
    "    ax1.set_xticks([])\n",
    "    ax1.set_yticks([])\n",
    "    ax2.set_xticks([])\n",
    "    ax2.set_yticks([])\n",
    "    ax1.set_xlabel('Input image')\n",
    "    ax2.set_xlabel('Activation of filter 2');\n",
    "\n",
    "\n",
    "def plot_3_3():\n",
    "    plot_activation_map()\n",
    "    \n",
    "    \n",
    "def blabla(activations):\n",
    "    \n",
    "    plt.imshow(display_grid, aspect='auto', cmap='viridis')\n",
    "\n",
    "    plt.show()\n",
    "\n",
    "\n",
    "plot_3_3()"
   ]
  },
  {
   "cell_type": "markdown",
   "metadata": {
    "colab_type": "text",
    "id": "buQLQ16EypgL"
   },
   "source": [
    "## Part 4. Transfer learning (10 points)\n",
    "### Question 4.1 Fast feature extraction with VGG16 (5 points)\n",
    "- Import the VGG16 model, pretrained on ImageNet. [See here](https://keras.io/applications/). Only import the convolutional part, not the dense layers.\n",
    "- Implement a function 'build_model_4_1` that adds a dense layer to the convolutional base, and freezes the convolutional base. Consider unfreezing the last few convolutional layers and evaluate whether that works better.\n",
    "- Train the resulting model on the *original* (colored) training data\n",
    "- Evaluate the resulting model using 'run_evaluate'. Discuss the observed performance in 'answer_q_4_1'."
   ]
  },
  {
   "cell_type": "code",
   "execution_count": 123,
   "metadata": {
    "colab": {},
    "colab_type": "code",
    "id": "QXH1Z7Pqj3HW"
   },
   "outputs": [
    {
     "name": "stdout",
     "output_type": "stream",
     "text": [
      "Model: \"sequential_17\"\n",
      "_________________________________________________________________\n",
      "Layer (type)                 Output Shape              Param #   \n",
      "=================================================================\n",
      "vgg16 (Model)                (None, 1, 1, 512)         14714688  \n",
      "_________________________________________________________________\n",
      "flatten_5 (Flatten)          (None, 512)               0         \n",
      "_________________________________________________________________\n",
      "dense_16 (Dense)             (None, 10)                5130      \n",
      "=================================================================\n",
      "Total params: 14,719,818\n",
      "Trainable params: 5,130\n",
      "Non-trainable params: 14,714,688\n",
      "_________________________________________________________________\n",
      "\u001b[91mTraining the model\u001b[0m\n",
      "Train on 63544 samples, validate on 15887 samples\n",
      "Epoch 1/3\n",
      "63544/63544 [==============================] - 580s 9ms/sample - loss: 1.6865 - accuracy: 0.4214 - val_loss: 1.5472 - val_accuracy: 0.4701\n",
      "Epoch 2/3\n",
      "63544/63544 [==============================] - 572s 9ms/sample - loss: 1.4874 - accuracy: 0.4971 - val_loss: 1.4634 - val_accuracy: 0.4997\n",
      "Epoch 3/3\n",
      "63544/63544 [==============================] - 561s 9ms/sample - loss: 1.4268 - accuracy: 0.5181 - val_loss: 1.4262 - val_accuracy: 0.5194\n",
      "\u001b[91mSaving to file\u001b[0m\n",
      "C://Users//micha//OneDrive - TU Eindhoven//00. Studie Relevant//2IMM15//assignment-3-Michaaaaaaa//model_4_1.h5\n",
      "done\n",
      "\u001b[91mModel stored in C://Users//micha//OneDrive - TU Eindhoven//00. Studie Relevant//2IMM15//assignment-3-Michaaaaaaa//\u001b[0m\n",
      "Model: \"sequential_17\"\n",
      "_________________________________________________________________\n",
      "Layer (type)                 Output Shape              Param #   \n",
      "=================================================================\n",
      "vgg16 (Model)                (None, 1, 1, 512)         14714688  \n",
      "_________________________________________________________________\n",
      "flatten_5 (Flatten)          (None, 512)               0         \n",
      "_________________________________________________________________\n",
      "dense_16 (Dense)             (None, 10)                5130      \n",
      "=================================================================\n",
      "Total params: 14,719,818\n",
      "Trainable params: 5,130\n",
      "Non-trainable params: 14,714,688\n",
      "_________________________________________________________________\n",
      "None\n",
      "         loss  accuracy  val_loss  val_accuracy\n",
      "min  1.426802  0.421440  1.426165      0.470133\n",
      "max  1.686499  0.518082  1.547221      0.519355\n",
      "Answer is 162 characters long\n"
     ]
    },
    {
     "data": {
      "image/png": "[encoded data removed]",
      "text/plain": [
       "<Figure size 720x480 with 1 Axes>"
      ]
     },
     "metadata": {
      "needs_background": "light"
     },
     "output_type": "display_data"
    }
   ],
   "source": [
    "from tensorflow.keras.applications.vgg16 import VGG16\n",
    "conv_base = VGG16(weights='imagenet', include_top=False, input_shape=(32, 32, 3))\n",
    "\n",
    "from tensorflow.keras import models\n",
    "from tensorflow.keras import layers\n",
    "from tensorflow.keras import optimizers\n",
    "\n",
    "def build_model_4_1():\n",
    "    model = models.Sequential()\n",
    "    model.add(conv_base)\n",
    "    #model.add(layers.BatchNormalization())\n",
    "    #model.add(layers.Dropout(0.5))\n",
    "    model.add(layers.Flatten())\n",
    "    model.add(layers.Dense(10, activation='softmax'))\n",
    "    conv_base.trainable = False\n",
    "#     for layer in conv_base.layers:\n",
    "#         if layer.name == 'block5_conv1':\n",
    "#             layer.trainable = True\n",
    "#         else:\n",
    "#             layer.trainable = False\n",
    "        \n",
    "    model.summary()\n",
    "    #sgd = optimizers.SGD(lr=0.01, decay=0.01/50, momentum=0.9, nesterov=True)\n",
    "    adam = optimizers.Adam(learning_rate=0.001, beta_1=0.9, beta_2=0.999, amsgrad=False)\n",
    "\n",
    "    model.compile(optimizer='adam',  \n",
    "                  loss='categorical_crossentropy',\n",
    "                  metrics=['accuracy'])\n",
    "    return model\n",
    "    \n",
    "run_evaluation(\"model_4_1\", build_model_4_1, evaluation_split, base_dir, \n",
    "               train=True, epochs=3, batch_size=32)\n",
    "answer_q_4_1 = \"\"\"\n",
    "               Unfortunately I did not have the time to train the networks, as they approximately take 3 times as more as the freezed network. Unfreezing the last convolutional layers will probably result in a better accuracy as more parameters can be optimized.\n",
    "               The resulting accuracy for merely adding a flattening and dense layer just equals 0.5194 which is not nearly as good as the models made before.\n",
    "               \n",
    "                \n",
    "               \"\"\"\n",
    "print(\"Answer is {} characters long\".format(len(answer_q_4_1)))"
   ]
  },
  {
   "cell_type": "markdown",
   "metadata": {
    "colab_type": "text",
    "id": "cp60rxZTYI8O"
   },
   "source": [
    "### Question 4.2 Embeddings and pipelines (5 points)\n",
    "- Generate embeddings of the original images by running them through the trained convolutional part of model_4_1 (without the dense layer) and returning the output. Embed the training and test data and store them to disk using the helper functions below. Implement a function `store_embeddings` that loads model_4_1 and stores all necessary embeddings to file. Make sure to run it once so that the embeddings are stored (and submitted).\n",
    "- Implement a function 'generate_pipeline' that returns an scikit-learn pipeline. You can use any non-deep learning technique (eg. SVMs, RFs,...), and preprocessing technique. You can do model selection using the validation set. \n",
    "- Implement a function 'evaluate_pipeline' that evaluates a given pipeline on a given training and test set. \n",
    "- Implement a function 'evaluation_4_2' that evaluates your pipeline on the embedded training and test set (loaded from file) and returns the accuracy. \n",
    "- Describe what you did and what you observed. Report the obtained accuracy score. Can you beat your best model thus far?"
   ]
  },
  {
   "cell_type": "code",
   "execution_count": null,
   "metadata": {
    "colab": {},
    "colab_type": "code",
    "id": "IQo_zskOrs_m"
   },
   "outputs": [],
   "source": [
    "import pickle\n",
    "import gzip\n",
    "\n",
    "def store_embedding(X, name):  \n",
    "  with gzip.open(os.path.join(base_dir, name+'_embedding.p'), 'wb') as file_pi:\n",
    "    pickle.dump(X, file_pi)\n",
    "\n",
    "def load_embedding(name):\n",
    "  with gzip.open(os.path.join(base_dir, name+'_embedding.p'), 'rb') as file_pi:\n",
    "    return pickle.load(file_pi)\n",
    "\n",
    "def store_embeddings():\n",
    "  \"\"\" Stores all necessary embeddings to file\n",
    "  \"\"\"\n",
    "  pass\n",
    "\n",
    "def generate_pipeline():\n",
    "  \"\"\" Returns an sklearn pipeline.\n",
    "  \"\"\"\n",
    "  pass\n",
    "\n",
    "def evaluate_pipeline(pipeline, X_train, y_train, X_test, y_test):\n",
    "  \"\"\" Evaluates the given pipeline, trained on the given embedded training set and \n",
    "      evaluated on the supplied embedded test set. Returns the accuracy score.\n",
    "  \"\"\"\n",
    "  pass\n",
    "\n",
    "def evaluation_4_2(X_train, y_train, X_test, y_test):\n",
    "  \"\"\" Runs 'evaluate_pipeline' with embedded versions of the input data \n",
    "  and returns the accuracy.\n",
    "  \"\"\"\n",
    "  pass\n",
    "\n",
    "answer_q_4_2 = \"\"\"\n",
    "               Your answer \n",
    "               \"\"\"\n",
    "print(\"Pipeline:\",generate_pipeline())\n",
    "print(\"Answer is {} characters long\".format(len(answer_q_4_2)))"
   ]
  },
  {
   "cell_type": "code",
   "execution_count": null,
   "metadata": {
    "colab": {},
    "colab_type": "code",
    "id": "e2cGfBMlYma_"
   },
   "outputs": [],
   "source": []
  }
 ],
 "metadata": {
  "accelerator": "GPU",
  "anaconda-cloud": {},
  "colab": {
   "collapsed_sections": [],
   "machine_shape": "hm",
   "name": "Assignment 3.ipynb",
   "provenance": [],
   "toc_visible": true
  },
  "kernelspec": {
   "display_name": "Python 3",
   "language": "python",
   "name": "python3"
  },
  "language_info": {
   "codemirror_mode": {
    "name": "ipython",
    "version": 3
   },
   "file_extension": ".py",
   "mimetype": "text/x-python",
   "name": "python",
   "nbconvert_exporter": "python",
   "pygments_lexer": "ipython3",
   "version": "3.7.6"
  }
 },
 "nbformat": 4,
 "nbformat_minor": 1
}
