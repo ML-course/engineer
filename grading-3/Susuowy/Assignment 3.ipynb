{
 "cells": [
  {
   "cell_type": "code",
   "execution_count": 1,
   "metadata": {
    "colab": {},
    "colab_type": "code",
    "id": "uPiqHyC_MuLL"
   },
   "outputs": [],
   "source": [
    "# Fill in your name using the format below and student ID number\n",
    "your_name = \"Eljasiak, Adam\"\n",
    "student_id = \"0965449\""
   ]
  },
  {
   "cell_type": "code",
   "execution_count": 2,
   "metadata": {},
   "outputs": [],
   "source": [
    "# Before submission, set this to True so that you can render and verify this notebook without training deep learning models.\n",
    "# Any deep learning models will be trained from file instead.\n",
    "stop_training = True"
   ]
  },
  {
   "cell_type": "code",
   "execution_count": 3,
   "metadata": {
    "colab": {
     "base_uri": "https://localhost:8080/",
     "height": 71
    },
    "colab_type": "code",
    "id": "-rAuraOsM22r",
    "outputId": "af1729f6-a9f4-494f-db04-ef9c03d26008"
   },
   "outputs": [],
   "source": [
    "# Uncomment the following line to run in Google Colab\n",
    "# !pip install --quiet openml "
   ]
  },
  {
   "cell_type": "code",
   "execution_count": 4,
   "metadata": {
    "colab": {
     "base_uri": "https://localhost:8080/",
     "height": 35
    },
    "colab_type": "code",
    "id": "OS-d8ziENCs1",
    "outputId": "0bc61a59-66c6-487c-9f32-2aaa2818469e"
   },
   "outputs": [
    {
     "data": {
      "text/plain": [
       "[PhysicalDevice(name='/physical_device:GPU:0', device_type='GPU')]"
      ]
     },
     "execution_count": 4,
     "metadata": {},
     "output_type": "execute_result"
    }
   ],
   "source": [
    "# Uncomment the following line to run in Google Colab\n",
    "#%tensorflow_version 2.x\n",
    "import tensorflow as tf\n",
    "tf.config.experimental.list_physical_devices('GPU') # Check whether GPUs are available"
   ]
  },
  {
   "cell_type": "code",
   "execution_count": 5,
   "metadata": {
    "colab": {},
    "colab_type": "code",
    "id": "-iTn6RmNMuLT"
   },
   "outputs": [],
   "source": [
    "%matplotlib inline\n",
    "import openml as oml\n",
    "import math\n",
    "import numpy as np\n",
    "import matplotlib.pyplot as plt\n",
    "import sklearn"
   ]
  },
  {
   "cell_type": "code",
   "execution_count": 6,
   "metadata": {
    "colab": {
     "base_uri": "https://localhost:8080/",
     "height": 35
    },
    "colab_type": "code",
    "id": "brth0Z_TMuLZ",
    "outputId": "d3ad568e-e9a2-4c40-a93c-9160e4ed1e49"
   },
   "outputs": [
    {
     "name": "stdout",
     "output_type": "stream",
     "text": [
      "Hi Adam, Looks good. You may continue :)\n"
     ]
    },
    {
     "name": "stderr",
     "output_type": "stream",
     "text": [
      "Using TensorFlow backend.\n"
     ]
    }
   ],
   "source": [
    "from packaging import version\n",
    "import sklearn\n",
    "import tensorflow\n",
    "import keras\n",
    "sklearn_version = sklearn.__version__\n",
    "tensorflow_version = tensorflow.__version__\n",
    "if version.parse(sklearn_version) < version.parse(\"0.22.0\"):\n",
    "    print(\"scikit-learn is outdated. Please update now!\")\n",
    "if version.parse(tensorflow_version) < version.parse(\"2.1.0\"):\n",
    "    print(\"Tensorflow is outdated. This is version {}. Please update to 2.1.\".format(tensorflow_version))\n",
    "else:\n",
    "    print(\"Hi{}, Looks good. You may continue :)\".format(your_name.split(\",\")[1]))"
   ]
  },
  {
   "cell_type": "markdown",
   "metadata": {
    "colab_type": "text",
    "id": "7kdeFjIGMuLv"
   },
   "source": [
    "# Assignment 3"
   ]
  },
  {
   "cell_type": "markdown",
   "metadata": {
    "colab_type": "text",
    "id": "ljhP8DXu-H4j"
   },
   "source": [
    "### Choice of libraries\n",
    "We recommend to use Tensorflow in this assignment since that is what we covered in the labs. If you feel confident using PyTorch (and Skorch for the scikit-learn wrapper), that is allowed too, as long as you are able to implement the requested functions and return the requested data. Read the assignment carefully and ensure that you can. Note that you may also need to do a bit more work to implement certain helper functions and wrappers."
   ]
  },
  {
   "cell_type": "markdown",
   "metadata": {
    "colab_type": "text",
    "id": "-BQG9Kp2EcPc"
   },
   "source": [
    "### Storing and submitting files\n",
    "You must be able to store your models and submit them to GitHub Classroom. The evaluation functions used in this notebook will automatically store models for you.\n",
    "\n",
    "If you want to run and solve the notebook on your local machine/laptop, fill in the path 'base_dir' to your assignment folder into the next cell.\n",
    "\n",
    "If you use Colab, we recommend that you link it to your Google Drive:  \n",
    "* Upload the assignment folder to your Google Drive (+ New > Folder Upload)\n",
    "* Open Colab in a browser, open the 'Files' menu in the left sidebar, and click 'Mount Drive'\n",
    "  * At this point you may need to authenticate\n",
    "* Fill in the path to your assignment folder below\n",
    "  * It's likely '/content/drive/My Drive/assignment-3-yourname'"
   ]
  },
  {
   "cell_type": "code",
   "execution_count": 7,
   "metadata": {
    "colab": {},
    "colab_type": "code",
    "id": "aO6jTIIFHQNU"
   },
   "outputs": [],
   "source": [
    "#base_dir = '/content/drive/My Drive/TestAssignment' # For Google Colab\n",
    "base_dir = 'C:\\\\Users\\\\Adam\\\\Documents\\\\uni\\\\Web Information Retrieval and Data Mining\\\\assignment-3-Susuowy'"
   ]
  },
  {
   "cell_type": "code",
   "execution_count": 8,
   "metadata": {
    "colab": {
     "base_uri": "https://localhost:8080/",
     "height": 127
    },
    "colab_type": "code",
    "id": "HKaM3mwrODBR",
    "outputId": "159fb13d-54c8-43ea-8026-5e4998023e16"
   },
   "outputs": [],
   "source": [
    "#Uncomment to link Colab notebook to Google Drive\n",
    "#from google.colab import drive\n",
    "#drive.mount('/content/drive')"
   ]
  },
  {
   "cell_type": "markdown",
   "metadata": {
    "colab_type": "text",
    "id": "D_BDIpWh92Dk"
   },
   "source": [
    "### Using GPUs\n",
    "While you can solve this assignment on a CPU, using a GPU will speed things up training quite a bit. If you have a local GPU, you can use that. If you don't, we recommend Google Colab. When you are in Colab:\n",
    "* In Runtime > Change runtime type, select the GPU under Hardware Accelerator\n",
    "* Run the 3rd cell on the top of this notebook to check that the GPU is found.\n",
    "\n",
    "Note that Colab may not always have GPUs ready all the time, and may deny you a GPU when you have used them a lot. When you are temporarily 'locked out', you can switch to a non-GPU runtime or to a local instance of Jupyter running on your machine."
   ]
  },
  {
   "cell_type": "markdown",
   "metadata": {
    "colab_type": "text",
    "id": "hq6oPNF546_5"
   },
   "source": [
    "### Constraints\n",
    "* Your stored models should not be larger than 100MB when stored in file. GitHub will not allow uploading if they are.\n",
    "* When questions ask you to provide an explanation, it should be less than 500\n",
    "characters long. Some questions have a higher limit. Always answer in full sentences.\n",
    "* Don't train for more than 100 epochs, i.e. don't throw excessing computational resources at the problem. If your model hasn't converged by then, think of ways it could be made to converge faster. In this assignment you are not after the last tiny improvement, you can stop when learning curves flatten out. Do at least 5 epochs to get a reasonable learning curve."
   ]
  },
  {
   "cell_type": "markdown",
   "metadata": {
    "colab_type": "text",
    "id": "h8wBDNspEvcY"
   },
   "source": [
    "### Grading\n",
    "Grading is based on the following aspects:\n",
    "* Correctness in answering the question. Carefully read the question and answer\n",
    "what is asked for. Train your models on the correct data. It should be clear on which data should be trained, but ask when in doubt. When something is not defined (e.g. the number of epochs or batch size), you can freely choose them.\n",
    "* Clarity of your explanations. Write short but precise descriptions of what you did and why. Give short but clear explanations of the observed performance. \n",
    "After your explanation, your approach and model should make perfect sense. Refrain from using symbols as substitute for words in your explanation (e.g. no: \"More layers -> more parameters\" yes: \"More layers mean more parameters\"). \n",
    "* Part of your grade depends on how well your model performs. When the question says 'you should at least get x%', x% will give you a good but not the maximal grade. You can get the full grade when you are close to what is the expected maximal performance. You don't need to invest lots of effort into the last tiny improvement, though. Unless specified, we look at the accuracy on the validation set. If your learning curves are very erratic we'll compute a score based on the smoothed curves (i.e. single peaks don't count).\n",
    "* The weight of each question is indicated. Take this into account when planning your time."
   ]
  },
  {
   "cell_type": "markdown",
   "metadata": {
    "colab_type": "text",
    "id": "KNyA5dEpR00Z"
   },
   "source": [
    "### Other tips\n",
    "* Don't wait until the last minute to do the assignment. The models take time to train, most questions will require some thinking, and some require you to read up on some new concepts.\n",
    "* Take care that you upload the results as requested. You need to submit not only the notebooks but also the trained models and learning curves (training histories). Be sure to run the verification script and check that all the results are included.\n",
    "* We provide an evaluation function that also stored models to disk. After you are done training the model, set the 'train' attribute to False so that the model doesn't train again (and loads from file instead) when you restart and rerun your notebook.\n",
    "* Explore. For many questions we'll ask you to explain your model design decisions. You cannot magically know the best solutions but you can experiment\n",
    "based on your understanding and make decisions based on both your knowledge and experiments. Your explanation is at least as important as the performance of your model.\n",
    "* Be original. We will check for plagiarism between student submissions."
   ]
  },
  {
   "cell_type": "markdown",
   "metadata": {
    "colab_type": "text",
    "id": "k0nKOZrPJTn8"
   },
   "source": [
    "### Data\n",
    "The [Street View House Numbers Dataset](https://www.openml.org/d/41081) contains 32-by-32 RGB images centered around a single digit of a house number appearing in Google Street View. Many of the images do contain some distractors at the sides. It consists of 10 classes, 1 for each digit. Digit '1' has label 1, '9' has label 9 and '0' has label 10. Your goal is to build models that recognize the correct digit."
   ]
  },
  {
   "cell_type": "markdown",
   "metadata": {
    "colab_type": "text",
    "id": "B8sOA7mEKOSp"
   },
   "source": [
    "If you use Colab, uncomment the following to cache the dataset inside the VM. This will make reloading faster if you need to restart your notebook. After longer periods of inactivity, your VM may be recycled and the cache lost, in which case the dataset will be downloaded again. Also note that this dataset is about 1Gb large, and will take even more space in memory. You may need to switch to a high-RAM environment (Colab will ask you if you hit the limit)."
   ]
  },
  {
   "cell_type": "code",
   "execution_count": 9,
   "metadata": {
    "colab": {},
    "colab_type": "code",
    "id": "Wu9s9dnlJMP0"
   },
   "outputs": [],
   "source": [
    "# Use OpenML caching in Colab\n",
    "# On your local machine, it will store data in a hidden folder '~/.openml'\n",
    "#import os\n",
    "#oml.config.cache_directory = os.path.expanduser('/content/cache')"
   ]
  },
  {
   "cell_type": "code",
   "execution_count": 10,
   "metadata": {
    "colab": {},
    "colab_type": "code",
    "id": "_3o_TT8SMuLy"
   },
   "outputs": [],
   "source": [
    "# Download Streetview data. Takes a while (several minutes), and quite a bit of\n",
    "# memory when it needs to download. After caching it loads faster.\n",
    "SVHN = oml.datasets.get_dataset(41081)\n",
    "X, y, _, _ = SVHN.get_data(dataset_format='array',\n",
    "    target=SVHN.default_target_attribute)"
   ]
  },
  {
   "cell_type": "markdown",
   "metadata": {
    "colab_type": "text",
    "id": "EPwHgeC3MuMI"
   },
   "source": [
    "Reshape, sample and split the data"
   ]
  },
  {
   "cell_type": "code",
   "execution_count": 11,
   "metadata": {
    "colab": {},
    "colab_type": "code",
    "id": "3C14250QOGpL"
   },
   "outputs": [],
   "source": [
    "from tensorflow.keras.utils import to_categorical\n",
    "Xr = X.reshape((len(X),32,32,3))\n",
    "Xr = Xr / 255.\n",
    "yr = to_categorical(y)"
   ]
  },
  {
   "cell_type": "code",
   "execution_count": 12,
   "metadata": {
    "colab": {},
    "colab_type": "code",
    "id": "sbxtRoDcMuMK"
   },
   "outputs": [],
   "source": [
    "# DO NOT EDIT. DO NOT OVERWRITE THESE VARIABLES.\n",
    "from sklearn.model_selection import train_test_split\n",
    "# We do an 80-20 split for the training and test set, and then again a 80-20 split into training and validation data\n",
    "X_train_all, X_test, y_train_all, y_test = train_test_split(Xr,yr, stratify=yr, train_size=0.8, test_size=0.2, random_state=1)\n",
    "X_train, X_val, y_train, y_val = train_test_split(X_train_all,y_train_all, stratify=y_train_all, train_size=0.8, random_state=1)\n",
    "evaluation_split = X_train, X_val, y_train, y_val"
   ]
  },
  {
   "cell_type": "markdown",
   "metadata": {
    "colab_type": "text",
    "id": "gUAf28y2O6ks"
   },
   "source": [
    "Check the formatting - and what the data looks like"
   ]
  },
  {
   "cell_type": "code",
   "execution_count": 13,
   "metadata": {
    "colab": {
     "base_uri": "https://localhost:8080/",
     "height": 141
    },
    "colab_type": "code",
    "id": "QEWsr56hMuL8",
    "outputId": "6b3d17a1-bbc8-46ef-f5c6-66e15f01b963"
   },
   "outputs": [
    {
     "data": {
      "image/png": "[encoded data removed]",
      "text/plain": [
       "<Figure size 720x360 with 5 Axes>"
      ]
     },
     "metadata": {},
     "output_type": "display_data"
    }
   ],
   "source": [
    "from random import randint\n",
    "\n",
    "# Takes a list of row ids, and plots the corresponding images\n",
    "# Use grayscale=True for plotting grayscale images\n",
    "def plot_images(X, y, grayscale=False):\n",
    "    fig, axes = plt.subplots(1, len(X),  figsize=(10, 5))\n",
    "    for n in range(len(X)):\n",
    "        if grayscale:\n",
    "            axes[n].imshow(X[n], cmap='gray')\n",
    "        else:\n",
    "            axes[n].imshow(X[n])\n",
    "        axes[n].set_xlabel((np.argmax(y[n])+1)%10) # Label is index+1\n",
    "        axes[n].set_xticks(()), axes[n].set_yticks(())\n",
    "    plt.show();\n",
    "\n",
    "images = [randint(0,len(X_train)) for i in range(5)]\n",
    "X_random = [X_train[i] for i in images]\n",
    "y_random = [y_train[i] for i in images]\n",
    "plot_images(X_random, y_random)"
   ]
  },
  {
   "cell_type": "markdown",
   "metadata": {
    "colab_type": "text",
    "id": "yUQ22FEawd-J"
   },
   "source": [
    "### Evaluation harness\n",
    "We provide an evaluation function 'run_evaluation' that you should use to \n",
    "evaluate all your models. It also stores the trained models to disk so that\n",
    "your submission can be quickly verified, as well as to avoid having to train\n",
    "them over and over again. Your last run of the evaluation function (the last one\n",
    "stored to file), is the one that will be evaluated. The 'train' argument indicates whether to train or to load from disk. We have provided helper functions for saving and loading models to/from file, assuming you use TensorFlow. If you use PyTorch you'll have to adapt them."
   ]
  },
  {
   "cell_type": "code",
   "execution_count": 14,
   "metadata": {
    "colab": {},
    "colab_type": "code",
    "id": "SFGTq4mUV2zK"
   },
   "outputs": [],
   "source": [
    "import os\n",
    "import pickle\n",
    "import pandas as pd\n",
    "import numpy as np\n",
    "from tensorflow.keras.models import load_model # for use with tensorflow\n",
    "\n",
    "def shout(text, verbose=1):\n",
    "    \"\"\" Prints text in red. Just for fun.\n",
    "    \"\"\"\n",
    "    if verbose>0:\n",
    "        print('\\033[91m'+text+'\\x1b[0m')\n",
    "\n",
    "def load_model_from_file(base_dir, name, extension='.h5'):\n",
    "    \"\"\" Loads a model from a file. The returned model must have a 'fit' and 'summary'\n",
    "    function following the Keras API. Don't change if you use TensorFlow. Otherwise,\n",
    "    adapt as needed. \n",
    "    Keyword arguments:\n",
    "    base_dir -- Directory where the models are stored\n",
    "    name -- Name of the model, e.g. 'question_1_1'\n",
    "    extension -- the file extension\n",
    "    \"\"\"\n",
    "    try:\n",
    "        model = load_model(os.path.join(base_dir, name+extension))\n",
    "    except OSError:\n",
    "        shout(\"Saved model could not be found. Was it trained and stored correctly? Is the base_dir correct?\")\n",
    "        return False\n",
    "    return model\n",
    "\n",
    "def save_model_to_file(model, base_dir, name, extension='.h5'):\n",
    "    \"\"\" Saves a model to file. Don't change if you use TensorFlow. Otherwise,\n",
    "    adapt as needed. \n",
    "    Keyword arguments:\n",
    "    model -- the model to be saved\n",
    "    base_dir -- Directory where the models should be stored\n",
    "    name -- Name of the model, e.g. 'question_1_1'\n",
    "    extension -- the file extension\n",
    "    \"\"\"\n",
    "    model.save(os.path.join(base_dir, name+extension))\n",
    "\n",
    "# Helper function to extract min/max from the learning curves\n",
    "def minMax(x):\n",
    "    return pd.Series(index=['min','max'],data=[x.min(),x.max()])\n",
    "\n",
    "# DO NOT EDIT\n",
    "def run_evaluation(name, model_builder, data, base_dir, train=True, \n",
    "                   generator=False, epochs=3, batch_size=32, steps_per_epoch=60, \n",
    "                   verbose=1, **kwargs):\n",
    "    \"\"\" Trains and evaluates the given model on the predefined train and test splits,\n",
    "    stores the trained model and learning curves. Also prints out a summary of the \n",
    "    model and plots the learning curves.\n",
    "    Keyword arguments:\n",
    "    name -- the name of the model to be stored, e.g. 'question_1_1.h5'\n",
    "    model_builder -- function that returns an (untrained) model. The model must \n",
    "                     have a 'fit' function that follows the Keras API. It can wrap\n",
    "                     a non-Keras model as long as the 'fit' function takes the \n",
    "                     same attributes and returns the learning curves (history).\n",
    "                     It also must have a 'summary' function that prints out a \n",
    "                     model summary, and a 'save' function that saves the model \n",
    "                     to disk. \n",
    "    data -- data split for evaluation. A tuple of either:\n",
    "            * Numpy arrays (X_train, X_val, y_train, y_val)\n",
    "            * A data generator and validation data (generator, X_val, y_val)\n",
    "    base_dir -- the directory to save or read models to/from\n",
    "    train -- whether or not the data should be trained. If False, the trained model\n",
    "             will be loaded from disk.\n",
    "    generator -- whether the data in given as a generator or not\n",
    "    epochs -- the number of epochs to train for\n",
    "    batch_size -- the batch size to train with\n",
    "    steps_per_epoch -- steps per epoch, in case a generator is used (ignored otherwise)\n",
    "    verbose -- verbosity level, 0: silent, 1: minimal,...\n",
    "    kwargs -- keyword arguments that should be passed to model_builder.\n",
    "              Not required, but may help you to adjust its behavior\n",
    "    \"\"\"\n",
    "    model = model_builder(**kwargs)\n",
    "    if not model:\n",
    "        shout(\"No model is returned by the model_builder\")\n",
    "        return\n",
    "    if not hasattr(model, 'fit'):\n",
    "        shout(\"Model is not built correctly\")\n",
    "        return\n",
    "    learning_curves = {}\n",
    "    if train and not stop_training: # Train anew\n",
    "        shout(\"Training the model\", verbose)\n",
    "        if generator:\n",
    "            generator, X_val, y_val = data\n",
    "            history = model.fit(generator, epochs=epochs, batch_size=batch_size,\n",
    "                              steps_per_epoch=steps_per_epoch, verbose=1, \n",
    "                              validation_data=(X_val, y_val))\n",
    "            learning_curves = history.history\n",
    "        else:\n",
    "            X_train, X_val, y_train, y_val = data\n",
    "            history = model.fit(X_train, y_train, epochs=epochs, batch_size=batch_size,\n",
    "                              verbose=1, validation_data=(X_val, y_val))\n",
    "            learning_curves = history.history\n",
    "        shout(\"Saving to file\", verbose)\n",
    "        save_model_to_file(model, base_dir, name)\n",
    "        with open(os.path.join(base_dir, name+'.p'), 'wb') as file_pi:\n",
    "            pickle.dump(learning_curves, file_pi)\n",
    "        shout(\"Model stored in \"+base_dir, verbose)\n",
    "    else: # Load from file\n",
    "        shout(\"Loading model from file\", verbose)\n",
    "        model = load_model_from_file(base_dir, name)\n",
    "        if not model:\n",
    "            shout(\"Model not found\")\n",
    "            return\n",
    "        learning_curves = None\n",
    "        try:\n",
    "            learning_curves = pickle.load(open(os.path.join(base_dir, name+'.p'), \"rb\"))\n",
    "        except FileNotFoundError:\n",
    "            shout(\"Learning curves not found\")\n",
    "            return\n",
    "        shout(\"Success!\", verbose)\n",
    "    # Report\n",
    "    print(model.summary())\n",
    "    lc = pd.DataFrame(learning_curves)\n",
    "    lc.plot(lw=2,style=['b:','r:','b-','r-']);\n",
    "    plt.xlabel('epochs');\n",
    "    print(lc.apply(minMax))"
   ]
  },
  {
   "cell_type": "markdown",
   "metadata": {
    "colab_type": "text",
    "id": "IU_zPWGPypce"
   },
   "source": [
    "## Part 1. Dense networks (10 points)\n",
    "\n",
    "### Question 1.1: Baseline model (4 points)\n",
    "- Build a dense network (with only dense layers) of at least 3 layers that is shaped like a pyramid: The first layer must have many nodes, and every subsequent layer must have increasingly fewer nodes, e.g. half as many. Implement a function 'build_model_1_1' that returns this model.\n",
    "- You can explore different settings, but don't use any preprocessing or regularization yet. You should be able to achieve at least 70% accuracy, but more is of course better. Unless otherwise stated, you can use accuracy as the evaluation metric in all questions.\n",
    "* Add a small description of your design choices (max. 500 characters) in 'answer_q_1_1': explain what you did and also why. Also discuss the performance of the model. Is it working well? Both the performance of the model and your explanations matter.\n",
    "- The name of the model should be 'model_1_1'. Evaluate it using the 'run_evaluation' function. For this question, you should not use more than 50 epochs."
   ]
  },
  {
   "cell_type": "code",
   "execution_count": 15,
   "metadata": {
    "colab": {
     "base_uri": "https://localhost:8080/",
     "height": 53
    },
    "colab_type": "code",
    "id": "hci6BIdHJTN0",
    "outputId": "d55ca35d-f1d7-467b-9a08-cb3caa0b75c4"
   },
   "outputs": [
    {
     "name": "stdout",
     "output_type": "stream",
     "text": [
      "\u001b[91mLoading model from file\u001b[0m\n",
      "\u001b[91mSuccess!\u001b[0m\n",
      "Model: \"sequential\"\n",
      "_________________________________________________________________\n",
      "Layer (type)                 Output Shape              Param #   \n",
      "=================================================================\n",
      "flatten (Flatten)            (None, 3072)              0         \n",
      "_________________________________________________________________\n",
      "dense (Dense)                (None, 2048)              6293504   \n",
      "_________________________________________________________________\n",
      "dense_1 (Dense)              (None, 2048)              4196352   \n",
      "_________________________________________________________________\n",
      "dense_2 (Dense)              (None, 1024)              2098176   \n",
      "_________________________________________________________________\n",
      "dense_3 (Dense)              (None, 10)                10250     \n",
      "=================================================================\n",
      "Total params: 12,598,282\n",
      "Trainable params: 12,598,282\n",
      "Non-trainable params: 0\n",
      "_________________________________________________________________\n",
      "None\n",
      "         loss  accuracy  val_loss  val_accuracy\n",
      "min  0.421239  0.448398  0.576402      0.621263\n",
      "max  1.650068  0.880901  1.231872      0.834330\n",
      "Answer is 422 characters long\n"
     ]
    },
    {
     "data": {
      "image/png": "[encoded data removed]",
      "text/plain": [
       "<Figure size 432x288 with 1 Axes>"
      ]
     },
     "metadata": {
      "needs_background": "light"
     },
     "output_type": "display_data"
    }
   ],
   "source": [
    "from tensorflow.keras.models import Sequential\n",
    "from tensorflow.keras.layers import Dense, Input, Flatten\n",
    "\n",
    "def build_model_1_1():\n",
    "    model = Sequential()\n",
    "    model.add(Input(shape=(32,32,3)))\n",
    "    model.add(Flatten())\n",
    "    model.add(Dense(units=2048, activation='relu'))\n",
    "    model.add(Dense(units=2048, activation='relu'))\n",
    "    model.add(Dense(units=1024, activation='relu'))\n",
    "    model.add(Dense(units=10, activation='softmax'))\n",
    "    \n",
    "    model.compile(optimizer='adagrad', loss='categorical_crossentropy', metrics=['accuracy'])\n",
    "    return model\n",
    "\n",
    "\n",
    "run_evaluation(\"model_1_1\", build_model_1_1, evaluation_split, base_dir, \n",
    "               train=False, epochs=40, batch_size=32)\n",
    "\n",
    "answer_q_1_1 = \"\"\"I started by training 3-layer networks for 20 epochs with batch_size=128 and I determined that 2048/1024/512 offers good initial performance: val_acc=77%.\n",
    "By more experiments I found that 2x2048+1024 gives val_acc=80%.\n",
    "Using this network, batch size=32 offers good balance between val_acc=81.5% and training time.\n",
    "Adagrad optimizer and 40 epochs gives val_acc=83%, which is decent considering possible future improvements.\"\"\"\n",
    "print(\"Answer is {} characters long\".format(len(answer_q_1_1)))"
   ]
  },
  {
   "cell_type": "markdown",
   "metadata": {
    "colab_type": "text",
    "id": "kmicpoNvonjd"
   },
   "source": [
    "### Question 1.2: Preprocessing (2 points)\n",
    "Rerun the model, but now preprocess the data first by converting the images to \n",
    "greyscale. You can use the helper function below. If you want to do additional \n",
    "preprocessing, you can do that here, too.\n",
    "* Store the preprocessed data as a tuple `preprocessed_split`\n",
    "* Rerun and re-evaluate your model using the preprocessed data.\n",
    "  * For the remainder of the assignment, always use the preprocessed data\n",
    "* Explain what you did and interpret the results in 'answer_q_1_2'. Is the model\n",
    "  better, if so, why?"
   ]
  },
  {
   "cell_type": "code",
   "execution_count": 16,
   "metadata": {
    "colab": {},
    "colab_type": "code",
    "id": "_wFGWDQSqkIM"
   },
   "outputs": [],
   "source": [
    "# Luminance-preserving RGB to greyscale conversion\n",
    "def rgb2gray(X):\n",
    "    return np.expand_dims(np.dot(X, [0.2990, 0.5870, 0.1140]), axis=3)\n",
    "\n",
    "# Replace with the preprocessed data\n",
    "pre_X_train = rgb2gray(X_train)\n",
    "pre_X_val = rgb2gray(X_val)\n",
    "pre_X_test = rgb2gray(X_test)\n",
    "preprocessed_split = pre_X_train, pre_X_val, y_train, y_val"
   ]
  },
  {
   "cell_type": "code",
   "execution_count": 17,
   "metadata": {
    "colab": {
     "base_uri": "https://localhost:8080/",
     "height": 53
    },
    "colab_type": "code",
    "id": "3aTVsLaojNeM",
    "outputId": "7ce47d0b-a86f-476b-b1ab-bce088c17a8e"
   },
   "outputs": [
    {
     "name": "stdout",
     "output_type": "stream",
     "text": [
      "\u001b[91mLoading model from file\u001b[0m\n",
      "\u001b[91mSuccess!\u001b[0m\n",
      "Model: \"sequential_67\"\n",
      "_________________________________________________________________\n",
      "Layer (type)                 Output Shape              Param #   \n",
      "=================================================================\n",
      "flatten_55 (Flatten)         (None, 1024)              0         \n",
      "_________________________________________________________________\n",
      "dense_271 (Dense)            (None, 2048)              2099200   \n",
      "_________________________________________________________________\n",
      "dense_272 (Dense)            (None, 2048)              4196352   \n",
      "_________________________________________________________________\n",
      "dense_273 (Dense)            (None, 1024)              2098176   \n",
      "_________________________________________________________________\n",
      "dense_274 (Dense)            (None, 10)                10250     \n",
      "=================================================================\n",
      "Total params: 8,403,978\n",
      "Trainable params: 8,403,978\n",
      "Non-trainable params: 0\n",
      "_________________________________________________________________\n",
      "None\n",
      "         loss  accuracy  val_loss  val_accuracy\n",
      "min  0.382439  0.519608  0.546546      0.607730\n",
      "max  1.478787  0.893523  1.240255      0.846226\n",
      "Answer is 500 characters long\n"
     ]
    },
    {
     "data": {
      "image/png": "[encoded data removed]",
      "text/plain": [
       "<Figure size 432x288 with 1 Axes>"
      ]
     },
     "metadata": {
      "needs_background": "light"
     },
     "output_type": "display_data"
    }
   ],
   "source": [
    "# Adjusted model\n",
    "def build_model_1_2():\n",
    "    model = Sequential()\n",
    "    model.add(Input(shape=(32,32,1)))\n",
    "    model.add(Flatten())\n",
    "    model.add(Dense(units=2048, activation='relu'))\n",
    "    model.add(Dense(units=2048, activation='relu'))\n",
    "    model.add(Dense(units=1024, activation='relu'))\n",
    "    model.add(Dense(units=10, activation='softmax'))\n",
    "    \n",
    "    model.compile(optimizer='adagrad', loss='categorical_crossentropy', metrics=['accuracy'])\n",
    "    return model\n",
    "\n",
    "# Evaluate. Use a new name 'model_1_2' to not overwrite the previous trained model\n",
    "run_evaluation(\"model_1_2\", build_model_1_2, preprocessed_split, base_dir, \n",
    "               train=False, epochs=40, batch_size=32)  \n",
    "answer_q_1_2 = \"\"\"This time I only had to remove color dimension from input shape in the model. Preprocessing provided additional 1,5% of val_acc, seeming to reach peak performance after 40 epochs.\n",
    "It most likely occured because color information was not so relevant - images were blurry and colors were not rich. Anyway, there should be no correlation between digit and color.\n",
    "After preprocessing dataset was compressed by 66%, which made the network receive less irrelevant data and focus on more important relations\"\"\"\n",
    "print(\"Answer is {} characters long\".format(len(answer_q_1_2)))"
   ]
  },
  {
   "cell_type": "markdown",
   "metadata": {
    "colab_type": "text",
    "id": "7l1pHwimiWQI"
   },
   "source": [
    "### Question 1.3: Regularization and tuning (4 points)\n",
    "* Regularize the model. You can explore (and combine) different techniques. What works best?\n",
    "* Tune other hyperparameters (e.g. learning rate, batch size,...) as you see fit.\n",
    "* Explain your findings and final design decisions. Retrain the model again on the preprocessed data and discuss the results.\n",
    "* Return your model in function 'build_model_1_3' and write your answer in 'answer_q_1_3'"
   ]
  },
  {
   "cell_type": "code",
   "execution_count": 18,
   "metadata": {
    "colab": {
     "base_uri": "https://localhost:8080/",
     "height": 53
    },
    "colab_type": "code",
    "id": "2ZZenVX1jDIQ",
    "outputId": "21294110-1f3e-4555-f3f3-a24bae135de5"
   },
   "outputs": [
    {
     "name": "stdout",
     "output_type": "stream",
     "text": [
      "\u001b[91mLoading model from file\u001b[0m\n",
      "\u001b[91mSuccess!\u001b[0m\n",
      "Model: \"sequential_36\"\n",
      "_________________________________________________________________\n",
      "Layer (type)                 Output Shape              Param #   \n",
      "=================================================================\n",
      "flatten_33 (Flatten)         (None, 1024)              0         \n",
      "_________________________________________________________________\n",
      "dense_98 (Dense)             (None, 2048)              2099200   \n",
      "_________________________________________________________________\n",
      "batch_normalization_51 (Batc (None, 2048)              8192      \n",
      "_________________________________________________________________\n",
      "dropout_34 (Dropout)         (None, 2048)              0         \n",
      "_________________________________________________________________\n",
      "dense_99 (Dense)             (None, 2048)              4196352   \n",
      "_________________________________________________________________\n",
      "batch_normalization_52 (Batc (None, 2048)              8192      \n",
      "_________________________________________________________________\n",
      "dropout_35 (Dropout)         (None, 2048)              0         \n",
      "_________________________________________________________________\n",
      "dense_100 (Dense)            (None, 1024)              2098176   \n",
      "_________________________________________________________________\n",
      "batch_normalization_53 (Batc (None, 1024)              4096      \n",
      "_________________________________________________________________\n",
      "dense_101 (Dense)            (None, 10)                10250     \n",
      "=================================================================\n",
      "Total params: 8,424,458\n",
      "Trainable params: 8,414,218\n",
      "Non-trainable params: 10,240\n",
      "_________________________________________________________________\n",
      "None\n",
      "          loss  accuracy   val_loss  val_accuracy\n",
      "min   2.358298  0.524015   2.525283      0.690502\n",
      "max  70.269572  0.926948  50.955948      0.881538\n",
      "Answer is 463 characters long\n"
     ]
    },
    {
     "data": {
      "image/png": "[encoded data removed]",
      "text/plain": [
       "<Figure size 432x288 with 1 Axes>"
      ]
     },
     "metadata": {
      "needs_background": "light"
     },
     "output_type": "display_data"
    }
   ],
   "source": [
    "from tensorflow.keras.models import Sequential\n",
    "from tensorflow.keras.layers import Dense, Input, Flatten\n",
    "from tensorflow.keras.layers import Dropout, BatchNormalization\n",
    "from tensorflow.keras.optimizers import Adagrad\n",
    "from tensorflow.keras import regularizers\n",
    "\n",
    "def build_model_1_3():\n",
    "    model = Sequential()\n",
    "    \n",
    "    model.add(Input(shape=(32, 32, 1)))\n",
    "    model.add(Flatten())\n",
    "    \n",
    "    model.add(Dense(units=2048, activation='relu', kernel_initializer='he_normal', kernel_regularizer=regularizers.l1_l2(0.0001)))\n",
    "    model.add(BatchNormalization())\n",
    "    model.add(Dropout(0.25))\n",
    "    \n",
    "    model.add(Dense(units=2048, activation='relu', kernel_initializer='he_normal', kernel_regularizer=regularizers.l1_l2(0.0001)))\n",
    "    model.add(BatchNormalization())\n",
    "    model.add(Dropout(0.25))\n",
    "    \n",
    "    model.add(Dense(units=1024, activation='relu', kernel_initializer='he_normal', kernel_regularizer=regularizers.l1_l2(0.0001)))\n",
    "    model.add(BatchNormalization())\n",
    "    \n",
    "    model.add(Dense(units=10, activation='softmax', kernel_initializer='he_normal', kernel_regularizer=regularizers.l1_l2(0.0001)))\n",
    "    \n",
    "    model.compile(optimizer='adagrad', loss='categorical_crossentropy', metrics=['accuracy'])\n",
    "    return model\n",
    "\n",
    "\n",
    "run_evaluation(\"model_1_3\", build_model_1_3, preprocessed_split, base_dir, \n",
    "               train=False, epochs=80, batch_size=32)\n",
    "\n",
    "answer_q_1_3 = \"\"\"L1_L2 regularization with a small penalty along with batch normalization allowed for more stable stable training and better generalization of the model.\n",
    "Experiments with dropout shown that small values makes the training quicker - 86% val_acc was reached in 25 epochs for dropout=0.25 and in 50 epochs with dropot=0.5.\n",
    "I decided to go for smaller dropout to reduce training period. Finally the model achieved 88% val_acc, which is satisfacory for a dense network.\"\"\"\n",
    "print(\"Answer is {} characters long\".format(len(answer_q_1_3)))"
   ]
  },
  {
   "cell_type": "markdown",
   "metadata": {
    "colab_type": "text",
    "id": "leo7YbI9L5et"
   },
   "source": [
    "## Part 2. Convolutional neural networks (10 points)\n",
    "### Question 2.1: Design a ConvNet (7 points)\n",
    "- Build a sequential convolutional neural network. Try to achieve the best validation accuracy you can. You should be able to get at least 90% accuracy. You can use any depth, any combination of layers, and any kind of regularization and tuning. \n",
    "- Add a description of your design choices in 'answer_q_2_1': explain what you did and also why. Also discuss the performance of the model. Is it working well? Both the performance of the model and your explanations matter.\n",
    "- You are allowed **800** characters for this answer (but don’t ramble).\n",
    "- The name of the model should be 'model_2_1'. Evaluate it using the 'run_evaluation' function and the preprocessed data."
   ]
  },
  {
   "cell_type": "code",
   "execution_count": 19,
   "metadata": {
    "colab": {
     "base_uri": "https://localhost:8080/",
     "height": 53
    },
    "colab_type": "code",
    "id": "ceyv-n1JRYyP",
    "outputId": "818e2fd1-77c1-4236-a8ee-dec7d9eb8a9e"
   },
   "outputs": [
    {
     "name": "stdout",
     "output_type": "stream",
     "text": [
      "\u001b[91mLoading model from file\u001b[0m\n",
      "\u001b[91mSuccess!\u001b[0m\n",
      "Model: \"sequential_7\"\n",
      "_________________________________________________________________\n",
      "Layer (type)                 Output Shape              Param #   \n",
      "=================================================================\n",
      "conv2d_16 (Conv2D)           (None, 32, 32, 128)       1280      \n",
      "_________________________________________________________________\n",
      "batch_normalization_23 (Batc (None, 32, 32, 128)       512       \n",
      "_________________________________________________________________\n",
      "conv2d_17 (Conv2D)           (None, 32, 32, 128)       147584    \n",
      "_________________________________________________________________\n",
      "max_pooling2d_8 (MaxPooling2 (None, 16, 16, 128)       0         \n",
      "_________________________________________________________________\n",
      "batch_normalization_24 (Batc (None, 16, 16, 128)       512       \n",
      "_________________________________________________________________\n",
      "conv2d_18 (Conv2D)           (None, 16, 16, 256)       295168    \n",
      "_________________________________________________________________\n",
      "batch_normalization_25 (Batc (None, 16, 16, 256)       1024      \n",
      "_________________________________________________________________\n",
      "conv2d_19 (Conv2D)           (None, 16, 16, 256)       590080    \n",
      "_________________________________________________________________\n",
      "max_pooling2d_9 (MaxPooling2 (None, 8, 8, 256)         0         \n",
      "_________________________________________________________________\n",
      "batch_normalization_26 (Batc (None, 8, 8, 256)         1024      \n",
      "_________________________________________________________________\n",
      "flatten_7 (Flatten)          (None, 16384)             0         \n",
      "_________________________________________________________________\n",
      "dense_22 (Dense)             (None, 512)               8389120   \n",
      "_________________________________________________________________\n",
      "dense_23 (Dense)             (None, 128)               65664     \n",
      "_________________________________________________________________\n",
      "batch_normalization_27 (Batc (None, 128)               512       \n",
      "_________________________________________________________________\n",
      "dense_24 (Dense)             (None, 10)                1290      \n",
      "=================================================================\n",
      "Total params: 9,493,770\n",
      "Trainable params: 9,491,978\n",
      "Non-trainable params: 1,792\n",
      "_________________________________________________________________\n",
      "None\n",
      "          loss  accuracy   val_loss  val_accuracy\n",
      "min   1.197832  0.825979   1.412464      0.881412\n",
      "max  23.438643  0.999638  16.353638      0.933719\n",
      "Answer is 726 characters long\n"
     ]
    },
    {
     "data": {
      "image/png": "[encoded data removed]",
      "text/plain": [
       "<Figure size 432x288 with 1 Axes>"
      ]
     },
     "metadata": {
      "needs_background": "light"
     },
     "output_type": "display_data"
    }
   ],
   "source": [
    "from tensorflow.keras.models import Sequential\n",
    "from tensorflow.keras.layers import Conv2D, MaxPool2D, Flatten, Dense, Input, BatchNormalization\n",
    "from tensorflow.keras import regularizers\n",
    "\n",
    "def build_model_2_1():\n",
    "    model = Sequential()\n",
    "    model.add(Input(shape=(32, 32, 1)))\n",
    "              \n",
    "    model.add(Conv2D(filters=128, kernel_size=(3, 3), activation='relu', kernel_initializer='he_normal', kernel_regularizer=regularizers.l1_l2(0.0001), padding='same'))\n",
    "    model.add(BatchNormalization())\n",
    "    model.add(Conv2D(filters=128, kernel_size=(3, 3), activation='relu', kernel_initializer='he_normal', kernel_regularizer=regularizers.l1_l2(0.0001), padding='same'))\n",
    "    model.add(MaxPool2D(pool_size=(2, 2)))\n",
    "    model.add(BatchNormalization())\n",
    "    \n",
    "    model.add(Conv2D(filters=256, kernel_size=(3, 3), activation='relu', kernel_initializer='he_normal', kernel_regularizer=regularizers.l1_l2(0.0001), padding='same'))\n",
    "    model.add(BatchNormalization())\n",
    "    model.add(Conv2D(filters=256, kernel_size=(3, 3), activation='relu', kernel_initializer='he_normal', kernel_regularizer=regularizers.l1_l2(0.0001), padding='same'))\n",
    "    model.add(MaxPool2D(pool_size=(2, 2))) \n",
    "    model.add(BatchNormalization())\n",
    "\n",
    "    model.add(Flatten())\n",
    "    \n",
    "    model.add(Dense(units=512, activation='relu', kernel_initializer='he_normal', kernel_regularizer=regularizers.l1_l2(0.0001)))\n",
    "    model.add(Dense(units=128, activation='relu', kernel_initializer='he_normal', kernel_regularizer=regularizers.l1_l2(0.0001)))\n",
    "    model.add(BatchNormalization())\n",
    "    model.add(Dense(units=10, activation='softmax', kernel_initializer='he_normal', kernel_regularizer=regularizers.l1_l2(0.0001)))\n",
    "    \n",
    "    model.compile(optimizer='adagrad', loss='categorical_crossentropy', metrics=['accuracy'])\n",
    "    return model\n",
    "\n",
    "\n",
    "run_evaluation(\"model_2_1\", build_model_2_1, preprocessed_split, base_dir, \n",
    "               train=False, epochs=60, batch_size=64)\n",
    "\n",
    "answer_q_2_1 = \"\"\"I started with building unregularized model, that reached 91% val_acc. I made sure that there are enough filters in the 1st layer\n",
    "(256) and next layers have more to compensate loss of resolution caused by padding and max pooling.\n",
    "Changing dense part of the model did not influence val_acc much, given enough capacity (used 2048 units).\n",
    "Then I regularized the model as in 1.3, getting siginficant boost in early training, finally it only provides 91,5% val_acc.\n",
    "I introduced padding, since all pixels from small images matter and allow for deeper networks. Based on architecture of popular models, I doubled Conv2D layers to get 92% val_acc in 30 epochs.\n",
    "Next I tried smaller number of units but 60 epochs, getting 93% val_acc.\"\"\"\n",
    "print(\"Answer is {} characters long\".format(len(answer_q_2_1)))"
   ]
  },
  {
   "cell_type": "markdown",
   "metadata": {
    "colab_type": "text",
    "id": "EpdLTbPwXmOc"
   },
   "source": [
    "### Question 2.2: Data Augmentation (3 points)\n",
    "\n",
    "- Augment the preprocessed training data. You can explore using image shifts, rotations, zooming, flips, etc. What works well, and what does not?\n",
    "- Evaluate the model from question 2.1 with the augmented data using the 'run_evaluation' function. Store the new trained model as 'model_2_2'.\n",
    "- Add a description of your design choices in 'answer_q_2_2': explain what you did and also why. Also discuss the performance of the model."
   ]
  },
  {
   "cell_type": "code",
   "execution_count": 20,
   "metadata": {
    "colab": {
     "base_uri": "https://localhost:8080/",
     "height": 53
    },
    "colab_type": "code",
    "id": "cp8wMUU-aqhQ",
    "outputId": "4cdfe1e6-2c8f-4f19-ca46-cd283fe66113"
   },
   "outputs": [
    {
     "name": "stdout",
     "output_type": "stream",
     "text": [
      "\u001b[91mLoading model from file\u001b[0m\n",
      "\u001b[91mSuccess!\u001b[0m\n",
      "Model: \"sequential_9\"\n",
      "_________________________________________________________________\n",
      "Layer (type)                 Output Shape              Param #   \n",
      "=================================================================\n",
      "conv2d_33 (Conv2D)           (None, 32, 32, 128)       1280      \n",
      "_________________________________________________________________\n",
      "batch_normalization_41 (Batc (None, 32, 32, 128)       512       \n",
      "_________________________________________________________________\n",
      "conv2d_34 (Conv2D)           (None, 32, 32, 128)       147584    \n",
      "_________________________________________________________________\n",
      "max_pooling2d_20 (MaxPooling (None, 16, 16, 128)       0         \n",
      "_________________________________________________________________\n",
      "batch_normalization_42 (Batc (None, 16, 16, 128)       512       \n",
      "_________________________________________________________________\n",
      "conv2d_35 (Conv2D)           (None, 16, 16, 256)       295168    \n",
      "_________________________________________________________________\n",
      "batch_normalization_43 (Batc (None, 16, 16, 256)       1024      \n",
      "_________________________________________________________________\n",
      "conv2d_36 (Conv2D)           (None, 16, 16, 256)       590080    \n",
      "_________________________________________________________________\n",
      "max_pooling2d_21 (MaxPooling (None, 8, 8, 256)         0         \n",
      "_________________________________________________________________\n",
      "batch_normalization_44 (Batc (None, 8, 8, 256)         1024      \n",
      "_________________________________________________________________\n",
      "flatten_9 (Flatten)          (None, 16384)             0         \n",
      "_________________________________________________________________\n",
      "dense_27 (Dense)             (None, 512)               8389120   \n",
      "_________________________________________________________________\n",
      "dense_28 (Dense)             (None, 128)               65664     \n",
      "_________________________________________________________________\n",
      "batch_normalization_45 (Batc (None, 128)               512       \n",
      "_________________________________________________________________\n",
      "dense_29 (Dense)             (None, 10)                1290      \n",
      "=================================================================\n",
      "Total params: 9,493,770\n",
      "Trainable params: 9,491,978\n",
      "Non-trainable params: 1,792\n",
      "_________________________________________________________________\n",
      "None\n",
      "          loss  accuracy   val_loss  val_accuracy\n",
      "min   1.994231  0.707483   2.024108      0.878643\n",
      "max  24.449249  0.969770  17.546299      0.957009\n",
      "Answer is 498 characters long\n"
     ]
    },
    {
     "data": {
      "image/png": "[encoded data removed]",
      "text/plain": [
       "<Figure size 432x288 with 1 Axes>"
      ]
     },
     "metadata": {
      "needs_background": "light"
     },
     "output_type": "display_data"
    }
   ],
   "source": [
    "from tensorflow.keras.preprocessing.image import ImageDataGenerator\n",
    "\n",
    "# Note that we build the same untrained model as in question 2.1 but store the \n",
    "# trained version as model_2_2. Change attributes as needed to run on augmented\n",
    "# data\n",
    "\n",
    "batch_size_gen = 64\n",
    "    \n",
    "# No need to fit the generator, since I'm not using data-based transformations\n",
    "train_gen = ImageDataGenerator(rotation_range=20,\n",
    "                              width_shift_range=0.1,\n",
    "                              height_shift_range=0.1,\n",
    "                              fill_mode='nearest')\n",
    "\n",
    "augmented_split = (train_gen.flow(pre_X_train, y_train, batch_size=batch_size_gen), pre_X_val, y_val)\n",
    "run_evaluation(\"model_2_2\", \n",
    "               build_model_2_1, \n",
    "               augmented_split, \n",
    "               base_dir, \n",
    "               train=False, \n",
    "               generator=True, \n",
    "               epochs=60, \n",
    "               batch_size=None,\n",
    "               steps_per_epoch=math.floor(len(pre_X_train) / batch_size_gen))\n",
    "answer_q_2_2 = \"\"\"Fisrtly, I chose small values for transformations, since the dataset itself is on the edge of readability, and trained for 20 epochs.\n",
    "I started with rotation alone which produced 94% val_acc.\n",
    "Introducing H/V shift gave 95,5% val_acc, hovever zoom and shaer lowered it by 1%. Probalby numbers got too distorted, so I lowered the parameters.\n",
    "It did not help, I reverted to initial three transformations. I noticed that H/V flips harm the model, since they produce symbols that are not digits anymore.\"\"\"\n",
    "print(\"Answer is {} characters long\".format(len(answer_q_2_2)))"
   ]
  },
  {
   "cell_type": "markdown",
   "metadata": {
    "colab_type": "text",
    "id": "Nb8jrFlnbBUP"
   },
   "source": [
    "## Part 3. Model interpretation (10 points)\n",
    "### Question 3.1: Interpreting misclassifications (2 points)\n",
    "Study which errors are still made by your last model (model_2_2) by evaluating it on the test data. You do not need to retrain the model.\n",
    "* What is the accuracy of model_2_2 on the test data? Store this in 'test_accuracy_3_1'.\n",
    "* Plot the confusion matrix in 'plot_confusion_matrix' and discuss which classes are often confused.\n",
    "* Visualize the misclassifications in more depth by focusing on a single\n",
    "class (e.g. the number '2') and analyse which kinds of mistakes are made for that class. For instance, are the errors related to the background, noisiness, etc.? Implement the visualization in 'plot_misclassifications'.\n",
    "* Summarize your findings in 'answer_q_3_1'"
   ]
  },
  {
   "cell_type": "code",
   "execution_count": 21,
   "metadata": {
    "colab": {},
    "colab_type": "code",
    "id": "yNg-7JsSbn2-"
   },
   "outputs": [
    {
     "name": "stdout",
     "output_type": "stream",
     "text": [
      "19858/19858 [==============================] - 3s 161us/sample - loss: 2.0243 - accuracy: 0.9564\n",
      "Test accuracy of model_3_1: 0.956390380859375\n",
      "[[3667   25   11   24    9    9   29    6    5    7]\n",
      " [  21 2873   13    8    6    3    8    8    5    2]\n",
      " [  26   20 2155    5   33    7    6    8    8    8]\n",
      " [  39    6    6 1927    4    5    0    4    2    3]\n",
      " [  11    6   27    7 1772   19    2    1    8    0]\n",
      " [  13    3    3    5   28 1456    1   14    7   11]\n",
      " [  44   23   13    3    6    1 1430    1    1    1]\n",
      " [  11   10   14    4    6   24    3 1254   11    4]\n",
      " [   8    9   10    6   11    3    2   13 1174   15]\n",
      " [  15    6    1    3    1   10    1    5   12 1284]]\n",
      "Answer is 792 characters long\n"
     ]
    },
    {
     "data": {
      "image/png": "[encoded data removed]",
      "text/plain": [
       "<Figure size 1440x288 with 15 Axes>"
      ]
     },
     "metadata": {
      "needs_background": "light"
     },
     "output_type": "display_data"
    }
   ],
   "source": [
    "from sklearn.metrics import confusion_matrix\n",
    "import matplotlib.pyplot as plt\n",
    "\n",
    "model_2_2 = load_model(os.path.join(base_dir, 'model_2_2.h5'))\n",
    "predictions = np.argmax(model_2_2.predict(pre_X_test, batch_size=512), axis=1)\n",
    "\n",
    "test_accuracy_3_1 = model_2_2.evaluate(pre_X_test, y_test, batch_size=256)[1] \n",
    "print(f'Test accuracy of model_3_1: {test_accuracy_3_1}') \n",
    "\n",
    "def plot_confusion_matrix():\n",
    "    global predictions\n",
    "    print(confusion_matrix(np.argmax(y_test, axis=1), predictions, list(range(10))))\n",
    "    \n",
    "plot_confusion_matrix()\n",
    "    \n",
    "def plot_misclassifications():\n",
    "    global X_test, y_test, predictions\n",
    "    DESIRED_CLASS = 0\n",
    "    \n",
    "    if DESIRED_CLASS == 0:\n",
    "        desired_class_s = 9\n",
    "    else:\n",
    "        desired_class_s -= 1\n",
    "    labels = np.argmax(y_test, axis=1)\n",
    "    combined = np.vstack((labels, predictions))\n",
    "    misclassified = np.where((combined[0, :] == desired_class_s) & (combined[0, :] != combined[1, :]))[0]\n",
    "    NUM_DISPLAY = min(15, len(misclassified))\n",
    "    np.random.shuffle(misclassified)\n",
    "    misclassified = misclassified[:NUM_DISPLAY]\n",
    "    \n",
    "    fig, ax = plt.subplots(1, NUM_DISPLAY, figsize=(20, 4))\n",
    "    fig.suptitle(f\"They were supposed to be {str(DESIRED_CLASS)} but the model predicted:\")\n",
    "    \n",
    "    for i, img in enumerate(misclassified):\n",
    "        ax[i].imshow(X_test[img], interpolation='nearest')\n",
    "        ax[i].set_title(f'{str((predictions[img] + 1) % 10)}')\n",
    "        ax[i].axis('off')\n",
    "    \n",
    "plot_misclassifications()\n",
    "\n",
    "answer_q_3_1 = \"\"\"Model often mistakes (symetrically): 7 with 1, 4 with 1, 5 with 3, 8 with 6. In general, it mistakes digits with similar shapes.\n",
    "I chose zeros to inspect. The first observation is that the images are mostly of terrible quality, leaving no other choice that to guess.\n",
    "In the remaining cases images tend to be distorted enough to contain features that can confuse the network. For example, narrow 0 with single pixel of noise in the middle might be mistaken as 8.\n",
    "Even more narrow 0 might be straight enough to become 1. Round sections in the bottom and noise in the top is mistaken as 6. There are also just wrong labels!\n",
    "In my opinion the model is doing a great job guessing edge-cases, since most of them contain obvious visual clues that would be taken into consideration by humans as well.\"\"\"\n",
    "print(\"Answer is {} characters long\".format(len(answer_q_3_1)))"
   ]
  },
  {
   "cell_type": "markdown",
   "metadata": {
    "colab_type": "text",
    "id": "EBRdBpz5Hcrx"
   },
   "source": [
    "### Question 3.2: Visualizing activations (4 points)\n",
    "* Implement a function `plot_activations()` that returns the most interesting activations (feature maps). Select the first example from the test set. Retrieve and visualize the activations of model 2_2 for that example (make sure you load that model in the function), for every filter for different convolutional layers (at different depths in the network).\n",
    "* Give an explanation (as detailed as you can) about your observations in 'answer_q_3_2'. Is your model indeed learning something useful?"
   ]
  },
  {
   "cell_type": "code",
   "execution_count": 22,
   "metadata": {
    "colab": {},
    "colab_type": "code",
    "id": "TyQ-IHHcN5Qc"
   },
   "outputs": [
    {
     "name": "stdout",
     "output_type": "stream",
     "text": [
      "Answer is 497 characters long\n"
     ]
    },
    {
     "data": {
      "image/png": "[encoded data removed]",
      "text/plain": [
       "<Figure size 288x432 with 16 Axes>"
      ]
     },
     "metadata": {
      "needs_background": "light"
     },
     "output_type": "display_data"
    }
   ],
   "source": [
    "from tensorflow.keras.models import Model\n",
    "\n",
    "def plot_activations():\n",
    "    example = np.expand_dims(pre_X_test[0], 0)\n",
    "    model_2_2 = load_model(os.path.join(base_dir, 'model_2_2.h5'))\n",
    "    \n",
    "    layer_outputs = [layer.output for layer in model_2_2.layers]\n",
    "    activation_model = Model(inputs=model_2_2.input, outputs=layer_outputs)\n",
    "    activations = activation_model.predict(example)\n",
    "    \n",
    "    \n",
    "    conv_1_activations = activations[0]\n",
    "    conv_2_activations = activations[2]    \n",
    "    conv_3_activations = activations[5]\n",
    "    conv_4_activations = activations[7]\n",
    "    \n",
    "    conv_activations = [conv_1_activations, conv_2_activations, conv_3_activations, conv_4_activations]\n",
    "\n",
    "#     I used this to browse all the activations, uncomment to enable this plot as well\n",
    "#     plt.imshow(example[0, :, :, 0], cmap='gray')\n",
    "#     plt.title(\"First example\")\n",
    "    \n",
    "#     fig, ax = plt.subplots(len(conv_activations), 30, figsize=(30, 6))\n",
    "#     fig.suptitle('Activations of filters in consecutive convolution layers')\n",
    "    \n",
    "#     shift = 0\n",
    "#     for i, conv_activation in enumerate(conv_activations):\n",
    "#         for j in range(min(30, activations[i].shape[-1])):\n",
    "#             ax[i, j].imshow(conv_activation[0, ..., j + 30 * shift])\n",
    "#             ax[i, j].axis('off')\n",
    "            \n",
    "    interesting_activations_1 = [2, 7, 66, 46]\n",
    "    interesting_activations_2 = [8, 56, 31, 59]\n",
    "    interesting_activations_3 = [105, 119, 17, 102]\n",
    "    interesting_activations_4 = [63, 54, 7, 28]\n",
    "    \n",
    "    interesting_activations = [interesting_activations_1, interesting_activations_2, interesting_activations_3, interesting_activations_4]\n",
    "        \n",
    "    fig, ax = plt.subplots(4, 4, figsize=(4, 6))\n",
    "    fig.suptitle('Interesting activations of filters in consecutive convolution layers.')\n",
    "    \n",
    "    for i, (indices, layer_activations) in enumerate(zip(interesting_activations, conv_activations)):\n",
    "        for j, interesting_activation in enumerate(indices):\n",
    "            ax[i, j].imshow(layer_activations[0, ..., interesting_activation])\n",
    "            ax[i, j].axis('off')\n",
    "    \n",
    "\n",
    "plot_activations()    \n",
    "    \n",
    "\n",
    "answer_q_3_2 = \"\"\"The first convolution layer contain universal tools, like edge or solid body detectors.\n",
    "2nd layer has similar filters and level of abstraction, but they look smoother than in the 1st.\n",
    "Filters in the 3rd activate on more conceptual structures, like oval shapes or parts of uniform regions.\n",
    "4th convolution layer is the least interpretable. We can observe two dots suggesting the number is 8, but also numerous maps that make sense only to the network.\n",
    "Indeed, the model learned many useful filters.\"\"\"\n",
    "print(\"Answer is {} characters long\".format(len(answer_q_3_2)))"
   ]
  },
  {
   "cell_type": "markdown",
   "metadata": {
    "colab_type": "text",
    "id": "6a4XT0-7Ym25"
   },
   "source": [
    "### Question 3.3: Visualizing activations (4 points)\n",
    "* Again, select the first example from the test set, and the trained model_2_2.\n",
    "* Implement a function `plot_activation_map()` that builds and shows a class activation map for your last convolutional layer that highlights what the model is paying attention to when classifying the example.\n",
    "* If possible, superimpossible the activation map over the image. If not, plot\n",
    "them side by side. Implement a function 'plot_3_3' that returns the entire plot."
   ]
  },
  {
   "cell_type": "code",
   "execution_count": 23,
   "metadata": {
    "colab": {},
    "colab_type": "code",
    "id": "vsmqYQl2ZZ4n"
   },
   "outputs": [
    {
     "name": "stdout",
     "output_type": "stream",
     "text": [
      "8\n"
     ]
    },
    {
     "data": {
      "image/png": "[encoded data removed]",
      "text/plain": [
       "<Figure size 432x288 with 1 Axes>"
      ]
     },
     "metadata": {
      "needs_background": "light"
     },
     "output_type": "display_data"
    }
   ],
   "source": [
    "from keras import backend as K\n",
    "import cv2\n",
    "\n",
    "example_to_inspect = 0\n",
    "\n",
    "def plot_activation_map():\n",
    "    example = np.expand_dims(pre_X_test[example_to_inspect], 0)\n",
    "    model = load_model(os.path.join(base_dir, 'model_2_2.h5'))\n",
    "    \n",
    "    predicted_class = np.argmax(model.predict(example))\n",
    "    print(predicted_class + 1)\n",
    "    \n",
    "    last_conv_layer = model.layers[7]\n",
    "    output_layer = model.output\n",
    "    \n",
    "    gradients = K.gradients(output_layer[:, predicted_class], last_conv_layer.output)[0]\n",
    "    pooled_grads = K.mean(gradients, axis=(0, 1, 2))\n",
    "    iterate = K.function([model.input], [pooled_grads, last_conv_layer.output[0]])\n",
    "    pooled_grads_value, conv_layer_output_value = iterate([example])\n",
    "    \n",
    "    \n",
    "    for i in range(last_conv_layer.filters):\n",
    "        conv_layer_output_value[:, :, i] *= pooled_grads_value[i]\n",
    "\n",
    "    heatmap = np.mean(conv_layer_output_value, axis=-1)\n",
    "    heatmap = np.maximum(heatmap, 0)\n",
    "    heatmap /= np.max(heatmap)\n",
    "    heatmap = (heatmap * 255).astype('uint8')\n",
    "    heatmap = cv2.resize(heatmap, (32, 32))\n",
    "    heatmap = cv2.applyColorMap(heatmap, cv2.COLORMAP_JET)\n",
    "    heatmap = cv2.cvtColor(heatmap, cv2.COLOR_BGR2RGB)\n",
    "\n",
    "        \n",
    "    plt.imshow(heatmap, alpha=0.5)\n",
    "    \n",
    "\n",
    "def plot_3_3():\n",
    "    example = np.expand_dims(pre_X_test[example_to_inspect], 0)\n",
    "    plt.imshow(example.reshape((32, 32)), cmap='gray', alpha=1)\n",
    "    \n",
    "    plot_activation_map()    \n",
    "    plt.show()\n",
    "    \n",
    "    \n",
    "plot_3_3()"
   ]
  },
  {
   "cell_type": "markdown",
   "metadata": {
    "colab_type": "text",
    "id": "buQLQ16EypgL"
   },
   "source": [
    "## Part 4. Transfer learning (10 points)\n",
    "### Question 4.1 Fast feature extraction with VGG16 (5 points)\n",
    "- Import the VGG16 model, pretrained on ImageNet. [See here](https://keras.io/applications/). Only import the convolutional part, not the dense layers.\n",
    "- Implement a function 'build_model_4_1` that adds a dense layer to the convolutional base, and freezes the convolutional base. Consider unfreezing the last few convolutional layers and evaluate whether that works better.\n",
    "- Train the resulting model on the *original* (colored) training data\n",
    "- Evaluate the resulting model using 'run_evaluate'. Discuss the observed performance in 'answer_q_4_1'."
   ]
  },
  {
   "cell_type": "code",
   "execution_count": 24,
   "metadata": {
    "colab": {
     "base_uri": "https://localhost:8080/",
     "height": 53
    },
    "colab_type": "code",
    "id": "QXH1Z7Pqj3HW",
    "outputId": "f16a8d67-a115-464a-d06d-f7eaacc9f905"
   },
   "outputs": [
    {
     "name": "stdout",
     "output_type": "stream",
     "text": [
      "input_6 (None, 32, 32, 3) Trainable: False\n",
      "block1_conv1 (None, 32, 32, 3) Trainable: False\n",
      "block1_conv2 (None, 32, 32, 64) Trainable: False\n",
      "block1_pool (None, 32, 32, 64) Trainable: False\n",
      "block2_conv1 (None, 16, 16, 64) Trainable: False\n",
      "block2_conv2 (None, 16, 16, 128) Trainable: False\n",
      "block2_pool (None, 16, 16, 128) Trainable: False\n",
      "block3_conv1 (None, 8, 8, 128) Trainable: False\n",
      "block3_conv2 (None, 8, 8, 256) Trainable: False\n",
      "block3_conv3 (None, 8, 8, 256) Trainable: False\n",
      "block3_pool (None, 8, 8, 256) Trainable: False\n",
      "block4_conv1 (None, 4, 4, 256) Trainable: False\n",
      "block4_conv2 (None, 4, 4, 512) Trainable: False\n",
      "block4_conv3 (None, 4, 4, 512) Trainable: False\n",
      "block4_pool (None, 4, 4, 512) Trainable: False\n",
      "block5_conv1 (None, 2, 2, 512) Trainable: True\n",
      "block5_conv2 (None, 2, 2, 512) Trainable: True\n",
      "block5_conv3 (None, 2, 2, 512) Trainable: True\n",
      "block5_pool (None, 2, 2, 512) Trainable: True\n",
      "Model: \"sequential_5\"\n",
      "_________________________________________________________________\n",
      "Layer (type)                 Output Shape              Param #   \n",
      "=================================================================\n",
      "vgg16 (Model)                (None, 1, 1, 512)         14714688  \n",
      "_________________________________________________________________\n",
      "flatten_5 (Flatten)          (None, 512)               0         \n",
      "_________________________________________________________________\n",
      "dense_18 (Dense)             (None, 128)               65664     \n",
      "_________________________________________________________________\n",
      "batch_normalization_13 (Batc (None, 128)               512       \n",
      "_________________________________________________________________\n",
      "dense_19 (Dense)             (None, 10)                1290      \n",
      "=================================================================\n",
      "Total params: 14,782,154\n",
      "Trainable params: 7,146,634\n",
      "Non-trainable params: 7,635,520\n",
      "_________________________________________________________________\n",
      "\u001b[91mLoading model from file\u001b[0m\n",
      "\u001b[91mSuccess!\u001b[0m\n",
      "Model: \"sequential_3\"\n",
      "_________________________________________________________________\n",
      "Layer (type)                 Output Shape              Param #   \n",
      "=================================================================\n",
      "vgg16 (Model)                (None, 1, 1, 512)         14714688  \n",
      "_________________________________________________________________\n",
      "flatten_3 (Flatten)          (None, 512)               0         \n",
      "_________________________________________________________________\n",
      "dense_5 (Dense)              (None, 128)               65664     \n",
      "_________________________________________________________________\n",
      "batch_normalization_3 (Batch (None, 128)               512       \n",
      "_________________________________________________________________\n",
      "dense_6 (Dense)              (None, 10)                1290      \n",
      "=================================================================\n",
      "Total params: 14,782,154\n",
      "Trainable params: 7,146,634\n",
      "Non-trainable params: 7,635,520\n",
      "_________________________________________________________________\n",
      "None\n",
      "     val_loss  val_accuracy      loss  accuracy\n",
      "min  0.727388      0.650910  0.499891  0.510948\n",
      "max  3.738447      0.842827  4.357575  0.909247\n",
      "Answer is 499 characters long\n"
     ]
    },
    {
     "data": {
      "image/png": "[encoded data removed]",
      "text/plain": [
       "<Figure size 432x288 with 1 Axes>"
      ]
     },
     "metadata": {
      "needs_background": "light"
     },
     "output_type": "display_data"
    }
   ],
   "source": [
    "from tensorflow.keras.applications import VGG16\n",
    "from tensorflow.keras.models import Sequential\n",
    "from tensorflow.keras.layers import Dense, Flatten, BatchNormalization\n",
    "from tensorflow.keras import regularizers\n",
    "from tensorflow.keras.optimizers import Adagrad, RMSprop\n",
    "from tensorflow.keras.preprocessing.image import ImageDataGenerator\n",
    "\n",
    "def build_model_4_1():\n",
    "    \n",
    "    model = Sequential()\n",
    "    vgg16 = VGG16(include_top=False, weights='imagenet', input_shape=(32, 32, 3))\n",
    "        \n",
    "    # The last one is max pooling so start from -2 to see any effects. Next max pooling is at -5\n",
    "    for l in vgg16.layers[:-4]:\n",
    "        l.trainable = False\n",
    "    \n",
    "    for l in vgg16.layers:\n",
    "        print(l.name, l.input.shape, 'Trainable:', l.trainable)\n",
    "    \n",
    "    model.add(vgg16)\n",
    "    model.add(Flatten())\n",
    "    model.add(Dense(units=128, activation='relu', kernel_initializer='he_normal', kernel_regularizer=regularizers.l1_l2(0.0001)))\n",
    "    model.add(BatchNormalization())\n",
    "    model.add(Dense(units=10, activation='softmax', kernel_initializer='he_normal', kernel_regularizer=regularizers.l1_l2(0.0001)))\n",
    "\n",
    "    model.compile(loss='categorical_crossentropy', optimizer=RMSprop(lr=0.00001), metrics=['accuracy'])\n",
    "    model.summary()\n",
    "    return model\n",
    "\n",
    "    \n",
    "# No need to fit the generator, since I'm not using data-based transformations\n",
    "vgg_train_gen = ImageDataGenerator(rotation_range=20,\n",
    "                                  width_shift_range=0.1,\n",
    "                                  height_shift_range=0.1,\n",
    "                                  fill_mode='nearest')\n",
    "\n",
    "vgg_augmented_split = (vgg_train_gen.flow(X_train, y_train, batch_size=64), X_val, y_val)\n",
    "\n",
    "run_evaluation(\"model_4_1\", \n",
    "               build_model_4_1, \n",
    "               vgg_augmented_split, \n",
    "               base_dir, \n",
    "               train=False, \n",
    "               generator=True, \n",
    "               epochs=60, \n",
    "               batch_size=None,\n",
    "               steps_per_epoch=math.floor(len(pre_X_train) / 64))\n",
    "\n",
    "answer_q_4_1 = \"\"\"Freezing whole VGG16 with one hidden dense layer with 512 units gave 55% val acc.\n",
    "RMSprop was used because smaller learning rate have to be used, which is discouraged in Adagrad. \n",
    "I unfroze last 3 convolution layers of vgg16 and using lr=1e-5 it acheved 81% val_acc.\n",
    "Finally, data augmentation from 2.2 was re-used, but it resulted only in 83,5% val_acc.\n",
    "The performance is not satisfactory, VGG16 was trained on all kinds of iamges which contain features that are not relevant to digit recognition.\"\"\"\n",
    "print(\"Answer is {} characters long\".format(len(answer_q_4_1)))"
   ]
  },
  {
   "cell_type": "markdown",
   "metadata": {
    "colab_type": "text",
    "id": "cp60rxZTYI8O"
   },
   "source": [
    "### Question 4.2 Embeddings and pipelines (5 points)\n",
    "- Generate embeddings of the original images by running them through the trained convolutional part of model_4_1 (without the dense layer) and returning the output. Embed the training and test data and store them to disk using the helper functions below. Implement a function `store_embeddings` that loads model_4_1 and stores all necessary embeddings to file. Make sure to run it once so that the embeddings are stored (and submitted).\n",
    "- Implement a function 'generate_pipeline' that returns an scikit-learn pipeline. You can use any non-deep learning technique (eg. SVMs, RFs,...), and preprocessing technique. You can do model selection using the validation set. \n",
    "- Implement a function 'evaluate_pipeline' that evaluates a given pipeline on a given training and test set. \n",
    "- Implement a function 'evaluation_4_2' that evaluates your pipeline on the embedded training and test set (loaded from file) and returns the accuracy. \n",
    "- Describe what you did and what you observed. Report the obtained accuracy score. Can you beat your best model thus far?"
   ]
  },
  {
   "cell_type": "code",
   "execution_count": 25,
   "metadata": {
    "colab": {
     "base_uri": "https://localhost:8080/",
     "height": 35
    },
    "colab_type": "code",
    "id": "IQo_zskOrs_m",
    "outputId": "f2b0314f-9953-43e6-c1c8-56f5cd7a5dcf"
   },
   "outputs": [
    {
     "name": "stdout",
     "output_type": "stream",
     "text": [
      "All embeddings found, lodaing.\n"
     ]
    },
    {
     "name": "stderr",
     "output_type": "stream",
     "text": [
      "[Parallel(n_jobs=-1)]: Using backend ThreadingBackend with 4 concurrent workers.\n"
     ]
    },
    {
     "name": "stdout",
     "output_type": "stream",
     "text": [
      "building tree 1 of 100\n",
      "building tree 2 of 100\n",
      "building tree 3 of 100building tree 4 of 100\n",
      "\n",
      "building tree 5 of 100\n",
      "building tree 6 of 100\n",
      "building tree 7 of 100\n",
      "building tree 8 of 100\n",
      "building tree 9 of 100\n",
      "building tree 10 of 100\n",
      "building tree 11 of 100\n",
      "building tree 12 of 100\n",
      "building tree 13 of 100\n",
      "building tree 14 of 100\n",
      "building tree 15 of 100\n",
      "building tree 16 of 100\n",
      "building tree 17 of 100\n",
      "building tree 18 of 100\n",
      "building tree 19 of 100\n",
      "building tree 20 of 100\n",
      "building tree 21 of 100\n",
      "building tree 22 of 100\n",
      "building tree 23 of 100\n",
      "building tree 24 of 100\n",
      "building tree 25 of 100\n",
      "building tree 26 of 100\n",
      "building tree 27 of 100\n",
      "building tree 28 of 100\n",
      "building tree 29 of 100\n",
      "building tree 30 of 100\n",
      "building tree 31 of 100\n",
      "building tree 32 of 100\n",
      "building tree 33 of 100\n",
      "building tree 34 of 100\n",
      "building tree 35 of 100\n",
      "building tree 36 of 100\n"
     ]
    },
    {
     "name": "stderr",
     "output_type": "stream",
     "text": [
      "[Parallel(n_jobs=-1)]: Done  33 tasks      | elapsed:   13.0s\n"
     ]
    },
    {
     "name": "stdout",
     "output_type": "stream",
     "text": [
      "building tree 37 of 100\n",
      "building tree 38 of 100\n",
      "building tree 39 of 100\n",
      "building tree 40 of 100\n",
      "building tree 41 of 100\n",
      "building tree 42 of 100\n",
      "building tree 43 of 100\n",
      "building tree 44 of 100\n",
      "building tree 45 of 100\n",
      "building tree 46 of 100\n",
      "building tree 47 of 100\n",
      "building tree 48 of 100\n",
      "building tree 49 of 100\n",
      "building tree 50 of 100\n",
      "building tree 51 of 100\n",
      "building tree 52 of 100\n",
      "building tree 53 of 100\n",
      "building tree 54 of 100\n",
      "building tree 55 of 100\n",
      "building tree 56 of 100\n",
      "building tree 57 of 100\n",
      "building tree 58 of 100\n",
      "building tree 59 of 100\n",
      "building tree 60 of 100\n",
      "building tree 61 of 100\n",
      "building tree 62 of 100\n",
      "building tree 63 of 100\n",
      "building tree 64 of 100\n",
      "building tree 65 of 100\n",
      "building tree 66 of 100\n",
      "building tree 67 of 100\n",
      "building tree 68 of 100\n",
      "building tree 69 of 100\n",
      "building tree 70 of 100\n",
      "building tree 71 of 100\n",
      "building tree 72 of 100\n",
      "building tree 73 of 100\n",
      "building tree 74 of 100\n",
      "building tree 75 of 100\n",
      "building tree 76 of 100\n",
      "building tree 77 of 100\n",
      "building tree 78 of 100\n",
      "building tree 79 of 100\n",
      "building tree 80 of 100\n",
      "building tree 81 of 100\n",
      "building tree 82 of 100\n",
      "building tree 83 of 100\n",
      "building tree 84 of 100\n",
      "building tree 85 of 100\n",
      "building tree 86 of 100\n",
      "building tree 87 of 100\n",
      "building tree 88 of 100\n",
      "building tree 89 of 100\n",
      "building tree 90 of 100\n",
      "building tree 91 of 100\n",
      "building tree 92 of 100\n",
      "building tree 93 of 100\n",
      "building tree 94 of 100\n",
      "building tree 95 of 100\n",
      "building tree 96 of 100\n",
      "building tree 97 of 100\n",
      "building tree 98 of 100\n",
      "building tree 99 of 100\n",
      "building tree 100 of 100\n"
     ]
    },
    {
     "name": "stderr",
     "output_type": "stream",
     "text": [
      "[Parallel(n_jobs=-1)]: Done 100 out of 100 | elapsed:   37.7s finished\n",
      "[Parallel(n_jobs=4)]: Using backend ThreadingBackend with 4 concurrent workers.\n",
      "[Parallel(n_jobs=4)]: Done  33 tasks      | elapsed:    0.1s\n"
     ]
    },
    {
     "name": "stdout",
     "output_type": "stream",
     "text": [
      "Validation accuracy: 0.7184510021150167\n",
      "Pipeline: Pipeline(memory=None,\n",
      "         steps=[('reshaper',\n",
      "                 FunctionTransformer(accept_sparse=False, check_inverse=True,\n",
      "                                     func=<function reshape_output at 0x0000022342A96438>,\n",
      "                                     inv_kw_args=None, inverse_func=None,\n",
      "                                     kw_args=None, validate=False)),\n",
      "                ('scaler',\n",
      "                 StandardScaler(copy=True, with_mean=True, with_std=True)),\n",
      "                ('classifier',\n",
      "                 RandomForestClassifier(bootstrap=True, ccp_alpha=0.0,\n",
      "                                        class_weight=None, criterion='gini',\n",
      "                                        max_depth=None, max_features='auto',\n",
      "                                        max_leaf_nodes=None, max_samples=None,\n",
      "                                        min_impurity_decrease=0.0,\n",
      "                                        min_impurity_split=None,\n",
      "                                        min_samples_leaf=1, min_samples_split=2,\n",
      "                                        min_weight_fraction_leaf=0.0,\n",
      "                                        n_estimators=100, n_jobs=-1,\n",
      "                                        oob_score=False, random_state=None,\n",
      "                                        verbose=2, warm_start=False))],\n",
      "         verbose=False)\n",
      "Answer is 473 characters long\n"
     ]
    },
    {
     "name": "stderr",
     "output_type": "stream",
     "text": [
      "[Parallel(n_jobs=4)]: Done 100 out of 100 | elapsed:    0.5s finished\n"
     ]
    }
   ],
   "source": [
    "import pickle\n",
    "import gzip\n",
    "from tensorflow.keras.models import Model\n",
    "from tensorflow.keras.applications import VGG16\n",
    "from sklearn.pipeline import Pipeline\n",
    "from sklearn.decomposition import PCA\n",
    "from sklearn.ensemble import RandomForestClassifier\n",
    "from sklearn.preprocessing import FunctionTransformer\n",
    "from sklearn.svm import SVC\n",
    "from sklearn.model_selection import GridSearchCV\n",
    "from sklearn.preprocessing import StandardScaler\n",
    "\n",
    "\n",
    "def store_embedding(X, name):  \n",
    "    with gzip.open(os.path.join(base_dir, name+'_embedding.p'), 'wb') as file_pi:\n",
    "        pickle.dump(X, file_pi)\n",
    "    \n",
    "\n",
    "def load_embedding(name):\n",
    "    with gzip.open(os.path.join(base_dir, name+'_embedding.p'), 'rb') as file_pi:\n",
    "        return pickle.load(file_pi)\n",
    "\n",
    "\n",
    "def store_embeddings():\n",
    "    \"\"\" Stores all necessary embeddings to file \"\"\"\n",
    "    model = load_model(os.path.join(base_dir, 'model_4_1.h5'))\n",
    "    # Get only convolution base\n",
    "    model = model.layers[0]\n",
    "    model = Model(model.input, model.output)\n",
    "    \n",
    "    print('Fitting PCA...')\n",
    "    X_train_e = model.predict(X_train, batch_size=512)\n",
    "    \n",
    "    if USE_PCA:\n",
    "        pca = PCA(250)\n",
    "        pca.fit(reshape_output(X_train_e))\n",
    "    \n",
    "    model.summary()\n",
    "    \n",
    "    if 'train_embedding.p' not in os.listdir():\n",
    "        print('Saving training embeddings...')\n",
    "        if USE_PCA: \n",
    "            X_train_e = pca.transform(reshape_output(X_train_e))\n",
    "        store_embedding(X_train_e, 'train')\n",
    "        del X_train_e\n",
    "    \n",
    "    if 'val_embedding.p' not in os.listdir():\n",
    "        print('Saving validation embeddings...')\n",
    "        X_val_e = model.predict(X_val, batch_size=512)\n",
    "        if USE_PCA:\n",
    "            X_val_e = pca.transform(reshape_output(X_val_e))\n",
    "        store_embedding(X_val_e, 'val')\n",
    "        del X_val_e\n",
    "    \n",
    "    if 'test_embedding.p' not in os.listdir():\n",
    "        print('Saving testing embeddings...')\n",
    "        X_test_e = model.predict(X_test, batch_size=512)  \n",
    "        if USE_PCA:\n",
    "            X_test_e = pca.transform(reshape_output(X_test_e))\n",
    "        store_embedding(X_test_e, 'test')\n",
    "        del X_test_e\n",
    "    \n",
    "\n",
    "def reshape_output(x):\n",
    "    temp = np.copy(x)\n",
    "    return temp.reshape(temp.shape[0], np.prod(temp.shape[1:]))\n",
    "    \n",
    "\n",
    "def generate_pipeline():\n",
    "    \"\"\" Returns an sklearn pipeline. \"\"\"\n",
    "    # Match input format of sklearn classifiers\n",
    "    reshape = FunctionTransformer(reshape_output)\n",
    "    classifer = RandomForestClassifier(100, verbose=2, n_jobs=-1)\n",
    "    steps = [('scaler', StandardScaler()),\n",
    "             ('classifier', classifer)]\n",
    "    if not USE_PCA:\n",
    "        steps = [('reshaper', FunctionTransformer(reshape_output))] + steps\n",
    "    pipeline = Pipeline(steps=steps, verbose=False)\n",
    "    return pipeline\n",
    "    \n",
    "\n",
    "def evaluate_pipeline(pipeline, X_train, y_train, X_test, y_test):\n",
    "    \"\"\" Evaluates the given pipeline, trained on the given embedded training set and \n",
    "    evaluated on the supplied embedded test set. Returns the accuracy score. \"\"\"\n",
    "    fit_pipeline = pipeline.fit(X_train, y_train)\n",
    "    return fit_pipeline.score(X_test, y_test)\n",
    "    \n",
    "\n",
    "def evaluation_4_2(X_train, y_train, X_test, y_test):\n",
    "    \"\"\" Runs 'evaluate_pipeline' with embedded versions of the input data \n",
    "    and returns the accuracy. \"\"\"\n",
    "    pipeline = generate_pipeline()\n",
    "    score = evaluate_pipeline(pipeline, X_train, y_train, X_test, y_test)\n",
    "    print(f'Validation accuracy: {score}')\n",
    "    return score\n",
    "\n",
    " \n",
    "def full_evaluation():\n",
    "    if len(set(('train_embedding.p', 'val_embedding.p', 'test_embedding.p')).intersection(set(os.listdir()))) < 3:\n",
    "        print('Some embeddings not found in the folder, generating and storing them.')\n",
    "        store_embeddings()\n",
    "    else:\n",
    "        print(\"All embeddings found, lodaing.\")\n",
    "\n",
    "    X_train_e = load_embedding('train')\n",
    "    X_val_e = load_embedding('val')\n",
    "    X_test_e = load_embedding('test')\n",
    "    \n",
    "    evaluation_4_2(X_train_e, y_train, X_test_e, y_test)\n",
    "    \n",
    "    \n",
    "USE_PCA = False\n",
    "full_evaluation()\n",
    "\n",
    "\n",
    "answer_q_4_2 = \"\"\"Neural networks are unbeatable at image recognition so I expected worse accuracy, but not 71%!\n",
    "I extract embeddings from the last convolution layer and pass it through a pipeline.\n",
    "It consists of scaler - useful for deeper, less normalized layers, reshaper to flatten the data and random forest classifier.\n",
    "Poor perfomance might be caused by random forest not considering spatial relations of data and not fully understanding the purpose of these embeddings.\"\"\"\n",
    "\n",
    "print(\"Pipeline:\", generate_pipeline())\n",
    "print(\"Answer is {} characters long\".format(len(answer_q_4_2)))"
   ]
  },
  {
   "cell_type": "code",
   "execution_count": null,
   "metadata": {},
   "outputs": [],
   "source": []
  }
 ],
 "metadata": {
  "accelerator": "GPU",
  "anaconda-cloud": {},
  "colab": {
   "collapsed_sections": [],
   "machine_shape": "hm",
   "name": "Assignment 3 - Model Solution.ipynb",
   "provenance": []
  },
  "kernelspec": {
   "display_name": "Python 3",
   "language": "python",
   "name": "python3"
  },
  "language_info": {
   "codemirror_mode": {
    "name": "ipython",
    "version": 3
   },
   "file_extension": ".py",
   "mimetype": "text/x-python",
   "name": "python",
   "nbconvert_exporter": "python",
   "pygments_lexer": "ipython3",
   "version": "3.7.7"
  }
 },
 "nbformat": 4,
 "nbformat_minor": 4
}
