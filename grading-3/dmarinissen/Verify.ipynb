{
 "cells": [
  {
   "cell_type": "code",
   "execution_count": 1,
   "metadata": {},
   "outputs": [
    {
     "name": "stdout",
     "output_type": "stream",
     "text": [
      "Converting: Assignment 3.ipynb\n",
      "Running notebook... (may take a while)\n",
      "All good. Building report.\n",
      "Done.\n"
     ]
    }
   ],
   "source": [
    "import os\n",
    "import nbformat\n",
    "from nbconvert import PythonExporter, HTMLExporter\n",
    "from nbconvert.preprocessors import CellExecutionError, ExecutePreprocessor\n",
    "from traitlets.config import Config\n",
    "import warnings\n",
    "warnings.filterwarnings('ignore') \n",
    "\n",
    "# Convert notebook to python\n",
    "assignment_path = 'Assignment 3.ipynb'\n",
    "export_path = 'solution.py'\n",
    "template_path = './submit/Template.ipynb'\n",
    "submission_path = 'Submission.html'\n",
    "\n",
    "print(\"Converting: {0}\".format(assignment_path))\n",
    "exporter = PythonExporter()\n",
    "# source is a tuple of python source code, meta contains metadata\n",
    "(source, meta) = exporter.from_filename(assignment_path)\n",
    "with open(export_path, 'w+') as fh:\n",
    "    fh.writelines(source)\n",
    "    fh.writelines(\"last_edit = '{}'\".format(meta['metadata']['modified_date']))\n",
    "    \n",
    "# Run solution notebook\n",
    "with open(template_path) as f:\n",
    "    snb = nbformat.read(f, as_version=4)\n",
    "ep = ExecutePreprocessor(timeout=2000, kernel_name='python3')\n",
    "\n",
    "try:\n",
    "    print(\"Running notebook... (may take a while)\")\n",
    "    out = ep.preprocess(snb, {'metadata': {'path': './'}})\n",
    "except CellExecutionError:\n",
    "    out = None\n",
    "    msg = 'Error executing the notebook \"%s\".\\n\\n' % template_path\n",
    "    msg += 'See notebook \"%s\" for the traceback.' % template_path\n",
    "    print(msg)\n",
    "    raise\n",
    "finally:\n",
    "    # Save notebook\n",
    "    with open(template_path, mode='w', encoding='utf-8') as f:\n",
    "        nbformat.write(snb, f)\n",
    "\n",
    "# Export as HTML (PDF is too much hassle)\n",
    "print(\"All good. Building report.\")\n",
    "c = Config()\n",
    "c.TagRemovePreprocessor.enabled=True\n",
    "c.TagRemovePreprocessor.remove_input_tags = set([\"hide_input\"])\n",
    "c.preprocessors = [\"TagRemovePreprocessor\"]\n",
    "\n",
    "html_exporter = HTMLExporter(config=c)\n",
    "html_data, resources = html_exporter.from_notebook_node(snb)\n",
    "html_data = html_data.replace('</head>', '<style>pre{font-family: \"Times New Roman\", Times, serif;}</style></head>')\n",
    "\n",
    "with open(submission_path, \"wb\") as f:\n",
    "    f.write(html_data.encode('utf8'))\n",
    "    f.close()\n",
    "#Cleanup\n",
    "#os.remove(\"solution.py\")\n",
    "print(\"Done.\")"
   ]
  },
  {
   "cell_type": "code",
   "execution_count": null,
   "metadata": {},
   "outputs": [],
   "source": []
  }
 ],
 "metadata": {
  "kernelspec": {
   "display_name": "Python 3",
   "language": "python",
   "name": "python3"
  },
  "language_info": {
   "codemirror_mode": {
    "name": "ipython",
    "version": 3
   },
   "file_extension": ".py",
   "mimetype": "text/x-python",
   "name": "python",
   "nbconvert_exporter": "python",
   "pygments_lexer": "ipython3",
   "version": "3.6.10"
  }
 },
 "nbformat": 4,
 "nbformat_minor": 4
}
