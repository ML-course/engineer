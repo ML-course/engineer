{
 "cells": [
  {
   "cell_type": "code",
   "execution_count": 1,
   "metadata": {
    "colab": {},
    "colab_type": "code",
    "id": "uPiqHyC_MuLL",
    "pycharm": {
     "is_executing": true
    }
   },
   "outputs": [],
   "source": [
    "# Fill in your name using the format below and student ID number\n",
    "your_name = \"van Roozendaal, Tom\"\n",
    "student_id = \"0908874\""
   ]
  },
  {
   "cell_type": "code",
   "execution_count": 2,
   "metadata": {
    "pycharm": {
     "is_executing": false
    }
   },
   "outputs": [],
   "source": [
    "# Before submission, set this to True so that you can render and verify this notebook without training deep learning models.\n",
    "# Any deep learning models will be trained from file instead.\n",
    "stop_training = True\n"
   ]
  },
  {
   "cell_type": "code",
   "execution_count": 3,
   "metadata": {
    "colab": {
     "base_uri": "https://localhost:8080/",
     "height": 71
    },
    "colab_type": "code",
    "id": "-rAuraOsM22r",
    "outputId": "af1729f6-a9f4-494f-db04-ef9c03d26008",
    "pycharm": {
     "is_executing": false
    }
   },
   "outputs": [],
   "source": [
    "# Uncomment the following line to run in Google Colab\n",
    "# !pip install --quiet openml "
   ]
  },
  {
   "cell_type": "code",
   "execution_count": 4,
   "metadata": {
    "colab": {
     "base_uri": "https://localhost:8080/",
     "height": 35
    },
    "colab_type": "code",
    "id": "OS-d8ziENCs1",
    "outputId": "0bc61a59-66c6-487c-9f32-2aaa2818469e",
    "pycharm": {
     "is_executing": false
    }
   },
   "outputs": [
    {
     "name": "stdout",
     "output_type": "stream",
     "text": [
      "True\n",
      "[PhysicalDevice(name='/physical_device:GPU:0', device_type='GPU')]\n"
     ]
    }
   ],
   "source": [
    "# Uncomment the following line to run in Google Colab\n",
    "#%tensorflow_version 2.x\n",
    "import tensorflow as tf\n",
    "print (tf.test.is_built_with_cuda())\n",
    "print (tf.config.experimental.list_physical_devices('GPU')) # Check whether GPUs are available"
   ]
  },
  {
   "cell_type": "code",
   "execution_count": 5,
   "metadata": {
    "colab": {},
    "colab_type": "code",
    "id": "-iTn6RmNMuLT",
    "pycharm": {
     "is_executing": false
    }
   },
   "outputs": [],
   "source": [
    "%matplotlib inline\n",
    "import openml as oml\n",
    "import numpy as np\n",
    "import matplotlib.pyplot as plt\n",
    "import sklearn"
   ]
  },
  {
   "cell_type": "code",
   "execution_count": 6,
   "metadata": {
    "colab": {
     "base_uri": "https://localhost:8080/",
     "height": 35
    },
    "colab_type": "code",
    "id": "brth0Z_TMuLZ",
    "outputId": "d3ad568e-e9a2-4c40-a93c-9160e4ed1e49",
    "pycharm": {
     "is_executing": false
    }
   },
   "outputs": [
    {
     "name": "stdout",
     "output_type": "stream",
     "text": [
      "Hi Tom, Looks good. You may continue :)\n"
     ]
    }
   ],
   "source": [
    "from packaging import version\n",
    "import sklearn\n",
    "import tensorflow\n",
    "sklearn_version = sklearn.__version__\n",
    "tensorflow_version = tensorflow.__version__\n",
    "if version.parse(sklearn_version) < version.parse(\"0.22.0\"):\n",
    "    print(\"scikit-learn is outdated. Please update now!\")\n",
    "if version.parse(tensorflow_version) < version.parse(\"2.1.0\"):\n",
    "    print(\"Tensorflow is outdated. This is version {}. Please update to 2.1.\".format(tensorflow_version))\n",
    "else:\n",
    "    print(\"Hi{}, Looks good. You may continue :)\".format(your_name.split(\",\")[1]))"
   ]
  },
  {
   "cell_type": "markdown",
   "metadata": {
    "colab_type": "text",
    "id": "7kdeFjIGMuLv"
   },
   "source": [
    "# Assignment 3"
   ]
  },
  {
   "cell_type": "markdown",
   "metadata": {
    "colab_type": "text",
    "id": "ljhP8DXu-H4j"
   },
   "source": [
    "### Choice of libraries\n",
    "We recommend to use Tensorflow in this assignment since that is what we covered in the labs. If you feel confident using PyTorch (and Skorch for the scikit-learn wrapper), that is allowed too, as long as you are able to implement the requested functions and return the requested data. Read the assignment carefully and ensure that you can. Note that you may also need to do a bit more work to implement certain helper functions and wrappers."
   ]
  },
  {
   "cell_type": "markdown",
   "metadata": {
    "colab_type": "text",
    "id": "-BQG9Kp2EcPc"
   },
   "source": [
    "### Storing and submitting files\n",
    "You must be able to store your models and submit them to GitHub Classroom. The evaluation functions used in this notebook will automatically store models for you.\n",
    "\n",
    "If you want to run and solve the notebook on your local machine/laptop, fill in the path 'base_dir' to your assignment folder into the next cell.\n",
    "\n",
    "If you use Colab, we recommend that you link it to your Google Drive:  \n",
    "* Upload the assignment folder to your Google Drive (+ New > Folder Upload)\n",
    "* Open Colab in a browser, open the 'Files' menu in the left sidebar, and click 'Mount Drive'\n",
    "  * At this point you may need to authenticate\n",
    "* Fill in the path to your assignment folder below\n",
    "  * It's likely '/content/drive/My Drive/assignment-3-yourname'"
   ]
  },
  {
   "cell_type": "code",
   "execution_count": 7,
   "metadata": {
    "colab": {},
    "colab_type": "code",
    "id": "aO6jTIIFHQNU",
    "pycharm": {
     "is_executing": false
    }
   },
   "outputs": [],
   "source": [
    "#base_dir = '/content/drive/My Drive/TestAssignment' # For Google Colab\n",
    "base_dir = './'"
   ]
  },
  {
   "cell_type": "code",
   "execution_count": 8,
   "metadata": {
    "colab": {
     "base_uri": "https://localhost:8080/",
     "height": 127
    },
    "colab_type": "code",
    "id": "HKaM3mwrODBR",
    "outputId": "159fb13d-54c8-43ea-8026-5e4998023e16",
    "pycharm": {
     "is_executing": false
    }
   },
   "outputs": [],
   "source": [
    "#Uncomment to link Colab notebook to Google Drive\n",
    "#from google.colab import drive\n",
    "#drive.mount('/content/drive')"
   ]
  },
  {
   "cell_type": "markdown",
   "metadata": {
    "colab_type": "text",
    "id": "D_BDIpWh92Dk"
   },
   "source": [
    "### Using GPUs\n",
    "While you can solve this assignment on a CPU, using a GPU will speed things up training quite a bit. If you have a local GPU, you can use that. If you don't, we recommend Google Colab. When you are in Colab:\n",
    "* In Runtime > Change runtime type, select the GPU under Hardware Accelerator\n",
    "* Run the 3rd cell on the top of this notebook to check that the GPU is found.\n",
    "\n",
    "Note that Colab may not always have GPUs ready all the time, and may deny you a GPU when you have used them a lot. When you are temporarily 'locked out', you can switch to a non-GPU runtime or to a local instance of Jupyter running on your machine."
   ]
  },
  {
   "cell_type": "markdown",
   "metadata": {
    "colab_type": "text",
    "id": "hq6oPNF546_5"
   },
   "source": [
    "### Constraints\n",
    "* Your stored models should not be larger than 100MB when stored in file. GitHub will not allow uploading if they are.\n",
    "* When questions ask you to provide an explanation, it should be less than 500\n",
    "characters long. Some questions have a higher limit. Always answer in full sentences.\n",
    "* Don't train for more than 100 epochs, i.e. don't throw excessing computational resources at the problem. If your model hasn't converged by then, think of ways it could be made to converge faster. In this assignment you are not after the last tiny improvement, you can stop when learning curves flatten out. Do at least 5 epochs to get a reasonable learning curve."
   ]
  },
  {
   "cell_type": "markdown",
   "metadata": {
    "colab_type": "text",
    "id": "h8wBDNspEvcY"
   },
   "source": [
    "### Grading\n",
    "Grading is based on the following aspects:\n",
    "* Correctness in answering the question. Carefully read the question and answer\n",
    "what is asked for. Train your models on the correct data. It should be clear on which data should be trained, but ask when in doubt. When something is not defined (e.g. the number of epochs or batch size), you can freely choose them.\n",
    "* Clarity of your explanations. Write short but precise descriptions of what you did and why. Give short but clear explanations of the observed performance. \n",
    "After your explanation, your approach and model should make perfect sense. Refrain from using symbols as substitute for words in your explanation (e.g. no: \"More layers -> more parameters\" yes: \"More layers mean more parameters\"). \n",
    "* Part of your grade depends on how well your model performs. When the question says 'you should at least get x%', x% will give you a good but not the maximal grade. You can get the full grade when you are close to what is the expected maximal performance. You don't need to invest lots of effort into the last tiny improvement, though. Unless specified, we look at the accuracy on the validation set. If your learning curves are very erratic we'll compute a score based on the smoothed curves (i.e. single peaks don't count).\n",
    "* The weight of each question is indicated. Take this into account when planning your time."
   ]
  },
  {
   "cell_type": "markdown",
   "metadata": {
    "colab_type": "text",
    "id": "KNyA5dEpR00Z"
   },
   "source": [
    "### Other tips\n",
    "* Don't wait until the last minute to do the assignment. The models take time to train, most questions will require some thinking, and some require you to read up on some new concepts.\n",
    "* Take care that you upload the results as requested. You need to submit not only the notebooks but also the trained models and learning curves (training histories). Be sure to run the verification script and check that all the results are included.\n",
    "* We provide an evaluation function that also stored models to disk. After you are done training the model, set the 'train' attribute to False so that the model doesn't train again (and loads from file instead) when you restart and rerun your notebook.\n",
    "* Explore. For many questions we'll ask you to explain your model design decisions. You cannot magically know the best solutions but you can experiment\n",
    "based on your understanding and make decisions based on both your knowledge and experiments. Your explanation is at least as important as the performance of your model.\n",
    "* Be original. We will check for plagiarism between student submissions."
   ]
  },
  {
   "cell_type": "markdown",
   "metadata": {
    "colab_type": "text",
    "id": "k0nKOZrPJTn8"
   },
   "source": [
    "### Data\n",
    "The [Street View House Numbers Dataset](https://www.openml.org/d/41081) contains 32-by-32 RGB images centered around a single digit of a house number appearing in Google Street View. Many of the images do contain some distractors at the sides. It consists of 10 classes, 1 for each digit. Digit '1' has label 1, '9' has label 9 and '0' has label 10. Your goal is to build models that recognize the correct digit."
   ]
  },
  {
   "cell_type": "markdown",
   "metadata": {
    "colab_type": "text",
    "id": "B8sOA7mEKOSp"
   },
   "source": [
    "If you use Colab, uncomment the following to cache the dataset inside the VM. This will make reloading faster if you need to restart your notebook. After longer periods of inactivity, your VM may be recycled and the cache lost, in which case the dataset will be downloaded again. Also note that this dataset is about 1Gb large, and will take even more space in memory. You may need to switch to a high-RAM environment (Colab will ask you if you hit the limit)."
   ]
  },
  {
   "cell_type": "code",
   "execution_count": 9,
   "metadata": {
    "colab": {},
    "colab_type": "code",
    "id": "Wu9s9dnlJMP0",
    "pycharm": {
     "is_executing": false
    }
   },
   "outputs": [],
   "source": [
    "# Use OpenML caching in Colab\n",
    "# On your local machine, it will store data in a hidden folder '~/.openml'\n",
    "#import os\n",
    "#oml.config.cache_directory = os.path.expanduser('/content/cache')"
   ]
  },
  {
   "cell_type": "code",
   "execution_count": 10,
   "metadata": {
    "colab": {},
    "colab_type": "code",
    "id": "_3o_TT8SMuLy",
    "pycharm": {
     "is_executing": false
    }
   },
   "outputs": [],
   "source": [
    "# Download Streetview data. Takes a while (several minutes), and quite a bit of\n",
    "# memory when it needs to download. After caching it loads faster.\n",
    "SVHN = oml.datasets.get_dataset(41081)\n",
    "X, y, _, _ = SVHN.get_data(dataset_format='array',\n",
    "    target=SVHN.default_target_attribute)"
   ]
  },
  {
   "cell_type": "markdown",
   "metadata": {
    "colab_type": "text",
    "id": "EPwHgeC3MuMI"
   },
   "source": [
    "Reshape, sample and split the data"
   ]
  },
  {
   "cell_type": "code",
   "execution_count": 11,
   "metadata": {
    "colab": {},
    "colab_type": "code",
    "id": "3C14250QOGpL",
    "pycharm": {
     "is_executing": false
    }
   },
   "outputs": [],
   "source": [
    "from tensorflow.keras.utils import to_categorical\n",
    "\n",
    "Xr = X.reshape((len(X),32,32,3))\n",
    "Xr = Xr / 255.\n",
    "yr = to_categorical(y)"
   ]
  },
  {
   "cell_type": "code",
   "execution_count": 12,
   "metadata": {
    "colab": {},
    "colab_type": "code",
    "id": "sbxtRoDcMuMK",
    "pycharm": {
     "is_executing": false
    }
   },
   "outputs": [],
   "source": [
    "# DO NOT EDIT. DO NOT OVERWRITE THESE VARIABLES.\n",
    "from sklearn.model_selection import train_test_split\n",
    "# We do an 80-20 split for the training and test set, and then again a 80-20 split into training and validation data\n",
    "X_train_all, X_test, y_train_all, y_test = train_test_split(Xr,yr, stratify=yr, train_size=0.8, test_size=0.2, random_state=1)\n",
    "X_train, X_val, y_train, y_val = train_test_split(X_train_all,y_train_all, stratify=y_train_all, train_size=0.8, random_state=1)\n",
    "evaluation_split = X_train, X_val, y_train, y_val"
   ]
  },
  {
   "cell_type": "markdown",
   "metadata": {
    "colab_type": "text",
    "id": "gUAf28y2O6ks"
   },
   "source": [
    "Check the formatting - and what the data looks like"
   ]
  },
  {
   "cell_type": "code",
   "execution_count": 13,
   "metadata": {
    "colab": {
     "base_uri": "https://localhost:8080/",
     "height": 141
    },
    "colab_type": "code",
    "id": "QEWsr56hMuL8",
    "outputId": "6b3d17a1-bbc8-46ef-f5c6-66e15f01b963",
    "pycharm": {
     "is_executing": false
    }
   },
   "outputs": [
    {
     "data": {
      "image/png": "[encoded data removed]",
      "text/plain": [
       "<Figure size 720x360 with 5 Axes>"
      ]
     },
     "metadata": {},
     "output_type": "display_data"
    }
   ],
   "source": [
    "from random import randint\n",
    "\n",
    "# Takes a list of row ids, and plots the corresponding images\n",
    "# Use grayscale=True for plotting grayscale images\n",
    "def plot_images(X, y, grayscale=False):\n",
    "    fig, axes = plt.subplots(1, len(X),  figsize=(10, 5))\n",
    "    for n in range(len(X)):\n",
    "        if grayscale:\n",
    "            axes[n].imshow(X[n], cmap='gray')\n",
    "        else:\n",
    "            axes[n].imshow(X[n])\n",
    "        axes[n].set_xlabel((np.argmax(y[n])+1)%10) # Label is index+1\n",
    "        axes[n].set_xticks(()), axes[n].set_yticks(())\n",
    "    plt.show()\n",
    "\n",
    "images = [randint(0,len(X_train)) for i in range(5)]\n",
    "X_random = [X_train[i] for i in images]\n",
    "y_random = [y_train[i] for i in images]\n",
    "plot_images(X_random, y_random)"
   ]
  },
  {
   "cell_type": "markdown",
   "metadata": {
    "colab_type": "text",
    "id": "yUQ22FEawd-J"
   },
   "source": [
    "### Evaluation harness\n",
    "We provide an evaluation function 'run_evaluation' that you should use to \n",
    "evaluate all your models. It also stores the trained models to disk so that\n",
    "your submission can be quickly verified, as well as to avoid having to train\n",
    "them over and over again. Your last run of the evaluation function (the last one\n",
    "stored to file), is the one that will be evaluated. The 'train' argument indicates whether to train or to load from disk. We have provided helper functions for saving and loading models to/from file, assuming you use TensorFlow. If you use PyTorch you'll have to adapt them."
   ]
  },
  {
   "cell_type": "code",
   "execution_count": 14,
   "metadata": {
    "colab": {},
    "colab_type": "code",
    "id": "SFGTq4mUV2zK",
    "pycharm": {
     "is_executing": false
    }
   },
   "outputs": [],
   "source": [
    "import os\n",
    "import pickle\n",
    "import pandas as pd\n",
    "import numpy as np\n",
    "from tensorflow.keras.models import load_model # for use with tensorflow\n",
    "\n",
    "def shout(text, verbose=1):\n",
    "    \"\"\" Prints text in red. Just for fun.\n",
    "    \"\"\"\n",
    "    if verbose>0:\n",
    "        print('\\033[91m'+text+'\\x1b[0m')\n",
    "\n",
    "def load_model_from_file(base_dir, name, extension='.h5'):\n",
    "    \"\"\" Loads a model from a file. The returned model must have a 'fit' and 'summary'\n",
    "    function following the Keras API. Don't change if you use TensorFlow. Otherwise,\n",
    "    adapt as needed. \n",
    "    Keyword arguments:\n",
    "    base_dir -- Directory where the models are stored\n",
    "    name -- Name of the model, e.g. 'question_1_1'\n",
    "    extension -- the file extension\n",
    "    \"\"\"\n",
    "    try:\n",
    "        model = load_model(os.path.join(base_dir, name+extension))\n",
    "    except OSError:\n",
    "        shout(\"Saved model could not be found. Was it trained and stored correctly? Is the base_dir correct?\")\n",
    "        return False\n",
    "    return model\n",
    "\n",
    "def save_model_to_file(model, base_dir, name, extension='.h5'):\n",
    "    \"\"\" Saves a model to file. Don't change if you use TensorFlow. Otherwise,\n",
    "    adapt as needed. \n",
    "    Keyword arguments:\n",
    "    model -- the model to be saved\n",
    "    base_dir -- Directory where the models should be stored\n",
    "    name -- Name of the model, e.g. 'question_1_1'\n",
    "    extension -- the file extension\n",
    "    \"\"\"\n",
    "    model.save(os.path.join(base_dir, name+extension))\n",
    "\n",
    "# Helper function to extract min/max from the learning curves\n",
    "def minMax(x):\n",
    "    return pd.Series(index=['min','max'],data=[x.min(),x.max()])\n",
    "\n",
    "# DO NOT EDIT\n",
    "def run_evaluation(name, model_builder, data, base_dir, train=True, \n",
    "                   generator=False, epochs=3, batch_size=32, steps_per_epoch=60, \n",
    "                   verbose=1, **kwargs):\n",
    "    \"\"\" Trains and evaluates the given model on the predefined train and test splits,\n",
    "    stores the trained model and learning curves. Also prints out a summary of the \n",
    "    model and plots the learning curves.\n",
    "    Keyword arguments:\n",
    "    name -- the name of the model to be stored, e.g. 'question_1_1.h5'\n",
    "    model_builder -- function that returns an (untrained) model. The model must \n",
    "                     have a 'fit' function that follows the Keras API. It can wrap\n",
    "                     a non-Keras model as long as the 'fit' function takes the \n",
    "                     same attributes and returns the learning curves (history).\n",
    "                     It also must have a 'summary' function that prints out a \n",
    "                     model summary, and a 'save' function that saves the model \n",
    "                     to disk. \n",
    "    data -- data split for evaluation. A tuple of either:\n",
    "            * Numpy arrays (X_train, X_val, y_train, y_val)\n",
    "            * A data generator and validation data (generator, X_val, y_val)\n",
    "    base_dir -- the directory to save or read models to/from\n",
    "    train -- whether or not the data should be trained. If False, the trained model\n",
    "             will be loaded from disk.\n",
    "    generator -- whether the data in given as a generator or not\n",
    "    epochs -- the number of epochs to train for\n",
    "    batch_size -- the batch size to train with\n",
    "    steps_per_epoch -- steps per epoch, in case a generator is used (ignored otherwise)\n",
    "    verbose -- verbosity level, 0: silent, 1: minimal,...\n",
    "    kwargs -- keyword arguments that should be passed to model_builder.\n",
    "              Not required, but may help you to adjust its behavior\n",
    "    \"\"\"\n",
    "    model = model_builder(**kwargs)\n",
    "    if not model:\n",
    "        shout(\"No model is returned by the model_builder\")\n",
    "        return\n",
    "    if not hasattr(model, 'fit'):\n",
    "        shout(\"Model is not built correctly\")\n",
    "        return\n",
    "    learning_curves = {}\n",
    "    if train and not stop_training: # Train anew\n",
    "        shout(\"Training the model\", verbose)\n",
    "        if generator:\n",
    "            generator, X_val, y_val = data\n",
    "            history = model.fit(generator, epochs=epochs, batch_size=batch_size,\n",
    "                              steps_per_epoch=steps_per_epoch, verbose=1, \n",
    "                              validation_data=(X_val, y_val))\n",
    "            learning_curves = history.history\n",
    "        else:\n",
    "            X_train, X_val, y_train, y_val = data\n",
    "            history = model.fit(X_train, y_train, epochs=epochs, batch_size=batch_size,\n",
    "                              verbose=1, validation_data=(X_val, y_val))\n",
    "            learning_curves = history.history\n",
    "        shout(\"Saving to file\", verbose)\n",
    "        save_model_to_file(model, base_dir, name)\n",
    "        with open(os.path.join(base_dir, name+'.p'), 'wb') as file_pi:\n",
    "            pickle.dump(learning_curves, file_pi)\n",
    "        shout(\"Model stored in \"+base_dir, verbose)\n",
    "    else: # Load from file\n",
    "        shout(\"Loading model from file\", verbose)\n",
    "        model = load_model_from_file(base_dir, name)\n",
    "        if not model:\n",
    "            shout(\"Model not found\")\n",
    "            return\n",
    "        learning_curves = None\n",
    "        try:\n",
    "            learning_curves = pickle.load(open(os.path.join(base_dir, name+'.p'), \"rb\"))\n",
    "        except FileNotFoundError:\n",
    "            shout(\"Learning curves not found\")\n",
    "            return\n",
    "        shout(\"Success!\", verbose)\n",
    "    # Report\n",
    "    print(model.summary())\n",
    "    lc = pd.DataFrame(learning_curves)\n",
    "    lc.plot(lw=2,style=['b:','r:','b-','r-']);\n",
    "    plt.xlabel('epochs');\n",
    "    print(lc.apply(minMax))"
   ]
  },
  {
   "cell_type": "code",
   "execution_count": 16,
   "metadata": {
    "colab": {
     "base_uri": "https://localhost:8080/",
     "height": 785
    },
    "colab_type": "code",
    "id": "FCzYq_jpkDZO",
    "outputId": "ca26e3ab-8883-4e08-aa8e-20fa7d0f552e",
    "pycharm": {
     "is_executing": false
    }
   },
   "outputs": [],
   "source": [
    "# Toy usage example\n",
    "# Remove before submission\n",
    "from tensorflow.keras import models\n",
    "from tensorflow.keras import layers \n",
    "\n",
    "def build_toy_model():\n",
    "    model = models.Sequential()\n",
    "    model.add(layers.Reshape((3072,), input_shape=(32,32,3)))\n",
    "    model.add(layers.Dense(10, activation='relu'))\n",
    "    model.add(layers.Dense(10, activation='softmax'))\n",
    "    model.compile(optimizer='rmsprop',\n",
    "                  loss='categorical_crossentropy',\n",
    "                  metrics=['accuracy'])\n",
    "    return model\n",
    "\n",
    "# First build and store\n",
    "# run_evaluation(\"toy_example\", build_toy_model, evaluation_split, base_dir, \n",
    "#                train=True, epochs=3, batch_size=32)"
   ]
  },
  {
   "cell_type": "code",
   "execution_count": 17,
   "metadata": {
    "colab": {
     "base_uri": "https://localhost:8080/",
     "height": 677
    },
    "colab_type": "code",
    "id": "vKkkQwwdta8r",
    "outputId": "041144bd-3993-4406-b275-74fbb77710c3",
    "pycharm": {
     "is_executing": false
    }
   },
   "outputs": [],
   "source": [
    "# Toy usage example\n",
    "# Remove before submission\n",
    "# With train=False: load from file and report the same results without rerunning\n",
    "# run_evaluation(\"toy_example\", build_toy_model, evaluation_split, base_dir, \n",
    "#                train=False)"
   ]
  },
  {
   "cell_type": "markdown",
   "metadata": {
    "colab_type": "text",
    "id": "IU_zPWGPypce"
   },
   "source": [
    "## Part 1. Dense networks (10 points)\n",
    "\n",
    "### Question 1.1: Baseline model (4 points)\n",
    "- Build a dense network (with only dense layers) of at least 3 layers that is shaped like a pyramid: The first layer must have many nodes, and every subsequent layer must have increasingly fewer nodes, e.g. half as many. Implement a function 'build_model_1_1' that returns this model.\n",
    "- You can explore different settings, but don't use any preprocessing or regularization yet. You should be able to achieve at least 70% accuracy, but more is of course better. Unless otherwise stated, you can use accuracy as the evaluation metric in all questions.\n",
    "* Add a small description of your design choices (max. 500 characters) in 'answer_q_1_1': explain what you did and also why. Also discuss the performance of the model. Is it working well? Both the performance of the model and your explanations matter.\n",
    "- The name of the model should be 'model_1_1'. Evaluate it using the 'run_evaluation' function. For this question, you should not use more than 50 epochs."
   ]
  },
  {
   "cell_type": "code",
   "execution_count": 122,
   "metadata": {
    "colab": {
     "base_uri": "https://localhost:8080/",
     "height": 53
    },
    "colab_type": "code",
    "id": "hci6BIdHJTN0",
    "outputId": "d55ca35d-f1d7-467b-9a08-cb3caa0b75c4",
    "pycharm": {
     "is_executing": true
    }
   },
   "outputs": [
    {
     "name": "stdout",
     "output_type": "stream",
     "text": [
      "\u001b[91mTraining the model\u001b[0m\n",
      "Train on 63544 samples, validate on 15887 samples\n",
      "Epoch 1/20\n",
      "63544/63544 [==============================] - 8s 120us/sample - loss: 2.0830 - accuracy: 0.2637 - val_loss: 1.8157 - val_accuracy: 0.3894\n",
      "Epoch 2/20\n",
      "63544/63544 [==============================] - 7s 114us/sample - loss: 1.6163 - accuracy: 0.4639 - val_loss: 1.4323 - val_accuracy: 0.5468\n",
      "Epoch 3/20\n",
      "63544/63544 [==============================] - 9s 142us/sample - loss: 1.3651 - accuracy: 0.5663 - val_loss: 1.2419 - val_accuracy: 0.6117\n",
      "Epoch 4/20\n",
      "63544/63544 [==============================] - 8s 122us/sample - loss: 1.2200 - accuracy: 0.6149 - val_loss: 1.3074 - val_accuracy: 0.5824\n",
      "Epoch 5/20\n",
      "63544/63544 [==============================] - 7s 118us/sample - loss: 1.1478 - accuracy: 0.6392 - val_loss: 1.1684 - val_accuracy: 0.6329\n",
      "Epoch 6/20\n",
      "63544/63544 [==============================] - 8s 122us/sample - loss: 1.0908 - accuracy: 0.6624 - val_loss: 1.0264 - val_accuracy: 0.6893\n",
      "Epoch 7/20\n",
      "63544/63544 [==============================] - 8s 128us/sample - loss: 1.0493 - accuracy: 0.6756 - val_loss: 1.1277 - val_accuracy: 0.6516\n",
      "Epoch 8/20\n",
      "63544/63544 [==============================] - 8s 123us/sample - loss: 1.0222 - accuracy: 0.6854 - val_loss: 1.1534 - val_accuracy: 0.6454\n",
      "Epoch 9/20\n",
      "63544/63544 [==============================] - 8s 123us/sample - loss: 0.9949 - accuracy: 0.6940 - val_loss: 0.9703 - val_accuracy: 0.7093\n",
      "Epoch 10/20\n",
      "63544/63544 [==============================] - 7s 112us/sample - loss: 0.9733 - accuracy: 0.7010 - val_loss: 1.0467 - val_accuracy: 0.6857\n",
      "Epoch 11/20\n",
      "63544/63544 [==============================] - 7s 111us/sample - loss: 0.9572 - accuracy: 0.7058 - val_loss: 0.9388 - val_accuracy: 0.7263\n",
      "Epoch 12/20\n",
      "63544/63544 [==============================] - 8s 120us/sample - loss: 0.9505 - accuracy: 0.7088 - val_loss: 0.9439 - val_accuracy: 0.7161\n",
      "Epoch 13/20\n",
      "63544/63544 [==============================] - 8s 125us/sample - loss: 0.9388 - accuracy: 0.7119 - val_loss: 0.9483 - val_accuracy: 0.7135\n",
      "Epoch 14/20\n",
      "63544/63544 [==============================] - 8s 124us/sample - loss: 0.9207 - accuracy: 0.7181 - val_loss: 0.9100 - val_accuracy: 0.7261\n",
      "Epoch 15/20\n",
      "63544/63544 [==============================] - 8s 120us/sample - loss: 0.9172 - accuracy: 0.7196 - val_loss: 0.9302 - val_accuracy: 0.7218\n",
      "Epoch 16/20\n",
      "63544/63544 [==============================] - 8s 126us/sample - loss: 0.9121 - accuracy: 0.7223 - val_loss: 0.8882 - val_accuracy: 0.7375\n",
      "Epoch 17/20\n",
      "63544/63544 [==============================] - 7s 114us/sample - loss: 0.9058 - accuracy: 0.7245 - val_loss: 0.8924 - val_accuracy: 0.7406\n",
      "Epoch 18/20\n",
      "63544/63544 [==============================] - 7s 114us/sample - loss: 0.9099 - accuracy: 0.7249 - val_loss: 1.0802 - val_accuracy: 0.6594\n",
      "Epoch 19/20\n",
      "63544/63544 [==============================] - 7s 114us/sample - loss: 0.8974 - accuracy: 0.7265 - val_loss: 0.9487 - val_accuracy: 0.7127\n",
      "Epoch 20/20\n",
      "63544/63544 [==============================] - 8s 126us/sample - loss: 0.8905 - accuracy: 0.7299 - val_loss: 0.9500 - val_accuracy: 0.7166\n",
      "\u001b[91mSaving to file\u001b[0m\n",
      "\u001b[91mModel stored in ./\u001b[0m\n",
      "Model: \"model_1_1\"\n",
      "_________________________________________________________________\n",
      "Layer (type)                 Output Shape              Param #   \n",
      "=================================================================\n",
      "reshape_56 (Reshape)         (None, 3072)              0         \n",
      "_________________________________________________________________\n",
      "dense_200 (Dense)            (None, 300)               921900    \n",
      "_________________________________________________________________\n",
      "dense_201 (Dense)            (None, 100)               30100     \n",
      "_________________________________________________________________\n",
      "dense_202 (Dense)            (None, 30)                3030      \n",
      "_________________________________________________________________\n",
      "dense_203 (Dense)            (None, 10)                310       \n",
      "=================================================================\n",
      "Total params: 955,340\n",
      "Trainable params: 955,340\n",
      "Non-trainable params: 0\n",
      "_________________________________________________________________\n",
      "None\n",
      "         loss  accuracy  val_loss  val_accuracy\n",
      "min  0.890452  0.263739  0.888182      0.389375\n",
      "max  2.082970  0.729919  1.815688      0.740606\n"
     ]
    },
    {
     "data": {
      "image/png": "[encoded data removed]",
      "text/plain": [
       "<Figure size 432x288 with 1 Axes>"
      ]
     },
     "metadata": {
      "needs_background": "light"
     },
     "output_type": "display_data"
    }
   ],
   "source": [
    "def build_model_1_1():\n",
    "    model = models.Sequential(name=\"model_1_1\")\n",
    "    model.add(layers.Reshape((3072,), input_shape=(32,32,3)))\n",
    "    model.add(layers.Dense(300, activation='relu'))\n",
    "    model.add(layers.Dense(100, activation='relu'))\n",
    "    model.add(layers.Dense(30, activation='sigmoid'))\n",
    "    model.add(layers.Dense(10, activation='softmax'))\n",
    "    model.compile(optimizer='rmsprop',\n",
    "                  loss='categorical_crossentropy',\n",
    "                  metrics=['accuracy'])\n",
    "    return model\n",
    "\n",
    "run_evaluation(\"model_1_1\", build_model_1_1, evaluation_split, base_dir, \n",
    "               train=True, epochs=20, batch_size=32)"
   ]
  },
  {
   "cell_type": "code",
   "execution_count": 85,
   "metadata": {
    "pycharm": {
     "is_executing": false,
     "name": "#%%\n"
    }
   },
   "outputs": [
    {
     "name": "stdout",
     "output_type": "stream",
     "text": [
      "Answer is 548 characters long\n"
     ]
    }
   ],
   "source": [
    "answer_q_1_1 = \"\"\"\n",
    "               I've tinkered with various combinations of activation functions, started with ReLU for all of the hidden layers\n",
    "               in order to check its training time (should be faster than other combos). While it seemed to converge really fast, \n",
    "               it caused a lot of variance in the loss and accuracy. Finally the combination of ReLU and sigmoid seemed\n",
    "               to work best, ReLU incombination with tanh seemed to work worst. The amount of layers and nodes were not altered from the initial choice.\n",
    "               \"\"\"\n",
    "\n",
    "print(\"Answer is {} characters long\".format(len(answer_q_1_1)))"
   ]
  },
  {
   "cell_type": "markdown",
   "metadata": {
    "colab_type": "text",
    "id": "kmicpoNvonjd"
   },
   "source": [
    "### Question 1.2: Preprocessing (2 points)\n",
    "Rerun the model, but now preprocess the data first by converting the images to \n",
    "greyscale. You can use the helper function below. If you want to do additional \n",
    "preprocessing, you can do that here, too.\n",
    "* Store the preprocessed data as a tuple `preprocessed_split`\n",
    "* Rerun and re-evaluate your model using the preprocessed data.\n",
    "  * For the remainder of the assignment, always use the preprocessed data\n",
    "* Explain what you did and interpret the results in 'answer_q_1_2'. Is the model\n",
    "  better, if so, why?"
   ]
  },
  {
   "cell_type": "code",
   "execution_count": 15,
   "metadata": {
    "colab": {},
    "colab_type": "code",
    "id": "_wFGWDQSqkIM"
   },
   "outputs": [],
   "source": [
    "# Luminance-preserving RGB to greyscale conversion\n",
    "def rgb2gray(X):\n",
    "    return np.expand_dims(np.dot(X, [0.2990, 0.5870, 0.1140]), axis=3)\n",
    "\n",
    "X_t = rgb2gray(X_train)\n",
    "X_v = rgb2gray(X_val)\n",
    "preprocessed_split = X_t, X_v, y_train, y_val"
   ]
  },
  {
   "cell_type": "code",
   "execution_count": 239,
   "metadata": {
    "colab": {
     "base_uri": "https://localhost:8080/",
     "height": 53
    },
    "colab_type": "code",
    "id": "3aTVsLaojNeM",
    "outputId": "7ce47d0b-a86f-476b-b1ab-bce088c17a8e"
   },
   "outputs": [
    {
     "name": "stdout",
     "output_type": "stream",
     "text": [
      "\u001b[91mTraining the model\u001b[0m\n",
      "Train on 63544 samples, validate on 15887 samples\n",
      "Epoch 1/20\n",
      "63544/63544 [==============================] - 7s 115us/sample - loss: 1.9219 - accuracy: 0.3286 - val_loss: 1.5564 - val_accuracy: 0.4803\n",
      "Epoch 2/20\n",
      "63544/63544 [==============================] - 7s 107us/sample - loss: 1.4138 - accuracy: 0.5369 - val_loss: 1.3543 - val_accuracy: 0.5585\n",
      "Epoch 3/20\n",
      "63544/63544 [==============================] - 7s 107us/sample - loss: 1.2261 - accuracy: 0.6074 - val_loss: 1.3467 - val_accuracy: 0.5597\n",
      "Epoch 4/20\n",
      "63544/63544 [==============================] - 7s 108us/sample - loss: 1.1262 - accuracy: 0.6435 - val_loss: 1.1283 - val_accuracy: 0.6487\n",
      "Epoch 5/20\n",
      "63544/63544 [==============================] - 7s 107us/sample - loss: 1.0522 - accuracy: 0.6703 - val_loss: 1.1024 - val_accuracy: 0.6568\n",
      "Epoch 6/20\n",
      "63544/63544 [==============================] - 7s 111us/sample - loss: 0.9976 - accuracy: 0.6889 - val_loss: 0.9316 - val_accuracy: 0.7119\n",
      "Epoch 7/20\n",
      "63544/63544 [==============================] - 7s 116us/sample - loss: 0.9554 - accuracy: 0.7026 - val_loss: 0.9365 - val_accuracy: 0.7129\n",
      "Epoch 8/20\n",
      "63544/63544 [==============================] - 7s 110us/sample - loss: 0.9204 - accuracy: 0.7144 - val_loss: 0.8966 - val_accuracy: 0.7249\n",
      "Epoch 9/20\n",
      "63544/63544 [==============================] - 7s 107us/sample - loss: 0.8938 - accuracy: 0.7223 - val_loss: 0.9656 - val_accuracy: 0.6955\n",
      "Epoch 10/20\n",
      "63544/63544 [==============================] - 7s 107us/sample - loss: 0.8718 - accuracy: 0.7311 - val_loss: 0.9570 - val_accuracy: 0.7015\n",
      "Epoch 11/20\n",
      "63544/63544 [==============================] - 7s 111us/sample - loss: 0.8517 - accuracy: 0.7367 - val_loss: 0.9974 - val_accuracy: 0.6897\n",
      "Epoch 12/20\n",
      "63544/63544 [==============================] - 7s 112us/sample - loss: 0.8357 - accuracy: 0.7422 - val_loss: 0.8779 - val_accuracy: 0.7325\n",
      "Epoch 13/20\n",
      "63544/63544 [==============================] - 7s 116us/sample - loss: 0.8239 - accuracy: 0.7469 - val_loss: 0.9007 - val_accuracy: 0.7207\n",
      "Epoch 14/20\n",
      "63544/63544 [==============================] - 8s 120us/sample - loss: 0.8076 - accuracy: 0.7535 - val_loss: 0.8385 - val_accuracy: 0.7502\n",
      "Epoch 15/20\n",
      "63544/63544 [==============================] - 7s 109us/sample - loss: 0.7999 - accuracy: 0.7566 - val_loss: 0.8581 - val_accuracy: 0.7427\n",
      "Epoch 16/20\n",
      "63544/63544 [==============================] - 7s 108us/sample - loss: 0.7979 - accuracy: 0.7569 - val_loss: 0.8030 - val_accuracy: 0.7607\n",
      "Epoch 17/20\n",
      "63544/63544 [==============================] - 8s 120us/sample - loss: 0.7871 - accuracy: 0.7585 - val_loss: 0.8067 - val_accuracy: 0.7575\n",
      "Epoch 18/20\n",
      "63544/63544 [==============================] - 7s 116us/sample - loss: 0.7831 - accuracy: 0.7621 - val_loss: 0.8823 - val_accuracy: 0.7310\n",
      "Epoch 19/20\n",
      "63544/63544 [==============================] - 7s 108us/sample - loss: 0.7824 - accuracy: 0.7630 - val_loss: 0.7759 - val_accuracy: 0.7672\n",
      "Epoch 20/20\n",
      "63544/63544 [==============================] - 7s 107us/sample - loss: 0.7792 - accuracy: 0.7624 - val_loss: 0.7730 - val_accuracy: 0.7695\n",
      "\u001b[91mSaving to file\u001b[0m\n",
      "\u001b[91mModel stored in ./\u001b[0m\n",
      "Model: \"model_1_2\"\n",
      "_________________________________________________________________\n",
      "Layer (type)                 Output Shape              Param #   \n",
      "=================================================================\n",
      "reshape_57 (Reshape)         (None, 1024)              0         \n",
      "_________________________________________________________________\n",
      "dense_291 (Dense)            (None, 300)               307500    \n",
      "_________________________________________________________________\n",
      "dense_292 (Dense)            (None, 100)               30100     \n",
      "_________________________________________________________________\n",
      "dense_293 (Dense)            (None, 30)                3030      \n",
      "_________________________________________________________________\n",
      "dense_294 (Dense)            (None, 10)                310       \n",
      "=================================================================\n",
      "Total params: 340,940\n",
      "Trainable params: 340,940\n",
      "Non-trainable params: 0\n",
      "_________________________________________________________________\n",
      "None\n",
      "         loss  accuracy  val_loss  val_accuracy\n",
      "min  0.779191  0.328638  0.773030      0.480330\n",
      "max  1.921914  0.763015  1.556394      0.769497\n"
     ]
    },
    {
     "data": {
      "image/png": "[encoded data removed]",
      "text/plain": [
       "<Figure size 432x288 with 1 Axes>"
      ]
     },
     "metadata": {
      "needs_background": "light"
     },
     "output_type": "display_data"
    }
   ],
   "source": [
    "# Adjusted model\n",
    "def build_model_1_2():\n",
    "    model = models.Sequential(name=\"model_1_2\")\n",
    "    model.add(layers.Reshape((1024,), input_shape=(32,32,1)))\n",
    "    model.add(layers.Dense(300, activation='relu'))\n",
    "    model.add(layers.Dense(100, activation='relu'))\n",
    "    model.add(layers.Dense(30, activation='sigmoid'))\n",
    "    model.add(layers.Dense(10, activation='softmax'))\n",
    "    model.compile(optimizer='rmsprop',\n",
    "                  loss='categorical_crossentropy',\n",
    "                  metrics=['accuracy'])\n",
    "    return model\n",
    "\n",
    "# Evaluate. Use a new name 'model_1_2' to not overwrite the previous trained model\n",
    "run_evaluation(\"model_1_2\", build_model_1_2, preprocessed_split, base_dir, \n",
    "               train=True, epochs=20, batch_size=32)"
   ]
  },
  {
   "cell_type": "code",
   "execution_count": 57,
   "metadata": {
    "pycharm": {
     "name": "#%%\n"
    }
   },
   "outputs": [
    {
     "name": "stdout",
     "output_type": "stream",
     "text": [
      "Answer is 408 characters long\n"
     ]
    }
   ],
   "source": [
    "answer_q_1_2 = \"\"\"\n",
    "               The only preprocessing strategy used here is to convert the images to greyscale.\n",
    "               This, however, causes an increase in accuracy while using the same settings as model_1_1. \n",
    "               This might be due to the fact that the color has no significance in the images for its classification, \n",
    "               hence removing color might avoid false classifications and complexities.\n",
    "               \"\"\"\n",
    "print(\"Answer is {} characters long\".format(len(answer_q_1_2)))"
   ]
  },
  {
   "cell_type": "markdown",
   "metadata": {
    "colab_type": "text",
    "id": "7l1pHwimiWQI"
   },
   "source": [
    "### Question 1.3: Regularization and tuning (4 points)\n",
    "* Regularize the model. You can explore (and combine) different techniques. What works best?\n",
    "* Tune other hyperparameters (e.g. learning rate, batch size,...) as you see fit.\n",
    "* Explain your findings and final design decisions. Retrain the model again on the preprocessed data and discuss the results.\n",
    "* Return your model in function 'build_model_1_3' and write your answer in 'answer_q_1_3'"
   ]
  },
  {
   "cell_type": "code",
   "execution_count": 120,
   "metadata": {
    "colab": {
     "base_uri": "https://localhost:8080/",
     "height": 53
    },
    "colab_type": "code",
    "id": "2ZZenVX1jDIQ",
    "outputId": "21294110-1f3e-4555-f3f3-a24bae135de5"
   },
   "outputs": [
    {
     "name": "stdout",
     "output_type": "stream",
     "text": [
      "\u001b[91mTraining the model\u001b[0m\n",
      "Train on 63544 samples, validate on 15887 samples\n",
      "Epoch 1/30\n",
      "63544/63544 [==============================] - 8s 119us/sample - loss: 2.0458 - accuracy: 0.2845 - val_loss: 1.6638 - val_accuracy: 0.4569\n",
      "Epoch 2/30\n",
      "63544/63544 [==============================] - 8s 118us/sample - loss: 1.5042 - accuracy: 0.5075 - val_loss: 1.3736 - val_accuracy: 0.5570\n",
      "Epoch 3/30\n",
      "63544/63544 [==============================] - 7s 113us/sample - loss: 1.2772 - accuracy: 0.5971 - val_loss: 1.2179 - val_accuracy: 0.6137\n",
      "Epoch 4/30\n",
      "63544/63544 [==============================] - 7s 117us/sample - loss: 1.1593 - accuracy: 0.6379 - val_loss: 1.0347 - val_accuracy: 0.6858\n",
      "Epoch 5/30\n",
      "63544/63544 [==============================] - 7s 110us/sample - loss: 1.0761 - accuracy: 0.6666 - val_loss: 1.0472 - val_accuracy: 0.6763\n",
      "Epoch 6/30\n",
      "63544/63544 [==============================] - 7s 116us/sample - loss: 1.0177 - accuracy: 0.6857 - val_loss: 0.9707 - val_accuracy: 0.7076\n",
      "Epoch 7/30\n",
      "63544/63544 [==============================] - 7s 116us/sample - loss: 0.9657 - accuracy: 0.7050 - val_loss: 0.9365 - val_accuracy: 0.7115\n",
      "Epoch 8/30\n",
      "63544/63544 [==============================] - 7s 112us/sample - loss: 0.9240 - accuracy: 0.7165 - val_loss: 0.8923 - val_accuracy: 0.7298\n",
      "Epoch 9/30\n",
      "63544/63544 [==============================] - 7s 114us/sample - loss: 0.8897 - accuracy: 0.7277 - val_loss: 0.8829 - val_accuracy: 0.7325\n",
      "Epoch 10/30\n",
      "63544/63544 [==============================] - 7s 110us/sample - loss: 0.8603 - accuracy: 0.7382 - val_loss: 0.8260 - val_accuracy: 0.7529\n",
      "Epoch 11/30\n",
      "63544/63544 [==============================] - 7s 111us/sample - loss: 0.8339 - accuracy: 0.7464 - val_loss: 0.7827 - val_accuracy: 0.7727\n",
      "Epoch 12/30\n",
      "63544/63544 [==============================] - 7s 111us/sample - loss: 0.8081 - accuracy: 0.7565 - val_loss: 0.7697 - val_accuracy: 0.7737\n",
      "Epoch 13/30\n",
      "63544/63544 [==============================] - 7s 111us/sample - loss: 0.7924 - accuracy: 0.7617 - val_loss: 0.8199 - val_accuracy: 0.7519\n",
      "Epoch 14/30\n",
      "63544/63544 [==============================] - 7s 111us/sample - loss: 0.7764 - accuracy: 0.7669 - val_loss: 0.7612 - val_accuracy: 0.7671\n",
      "Epoch 15/30\n",
      "63544/63544 [==============================] - 8s 119us/sample - loss: 0.7597 - accuracy: 0.7701 - val_loss: 0.7332 - val_accuracy: 0.7847\n",
      "Epoch 16/30\n",
      "63544/63544 [==============================] - 8s 123us/sample - loss: 0.7414 - accuracy: 0.7756 - val_loss: 0.7482 - val_accuracy: 0.7782\n",
      "Epoch 17/30\n",
      "63544/63544 [==============================] - 7s 111us/sample - loss: 0.7299 - accuracy: 0.7804 - val_loss: 0.7257 - val_accuracy: 0.7854\n",
      "Epoch 18/30\n",
      "63544/63544 [==============================] - 7s 111us/sample - loss: 0.7219 - accuracy: 0.7838 - val_loss: 0.6740 - val_accuracy: 0.8037\n",
      "Epoch 19/30\n",
      "63544/63544 [==============================] - 7s 111us/sample - loss: 0.7085 - accuracy: 0.7885 - val_loss: 0.7032 - val_accuracy: 0.7971\n",
      "Epoch 20/30\n",
      "63544/63544 [==============================] - 7s 111us/sample - loss: 0.6960 - accuracy: 0.7918 - val_loss: 0.6627 - val_accuracy: 0.8081\n",
      "Epoch 21/30\n",
      "63544/63544 [==============================] - 7s 111us/sample - loss: 0.6898 - accuracy: 0.7939 - val_loss: 0.7022 - val_accuracy: 0.7944\n",
      "Epoch 22/30\n",
      "63544/63544 [==============================] - 7s 113us/sample - loss: 0.6820 - accuracy: 0.7965 - val_loss: 0.6717 - val_accuracy: 0.8020\n",
      "Epoch 23/30\n",
      "63544/63544 [==============================] - 7s 111us/sample - loss: 0.6710 - accuracy: 0.8005 - val_loss: 0.6633 - val_accuracy: 0.8067\n",
      "Epoch 24/30\n",
      "63544/63544 [==============================] - 7s 112us/sample - loss: 0.6634 - accuracy: 0.8020 - val_loss: 0.7285 - val_accuracy: 0.7847\n",
      "Epoch 25/30\n",
      "63544/63544 [==============================] - 7s 112us/sample - loss: 0.6556 - accuracy: 0.8054 - val_loss: 0.7129 - val_accuracy: 0.7921\n",
      "Epoch 26/30\n",
      "63544/63544 [==============================] - 7s 111us/sample - loss: 0.6513 - accuracy: 0.8073 - val_loss: 0.6444 - val_accuracy: 0.8123\n",
      "Epoch 27/30\n",
      "63544/63544 [==============================] - 7s 111us/sample - loss: 0.6448 - accuracy: 0.8100 - val_loss: 0.6582 - val_accuracy: 0.8091\n",
      "Epoch 28/30\n",
      "63544/63544 [==============================] - 7s 111us/sample - loss: 0.6392 - accuracy: 0.8109 - val_loss: 0.6397 - val_accuracy: 0.8109\n",
      "Epoch 29/30\n",
      "63544/63544 [==============================] - 7s 112us/sample - loss: 0.6307 - accuracy: 0.8145 - val_loss: 0.6428 - val_accuracy: 0.8103\n",
      "Epoch 30/30\n",
      "63544/63544 [==============================] - 8s 118us/sample - loss: 0.6247 - accuracy: 0.8165 - val_loss: 0.6492 - val_accuracy: 0.8139\n",
      "\u001b[91mSaving to file\u001b[0m\n",
      "\u001b[91mModel stored in ./\u001b[0m\n",
      "Model: \"model_1_3\"\n",
      "_________________________________________________________________\n",
      "Layer (type)                 Output Shape              Param #   \n",
      "=================================================================\n",
      "reshape_54 (Reshape)         (None, 1024)              0         \n",
      "_________________________________________________________________\n",
      "dense_192 (Dense)            (None, 500)               512500    \n",
      "_________________________________________________________________\n",
      "dropout_24 (Dropout)         (None, 500)               0         \n",
      "_________________________________________________________________\n",
      "dense_193 (Dense)            (None, 250)               125250    \n",
      "_________________________________________________________________\n",
      "dense_194 (Dense)            (None, 100)               25100     \n",
      "_________________________________________________________________\n",
      "dense_195 (Dense)            (None, 10)                1010      \n",
      "=================================================================\n",
      "Total params: 663,860\n",
      "Trainable params: 663,860\n",
      "Non-trainable params: 0\n",
      "_________________________________________________________________\n",
      "None\n",
      "         loss  accuracy  val_loss  val_accuracy\n",
      "min  0.624748  0.284480  0.639695      0.456852\n",
      "max  2.045827  0.816474  1.663752      0.813936\n"
     ]
    },
    {
     "data": {
      "image/png": "[encoded data removed]",
      "text/plain": [
       "<Figure size 432x288 with 1 Axes>"
      ]
     },
     "metadata": {
      "needs_background": "light"
     },
     "output_type": "display_data"
    }
   ],
   "source": [
    "from tensorflow.keras import optimizers, regularizers\n",
    "\n",
    "def build_model_1_3():\n",
    "    model = models.Sequential(name=\"model_1_3\")\n",
    "    model.add(layers.Reshape((1024,), input_shape=(32,32,1)))\n",
    "    model.add(layers.Dense(500, activation='relu'))\n",
    "    model.add(layers.Dropout(0.2))\n",
    "#     model.add(layers.Dense(100, kernel_regularizer=regularizers.l2(0.0005), activation='relu'))\n",
    "    model.add(layers.Dense(250, activation='relu'))\n",
    "    model.add(layers.Dense(100, kernel_regularizer=regularizers.l2(0.0005), activation='sigmoid'))\n",
    "    model.add(layers.Dense(10, activation='softmax'))\n",
    "    rmsprop = optimizers.RMSprop(learning_rate=0.0003, rho=0.9) # alpha, 0.0001, 0.001, 0.003, 0.01 (nope)\n",
    "    model.compile(optimizer=rmsprop,\n",
    "                  loss='categorical_crossentropy',\n",
    "                  metrics=['accuracy'])\n",
    "    return model\n",
    "\n",
    "run_evaluation(\"model_1_3\", build_model_1_3, preprocessed_split, base_dir, \n",
    "               train=True, epochs=30, batch_size=32) # batch sizes, 16, 32, 64"
   ]
  },
  {
   "cell_type": "code",
   "execution_count": 109,
   "metadata": {
    "pycharm": {
     "name": "#%%\n"
    }
   },
   "outputs": [
    {
     "name": "stdout",
     "output_type": "stream",
     "text": [
      "Answer is 799 characters long\n"
     ]
    }
   ],
   "source": [
    "answer_q_1_3 = \"\"\"\n",
    "               I tried several strategies: dropout, l2 regularization on one or more layers, varying the amount of nodes/layer [100, .., 1000],\n",
    "               changing the learning rate [0.0001, 0.0003, 0.0005, 0.001], changing the batch size [16, 32, 64]. \n",
    "               Overall, increasing the nrof nodes seem to benefit the model until a certain point, the perceived sweet spot is used in the model above.\n",
    "               weight decay together with dropout seemed to counteract the overfitting of the model. \n",
    "               However when applying weight decay on all of the layers, the model performed a bit worse. \n",
    "               The results of the current model are only slightly better than the one without regularization, but still clearly seems to counteract the overfitting.\n",
    "               \"\"\"\n",
    "print(\"Answer is {} characters long\".format(len(answer_q_1_3)))"
   ]
  },
  {
   "cell_type": "markdown",
   "metadata": {
    "colab_type": "text",
    "id": "leo7YbI9L5et"
   },
   "source": [
    "## Part 2. Convolutional neural networks (10 points)\n",
    "### Question 2.1: Design a ConvNet (7 points)\n",
    "- Build a sequential convolutional neural network. Try to achieve the best validation accuracy you can. You should be able to get at least 90% accuracy. You can use any depth, any combination of layers, and any kind of regularization and tuning. \n",
    "- Add a description of your design choices in 'answer_q_2_1': explain what you did and also why. Also discuss the performance of the model. Is it working well? Both the performance of the model and your explanations matter.\n",
    "- You are allowed **800** characters for this answer (but don’t ramble).\n",
    "- The name of the model should be 'model_2_1'. Evaluate it using the 'run_evaluation' function and the preprocessed data."
   ]
  },
  {
   "cell_type": "code",
   "execution_count": 16,
   "metadata": {},
   "outputs": [],
   "source": [
    "def build_model_2_1():\n",
    "    model = models.Sequential(name=\"model_2_1\")\n",
    "    model.add(layers.Conv2D(32, (3, 3), activation='relu', padding='same', input_shape=(32, 32, 1)))\n",
    "    model.add(layers.Conv2D(32, (3, 3), activation='relu', padding='same', input_shape=(32, 32, 1)))\n",
    "    model.add(layers.MaxPooling2D((2, 2)))\n",
    "    model.add(layers.Dropout(0.2))\n",
    "    model.add(layers.Conv2D(64, (3, 3), activation='relu', padding='same'))\n",
    "    model.add(layers.Conv2D(64, (3, 3), activation='relu', padding='same'))\n",
    "    model.add(layers.MaxPooling2D((2, 2)))\n",
    "    model.add(layers.Dropout(0.2))\n",
    "    model.add(layers.Conv2D(128, (3, 3), activation='relu', padding='same'))\n",
    "    model.add(layers.Conv2D(128, (3, 3), activation='relu', padding='same'))\n",
    "    model.add(layers.MaxPooling2D((2, 2)))\n",
    "    model.add(layers.Dropout(0.2))\n",
    "    \n",
    "    model.add(layers.Flatten())\n",
    "    \n",
    "    model.add(layers.Dense(300, activation='relu'))\n",
    "    model.add(layers.Dropout(0.2))\n",
    "    model.add(layers.Dense(100, kernel_regularizer=regularizers.l2(0.0005), activation='sigmoid'))\n",
    "    model.add(layers.Dropout(0.2))\n",
    "    model.add(layers.Dense(10, activation='softmax'))\n",
    "    model.compile(optimizer='rmsprop',\n",
    "                  loss='categorical_crossentropy',\n",
    "                  metrics=['accuracy'])\n",
    "    return model"
   ]
  },
  {
   "cell_type": "code",
   "execution_count": 128,
   "metadata": {
    "colab": {
     "base_uri": "https://localhost:8080/",
     "height": 53
    },
    "colab_type": "code",
    "id": "ceyv-n1JRYyP",
    "outputId": "818e2fd1-77c1-4236-a8ee-dec7d9eb8a9e"
   },
   "outputs": [
    {
     "name": "stdout",
     "output_type": "stream",
     "text": [
      "\u001b[91mTraining the model\u001b[0m\n",
      "Train on 63544 samples, validate on 15887 samples\n",
      "Epoch 1/10\n",
      "63544/63544 [==============================] - 17s 262us/sample - loss: 2.2567 - accuracy: 0.1856 - val_loss: 2.2333 - val_accuracy: 0.1910\n",
      "Epoch 2/10\n",
      "63544/63544 [==============================] - 16s 245us/sample - loss: 1.0225 - accuracy: 0.6661 - val_loss: 0.4458 - val_accuracy: 0.8699\n",
      "Epoch 3/10\n",
      "63544/63544 [==============================] - 16s 247us/sample - loss: 0.4917 - accuracy: 0.8581 - val_loss: 0.3817 - val_accuracy: 0.8917\n",
      "Epoch 4/10\n",
      "63544/63544 [==============================] - 16s 247us/sample - loss: 0.4201 - accuracy: 0.8825 - val_loss: 0.3022 - val_accuracy: 0.9158\n",
      "Epoch 5/10\n",
      "63544/63544 [==============================] - 16s 251us/sample - loss: 0.3952 - accuracy: 0.8926 - val_loss: 0.3529 - val_accuracy: 0.9069\n",
      "Epoch 6/10\n",
      "63544/63544 [==============================] - 16s 256us/sample - loss: 0.3805 - accuracy: 0.8981 - val_loss: 0.2994 - val_accuracy: 0.9199\n",
      "Epoch 7/10\n",
      "63544/63544 [==============================] - 16s 247us/sample - loss: 0.3725 - accuracy: 0.9017 - val_loss: 0.3185 - val_accuracy: 0.9181\n",
      "Epoch 8/10\n",
      "63544/63544 [==============================] - 16s 252us/sample - loss: 0.3676 - accuracy: 0.9057 - val_loss: 0.3174 - val_accuracy: 0.9156\n",
      "Epoch 9/10\n",
      "63544/63544 [==============================] - 16s 250us/sample - loss: 0.3618 - accuracy: 0.9060 - val_loss: 0.2911 - val_accuracy: 0.9261\n",
      "Epoch 10/10\n",
      "63544/63544 [==============================] - 16s 249us/sample - loss: 0.3621 - accuracy: 0.9056 - val_loss: 0.3296 - val_accuracy: 0.9110\n",
      "\u001b[91mSaving to file\u001b[0m\n",
      "\u001b[91mModel stored in ./\u001b[0m\n",
      "Model: \"model_2_1\"\n",
      "_________________________________________________________________\n",
      "Layer (type)                 Output Shape              Param #   \n",
      "=================================================================\n",
      "conv2d_45 (Conv2D)           (None, 32, 32, 32)        320       \n",
      "_________________________________________________________________\n",
      "conv2d_46 (Conv2D)           (None, 32, 32, 32)        9248      \n",
      "_________________________________________________________________\n",
      "max_pooling2d_32 (MaxPooling (None, 16, 16, 32)        0         \n",
      "_________________________________________________________________\n",
      "dropout_47 (Dropout)         (None, 16, 16, 32)        0         \n",
      "_________________________________________________________________\n",
      "conv2d_47 (Conv2D)           (None, 16, 16, 64)        18496     \n",
      "_________________________________________________________________\n",
      "conv2d_48 (Conv2D)           (None, 16, 16, 64)        36928     \n",
      "_________________________________________________________________\n",
      "max_pooling2d_33 (MaxPooling (None, 8, 8, 64)          0         \n",
      "_________________________________________________________________\n",
      "dropout_48 (Dropout)         (None, 8, 8, 64)          0         \n",
      "_________________________________________________________________\n",
      "conv2d_49 (Conv2D)           (None, 8, 8, 128)         73856     \n",
      "_________________________________________________________________\n",
      "conv2d_50 (Conv2D)           (None, 8, 8, 128)         147584    \n",
      "_________________________________________________________________\n",
      "max_pooling2d_34 (MaxPooling (None, 4, 4, 128)         0         \n",
      "_________________________________________________________________\n",
      "dropout_49 (Dropout)         (None, 4, 4, 128)         0         \n",
      "_________________________________________________________________\n",
      "flatten_13 (Flatten)         (None, 2048)              0         \n",
      "_________________________________________________________________\n",
      "dense_219 (Dense)            (None, 300)               614700    \n",
      "_________________________________________________________________\n",
      "dropout_50 (Dropout)         (None, 300)               0         \n",
      "_________________________________________________________________\n",
      "dense_220 (Dense)            (None, 100)               30100     \n",
      "_________________________________________________________________\n",
      "dropout_51 (Dropout)         (None, 100)               0         \n",
      "_________________________________________________________________\n",
      "dense_221 (Dense)            (None, 10)                1010      \n",
      "=================================================================\n",
      "Total params: 932,242\n",
      "Trainable params: 932,242\n",
      "Non-trainable params: 0\n",
      "_________________________________________________________________\n",
      "None\n",
      "         loss  accuracy  val_loss  val_accuracy\n",
      "min  0.361803  0.185572  0.291108      0.190974\n",
      "max  2.256725  0.905955  2.233289      0.926103\n"
     ]
    },
    {
     "data": {
      "image/png": "[encoded data removed]",
      "text/plain": [
       "<Figure size 432x288 with 1 Axes>"
      ]
     },
     "metadata": {
      "needs_background": "light"
     },
     "output_type": "display_data"
    }
   ],
   "source": [
    "run_evaluation(\"model_2_1\", build_model_2_1, preprocessed_split, base_dir, \n",
    "               train=True, epochs=10, batch_size=32)\n"
   ]
  },
  {
   "cell_type": "code",
   "execution_count": 130,
   "metadata": {},
   "outputs": [
    {
     "name": "stdout",
     "output_type": "stream",
     "text": [
      "Answer is 782 characters long\n"
     ]
    }
   ],
   "source": [
    "answer_q_2_1 = \"\"\"\n",
    "               To start, I used a template from the covNets lab session, and made modifications along the way.\n",
    "               The initial model was the VGG model from exercise 2, completed with a similar set of dense layers as in exercise 1 of this assignment.\n",
    "               When using this model, it came clear that the model was overfitting while also not achieving very high accuracy.\n",
    "               Adding some regularization such as dropout and weight decay shifted the accuracy up by ~0.8 and showed deminishing overfitting in the graph. \n",
    "               I also tried messing around with the amount of nodes and layers again, but these changes either barely made a difference (usually more overfitting when increasing the amount) or resulted in less accuracy.\n",
    "               \"\"\"\n",
    "print(\"Answer is {} characters long\".format(len(answer_q_2_1)))"
   ]
  },
  {
   "cell_type": "markdown",
   "metadata": {
    "colab_type": "text",
    "id": "EpdLTbPwXmOc"
   },
   "source": [
    "### Question 2.2: Data Augmentation (3 points)\n",
    "\n",
    "- Augment the preprocessed training data. You can explore using image shifts, rotations, zooming, flips, etc. What works well, and what does not?\n",
    "- Evaluate the model from question 2.1 with the augmented data using the 'run_evaluation' function. Store the new trained model as 'model_2_2'.\n",
    "- Add a description of your design choices in 'answer_q_2_2': explain what you did and also why. Also discuss the performance of the model."
   ]
  },
  {
   "cell_type": "code",
   "execution_count": 188,
   "metadata": {
    "colab": {
     "base_uri": "https://localhost:8080/",
     "height": 53
    },
    "colab_type": "code",
    "id": "cp8wMUU-aqhQ",
    "outputId": "4cdfe1e6-2c8f-4f19-ca46-cd283fe66113"
   },
   "outputs": [
    {
     "name": "stdout",
     "output_type": "stream",
     "text": [
      "\u001b[91mGenerating augmented training data\u001b[0m\n",
      "10000/63544 training samples augmented\n",
      "20000/63544 training samples augmented\n",
      "30000/63544 training samples augmented\n",
      "40000/63544 training samples augmented\n",
      "50000/63544 training samples augmented\n",
      "60000/63544 training samples augmented\n",
      "\u001b[91mTraining the model\u001b[0m\n",
      "Train on 63544 samples, validate on 15887 samples\n",
      "Epoch 1/10\n",
      "63544/63544 [==============================] - 18s 276us/sample - loss: 1.9393 - accuracy: 0.3135 - val_loss: 0.7810 - val_accuracy: 0.7614\n",
      "Epoch 2/10\n",
      "63544/63544 [==============================] - 16s 247us/sample - loss: 0.8079 - accuracy: 0.7505 - val_loss: 0.3890 - val_accuracy: 0.8890\n",
      "Epoch 3/10\n",
      "63544/63544 [==============================] - 17s 261us/sample - loss: 0.5983 - accuracy: 0.8235 - val_loss: 0.3084 - val_accuracy: 0.9152\n",
      "Epoch 4/10\n",
      "63544/63544 [==============================] - 16s 247us/sample - loss: 0.5278 - accuracy: 0.8487 - val_loss: 0.3382 - val_accuracy: 0.9078\n",
      "Epoch 5/10\n",
      "63544/63544 [==============================] - 16s 248us/sample - loss: 0.4930 - accuracy: 0.8611 - val_loss: 0.2990 - val_accuracy: 0.9172\n",
      "Epoch 6/10\n",
      "63544/63544 [==============================] - 16s 247us/sample - loss: 0.4795 - accuracy: 0.8652 - val_loss: 0.2726 - val_accuracy: 0.9284\n",
      "Epoch 7/10\n",
      "63544/63544 [==============================] - 16s 248us/sample - loss: 0.4762 - accuracy: 0.8692 - val_loss: 0.2846 - val_accuracy: 0.9271\n",
      "Epoch 8/10\n",
      "63544/63544 [==============================] - 17s 262us/sample - loss: 0.4581 - accuracy: 0.8741 - val_loss: 0.2721 - val_accuracy: 0.9324\n",
      "Epoch 9/10\n",
      "63544/63544 [==============================] - 16s 250us/sample - loss: 0.4571 - accuracy: 0.8753 - val_loss: 0.2945 - val_accuracy: 0.9282\n",
      "Epoch 10/10\n",
      "63544/63544 [==============================] - 16s 245us/sample - loss: 0.4540 - accuracy: 0.8753 - val_loss: 0.2754 - val_accuracy: 0.9274\n",
      "\u001b[91mSaving to file\u001b[0m\n",
      "\u001b[91mModel stored in ./\u001b[0m\n",
      "Model: \"model_2_1\"\n",
      "_________________________________________________________________\n",
      "Layer (type)                 Output Shape              Param #   \n",
      "=================================================================\n",
      "conv2d_183 (Conv2D)          (None, 32, 32, 32)        320       \n",
      "_________________________________________________________________\n",
      "conv2d_184 (Conv2D)          (None, 32, 32, 32)        9248      \n",
      "_________________________________________________________________\n",
      "max_pooling2d_101 (MaxPoolin (None, 16, 16, 32)        0         \n",
      "_________________________________________________________________\n",
      "dropout_162 (Dropout)        (None, 16, 16, 32)        0         \n",
      "_________________________________________________________________\n",
      "conv2d_185 (Conv2D)          (None, 16, 16, 64)        18496     \n",
      "_________________________________________________________________\n",
      "conv2d_186 (Conv2D)          (None, 16, 16, 64)        36928     \n",
      "_________________________________________________________________\n",
      "max_pooling2d_102 (MaxPoolin (None, 8, 8, 64)          0         \n",
      "_________________________________________________________________\n",
      "dropout_163 (Dropout)        (None, 8, 8, 64)          0         \n",
      "_________________________________________________________________\n",
      "conv2d_187 (Conv2D)          (None, 8, 8, 128)         73856     \n",
      "_________________________________________________________________\n",
      "conv2d_188 (Conv2D)          (None, 8, 8, 128)         147584    \n",
      "_________________________________________________________________\n",
      "max_pooling2d_103 (MaxPoolin (None, 4, 4, 128)         0         \n",
      "_________________________________________________________________\n",
      "dropout_164 (Dropout)        (None, 4, 4, 128)         0         \n",
      "_________________________________________________________________\n",
      "flatten_36 (Flatten)         (None, 2048)              0         \n",
      "_________________________________________________________________\n",
      "dense_288 (Dense)            (None, 300)               614700    \n",
      "_________________________________________________________________\n",
      "dropout_165 (Dropout)        (None, 300)               0         \n",
      "_________________________________________________________________\n",
      "dense_289 (Dense)            (None, 100)               30100     \n",
      "_________________________________________________________________\n",
      "dropout_166 (Dropout)        (None, 100)               0         \n",
      "_________________________________________________________________\n",
      "dense_290 (Dense)            (None, 10)                1010      \n",
      "=================================================================\n",
      "Total params: 932,242\n",
      "Trainable params: 932,242\n",
      "Non-trainable params: 0\n",
      "_________________________________________________________________\n",
      "None\n",
      "         loss  accuracy  val_loss  val_accuracy\n",
      "min  0.453955  0.313484  0.272133      0.761377\n",
      "max  1.939327  0.875331  0.781044      0.932398\n"
     ]
    },
    {
     "data": {
      "image/png": "[encoded data removed]",
      "text/plain": [
       "<Figure size 432x288 with 1 Axes>"
      ]
     },
     "metadata": {
      "needs_background": "light"
     },
     "output_type": "display_data"
    }
   ],
   "source": [
    "# Note that we build the same untrained model as in question 2.1 but store the \n",
    "# trained version as model_2_2. Change attributes as needed to run on augmented\n",
    "# data\n",
    "from tensorflow.keras.preprocessing import image\n",
    "\n",
    "tr_datagen = ImageDataGenerator(\n",
    "    rotation_range=15,\n",
    "    width_shift_range=0.1,\n",
    "    height_shift_range=0.1,\n",
    "    shear_range=0.1,\n",
    "    zoom_range=0.2,\n",
    "    horizontal_flip=False,\n",
    "    vertical_flip=False,\n",
    ")\n",
    "\n",
    "shout('Generating augmented training data')\n",
    "X_ta = np.copy(X_t)\n",
    "for i in range(len(X_ta)):\n",
    "    for x_a in tr_datagen.flow(X_ta[i].reshape((1,) + X_ta[i].shape), batch_size=1):\n",
    "        X_ta[i] = x_a[0]\n",
    "        break\n",
    "    if i % 10000 == 0 and i!=0:\n",
    "        print(f\"{i}/{len(X_ta)} training samples augmented\")\n",
    "\n",
    "# shout('Generating augmented validation data')\n",
    "# X_va = np.copy(X_v)\n",
    "# for i in range(len(X_va)):\n",
    "#     for x_a in v_datagen.flow(X_va[i].reshape((1,) + X_va[i].shape), batch_size=1):\n",
    "#         X_ta[i] = x_a[0]\n",
    "#         break\n",
    "#     if i % 20000 == 0 and i!=0:\n",
    "#         print(f\"{i} validation samples augmented\")\n",
    "\n",
    "augmented_split = X_ta, X_v, y_train, y_val\n",
    "\n",
    "# -------------------------\n",
    "\n",
    "run_evaluation(\"model_2_2\", build_model_2_1, augmented_split, base_dir, \n",
    "               train=True, epochs=10, batch_size=32)\n"
   ]
  },
  {
   "cell_type": "code",
   "execution_count": 187,
   "metadata": {},
   "outputs": [
    {
     "name": "stdout",
     "output_type": "stream",
     "text": [
      "Answer is 524 characters long\n"
     ]
    }
   ],
   "source": [
    "answer_q_2_2 = \"\"\"\n",
    "               For data augmentation, I used the ImageDataGenerator to generate a new set of images and tried several combinations of augmentations.\n",
    "               When I started pushing parameters past certain values (> 30 rotation range, > 0.4 zoom range) the performance of the model dropped significantly.\n",
    "               Also, flipping images caused the model to decrease in performance.\n",
    "               In general, all minor modifications decreased overfitting while increasing the validation accuracy. \n",
    "               \"\"\"\n",
    "print(\"Answer is {} characters long\".format(len(answer_q_2_2)))"
   ]
  },
  {
   "cell_type": "markdown",
   "metadata": {
    "colab_type": "text",
    "id": "Nb8jrFlnbBUP"
   },
   "source": [
    "## Part 3. Model interpretation (10 points)\n",
    "### Question 3.1: Interpreting misclassifications (2 points)\n",
    "Study which errors are still made by your last model (model_2_2) by evaluating it on the test data. You do not need to retrain the model.\n",
    "* What is the accuracy of model_2_2 on the test data? Store this in 'test_accuracy_3_1'.\n",
    "* Plot the confusion matrix in 'plot_confusion_matrix' and discuss which classes are often confused.\n",
    "* Visualize the misclassifications in more depth by focusing on a single\n",
    "class (e.g. the number '2') and analyse which kinds of mistakes are made for that class. For instance, are the errors related to the background, noisiness, etc.? Implement the visualization in 'plot_misclassifications'.\n",
    "* Summarize your findings in 'answer_q_3_1'"
   ]
  },
  {
   "cell_type": "code",
   "execution_count": 234,
   "metadata": {
    "colab": {},
    "colab_type": "code",
    "id": "yNg-7JsSbn2-"
   },
   "outputs": [
    {
     "name": "stdout",
     "output_type": "stream",
     "text": [
      "19858/19858 [==============================] - 2s 119us/sample - loss: 0.2738 - accuracy: 0.9280\n"
     ]
    },
    {
     "data": {
      "image/png": "[encoded data removed]",
      "text/plain": [
       "<Figure size 432x288 with 1 Axes>"
      ]
     },
     "metadata": {
      "needs_background": "light"
     },
     "output_type": "display_data"
    },
    {
     "data": {
      "image/png": "[encoded data removed]",
      "text/plain": [
       "<Figure size 1152x360 with 8 Axes>"
      ]
     },
     "metadata": {},
     "output_type": "display_data"
    }
   ],
   "source": [
    "from sklearn.metrics import confusion_matrix\n",
    "model = load_model_from_file(base_dir, \"model_2_2\")\n",
    "X_te = rgb2gray(X_test) # changing to grayscale, model does not accept 3 colors\n",
    "score = model.evaluate(X_te, y_test)\n",
    "test_accuracy_3_1 = score[1]\n",
    "\n",
    "y_pred = model.predict(X_te)\n",
    "\n",
    "def plot_confusion_matrix(y_pred):\n",
    "    cm = confusion_matrix(np.argmax(y_test, axis=1),np.argmax(y_pred, axis=1))\n",
    "    fig, ax = plt.subplots()\n",
    "    im = ax.imshow(cm)\n",
    "    ax.set_xticks(np.arange(10)), ax.set_yticks(np.arange(10))\n",
    "    ax.set_ylabel('True')\n",
    "    ax.set_xlabel('Predicted')\n",
    "    for i in range(100):\n",
    "        ax.text(int(i/10),i%10,cm[i%10,int(i/10)], ha=\"center\", va=\"center\", color=\"w\")\n",
    "        \n",
    "def plot_misclassifications(y_pred):\n",
    "    misclassified_samples = np.nonzero(np.argmax(y_test, axis=1) != np.argmax(y_pred, axis=1))[0]\n",
    "    y_mis = []\n",
    "    # if there's an easier way of doing this, please tell me :D\n",
    "    for j in range(len(y_test)):\n",
    "        if np.argmax(y_test[j]) == 5 and j in misclassified_samples:\n",
    "            y_mis.append(j)\n",
    "        if len(y_mis) == 8:\n",
    "            break\n",
    "    \n",
    "    fig, axes = plt.subplots(1, 8,  figsize=(16, 5))\n",
    "    for nr, i in enumerate(y_mis):\n",
    "        axes[nr].imshow(X_test[i]) # note: these are the unaugmented images\n",
    "        axes[nr].set_xlabel(f\"Predicted: {(np.argmax(y_pred[i]) + 1)%10},\\n Actual : {(np.argmax(y_test[i]) + 1)%10}\")\n",
    "        axes[nr].set_xticks(()), axes[nr].set_yticks(())\n",
    "    \n",
    "\n",
    "plot_confusion_matrix(y_pred)\n",
    "plot_misclassifications(y_pred)"
   ]
  },
  {
   "cell_type": "code",
   "execution_count": 238,
   "metadata": {},
   "outputs": [
    {
     "name": "stdout",
     "output_type": "stream",
     "text": [
      "Answer is 510 characters long\n"
     ]
    }
   ],
   "source": [
    "answer_q_3_1 = \"\"\"\n",
    "               From the confusion matrix, it appears that higher digits are harder to classify; this most likely occurs due to the fact that the digits have more similarities between eachother in this range.\n",
    "               Most misclassified samples are predicted as 0s, most likely due to the similarities in shape.\n",
    "               I've choosen to observe 6 as as 128 samples of 6s are being classified as 0s. The samples show that the misclassification might be caused by noise or blurryness.\n",
    "               \"\"\"\n",
    "print(\"Answer is {} characters long\".format(len(answer_q_3_1)))"
   ]
  },
  {
   "cell_type": "markdown",
   "metadata": {
    "colab_type": "text",
    "id": "EBRdBpz5Hcrx"
   },
   "source": [
    "### Question 3.2: Visualizing activations (4 points)\n",
    "* Implement a function `plot_activations()` that returns the most interesting activations (feature maps). Select the first example from the test set. Retrieve and visualize the activations of model 2_2 for that example (make sure you load that model in the function), for every filter for different convolutional layers (at different depths in the network).\n",
    "* Give an explanation (as detailed as you can) about your observations in 'answer_q_3_2'. Is your model indeed learning something useful?"
   ]
  },
  {
   "cell_type": "code",
   "execution_count": 263,
   "metadata": {
    "colab": {},
    "colab_type": "code",
    "id": "TyQ-IHHcN5Qc"
   },
   "outputs": [
    {
     "data": {
      "image/png": "[encoded data removed]",
      "text/plain": [
       "<Figure size 720x480 with 11 Axes>"
      ]
     },
     "metadata": {},
     "output_type": "display_data"
    }
   ],
   "source": [
    "model = load_model_from_file(base_dir, \"model_2_2\")\n",
    "x = np.expand_dims(rgb2gray(X_test)[0], axis=0) # first sample\n",
    "\n",
    "def plot_activations(model, x):\n",
    "    # Extracts the outputs of the top layers:\n",
    "    layer_outputs = [layer.output for layer in model.layers[:10]]\n",
    "    # Creates a model that will return these outputs, given the model input:\n",
    "    activation_model = models.Model(inputs=model.input, outputs=layer_outputs)\n",
    "\n",
    "    # This will return a list of 5 Numpy arrays:\n",
    "    # one array per layer activation\n",
    "    activations = activation_model.predict(x)\n",
    "    \n",
    "    plt.rcParams['figure.dpi'] = 120\n",
    "    first_layer_activation = activations[0]\n",
    "    \n",
    "    start = 1\n",
    "    nr = 11\n",
    "    f, axes = plt.subplots(1, nr - start + 1, sharey=True)\n",
    "    axes[0].imshow(X_test[0])\n",
    "    axes[0].set_xticks([])\n",
    "    axes[0].set_yticks([])\n",
    "    axes[0].set_xlabel('Input image', fontsize=6)\n",
    "    for i in range(start, nr):\n",
    "        axes[i-start+1].matshow(first_layer_activation[0, :, :, i], cmap='viridis')\n",
    "        axes[i-start+1].set_xticks([])\n",
    "        axes[i-start+1].set_yticks([])\n",
    "        axes[i-start+1].set_xlabel(f'layer {i}', fontsize=6);\n",
    "\n",
    "plot_activations(model, x)"
   ]
  },
  {
   "cell_type": "code",
   "execution_count": 265,
   "metadata": {},
   "outputs": [
    {
     "name": "stdout",
     "output_type": "stream",
     "text": [
      "Answer is 337 characters long\n"
     ]
    }
   ],
   "source": [
    "answer_q_3_2 = \"\"\"\n",
    "               The activations on layers 3, 4 and 5 show that using different filters manipulates the image such that the structural data of the image is interpreted even better and thus taken into account when training.\n",
    "               The different filters used per layer give the network more information to work with.\n",
    "               \"\"\"\n",
    "print(\"Answer is {} characters long\".format(len(answer_q_3_2)))"
   ]
  },
  {
   "cell_type": "markdown",
   "metadata": {
    "colab_type": "text",
    "id": "6a4XT0-7Ym25"
   },
   "source": [
    "### Question 3.3: Visualizing activations (4 points)\n",
    "* Again, select the first example from the test set, and the trained model_2_2.\n",
    "* Implement a function `plot_activation_map()` that builds and shows a class activation map for your last convolutional layer that highlights what the model is paying attention to when classifying the example.\n",
    "* If possible, superimpossible the activation map over the image. If not, plot\n",
    "them side by side. Implement a function 'plot_3_3' that returns the entire plot."
   ]
  },
  {
   "cell_type": "code",
   "execution_count": 30,
   "metadata": {
    "colab": {},
    "colab_type": "code",
    "id": "vsmqYQl2ZZ4n"
   },
   "outputs": [
    {
     "data": {
      "image/png": "[encoded data removed]",
      "text/plain": [
       "<Figure size 432x288 with 2 Axes>"
      ]
     },
     "metadata": {},
     "output_type": "display_data"
    }
   ],
   "source": [
    "# the following piece of code is based on this example:\n",
    "# \"https://www.sicara.ai/blog/2019-08-28-interpretability-deep-learning-tensorflow\"\n",
    "\n",
    "import cv2\n",
    "from tensorflow.keras import backend as K\n",
    "K.clear_session()\n",
    "\n",
    "def plot_3_3():\n",
    "    model = load_model_from_file(base_dir, \"model_2_2\")\n",
    "    x = np.expand_dims(rgb2gray(X_test)[0], axis=0) # first sample\n",
    "    \n",
    "    # Create a graph that outputs target convolution and output\n",
    "    grad_model = tf.keras.models.Model([model.inputs], [model.get_layer(index=10).output, model.output])\n",
    "\n",
    "    # Get the score for target class\n",
    "    with tf.GradientTape() as tape:\n",
    "        conv_outputs, predictions = grad_model(x)\n",
    "        loss = predictions[:, 7]\n",
    "\n",
    "    # Extract filters and gradients\n",
    "    output = conv_outputs[0]\n",
    "    grads = tape.gradient(loss, conv_outputs)[0]\n",
    "\n",
    "    # Average gradients spatially\n",
    "    weights = tf.reduce_mean(grads, axis=(0, 1))\n",
    "\n",
    "    # Build a ponderated map of filters according to gradients importance\n",
    "    cam = np.ones(output.shape[0:2], dtype=np.float32)\n",
    "\n",
    "    for index, w in enumerate(weights):\n",
    "        cam += w * output[:, :, index]\n",
    "\n",
    "    # Heatmap visualization\n",
    "    cam = cv2.resize(cam.numpy(), (224, 224))\n",
    "    cam = np.maximum(cam, 0)\n",
    "    heatmap = (cam - cam.min()) / (cam.max() - cam.min())\n",
    "\n",
    "    cam = cv2.applyColorMap(np.uint8(255*heatmap), cv2.COLORMAP_JET)\n",
    "    f, ax = plt.subplots(1, 2)\n",
    "\n",
    "    ax[0].imshow(X_test[0])\n",
    "    ax[0].set_xticks([])\n",
    "    ax[0].set_yticks([])\n",
    "    ax[0].set_xlabel('Input image', fontsize=12)\n",
    "\n",
    "    ax[1].matshow(cam, cmap='viridis')\n",
    "    ax[1].set_xticks([])\n",
    "    ax[1].set_yticks([])\n",
    "    ax[1].set_xlabel(f'activation map', fontsize=12)\n",
    "\n",
    "plot_3_3()"
   ]
  },
  {
   "cell_type": "markdown",
   "metadata": {
    "colab_type": "text",
    "id": "buQLQ16EypgL"
   },
   "source": [
    "## Part 4. Transfer learning (10 points)\n",
    "### Question 4.1 Fast feature extraction with VGG16 (5 points)\n",
    "- Import the VGG16 model, pretrained on ImageNet. [See here](https://keras.io/applications/). Only import the convolutional part, not the dense layers.\n",
    "- Implement a function 'build_model_4_1` that adds a dense layer to the convolutional base, and freezes the convolutional base. Consider unfreezing the last few convolutional layers and evaluate whether that works better.\n",
    "- Train the resulting model on the *original* (colored) training data\n",
    "- Evaluate the resulting model using 'run_evaluate'. Discuss the observed performance in 'answer_q_4_1'."
   ]
  },
  {
   "cell_type": "code",
   "execution_count": 18,
   "metadata": {
    "colab": {
     "base_uri": "https://localhost:8080/",
     "height": 53
    },
    "colab_type": "code",
    "id": "QXH1Z7Pqj3HW",
    "outputId": "f16a8d67-a115-464a-d06d-f7eaacc9f905"
   },
   "outputs": [
    {
     "name": "stdout",
     "output_type": "stream",
     "text": [
      "Model: \"vgg16\"\n",
      "_________________________________________________________________\n",
      "Layer (type)                 Output Shape              Param #   \n",
      "=================================================================\n",
      "input_3 (InputLayer)         [(None, 32, 32, 3)]       0         \n",
      "_________________________________________________________________\n",
      "block1_conv1 (Conv2D)        (None, 32, 32, 64)        1792      \n",
      "_________________________________________________________________\n",
      "block1_conv2 (Conv2D)        (None, 32, 32, 64)        36928     \n",
      "_________________________________________________________________\n",
      "block1_pool (MaxPooling2D)   (None, 16, 16, 64)        0         \n",
      "_________________________________________________________________\n",
      "block2_conv1 (Conv2D)        (None, 16, 16, 128)       73856     \n",
      "_________________________________________________________________\n",
      "block2_conv2 (Conv2D)        (None, 16, 16, 128)       147584    \n",
      "_________________________________________________________________\n",
      "block2_pool (MaxPooling2D)   (None, 8, 8, 128)         0         \n",
      "_________________________________________________________________\n",
      "block3_conv1 (Conv2D)        (None, 8, 8, 256)         295168    \n",
      "_________________________________________________________________\n",
      "block3_conv2 (Conv2D)        (None, 8, 8, 256)         590080    \n",
      "_________________________________________________________________\n",
      "block3_conv3 (Conv2D)        (None, 8, 8, 256)         590080    \n",
      "_________________________________________________________________\n",
      "block3_pool (MaxPooling2D)   (None, 4, 4, 256)         0         \n",
      "_________________________________________________________________\n",
      "block4_conv1 (Conv2D)        (None, 4, 4, 512)         1180160   \n",
      "_________________________________________________________________\n",
      "block4_conv2 (Conv2D)        (None, 4, 4, 512)         2359808   \n",
      "_________________________________________________________________\n",
      "block4_conv3 (Conv2D)        (None, 4, 4, 512)         2359808   \n",
      "_________________________________________________________________\n",
      "block4_pool (MaxPooling2D)   (None, 2, 2, 512)         0         \n",
      "_________________________________________________________________\n",
      "block5_conv1 (Conv2D)        (None, 2, 2, 512)         2359808   \n",
      "_________________________________________________________________\n",
      "block5_conv2 (Conv2D)        (None, 2, 2, 512)         2359808   \n",
      "_________________________________________________________________\n",
      "block5_conv3 (Conv2D)        (None, 2, 2, 512)         2359808   \n",
      "_________________________________________________________________\n",
      "block5_pool (MaxPooling2D)   (None, 1, 1, 512)         0         \n",
      "=================================================================\n",
      "Total params: 14,714,688\n",
      "Trainable params: 14,714,688\n",
      "Non-trainable params: 0\n",
      "_________________________________________________________________\n",
      "\u001b[91mTraining the model\u001b[0m\n",
      "Train on 63544 samples, validate on 15887 samples\n",
      "Epoch 1/5\n",
      "63544/63544 [==============================] - 69s 1ms/sample - loss: 1.0124 - accuracy: 0.6604 - val_loss: 0.7675 - val_accuracy: 0.7468\n",
      "Epoch 2/5\n",
      "63544/63544 [==============================] - 75s 1ms/sample - loss: 0.7523 - accuracy: 0.7567 - val_loss: 0.7517 - val_accuracy: 0.7543\n",
      "Epoch 3/5\n",
      "63544/63544 [==============================] - 80s 1ms/sample - loss: 0.6727 - accuracy: 0.7889 - val_loss: 0.7034 - val_accuracy: 0.7772\n",
      "Epoch 4/5\n",
      "63544/63544 [==============================] - 84s 1ms/sample - loss: 0.6229 - accuracy: 0.8060 - val_loss: 0.8307 - val_accuracy: 0.7573\n",
      "Epoch 5/5\n",
      "63544/63544 [==============================] - 61s 957us/sample - loss: 0.5857 - accuracy: 0.8194 - val_loss: 0.6985 - val_accuracy: 0.8014\n",
      "\u001b[91mSaving to file\u001b[0m\n",
      "\u001b[91mModel stored in ./\u001b[0m\n",
      "Model: \"sequential_1\"\n",
      "_________________________________________________________________\n",
      "Layer (type)                 Output Shape              Param #   \n",
      "=================================================================\n",
      "vgg16 (Model)                (None, 1, 1, 512)         14714688  \n",
      "_________________________________________________________________\n",
      "flatten_1 (Flatten)          (None, 512)               0         \n",
      "_________________________________________________________________\n",
      "dense_2 (Dense)              (None, 10)                5130      \n",
      "=================================================================\n",
      "Total params: 14,719,818\n",
      "Trainable params: 7,084,554\n",
      "Non-trainable params: 7,635,264\n",
      "_________________________________________________________________\n",
      "None\n",
      "         loss  accuracy  val_loss  val_accuracy\n",
      "min  0.585742  0.660440  0.698548      0.746837\n",
      "max  1.012412  0.819416  0.830744      0.801410\n"
     ]
    },
    {
     "data": {
      "image/png": "[encoded data removed]",
      "text/plain": [
       "<Figure size 432x288 with 1 Axes>"
      ]
     },
     "metadata": {
      "needs_background": "light"
     },
     "output_type": "display_data"
    }
   ],
   "source": [
    "from tensorflow.keras.applications.vgg16 import VGG16\n",
    "from tensorflow.keras import models, layers, optimizers, regularizers\n",
    "\n",
    "def build_model_4_1():\n",
    "    base_model = VGG16(weights='imagenet', include_top=False, input_shape=(32, 32, 3))\n",
    "#     base_model.trainable = False\n",
    "\n",
    "    base_model.summary()\n",
    "    freeze_until = 15 # total nrof layers in base_model is 19\n",
    "\n",
    "    for layer in base_model.layers[:freeze_until]:\n",
    "        layer.trainable = False\n",
    "    \n",
    "    #------\n",
    "    \n",
    "    model = tf.keras.Sequential([\n",
    "        base_model,\n",
    "        layers.Flatten(),\n",
    "#         layers.Dense(100, activation=\"relu\"), # \"a\" dense layer, does that include the output layer?\n",
    "        layers.Dense(10, activation=\"softmax\"),\n",
    "    ])\n",
    "    \n",
    "    rmsprop = optimizers.RMSprop(learning_rate=0.0003, rho=0.9)\n",
    "    model.compile(optimizer=rmsprop,\n",
    "                  loss='categorical_crossentropy',\n",
    "                  metrics=['accuracy'])\n",
    "    \n",
    "    return model\n",
    "\n",
    "evaluation_split = X_train, X_val, y_train, y_val\n",
    "run_evaluation(\"model_4_1\", build_model_4_1, evaluation_split, base_dir, \n",
    "               train=True, epochs=5, batch_size=32)\n"
   ]
  },
  {
   "cell_type": "code",
   "execution_count": null,
   "metadata": {},
   "outputs": [],
   "source": [
    "answer_q_4_1 = \"\"\"\n",
    "               The model seems to perform better once more of its convolutional layers remain unfrozen (none frozen = 0.89 val_acc), \n",
    "               however this comes at the cost that it overfits significantly more.\n",
    "               Besides that, the model also seems to perform worse that the final model created in exercise 2.2.\n",
    "               This could be due to the fact that the pretrained layers are trained on much different data (ImageNet / SVHN).\n",
    "               \"\"\"\n",
    "print(\"Answer is {} characters long\".format(len(answer_q_4_1)))"
   ]
  },
  {
   "cell_type": "markdown",
   "metadata": {
    "colab_type": "text",
    "id": "cp60rxZTYI8O"
   },
   "source": [
    "### Question 4.2 Embeddings and pipelines (5 points)\n",
    "- Generate embeddings of the original images by running them through the trained convolutional part of model_4_1 (without the dense layer) and returning the output. Embed the training and test data and store them to disk using the helper functions below. Implement a function `store_embeddings` that loads model_4_1 and stores all necessary embeddings to file. Make sure to run it once so that the embeddings are stored (and submitted).\n",
    "- Implement a function 'generate_pipeline' that returns an scikit-learn pipeline. You can use any non-deep learning technique (eg. SVMs, RFs,...), and preprocessing technique. You can do model selection using the validation set. \n",
    "- Implement a function 'evaluate_pipeline' that evaluates a given pipeline on a given training and test set. \n",
    "- Implement a function 'evaluation_4_2' that evaluates your pipeline on the embedded training and test set (loaded from file) and returns the accuracy. \n",
    "- Describe what you did and what you observed. Report the obtained accuracy score. Can you beat your best model thus far?"
   ]
  },
  {
   "cell_type": "code",
   "execution_count": null,
   "metadata": {
    "colab": {
     "base_uri": "https://localhost:8080/",
     "height": 35
    },
    "colab_type": "code",
    "id": "IQo_zskOrs_m",
    "outputId": "f2b0314f-9953-43e6-c1c8-56f5cd7a5dcf"
   },
   "outputs": [
    {
     "name": "stdout",
     "output_type": "stream",
     "text": [
      "\u001b[91mcreating embeddings\u001b[0m\n",
      "(63544, 1, 1, 512)\n",
      "(15887, 1, 1, 512)\n"
     ]
    }
   ],
   "source": [
    "import pickle\n",
    "import gzip\n",
    "from sklearn.pipeline import Pipeline\n",
    "from sklearn.preprocessing import StandardScaler, OneHotEncoder\n",
    "from sklearn.svm import SVC\n",
    "\n",
    "def store_embedding(X, name):  \n",
    "    with gzip.open(os.path.join(base_dir, name+'_embedding.p'), 'wb') as file_pi:\n",
    "        pickle.dump(X, file_pi)\n",
    "\n",
    "def load_embedding(name):\n",
    "    with gzip.open(os.path.join(base_dir, name+'_embedding.p'), 'rb') as file_pi:\n",
    "        return pickle.load(file_pi)\n",
    "\n",
    "def store_embeddings():\n",
    "    \"\"\" Stores all necessary embeddings to file\n",
    "    \"\"\"\n",
    "    \n",
    "    shout(\"creating embeddings\")\n",
    "    model = load_model_from_file(base_dir, \"model_4_1\")\n",
    "    conv = tf.keras.Sequential([model.layers[0]])\n",
    "    X_tb = conv.predict(X_train)\n",
    "    print(X_tb.shape)\n",
    "    X_vb = conv.predict(X_val)\n",
    "    print(X_vb.shape)\n",
    "    # for some reason the program got stuck on these statements\n",
    "    store_embedding(X, 'train')\n",
    "    store_embedding(X, 'val')\n",
    "    \n",
    "\n",
    "def generate_pipeline():\n",
    "    \"\"\" Returns an sklearn pipeline.\n",
    "    \"\"\"\n",
    "\n",
    "    numeric_transformer = Pipeline(steps=[('scaler', StandardScaler())])\n",
    "#     preprocessor = ColumnTransformer(\n",
    "#         transformers=[('num', numeric_transformer, numeric_features)])\n",
    "\n",
    "    return Pipeline(steps=[('preprocessor', numeric_transformer),\n",
    "                          ('classifier', SVC())])\n",
    "    \n",
    "\n",
    "def evaluate_pipeline(pipeline, X_train, y_train, X_test, y_test):\n",
    "    \"\"\" Evaluates the given pipeline, trained on the given embedded training set and \n",
    "      evaluated on the supplied embedded test set. Returns the accuracy score.\n",
    "    \"\"\"\n",
    "    shout(\"training pipeline\")\n",
    "    pipeline.fit(X_train, y_train)\n",
    "    acc = pipeline.score(X_test, y_test)\n",
    "    return acc\n",
    "\n",
    "def evaluation_4_2(X_train, y_train, X_test, y_test):\n",
    "    \"\"\" Runs 'evaluate_pipeline' with embedded versions of the input data \n",
    "    and returns the accuracy.\n",
    "    \"\"\"\n",
    "    pass\n",
    "\n",
    "store_embeddings()\n",
    "pl = generate_pipeline()\n",
    "X_tb = load_embedding('train')\n",
    "X_vb = load_embedding('val')\n",
    "print( evaluate_pipeline(pl, X_tb, y_train, X_vb, y_val) )\n",
    "\n",
    "answer_q_4_2 = \"\"\"\n",
    "               Your answer \n",
    "               \"\"\"\n",
    "print(\"Pipeline:\",generate_pipeline())\n",
    "print(\"Answer is {} characters long\".format(len(answer_q_4_2)))"
   ]
  },
  {
   "cell_type": "code",
   "execution_count": null,
   "metadata": {},
   "outputs": [],
   "source": []
  }
 ],
 "metadata": {
  "accelerator": "GPU",
  "anaconda-cloud": {},
  "colab": {
   "collapsed_sections": [],
   "machine_shape": "hm",
   "name": "Assignment 3 - Model Solution.ipynb",
   "provenance": []
  },
  "kernelspec": {
   "display_name": "PyCharm (assignment-3-TomRoozendaal)",
   "language": "python",
   "name": "pycharm-fa2dc41d"
  },
  "language_info": {
   "codemirror_mode": {
    "name": "ipython",
    "version": 3
   },
   "file_extension": ".py",
   "mimetype": "text/x-python",
   "name": "python",
   "nbconvert_exporter": "python",
   "pygments_lexer": "ipython3",
   "version": "3.7.7"
  },
  "pycharm": {
   "stem_cell": {
    "cell_type": "raw",
    "metadata": {
     "collapsed": false
    },
    "source": []
   }
  }
 },
 "nbformat": 4,
 "nbformat_minor": 4
}
