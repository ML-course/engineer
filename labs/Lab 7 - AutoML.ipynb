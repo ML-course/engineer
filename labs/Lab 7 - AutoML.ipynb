{
 "cells": [
  {
   "cell_type": "markdown",
   "metadata": {},
   "source": [
    "# Lab 7: AutoML"
   ]
  },
  {
   "cell_type": "code",
   "execution_count": null,
   "metadata": {},
   "outputs": [],
   "source": [
    "import logging\n",
    "import openml as oml\n",
    "from sklearn.model_selection import train_test_split\n",
    "%matplotlib inline"
   ]
  },
  {
   "cell_type": "markdown",
   "metadata": {},
   "source": [
    "## Exercise 1: Using GAMA"
   ]
  },
  {
   "cell_type": "markdown",
   "metadata": {},
   "source": [
    "### Installation"
   ]
  },
  {
   "cell_type": "markdown",
   "metadata": {},
   "source": [
    "In this exercise we will use AutoML tool [GAMA](https://github.com/PGijsbers/gama/).\n",
    "The exercise is self-contained, but if you want to know more the documentation is found [here](https://pgijsbers.github.io/gama/develop/).\n",
    "First, make sure GAMA is installed and/or check the right version is installed:"
   ]
  },
  {
   "cell_type": "code",
   "execution_count": null,
   "metadata": {},
   "outputs": [],
   "source": [
    "!pip install --quiet gama"
   ]
  },
  {
   "cell_type": "code",
   "execution_count": null,
   "metadata": {},
   "outputs": [],
   "source": [
    "from packaging import version\n",
    "import gama\n",
    "if version.parse(gama.__version__) < version.parse(\"20.1.0\"):\n",
    "    print(\"GAMA is outdated. Please update now!\")\n",
    "else:\n",
    "    print(\"OK. You may continue :)\")"
   ]
  },
  {
   "cell_type": "markdown",
   "metadata": {},
   "source": [
    "*note*:\n",
    "> GAMA is under active development. Parts of the interface are still subject to change. We are also using small time budgets because the lab only lasts two hours. For that reason some of the results may be affected more than usual by the randomness inherent to evolutionary search."
   ]
  },
  {
   "cell_type": "markdown",
   "metadata": {},
   "source": [
    "### Standard use case on NO<sub>2</sub> data"
   ]
  },
  {
   "cell_type": "markdown",
   "metadata": {},
   "source": [
    "In lab session 1, we tested several models the predict **NO<sub>2</sub>** levels.\n",
    "Here we will use GAMA automatically find a pipeline for this task.\n",
    "First we have to fetch the data from OpenML, and split it into a train and test set:"
   ]
  },
  {
   "cell_type": "code",
   "execution_count": null,
   "metadata": {},
   "outputs": [],
   "source": [
    "no2 = oml.datasets.get_dataset(547)\n",
    "X, y, _, _ = no2.get_data(target=no2.default_target_attribute, dataset_format='DataFrame');\n",
    "X = X.drop('day',axis=1)\n",
    "X_train, X_test, y_train, y_test = train_test_split(X, y, train_size=0.8)"
   ]
  },
  {
   "cell_type": "markdown",
   "metadata": {},
   "source": [
    "We can then import and use GAMA just like a scikit-learn classifier or regressor:"
   ]
  },
  {
   "cell_type": "code",
   "execution_count": null,
   "metadata": {},
   "outputs": [],
   "source": [
    "from gama import GamaClassifier, GamaRegressor\n",
    "automl = GamaRegressor(\n",
    "    max_total_time=60, # in seconds\n",
    "    n_jobs=1,  # one subprocess\n",
    "    scoring='r2',  # metric to optimize for\n",
    "    verbosity=logging.INFO,  # to get printed updates about search progress\n",
    "    keep_analysis_log=\"no2.log\",  # name for a log file to record search output in\n",
    ")"
   ]
  },
  {
   "cell_type": "markdown",
   "metadata": {},
   "source": [
    "##### Exercise 1.1\n",
    "Starting AutoML is now as simple as calling `fit` with the training data. You can use the `score` function to get the model's score on the test set. Using GAMA, fit a model to the data and report the score."
   ]
  },
  {
   "cell_type": "code",
   "execution_count": null,
   "metadata": {},
   "outputs": [],
   "source": [
    "# Exercise 1.1: Call fit and score\n",
    "pass"
   ]
  },
  {
   "cell_type": "markdown",
   "metadata": {},
   "source": [
    "How does the score compare to the maximum of `0.4796` found in lab 1?\n",
    "It's likely better. Because the dataset is so small, even in one minute time GAMA can evaluate many pipelines.\n",
    "GAMA also considers more (and different) models than those from lab 1.\n",
    "\n",
    "The number of pipelines that have been evaluated should've been printed as cell output.\n",
    "But we can also have a closer look at which pipelines have been evaluated.\n",
    "We do this by parsing the log GAMA created (filename set by `keep_analysis_log`) with the builtin `GamaReport` parser:"
   ]
  },
  {
   "cell_type": "code",
   "execution_count": null,
   "metadata": {},
   "outputs": [],
   "source": [
    "def transform_evaluations(df):\n",
    "    \"\"\" The GamaReport was initially developed for use within GAMA tooling.\n",
    "    For this reason it contains some hard to interpret, useless or internal data.\n",
    "    For clarity, we filter this out for you.\n",
    "    \"\"\"\n",
    "    df = df.drop(['id', 'length_cummax', 'relative_end'], axis=1)\n",
    "    df['length'] = -df['length']\n",
    "    return df"
   ]
  },
  {
   "cell_type": "code",
   "execution_count": null,
   "metadata": {},
   "outputs": [],
   "source": [
    "from gama.logging.GamaReport import GamaReport\n",
    "report = GamaReport(logfile=\"no2.log\")\n",
    "evaluations = transform_evaluations(report.evaluations)\n",
    "evaluations.sample(5).sort_values(by='n')  # Show 5 random samples from the dataframe, but sort them by order of n."
   ]
  },
  {
   "cell_type": "markdown",
   "metadata": {},
   "source": [
    "This dataframe has the following columns:\n",
    " - n: the n-th pipeline to be evaluated in search\n",
    " - start: start time of the evaluation\n",
    " - duration: the time it took to evaluate the model (in seconds)\n",
    " - r2: the r2 score of the pipeline (based on 5-fold cross-validation on the training data)\n",
    " - length: the number of steps in the pipeline times (i.e., length 2 means one preprocessing step and one estimator).\n",
    " - pipeline: the pipeline (more info below)\n",
    " - r2_cummax: the maximum r2 score found at evaluation `n`"
   ]
  },
  {
   "cell_type": "markdown",
   "metadata": {},
   "source": [
    "##### Exercise 1.2:\n",
    "Find the best pipeline of each length from the `evaluations` dataframe (or one of the best, in case of a tie)."
   ]
  },
  {
   "cell_type": "code",
   "execution_count": null,
   "metadata": {},
   "outputs": [],
   "source": [
    "# Exercise 1.2: Find the best pipeline of each length"
   ]
  },
  {
   "cell_type": "markdown",
   "metadata": {},
   "source": [
    "To visualize the progress of search, plot:\n",
    " - The `r2` score for each evaluation as a function of `n`, preferably only for those evaluations with an `r2` score of at least 0.\n",
    " - The maximum `r2` score as a function of `n`"
   ]
  },
  {
   "cell_type": "code",
   "execution_count": null,
   "metadata": {},
   "outputs": [],
   "source": [
    "evaluations[evaluations['r2'] > 0].plot.scatter(x='n', y='r2')\n",
    "evaluations.plot.line(x='n', y='r2_cummax')"
   ]
  },
  {
   "cell_type": "markdown",
   "metadata": {},
   "source": [
    "### Automatic Ensembles on Covertype"
   ]
  },
  {
   "cell_type": "markdown",
   "metadata": {},
   "source": [
    "Next we will take a look at a classification problem, and change the AutoML pipeline.\n",
    "\n",
    "##### Exercise 1.3:\n",
    "Download the covertype dataset (id: 180) that we saw in lab 3.\n",
    "First take a stratified subsample of 50% of the data (using `train_test_split`).\n",
    "Then split that data into a train and test set (50%/50%). \n",
    "The train and test sets are now both 25% of the total data."
   ]
  },
  {
   "cell_type": "markdown",
   "metadata": {},
   "source": [
    "Initialize a GamaClassifier, similarly to how the GamaRegressor was initialized, but:\n",
    " - specify the maximum runtime to at least 3 minutes,\n",
    " - set `n_jobs` to 2,\n",
    " - set the metric to accuracy,\n",
    " - specify a different log name,\n",
    "\n",
    "Then start search (`fit`) and evaluate the model on the test data (`score`).\n",
    "Take a short break once it's all running, or ask us a question about the lecture! :)"
   ]
  },
  {
   "cell_type": "code",
   "execution_count": 1,
   "metadata": {},
   "outputs": [],
   "source": [
    "##### Exercise 1.3: Split the data and run GAMA"
   ]
  },
  {
   "cell_type": "markdown",
   "metadata": {},
   "source": [
    "How did the model perform? In lab 3 we had about 80% accuracy after tuning the number of trees in the RandomForest. How does this model compare?\n",
    "\n",
    "The covertype dataset is quite large, and three minutes is not much time. For this reason we downsampled such that our training set contained only 25% of the original data. In our experience with these constraints, we find that GAMA can produce models with 80% accuracy, but it's also possible to see worse results. With more time we could search longer and evaluate more models on more of the data."
   ]
  },
  {
   "cell_type": "markdown",
   "metadata": {},
   "source": [
    "##### Exercise 1.4\n",
    "\n",
    "Up to this point GAMA has been using the best found pipeline to make predictions on the test data.\n",
    "However, we saw that constructing ensembles of models can be a useful tool to gain additional performance.\n",
    "GAMA can be configured to automatically build an ensemble from the models it found during search. To do this you should initialize GAMA with the `post_processing_method` specified:"
   ]
  },
  {
   "cell_type": "code",
   "execution_count": null,
   "metadata": {},
   "outputs": [],
   "source": [
    "from gama.postprocessing import EnsemblePostProcessing\n",
    "\n",
    "automl_with_ensemble = GamaClassifier(\n",
    "    max_total_time=180,\n",
    "    n_jobs=2,\n",
    "    verbosity=logging.INFO,\n",
    "    keep_analysis_log=\"covtype_ensemble.log\",\n",
    "    scoring='accuracy',\n",
    "    post_processing_method=EnsemblePostProcessing(),  # Specify to build an ensemble after search\n",
    ")"
   ]
  },
  {
   "cell_type": "markdown",
   "metadata": {},
   "source": [
    "Again, start search and record the test set score:"
   ]
  },
  {
   "cell_type": "code",
   "execution_count": 2,
   "metadata": {},
   "outputs": [],
   "source": [
    "##### Exercise 1.4"
   ]
  },
  {
   "cell_type": "markdown",
   "metadata": {},
   "source": [
    "##### Exercise 1.5\n",
    "Note that this run was independent from the previous run. This means it might have found better or worse pipelines than last search. We cannot compare the performance of this ensemble directly to the previous best score. Run the code cell below to see how the single best pipeline would have scored *this* run:"
   ]
  },
  {
   "cell_type": "code",
   "execution_count": null,
   "metadata": {},
   "outputs": [],
   "source": [
    "# Currently post-hoc switching of post-processing method is not supported directly.\n",
    "# We work around this:\n",
    "from sklearn.metrics import log_loss\n",
    "\n",
    "best, = automl_with_ensemble._evaluation_library.n_best(1)\n",
    "best_pipeline = best.individual.pipeline\n",
    "best_pipeline.fit(X_train, y_train)\n",
    "test_score = best_pipeline.score(X_test, y_test)\n",
    "print(\"train score: {:.3f}, test score: {:.3f}\".format(best.score[0], test_score))"
   ]
  },
  {
   "cell_type": "markdown",
   "metadata": {},
   "source": [
    "In this case, did it improve the performance? Was the improvement big?\n",
    "\n",
    "Normally the ensemble should perform better, though the benefit can be very marginal.\n",
    "GAMA creates an Ensemble through weighting votes of pipelines evaluated in search (for the interested, the precise procedure is described in [Caruana et al. (2004)](https://www.cs.cornell.edu/~caruana/ctp/ct.papers/caruana.icml04.icdm06long.pdf)).\n",
    "In the scenario and constraints we have set up just now, creating a good ensemble is hard.\n",
    "Can you think of some reason(s) why?"
   ]
  },
  {
   "cell_type": "markdown",
   "metadata": {},
   "source": [
    "> Type your answer in this markdown cell."
   ]
  },
  {
   "cell_type": "markdown",
   "metadata": {},
   "source": [
    "Solution:\n",
    "> ..."
   ]
  },
  {
   "cell_type": "markdown",
   "metadata": {},
   "source": [
    "### Image Recognition with AutoML"
   ]
  },
  {
   "cell_type": "markdown",
   "metadata": {},
   "source": [
    "> *note*: If you are running out of time, or are experiencing errors below, ignore the coding assigment. We are aware that in some scenarios GAMA halts on this example."
   ]
  },
  {
   "cell_type": "markdown",
   "metadata": {},
   "source": [
    "##### Exercise 1.6\n",
    "AutoML is still not (yet) a one-tool-fits-all solution.\n",
    "GAMA was designed to deal with tabular data.\n",
    "Last lab session you trained ConvNets to classify images in the CIFAR dataset.\n",
    "The very first model already had at least 60% accuracy, the best model had ~83% accuracy.\n",
    "We will now compare those results to GAMA:\n",
    " - download the CIFAR-10 dataset from OpenML (dataset id: 40926)\n",
    " - split the data into a train and test set (80%/20%)\n",
    " - run GAMA optimizing for accuracy, with n_jobs=1 and (at least) 5 minutes of runtime"
   ]
  },
  {
   "cell_type": "code",
   "execution_count": 3,
   "metadata": {},
   "outputs": [],
   "source": [
    "##### Exercise 1.6"
   ]
  },
  {
   "cell_type": "markdown",
   "metadata": {},
   "source": [
    "Results will vary wildly.\n",
    "Running it a few times can give scores ranging from ~10% accuracy to ~35% accuracy. \n",
    "More time will lead to better results, but it will not approach ConvNet levels of performance.\n",
    "Why do you think this is?"
   ]
  },
  {
   "cell_type": "markdown",
   "metadata": {},
   "source": [
    "> Type your answer in this markdown cell."
   ]
  },
  {
   "cell_type": "markdown",
   "metadata": {},
   "source": [
    "Solution:\n",
    "> ..."
   ]
  },
  {
   "cell_type": "markdown",
   "metadata": {},
   "source": [
    "## Exercise 2\n",
    "There are AutoML tools that are specifically designed to automatically learn neural network architectures. For example [AutoKeras](https://autokeras.com/) (Texas A&M University), [AutoGluon](https://autogluon.mxnet.io/) (commercial, Amazon), and [Cloud AutoML](https://cloud.google.com/automl) (commercial, Google). If you are eager, do go and compare your own ConvNet to these AutoML systems intead!"
   ]
  },
  {
   "cell_type": "code",
   "execution_count": null,
   "metadata": {},
   "outputs": [],
   "source": []
  }
 ],
 "metadata": {
  "kernelspec": {
   "display_name": "Python 3",
   "language": "python",
   "name": "python3"
  },
  "language_info": {
   "codemirror_mode": {
    "name": "ipython",
    "version": 3
   },
   "file_extension": ".py",
   "mimetype": "text/x-python",
   "name": "python",
   "nbconvert_exporter": "python",
   "pygments_lexer": "ipython3",
   "version": "3.7.3"
  }
 },
 "nbformat": 4,
 "nbformat_minor": 4
}
