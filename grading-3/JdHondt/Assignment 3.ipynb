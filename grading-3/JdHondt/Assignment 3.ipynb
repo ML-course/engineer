{
 "nbformat": 4,
 "nbformat_minor": 0,
 "metadata": {
  "accelerator": "GPU",
  "anaconda-cloud": {},
  "colab": {
   "name": "Assignment 3.ipynb",
   "provenance": [],
   "collapsed_sections": [],
   "toc_visible": true,
   "machine_shape": "hm"
  },
  "kernelspec": {
   "name": "python3",
   "display_name": "Python 3"
  },
  "language_info": {
   "codemirror_mode": {
    "name": "ipython",
    "version": 3
   },
   "file_extension": ".py",
   "mimetype": "text/x-python",
   "name": "python",
   "nbconvert_exporter": "python",
   "pygments_lexer": "ipython3",
   "version": "3.7.3"
  },
  "pycharm": {
   "stem_cell": {
    "cell_type": "raw",
    "source": [],
    "metadata": {
     "collapsed": false
    }
   }
  }
 },
 "cells": [
  {
   "cell_type": "code",
   "metadata": {
    "colab_type": "code",
    "id": "uPiqHyC_MuLL",
    "pycharm": {
     "is_executing": false
    },
    "colab": {}
   },
   "source": [
    "# Fill in your name using the format below and student ID number\n",
    "your_name = \"d'Hondt, Jens\"\n",
    "student_id = \"1006822\""
   ],
   "execution_count": 17,
   "outputs": []
  },
  {
   "cell_type": "code",
   "metadata": {
    "id": "rOmCLH_Iltp1",
    "colab_type": "code",
    "colab": {},
    "pycharm": {
     "is_executing": false
    }
   },
   "source": [
    "# Before submission, set this to True so that you can render and verify this notebook without training deep learning models.\n",
    "# Any deep learning models will be trained from file instead.\n",
    "stop_training = True"
   ],
   "execution_count": 18,
   "outputs": []
  },
  {
   "cell_type": "code",
   "metadata": {
    "colab_type": "code",
    "id": "-rAuraOsM22r",
    "colab": {},
    "pycharm": {
     "is_executing": false
    }
   },
   "source": [
    "# Uncomment the following line to run in Google Colab\n",
    "# !pip install --quiet openml "
   ],
   "execution_count": 19,
   "outputs": []
  },
  {
   "cell_type": "code",
   "metadata": {
    "colab_type": "code",
    "id": "OS-d8ziENCs1",
    "outputId": "e7de46bf-4e25-4ff3-b715-66e15884be18",
    "executionInfo": {
     "status": "ok",
     "timestamp": 1587391535047,
     "user_tz": -120,
     "elapsed": 5839,
     "user": {
      "displayName": "Jens d'Hondt",
      "photoUrl": "",
      "userId": "17885699761575924207"
     }
    },
    "colab": {
     "base_uri": "https://localhost:8080/",
     "height": 34
    },
    "pycharm": {
     "is_executing": false
    }
   },
   "source": [
    "# Uncomment the following line to run in Google Colab\n",
    "# %tensorflow_version 2.x\n",
    "# import tensorflow as tf\n",
    "# tf.config.experimental.list_physical_devices('GPU') # Check whether GPUs are available"
   ],
   "execution_count": 20,
   "outputs": []
  },
  {
   "cell_type": "code",
   "metadata": {
    "id": "rM4SpyfR3DB4",
    "colab_type": "code",
    "outputId": "e1179b4b-fd16-47e6-9b7d-3fa100391134",
    "executionInfo": {
     "status": "ok",
     "timestamp": 1587391535048,
     "user_tz": -120,
     "elapsed": 5812,
     "user": {
      "displayName": "Jens d'Hondt",
      "photoUrl": "",
      "userId": "17885699761575924207"
     }
    },
    "colab": {
     "base_uri": "https://localhost:8080/",
     "height": 34
    },
    "pycharm": {
     "is_executing": false
    }
   },
   "source": [
    "import pprint\n",
    "import os\n",
    "import tensorflow\n",
    "\n",
    "if 'COLAB_TPU_ADDR' not in os.environ:\n",
    "  print('ERROR: Not connected to a TPU runtime; please see the first cell in this notebook for instructions!')"
   ],
   "execution_count": 21,
   "outputs": [
    {
     "name": "stdout",
     "text": [
      "ERROR: Not connected to a TPU runtime; please see the first cell in this notebook for instructions!\n"
     ],
     "output_type": "stream"
    }
   ]
  },
  {
   "cell_type": "code",
   "metadata": {
    "colab_type": "code",
    "id": "-iTn6RmNMuLT",
    "colab": {},
    "pycharm": {
     "is_executing": false
    }
   },
   "source": [
    "%matplotlib inline\n",
    "import openml as oml\n",
    "import numpy as np\n",
    "import matplotlib.pyplot as plt\n",
    "import sklearn"
   ],
   "execution_count": 22,
   "outputs": []
  },
  {
   "cell_type": "code",
   "metadata": {
    "colab_type": "code",
    "id": "brth0Z_TMuLZ",
    "outputId": "12c94d6d-2703-4bee-a600-e86f0992262e",
    "executionInfo": {
     "status": "ok",
     "timestamp": 1587391535051,
     "user_tz": -120,
     "elapsed": 5783,
     "user": {
      "displayName": "Jens d'Hondt",
      "photoUrl": "",
      "userId": "17885699761575924207"
     }
    },
    "colab": {
     "base_uri": "https://localhost:8080/",
     "height": 34
    },
    "pycharm": {
     "is_executing": false
    }
   },
   "source": [
    "from packaging import version\n",
    "import sklearn\n",
    "import tensorflow\n",
    "\n",
    "sklearn_version = sklearn.__version__\n",
    "tensorflow_version = tensorflow.__version__\n",
    "if version.parse(sklearn_version) < version.parse(\"0.22.0\"):\n",
    "    print(\"scikit-learn is outdated. Please update now!\")\n",
    "if version.parse(tensorflow_version) < version.parse(\"2.1.0\"):\n",
    "    print(\"Tensorflow is outdated. This is version {}. Please update to 2.1.\".format(tensorflow_version))\n",
    "else:\n",
    "    print(\"Hi{}, Looks good. You may continue :)\".format(your_name.split(\",\")[1]))"
   ],
   "execution_count": 23,
   "outputs": [
    {
     "name": "stdout",
     "text": [
      "Hi Jens, Looks good. You may continue :)\n"
     ],
     "output_type": "stream"
    }
   ]
  },
  {
   "cell_type": "markdown",
   "metadata": {
    "colab_type": "text",
    "id": "7kdeFjIGMuLv"
   },
   "source": [
    "# Assignment 3"
   ]
  },
  {
   "cell_type": "markdown",
   "metadata": {
    "colab_type": "text",
    "id": "ljhP8DXu-H4j"
   },
   "source": [
    "### Choice of libraries\n",
    "We recommend to use Tensorflow in this assignment since that is what we covered in the labs. If you feel confident using PyTorch (and Skorch for the scikit-learn wrapper), that is allowed too, as long as you are able to implement the requested functions and return the requested data. Read the assignment carefully and ensure that you can. Note that you may also need to do a bit more work to implement certain helper functions and wrappers."
   ]
  },
  {
   "cell_type": "markdown",
   "metadata": {
    "colab_type": "text",
    "id": "-BQG9Kp2EcPc"
   },
   "source": [
    "### Storing and submitting files\n",
    "You must be able to store your models and submit them to GitHub Classroom. The evaluation functions used in this notebook will automatically store models for you.\n",
    "\n",
    "If you want to run and solve the notebook on your local machine/laptop, fill in the path 'base_dir' to your assignment folder into the next cell.\n",
    "\n",
    "If you use Colab, we recommend that you link it to your Google Drive:  \n",
    "* Upload the assignment folder to your Google Drive (+ New > Folder Upload)\n",
    "* Open Colab in a browser, open the 'Files' menu in the left sidebar, and click 'Mount Drive'\n",
    "  * At this point you may need to authenticate\n",
    "* Fill in the path to your assignment folder below\n",
    "  * It's likely '/content/drive/My Drive/assignment-3-yourname'"
   ]
  },
  {
   "cell_type": "code",
   "metadata": {
    "colab_type": "code",
    "id": "aO6jTIIFHQNU",
    "colab": {},
    "pycharm": {
     "is_executing": false
    }
   },
   "source": [
    "# base_dir = '/content/drive/My Drive/Assignment-3-JdHondt' # For Google Colab\n",
    "base_dir = '../'"
   ],
   "execution_count": 24,
   "outputs": []
  },
  {
   "cell_type": "code",
   "metadata": {
    "colab_type": "code",
    "id": "HKaM3mwrODBR",
    "outputId": "941e4700-0f00-45bd-96f5-8f484da6c902",
    "executionInfo": {
     "status": "ok",
     "timestamp": 1587391535053,
     "user_tz": -120,
     "elapsed": 5745,
     "user": {
      "displayName": "Jens d'Hondt",
      "photoUrl": "",
      "userId": "17885699761575924207"
     }
    },
    "colab": {
     "base_uri": "https://localhost:8080/",
     "height": 33
    },
    "pycharm": {
     "is_executing": false
    }
   },
   "source": [
    "#Uncomment to link Colab notebook to Google Drive\n",
    "# from google.colab import drive\n",
    "# drive.mount('/content/drive')"
   ],
   "execution_count": 25,
   "outputs": []
  },
  {
   "cell_type": "markdown",
   "metadata": {
    "colab_type": "text",
    "id": "D_BDIpWh92Dk"
   },
   "source": [
    "### Using GPUs\n",
    "While you can solve this assignment on a CPU, using a GPU will speed things up training quite a bit. If you have a local GPU, you can use that. If you don't, we recommend Google Colab. When you are in Colab:\n",
    "* In Runtime > Change runtime type, select the GPU under Hardware Accelerator\n",
    "* Run the 3rd cell on the top of this notebook to check that the GPU is found.\n",
    "\n",
    "Note that Colab may not always have GPUs ready all the time, and may deny you a GPU when you have used them a lot. When you are temporarily 'locked out', you can switch to a non-GPU runtime or to a local instance of Jupyter running on your machine."
   ]
  },
  {
   "cell_type": "markdown",
   "metadata": {
    "colab_type": "text",
    "id": "hq6oPNF546_5"
   },
   "source": [
    "### Constraints\n",
    "* Your stored models should not be larger than 100MB when stored in file. GitHub will not allow uploading if they are.\n",
    "* When questions ask you to provide an explanation, it should be less than 500\n",
    "characters long. Some questions have a higher limit. Always answer in full sentences.\n",
    "* Don't train for more than 100 epochs, i.e. don't throw excessing computational resources at the problem. If your model hasn't converged by then, think of ways it could be made to converge faster. In this assignment you are not after the last tiny improvement, you can stop when learning curves flatten out. Do at least 5 epochs to get a reasonable learning curve."
   ]
  },
  {
   "cell_type": "markdown",
   "metadata": {
    "colab_type": "text",
    "id": "h8wBDNspEvcY"
   },
   "source": [
    "### Grading\n",
    "Grading is based on the following aspects:\n",
    "* Correctness in answering the question. Carefully read the question and answer\n",
    "what is asked for. Train your models on the correct data. It should be clear on which data should be trained, but ask when in doubt. When something is not defined (e.g. the number of epochs or batch size), you can freely choose them.\n",
    "* Clarity of your explanations. Write short but precise descriptions of what you did and why. Give short but clear explanations of the observed performance. \n",
    "After your explanation, your approach and model should make perfect sense. Refrain from using symbols as substitute for words in your explanation (e.g. no: \"More layers -> more parameters\" yes: \"More layers mean more parameters\"). \n",
    "* Part of your grade depends on how well your model performs. When the question says 'you should at least get x%', x% will give you a good but not the maximal grade. You can get the full grade when you are close to what is the expected maximal performance. You don't need to invest lots of effort into the last tiny improvement, though. Unless specified, we look at the accuracy on the validation set. If your learning curves are very erratic we'll compute a score based on the smoothed curves (i.e. single peaks don't count).\n",
    "* The weight of each question is indicated. Take this into account when planning your time."
   ]
  },
  {
   "cell_type": "markdown",
   "metadata": {
    "colab_type": "text",
    "id": "KNyA5dEpR00Z"
   },
   "source": [
    "### Other tips\n",
    "* Don't wait until the last minute to do the assignment. The models take time to train, most questions will require some thinking, and some require you to read up on some new concepts.\n",
    "* Take care that you upload the results as requested. You need to submit not only the notebooks but also the trained models and learning curves (training histories). Be sure to run the verification script and check that all the results are included.\n",
    "* We provide an evaluation function that also stored models to disk. After you are done training the model, set the 'train' attribute to False so that the model doesn't train again (and loads from file instead) when you restart and rerun your notebook.\n",
    "* Explore. For many questions we'll ask you to explain your model design decisions. You cannot magically know the best solutions but you can experiment\n",
    "based on your understanding and make decisions based on both your knowledge and experiments. Your explanation is at least as important as the performance of your model.\n",
    "* Be original. We will check for plagiarism between student submissions."
   ]
  },
  {
   "cell_type": "markdown",
   "metadata": {
    "colab_type": "text",
    "id": "k0nKOZrPJTn8"
   },
   "source": [
    "### Data\n",
    "The [Street View House Numbers Dataset](https://www.openml.org/d/41081) contains 32-by-32 RGB images centered around a single digit of a house number appearing in Google Street View. Many of the images do contain some distractors at the sides. It consists of 10 classes, 1 for each digit. Digit '1' has label 1, '9' has label 9 and '0' has label 10. Your goal is to build models that recognize the correct digit."
   ]
  },
  {
   "cell_type": "markdown",
   "metadata": {
    "colab_type": "text",
    "id": "B8sOA7mEKOSp"
   },
   "source": [
    "If you use Colab, uncomment the following to cache the dataset inside the VM. This will make reloading faster if you need to restart your notebook. After longer periods of inactivity, your VM may be recycled and the cache lost, in which case the dataset will be downloaded again. Also note that this dataset is about 1Gb large, and will take even more space in memory. You may need to switch to a high-RAM environment (Colab will ask you if you hit the limit)."
   ]
  },
  {
   "cell_type": "code",
   "metadata": {
    "colab_type": "code",
    "id": "Wu9s9dnlJMP0",
    "colab": {},
    "pycharm": {
     "is_executing": false
    }
   },
   "source": [
    "# Use OpenML caching in Colab\n",
    "# On your local machine, it will store data in a hidden folder '~/.openml'\n",
    "import os\n",
    "oml.config.cache_directory = os.path.expanduser('/content/cache')"
   ],
   "execution_count": 26,
   "outputs": []
  },
  {
   "cell_type": "code",
   "metadata": {
    "colab_type": "code",
    "id": "_3o_TT8SMuLy",
    "colab": {},
    "pycharm": {
     "is_executing": false
    }
   },
   "source": [
    "# Download Streetview data. Takes a while (several minutes), and quite a bit of\n",
    "# memory when it needs to download. After caching it loads faster.\n",
    "SVHN = oml.datasets.get_dataset(41081)\n",
    "X, y, _, _ = SVHN.get_data(dataset_format='array',\n",
    "    target=SVHN.default_target_attribute)"
   ],
   "execution_count": 27,
   "outputs": []
  },
  {
   "cell_type": "markdown",
   "metadata": {
    "colab_type": "text",
    "id": "EPwHgeC3MuMI"
   },
   "source": [
    "Reshape, sample and split the data"
   ]
  },
  {
   "cell_type": "code",
   "metadata": {
    "colab_type": "code",
    "id": "3C14250QOGpL",
    "colab": {},
    "pycharm": {
     "is_executing": false
    }
   },
   "source": [
    "from tensorflow.keras.utils import to_categorical\n",
    "\n",
    "Xr = X.reshape((len(X),32,32,3))\n",
    "Xr = Xr / 255.\n",
    "yr = to_categorical(y)"
   ],
   "execution_count": 28,
   "outputs": []
  },
  {
   "cell_type": "code",
   "metadata": {
    "colab_type": "code",
    "id": "sbxtRoDcMuMK",
    "outputId": "48f21cb1-47cd-46a2-a889-b47bd4cd418b",
    "executionInfo": {
     "status": "ok",
     "timestamp": 1587391557511,
     "user_tz": -120,
     "elapsed": 28133,
     "user": {
      "displayName": "Jens d'Hondt",
      "photoUrl": "",
      "userId": "17885699761575924207"
     }
    },
    "colab": {
     "base_uri": "https://localhost:8080/",
     "height": 131
    },
    "pycharm": {
     "is_executing": false
    }
   },
   "source": [
    "# DO NOT EDIT. DO NOT OVERWRITE THESE VARIABLES.\n",
    "from sklearn.model_selection import train_test_split\n",
    "# We do an 80-20 split for the training and test set, and then again a 80-20 split into training and validation data\n",
    "X_train_all, X_test, y_train_all, y_test = train_test_split(Xr,yr, stratify=yr, train_size=0.8, test_size=0.2, random_state=1)\n",
    "X_train, X_val, y_train, y_val = train_test_split(X_train_all,y_train_all, stratify=y_train_all, train_size=0.8, random_state=1)\n",
    "evaluation_split = X_train, X_val, y_train, y_val\n",
    "\n",
    "print(y_test)"
   ],
   "execution_count": 29,
   "outputs": [
    {
     "name": "stdout",
     "text": [
      "[[0. 0. 0. ... 1. 0. 0.]\n",
      " [0. 1. 0. ... 0. 0. 0.]\n",
      " [1. 0. 0. ... 0. 0. 0.]\n",
      " ...\n",
      " [0. 0. 0. ... 0. 1. 0.]\n",
      " [1. 0. 0. ... 0. 0. 0.]\n",
      " [0. 0. 0. ... 0. 0. 0.]]\n"
     ],
     "output_type": "stream"
    }
   ]
  },
  {
   "cell_type": "markdown",
   "metadata": {
    "colab_type": "text",
    "id": "gUAf28y2O6ks"
   },
   "source": [
    "Check the formatting - and what the data looks like"
   ]
  },
  {
   "cell_type": "code",
   "metadata": {
    "colab_type": "code",
    "id": "QEWsr56hMuL8",
    "outputId": "fd5d8373-2f52-4bb7-9fa4-a56ba674da67",
    "executionInfo": {
     "status": "ok",
     "timestamp": 1587391557512,
     "user_tz": -120,
     "elapsed": 28085,
     "user": {
      "displayName": "Jens d'Hondt",
      "photoUrl": "",
      "userId": "17885699761575924207"
     }
    },
    "colab": {
     "base_uri": "https://localhost:8080/",
     "height": 141
    },
    "pycharm": {
     "is_executing": false
    }
   },
   "source": [
    "from random import randint\n",
    "\n",
    "# Takes a list of row ids, and plots the corresponding images\n",
    "# Use grayscale=True for plotting grayscale images\n",
    "def plot_images(X, y, grayscale=False):\n",
    "    fig, axes = plt.subplots(1, len(X),  figsize=(10, 5))\n",
    "    for n in range(len(X)):\n",
    "        if grayscale:\n",
    "            axes[n].imshow(X[n], cmap='gray')\n",
    "        else:\n",
    "            axes[n].imshow(X[n])\n",
    "        axes[n].set_xlabel((np.argmax(y[n])+1)%10) # Label is index+1\n",
    "        axes[n].set_xticks(()), axes[n].set_yticks(())\n",
    "    plt.show();\n",
    "\n",
    "images = [randint(0,len(X_train)) for i in range(5)]\n",
    "X_random = [X_train[i] for i in images]\n",
    "y_random = [y_train[i] for i in images]\n",
    "\n",
    "plot_images(X_random, y_random)"
   ],
   "execution_count": 30,
   "outputs": [
    {
     "data": {
      "text/plain": "<Figure size 720x360 with 5 Axes>",
      "image/png": "[encoded data removed]"
     },
     "metadata": {},
     "output_type": "display_data"
    }
   ]
  },
  {
   "cell_type": "markdown",
   "metadata": {
    "colab_type": "text",
    "id": "yUQ22FEawd-J"
   },
   "source": [
    "### Evaluation harness\n",
    "We provide an evaluation function 'run_evaluation' that you should use to \n",
    "evaluate all your models. It also stores the trained models to disk so that\n",
    "your submission can be quickly verified, as well as to avoid having to train\n",
    "them over and over again. Your last run of the evaluation function (the last one\n",
    "stored to file), is the one that will be evaluated. The 'train' argument indicates whether to train or to load from disk. We have provided helper functions for saving and loading models to/from file, assuming you use TensorFlow. If you use PyTorch you'll have to adapt them."
   ]
  },
  {
   "cell_type": "code",
   "metadata": {
    "colab_type": "code",
    "id": "SFGTq4mUV2zK",
    "colab": {},
    "pycharm": {
     "is_executing": false
    }
   },
   "source": [
    "import os\n",
    "import pickle\n",
    "import pandas as pd\n",
    "import numpy as np\n",
    "from tensorflow.keras.models import load_model # for use with tensorflow\n",
    "from tensorflow.keras.models import model_from_json\n",
    "\n",
    "def shout(text, verbose=1):\n",
    "    \"\"\" Prints text in red. Just for fun.\n",
    "    \"\"\"\n",
    "    if verbose>0:\n",
    "        print('\\033[91m'+text+'\\x1b[0m')\n",
    "\n",
    "def load_model_from_file(base_dir, name, extension='.h5'):\n",
    "  \"\"\" Loads a model from a file. The returned model must have a 'fit' and 'summary'\n",
    "  function following the Keras API. Don't change if you use TensorFlow. Otherwise,\n",
    "  adapt as needed. \n",
    "  Keyword arguments:\n",
    "    base_dir -- Directory where the models are stored\n",
    "    name -- Name of the model, e.g. 'question_1_1'\n",
    "    extension -- the file extension\n",
    "  \"\"\"\n",
    "  try:\n",
    "    # if a json description is available, load config and then weights\n",
    "    if os.path.isfile(os.path.join(base_dir, name+'.json')):\n",
    "      json_file = open(os.path.join(base_dir, name+'.json'), 'r')\n",
    "      loaded_model_json = json_file.read()\n",
    "      json_file.close()\n",
    "      model = model_from_json(loaded_model_json)\n",
    "      model.load_weights(os.path.join(base_dir, name+extension))\n",
    "    # else just load the entire model from hdf5 file\n",
    "    else:\n",
    "      model = load_model(os.path.join(base_dir, name+extension))\n",
    "  except OSError as e:\n",
    "    shout(e)\n",
    "    shout(\"Saved model could not be found. Was it trained and stored correctly? Is the base_dir correct?\")\n",
    "    return False\n",
    "  return model\n",
    "\n",
    "def save_model_to_file(model, base_dir, name, extension='.h5'):\n",
    "  \"\"\" Saves a model to file. Don't change if you use TensorFlow. Otherwise,\n",
    "  adapt as needed. \n",
    "  Keyword arguments:\n",
    "    model -- the model to be saved\n",
    "    base_dir -- Directory where the models should be stored\n",
    "    name -- Name of the model, e.g. 'question_1_1'\n",
    "    extension -- the file extension\n",
    "  \"\"\"\n",
    "  path = os.path.join(base_dir, name+extension)\n",
    "  model.save(path)\n",
    "  size = os.path.getsize(path)\n",
    "  # If model > 100MB, store the weights and architecture only.\n",
    "  if size > 100*1024*1024:\n",
    "    print(\"Model larger than 100MB, storing weights only.\")\n",
    "    model.save_weights(path)\n",
    "    model_json = model.to_json()\n",
    "    with open(os.path.join(base_dir, name+\".json\"), \"w\") as json_file:\n",
    "        json_file.write(model_json)\n",
    "\n",
    "# Helper function to extract min/max from the learning curves\n",
    "def minMax(x):\n",
    "    return pd.Series(index=['min','max'],data=[x.min(),x.max()])\n",
    "\n",
    "# DO NOT EDIT\n",
    "def run_evaluation(name, model_builder, data, base_dir, train=True, \n",
    "                   generator=False, epochs=3, batch_size=32, steps_per_epoch=60, \n",
    "                   verbose=1, prnt=True, **kwargs):\n",
    "    \"\"\" Trains and evaluates the given model on the predefined train and test splits,\n",
    "    stores the trained model and learning curves. Also prints out a summary of the \n",
    "    model and plots the learning curves.\n",
    "    Keyword arguments:\n",
    "    name -- the name of the model to be stored, e.g. 'question_1_1.h5'\n",
    "    model_builder -- function that returns an (untrained) model. The model must \n",
    "                     have a 'fit' function that follows the Keras API. It can wrap\n",
    "                     a non-Keras model as long as the 'fit' function takes the \n",
    "                     same attributes and returns the learning curves (history).\n",
    "                     It also must have a 'summary' function that prints out a \n",
    "                     model summary, and a 'save' function that saves the model \n",
    "                     to disk. \n",
    "    data -- data split for evaluation. A tuple of either:\n",
    "            * Numpy arrays (X_train, X_val, y_train, y_val)\n",
    "            * A data generator and validation data (generator, X_val, y_val)\n",
    "    base_dir -- the directory to save or read models to/from\n",
    "    train -- whether or not the data should be trained. If False, the trained model\n",
    "             will be loaded from disk.\n",
    "    generator -- whether the data in given as a generator or not\n",
    "    epochs -- the number of epochs to train for\n",
    "    batch_size -- the batch size to train with\n",
    "    steps_per_epoch -- steps per epoch, in case a generator is used (ignored otherwise)\n",
    "    verbose -- verbosity level, 0: silent, 1: minimal,...\n",
    "    kwargs -- keyword arguments that should be passed to model_builder.\n",
    "              Not required, but may help you to adjust its behavior\n",
    "    \"\"\"\n",
    "    model = model_builder(**kwargs)\n",
    "    if not model:\n",
    "        shout(\"No model is returned by the model_builder\")\n",
    "        return\n",
    "    if not hasattr(model, 'fit'):\n",
    "        shout(\"Model is not built correctly\")\n",
    "        return\n",
    "    learning_curves = {}\n",
    "    if train and not stop_training: # Train anew\n",
    "        shout(\"Training the model\", verbose)\n",
    "        if generator:\n",
    "            generator, X_val, y_val = data\n",
    "            history = model.fit(generator, epochs=epochs, batch_size=batch_size,\n",
    "                              steps_per_epoch=steps_per_epoch, verbose=verbose, \n",
    "                              validation_data=(X_val, y_val))\n",
    "            learning_curves = history.history\n",
    "        else:\n",
    "            X_train, X_val, y_train, y_val = data\n",
    "            history = model.fit(X_train, y_train, epochs=epochs, batch_size=batch_size,\n",
    "                              verbose=verbose, validation_data=(X_val, y_val))\n",
    "            learning_curves = history.history\n",
    "        shout(\"Saving to file\", verbose)\n",
    "        save_model_to_file(model, base_dir, name)\n",
    "        with open(os.path.join(base_dir, name+'.p'), 'wb') as file_pi:\n",
    "            pickle.dump(learning_curves, file_pi)\n",
    "        shout(\"Model stored in \"+base_dir, verbose)\n",
    "    else: # Load from file\n",
    "        shout(\"Loading model from file\", verbose)\n",
    "        model = load_model_from_file(base_dir, name)\n",
    "        if not model:\n",
    "            shout(\"Model not found\")\n",
    "            return\n",
    "        learning_curves = None\n",
    "        try:\n",
    "            learning_curves = pickle.load(open(os.path.join(base_dir, name+'.p'), \"rb\"))\n",
    "        except FileNotFoundError:\n",
    "            shout(\"Learning curves not found\")\n",
    "            return\n",
    "        shout(\"Success!\", verbose)\n",
    "    # Report\n",
    "    if prnt:\n",
    "      print(model.summary())\n",
    "      lc = pd.DataFrame(learning_curves)\n",
    "      lc.plot(lw=2,style=['b:','r:','b-','r-']);\n",
    "      plt.xlabel('epochs');\n",
    "      print(lc.apply(minMax))\n",
    "    return model"
   ],
   "execution_count": 31,
   "outputs": []
  },
  {
   "cell_type": "markdown",
   "metadata": {
    "colab_type": "text",
    "id": "IU_zPWGPypce",
    "pycharm": {
     "name": "#%% md\n"
    }
   },
   "source": [
    "## Part 1. Dense networks (10 points)\n",
    "\n",
    "### Question 1.1: Baseline model (4 points)\n",
    "- Build a dense network (with only dense layers) of at least 3 layers that is shaped like a pyramid: The first layer must have many nodes, and every subsequent layer must have increasingly fewer nodes, e.g. half as many. Implement a function 'build_model_1_1' that returns this model.\n",
    "- You can explore different settings, but don't use any preprocessing or regularization yet. You should be able to achieve at least 70% accuracy, but more is of course better. Unless otherwise stated, you can use accuracy as the evaluation metric in all questions.\n",
    "* Add a small description of your design choices (max. 500 characters) in 'answer_q_1_1': explain what you did and also why. Also discuss the performance of the model. Is it working well? Both the performance of the model and your explanations matter.\n",
    "- The name of the model should be 'model_1_1'. Evaluate it using the 'run_evaluation' function. For this question, you should not use more than 50 epochs."
   ]
  },
  {
   "cell_type": "code",
   "metadata": {
    "colab_type": "code",
    "id": "hci6BIdHJTN0",
    "pycharm": {
     "name": "#%%\n",
     "is_executing": false
    },
    "outputId": "0d40d328-0127-4a94-eb71-e48af1f51799",
    "executionInfo": {
     "status": "ok",
     "timestamp": 1587391562062,
     "user_tz": -120,
     "elapsed": 32585,
     "user": {
      "displayName": "Jens d'Hondt",
      "photoUrl": "",
      "userId": "17885699761575924207"
     }
    },
    "colab": {
     "base_uri": "https://localhost:8080/",
     "height": 717
    }
   },
   "source": [
    "from tensorflow.keras import models\n",
    "from tensorflow.keras import layers \n",
    "\n",
    "def build_model_1_1():\n",
    "  nn = models.Sequential()\n",
    "  nn.add(layers.Reshape((3072,), input_shape=(32,32,3)))\n",
    "\n",
    "  # nn.add(layers.Dense(3072*2, activation='relu'))\n",
    "  nn.add(layers.Dense(3072, activation='relu'))\n",
    "  nn.add(layers.Dense(3072/2, activation='relu'))\n",
    "  nn.add(layers.Dense(3072/4, activation='relu'))\n",
    "  nn.add(layers.Dense(3072/8, activation='relu'))\n",
    "  # nn.add(layers.Dense(3072/16, activation='relu'))\n",
    "  # nn.add(layers.Dense(3072/32, activation='relu'))\n",
    "  nn.add(layers.Dense(10, activation=\"softmax\"))\n",
    "\n",
    "  nn.compile(optimizer='sgd', \n",
    "             loss='categorical_crossentropy',\n",
    "             metrics=['accuracy'])\n",
    "  return nn\n",
    "\n",
    "\n",
    "run_evaluation(\"model_1_1\", build_model_1_1, evaluation_split, base_dir, \n",
    "               train=False, epochs=30, batch_size=32)\n",
    "answer_q_1_1 = \"\"\"\n",
    "After experimenting with different numbers of layers and nodes, the chosen model is a model with 4 hidden layers, and 3072 nodes in the first layer.\n",
    "It was found that this architecture balanced bias and variance the best.\n",
    "SGD was chosen over RMSprop, Adagrad as it resulted in the highest performance while preserving fast conversion.\n",
    "The performance is well above the minimum. However, from the difference between loss and val_loss rising around epoch 10 we see that the model starts overfitting.\n",
    "\"\"\"\n",
    "print(\"Answer is {} characters long\".format(len(answer_q_1_1)))"
   ],
   "execution_count": 32,
   "outputs": [
    {
     "name": "stdout",
     "text": [
      "\u001b[91mLoading model from file\u001b[0m\n"
     ],
     "output_type": "stream"
    },
    {
     "traceback": [
      "\u001b[1;31m---------------------------------------------------------------------------\u001b[0m",
      "\u001b[1;31mOSError\u001b[0m                                   Traceback (most recent call last)",
      "\u001b[1;32m<ipython-input-31-ad467dfcf61b>\u001b[0m in \u001b[0;36mload_model_from_file\u001b[1;34m(base_dir, name, extension)\u001b[0m\n\u001b[0;32m     32\u001b[0m     \u001b[1;32melse\u001b[0m\u001b[1;33m:\u001b[0m\u001b[1;33m\u001b[0m\u001b[1;33m\u001b[0m\u001b[0m\n\u001b[1;32m---> 33\u001b[1;33m       \u001b[0mmodel\u001b[0m \u001b[1;33m=\u001b[0m \u001b[0mload_model\u001b[0m\u001b[1;33m(\u001b[0m\u001b[0mos\u001b[0m\u001b[1;33m.\u001b[0m\u001b[0mpath\u001b[0m\u001b[1;33m.\u001b[0m\u001b[0mjoin\u001b[0m\u001b[1;33m(\u001b[0m\u001b[0mbase_dir\u001b[0m\u001b[1;33m,\u001b[0m \u001b[0mname\u001b[0m\u001b[1;33m+\u001b[0m\u001b[0mextension\u001b[0m\u001b[1;33m)\u001b[0m\u001b[1;33m)\u001b[0m\u001b[1;33m\u001b[0m\u001b[1;33m\u001b[0m\u001b[0m\n\u001b[0m\u001b[0;32m     34\u001b[0m   \u001b[1;32mexcept\u001b[0m \u001b[0mOSError\u001b[0m \u001b[1;32mas\u001b[0m \u001b[0me\u001b[0m\u001b[1;33m:\u001b[0m\u001b[1;33m\u001b[0m\u001b[1;33m\u001b[0m\u001b[0m\n",
      "\u001b[1;32m~\\AppData\\Local\\Continuum\\anaconda3\\envs\\Slides\\lib\\site-packages\\tensorflow_core\\python\\keras\\saving\\save.py\u001b[0m in \u001b[0;36mload_model\u001b[1;34m(filepath, custom_objects, compile)\u001b[0m\n\u001b[0;32m    148\u001b[0m   \u001b[1;32mif\u001b[0m \u001b[0misinstance\u001b[0m\u001b[1;33m(\u001b[0m\u001b[0mfilepath\u001b[0m\u001b[1;33m,\u001b[0m \u001b[0msix\u001b[0m\u001b[1;33m.\u001b[0m\u001b[0mstring_types\u001b[0m\u001b[1;33m)\u001b[0m\u001b[1;33m:\u001b[0m\u001b[1;33m\u001b[0m\u001b[1;33m\u001b[0m\u001b[0m\n\u001b[1;32m--> 149\u001b[1;33m     \u001b[0mloader_impl\u001b[0m\u001b[1;33m.\u001b[0m\u001b[0mparse_saved_model\u001b[0m\u001b[1;33m(\u001b[0m\u001b[0mfilepath\u001b[0m\u001b[1;33m)\u001b[0m\u001b[1;33m\u001b[0m\u001b[1;33m\u001b[0m\u001b[0m\n\u001b[0m\u001b[0;32m    150\u001b[0m     \u001b[1;32mreturn\u001b[0m \u001b[0msaved_model_load\u001b[0m\u001b[1;33m.\u001b[0m\u001b[0mload\u001b[0m\u001b[1;33m(\u001b[0m\u001b[0mfilepath\u001b[0m\u001b[1;33m,\u001b[0m \u001b[0mcompile\u001b[0m\u001b[1;33m)\u001b[0m\u001b[1;33m\u001b[0m\u001b[1;33m\u001b[0m\u001b[0m\n",
      "\u001b[1;32m~\\AppData\\Local\\Continuum\\anaconda3\\envs\\Slides\\lib\\site-packages\\tensorflow_core\\python\\saved_model\\loader_impl.py\u001b[0m in \u001b[0;36mparse_saved_model\u001b[1;34m(export_dir)\u001b[0m\n\u001b[0;32m     82\u001b[0m                    \u001b[0mconstants\u001b[0m\u001b[1;33m.\u001b[0m\u001b[0mSAVED_MODEL_FILENAME_PBTXT\u001b[0m\u001b[1;33m,\u001b[0m\u001b[1;33m\u001b[0m\u001b[1;33m\u001b[0m\u001b[0m\n\u001b[1;32m---> 83\u001b[1;33m                    constants.SAVED_MODEL_FILENAME_PB))\n\u001b[0m\u001b[0;32m     84\u001b[0m \u001b[1;33m\u001b[0m\u001b[0m\n",
      "\u001b[1;31mOSError\u001b[0m: SavedModel file does not exist at: /content/drive/My Drive/Assignment-3-JdHondt\\model_1_1.h5/{saved_model.pbtxt|saved_model.pb}",
      "\nDuring handling of the above exception, another exception occurred:\n",
      "\u001b[1;31mTypeError\u001b[0m                                 Traceback (most recent call last)",
      "\u001b[1;32m<ipython-input-32-a5975f8083f7>\u001b[0m in \u001b[0;36m<module>\u001b[1;34m\u001b[0m\n\u001b[0;32m     22\u001b[0m \u001b[1;33m\u001b[0m\u001b[0m\n\u001b[0;32m     23\u001b[0m run_evaluation(\"model_1_1\", build_model_1_1, evaluation_split, base_dir, \n\u001b[1;32m---> 24\u001b[1;33m                train=False, epochs=30, batch_size=32)\n\u001b[0m\u001b[0;32m     25\u001b[0m answer_q_1_1 = \"\"\"\n\u001b[0;32m     26\u001b[0m \u001b[0mAfter\u001b[0m \u001b[0mexperimenting\u001b[0m \u001b[1;32mwith\u001b[0m \u001b[0mdifferent\u001b[0m \u001b[0mnumbers\u001b[0m \u001b[0mof\u001b[0m \u001b[0mlayers\u001b[0m \u001b[1;32mand\u001b[0m \u001b[0mnodes\u001b[0m\u001b[1;33m,\u001b[0m \u001b[0mthe\u001b[0m \u001b[0mchosen\u001b[0m \u001b[0mmodel\u001b[0m \u001b[1;32mis\u001b[0m \u001b[0ma\u001b[0m \u001b[0mmodel\u001b[0m \u001b[1;32mwith\u001b[0m \u001b[1;36m4\u001b[0m \u001b[0mhidden\u001b[0m \u001b[0mlayers\u001b[0m\u001b[1;33m,\u001b[0m \u001b[1;32mand\u001b[0m \u001b[1;36m3072\u001b[0m \u001b[0mnodes\u001b[0m \u001b[1;32min\u001b[0m \u001b[0mthe\u001b[0m \u001b[0mfirst\u001b[0m \u001b[0mlayer\u001b[0m\u001b[1;33m.\u001b[0m\u001b[1;33m\u001b[0m\u001b[1;33m\u001b[0m\u001b[0m\n",
      "\u001b[1;32m<ipython-input-31-ad467dfcf61b>\u001b[0m in \u001b[0;36mrun_evaluation\u001b[1;34m(name, model_builder, data, base_dir, train, generator, epochs, batch_size, steps_per_epoch, verbose, prnt, **kwargs)\u001b[0m\n\u001b[0;32m    120\u001b[0m     \u001b[1;32melse\u001b[0m\u001b[1;33m:\u001b[0m \u001b[1;31m# Load from file\u001b[0m\u001b[1;33m\u001b[0m\u001b[1;33m\u001b[0m\u001b[0m\n\u001b[0;32m    121\u001b[0m         \u001b[0mshout\u001b[0m\u001b[1;33m(\u001b[0m\u001b[1;34m\"Loading model from file\"\u001b[0m\u001b[1;33m,\u001b[0m \u001b[0mverbose\u001b[0m\u001b[1;33m)\u001b[0m\u001b[1;33m\u001b[0m\u001b[1;33m\u001b[0m\u001b[0m\n\u001b[1;32m--> 122\u001b[1;33m         \u001b[0mmodel\u001b[0m \u001b[1;33m=\u001b[0m \u001b[0mload_model_from_file\u001b[0m\u001b[1;33m(\u001b[0m\u001b[0mbase_dir\u001b[0m\u001b[1;33m,\u001b[0m \u001b[0mname\u001b[0m\u001b[1;33m)\u001b[0m\u001b[1;33m\u001b[0m\u001b[1;33m\u001b[0m\u001b[0m\n\u001b[0m\u001b[0;32m    123\u001b[0m         \u001b[1;32mif\u001b[0m \u001b[1;32mnot\u001b[0m \u001b[0mmodel\u001b[0m\u001b[1;33m:\u001b[0m\u001b[1;33m\u001b[0m\u001b[1;33m\u001b[0m\u001b[0m\n\u001b[0;32m    124\u001b[0m             \u001b[0mshout\u001b[0m\u001b[1;33m(\u001b[0m\u001b[1;34m\"Model not found\"\u001b[0m\u001b[1;33m)\u001b[0m\u001b[1;33m\u001b[0m\u001b[1;33m\u001b[0m\u001b[0m\n",
      "\u001b[1;32m<ipython-input-31-ad467dfcf61b>\u001b[0m in \u001b[0;36mload_model_from_file\u001b[1;34m(base_dir, name, extension)\u001b[0m\n\u001b[0;32m     33\u001b[0m       \u001b[0mmodel\u001b[0m \u001b[1;33m=\u001b[0m \u001b[0mload_model\u001b[0m\u001b[1;33m(\u001b[0m\u001b[0mos\u001b[0m\u001b[1;33m.\u001b[0m\u001b[0mpath\u001b[0m\u001b[1;33m.\u001b[0m\u001b[0mjoin\u001b[0m\u001b[1;33m(\u001b[0m\u001b[0mbase_dir\u001b[0m\u001b[1;33m,\u001b[0m \u001b[0mname\u001b[0m\u001b[1;33m+\u001b[0m\u001b[0mextension\u001b[0m\u001b[1;33m)\u001b[0m\u001b[1;33m)\u001b[0m\u001b[1;33m\u001b[0m\u001b[1;33m\u001b[0m\u001b[0m\n\u001b[0;32m     34\u001b[0m   \u001b[1;32mexcept\u001b[0m \u001b[0mOSError\u001b[0m \u001b[1;32mas\u001b[0m \u001b[0me\u001b[0m\u001b[1;33m:\u001b[0m\u001b[1;33m\u001b[0m\u001b[1;33m\u001b[0m\u001b[0m\n\u001b[1;32m---> 35\u001b[1;33m     \u001b[0mshout\u001b[0m\u001b[1;33m(\u001b[0m\u001b[0me\u001b[0m\u001b[1;33m)\u001b[0m\u001b[1;33m\u001b[0m\u001b[1;33m\u001b[0m\u001b[0m\n\u001b[0m\u001b[0;32m     36\u001b[0m     \u001b[0mshout\u001b[0m\u001b[1;33m(\u001b[0m\u001b[1;34m\"Saved model could not be found. Was it trained and stored correctly? Is the base_dir correct?\"\u001b[0m\u001b[1;33m)\u001b[0m\u001b[1;33m\u001b[0m\u001b[1;33m\u001b[0m\u001b[0m\n\u001b[0;32m     37\u001b[0m     \u001b[1;32mreturn\u001b[0m \u001b[1;32mFalse\u001b[0m\u001b[1;33m\u001b[0m\u001b[1;33m\u001b[0m\u001b[0m\n",
      "\u001b[1;32m<ipython-input-31-ad467dfcf61b>\u001b[0m in \u001b[0;36mshout\u001b[1;34m(text, verbose)\u001b[0m\n\u001b[0;32m     10\u001b[0m     \"\"\"\n\u001b[0;32m     11\u001b[0m     \u001b[1;32mif\u001b[0m \u001b[0mverbose\u001b[0m\u001b[1;33m>\u001b[0m\u001b[1;36m0\u001b[0m\u001b[1;33m:\u001b[0m\u001b[1;33m\u001b[0m\u001b[1;33m\u001b[0m\u001b[0m\n\u001b[1;32m---> 12\u001b[1;33m         \u001b[0mprint\u001b[0m\u001b[1;33m(\u001b[0m\u001b[1;34m'\\033[91m'\u001b[0m\u001b[1;33m+\u001b[0m\u001b[0mtext\u001b[0m\u001b[1;33m+\u001b[0m\u001b[1;34m'\\x1b[0m'\u001b[0m\u001b[1;33m)\u001b[0m\u001b[1;33m\u001b[0m\u001b[1;33m\u001b[0m\u001b[0m\n\u001b[0m\u001b[0;32m     13\u001b[0m \u001b[1;33m\u001b[0m\u001b[0m\n\u001b[0;32m     14\u001b[0m \u001b[1;32mdef\u001b[0m \u001b[0mload_model_from_file\u001b[0m\u001b[1;33m(\u001b[0m\u001b[0mbase_dir\u001b[0m\u001b[1;33m,\u001b[0m \u001b[0mname\u001b[0m\u001b[1;33m,\u001b[0m \u001b[0mextension\u001b[0m\u001b[1;33m=\u001b[0m\u001b[1;34m'.h5'\u001b[0m\u001b[1;33m)\u001b[0m\u001b[1;33m:\u001b[0m\u001b[1;33m\u001b[0m\u001b[1;33m\u001b[0m\u001b[0m\n",
      "\u001b[1;31mTypeError\u001b[0m: can only concatenate str (not \"OSError\") to str"
     ],
     "ename": "TypeError",
     "evalue": "can only concatenate str (not \"OSError\") to str",
     "output_type": "error"
    }
   ]
  },
  {
   "cell_type": "markdown",
   "metadata": {
    "id": "U6WWj7bBCJfX",
    "colab_type": "text"
   },
   "source": [
    "### Question 1.2: Preprocessing (2 points)\n",
    "Rerun the model, but now preprocess the data first by converting the images to \n",
    "greyscale. You can use the helper function below. If you want to do additional \n",
    "preprocessing, you can do that here, too.\n",
    "* Store the preprocessed data as a tuple `preprocessed_split`\n",
    "* Rerun and re-evaluate your model using the preprocessed data.\n",
    "  * For the remainder of the assignment, always use the preprocessed data\n",
    "* Explain what you did and interpret the results in 'answer_q_1_2'. Is the model\n",
    "  better, if so, why?"
   ]
  },
  {
   "cell_type": "code",
   "metadata": {
    "colab_type": "code",
    "id": "3aTVsLaojNeM",
    "colab": {},
    "pycharm": {
     "is_executing": false
    }
   },
   "source": [
    "import cv2\n",
    "from skimage.filters import gabor_kernel\n",
    "\n",
    "def preprocess(data):\n",
    "  # Luminance-preserving RGB to greyscale conversion\n",
    "  data = np.expand_dims(np.dot(data, [0.2990, 0.5870, 0.1140]), axis=3)\n",
    "\n",
    "  return data\n",
    "\n",
    "# Replace with the preprocessed data\n",
    "preprocessed_split = preprocess(X_train), preprocess(X_val), y_train, y_val\n",
    "\n"
   ],
   "execution_count": null,
   "outputs": []
  },
  {
   "cell_type": "code",
   "metadata": {
    "id": "VgNt4HaAy_fF",
    "colab_type": "code",
    "outputId": "181a37a1-caee-4956-b932-56a16b9a01c9",
    "executionInfo": {
     "status": "ok",
     "timestamp": 1587392019356,
     "user_tz": -120,
     "elapsed": 5868,
     "user": {
      "displayName": "Jens d'Hondt",
      "photoUrl": "",
      "userId": "17885699761575924207"
     }
    },
    "colab": {
     "base_uri": "https://localhost:8080/",
     "height": 717
    },
    "pycharm": {
     "is_executing": false
    }
   },
   "source": [
    "# Adjusted model\n",
    "def build_model_1_2():\n",
    "  nn = models.Sequential()\n",
    "  nn.add(layers.Reshape((1024,), input_shape=(32,32)))\n",
    "  nn.add(layers.Dense(3072, activation='relu'))\n",
    "  nn.add(layers.Dense(3072/2, activation='relu'))\n",
    "  nn.add(layers.Dense(3072/4, activation='relu'))\n",
    "  nn.add(layers.Dense(3072/8, activation='relu'))\n",
    "  nn.add(layers.Dense(10, activation=\"softmax\"))\n",
    "\n",
    "  nn.compile(optimizer='sgd', \n",
    "              loss='categorical_crossentropy',\n",
    "              metrics=['accuracy'])\n",
    "  return nn\n",
    "\n",
    "# Evaluate. Use a new name 'model_1_2' to not overwrite the previous trained model\n",
    "run_evaluation(\"model_1_2\", build_model_1_2, preprocessed_split, base_dir, \n",
    "               train=False, epochs=30, batch_size=32)\n",
    "\n",
    "answer_q_1_2 = \"\"\"\n",
    "The images are converted to greyscale using Luminance-preserving conversion.\n",
    "The model's final performance is roughly the same, which indicates a minimal information-loss due to the conversion.\n",
    "However, the training time has decreased significantly as less data ought to be processed.\n",
    "This advantage could be exploited by creating a more complex model.\n",
    "Unfortunately, we see that the model does not overfit less after epoch 10.\n",
    "\"\"\"\n",
    "print(\"Answer is {} characters long\".format(len(answer_q_1_2)))"
   ],
   "execution_count": null,
   "outputs": []
  },
  {
   "cell_type": "markdown",
   "metadata": {
    "colab_type": "text",
    "id": "7l1pHwimiWQI"
   },
   "source": [
    "### Question 1.3: Regularization and tuning (4 points)\n",
    "* Regularize the model. You can explore (and combine) different techniques. What works best?\n",
    "* Tune other hyperparameters (e.g. learning rate, batch size,...) as you see fit.\n",
    "* Explain your findings and final design decisions. Retrain the model again on the preprocessed data and discuss the results.\n",
    "* Return your model in function 'build_model_1_3' and write your answer in 'answer_q_1_3'"
   ]
  },
  {
   "cell_type": "code",
   "metadata": {
    "colab_type": "code",
    "id": "2ZZenVX1jDIQ",
    "outputId": "1c6d4d6a-a7ae-42cb-ab44-cb676a9c8196",
    "executionInfo": {
     "status": "ok",
     "timestamp": 1587391576079,
     "user_tz": -120,
     "elapsed": 46554,
     "user": {
      "displayName": "Jens d'Hondt",
      "photoUrl": "",
      "userId": "17885699761575924207"
     }
    },
    "colab": {
     "base_uri": "https://localhost:8080/",
     "height": 1000
    },
    "pycharm": {
     "is_executing": false
    }
   },
   "source": [
    "from tensorflow.keras import regularizers\n",
    "from tensorflow.keras.optimizers import SGD, Adagrad, Adam, Adamax\n",
    "\n",
    "\n",
    "def build_model_1_3():\n",
    "  nn = models.Sequential()\n",
    "  nn.add(layers.Reshape((1024,), input_shape=(32,32)))\n",
    "\n",
    "  nn.add(layers.Dense(3072, activation='relu'\n",
    "  # ,kernel_regularizer=regularizers.l2(0.001)\n",
    "  ))\n",
    "  nn.add(layers.Dropout(0.1))\n",
    "  nn.add(layers.BatchNormalization())\n",
    "\n",
    "  nn.add(layers.Dense(3072/2, activation='relu'\n",
    "  # ,kernel_regularizer=regularizers.l2(0.001)\n",
    "  ))\n",
    "  nn.add(layers.Dropout(0.1))\n",
    "  nn.add(layers.BatchNormalization())\n",
    "\n",
    "\n",
    "  nn.add(layers.Dense(3072/4, activation='relu'\n",
    "        # ,kernel_regularizer=regularizers.l2(0.001)\n",
    "        ))\n",
    "  nn.add(layers.Dropout(0.1))\n",
    "  nn.add(layers.BatchNormalization())\n",
    "  \n",
    "  nn.add(layers.Dense(3072/4, activation='relu'\n",
    "  # ,kernel_regularizer=regularizers.l2(0.001)\n",
    "  ))\n",
    "  nn.add(layers.Dropout(0.1))\n",
    "  nn.add(layers.BatchNormalization())\n",
    "\n",
    "  nn.add(layers.Dense(3072/8, activation='relu'\n",
    "  # ,kernel_regularizer=regularizers.l2(0.001)\n",
    "  ))\n",
    "  nn.add(layers.Dropout(0.1))\n",
    "  nn.add(layers.BatchNormalization())\n",
    "\n",
    "  nn.add(layers.Dense(10, activation=\"softmax\"))\n",
    "\n",
    "\n",
    "  # optimizer = SGD(lr=0.001)\n",
    "  optimizer = Adagrad(learning_rate=0.001)\n",
    "  # optimizer = Adam(learning_rate=0.001)\n",
    "  # optimizer = Adamax(learning_rate=0.001)\n",
    "\n",
    "  nn.compile(optimizer=optimizer, \n",
    "              loss='categorical_crossentropy',\n",
    "              metrics=['accuracy'])\n",
    "\n",
    "  return nn\n",
    "\n",
    "\n",
    "run_evaluation(\"model_1_3\", build_model_1_3, preprocessed_split, base_dir, \n",
    "                train=False, epochs=40, batch_size=32)\n",
    "  \n",
    "answer_q_1_3 = \"\"\"\n",
    "After experimenting with kernel_regularizers, dropout/batch_normalization layers, optimizer tuning, \n",
    "it was concluded that the usage of batch normalization and minor dropout layers resulted in the highest performance.\n",
    "The minor impact of regularization may be because overfitting was already avoided when designing the initial model.\n",
    "The benefit is minimal in terms of performance. Nevertheless, the overfitting seen in model_1_1 is severely minimized, improving the model's generalizability.\n",
    "\"\"\"\n",
    "print(\"Answer is {} characters long\".format(len(answer_q_1_3)))"
   ],
   "execution_count": null,
   "outputs": []
  },
  {
   "cell_type": "markdown",
   "metadata": {
    "colab_type": "text",
    "id": "leo7YbI9L5et"
   },
   "source": [
    "## Part 2. Convolutional neural networks (10 points)\n",
    "### Question 2.1: Design a ConvNet (7 points)\n",
    "- Build a sequential convolutional neural network. Try to achieve the best validation accuracy you can. You should be able to get at least 90% accuracy. You can use any depth, any combination of layers, and any kind of regularization and tuning. \n",
    "- Add a description of your design choices in 'answer_q_2_1': explain what you did and also why. Also discuss the performance of the model. Is it working well? Both the performance of the model and your explanations matter.\n",
    "- You are allowed **800** characters for this answer (but don’t ramble).\n",
    "- The name of the model should be 'model_2_1'. Evaluate it using the 'run_evaluation' function and the preprocessed data."
   ]
  },
  {
   "cell_type": "code",
   "metadata": {
    "id": "5X8aJK86DoDK",
    "colab_type": "code",
    "colab": {
     "base_uri": "https://localhost:8080/",
     "height": 1000
    },
    "outputId": "dbcc12da-faaa-40ca-b4e5-46f715783459",
    "executionInfo": {
     "status": "ok",
     "timestamp": 1587392029862,
     "user_tz": -120,
     "elapsed": 10492,
     "user": {
      "displayName": "Jens d'Hondt",
      "photoUrl": "",
      "userId": "17885699761575924207"
     }
    },
    "pycharm": {
     "is_executing": false
    }
   },
   "source": [
    "import tensorflow.keras.backend as K\n",
    "from tensorflow.keras.optimizers import SGD, RMSprop\n",
    "from tensorflow.keras import regularizers\n",
    "from tensorflow.keras.initializers import VarianceScaling\n",
    "\n",
    "def build_model_2_1():\n",
    "  cnn = models.Sequential()\n",
    "\n",
    "  # Convolution layers\n",
    "  # Hidden layer 1\n",
    "  cnn.add(layers.Conv2D(48, (3, 3), activation='relu', input_shape=(32, 32, 1),\n",
    "                        kernel_initializer=VarianceScaling(distribution='uniform')\n",
    "                        ,padding=\"same\"\n",
    "                        # , kernel_regularizer=regularizers.l2(0.0005)\n",
    "                        # , bias_regularizer=regularizers.l2(0.0005)\n",
    "                        # , activity_regularizer=regularizers.l1(0.0005)\n",
    "                        ))\n",
    "  cnn.add(layers.MaxPooling2D((2, 2), strides=(2,2)))\n",
    "  cnn.add(layers.BatchNormalization())\n",
    "\n",
    "  # Hidden layer 2\n",
    "  cnn.add(layers.Conv2D(64, (3, 3), activation='relu',\n",
    "                        kernel_initializer=VarianceScaling(distribution='uniform')\n",
    "                        ,padding=\"same\"\n",
    "                        # , kernel_regularizer=regularizers.l2(0.0005)\n",
    "                        # , bias_regularizer=regularizers.l2(0.0005)\n",
    "                        # , activity_regularizer=regularizers.l1(0.0005)\n",
    "                        ))\n",
    "  cnn.add(layers.MaxPooling2D((2, 2), strides=(1, 1)))\n",
    "  cnn.add(layers.Dropout(0.2))\n",
    "  cnn.add(layers.BatchNormalization())\n",
    "  \n",
    "  # Hidden layer 3\n",
    "  cnn.add(layers.Conv2D(128, (3, 3), activation='relu',\n",
    "                        kernel_initializer=VarianceScaling(distribution='uniform')\n",
    "                        ,padding=\"same\"\n",
    "                        # , kernel_regularizer=regularizers.l2(0.0005)\n",
    "                        # , bias_regularizer=regularizers.l2(0.0005)\n",
    "                        # , activity_regularizer=regularizers.l1(0.0005)\n",
    "                        ))\n",
    "  cnn.add(layers.MaxPooling2D((2, 2), strides=(2,2)))\n",
    "  cnn.add(layers.Dropout(0.25))\n",
    "  cnn.add(layers.BatchNormalization())\n",
    "\n",
    "  # Hidden layer 4\n",
    "  cnn.add(layers.Conv2D(160, (3, 3), activation='relu',\n",
    "                        kernel_initializer=VarianceScaling(distribution='uniform')\n",
    "                        ,padding=\"same\"\n",
    "                        # , kernel_regularizer=regularizers.l2(0.0005)\n",
    "                        # , bias_regularizer=regularizers.l2(0.0005)\n",
    "                        # , activity_regularizer=regularizers.l1(0.0005)\n",
    "                        ))\n",
    "  cnn.add(layers.MaxPooling2D((2, 2), strides=(1, 1)))\n",
    "  cnn.add(layers.Dropout(0.3))\n",
    "  cnn.add(layers.BatchNormalization())\n",
    "  \n",
    "  # # Hidden layer 5\n",
    "  cnn.add(layers.Conv2D(192, (3, 3), activation='relu',\n",
    "                        kernel_initializer=VarianceScaling(distribution='uniform')\n",
    "                        ,padding=\"same\"\n",
    "  #                       # , kernel_regularizer=regularizers.l2(0.0005)\n",
    "  #                       # , bias_regularizer=regularizers.l2(0.0005)\n",
    "  #                       # , activity_regularizer=regularizers.l1(0.0005)\n",
    "                        ))\n",
    "  cnn.add(layers.MaxPooling2D((2, 2), strides=(2,2)))\n",
    "  cnn.add(layers.Dropout(0.3))\n",
    "  cnn.add(layers.BatchNormalization())\n",
    "\n",
    "  # # Hidden layer 6\n",
    "  cnn.add(layers.Conv2D(192, (3, 3), activation='relu',\n",
    "                        kernel_initializer=VarianceScaling(distribution='uniform')\n",
    "                        ,padding=\"same\"\n",
    "  #                       # , kernel_regularizer=regularizers.l2(0.0005)\n",
    "  #                       # , bias_regularizer=regularizers.l2(0.0005)\n",
    "  #                       # , activity_regularizer=regularizers.l1(0.0005)\n",
    "                        ))\n",
    "  cnn.add(layers.MaxPooling2D((2, 2), strides=(1,1)))\n",
    "  cnn.add(layers.Dropout(0.3))\n",
    "  cnn.add(layers.BatchNormalization())\n",
    "  \n",
    "  # # Hidden layer 7\n",
    "  cnn.add(layers.Conv2D(192, (3, 3), activation='relu',\n",
    "                        kernel_initializer=VarianceScaling(distribution='uniform')\n",
    "                        ,padding=\"same\"\n",
    "  #                       # , kernel_regularizer=regularizers.l2(0.0005)\n",
    "  #                       # , bias_regularizer=regularizers.l2(0.0005)\n",
    "  #                       # , activity_regularizer=regularizers.l1(0.0005)\n",
    "                        ))\n",
    "  cnn.add(layers.MaxPooling2D((2, 2), strides=(2,2)))\n",
    "  cnn.add(layers.Dropout(0.3))\n",
    "  cnn.add(layers.BatchNormalization())\n",
    "\n",
    "  # # Hidden layer 8\n",
    "  # cnn.add(layers.Conv2D(190, (5, 5), activation='relu',\n",
    "  #                       kernel_initializer=VarianceScaling(distribution='uniform')\n",
    "  #                       # , kernel_regularizer=regularizers.l2(0.0005)\n",
    "  #                       # , bias_regularizer=regularizers.l2(0.0005)\n",
    "  #                       # , activity_regularizer=regularizers.l1(0.0005)\n",
    "  #                       ))\n",
    "  # cnn.add(layers.MaxPooling2D((2, 2), strides=(2,2)))\n",
    "  # cnn.add(layers.BatchNormalization())\n",
    "\n",
    "  # Classification layers\n",
    "  cnn.add(layers.Flatten())\n",
    "  cnn.add(layers.Dense(4096, activation='relu',\n",
    "          kernel_initializer=VarianceScaling(distribution='uniform')))\n",
    "  cnn.add(layers.Dropout(0.5))\n",
    "  cnn.add(layers.Dense(4096, activation='relu',\n",
    "          kernel_initializer=VarianceScaling(distribution='uniform')))\n",
    "  cnn.add(layers.Dropout(0.5))\n",
    "\n",
    "  cnn.add(layers.Dense(10, activation='softmax',\n",
    "          kernel_initializer=VarianceScaling(distribution='uniform')))\n",
    "\n",
    "  cnn.compile(optimizer='sgd', \n",
    "              loss='categorical_crossentropy',\n",
    "              metrics=['accuracy'])\n",
    "  return cnn\n",
    "\n",
    "# model = build_model_2_1()\n",
    "# model.summary()\n",
    "\n",
    "run_evaluation(\"model_2_1\", build_model_2_1, preprocessed_split, base_dir, \n",
    "                train=False, epochs=30, batch_size=32)\n",
    "\n",
    "\n",
    "answer_q_2_1 = \"\"\"\n",
    "After evaluating a collection of models, varying the number of layers, filters, kernel-size and -initializers, the decision was made to use the model described above.\n",
    "To prevent overfitting, dropout, max pooling and normalization layers were added between conv2d layers, alternating the stride between 2 and 1 and using zero-padding to control the spatial size of the tensors.\n",
    "Despite requiring a higher training time, SGD was used over RMSProp as it was able to add a small but significant performance increase.\n",
    "The final performance of the model is satisfactory, and overfitting suprisingly little given the depth of the network.\n",
    "From this we conclude that the addition of regularization layers was effective.\n",
    "\"\"\"\n",
    "print(\"Answer is {} characters long\".format(len(answer_q_2_1)))"
   ],
   "execution_count": null,
   "outputs": []
  },
  {
   "cell_type": "markdown",
   "metadata": {
    "colab_type": "text",
    "id": "EpdLTbPwXmOc"
   },
   "source": [
    "### Question 2.2: Data Augmentation (3 points)\n",
    "\n",
    "- Augment the preprocessed training data. You can explore using image shifts, rotations, zooming, flips, etc. What works well, and what does not?\n",
    "- Evaluate the model from question 2.1 with the augmented data using the 'run_evaluation' function. Store the new trained model as 'model_2_2'.\n",
    "- Add a description of your design choices in 'answer_q_2_2': explain what you did and also why. Also discuss the performance of the model."
   ]
  },
  {
   "cell_type": "code",
   "metadata": {
    "colab_type": "code",
    "id": "cp8wMUU-aqhQ",
    "outputId": "309ab4cf-30bd-4b7e-8cdd-3358d4db890b",
    "executionInfo": {
     "status": "ok",
     "timestamp": 1587392103493,
     "user_tz": -120,
     "elapsed": 15324,
     "user": {
      "displayName": "Jens d'Hondt",
      "photoUrl": "",
      "userId": "17885699761575924207"
     }
    },
    "colab": {
     "base_uri": "https://localhost:8080/",
     "height": 1000
    },
    "pycharm": {
     "is_executing": false
    }
   },
   "source": [
    "# Note that we build the same untrained model as in question 2.1 but store the \n",
    "# trained version as model_2_2. Change attributes as needed to run on augmented\n",
    "# data\n",
    "from keras.preprocessing.image import ImageDataGenerator\n",
    "from tensorflow.keras.wrappers.scikit_learn import KerasClassifier\n",
    "\n",
    "\n",
    "def build_model_2_2():\n",
    "  train_datagen = ImageDataGenerator(\n",
    "                  # samplewise_center=True,\n",
    "                  rotation_range=40\n",
    "                  # ,width_shift_range=0.1\n",
    "                  # ,height_shift_range=0.1\n",
    "                  # ,shear_range=0.1\n",
    "                  ,zoom_range=0.4\n",
    "                  # ,horizontal_flip=True\n",
    "                  # ,fill_mode='nearest'\n",
    "                  )\n",
    "  \n",
    "  train_datagen.fit(preprocess(X_train))\n",
    "  augmented_split = train_datagen.flow(preprocess(X_train), y_train, batch_size=32), preprocess(X_val), y_val\n",
    "\n",
    "  return augmented_split\n",
    "  \n",
    "augmented_split = build_model_2_2()\n",
    "run_evaluation(\"model_2_2\", build_model_2_1, augmented_split, base_dir, \n",
    "                          generator=True, train=False , epochs=40, batch_size=32,\n",
    "                          steps_per_epoch=2000)\n",
    "\n",
    "answer_q_2_2 = \"\"\"\n",
    "After experimenting with a range of augmentation methods,\n",
    "it was found that the highest performance was achieved using image rotations and zooming.\n",
    "Logically, excessive width, height, shear and flipping transformations did not work as this impacts the shape of the digit,\n",
    "possibly turning them into other digits or unreadable shapes.\n",
    "The model performance is slightly less than earlier, but the val_loss is now under the training loss, minimizing overfitting further and improving generalizability.\n",
    "\"\"\"\n",
    "print(\"Answer is {} characters long\".format(len(answer_q_2_2)))"
   ],
   "execution_count": null,
   "outputs": []
  },
  {
   "cell_type": "markdown",
   "metadata": {
    "colab_type": "text",
    "id": "Nb8jrFlnbBUP"
   },
   "source": [
    "## Part 3. Model interpretation (10 points)\n",
    "### Question 3.1: Interpreting misclassifications (2 points)\n",
    "Study which errors are still made by your last model (model_2_2) by evaluating it on the test data. You do not need to retrain the model.\n",
    "* What is the accuracy of model_2_2 on the test data? Store this in 'test_accuracy_3_1'.\n",
    "* Plot the confusion matrix in 'plot_confusion_matrix' and discuss which classes are often confused.\n",
    "* Visualize the misclassifications in more depth by focusing on a single\n",
    "class (e.g. the number '2') and analyse which kinds of mistakes are made for that class. For instance, are the errors related to the background, noisiness, etc.? Implement the visualization in 'plot_misclassifications'.\n",
    "* Summarize your findings in 'answer_q_3_1'"
   ]
  },
  {
   "cell_type": "code",
   "metadata": {
    "colab_type": "code",
    "id": "yNg-7JsSbn2-",
    "colab": {},
    "pycharm": {
     "is_executing": false
    }
   },
   "source": [
    "from tensorflow.keras.models import load_model\n",
    "import matplotlib.pyplot as plt\n",
    "from sklearn.metrics import confusion_matrix, ConfusionMatrixDisplay\n",
    "\n",
    "\n",
    "model = load_model(os.path.join(base_dir, 'model_2_2.h5'))\n",
    "\n",
    "y_pred = model.predict(preprocess(X_test))\n",
    "\n",
    "y_pred_proc = (np.argmax(y_pred, axis=1)+1)%10\n",
    "y_test_proc = (np.argmax(y_test, axis=1)+1)%10\n",
    "\n",
    "\n",
    "print(\"test accuracy:\", np.mean([y_pred_proc == y_test_proc]))\n",
    "test_accuracy_3_1 = 0.918\n",
    "\n",
    "\n",
    "def plot_confusion_matrix(y_pred= y_pred_proc, y_test = y_test_proc):\n",
    "  cm = confusion_matrix(y_test, y_pred, labels=np.arange(10))\n",
    "\n",
    "  test = np.copy(cm)\n",
    "  np.fill_diagonal(test, 0)\n",
    "  print(\"max mistaken:\", np.argmax(np.sum(test, axis=1)))\n",
    "\n",
    "  disp = ConfusionMatrixDisplay(confusion_matrix=cm, \n",
    "                                display_labels=np.arange(10))\n",
    "  fig = plt.figure(figsize=(8,8))\n",
    "  ax = fig.add_subplot()\n",
    "\n",
    "  disp.plot(ax=ax, values_format='.5g')\n",
    "  plt.show()\n",
    "\n",
    "\n",
    "def plot_misclassifications(X_test=X_test, y_pred_raw =y_pred,\n",
    "                            y_pred_proc=y_pred_proc, y_true=y_test_proc, \n",
    "                            true_label = 5):\n",
    "\n",
    "\n",
    "  misclass_idx = [i for i in range(len(y_true)) if y_true[i] == true_label and y_pred_proc[i] != true_label]\n",
    "\n",
    "\n",
    "  # choice = np.random.choice(misclass_idx, 30, replace=False)\n",
    "  choice = [17010 , 3129 , 4267, 14668, 11927 , 4418, 14480 ,15589 , 8930 ,16785 ,14152 ,190,\n",
    "  4466, 19052 , 2714, 13930 , 2586 ,10218, 11994, 16579, 10443 , 8239 , 2173 , 8826,\n",
    "  3463  ,1532, 18030 , 7970 ,15285 , 8131]\n",
    "\n",
    "  # print(choice)\n",
    "\n",
    "  for i in range(len(choice)//5):\n",
    "\n",
    "    X_plot = [X_test[i] for i in choice[i*5:(i+1)*5]]\n",
    "    y_plot = [y_pred_raw[i] for i in choice[i*5:(i+1)*5]]\n",
    "\n",
    "    plot_images(X_plot, y_plot, True)\n",
    "    plt.show()\n",
    "\n",
    "\n",
    "plot_confusion_matrix()\n",
    "plot_misclassifications()\n",
    "\n",
    "answer_q_3_1 = \"\"\"\n",
    "From the confusion matrix can be concluded that 7 is often mistaken for a 1 or a 2, and 5 is often mistaken for a 3.\n",
    "This is probably due to noisiness or deformations of the image, so that a digit is only partly visible, making it look similar to another digit (e.g. 5 like a 3).\n",
    "This is confirmed by the figures below; some pictures are so blurry that only the bottom part of 5 is visible, making it look like a 3. Some images are even hard to classify by myself.\n",
    "\"\"\"\n",
    "print(\"Answer is {} characters long\".format(len(answer_q_3_1)))"
   ],
   "execution_count": null,
   "outputs": []
  },
  {
   "cell_type": "markdown",
   "metadata": {
    "colab_type": "text",
    "id": "EBRdBpz5Hcrx"
   },
   "source": [
    "### Question 3.2: Visualizing activations (4 points)\n",
    "* Implement a function `plot_activations()` that returns the most interesting activations (feature maps). Select the first example from the test set. Retrieve and visualize the activations of model 2_2 for that example (make sure you load that model in the function), for every filter for different convolutional layers (at different depths in the network).\n",
    "* Give an explanation (as detailed as you can) about your observations in 'answer_q_3_2'. Is your model indeed learning something useful?"
   ]
  },
  {
   "cell_type": "code",
   "metadata": {
    "colab_type": "code",
    "id": "TyQ-IHHcN5Qc",
    "colab": {},
    "pycharm": {
     "is_executing": false
    }
   },
   "source": [
    "from tensorflow.keras.models import load_model\n",
    "\n",
    "def plot_activations():\n",
    "  model = load_model(os.path.join(base_dir, 'model_2_2.h5'))\n",
    "  model.summary()  # As a reminder.\n",
    "\n",
    "  img_tensor = X_test[0]\n",
    "  img_tensor = np.expand_dims(img_tensor, axis=0)\n",
    "\n",
    "  # plt.imshow(img_tensor[0])\n",
    "  # plt.show()\n",
    "\n",
    "  img_tensor = preprocess(img_tensor)\n",
    "\n",
    "  layer_outputs = [layer.output for layer in model.layers[:12]]\n",
    "  activation_model = models.Model(inputs=model.input, outputs=layer_outputs)\n",
    "\n",
    "  activations = activation_model.predict(img_tensor)\n",
    "\n",
    "  plt.rcParams['figure.dpi'] = 60\n",
    "\n",
    "  # first_layer_activation = activations[0]\n",
    "  # plt.matshow(first_layer_activation[0, :, :, 3], cmap='viridis')\n",
    "  # plt.show()\n",
    "\n",
    "  images_per_row = 16\n",
    "\n",
    "  layer_names = []\n",
    "  for layer in model.layers[:12]:\n",
    "    layer_names.append(layer.name)\n",
    "\n",
    "  # Now let's display our feature maps\n",
    "  for start, end in [(0,2), (4,6), (8, 11)]: \n",
    "\n",
    "    for layer_name, layer_activation in zip(layer_names[start:end], activations[start:end]):\n",
    "\n",
    "        \n",
    "\n",
    "        # This is the number of features in the feature map\n",
    "        n_features = layer_activation.shape[-1]\n",
    "\n",
    "        # The feature map has shape (1, size, size, n_features)\n",
    "        size = layer_activation.shape[1]\n",
    "\n",
    "        # We will tile the activation channels in this matrix\n",
    "        n_cols = n_features // images_per_row\n",
    "        display_grid = np.zeros((size * n_cols, images_per_row * size))\n",
    "\n",
    "        # We'll tile each filter into this big horizontal grid\n",
    "        for col in range(n_cols):\n",
    "            for row in range(images_per_row):\n",
    "                channel_image = layer_activation[0,\n",
    "                                                  :, :,\n",
    "                                                  col * images_per_row + row]\n",
    "                # Post-process the feature to make it visually palatable\n",
    "                channel_image -= channel_image.mean()\n",
    "                channel_image /= channel_image.std()\n",
    "                channel_image *= 64\n",
    "                channel_image += 128\n",
    "                channel_image = np.clip(channel_image, 0, 255).astype('uint8')\n",
    "                display_grid[col * size : (col + 1) * size,\n",
    "                              row * size : (row + 1) * size] = channel_image\n",
    "\n",
    "        # Display the grid\n",
    "        scale = 1. / size\n",
    "        plt.figure(figsize=(scale * display_grid.shape[1],\n",
    "                            scale * display_grid.shape[0]))\n",
    "        plt.title(layer_name)\n",
    "        plt.grid(False)\n",
    "        plt.imshow(display_grid, aspect='auto', cmap='viridis')\n",
    "\n",
    "    plt.show()\n",
    "\n",
    "plot_activations()\n",
    "\n",
    "\n",
    "answer_q_3_2 = \"\"\"\n",
    "From the first two layers of activations we see that there some empty spots;\n",
    "indicating there are filters that deal with aspects not present in this image.\n",
    "It seems that the deeper a layer is located in the network, the smaller the aspect digit aspect is it is trying to capture.\n",
    "To show, the first two layers seems to use filters that try to detect the edges and shape of a digit.\n",
    "The second two layers seem to isolate the parts of edges of the digit.\n",
    "All other edges get too abtract to analyze.\n",
    "\"\"\"\n",
    "print(\"Answer is {} characters long\".format(len(answer_q_3_2)))"
   ],
   "execution_count": null,
   "outputs": []
  },
  {
   "cell_type": "markdown",
   "metadata": {
    "colab_type": "text",
    "id": "6a4XT0-7Ym25"
   },
   "source": [
    "### Question 3.3: Visualizing activations (4 points)\n",
    "* Again, select the first example from the test set, and the trained model_2_2.\n",
    "* Implement a function `plot_activation_map()` that builds and shows a class activation map for your last convolutional layer that highlights what the model is paying attention to when classifying the example.\n",
    "* If possible, superimpossible the activation map over the image. If not, plot\n",
    "them side by side. Implement a function 'plot_3_3' that returns the entire plot."
   ]
  },
  {
   "cell_type": "code",
   "metadata": {
    "colab_type": "code",
    "id": "vsmqYQl2ZZ4n",
    "colab": {},
    "pycharm": {
     "is_executing": false
    }
   },
   "source": [
    "import cv2\n",
    "from tensorflow.keras import backend as K\n",
    "from tensorflow.keras.models import load_model\n",
    "tensorflow.compat.v1.disable_eager_execution()\n",
    "\n",
    "def plot_3_3():\n",
    "  model = load_model(os.path.join(base_dir, 'model_2_2.h5'))\n",
    "  model.summary()  # As a reminder.\n",
    "\n",
    "  img = X_test[0]\n",
    "  img_tensor = np.expand_dims(img, axis=0)\n",
    "\n",
    "\n",
    "  img_tensor = preprocess(img_tensor)\n",
    "\n",
    "  # plt.imshow(img_tensor[0])\n",
    "  # plt.show()\n",
    "\n",
    "\n",
    "  # print([layer.name for layer in model.layers])\n",
    "\n",
    "  image_output = model.output[:, 7]\n",
    "\n",
    "  # The is the output feature map of the `block5_conv3` layer,\n",
    "  # the last convolutional layer in VGG16\n",
    "  last_conv_layer = model.get_layer('conv2d_269')\n",
    "\n",
    "  # This is the gradient of the \"african elephant\" class with regard to\n",
    "  # the output feature map of `block5_conv3`\n",
    "  grads = K.gradients(image_output, last_conv_layer.output)[0]\n",
    "\n",
    "  # This is a vector of shape (160,), where each entry\n",
    "  # is the mean intensity of the gradient over a specific feature map channel\n",
    "  pooled_grads = K.mean(grads, axis=(0, 1, 2))\n",
    "\n",
    "  # print(pooled_grads.shape)\n",
    "\n",
    "  # This function allows us to access the values of the quantities we just defined:\n",
    "  # `pooled_grads` and the output feature map of `block5_conv3`,\n",
    "  # given a sample image\n",
    "  iterate = K.function([model.input], [pooled_grads, last_conv_layer.output[0]])\n",
    "\n",
    "  # These are the values of these two quantities, as Numpy arrays,\n",
    "  # given our sample image of two elephants\n",
    "  pooled_grads_value, conv_layer_output_value = iterate([img_tensor])\n",
    "\n",
    "  # We multiply each channel in the feature map array\n",
    "  # by \"how important this channel is\" with regard to the elephant class\n",
    "  for i in range(160):\n",
    "      conv_layer_output_value[:, :, i] *= pooled_grads_value[i]\n",
    "\n",
    "  # The channel-wise mean of the resulting feature map\n",
    "  # is our heatmap of class activation\n",
    "  heatmap = np.mean(conv_layer_output_value, axis=-1) \n",
    "\n",
    "  heatmap = np.maximum(heatmap, 0)\n",
    "  heatmap /= np.max(heatmap)\n",
    "\n",
    "\n",
    "  # plt.matshow(heatmap)\n",
    "  # plt.show()\n",
    "\n",
    "  # We resize the heatmap to have the same size as the original image\n",
    "  heatmap = cv2.resize(heatmap, (img.shape[1], img.shape[0]))\n",
    "\n",
    "  # We convert the heatmap to RGB\n",
    "  heatmap = np.uint8(255 * heatmap)\n",
    "\n",
    "  # We apply the heatmap to the original image\n",
    "  heatmap = cv2.applyColorMap(heatmap, cv2.COLORMAP_JET)\n",
    "\n",
    "  superimposed_img = heatmap * 0.003 + img\n",
    "\n",
    "  plt.imshow(superimposed_img)\n",
    "  plt.show()\n",
    "\n",
    "\n",
    "plot_3_3()"
   ],
   "execution_count": null,
   "outputs": []
  },
  {
   "cell_type": "markdown",
   "metadata": {
    "colab_type": "text",
    "id": "buQLQ16EypgL"
   },
   "source": [
    "## Part 4. Transfer learning (10 points)\n",
    "### Question 4.1 Fast feature extraction with VGG16 (5 points)\n",
    "- Import the VGG16 model, pretrained on ImageNet. [See here](https://keras.io/applications/). Only import the convolutional part, not the dense layers.\n",
    "- Implement a function 'build_model_4_1` that adds a dense layer to the convolutional base, and freezes the convolutional base. Consider unfreezing the last few convolutional layers and evaluate whether that works better.\n",
    "- Train the resulting model on the *original* (colored) training data\n",
    "- Evaluate the resulting model using 'run_evaluate'. Discuss the observed performance in 'answer_q_4_1'."
   ]
  },
  {
   "cell_type": "code",
   "metadata": {
    "colab_type": "code",
    "id": "QXH1Z7Pqj3HW",
    "colab": {},
    "pycharm": {
     "is_executing": false
    }
   },
   "source": [
    "from tensorflow.keras.applications import VGG16\n",
    "\n",
    "def build_model_4_1():\n",
    "  conv_base = VGG16(weights='imagenet',\n",
    "              include_top=False, input_shape=(32, 32, 3))\n",
    "  # conv_base.summary()\n",
    "\n",
    "  model = models.Sequential()\n",
    "  model.add(conv_base)\n",
    "  model.add(layers.Flatten())\n",
    "  model.add(layers.Dense(512, activation='relu'))\n",
    "  # model.add(layers.Dropout(0.5))\n",
    "  # model.add(layers.Dense(512, activation='relu'))\n",
    "  # model.add(layers.Dropout(0.5))\n",
    "  model.add(layers.Dense(10, activation='softmax'))\n",
    "\n",
    "  conv_base.trainable = True\n",
    "\n",
    "\n",
    "  unfrozen = [\n",
    "              'block5_conv3'\n",
    "              ,'block5_conv2'\n",
    "              ,'block5_conv1'\n",
    "              ,'block4_conv3'\n",
    "              ,'block4_conv2'\n",
    "              ,'block4_conv1'\n",
    "              ,'block3_conv3'\n",
    "              ,'block3_conv2'\n",
    "              ,'block3_conv1'\n",
    "              # ,'block2_conv3'\n",
    "              # ,'block2_conv2'\n",
    "              # ,'block2_conv1'\n",
    "  ]\n",
    "\n",
    "  set_trainable = False\n",
    "  for layer in conv_base.layers:\n",
    "    if layer.name in unfrozen:\n",
    "        set_trainable = True\n",
    "    if set_trainable:\n",
    "        layer.trainable = True\n",
    "    else:\n",
    "        layer.trainable = False\n",
    "\n",
    "  trainable_count = np.sum([K.count_params(w) for w in model.trainable_weights])\n",
    "  print(trainable_count)\n",
    "\n",
    "  model.summary()\n",
    "\n",
    "  model.compile(optimizer='sgd', \n",
    "              loss='categorical_crossentropy',\n",
    "              metrics=['accuracy'])\n",
    "  return model\n",
    "  \n",
    "\n",
    "# build_model_4_1()\n",
    " \n",
    "run_evaluation(\"model_4_1\", build_model_4_1, evaluation_split, base_dir, \n",
    "               generator=False, train=False, epochs=20, batch_size=32,\n",
    "                steps_per_epoch=1000)\n",
    "\n",
    "answer_q_4_1 = \"\"\"\n",
    "After experimenting with different dense layers and unfreezing blocks, it was managed to report a performance is slightly under that of model 2_2.\n",
    "Unfortunately, similar to model 2_1, the model is heavily overfitting after only a few epochs.\n",
    "This is not uncommon for networks with this many layers. As seen from question 2_2, this can be prevented using data augmentation.\n",
    "Furthermore, the absense of preprocessing does not seem to limit the model's performance.\n",
    "\"\"\"\n",
    "print(\"Answer is {} characters long\".format(len(answer_q_4_1)))"
   ],
   "execution_count": null,
   "outputs": []
  },
  {
   "cell_type": "markdown",
   "metadata": {
    "colab_type": "text",
    "id": "cp60rxZTYI8O"
   },
   "source": [
    "### Question 4.2 Embeddings and pipelines (5 points)\n",
    "- Generate embeddings of the original images by running them through the trained convolutional part of model_4_1 (without the dense layer) and returning the output. Embed the training and test data and store them to disk using the helper functions below. Implement a function `store_embeddings` that loads model_4_1 and stores all necessary embeddings to file. Make sure to run it once so that the embeddings are stored (and submitted).\n",
    "- Implement a function 'generate_pipeline' that returns an scikit-learn pipeline. You can use any non-deep learning technique (eg. SVMs, RFs,...), and preprocessing technique. You can do model selection using the validation set. \n",
    "- Implement a function 'evaluate_pipeline' that evaluates a given pipeline on a given training and test set. \n",
    "- Implement a function 'evaluation_4_2' that evaluates your pipeline on the embedded training and test set (loaded from file) and returns the accuracy. \n",
    "- Describe what you did and what you observed. Report the obtained accuracy score. Can you beat your best model thus far?"
   ]
  },
  {
   "cell_type": "code",
   "metadata": {
    "colab_type": "code",
    "id": "IQo_zskOrs_m",
    "colab": {},
    "pycharm": {
     "is_executing": false
    }
   },
   "source": [
    "import pickle\n",
    "import gzip\n",
    "import random\n",
    "import pandas as pd\n",
    "from joblib import dump, load\n",
    "from sklearn.pipeline import Pipeline\n",
    "from sklearn.ensemble import RandomForestClassifier\n",
    "from sklearn.linear_model import LogisticRegression\n",
    "from sklearn.svm import SVC\n",
    "from sklearn.model_selection import KFold, cross_val_score\n",
    "from sklearn.preprocessing import StandardScaler, Normalizer, PowerTransformer\n",
    "from sklearn.decomposition import PCA\n",
    "from sklearn.model_selection import RandomizedSearchCV\n",
    "\n",
    "def save_model_base():\n",
    "  source_model = load_model(os.path.join(base_dir, 'model_4_1.h5'))\n",
    "\n",
    "  model = models.Sequential()\n",
    "  for layer in source_model.layers[:-2]:\n",
    "    model.add(layer)\n",
    "\n",
    "  # model.summary()\n",
    "\n",
    "  save_model_to_file(model, base_dir, \"model_4_1_base\")\n",
    "\n",
    "def store_embedding(X, name):  \n",
    "  with gzip.open(os.path.join(base_dir, name+'_embedding.p'), 'wb') as file_pi:\n",
    "    pickle.dump(X, file_pi)\n",
    "\n",
    "def load_embedding(name):\n",
    "  with gzip.open(os.path.join(base_dir, name+'_embedding.p'), 'rb') as file_pi:\n",
    "    return pickle.load(file_pi)\n",
    "\n",
    "def store_embeddings():\n",
    "  \"\"\" Stores all necessary embeddings to file\n",
    "  \"\"\"\n",
    "  model = load_model(os.path.join(base_dir, 'model_4_1_base.h5'))\n",
    "\n",
    "  output = model.predict(Xr)\n",
    "  store_embedding(output, \"Xr\")\n",
    "\n",
    "def generate_pipeline():\n",
    "  \"\"\" Returns an sklearn pipeline.\n",
    "  \"\"\"\n",
    "  preprocessing = PCA()\n",
    "  # pipeline = Pipeline([\n",
    "  #   ('preprocessing', preprocessing),\n",
    "  #   ('classifier', clf)\n",
    "  # ])\n",
    "  pipeline = load(os.path.join(base_dir, \"model_4_2.joblib\"))\n",
    "\n",
    "  return pipeline \n",
    "    \n",
    "def model_selection(pipeline, X, y):\n",
    "  cv = KFold(3, shuffle = True, random_state=1)\n",
    "  score = cross_val_score(pipeline, X, y, cv=cv, scoring='accuracy').mean()\n",
    "  return score\n",
    "\n",
    "def evaluate_pipeline(X_train, y_train, X_test, y_test):\n",
    "  \"\"\" Evaluates the given pipeline, trained on the given embedded training set and \n",
    "      evaluated on the supplied embedded test set. Returns the accuracy score.\n",
    "  \"\"\"\n",
    "  pipeline.fit(X_train, y_train)\n",
    "  y_pred = pipeline.predict(X_test)\n",
    "\n",
    "  return  np.mean([y_pred == y_test]), pipeline\n",
    "\n",
    "def test_pipeline(pipeline, X_test, y_test):\n",
    "  y_pred = pipeline.predict(X_test)\n",
    "\n",
    "  return  np.mean([y_pred == y_test])\n",
    "\n",
    "\n",
    "def evaluation_4_2(X_train, y_train, X_test, y_test):\n",
    "  \"\"\" Runs 'evaluate_pipeline' with embedded versions of the input data \n",
    "  and returns the accuracy.\n",
    "  \"\"\"\n",
    "  pipeline = generate_pipeline()\n",
    "\n",
    "  score = test_pipeline(pipeline, Xe_test, y_test)\n",
    "    \n",
    "  # print(f\"testing score {score}\") # accuracy = 0.9633\n",
    "  # return  evaluate_pipeline(pipeline, X_train, y_train, X_test, y_test)\n",
    "  return  score\n",
    "\n",
    "\n",
    "\n",
    "# ---------------------- Training ------------------------------\n",
    "# save_model_base()\n",
    "# store_embeddings()\n",
    "\n",
    "svc = SVC(gamma='auto', random_state=1)\n",
    "# forest = RandomForestClassifier(random_state=1, n_jobs=-1)\n",
    "# log = LogisticRegression(n_jobs=-1)\n",
    "\n",
    "Xe = load_embedding(\"Xr\")\n",
    "Xe_train, Xe_test, y_train, y_test = train_test_split(Xe ,y, \n",
    "                                                      stratify=y, \n",
    "                                                      train_size=0.8, test_size=0.2, random_state=1)\n",
    "\n",
    "# score, pipeline = evaluation_4_2(Xe_train, y_train, Xe_test, y_test)\n",
    "# dump(pipeline, os.path.join(\"model_4_2.joblib\")\n",
    "\n",
    "# ---------------------- Testing ------------------------------\n",
    "pipeline = load(os.path.join(base_dir, \"model_4_2.joblib\"))\n",
    "\n",
    "score = test_pipeline(pipeline, Xe_test, y_test)\n",
    "\n",
    "print(f\"testing score {score}\") # accuracy = 0.9633\n",
    "\n",
    "\n",
    "\n",
    "\n",
    "answer_q_4_2 = \"\"\"\n",
    "First, SVC, Logistic Regression and RandomForest classifiers were trained and validated (experimenting with PCA and scalers for preprocessing) \n",
    "using the embedded training data splitted into a training and validation set (validating with 3-fold CV).\n",
    "From this, the best performing pipeline (PCA+SVC) was chosen and further optimized using RandomizedSearchCV.\n",
    "The resulting pipeline was evaluated with the test set resulting in an accuracy of 0.9633; higher than that found in question 3.1.\n",
    "\"\"\"\n",
    "\n",
    "print(\"Pipeline:\", pipeline)\n",
    "print(\"Answer is {} characters long\".format(len(answer_q_4_2)))"
   ],
   "execution_count": null,
   "outputs": []
  }
 ]
}