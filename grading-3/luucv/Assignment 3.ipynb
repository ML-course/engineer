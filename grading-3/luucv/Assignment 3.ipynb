{
 "cells": [
  {
   "cell_type": "code",
   "execution_count": 1,
   "metadata": {
    "colab": {},
    "colab_type": "code",
    "id": "uPiqHyC_MuLL"
   },
   "outputs": [],
   "source": [
    "# Fill in your name using the format below and student ID number\n",
    "your_name = \"Verburgh, Luuc\"\n",
    "student_id = \"0962068\""
   ]
  },
  {
   "cell_type": "code",
   "execution_count": 2,
   "metadata": {
    "colab": {
     "base_uri": "https://localhost:8080/",
     "height": 122
    },
    "colab_type": "code",
    "executionInfo": {
     "elapsed": 482154,
     "status": "ok",
     "timestamp": 1587186566624,
     "user": {
      "displayName": "Luuc Verburgh",
      "photoUrl": "https://lh3.googleusercontent.com/a-/AOh14GiiomKTvBdqbTeiX1Tj6H2jQM0crrmCPDD773gwabE=s64",
      "userId": "11925589907397564702"
     },
     "user_tz": -120
    },
    "id": "_K1P1em0YrFa",
    "outputId": "0f253eed-4be7-41b0-d997-b5ef97338cf0"
   },
   "outputs": [],
   "source": [
    "#from google.colab import drive\n",
    "#drive.mount('/content/drive')"
   ]
  },
  {
   "cell_type": "code",
   "execution_count": 3,
   "metadata": {
    "colab": {},
    "colab_type": "code",
    "id": "K5_P_CLaYlSy"
   },
   "outputs": [],
   "source": [
    "# Before submission, set this to True so that you can render and verify this notebook without training deep learning models.\n",
    "# Any deep learning models will be trained from file instead.\n",
    "stop_training = True"
   ]
  },
  {
   "cell_type": "code",
   "execution_count": 4,
   "metadata": {
    "colab": {
     "base_uri": "https://localhost:8080/",
     "height": 68
    },
    "colab_type": "code",
    "executionInfo": {
     "elapsed": 487446,
     "status": "ok",
     "timestamp": 1587186573972,
     "user": {
      "displayName": "Luuc Verburgh",
      "photoUrl": "https://lh3.googleusercontent.com/a-/AOh14GiiomKTvBdqbTeiX1Tj6H2jQM0crrmCPDD773gwabE=s64",
      "userId": "11925589907397564702"
     },
     "user_tz": -120
    },
    "id": "-rAuraOsM22r",
    "outputId": "109c583c-d962-46d3-df0e-054a82ce7ecd"
   },
   "outputs": [],
   "source": [
    "# Uncomment the following line to run in Google Colab\n",
    "#!pip install --quiet openml "
   ]
  },
  {
   "cell_type": "code",
   "execution_count": 20,
   "metadata": {
    "colab": {
     "base_uri": "https://localhost:8080/",
     "height": 34
    },
    "colab_type": "code",
    "executionInfo": {
     "elapsed": 484205,
     "status": "ok",
     "timestamp": 1587186576144,
     "user": {
      "displayName": "Luuc Verburgh",
      "photoUrl": "https://lh3.googleusercontent.com/a-/AOh14GiiomKTvBdqbTeiX1Tj6H2jQM0crrmCPDD773gwabE=s64",
      "userId": "11925589907397564702"
     },
     "user_tz": -120
    },
    "id": "OS-d8ziENCs1",
    "outputId": "f24c549b-3c79-4557-a908-1182c24061ed"
   },
   "outputs": [],
   "source": [
    "# Uncomment the following line to run in Google Colab\n",
    "#%tensorflow_version 2.x\n",
    "import tensorflow as tf\n",
    "#tf.config.experimental.list_physical_devices('GPU') # Check whether GPUs are available"
   ]
  },
  {
   "cell_type": "code",
   "execution_count": 6,
   "metadata": {
    "colab": {},
    "colab_type": "code",
    "id": "-iTn6RmNMuLT"
   },
   "outputs": [],
   "source": [
    "%matplotlib inline\n",
    "import openml as oml\n",
    "import numpy as np\n",
    "import matplotlib.pyplot as plt\n",
    "import sklearn"
   ]
  },
  {
   "cell_type": "code",
   "execution_count": 7,
   "metadata": {
    "colab": {
     "base_uri": "https://localhost:8080/",
     "height": 34
    },
    "colab_type": "code",
    "executionInfo": {
     "elapsed": 481428,
     "status": "ok",
     "timestamp": 1587186576145,
     "user": {
      "displayName": "Luuc Verburgh",
      "photoUrl": "https://lh3.googleusercontent.com/a-/AOh14GiiomKTvBdqbTeiX1Tj6H2jQM0crrmCPDD773gwabE=s64",
      "userId": "11925589907397564702"
     },
     "user_tz": -120
    },
    "id": "brth0Z_TMuLZ",
    "outputId": "c5fb8b85-03fe-4816-e84b-43df16159d74"
   },
   "outputs": [
    {
     "name": "stdout",
     "output_type": "stream",
     "text": [
      "Hi Luuc, Looks good. You may continue :)\n"
     ]
    }
   ],
   "source": [
    "from packaging import version\n",
    "import sklearn\n",
    "import tensorflow\n",
    "sklearn_version = sklearn.__version__\n",
    "tensorflow_version = tensorflow.__version__\n",
    "if version.parse(sklearn_version) < version.parse(\"0.22.0\"):\n",
    "    print(\"scikit-learn is outdated. Please update now!\")\n",
    "if version.parse(tensorflow_version) < version.parse(\"2.1.0\"):\n",
    "    print(\"Tensorflow is outdated. This is version {}. Please update to 2.1.\".format(tensorflow_version))\n",
    "else:\n",
    "    print(\"Hi{}, Looks good. You may continue :)\".format(your_name.split(\",\")[1]))"
   ]
  },
  {
   "cell_type": "markdown",
   "metadata": {
    "colab_type": "text",
    "id": "7kdeFjIGMuLv"
   },
   "source": [
    "# Assignment 3"
   ]
  },
  {
   "cell_type": "markdown",
   "metadata": {
    "colab_type": "text",
    "id": "ljhP8DXu-H4j"
   },
   "source": [
    "### Choice of libraries\n",
    "We recommend to use Tensorflow in this assignment since that is what we covered in the labs. If you feel confident using PyTorch (and Skorch for the scikit-learn wrapper), that is allowed too, as long as you are able to implement the requested functions and return the requested data. Read the assignment carefully and ensure that you can. Note that you may also need to do a bit more work to implement certain helper functions and wrappers."
   ]
  },
  {
   "cell_type": "markdown",
   "metadata": {
    "colab_type": "text",
    "id": "-BQG9Kp2EcPc"
   },
   "source": [
    "### Storing and submitting files\n",
    "You must be able to store your models and submit them to GitHub Classroom. The evaluation functions used in this notebook will automatically store models for you.\n",
    "\n",
    "If you want to run and solve the notebook on your local machine/laptop, fill in the path 'base_dir' to your assignment folder into the next cell.\n",
    "\n",
    "If you use Colab, we recommend that you link it to your Google Drive:  \n",
    "* Upload the assignment folder to your Google Drive (+ New > Folder Upload)\n",
    "* Open Colab in a browser, open the 'Files' menu in the left sidebar, and click 'Mount Drive'\n",
    "  * At this point you may need to authenticate\n",
    "* Fill in the path to your assignment folder below\n",
    "  * It's likely '/content/drive/My Drive/assignment-3-yourname'"
   ]
  },
  {
   "cell_type": "code",
   "execution_count": 16,
   "metadata": {
    "colab": {},
    "colab_type": "code",
    "id": "aO6jTIIFHQNU"
   },
   "outputs": [],
   "source": [
    "# base_dir = '/content/drive/My Drive/assignment-3-luucv' # For Google Colab\n",
    "base_dir = ''"
   ]
  },
  {
   "cell_type": "code",
   "execution_count": 0,
   "metadata": {
    "colab": {
     "base_uri": "https://localhost:8080/",
     "height": 34
    },
    "colab_type": "code",
    "executionInfo": {
     "elapsed": 471464,
     "status": "ok",
     "timestamp": 1587186576146,
     "user": {
      "displayName": "Luuc Verburgh",
      "photoUrl": "https://lh3.googleusercontent.com/a-/AOh14GiiomKTvBdqbTeiX1Tj6H2jQM0crrmCPDD773gwabE=s64",
      "userId": "11925589907397564702"
     },
     "user_tz": -120
    },
    "id": "HKaM3mwrODBR",
    "outputId": "e8a6ec5f-214f-4fbf-bf4e-8c307aba0dae"
   },
   "outputs": [
    {
     "name": "stdout",
     "output_type": "stream",
     "text": [
      "Drive already mounted at /content/drive; to attempt to forcibly remount, call drive.mount(\"/content/drive\", force_remount=True).\n"
     ]
    }
   ],
   "source": [
    "#Uncomment to link Colab notebook to Google Drive\n",
    "# from google.colab import drive\n",
    "# drive.mount('/content/drive')"
   ]
  },
  {
   "cell_type": "markdown",
   "metadata": {
    "colab_type": "text",
    "id": "D_BDIpWh92Dk"
   },
   "source": [
    "### Using GPUs\n",
    "While you can solve this assignment on a CPU, using a GPU will speed things up training quite a bit. If you have a local GPU, you can use that. If you don't, we recommend Google Colab. When you are in Colab:\n",
    "* In Runtime > Change runtime type, select the GPU under Hardware Accelerator\n",
    "* Run the 3rd cell on the top of this notebook to check that the GPU is found.\n",
    "\n",
    "Note that Colab may not always have GPUs ready all the time, and may deny you a GPU when you have used them a lot. When you are temporarily 'locked out', you can switch to a non-GPU runtime or to a local instance of Jupyter running on your machine."
   ]
  },
  {
   "cell_type": "markdown",
   "metadata": {
    "colab_type": "text",
    "id": "hq6oPNF546_5"
   },
   "source": [
    "### Constraints\n",
    "* Your stored models should not be larger than 100MB when stored in file. GitHub will not allow uploading if they are.\n",
    "* When questions ask you to provide an explanation, it should be less than 500\n",
    "characters long. Some questions have a higher limit. Always answer in full sentences.\n",
    "* Don't train for more than 100 epochs, i.e. don't throw excessing computational resources at the problem. If your model hasn't converged by then, think of ways it could be made to converge faster. In this assignment you are not after the last tiny improvement, you can stop when learning curves flatten out. Do at least 5 epochs to get a reasonable learning curve."
   ]
  },
  {
   "cell_type": "markdown",
   "metadata": {
    "colab_type": "text",
    "id": "h8wBDNspEvcY"
   },
   "source": [
    "### Grading\n",
    "Grading is based on the following aspects:\n",
    "* Correctness in answering the question. Carefully read the question and answer\n",
    "what is asked for. Train your models on the correct data. It should be clear on which data should be trained, but ask when in doubt. When something is not defined (e.g. the number of epochs or batch size), you can freely choose them.\n",
    "* Clarity of your explanations. Write short but precise descriptions of what you did and why. Give short but clear explanations of the observed performance. \n",
    "After your explanation, your approach and model should make perfect sense. Refrain from using symbols as substitute for words in your explanation (e.g. no: \"More layers -> more parameters\" yes: \"More layers mean more parameters\"). \n",
    "* Part of your grade depends on how well your model performs. When the question says 'you should at least get x%', x% will give you a good but not the maximal grade. You can get the full grade when you are close to what is the expected maximal performance. You don't need to invest lots of effort into the last tiny improvement, though. Unless specified, we look at the accuracy on the validation set. If your learning curves are very erratic we'll compute a score based on the smoothed curves (i.e. single peaks don't count).\n",
    "* The weight of each question is indicated. Take this into account when planning your time."
   ]
  },
  {
   "cell_type": "markdown",
   "metadata": {
    "colab_type": "text",
    "id": "KNyA5dEpR00Z"
   },
   "source": [
    "### Other tips\n",
    "* Don't wait until the last minute to do the assignment. The models take time to train, most questions will require some thinking, and some require you to read up on some new concepts.\n",
    "* Take care that you upload the results as requested. You need to submit not only the notebooks but also the trained models and learning curves (training histories). Be sure to run the verification script and check that all the results are included.\n",
    "* We provide an evaluation function that also stored models to disk. After you are done training the model, set the 'train' attribute to False so that the model doesn't train again (and loads from file instead) when you restart and rerun your notebook.\n",
    "* Explore. For many questions we'll ask you to explain your model design decisions. You cannot magically know the best solutions but you can experiment\n",
    "based on your understanding and make decisions based on both your knowledge and experiments. Your explanation is at least as important as the performance of your model.\n",
    "* Be original. We will check for plagiarism between student submissions."
   ]
  },
  {
   "cell_type": "markdown",
   "metadata": {
    "colab_type": "text",
    "id": "k0nKOZrPJTn8"
   },
   "source": [
    "### Data\n",
    "The [Street View House Numbers Dataset](https://www.openml.org/d/41081) contains 32-by-32 RGB images centered around a single digit of a house number appearing in Google Street View. Many of the images do contain some distractors at the sides. It consists of 10 classes, 1 for each digit. Digit '1' has label 1, '9' has label 9 and '0' has label 10. Your goal is to build models that recognize the correct digit."
   ]
  },
  {
   "cell_type": "markdown",
   "metadata": {
    "colab_type": "text",
    "id": "B8sOA7mEKOSp"
   },
   "source": [
    "If you use Colab, uncomment the following to cache the dataset inside the VM. This will make reloading faster if you need to restart your notebook. After longer periods of inactivity, your VM may be recycled and the cache lost, in which case the dataset will be downloaded again. Also note that this dataset is about 1Gb large, and will take even more space in memory. You may need to switch to a high-RAM environment (Colab will ask you if you hit the limit)."
   ]
  },
  {
   "cell_type": "code",
   "execution_count": 0,
   "metadata": {
    "colab": {},
    "colab_type": "code",
    "id": "Wu9s9dnlJMP0"
   },
   "outputs": [],
   "source": [
    "# Use OpenML caching in Colab\n",
    "# On your local machine, it will store data in a hidden folder '~/.openml'\n",
    "#import os\n",
    "#oml.config.cache_directory = os.path.expanduser('/content/cache')"
   ]
  },
  {
   "cell_type": "code",
   "execution_count": 0,
   "metadata": {
    "colab": {},
    "colab_type": "code",
    "id": "_3o_TT8SMuLy"
   },
   "outputs": [],
   "source": [
    "# Download Streetview data. Takes a while (several minutes), and quite a bit of\n",
    "# memory when it needs to download. After caching it loads faster.\n",
    "SVHN = oml.datasets.get_dataset(41081)\n",
    "X, y, _, _ = SVHN.get_data(dataset_format='array',\n",
    "    target=SVHN.default_target_attribute)"
   ]
  },
  {
   "cell_type": "markdown",
   "metadata": {
    "colab_type": "text",
    "id": "EPwHgeC3MuMI"
   },
   "source": [
    "Reshape, sample and split the data"
   ]
  },
  {
   "cell_type": "code",
   "execution_count": 0,
   "metadata": {
    "colab": {},
    "colab_type": "code",
    "id": "3C14250QOGpL"
   },
   "outputs": [],
   "source": [
    "from tensorflow.keras.utils import to_categorical\n",
    "\n",
    "Xr = X.reshape((len(X),32,32,3))\n",
    "Xr = Xr / 255.\n",
    "yr = to_categorical(y)"
   ]
  },
  {
   "cell_type": "code",
   "execution_count": 0,
   "metadata": {
    "colab": {},
    "colab_type": "code",
    "id": "sbxtRoDcMuMK"
   },
   "outputs": [],
   "source": [
    "# DO NOT EDIT. DO NOT OVERWRITE THESE VARIABLES.\n",
    "from sklearn.model_selection import train_test_split\n",
    "# We do an 80-20 split for the training and test set, and then again a 80-20 split into training and validation data\n",
    "X_train_all, X_test, y_train_all, y_test = train_test_split(Xr,yr, stratify=yr, train_size=0.8, test_size=0.2, random_state=1)\n",
    "X_train, X_val, y_train, y_val = train_test_split(X_train_all,y_train_all, stratify=y_train_all, train_size=0.8, random_state=1)\n",
    "evaluation_split = X_train, X_val, y_train, y_val"
   ]
  },
  {
   "cell_type": "markdown",
   "metadata": {
    "colab_type": "text",
    "id": "gUAf28y2O6ks"
   },
   "source": [
    "Check the formatting - and what the data looks like"
   ]
  },
  {
   "cell_type": "code",
   "execution_count": 0,
   "metadata": {
    "colab": {
     "base_uri": "https://localhost:8080/",
     "height": 141
    },
    "colab_type": "code",
    "executionInfo": {
     "elapsed": 406316,
     "status": "ok",
     "timestamp": 1587186982487,
     "user": {
      "displayName": "Luuc Verburgh",
      "photoUrl": "https://lh3.googleusercontent.com/a-/AOh14GiiomKTvBdqbTeiX1Tj6H2jQM0crrmCPDD773gwabE=s64",
      "userId": "11925589907397564702"
     },
     "user_tz": -120
    },
    "id": "QEWsr56hMuL8",
    "outputId": "278310f3-b8bf-41ac-bb28-684f6fe9e8d0"
   },
   "outputs": [
    {
     "data": {
      "image/png": "[encoded data removed]",
      "text/plain": [
       "<Figure size 720x360 with 5 Axes>"
      ]
     },
     "metadata": {
      "tags": []
     },
     "output_type": "display_data"
    }
   ],
   "source": [
    "from random import randint\n",
    "\n",
    "# Takes a list of row ids, and plots the corresponding images\n",
    "# Use grayscale=True for plotting grayscale images\n",
    "def plot_images(X, y, grayscale=False):\n",
    "    fig, axes = plt.subplots(1, len(X),  figsize=(10, 5))\n",
    "    for n in range(len(X)):\n",
    "        if grayscale:\n",
    "            axes[n].imshow(X[n], cmap='gray')\n",
    "        else:\n",
    "            axes[n].imshow(X[n])\n",
    "        axes[n].set_xlabel((np.argmax(y[n])+1)%10) # Label is index+1\n",
    "        axes[n].set_xticks(()), axes[n].set_yticks(())\n",
    "    plt.show();\n",
    "\n",
    "images = [randint(0,len(X_train)) for i in range(5)]\n",
    "X_random = [X_train[i] for i in images]\n",
    "y_random = [y_train[i] for i in images]\n",
    "plot_images(X_random, y_random)"
   ]
  },
  {
   "cell_type": "markdown",
   "metadata": {
    "colab_type": "text",
    "id": "yUQ22FEawd-J"
   },
   "source": [
    "### Evaluation harness\n",
    "We provide an evaluation function 'run_evaluation' that you should use to \n",
    "evaluate all your models. It also stores the trained models to disk so that\n",
    "your submission can be quickly verified, as well as to avoid having to train\n",
    "them over and over again. Your last run of the evaluation function (the last one\n",
    "stored to file), is the one that will be evaluated. The 'train' argument indicates whether to train or to load from disk. We have provided helper functions for saving and loading models to/from file, assuming you use TensorFlow. If you use PyTorch you'll have to adapt them."
   ]
  },
  {
   "cell_type": "code",
   "execution_count": 19,
   "metadata": {
    "colab": {},
    "colab_type": "code",
    "id": "SFGTq4mUV2zK"
   },
   "outputs": [],
   "source": [
    "import os\n",
    "import pickle\n",
    "import pandas as pd\n",
    "import numpy as np\n",
    "from tensorflow.keras.models import load_model # for use with tensorflow\n",
    "\n",
    "def shout(text, verbose=1):\n",
    "    \"\"\" Prints text in red. Just for fun.\n",
    "    \"\"\"\n",
    "    if verbose>0:\n",
    "        print('\\033[91m'+text+'\\x1b[0m')\n",
    "\n",
    "def load_model_from_file(base_dir, name, extension='.h5'):\n",
    "    \"\"\" Loads a model from a file. The returned model must have a 'fit' and 'summary'\n",
    "    function following the Keras API. Don't change if you use TensorFlow. Otherwise,\n",
    "    adapt as needed. \n",
    "    Keyword arguments:\n",
    "    base_dir -- Directory where the models are stored\n",
    "    name -- Name of the model, e.g. 'question_1_1'\n",
    "    extension -- the file extension\n",
    "    \"\"\"\n",
    "    try:\n",
    "        model = load_model(os.path.join(base_dir, name+extension))\n",
    "    except OSError:\n",
    "        shout(\"Saved model could not be found. Was it trained and stored correctly? Is the base_dir correct?\")\n",
    "        return False\n",
    "    return model\n",
    "\n",
    "def save_model_to_file(model, base_dir, name, extension='.h5'):\n",
    "    \"\"\" Saves a model to file. Don't change if you use TensorFlow. Otherwise,\n",
    "    adapt as needed. \n",
    "    Keyword arguments:\n",
    "    model -- the model to be saved\n",
    "    base_dir -- Directory where the models should be stored\n",
    "    name -- Name of the model, e.g. 'question_1_1'\n",
    "    extension -- the file extension\n",
    "    \"\"\"\n",
    "    model.save(os.path.join(base_dir, name+extension))\n",
    "\n",
    "# Helper function to extract min/max from the learning curves\n",
    "def minMax(x):\n",
    "    return pd.Series(index=['min','max'],data=[x.min(),x.max()])\n",
    "\n",
    "# DO NOT EDIT\n",
    "def run_evaluation(name, model_builder, data, base_dir, train=True, \n",
    "                   generator=False, epochs=3, batch_size=32, steps_per_epoch=60, \n",
    "                   verbose=1, **kwargs):\n",
    "    \"\"\" Trains and evaluates the given model on the predefined train and test splits,\n",
    "    stores the trained model and learning curves. Also prints out a summary of the \n",
    "    model and plots the learning curves.\n",
    "    Keyword arguments:\n",
    "    name -- the name of the model to be stored, e.g. 'question_1_1.h5'\n",
    "    model_builder -- function that returns an (untrained) model. The model must \n",
    "                     have a 'fit' function that follows the Keras API. It can wrap\n",
    "                     a non-Keras model as long as the 'fit' function takes the \n",
    "                     same attributes and returns the learning curves (history).\n",
    "                     It also must have a 'summary' function that prints out a \n",
    "                     model summary, and a 'save' function that saves the model \n",
    "                     to disk. \n",
    "    data -- data split for evaluation. A tuple of either:\n",
    "            * Numpy arrays (X_train, X_val, y_train, y_val)\n",
    "            * A data generator and validation data (generator, X_val, y_val)\n",
    "    base_dir -- the directory to save or read models to/from\n",
    "    train -- whether or not the data should be trained. If False, the trained model\n",
    "             will be loaded from disk.\n",
    "    generator -- whether the data in given as a generator or not\n",
    "    epochs -- the number of epochs to train for\n",
    "    batch_size -- the batch size to train with\n",
    "    steps_per_epoch -- steps per epoch, in case a generator is used (ignored otherwise)\n",
    "    verbose -- verbosity level, 0: silent, 1: minimal,...\n",
    "    kwargs -- keyword arguments that should be passed to model_builder.\n",
    "              Not required, but may help you to adjust its behavior\n",
    "    \"\"\"\n",
    "    model = model_builder(**kwargs)\n",
    "    if not model:\n",
    "        shout(\"No model is returned by the model_builder\")\n",
    "        return\n",
    "    if not hasattr(model, 'fit'):\n",
    "        shout(\"Model is not built correctly\")\n",
    "        return\n",
    "    learning_curves = {}\n",
    "    if train and not stop_training: # Train anew\n",
    "        shout(\"Training the model\", verbose)\n",
    "        if generator:\n",
    "            generator, X_val, y_val = data\n",
    "            history = model.fit(generator, epochs=epochs, batch_size=batch_size,\n",
    "                              steps_per_epoch=steps_per_epoch, verbose=1, \n",
    "                              validation_data=(X_val, y_val))\n",
    "            learning_curves = history.history\n",
    "        else:\n",
    "            X_train, X_val, y_train, y_val = data\n",
    "            history = model.fit(X_train, y_train, epochs=epochs, batch_size=batch_size,\n",
    "                              verbose=1, validation_data=(X_val, y_val))\n",
    "            learning_curves = history.history\n",
    "        shout(\"Saving to file\", verbose)\n",
    "        save_model_to_file(model, base_dir, name)\n",
    "        with open(os.path.join(base_dir, name+'.p'), 'wb') as file_pi:\n",
    "            pickle.dump(learning_curves, file_pi)\n",
    "        shout(\"Model stored in \"+base_dir, verbose)\n",
    "    else: # Load from file\n",
    "        shout(\"Loading model from file\", verbose)\n",
    "        model = load_model_from_file(base_dir, name)\n",
    "        if not model:\n",
    "            shout(\"Model not found\")\n",
    "            return\n",
    "        learning_curves = None\n",
    "        try:\n",
    "            learning_curves = pickle.load(open(os.path.join(base_dir, name+'.p'), \"rb\"))\n",
    "        except FileNotFoundError:\n",
    "            shout(\"Learning curves not found\")\n",
    "            return\n",
    "        shout(\"Success!\", verbose)\n",
    "    # Report\n",
    "    print(model.summary())\n",
    "    lc = pd.DataFrame(learning_curves)\n",
    "    lc.plot(lw=2,style=['b:','r:','b-','r-']);\n",
    "    plt.xlabel('epochs');\n",
    "    print(lc.apply(minMax))"
   ]
  },
  {
   "cell_type": "code",
   "execution_count": 0,
   "metadata": {
    "colab": {
     "base_uri": "https://localhost:8080/",
     "height": 738
    },
    "colab_type": "code",
    "executionInfo": {
     "elapsed": 436659,
     "status": "ok",
     "timestamp": 1587187012845,
     "user": {
      "displayName": "Luuc Verburgh",
      "photoUrl": "https://lh3.googleusercontent.com/a-/AOh14GiiomKTvBdqbTeiX1Tj6H2jQM0crrmCPDD773gwabE=s64",
      "userId": "11925589907397564702"
     },
     "user_tz": -120
    },
    "id": "FCzYq_jpkDZO",
    "outputId": "0ba5cbc5-4635-4e8c-afd2-a1949b397f9e"
   },
   "outputs": [
    {
     "name": "stdout",
     "output_type": "stream",
     "text": [
      "\u001b[91mTraining the model\u001b[0m\n",
      "Epoch 1/3\n",
      "1986/1986 [==============================] - 7s 4ms/step - loss: 2.2449 - accuracy: 0.1903 - val_loss: 2.2331 - val_accuracy: 0.1910\n",
      "Epoch 2/3\n",
      "1986/1986 [==============================] - 7s 3ms/step - loss: 2.2337 - accuracy: 0.1910 - val_loss: 2.2331 - val_accuracy: 0.1910\n",
      "Epoch 3/3\n",
      "1986/1986 [==============================] - 7s 3ms/step - loss: 2.2335 - accuracy: 0.1910 - val_loss: 2.2331 - val_accuracy: 0.1910\n",
      "\u001b[91mSaving to file\u001b[0m\n",
      "\u001b[91mModel stored in /content/drive/My Drive/assignment-3-luucv\u001b[0m\n",
      "Model: \"sequential\"\n",
      "_________________________________________________________________\n",
      "Layer (type)                 Output Shape              Param #   \n",
      "=================================================================\n",
      "reshape (Reshape)            (None, 3072)              0         \n",
      "_________________________________________________________________\n",
      "dense (Dense)                (None, 10)                30730     \n",
      "_________________________________________________________________\n",
      "dense_1 (Dense)              (None, 10)                110       \n",
      "=================================================================\n",
      "Total params: 30,840\n",
      "Trainable params: 30,840\n",
      "Non-trainable params: 0\n",
      "_________________________________________________________________\n",
      "None\n",
      "         loss  accuracy  val_loss  val_accuracy\n",
      "min  2.233544  0.190293  2.233050      0.190974\n",
      "max  2.244919  0.190954  2.233074      0.190974\n"
     ]
    },
    {
     "data": {
      "image/png": "[encoded data removed]",
      "text/plain": [
       "<Figure size 432x288 with 1 Axes>"
      ]
     },
     "metadata": {
      "needs_background": "light",
      "tags": []
     },
     "output_type": "display_data"
    }
   ],
   "source": [
    "# Toy usage example\n",
    "# Remove before submission\n",
    "from tensorflow.keras import models\n",
    "from tensorflow.keras import layers \n",
    "\n",
    "def build_toy_model():\n",
    "    model = models.Sequential()\n",
    "    model.add(layers.Reshape((3072,), input_shape=(32,32,3)))\n",
    "    model.add(layers.Dense(10, activation='relu'))\n",
    "    model.add(layers.Dense(10, activation='softmax'))\n",
    "    model.compile(optimizer='rmsprop',\n",
    "                  loss='categorical_crossentropy',\n",
    "                  metrics=['accuracy'])\n",
    "    return model\n",
    "\n",
    "# First build and store\n",
    "run_evaluation(\"toy_example\", build_toy_model, evaluation_split, base_dir, \n",
    "               train=True, epochs=3, batch_size=32)"
   ]
  },
  {
   "cell_type": "code",
   "execution_count": 0,
   "metadata": {
    "colab": {
     "base_uri": "https://localhost:8080/",
     "height": 619
    },
    "colab_type": "code",
    "executionInfo": {
     "elapsed": 436870,
     "status": "ok",
     "timestamp": 1587187013068,
     "user": {
      "displayName": "Luuc Verburgh",
      "photoUrl": "https://lh3.googleusercontent.com/a-/AOh14GiiomKTvBdqbTeiX1Tj6H2jQM0crrmCPDD773gwabE=s64",
      "userId": "11925589907397564702"
     },
     "user_tz": -120
    },
    "id": "vKkkQwwdta8r",
    "outputId": "358777fe-ca79-4362-f1dd-d2670a1336ff"
   },
   "outputs": [
    {
     "name": "stdout",
     "output_type": "stream",
     "text": [
      "\u001b[91mLoading model from file\u001b[0m\n",
      "\u001b[91mSuccess!\u001b[0m\n",
      "Model: \"sequential\"\n",
      "_________________________________________________________________\n",
      "Layer (type)                 Output Shape              Param #   \n",
      "=================================================================\n",
      "reshape (Reshape)            (None, 3072)              0         \n",
      "_________________________________________________________________\n",
      "dense (Dense)                (None, 10)                30730     \n",
      "_________________________________________________________________\n",
      "dense_1 (Dense)              (None, 10)                110       \n",
      "=================================================================\n",
      "Total params: 30,840\n",
      "Trainable params: 30,840\n",
      "Non-trainable params: 0\n",
      "_________________________________________________________________\n",
      "None\n",
      "         loss  accuracy  val_loss  val_accuracy\n",
      "min  2.233544  0.190293  2.233050      0.190974\n",
      "max  2.244919  0.190954  2.233074      0.190974\n"
     ]
    },
    {
     "data": {
      "image/png": "[encoded data removed]",
      "text/plain": [
       "<Figure size 432x288 with 1 Axes>"
      ]
     },
     "metadata": {
      "needs_background": "light",
      "tags": []
     },
     "output_type": "display_data"
    }
   ],
   "source": [
    "# Toy usage example\n",
    "# Remove before submission\n",
    "# With train=False: load from file and report the same results without rerunning\n",
    "run_evaluation(\"toy_example\", build_toy_model, evaluation_split, base_dir, \n",
    "               train=False)"
   ]
  },
  {
   "cell_type": "markdown",
   "metadata": {
    "colab_type": "text",
    "id": "IU_zPWGPypce"
   },
   "source": [
    "## Part 1. Dense networks (10 points)\n",
    "\n",
    "### Question 1.1: Baseline model (4 points)\n",
    "- Build a dense network (with only dense layers) of at least 3 layers that is shaped like a pyramid: The first layer must have many nodes, and every subsequent layer must have increasingly fewer nodes, e.g. half as many. Implement a function 'build_model_1_1' that returns this model.\n",
    "- You can explore different settings, but don't use any preprocessing or regularization yet. You should be able to achieve at least 70% accuracy, but more is of course better. Unless otherwise stated, you can use accuracy as the evaluation metric in all questions.\n",
    "* Add a small description of your design choices (max. 500 characters) in 'answer_q_1_1': explain what you did and also why. Also discuss the performance of the model. Is it working well? Both the performance of the model and your explanations matter.\n",
    "- The name of the model should be 'model_1_1'. Evaluate it using the 'run_evaluation' function. For this question, you should not use more than 50 epochs."
   ]
  },
  {
   "cell_type": "code",
   "execution_count": 0,
   "metadata": {
    "colab": {
     "base_uri": "https://localhost:8080/",
     "height": 1000
    },
    "colab_type": "code",
    "executionInfo": {
     "elapsed": 368974,
     "status": "ok",
     "timestamp": 1587188647291,
     "user": {
      "displayName": "Luuc Verburgh",
      "photoUrl": "https://lh3.googleusercontent.com/a-/AOh14GiiomKTvBdqbTeiX1Tj6H2jQM0crrmCPDD773gwabE=s64",
      "userId": "11925589907397564702"
     },
     "user_tz": -120
    },
    "id": "hci6BIdHJTN0",
    "outputId": "57c7740a-057c-441d-a6f9-14f2c834d3f8"
   },
   "outputs": [
    {
     "name": "stdout",
     "output_type": "stream",
     "text": [
      "\u001b[91mTraining the model\u001b[0m\n",
      "Epoch 1/50\n",
      "1986/1986 [==============================] - 7s 4ms/step - loss: 0.2808 - accuracy: 0.3484 - val_loss: 0.2217 - val_accuracy: 0.5260\n",
      "Epoch 2/50\n",
      "1986/1986 [==============================] - 8s 4ms/step - loss: 0.1957 - accuracy: 0.5978 - val_loss: 0.1948 - val_accuracy: 0.6075\n",
      "Epoch 3/50\n",
      "1986/1986 [==============================] - 8s 4ms/step - loss: 0.1729 - accuracy: 0.6599 - val_loss: 0.1690 - val_accuracy: 0.6668\n",
      "Epoch 4/50\n",
      "1986/1986 [==============================] - 7s 4ms/step - loss: 0.1611 - accuracy: 0.6864 - val_loss: 0.1663 - val_accuracy: 0.6736\n",
      "Epoch 5/50\n",
      "1986/1986 [==============================] - 7s 4ms/step - loss: 0.1532 - accuracy: 0.7059 - val_loss: 0.1542 - val_accuracy: 0.7043\n",
      "Epoch 6/50\n",
      "1986/1986 [==============================] - 7s 4ms/step - loss: 0.1477 - accuracy: 0.7185 - val_loss: 0.1512 - val_accuracy: 0.7078\n",
      "Epoch 7/50\n",
      "1986/1986 [==============================] - 7s 4ms/step - loss: 0.1435 - accuracy: 0.7283 - val_loss: 0.1436 - val_accuracy: 0.7307\n",
      "Epoch 8/50\n",
      "1986/1986 [==============================] - 7s 4ms/step - loss: 0.1401 - accuracy: 0.7347 - val_loss: 0.1410 - val_accuracy: 0.7392\n",
      "Epoch 9/50\n",
      "1986/1986 [==============================] - 7s 4ms/step - loss: 0.1370 - accuracy: 0.7412 - val_loss: 0.1360 - val_accuracy: 0.7493\n",
      "Epoch 10/50\n",
      "1986/1986 [==============================] - 7s 4ms/step - loss: 0.1337 - accuracy: 0.7510 - val_loss: 0.1345 - val_accuracy: 0.7534\n",
      "Epoch 11/50\n",
      "1986/1986 [==============================] - 7s 4ms/step - loss: 0.1324 - accuracy: 0.7526 - val_loss: 0.1343 - val_accuracy: 0.7545\n",
      "Epoch 12/50\n",
      "1986/1986 [==============================] - 7s 4ms/step - loss: 0.1303 - accuracy: 0.7587 - val_loss: 0.1326 - val_accuracy: 0.7564\n",
      "Epoch 13/50\n",
      "1986/1986 [==============================] - 7s 4ms/step - loss: 0.1282 - accuracy: 0.7634 - val_loss: 0.1361 - val_accuracy: 0.7491\n",
      "Epoch 14/50\n",
      "1986/1986 [==============================] - 7s 4ms/step - loss: 0.1261 - accuracy: 0.7679 - val_loss: 0.1312 - val_accuracy: 0.7599\n",
      "Epoch 15/50\n",
      "1986/1986 [==============================] - 7s 4ms/step - loss: 0.1245 - accuracy: 0.7711 - val_loss: 0.1296 - val_accuracy: 0.7620\n",
      "Epoch 16/50\n",
      "1986/1986 [==============================] - 7s 4ms/step - loss: 0.1239 - accuracy: 0.7720 - val_loss: 0.1294 - val_accuracy: 0.7670\n",
      "Epoch 17/50\n",
      "1986/1986 [==============================] - 7s 4ms/step - loss: 0.1223 - accuracy: 0.7761 - val_loss: 0.1273 - val_accuracy: 0.7711\n",
      "Epoch 18/50\n",
      "1986/1986 [==============================] - 7s 4ms/step - loss: 0.1218 - accuracy: 0.7770 - val_loss: 0.1293 - val_accuracy: 0.7672\n",
      "Epoch 19/50\n",
      "1986/1986 [==============================] - 7s 4ms/step - loss: 0.1203 - accuracy: 0.7802 - val_loss: 0.1245 - val_accuracy: 0.7754\n",
      "Epoch 20/50\n",
      "1986/1986 [==============================] - 7s 4ms/step - loss: 0.1195 - accuracy: 0.7808 - val_loss: 0.1325 - val_accuracy: 0.7552\n",
      "Epoch 21/50\n",
      "1986/1986 [==============================] - 7s 4ms/step - loss: 0.1188 - accuracy: 0.7830 - val_loss: 0.1273 - val_accuracy: 0.7728\n",
      "Epoch 22/50\n",
      "1986/1986 [==============================] - 7s 4ms/step - loss: 0.1182 - accuracy: 0.7844 - val_loss: 0.1237 - val_accuracy: 0.7818\n",
      "Epoch 23/50\n",
      "1986/1986 [==============================] - 7s 4ms/step - loss: 0.1177 - accuracy: 0.7840 - val_loss: 0.1211 - val_accuracy: 0.7838\n",
      "Epoch 24/50\n",
      "1986/1986 [==============================] - 7s 4ms/step - loss: 0.1159 - accuracy: 0.7884 - val_loss: 0.1275 - val_accuracy: 0.7694\n",
      "Epoch 25/50\n",
      "1986/1986 [==============================] - 7s 4ms/step - loss: 0.1157 - accuracy: 0.7899 - val_loss: 0.1262 - val_accuracy: 0.7702\n",
      "Epoch 26/50\n",
      "1986/1986 [==============================] - 7s 4ms/step - loss: 0.1155 - accuracy: 0.7893 - val_loss: 0.1236 - val_accuracy: 0.7804\n",
      "Epoch 27/50\n",
      "1986/1986 [==============================] - 7s 4ms/step - loss: 0.1147 - accuracy: 0.7928 - val_loss: 0.1254 - val_accuracy: 0.7805\n",
      "Epoch 28/50\n",
      "1986/1986 [==============================] - 7s 4ms/step - loss: 0.1134 - accuracy: 0.7944 - val_loss: 0.1280 - val_accuracy: 0.7735\n",
      "Epoch 29/50\n",
      "1986/1986 [==============================] - 7s 4ms/step - loss: 0.1138 - accuracy: 0.7937 - val_loss: 0.1274 - val_accuracy: 0.7703\n",
      "Epoch 30/50\n",
      "1986/1986 [==============================] - 7s 4ms/step - loss: 0.1125 - accuracy: 0.7961 - val_loss: 0.1251 - val_accuracy: 0.7778\n",
      "Epoch 31/50\n",
      "1986/1986 [==============================] - 7s 4ms/step - loss: 0.1126 - accuracy: 0.7966 - val_loss: 0.1289 - val_accuracy: 0.7734\n",
      "Epoch 32/50\n",
      "1986/1986 [==============================] - 7s 4ms/step - loss: 0.1121 - accuracy: 0.7971 - val_loss: 0.1259 - val_accuracy: 0.7767\n",
      "Epoch 33/50\n",
      "1986/1986 [==============================] - 7s 4ms/step - loss: 0.1124 - accuracy: 0.7968 - val_loss: 0.1196 - val_accuracy: 0.7922\n",
      "Epoch 34/50\n",
      "1986/1986 [==============================] - 7s 4ms/step - loss: 0.1113 - accuracy: 0.7988 - val_loss: 0.1283 - val_accuracy: 0.7700\n",
      "Epoch 35/50\n",
      "1986/1986 [==============================] - 7s 4ms/step - loss: 0.1112 - accuracy: 0.8001 - val_loss: 0.1226 - val_accuracy: 0.7830\n",
      "Epoch 36/50\n",
      "1986/1986 [==============================] - 7s 4ms/step - loss: 0.1108 - accuracy: 0.8001 - val_loss: 0.1296 - val_accuracy: 0.7694\n",
      "Epoch 37/50\n",
      "1986/1986 [==============================] - 7s 4ms/step - loss: 0.1110 - accuracy: 0.7998 - val_loss: 0.1286 - val_accuracy: 0.7703\n",
      "Epoch 38/50\n",
      "1986/1986 [==============================] - 7s 4ms/step - loss: 0.1107 - accuracy: 0.8000 - val_loss: 0.1251 - val_accuracy: 0.7775\n",
      "Epoch 39/50\n",
      "1986/1986 [==============================] - 8s 4ms/step - loss: 0.1098 - accuracy: 0.8025 - val_loss: 0.1272 - val_accuracy: 0.7730\n",
      "Epoch 40/50\n",
      "1986/1986 [==============================] - 7s 4ms/step - loss: 0.1091 - accuracy: 0.8059 - val_loss: 0.1220 - val_accuracy: 0.7891\n",
      "Epoch 41/50\n",
      "1986/1986 [==============================] - 7s 4ms/step - loss: 0.1088 - accuracy: 0.8038 - val_loss: 0.1227 - val_accuracy: 0.7850\n",
      "Epoch 42/50\n",
      "1986/1986 [==============================] - 7s 4ms/step - loss: 0.1088 - accuracy: 0.8051 - val_loss: 0.1277 - val_accuracy: 0.7742\n",
      "Epoch 43/50\n",
      "1986/1986 [==============================] - 7s 4ms/step - loss: 0.1088 - accuracy: 0.8042 - val_loss: 0.1214 - val_accuracy: 0.7880\n",
      "Epoch 44/50\n",
      "1986/1986 [==============================] - 7s 4ms/step - loss: 0.1082 - accuracy: 0.8067 - val_loss: 0.1214 - val_accuracy: 0.7867\n",
      "Epoch 45/50\n",
      "1986/1986 [==============================] - 8s 4ms/step - loss: 0.1081 - accuracy: 0.8045 - val_loss: 0.1240 - val_accuracy: 0.7813\n",
      "Epoch 46/50\n",
      "1986/1986 [==============================] - 7s 4ms/step - loss: 0.1070 - accuracy: 0.8082 - val_loss: 0.1290 - val_accuracy: 0.7730\n",
      "Epoch 47/50\n",
      "1986/1986 [==============================] - 7s 4ms/step - loss: 0.1076 - accuracy: 0.8070 - val_loss: 0.1262 - val_accuracy: 0.7781\n",
      "Epoch 48/50\n",
      "1986/1986 [==============================] - 7s 4ms/step - loss: 0.1075 - accuracy: 0.8082 - val_loss: 0.1237 - val_accuracy: 0.7847\n",
      "Epoch 49/50\n",
      "1986/1986 [==============================] - 7s 4ms/step - loss: 0.1070 - accuracy: 0.8062 - val_loss: 0.1216 - val_accuracy: 0.7895\n",
      "Epoch 50/50\n",
      "1986/1986 [==============================] - 7s 4ms/step - loss: 0.1064 - accuracy: 0.8104 - val_loss: 0.1260 - val_accuracy: 0.7779\n",
      "\u001b[91mSaving to file\u001b[0m\n",
      "\u001b[91mModel stored in /content/drive/My Drive/assignment-3-luucv\u001b[0m\n",
      "Model: \"sequential_5\"\n",
      "_________________________________________________________________\n",
      "Layer (type)                 Output Shape              Param #   \n",
      "=================================================================\n",
      "reshape_5 (Reshape)          (None, 3072)              0         \n",
      "_________________________________________________________________\n",
      "dense_13 (Dense)             (None, 1500)              4609500   \n",
      "_________________________________________________________________\n",
      "dense_14 (Dense)             (None, 250)               375250    \n",
      "_________________________________________________________________\n",
      "dense_15 (Dense)             (None, 10)                2510      \n",
      "=================================================================\n",
      "Total params: 4,987,260\n",
      "Trainable params: 4,987,260\n",
      "Non-trainable params: 0\n",
      "_________________________________________________________________\n",
      "None\n",
      "         loss  accuracy  val_loss  val_accuracy\n",
      "min  0.106381  0.348436  0.119573      0.525965\n",
      "max  0.280761  0.810352  0.221740      0.792220\n",
      "Answer is 578 characters long\n"
     ]
    },
    {
     "data": {
      "image/png": "[encoded data removed]",
      "text/plain": [
       "<Figure size 432x288 with 1 Axes>"
      ]
     },
     "metadata": {
      "needs_background": "light",
      "tags": []
     },
     "output_type": "display_data"
    }
   ],
   "source": [
    "def build_model_1_1():\n",
    "  model = models.Sequential()\n",
    "  model.add(layers.Reshape((3072,), input_shape=(32,32,3)))\n",
    "  model.add(layers.Dense(1500, activation='relu'))\n",
    "  model.add(layers.Dense(250, activation='relu'))\n",
    "  model.add(layers.Dense(10, activation='sigmoid'))\n",
    "\n",
    "  model.compile(optimizer='Adam', loss='binary_crossentropy', metrics=['accuracy'])\n",
    "  return model\n",
    "\n",
    "run_evaluation(\"model_1_1\", build_model_1_1, evaluation_split, base_dir, \n",
    "               train=True, epochs=50, batch_size=32)\n",
    "answer_q_1_1 = \"\"\"\n",
    "               The first layer reshapes the input to a single array in order to\n",
    "               use the Dense layers. The first Dense layer has 1500 units to not \n",
    "               lose too much data after the reshape with a relu activation \n",
    "               function to overcome the vanishing gradient. The second Dense layer \n",
    "               is almost at 1/10 of the previous one, this was chosen to not make \n",
    "               the model too big and 3072 to 250 seemed like a good gap. The \n",
    "               last Dense layer outputs a 10 element array with the classification. \n",
    "               \"\"\"\n",
    "print(\"Answer is {} characters long\".format(len(answer_q_1_1)))"
   ]
  },
  {
   "cell_type": "markdown",
   "metadata": {
    "colab_type": "text",
    "id": "kmicpoNvonjd"
   },
   "source": [
    "### Question 1.2: Preprocessing (2 points)\n",
    "Rerun the model, but now preprocess the data first by converting the images to \n",
    "greyscale. You can use the helper function below. If you want to do additional \n",
    "preprocessing, you can do that here, too.\n",
    "* Store the preprocessed data as a tuple `preprocessed_split`\n",
    "* Rerun and re-evaluate your model using the preprocessed data.\n",
    "  * For the remainder of the assignment, always use the preprocessed data\n",
    "* Explain what you did and interpret the results in 'answer_q_1_2'. Is the model\n",
    "  better, if so, why?"
   ]
  },
  {
   "cell_type": "code",
   "execution_count": 0,
   "metadata": {
    "colab": {},
    "colab_type": "code",
    "id": "_wFGWDQSqkIM"
   },
   "outputs": [],
   "source": [
    "# Luminance-preserving RGB to greyscale conversion\n",
    "def rgb2gray(X):\n",
    "    return np.expand_dims(np.dot(X, [0.2990, 0.5870, 0.1140]), axis=3)"
   ]
  },
  {
   "cell_type": "code",
   "execution_count": 0,
   "metadata": {
    "colab": {
     "base_uri": "https://localhost:8080/",
     "height": 1000
    },
    "colab_type": "code",
    "executionInfo": {
     "elapsed": 338642,
     "status": "ok",
     "timestamp": 1587187877564,
     "user": {
      "displayName": "Luuc Verburgh",
      "photoUrl": "https://lh3.googleusercontent.com/a-/AOh14GiiomKTvBdqbTeiX1Tj6H2jQM0crrmCPDD773gwabE=s64",
      "userId": "11925589907397564702"
     },
     "user_tz": -120
    },
    "id": "3aTVsLaojNeM",
    "outputId": "fcfb35b6-e946-4564-e8f8-342da9c326c8"
   },
   "outputs": [
    {
     "name": "stdout",
     "output_type": "stream",
     "text": [
      "\u001b[91mTraining the model\u001b[0m\n",
      "Epoch 1/50\n",
      "1986/1986 [==============================] - 7s 3ms/step - loss: 0.2722 - accuracy: 0.3632 - val_loss: 0.2192 - val_accuracy: 0.5313\n",
      "Epoch 2/50\n",
      "1986/1986 [==============================] - 7s 3ms/step - loss: 0.1894 - accuracy: 0.6153 - val_loss: 0.1767 - val_accuracy: 0.6466\n",
      "Epoch 3/50\n",
      "1986/1986 [==============================] - 7s 3ms/step - loss: 0.1677 - accuracy: 0.6714 - val_loss: 0.1635 - val_accuracy: 0.6781\n",
      "Epoch 4/50\n",
      "1986/1986 [==============================] - 7s 3ms/step - loss: 0.1559 - accuracy: 0.6990 - val_loss: 0.1545 - val_accuracy: 0.7052\n",
      "Epoch 5/50\n",
      "1986/1986 [==============================] - 7s 3ms/step - loss: 0.1479 - accuracy: 0.7178 - val_loss: 0.1515 - val_accuracy: 0.7077\n",
      "Epoch 6/50\n",
      "1986/1986 [==============================] - 7s 3ms/step - loss: 0.1419 - accuracy: 0.7305 - val_loss: 0.1402 - val_accuracy: 0.7396\n",
      "Epoch 7/50\n",
      "1986/1986 [==============================] - 7s 3ms/step - loss: 0.1366 - accuracy: 0.7428 - val_loss: 0.1379 - val_accuracy: 0.7456\n",
      "Epoch 8/50\n",
      "1986/1986 [==============================] - 7s 3ms/step - loss: 0.1335 - accuracy: 0.7490 - val_loss: 0.1313 - val_accuracy: 0.7577\n",
      "Epoch 9/50\n",
      "1986/1986 [==============================] - 7s 3ms/step - loss: 0.1290 - accuracy: 0.7598 - val_loss: 0.1301 - val_accuracy: 0.7562\n",
      "Epoch 10/50\n",
      "1986/1986 [==============================] - 7s 3ms/step - loss: 0.1258 - accuracy: 0.7648 - val_loss: 0.1320 - val_accuracy: 0.7591\n",
      "Epoch 11/50\n",
      "1986/1986 [==============================] - 7s 3ms/step - loss: 0.1231 - accuracy: 0.7713 - val_loss: 0.1289 - val_accuracy: 0.7609\n",
      "Epoch 12/50\n",
      "1986/1986 [==============================] - 7s 3ms/step - loss: 0.1208 - accuracy: 0.7769 - val_loss: 0.1293 - val_accuracy: 0.7633\n",
      "Epoch 13/50\n",
      "1986/1986 [==============================] - 7s 3ms/step - loss: 0.1181 - accuracy: 0.7831 - val_loss: 0.1210 - val_accuracy: 0.7853\n",
      "Epoch 14/50\n",
      "1986/1986 [==============================] - 7s 3ms/step - loss: 0.1162 - accuracy: 0.7876 - val_loss: 0.1342 - val_accuracy: 0.7516\n",
      "Epoch 15/50\n",
      "1986/1986 [==============================] - 7s 3ms/step - loss: 0.1144 - accuracy: 0.7910 - val_loss: 0.1211 - val_accuracy: 0.7828\n",
      "Epoch 16/50\n",
      "1986/1986 [==============================] - 7s 4ms/step - loss: 0.1128 - accuracy: 0.7940 - val_loss: 0.1307 - val_accuracy: 0.7629\n",
      "Epoch 17/50\n",
      "1986/1986 [==============================] - 7s 3ms/step - loss: 0.1116 - accuracy: 0.7978 - val_loss: 0.1163 - val_accuracy: 0.7905\n",
      "Epoch 18/50\n",
      "1986/1986 [==============================] - 7s 3ms/step - loss: 0.1102 - accuracy: 0.7999 - val_loss: 0.1131 - val_accuracy: 0.8009\n",
      "Epoch 19/50\n",
      "1986/1986 [==============================] - 7s 3ms/step - loss: 0.1083 - accuracy: 0.8041 - val_loss: 0.1197 - val_accuracy: 0.7870\n",
      "Epoch 20/50\n",
      "1986/1986 [==============================] - 8s 4ms/step - loss: 0.1080 - accuracy: 0.8047 - val_loss: 0.1149 - val_accuracy: 0.7995\n",
      "Epoch 21/50\n",
      "1986/1986 [==============================] - 7s 3ms/step - loss: 0.1059 - accuracy: 0.8099 - val_loss: 0.1164 - val_accuracy: 0.7969\n",
      "Epoch 22/50\n",
      "1986/1986 [==============================] - 7s 3ms/step - loss: 0.1050 - accuracy: 0.8096 - val_loss: 0.1165 - val_accuracy: 0.7966\n",
      "Epoch 23/50\n",
      "1986/1986 [==============================] - 7s 3ms/step - loss: 0.1039 - accuracy: 0.8136 - val_loss: 0.1278 - val_accuracy: 0.7694\n",
      "Epoch 24/50\n",
      "1986/1986 [==============================] - 7s 3ms/step - loss: 0.1037 - accuracy: 0.8143 - val_loss: 0.1160 - val_accuracy: 0.7927\n",
      "Epoch 25/50\n",
      "1986/1986 [==============================] - 7s 3ms/step - loss: 0.1029 - accuracy: 0.8155 - val_loss: 0.1230 - val_accuracy: 0.7790\n",
      "Epoch 26/50\n",
      "1986/1986 [==============================] - 7s 3ms/step - loss: 0.1016 - accuracy: 0.8184 - val_loss: 0.1160 - val_accuracy: 0.7939\n",
      "Epoch 27/50\n",
      "1986/1986 [==============================] - 7s 3ms/step - loss: 0.1009 - accuracy: 0.8192 - val_loss: 0.1181 - val_accuracy: 0.7917\n",
      "Epoch 28/50\n",
      "1986/1986 [==============================] - 7s 3ms/step - loss: 0.1002 - accuracy: 0.8206 - val_loss: 0.1095 - val_accuracy: 0.8103\n",
      "Epoch 29/50\n",
      "1986/1986 [==============================] - 7s 3ms/step - loss: 0.0996 - accuracy: 0.8214 - val_loss: 0.1160 - val_accuracy: 0.7930\n",
      "Epoch 30/50\n",
      "1986/1986 [==============================] - 7s 3ms/step - loss: 0.0990 - accuracy: 0.8236 - val_loss: 0.1143 - val_accuracy: 0.8014\n",
      "Epoch 31/50\n",
      "1986/1986 [==============================] - 7s 3ms/step - loss: 0.0979 - accuracy: 0.8254 - val_loss: 0.1185 - val_accuracy: 0.7947\n",
      "Epoch 32/50\n",
      "1986/1986 [==============================] - 7s 3ms/step - loss: 0.0975 - accuracy: 0.8268 - val_loss: 0.1090 - val_accuracy: 0.8105\n",
      "Epoch 33/50\n",
      "1986/1986 [==============================] - 7s 3ms/step - loss: 0.0973 - accuracy: 0.8268 - val_loss: 0.1173 - val_accuracy: 0.7952\n",
      "Epoch 34/50\n",
      "1986/1986 [==============================] - 7s 3ms/step - loss: 0.0965 - accuracy: 0.8284 - val_loss: 0.1112 - val_accuracy: 0.8075\n",
      "Epoch 35/50\n",
      "1986/1986 [==============================] - 7s 3ms/step - loss: 0.0961 - accuracy: 0.8297 - val_loss: 0.1156 - val_accuracy: 0.7956\n",
      "Epoch 36/50\n",
      "1986/1986 [==============================] - 7s 3ms/step - loss: 0.0954 - accuracy: 0.8318 - val_loss: 0.1108 - val_accuracy: 0.8080\n",
      "Epoch 37/50\n",
      "1986/1986 [==============================] - 7s 3ms/step - loss: 0.0953 - accuracy: 0.8312 - val_loss: 0.1119 - val_accuracy: 0.8057\n",
      "Epoch 38/50\n",
      "1986/1986 [==============================] - 7s 3ms/step - loss: 0.0946 - accuracy: 0.8320 - val_loss: 0.1099 - val_accuracy: 0.8143\n",
      "Epoch 39/50\n",
      "1986/1986 [==============================] - 7s 3ms/step - loss: 0.0949 - accuracy: 0.8312 - val_loss: 0.1140 - val_accuracy: 0.8047\n",
      "Epoch 40/50\n",
      "1986/1986 [==============================] - 7s 3ms/step - loss: 0.0937 - accuracy: 0.8332 - val_loss: 0.1158 - val_accuracy: 0.8018\n",
      "Epoch 41/50\n",
      "1986/1986 [==============================] - 7s 3ms/step - loss: 0.0939 - accuracy: 0.8324 - val_loss: 0.1089 - val_accuracy: 0.8110\n",
      "Epoch 42/50\n",
      "1986/1986 [==============================] - 7s 3ms/step - loss: 0.0930 - accuracy: 0.8349 - val_loss: 0.1078 - val_accuracy: 0.8142\n",
      "Epoch 43/50\n",
      "1986/1986 [==============================] - 7s 3ms/step - loss: 0.0928 - accuracy: 0.8366 - val_loss: 0.1098 - val_accuracy: 0.8081\n",
      "Epoch 44/50\n",
      "1986/1986 [==============================] - 7s 3ms/step - loss: 0.0925 - accuracy: 0.8366 - val_loss: 0.1092 - val_accuracy: 0.8143\n",
      "Epoch 45/50\n",
      "1986/1986 [==============================] - 7s 3ms/step - loss: 0.0930 - accuracy: 0.8370 - val_loss: 0.1114 - val_accuracy: 0.8092\n",
      "Epoch 46/50\n",
      "1986/1986 [==============================] - 7s 3ms/step - loss: 0.0917 - accuracy: 0.8395 - val_loss: 0.1139 - val_accuracy: 0.8053\n",
      "Epoch 47/50\n",
      "1986/1986 [==============================] - 7s 3ms/step - loss: 0.0910 - accuracy: 0.8392 - val_loss: 0.1103 - val_accuracy: 0.8116\n",
      "Epoch 48/50\n",
      "1986/1986 [==============================] - 7s 3ms/step - loss: 0.0911 - accuracy: 0.8392 - val_loss: 0.1105 - val_accuracy: 0.8068\n",
      "Epoch 49/50\n",
      "1986/1986 [==============================] - 7s 3ms/step - loss: 0.0908 - accuracy: 0.8399 - val_loss: 0.1118 - val_accuracy: 0.8084\n",
      "Epoch 50/50\n",
      "1986/1986 [==============================] - 7s 3ms/step - loss: 0.0911 - accuracy: 0.8392 - val_loss: 0.1076 - val_accuracy: 0.8169\n",
      "\u001b[91mSaving to file\u001b[0m\n",
      "\u001b[91mModel stored in /content/drive/My Drive/assignment-3-luucv\u001b[0m\n",
      "Model: \"sequential_3\"\n",
      "_________________________________________________________________\n",
      "Layer (type)                 Output Shape              Param #   \n",
      "=================================================================\n",
      "reshape_3 (Reshape)          (None, 1024)              0         \n",
      "_________________________________________________________________\n",
      "dense_7 (Dense)              (None, 1024)              1049600   \n",
      "_________________________________________________________________\n",
      "dense_8 (Dense)              (None, 256)               262400    \n",
      "_________________________________________________________________\n",
      "dense_9 (Dense)              (None, 10)                2570      \n",
      "=================================================================\n",
      "Total params: 1,314,570\n",
      "Trainable params: 1,314,570\n",
      "Non-trainable params: 0\n",
      "_________________________________________________________________\n",
      "None\n",
      "         loss  accuracy  val_loss  val_accuracy\n",
      "min  0.090754  0.363181  0.107558      0.531315\n",
      "max  0.272249  0.839906  0.219226      0.816894\n",
      "Answer is 174 characters long\n"
     ]
    },
    {
     "data": {
      "image/png": "[encoded data removed]",
      "text/plain": [
       "<Figure size 432x288 with 1 Axes>"
      ]
     },
     "metadata": {
      "needs_background": "light",
      "tags": []
     },
     "output_type": "display_data"
    }
   ],
   "source": [
    "# Replace with the preprocessed data\n",
    "preprocessed_split = rgb2gray(X_train), rgb2gray(X_val), y_train, y_val\n",
    "\n",
    "# Adjusted model\n",
    "def build_model_1_2():\n",
    "  model = models.Sequential()\n",
    "  # model.add(layers.Flatten())\n",
    "  model.add(layers.Reshape((1024,), input_shape=(32,32,1)))\n",
    "  model.add(layers.Dense(1024, activation='relu'))\n",
    "  model.add(layers.Dense(256, activation='relu'))\n",
    "  model.add(layers.Dense(10, activation='sigmoid'))\n",
    "\n",
    "  model.compile(optimizer='Adam', loss='binary_crossentropy', metrics=['accuracy'])\n",
    "  return model\n",
    "\n",
    "# Evaluate. Use a new name 'model_1_2' to not overwrite the previous trained model\n",
    "run_evaluation(\"model_1_2\", build_model_1_2, preprocessed_split, base_dir, \n",
    "               train=True, epochs=50, batch_size=32)\n",
    "answer_q_1_2 = \"\"\"\n",
    "               The gap between the accuracy and validation accuray greatly shrincks,\n",
    "               meaning that the overfitting is less with preprocessing. The max\n",
    "               validation accuracy was 0.792 without any preprocessing while now\n",
    "               it is 0.817.\n",
    "               \"\"\"\n",
    "print(\"Answer is {} characters long\".format(len(answer_q_1_2)))"
   ]
  },
  {
   "cell_type": "markdown",
   "metadata": {
    "colab_type": "text",
    "id": "7l1pHwimiWQI"
   },
   "source": [
    "### Question 1.3: Regularization and tuning (4 points)\n",
    "* Regularize the model. You can explore (and combine) different techniques. What works best?\n",
    "* Tune other hyperparameters (e.g. learning rate, batch size,...) as you see fit.\n",
    "* Explain your findings and final design decisions. Retrain the model again on the preprocessed data and discuss the results.\n",
    "* Return your model in function 'build_model_1_3' and write your answer in 'answer_q_1_3'"
   ]
  },
  {
   "cell_type": "code",
   "execution_count": 0,
   "metadata": {
    "colab": {
     "base_uri": "https://localhost:8080/",
     "height": 1000
    },
    "colab_type": "code",
    "executionInfo": {
     "elapsed": 338182,
     "status": "ok",
     "timestamp": 1587188278301,
     "user": {
      "displayName": "Luuc Verburgh",
      "photoUrl": "https://lh3.googleusercontent.com/a-/AOh14GiiomKTvBdqbTeiX1Tj6H2jQM0crrmCPDD773gwabE=s64",
      "userId": "11925589907397564702"
     },
     "user_tz": -120
    },
    "id": "2ZZenVX1jDIQ",
    "outputId": "6b7fcbe5-a7f6-4377-a298-3691db830f01"
   },
   "outputs": [
    {
     "name": "stdout",
     "output_type": "stream",
     "text": [
      "\u001b[91mTraining the model\u001b[0m\n",
      "Epoch 1/50\n",
      "1986/1986 [==============================] - 7s 4ms/step - loss: 0.2837 - accuracy: 0.3703 - val_loss: 0.2270 - val_accuracy: 0.5245\n",
      "Epoch 2/50\n",
      "1986/1986 [==============================] - 7s 4ms/step - loss: 0.1996 - accuracy: 0.6159 - val_loss: 0.1838 - val_accuracy: 0.6517\n",
      "Epoch 3/50\n",
      "1986/1986 [==============================] - 7s 3ms/step - loss: 0.1720 - accuracy: 0.6791 - val_loss: 0.1698 - val_accuracy: 0.6788\n",
      "Epoch 4/50\n",
      "1986/1986 [==============================] - 7s 3ms/step - loss: 0.1571 - accuracy: 0.7101 - val_loss: 0.1554 - val_accuracy: 0.7156\n",
      "Epoch 5/50\n",
      "1986/1986 [==============================] - 7s 3ms/step - loss: 0.1465 - accuracy: 0.7295 - val_loss: 0.1465 - val_accuracy: 0.7300\n",
      "Epoch 6/50\n",
      "1986/1986 [==============================] - 7s 4ms/step - loss: 0.1388 - accuracy: 0.7448 - val_loss: 0.1409 - val_accuracy: 0.7385\n",
      "Epoch 7/50\n",
      "1986/1986 [==============================] - 7s 4ms/step - loss: 0.1324 - accuracy: 0.7592 - val_loss: 0.1334 - val_accuracy: 0.7562\n",
      "Epoch 8/50\n",
      "1986/1986 [==============================] - 7s 3ms/step - loss: 0.1268 - accuracy: 0.7706 - val_loss: 0.1290 - val_accuracy: 0.7682\n",
      "Epoch 9/50\n",
      "1986/1986 [==============================] - 7s 3ms/step - loss: 0.1221 - accuracy: 0.7801 - val_loss: 0.1238 - val_accuracy: 0.7809\n",
      "Epoch 10/50\n",
      "1986/1986 [==============================] - 7s 3ms/step - loss: 0.1180 - accuracy: 0.7894 - val_loss: 0.1244 - val_accuracy: 0.7772\n",
      "Epoch 11/50\n",
      "1986/1986 [==============================] - 7s 3ms/step - loss: 0.1142 - accuracy: 0.7949 - val_loss: 0.1226 - val_accuracy: 0.7794\n",
      "Epoch 12/50\n",
      "1986/1986 [==============================] - 7s 3ms/step - loss: 0.1107 - accuracy: 0.8030 - val_loss: 0.1152 - val_accuracy: 0.7978\n",
      "Epoch 13/50\n",
      "1986/1986 [==============================] - 7s 3ms/step - loss: 0.1072 - accuracy: 0.8099 - val_loss: 0.1194 - val_accuracy: 0.7846\n",
      "Epoch 14/50\n",
      "1986/1986 [==============================] - 7s 3ms/step - loss: 0.1043 - accuracy: 0.8162 - val_loss: 0.1128 - val_accuracy: 0.8013\n",
      "Epoch 15/50\n",
      "1986/1986 [==============================] - 7s 3ms/step - loss: 0.1015 - accuracy: 0.8215 - val_loss: 0.1173 - val_accuracy: 0.7956\n",
      "Epoch 16/50\n",
      "1986/1986 [==============================] - 7s 3ms/step - loss: 0.0993 - accuracy: 0.8254 - val_loss: 0.1078 - val_accuracy: 0.8146\n",
      "Epoch 17/50\n",
      "1986/1986 [==============================] - 7s 3ms/step - loss: 0.0969 - accuracy: 0.8300 - val_loss: 0.1074 - val_accuracy: 0.8081\n",
      "Epoch 18/50\n",
      "1986/1986 [==============================] - 7s 3ms/step - loss: 0.0946 - accuracy: 0.8343 - val_loss: 0.1055 - val_accuracy: 0.8156\n",
      "Epoch 19/50\n",
      "1986/1986 [==============================] - 7s 3ms/step - loss: 0.0927 - accuracy: 0.8377 - val_loss: 0.1059 - val_accuracy: 0.8160\n",
      "Epoch 20/50\n",
      "1986/1986 [==============================] - 7s 3ms/step - loss: 0.0908 - accuracy: 0.8417 - val_loss: 0.1020 - val_accuracy: 0.8213\n",
      "Epoch 21/50\n",
      "1986/1986 [==============================] - 7s 3ms/step - loss: 0.0888 - accuracy: 0.8453 - val_loss: 0.1037 - val_accuracy: 0.8168\n",
      "Epoch 22/50\n",
      "1986/1986 [==============================] - 7s 3ms/step - loss: 0.0867 - accuracy: 0.8497 - val_loss: 0.0991 - val_accuracy: 0.8272\n",
      "Epoch 23/50\n",
      "1986/1986 [==============================] - 7s 3ms/step - loss: 0.0855 - accuracy: 0.8512 - val_loss: 0.0984 - val_accuracy: 0.8295\n",
      "Epoch 24/50\n",
      "1986/1986 [==============================] - 7s 3ms/step - loss: 0.0841 - accuracy: 0.8547 - val_loss: 0.0964 - val_accuracy: 0.8324\n",
      "Epoch 25/50\n",
      "1986/1986 [==============================] - 7s 3ms/step - loss: 0.0824 - accuracy: 0.8581 - val_loss: 0.1024 - val_accuracy: 0.8163\n",
      "Epoch 26/50\n",
      "1986/1986 [==============================] - 7s 3ms/step - loss: 0.0811 - accuracy: 0.8594 - val_loss: 0.0971 - val_accuracy: 0.8291\n",
      "Epoch 27/50\n",
      "1986/1986 [==============================] - 7s 3ms/step - loss: 0.0795 - accuracy: 0.8628 - val_loss: 0.0958 - val_accuracy: 0.8327\n",
      "Epoch 28/50\n",
      "1986/1986 [==============================] - 7s 3ms/step - loss: 0.0784 - accuracy: 0.8656 - val_loss: 0.0926 - val_accuracy: 0.8411\n",
      "Epoch 29/50\n",
      "1986/1986 [==============================] - 7s 3ms/step - loss: 0.0768 - accuracy: 0.8676 - val_loss: 0.0941 - val_accuracy: 0.8369\n",
      "Epoch 30/50\n",
      "1986/1986 [==============================] - 7s 3ms/step - loss: 0.0758 - accuracy: 0.8700 - val_loss: 0.0983 - val_accuracy: 0.8281\n",
      "Epoch 31/50\n",
      "1986/1986 [==============================] - 7s 3ms/step - loss: 0.0743 - accuracy: 0.8736 - val_loss: 0.0939 - val_accuracy: 0.8377\n",
      "Epoch 32/50\n",
      "1986/1986 [==============================] - 7s 3ms/step - loss: 0.0734 - accuracy: 0.8752 - val_loss: 0.0943 - val_accuracy: 0.8366\n",
      "Epoch 33/50\n",
      "1986/1986 [==============================] - 7s 3ms/step - loss: 0.0722 - accuracy: 0.8771 - val_loss: 0.1016 - val_accuracy: 0.8189\n",
      "Epoch 34/50\n",
      "1986/1986 [==============================] - 7s 3ms/step - loss: 0.0711 - accuracy: 0.8786 - val_loss: 0.0919 - val_accuracy: 0.8425\n",
      "Epoch 35/50\n",
      "1986/1986 [==============================] - 7s 3ms/step - loss: 0.0696 - accuracy: 0.8814 - val_loss: 0.0906 - val_accuracy: 0.8455\n",
      "Epoch 36/50\n",
      "1986/1986 [==============================] - 7s 3ms/step - loss: 0.0692 - accuracy: 0.8820 - val_loss: 0.0911 - val_accuracy: 0.8465\n",
      "Epoch 37/50\n",
      "1986/1986 [==============================] - 7s 3ms/step - loss: 0.0676 - accuracy: 0.8854 - val_loss: 0.0956 - val_accuracy: 0.8350\n",
      "Epoch 38/50\n",
      "1986/1986 [==============================] - 7s 3ms/step - loss: 0.0668 - accuracy: 0.8865 - val_loss: 0.0902 - val_accuracy: 0.8470\n",
      "Epoch 39/50\n",
      "1986/1986 [==============================] - 7s 3ms/step - loss: 0.0657 - accuracy: 0.8877 - val_loss: 0.0912 - val_accuracy: 0.8464\n",
      "Epoch 40/50\n",
      "1986/1986 [==============================] - 7s 3ms/step - loss: 0.0650 - accuracy: 0.8896 - val_loss: 0.0913 - val_accuracy: 0.8458\n",
      "Epoch 41/50\n",
      "1986/1986 [==============================] - 7s 3ms/step - loss: 0.0642 - accuracy: 0.8911 - val_loss: 0.0908 - val_accuracy: 0.8444\n",
      "Epoch 42/50\n",
      "1986/1986 [==============================] - 7s 3ms/step - loss: 0.0634 - accuracy: 0.8929 - val_loss: 0.0937 - val_accuracy: 0.8414\n",
      "Epoch 43/50\n",
      "1986/1986 [==============================] - 7s 3ms/step - loss: 0.0624 - accuracy: 0.8943 - val_loss: 0.0916 - val_accuracy: 0.8455\n",
      "Epoch 44/50\n",
      "1986/1986 [==============================] - 7s 3ms/step - loss: 0.0613 - accuracy: 0.8970 - val_loss: 0.0897 - val_accuracy: 0.8462\n",
      "Epoch 45/50\n",
      "1986/1986 [==============================] - 7s 3ms/step - loss: 0.0605 - accuracy: 0.8991 - val_loss: 0.0896 - val_accuracy: 0.8474\n",
      "Epoch 46/50\n",
      "1986/1986 [==============================] - 7s 3ms/step - loss: 0.0596 - accuracy: 0.9012 - val_loss: 0.0916 - val_accuracy: 0.8474\n",
      "Epoch 47/50\n",
      "1986/1986 [==============================] - 7s 4ms/step - loss: 0.0590 - accuracy: 0.9002 - val_loss: 0.0913 - val_accuracy: 0.8459\n",
      "Epoch 48/50\n",
      "1986/1986 [==============================] - 7s 3ms/step - loss: 0.0584 - accuracy: 0.9034 - val_loss: 0.0920 - val_accuracy: 0.8451\n",
      "Epoch 49/50\n",
      "1986/1986 [==============================] - 7s 3ms/step - loss: 0.0574 - accuracy: 0.9046 - val_loss: 0.0871 - val_accuracy: 0.8561\n",
      "Epoch 50/50\n",
      "1986/1986 [==============================] - 7s 3ms/step - loss: 0.0566 - accuracy: 0.9072 - val_loss: 0.0911 - val_accuracy: 0.8481\n",
      "\u001b[91mSaving to file\u001b[0m\n",
      "\u001b[91mModel stored in /content/drive/My Drive/assignment-3-luucv\u001b[0m\n",
      "Model: \"sequential_4\"\n",
      "_________________________________________________________________\n",
      "Layer (type)                 Output Shape              Param #   \n",
      "=================================================================\n",
      "reshape_4 (Reshape)          (None, 1024)              0         \n",
      "_________________________________________________________________\n",
      "dense_10 (Dense)             (None, 1024)              1049600   \n",
      "_________________________________________________________________\n",
      "dense_11 (Dense)             (None, 256)               262400    \n",
      "_________________________________________________________________\n",
      "dense_12 (Dense)             (None, 10)                2570      \n",
      "=================================================================\n",
      "Total params: 1,314,570\n",
      "Trainable params: 1,314,570\n",
      "Non-trainable params: 0\n",
      "_________________________________________________________________\n",
      "None\n",
      "         loss  accuracy  val_loss  val_accuracy\n",
      "min  0.056643   0.37031  0.087086      0.524517\n",
      "max  0.283680   0.90723  0.226963      0.856109\n",
      "Answer is 316 characters long\n"
     ]
    },
    {
     "data": {
      "image/png": "[encoded data removed]",
      "text/plain": [
       "<Figure size 432x288 with 1 Axes>"
      ]
     },
     "metadata": {
      "needs_background": "light",
      "tags": []
     },
     "output_type": "display_data"
    }
   ],
   "source": [
    "from tensorflow.keras import regularizers\n",
    "from tensorflow.keras import optimizers\n",
    "\n",
    "def build_model_1_3():\n",
    "  model = models.Sequential()\n",
    "  model.add(layers.Reshape((1024,), input_shape=(32,32,1)))\n",
    "  model.add(layers.Dense(1024, activation='relu'))\n",
    "  model.add(layers.Dense(256, activation='relu'))\n",
    "  model.add(layers.Dense(10, activation='sigmoid'))\n",
    "\n",
    "  adam = optimizers.Adam(learning_rate=0.0001)\n",
    "  model.compile(optimizer=adam, loss='binary_crossentropy', metrics=['accuracy'])\n",
    "\n",
    "  return model\n",
    "\n",
    "run_evaluation(\"model_1_3\", build_model_1_3, preprocessed_split, base_dir, \n",
    "               train=True, epochs=50, batch_size=32)\n",
    "answer_q_1_3 = \"\"\"\n",
    "                As we achieved a good accuracy in the first exercise, I used a \n",
    "                similiar architecture for this model. Adding dropout layers did\n",
    "                not give any improvements. However reducing the learning rate \n",
    "                from  0.001 to 0.0001 did give improvements for validation accuracy \n",
    "                (0.816 vs 0.856) and therefor creating less overfitting. With the\n",
    "                lowered learning rate we see the model converging easier.\n",
    "               \"\"\"\n",
    "print(\"Answer is {} characters long\".format(len(answer_q_1_3)))"
   ]
  },
  {
   "cell_type": "markdown",
   "metadata": {
    "colab_type": "text",
    "id": "leo7YbI9L5et"
   },
   "source": [
    "## Part 2. Convolutional neural networks (10 points)\n",
    "### Question 2.1: Design a ConvNet (7 points)\n",
    "- Build a sequential convolutional neural network. Try to achieve the best validation accuracy you can. You should be able to get at least 90% accuracy. You can use any depth, any combination of layers, and any kind of regularization and tuning. \n",
    "- Add a description of your design choices in 'answer_q_2_1': explain what you did and also why. Also discuss the performance of the model. Is it working well? Both the performance of the model and your explanations matter.\n",
    "- You are allowed **800** characters for this answer (but don’t ramble).\n",
    "- The name of the model should be 'model_2_1'. Evaluate it using the 'run_evaluation' function and the preprocessed data."
   ]
  },
  {
   "cell_type": "code",
   "execution_count": 0,
   "metadata": {
    "colab": {
     "base_uri": "https://localhost:8080/",
     "height": 1000
    },
    "colab_type": "code",
    "executionInfo": {
     "elapsed": 658468,
     "status": "ok",
     "timestamp": 1586662799396,
     "user": {
      "displayName": "Luuc Verburgh",
      "photoUrl": "https://lh3.googleusercontent.com/a-/AOh14GiiomKTvBdqbTeiX1Tj6H2jQM0crrmCPDD773gwabE=s64",
      "userId": "11925589907397564702"
     },
     "user_tz": -120
    },
    "id": "ceyv-n1JRYyP",
    "outputId": "4dce3a50-deed-4c92-b8c2-7f619b65bd75"
   },
   "outputs": [
    {
     "name": "stdout",
     "output_type": "stream",
     "text": [
      "\u001b[91mTraining the model\u001b[0m\n",
      "Epoch 1/50\n",
      "1986/1986 [==============================] - 13s 7ms/step - loss: 1.1899 - accuracy: 0.6292 - val_loss: 0.4376 - val_accuracy: 0.8643\n",
      "Epoch 2/50\n",
      "1986/1986 [==============================] - 13s 7ms/step - loss: 0.5120 - accuracy: 0.8481 - val_loss: 0.3419 - val_accuracy: 0.8978\n",
      "Epoch 3/50\n",
      "1986/1986 [==============================] - 13s 7ms/step - loss: 0.4319 - accuracy: 0.8738 - val_loss: 0.4183 - val_accuracy: 0.8724\n",
      "Epoch 4/50\n",
      "1986/1986 [==============================] - 13s 7ms/step - loss: 0.3879 - accuracy: 0.8869 - val_loss: 0.2968 - val_accuracy: 0.9094\n",
      "Epoch 5/50\n",
      "1986/1986 [==============================] - 13s 7ms/step - loss: 0.3518 - accuracy: 0.8978 - val_loss: 0.2225 - val_accuracy: 0.9332\n",
      "Epoch 6/50\n",
      "1986/1986 [==============================] - 13s 7ms/step - loss: 0.3237 - accuracy: 0.9075 - val_loss: 0.2599 - val_accuracy: 0.9206\n",
      "Epoch 7/50\n",
      "1986/1986 [==============================] - 13s 7ms/step - loss: 0.2988 - accuracy: 0.9143 - val_loss: 0.2104 - val_accuracy: 0.9367\n",
      "Epoch 8/50\n",
      "1986/1986 [==============================] - 13s 7ms/step - loss: 0.2791 - accuracy: 0.9197 - val_loss: 0.2439 - val_accuracy: 0.9265\n",
      "Epoch 9/50\n",
      "1986/1986 [==============================] - 13s 7ms/step - loss: 0.2667 - accuracy: 0.9247 - val_loss: 0.2032 - val_accuracy: 0.9390\n",
      "Epoch 10/50\n",
      "1986/1986 [==============================] - 13s 6ms/step - loss: 0.2507 - accuracy: 0.9279 - val_loss: 0.2124 - val_accuracy: 0.9369\n",
      "Epoch 11/50\n",
      "1986/1986 [==============================] - 13s 7ms/step - loss: 0.2366 - accuracy: 0.9336 - val_loss: 0.1973 - val_accuracy: 0.9430\n",
      "Epoch 12/50\n",
      "1986/1986 [==============================] - 13s 7ms/step - loss: 0.2292 - accuracy: 0.9353 - val_loss: 0.2278 - val_accuracy: 0.9327\n",
      "Epoch 13/50\n",
      "1986/1986 [==============================] - 13s 7ms/step - loss: 0.2215 - accuracy: 0.9371 - val_loss: 0.2293 - val_accuracy: 0.9337\n",
      "Epoch 14/50\n",
      "1986/1986 [==============================] - 13s 7ms/step - loss: 0.2122 - accuracy: 0.9407 - val_loss: 0.2224 - val_accuracy: 0.9349\n",
      "Epoch 15/50\n",
      "1986/1986 [==============================] - 13s 7ms/step - loss: 0.2023 - accuracy: 0.9429 - val_loss: 0.1951 - val_accuracy: 0.9439\n",
      "Epoch 16/50\n",
      "1986/1986 [==============================] - 13s 6ms/step - loss: 0.1948 - accuracy: 0.9444 - val_loss: 0.1899 - val_accuracy: 0.9478\n",
      "Epoch 17/50\n",
      "1986/1986 [==============================] - 13s 7ms/step - loss: 0.1888 - accuracy: 0.9469 - val_loss: 0.1918 - val_accuracy: 0.9461\n",
      "Epoch 18/50\n",
      "1986/1986 [==============================] - 13s 6ms/step - loss: 0.1839 - accuracy: 0.9478 - val_loss: 0.2255 - val_accuracy: 0.9356\n",
      "Epoch 19/50\n",
      "1986/1986 [==============================] - 13s 7ms/step - loss: 0.1752 - accuracy: 0.9503 - val_loss: 0.1935 - val_accuracy: 0.9457\n",
      "Epoch 20/50\n",
      "1986/1986 [==============================] - 13s 6ms/step - loss: 0.1734 - accuracy: 0.9504 - val_loss: 0.1927 - val_accuracy: 0.9467\n",
      "Epoch 21/50\n",
      "1986/1986 [==============================] - 13s 7ms/step - loss: 0.1659 - accuracy: 0.9526 - val_loss: 0.2018 - val_accuracy: 0.9426\n",
      "Epoch 22/50\n",
      "1986/1986 [==============================] - 13s 6ms/step - loss: 0.1640 - accuracy: 0.9540 - val_loss: 0.1895 - val_accuracy: 0.9484\n",
      "Epoch 23/50\n",
      "1986/1986 [==============================] - 13s 7ms/step - loss: 0.1572 - accuracy: 0.9548 - val_loss: 0.1909 - val_accuracy: 0.9467\n",
      "Epoch 24/50\n",
      "1986/1986 [==============================] - 13s 7ms/step - loss: 0.1600 - accuracy: 0.9541 - val_loss: 0.1927 - val_accuracy: 0.9486\n",
      "Epoch 25/50\n",
      "1986/1986 [==============================] - 13s 6ms/step - loss: 0.1487 - accuracy: 0.9579 - val_loss: 0.1918 - val_accuracy: 0.9494\n",
      "Epoch 26/50\n",
      "1986/1986 [==============================] - 13s 7ms/step - loss: 0.1472 - accuracy: 0.9581 - val_loss: 0.2462 - val_accuracy: 0.9313\n",
      "Epoch 27/50\n",
      "1986/1986 [==============================] - 13s 7ms/step - loss: 0.1475 - accuracy: 0.9575 - val_loss: 0.2030 - val_accuracy: 0.9444\n",
      "Epoch 28/50\n",
      "1986/1986 [==============================] - 13s 7ms/step - loss: 0.1404 - accuracy: 0.9596 - val_loss: 0.1961 - val_accuracy: 0.9468\n",
      "Epoch 29/50\n",
      "1986/1986 [==============================] - 13s 7ms/step - loss: 0.1405 - accuracy: 0.9596 - val_loss: 0.1926 - val_accuracy: 0.9496\n",
      "Epoch 30/50\n",
      "1986/1986 [==============================] - 13s 6ms/step - loss: 0.1364 - accuracy: 0.9618 - val_loss: 0.1826 - val_accuracy: 0.9526\n",
      "Epoch 31/50\n",
      "1986/1986 [==============================] - 13s 6ms/step - loss: 0.1299 - accuracy: 0.9631 - val_loss: 0.1905 - val_accuracy: 0.9490\n",
      "Epoch 32/50\n",
      "1986/1986 [==============================] - 13s 6ms/step - loss: 0.1301 - accuracy: 0.9624 - val_loss: 0.2107 - val_accuracy: 0.9461\n",
      "Epoch 33/50\n",
      "1986/1986 [==============================] - 13s 6ms/step - loss: 0.1251 - accuracy: 0.9644 - val_loss: 0.1942 - val_accuracy: 0.9507\n",
      "Epoch 34/50\n",
      "1986/1986 [==============================] - 13s 6ms/step - loss: 0.1252 - accuracy: 0.9641 - val_loss: 0.1892 - val_accuracy: 0.9525\n",
      "Epoch 35/50\n",
      "1986/1986 [==============================] - 13s 7ms/step - loss: 0.1206 - accuracy: 0.9659 - val_loss: 0.1943 - val_accuracy: 0.9505\n",
      "Epoch 36/50\n",
      "1986/1986 [==============================] - 13s 7ms/step - loss: 0.1164 - accuracy: 0.9661 - val_loss: 0.2481 - val_accuracy: 0.9366\n",
      "Epoch 37/50\n",
      "1986/1986 [==============================] - 13s 6ms/step - loss: 0.1176 - accuracy: 0.9661 - val_loss: 0.1979 - val_accuracy: 0.9503\n",
      "Epoch 38/50\n",
      "1986/1986 [==============================] - 13s 6ms/step - loss: 0.1140 - accuracy: 0.9667 - val_loss: 0.1942 - val_accuracy: 0.9520\n",
      "Epoch 39/50\n",
      "1986/1986 [==============================] - 13s 7ms/step - loss: 0.1141 - accuracy: 0.9669 - val_loss: 0.2123 - val_accuracy: 0.9459\n",
      "Epoch 40/50\n",
      "1986/1986 [==============================] - 13s 7ms/step - loss: 0.1104 - accuracy: 0.9677 - val_loss: 0.1969 - val_accuracy: 0.9524\n",
      "Epoch 41/50\n",
      "1986/1986 [==============================] - 13s 7ms/step - loss: 0.1076 - accuracy: 0.9688 - val_loss: 0.2072 - val_accuracy: 0.9491\n",
      "Epoch 42/50\n",
      "1986/1986 [==============================] - 13s 7ms/step - loss: 0.1092 - accuracy: 0.9686 - val_loss: 0.1910 - val_accuracy: 0.9542\n",
      "Epoch 43/50\n",
      "1986/1986 [==============================] - 13s 6ms/step - loss: 0.1030 - accuracy: 0.9697 - val_loss: 0.1987 - val_accuracy: 0.9518\n",
      "Epoch 44/50\n",
      "1986/1986 [==============================] - 13s 6ms/step - loss: 0.1056 - accuracy: 0.9697 - val_loss: 0.2133 - val_accuracy: 0.9476\n",
      "Epoch 45/50\n",
      "1986/1986 [==============================] - 13s 6ms/step - loss: 0.1027 - accuracy: 0.9700 - val_loss: 0.2013 - val_accuracy: 0.9512\n",
      "Epoch 46/50\n",
      "1986/1986 [==============================] - 13s 6ms/step - loss: 0.0995 - accuracy: 0.9713 - val_loss: 0.2051 - val_accuracy: 0.9515\n",
      "Epoch 47/50\n",
      "1986/1986 [==============================] - 13s 6ms/step - loss: 0.1005 - accuracy: 0.9705 - val_loss: 0.2001 - val_accuracy: 0.9526\n",
      "Epoch 48/50\n",
      "1986/1986 [==============================] - 13s 6ms/step - loss: 0.0987 - accuracy: 0.9709 - val_loss: 0.2061 - val_accuracy: 0.9502\n",
      "Epoch 49/50\n",
      "1986/1986 [==============================] - 13s 6ms/step - loss: 0.0964 - accuracy: 0.9712 - val_loss: 0.2220 - val_accuracy: 0.9470\n",
      "Epoch 50/50\n",
      "1986/1986 [==============================] - 13s 7ms/step - loss: 0.0953 - accuracy: 0.9727 - val_loss: 0.2013 - val_accuracy: 0.9505\n",
      "\u001b[91mSaving to file\u001b[0m\n",
      "\u001b[91mModel stored in /content/drive/My Drive/assignment-3-luucv\u001b[0m\n",
      "Model: \"sequential_2\"\n",
      "_________________________________________________________________\n",
      "Layer (type)                 Output Shape              Param #   \n",
      "=================================================================\n",
      "conv2d (Conv2D)              (None, 30, 30, 32)        320       \n",
      "_________________________________________________________________\n",
      "batch_normalization (BatchNo (None, 30, 30, 32)        128       \n",
      "_________________________________________________________________\n",
      "conv2d_1 (Conv2D)            (None, 28, 28, 64)        18496     \n",
      "_________________________________________________________________\n",
      "batch_normalization_1 (Batch (None, 28, 28, 64)        256       \n",
      "_________________________________________________________________\n",
      "max_pooling2d (MaxPooling2D) (None, 14, 14, 64)        0         \n",
      "_________________________________________________________________\n",
      "dropout (Dropout)            (None, 14, 14, 64)        0         \n",
      "_________________________________________________________________\n",
      "conv2d_2 (Conv2D)            (None, 12, 12, 128)       73856     \n",
      "_________________________________________________________________\n",
      "batch_normalization_2 (Batch (None, 12, 12, 128)       512       \n",
      "_________________________________________________________________\n",
      "max_pooling2d_1 (MaxPooling2 (None, 6, 6, 128)         0         \n",
      "_________________________________________________________________\n",
      "dropout_1 (Dropout)          (None, 6, 6, 128)         0         \n",
      "_________________________________________________________________\n",
      "conv2d_3 (Conv2D)            (None, 4, 4, 256)         295168    \n",
      "_________________________________________________________________\n",
      "batch_normalization_3 (Batch (None, 4, 4, 256)         1024      \n",
      "_________________________________________________________________\n",
      "max_pooling2d_2 (MaxPooling2 (None, 2, 2, 256)         0         \n",
      "_________________________________________________________________\n",
      "dropout_2 (Dropout)          (None, 2, 2, 256)         0         \n",
      "_________________________________________________________________\n",
      "flatten (Flatten)            (None, 1024)              0         \n",
      "_________________________________________________________________\n",
      "dense_4 (Dense)              (None, 1028)              1053700   \n",
      "_________________________________________________________________\n",
      "batch_normalization_4 (Batch (None, 1028)              4112      \n",
      "_________________________________________________________________\n",
      "dropout_3 (Dropout)          (None, 1028)              0         \n",
      "_________________________________________________________________\n",
      "dense_5 (Dense)              (None, 512)               526848    \n",
      "_________________________________________________________________\n",
      "batch_normalization_5 (Batch (None, 512)               2048      \n",
      "_________________________________________________________________\n",
      "dropout_4 (Dropout)          (None, 512)               0         \n",
      "_________________________________________________________________\n",
      "dense_6 (Dense)              (None, 128)               65664     \n",
      "_________________________________________________________________\n",
      "batch_normalization_6 (Batch (None, 128)               512       \n",
      "_________________________________________________________________\n",
      "dropout_5 (Dropout)          (None, 128)               0         \n",
      "_________________________________________________________________\n",
      "dense_7 (Dense)              (None, 10)                1290      \n",
      "=================================================================\n",
      "Total params: 2,043,934\n",
      "Trainable params: 2,039,638\n",
      "Non-trainable params: 4,296\n",
      "_________________________________________________________________\n",
      "None\n",
      "         loss  accuracy  val_loss  val_accuracy\n",
      "min  0.095295  0.629155  0.182560      0.864292\n",
      "max  1.189925  0.972728  0.437626      0.954176\n",
      "Answer is 148 characters long\n"
     ]
    },
    {
     "data": {
      "image/png": "[encoded data removed]",
      "text/plain": [
       "<Figure size 432x288 with 1 Axes>"
      ]
     },
     "metadata": {
      "needs_background": "light",
      "tags": []
     },
     "output_type": "display_data"
    }
   ],
   "source": [
    "def build_model_2_1():\n",
    "  model = models.Sequential()\n",
    "  model.add(layers.Conv2D(32, kernel_size=(3, 3), activation='relu', input_shape=(32, 32, 1)))\n",
    "  model.add(layers.BatchNormalization())\n",
    "\n",
    "  model.add(layers.Conv2D(64, kernel_size=(3, 3), activation='relu'))\n",
    "  model.add(layers.BatchNormalization())\n",
    "  model.add(layers.MaxPooling2D(pool_size=(2, 2)))\n",
    "  model.add(layers.Dropout(0.25))\n",
    "\n",
    "  model.add(layers.Conv2D(128, kernel_size=(3, 3), activation='relu'))\n",
    "  model.add(layers.BatchNormalization())\n",
    "  model.add(layers.MaxPooling2D(pool_size=(2, 2)))\n",
    "  model.add(layers.Dropout(0.25))\n",
    "\n",
    "  model.add(layers.Conv2D(256, kernel_size=(3, 3), activation='relu'))\n",
    "  model.add(layers.BatchNormalization())\n",
    "  model.add(layers.MaxPooling2D(pool_size=(2, 2)))\n",
    "  model.add(layers.Dropout(0.25))\n",
    "\n",
    "  model.add(layers.Flatten())\n",
    "\n",
    "  model.add(layers.Dense(1028, activation='relu'))\n",
    "  model.add(layers.BatchNormalization())\n",
    "  model.add(layers.Dropout(0.5))\n",
    "\n",
    "  model.add(layers.Dense(512, activation='relu'))\n",
    "  model.add(layers.BatchNormalization())\n",
    "  model.add(layers.Dropout(0.5))\n",
    "\n",
    "  model.add(layers.Dense(128, activation='relu'))\n",
    "  model.add(layers.BatchNormalization())\n",
    "  model.add(layers.Dropout(0.5))\n",
    "\n",
    "  model.add(layers.Dense(10, activation='softmax'))\n",
    "\n",
    "  adam = optimizers.Adam(learning_rate=0.001)\n",
    "  model.compile(loss=tensorflow.keras.losses.categorical_crossentropy,\n",
    "                optimizer=adam,\n",
    "                metrics=['accuracy'])\n",
    "  \n",
    "  return model\n",
    "\n",
    "run_evaluation(\"model_2_1\", build_model_2_1, preprocessed_split, base_dir, \n",
    "               train=True, epochs=50, batch_size=32)\n",
    "answer_q_2_1 = \"\"\"\n",
    "               We created a model with 4 convolutional filters. All of them have\n",
    "               a kernel_size of 3x3 as this seemed to give the optimal amount of \n",
    "               information. The last layer has size of 256 and with that can find\n",
    "               much more detail than without. Then we use a Flattening layer to \n",
    "               converge towards a 1d array and almost halve for every next Dense \n",
    "               layer, this architecture worked well in the above models with only\n",
    "               Dense Layers and also works well here. By giving it this pyramid structure\n",
    "               it first extracts as much information from the image as possible\n",
    "               and then converges those to our classes.\n",
    "               \"\"\"\n",
    "print(\"Answer is {} characters long\".format(len(answer_q_2_1)))"
   ]
  },
  {
   "cell_type": "markdown",
   "metadata": {
    "colab_type": "text",
    "id": "EpdLTbPwXmOc"
   },
   "source": [
    "### Question 2.2: Data Augmentation (3 points)\n",
    "\n",
    "- Augment the preprocessed training data. You can explore using image shifts, rotations, zooming, flips, etc. What works well, and what does not?\n",
    "- Evaluate the model from question 2.1 with the augmented data using the 'run_evaluation' function. Store the new trained model as 'model_2_2'.\n",
    "- Add a description of your design choices in 'answer_q_2_2': explain what you did and also why. Also discuss the performance of the model."
   ]
  },
  {
   "cell_type": "code",
   "execution_count": 0,
   "metadata": {
    "colab": {
     "base_uri": "https://localhost:8080/",
     "height": 1000
    },
    "colab_type": "code",
    "executionInfo": {
     "elapsed": 888562,
     "status": "ok",
     "timestamp": 1586667144296,
     "user": {
      "displayName": "Luuc Verburgh",
      "photoUrl": "https://lh3.googleusercontent.com/a-/AOh14GiiomKTvBdqbTeiX1Tj6H2jQM0crrmCPDD773gwabE=s64",
      "userId": "11925589907397564702"
     },
     "user_tz": -120
    },
    "id": "cp8wMUU-aqhQ",
    "outputId": "0466331d-12da-40d0-da2c-0ad1c609487e"
   },
   "outputs": [
    {
     "name": "stdout",
     "output_type": "stream",
     "text": [
      "\u001b[91mTraining the model\u001b[0m\n",
      "Epoch 1/50\n",
      "1985/1985 [==============================] - 18s 9ms/step - loss: 1.9177 - accuracy: 0.3649 - val_loss: 0.6766 - val_accuracy: 0.7905\n",
      "Epoch 2/50\n",
      "1985/1985 [==============================] - 18s 9ms/step - loss: 0.9183 - accuracy: 0.7135 - val_loss: 0.4297 - val_accuracy: 0.8667\n",
      "Epoch 3/50\n",
      "1985/1985 [==============================] - 18s 9ms/step - loss: 0.7059 - accuracy: 0.7862 - val_loss: 0.3697 - val_accuracy: 0.8829\n",
      "Epoch 4/50\n",
      "1985/1985 [==============================] - 18s 9ms/step - loss: 0.6150 - accuracy: 0.8152 - val_loss: 0.2928 - val_accuracy: 0.9107\n",
      "Epoch 5/50\n",
      "1985/1985 [==============================] - 18s 9ms/step - loss: 0.5670 - accuracy: 0.8299 - val_loss: 0.2785 - val_accuracy: 0.9158\n",
      "Epoch 6/50\n",
      "1985/1985 [==============================] - 18s 9ms/step - loss: 0.5226 - accuracy: 0.8444 - val_loss: 0.3200 - val_accuracy: 0.9021\n",
      "Epoch 7/50\n",
      "1985/1985 [==============================] - 18s 9ms/step - loss: 0.4970 - accuracy: 0.8533 - val_loss: 0.2523 - val_accuracy: 0.9232\n",
      "Epoch 8/50\n",
      "1985/1985 [==============================] - 18s 9ms/step - loss: 0.4719 - accuracy: 0.8612 - val_loss: 0.2360 - val_accuracy: 0.9299\n",
      "Epoch 9/50\n",
      "1985/1985 [==============================] - 18s 9ms/step - loss: 0.4495 - accuracy: 0.8677 - val_loss: 0.2302 - val_accuracy: 0.9313\n",
      "Epoch 10/50\n",
      "1985/1985 [==============================] - 18s 9ms/step - loss: 0.4422 - accuracy: 0.8701 - val_loss: 0.3193 - val_accuracy: 0.9011\n",
      "Epoch 11/50\n",
      "1985/1985 [==============================] - 18s 9ms/step - loss: 0.4248 - accuracy: 0.8749 - val_loss: 0.2131 - val_accuracy: 0.9386\n",
      "Epoch 12/50\n",
      "1985/1985 [==============================] - 18s 9ms/step - loss: 0.4144 - accuracy: 0.8788 - val_loss: 0.2254 - val_accuracy: 0.9328\n",
      "Epoch 13/50\n",
      "1985/1985 [==============================] - 18s 9ms/step - loss: 0.4017 - accuracy: 0.8831 - val_loss: 0.2508 - val_accuracy: 0.9233\n",
      "Epoch 14/50\n",
      "1985/1985 [==============================] - 18s 9ms/step - loss: 0.3986 - accuracy: 0.8838 - val_loss: 0.1915 - val_accuracy: 0.9442\n",
      "Epoch 15/50\n",
      "1985/1985 [==============================] - 18s 9ms/step - loss: 0.3855 - accuracy: 0.8877 - val_loss: 0.1906 - val_accuracy: 0.9429\n",
      "Epoch 16/50\n",
      "1985/1985 [==============================] - 18s 9ms/step - loss: 0.3754 - accuracy: 0.8907 - val_loss: 0.3021 - val_accuracy: 0.9055\n",
      "Epoch 17/50\n",
      "1985/1985 [==============================] - 18s 9ms/step - loss: 0.3700 - accuracy: 0.8922 - val_loss: 0.1996 - val_accuracy: 0.9420\n",
      "Epoch 18/50\n",
      "1985/1985 [==============================] - 18s 9ms/step - loss: 0.3650 - accuracy: 0.8937 - val_loss: 0.1821 - val_accuracy: 0.9462\n",
      "Epoch 19/50\n",
      "1985/1985 [==============================] - 18s 9ms/step - loss: 0.3605 - accuracy: 0.8963 - val_loss: 0.2094 - val_accuracy: 0.9384\n",
      "Epoch 20/50\n",
      "1985/1985 [==============================] - 18s 9ms/step - loss: 0.3535 - accuracy: 0.8980 - val_loss: 0.2010 - val_accuracy: 0.9415\n",
      "Epoch 21/50\n",
      "1985/1985 [==============================] - 18s 9ms/step - loss: 0.3467 - accuracy: 0.9001 - val_loss: 0.1778 - val_accuracy: 0.9491\n",
      "Epoch 22/50\n",
      "1985/1985 [==============================] - 18s 9ms/step - loss: 0.3403 - accuracy: 0.9007 - val_loss: 0.2041 - val_accuracy: 0.9392\n",
      "Epoch 23/50\n",
      "1985/1985 [==============================] - 18s 9ms/step - loss: 0.3394 - accuracy: 0.9022 - val_loss: 0.2011 - val_accuracy: 0.9418\n",
      "Epoch 24/50\n",
      "1985/1985 [==============================] - 18s 9ms/step - loss: 0.3365 - accuracy: 0.9023 - val_loss: 0.2376 - val_accuracy: 0.9260\n",
      "Epoch 25/50\n",
      "1985/1985 [==============================] - 18s 9ms/step - loss: 0.3283 - accuracy: 0.9046 - val_loss: 0.1831 - val_accuracy: 0.9449\n",
      "Epoch 26/50\n",
      "1985/1985 [==============================] - 18s 9ms/step - loss: 0.3252 - accuracy: 0.9074 - val_loss: 0.1707 - val_accuracy: 0.9497\n",
      "Epoch 27/50\n",
      "1985/1985 [==============================] - 18s 9ms/step - loss: 0.3232 - accuracy: 0.9068 - val_loss: 0.1774 - val_accuracy: 0.9472\n",
      "Epoch 28/50\n",
      "1985/1985 [==============================] - 18s 9ms/step - loss: 0.3206 - accuracy: 0.9080 - val_loss: 0.1853 - val_accuracy: 0.9453\n",
      "Epoch 29/50\n",
      "1985/1985 [==============================] - 18s 9ms/step - loss: 0.3182 - accuracy: 0.9076 - val_loss: 0.1953 - val_accuracy: 0.9423\n",
      "Epoch 30/50\n",
      "1985/1985 [==============================] - 18s 9ms/step - loss: 0.3194 - accuracy: 0.9077 - val_loss: 0.1938 - val_accuracy: 0.9427\n",
      "Epoch 31/50\n",
      "1985/1985 [==============================] - 18s 9ms/step - loss: 0.3116 - accuracy: 0.9099 - val_loss: 0.1894 - val_accuracy: 0.9447\n",
      "Epoch 32/50\n",
      "1985/1985 [==============================] - 18s 9ms/step - loss: 0.3103 - accuracy: 0.9098 - val_loss: 0.1835 - val_accuracy: 0.9447\n",
      "Epoch 33/50\n",
      "1985/1985 [==============================] - 18s 9ms/step - loss: 0.3098 - accuracy: 0.9102 - val_loss: 0.1849 - val_accuracy: 0.9450\n",
      "Epoch 34/50\n",
      "1985/1985 [==============================] - 18s 9ms/step - loss: 0.3057 - accuracy: 0.9121 - val_loss: 0.1642 - val_accuracy: 0.9518\n",
      "Epoch 35/50\n",
      "1985/1985 [==============================] - 18s 9ms/step - loss: 0.3022 - accuracy: 0.9141 - val_loss: 0.1792 - val_accuracy: 0.9478\n",
      "Epoch 36/50\n",
      "1985/1985 [==============================] - 18s 9ms/step - loss: 0.3026 - accuracy: 0.9134 - val_loss: 0.1608 - val_accuracy: 0.9524\n",
      "Epoch 37/50\n",
      "1985/1985 [==============================] - 17s 9ms/step - loss: 0.2986 - accuracy: 0.9146 - val_loss: 0.1759 - val_accuracy: 0.9480\n",
      "Epoch 38/50\n",
      "1985/1985 [==============================] - 18s 9ms/step - loss: 0.2928 - accuracy: 0.9160 - val_loss: 0.1683 - val_accuracy: 0.9502\n",
      "Epoch 39/50\n",
      "1985/1985 [==============================] - 18s 9ms/step - loss: 0.2952 - accuracy: 0.9149 - val_loss: 0.1706 - val_accuracy: 0.9494\n",
      "Epoch 40/50\n",
      "1985/1985 [==============================] - 18s 9ms/step - loss: 0.2898 - accuracy: 0.9165 - val_loss: 0.1648 - val_accuracy: 0.9536\n",
      "Epoch 41/50\n",
      "1985/1985 [==============================] - 18s 9ms/step - loss: 0.2911 - accuracy: 0.9162 - val_loss: 0.1781 - val_accuracy: 0.9469\n",
      "Epoch 42/50\n",
      "1985/1985 [==============================] - 17s 9ms/step - loss: 0.2892 - accuracy: 0.9172 - val_loss: 0.1653 - val_accuracy: 0.9542\n",
      "Epoch 43/50\n",
      "1985/1985 [==============================] - 18s 9ms/step - loss: 0.2851 - accuracy: 0.9180 - val_loss: 0.1647 - val_accuracy: 0.9519\n",
      "Epoch 44/50\n",
      "1985/1985 [==============================] - 18s 9ms/step - loss: 0.2826 - accuracy: 0.9202 - val_loss: 0.1945 - val_accuracy: 0.9423\n",
      "Epoch 45/50\n",
      "1985/1985 [==============================] - 18s 9ms/step - loss: 0.2885 - accuracy: 0.9171 - val_loss: 0.1854 - val_accuracy: 0.9456\n",
      "Epoch 46/50\n",
      "1985/1985 [==============================] - 17s 9ms/step - loss: 0.2823 - accuracy: 0.9193 - val_loss: 0.1609 - val_accuracy: 0.9551\n",
      "Epoch 47/50\n",
      "1985/1985 [==============================] - 18s 9ms/step - loss: 0.2789 - accuracy: 0.9202 - val_loss: 0.1541 - val_accuracy: 0.9577\n",
      "Epoch 48/50\n",
      "1985/1985 [==============================] - 17s 9ms/step - loss: 0.2769 - accuracy: 0.9215 - val_loss: 0.1626 - val_accuracy: 0.9554\n",
      "Epoch 49/50\n",
      "1985/1985 [==============================] - 18s 9ms/step - loss: 0.2704 - accuracy: 0.9216 - val_loss: 0.1668 - val_accuracy: 0.9530\n",
      "Epoch 50/50\n",
      "1985/1985 [==============================] - 18s 9ms/step - loss: 0.2740 - accuracy: 0.9210 - val_loss: 0.1612 - val_accuracy: 0.9540\n",
      "\u001b[91mSaving to file\u001b[0m\n",
      "\u001b[91mModel stored in /content/drive/My Drive/assignment-3-luucv\u001b[0m\n",
      "Model: \"sequential_33\"\n",
      "_________________________________________________________________\n",
      "Layer (type)                 Output Shape              Param #   \n",
      "=================================================================\n",
      "conv2d_124 (Conv2D)          (None, 30, 30, 32)        320       \n",
      "_________________________________________________________________\n",
      "batch_normalization_217 (Bat (None, 30, 30, 32)        128       \n",
      "_________________________________________________________________\n",
      "conv2d_125 (Conv2D)          (None, 28, 28, 64)        18496     \n",
      "_________________________________________________________________\n",
      "batch_normalization_218 (Bat (None, 28, 28, 64)        256       \n",
      "_________________________________________________________________\n",
      "max_pooling2d_93 (MaxPooling (None, 14, 14, 64)        0         \n",
      "_________________________________________________________________\n",
      "dropout_186 (Dropout)        (None, 14, 14, 64)        0         \n",
      "_________________________________________________________________\n",
      "conv2d_126 (Conv2D)          (None, 12, 12, 128)       73856     \n",
      "_________________________________________________________________\n",
      "batch_normalization_219 (Bat (None, 12, 12, 128)       512       \n",
      "_________________________________________________________________\n",
      "max_pooling2d_94 (MaxPooling (None, 6, 6, 128)         0         \n",
      "_________________________________________________________________\n",
      "dropout_187 (Dropout)        (None, 6, 6, 128)         0         \n",
      "_________________________________________________________________\n",
      "conv2d_127 (Conv2D)          (None, 4, 4, 256)         295168    \n",
      "_________________________________________________________________\n",
      "batch_normalization_220 (Bat (None, 4, 4, 256)         1024      \n",
      "_________________________________________________________________\n",
      "max_pooling2d_95 (MaxPooling (None, 2, 2, 256)         0         \n",
      "_________________________________________________________________\n",
      "dropout_188 (Dropout)        (None, 2, 2, 256)         0         \n",
      "_________________________________________________________________\n",
      "flatten_31 (Flatten)         (None, 1024)              0         \n",
      "_________________________________________________________________\n",
      "dense_128 (Dense)            (None, 1028)              1053700   \n",
      "_________________________________________________________________\n",
      "batch_normalization_221 (Bat (None, 1028)              4112      \n",
      "_________________________________________________________________\n",
      "dropout_189 (Dropout)        (None, 1028)              0         \n",
      "_________________________________________________________________\n",
      "dense_129 (Dense)            (None, 512)               526848    \n",
      "_________________________________________________________________\n",
      "batch_normalization_222 (Bat (None, 512)               2048      \n",
      "_________________________________________________________________\n",
      "dropout_190 (Dropout)        (None, 512)               0         \n",
      "_________________________________________________________________\n",
      "dense_130 (Dense)            (None, 128)               65664     \n",
      "_________________________________________________________________\n",
      "batch_normalization_223 (Bat (None, 128)               512       \n",
      "_________________________________________________________________\n",
      "dropout_191 (Dropout)        (None, 128)               0         \n",
      "_________________________________________________________________\n",
      "dense_131 (Dense)            (None, 10)                1290      \n",
      "=================================================================\n",
      "Total params: 2,043,934\n",
      "Trainable params: 2,039,638\n",
      "Non-trainable params: 4,296\n",
      "_________________________________________________________________\n",
      "None\n",
      "         loss  accuracy  val_loss  val_accuracy\n",
      "min  0.270444  0.364861  0.154092      0.790458\n",
      "max  1.917741  0.921621  0.676569      0.957701\n",
      "Answer is 745 characters long\n"
     ]
    },
    {
     "data": {
      "image/png": "[encoded data removed]",
      "text/plain": [
       "<Figure size 432x288 with 1 Axes>"
      ]
     },
     "metadata": {
      "needs_background": "light",
      "tags": []
     },
     "output_type": "display_data"
    }
   ],
   "source": [
    "# Note that we build the same untrained model as in question 2.1 but store the \n",
    "# trained version as model_2_2. Change attributes as needed to run on augmented\n",
    "# data\n",
    "from tensorflow.keras.preprocessing.image import ImageDataGenerator\n",
    "\n",
    "X_train, X_test, y_train, y_test = preprocessed_split\n",
    "\n",
    "img_gen = ImageDataGenerator(\n",
    "    width_shift_range=0.2, \n",
    "    height_shift_range=0.2,\n",
    "    zoom_range=0.2,  \n",
    ")\n",
    "img_gen.fit(X_train)\n",
    "augmented_train_gen = img_gen.flow(X_train, y_train, batch_size=32)\n",
    "augmented_split = [augmented_train_gen, X_test, y_test]\n",
    "steps = int(X_train.shape[0] / 32)\n",
    "run_evaluation(\"model_2_2\", build_model_2_1, augmented_split, base_dir, \n",
    "               train=True, epochs=50, batch_size=32, steps_per_epoch=steps, generator=True)\n",
    "\n",
    "answer_q_2_2 = \"\"\"\n",
    "              On this dataset we are quite limited on what kind of augmentations\n",
    "              we can do since the numbers are already quite well centered. We \n",
    "              don't want any flips since all the images already are in the same \n",
    "              direction. Scaling also wouldn't help because the images are already \n",
    "              tightly cropped around the numbers. A slight shift and slight zoom\n",
    "              reduces the overfitting, accuracy becomes less but validation \n",
    "              accuracy increases.\n",
    "               \"\"\"\n",
    "print(\"Answer is {} characters long\".format(len(answer_q_2_2)))"
   ]
  },
  {
   "cell_type": "markdown",
   "metadata": {
    "colab_type": "text",
    "id": "Nb8jrFlnbBUP"
   },
   "source": [
    "## Part 3. Model interpretation (10 points)\n",
    "### Question 3.1: Interpreting misclassifications (2 points)\n",
    "Study which errors are still made by your last model (model_2_2) by evaluating it on the test data. You do not need to retrain the model.\n",
    "* What is the accuracy of model_2_2 on the test data? Store this in 'test_accuracy_3_1'.\n",
    "* Plot the confusion matrix in 'plot_confusion_matrix' and discuss which classes are often confused.\n",
    "* Visualize the misclassifications in more depth by focusing on a single\n",
    "class (e.g. the number '2') and analyse which kinds of mistakes are made for that class. For instance, are the errors related to the background, noisiness, etc.? Implement the visualization in 'plot_misclassifications'.\n",
    "* Summarize your findings in 'answer_q_3_1'"
   ]
  },
  {
   "cell_type": "code",
   "execution_count": 21,
   "metadata": {
    "colab": {
     "base_uri": "https://localhost:8080/",
     "height": 406
    },
    "colab_type": "code",
    "executionInfo": {
     "elapsed": 8311,
     "status": "ok",
     "timestamp": 1587189315697,
     "user": {
      "displayName": "Luuc Verburgh",
      "photoUrl": "https://lh3.googleusercontent.com/a-/AOh14GiiomKTvBdqbTeiX1Tj6H2jQM0crrmCPDD773gwabE=s64",
      "userId": "11925589907397564702"
     },
     "user_tz": -120
    },
    "id": "yNg-7JsSbn2-",
    "outputId": "c855c394-286c-4173-a9eb-6ac743794747"
   },
   "outputs": [
    {
     "ename": "NameError",
     "evalue": "name 'preprocessed_split' is not defined",
     "output_type": "error",
     "traceback": [
      "\u001b[0;31m---------------------------------------------------------------------------\u001b[0m",
      "\u001b[0;31mNameError\u001b[0m                                 Traceback (most recent call last)",
      "\u001b[0;32m<ipython-input-21-f14f92d0aee5>\u001b[0m in \u001b[0;36m<module>\u001b[0;34m\u001b[0m\n\u001b[1;32m      2\u001b[0m \u001b[0;34m\u001b[0m\u001b[0m\n\u001b[1;32m      3\u001b[0m \u001b[0mmodel\u001b[0m \u001b[0;34m=\u001b[0m \u001b[0mload_model_from_file\u001b[0m\u001b[0;34m(\u001b[0m\u001b[0mbase_dir\u001b[0m\u001b[0;34m,\u001b[0m \u001b[0;34m'model_2_2'\u001b[0m\u001b[0;34m)\u001b[0m\u001b[0;34m\u001b[0m\u001b[0;34m\u001b[0m\u001b[0m\n\u001b[0;32m----> 4\u001b[0;31m \u001b[0m_\u001b[0m\u001b[0;34m,\u001b[0m \u001b[0mX_test\u001b[0m\u001b[0;34m,\u001b[0m \u001b[0m_\u001b[0m\u001b[0;34m,\u001b[0m \u001b[0my_test\u001b[0m \u001b[0;34m=\u001b[0m \u001b[0mpreprocessed_split\u001b[0m\u001b[0;34m\u001b[0m\u001b[0;34m\u001b[0m\u001b[0m\n\u001b[0m\u001b[1;32m      5\u001b[0m \u001b[0;31m# evaluation = model.evaluate(X_test, y_test)\u001b[0m\u001b[0;34m\u001b[0m\u001b[0;34m\u001b[0m\u001b[0;34m\u001b[0m\u001b[0m\n\u001b[1;32m      6\u001b[0m \u001b[0;31m# print(evaluation)\u001b[0m\u001b[0;34m\u001b[0m\u001b[0;34m\u001b[0m\u001b[0;34m\u001b[0m\u001b[0m\n",
      "\u001b[0;31mNameError\u001b[0m: name 'preprocessed_split' is not defined"
     ]
    }
   ],
   "source": [
    "from sklearn.metrics import confusion_matrix\n",
    "\n",
    "model = load_model_from_file(base_dir, 'model_2_2')\n",
    "_, X_test, _, y_test = preprocessed_split\n",
    "# evaluation = model.evaluate(X_test, y_test)\n",
    "# print(evaluation)\n",
    "\n",
    "test_accuracy_3_1 = 0.9539875388145447\n",
    "\n",
    "def plot_confusion_matrix():\n",
    "  model = load_model_from_file(base_dir, 'model_2_2')\n",
    "  _, X_test, _, y_test = preprocessed_split\n",
    "  Y_pred = model.predict(X_test)\n",
    "  cm = confusion_matrix(y_true=np.argmax(y_test, axis=1), y_pred=np.argmax(Y_pred, axis=1))\n",
    "\n",
    "  fig, ax = plt.subplots()\n",
    "  im = ax.imshow(cm)\n",
    "  ax.set_xticks(np.arange(10))\n",
    "  ax.set_yticks(np.arange(10))\n",
    "  ax.set_xticklabels([1, 2, 3, 4, 5, 6, 7, 8, 9, 0])\n",
    "  ax.set_yticklabels([1, 2, 3, 4, 5, 6, 7, 8, 9, 0])\n",
    "  ax.set_ylabel('True')\n",
    "  ax.set_xlabel('Predicted')\n",
    "  for i in range(100):\n",
    "    ax.text(int(i/10),i%10,cm[i%10,int(i/10)], ha=\"center\", va=\"center\", color=\"w\")\n",
    "\n",
    "def plot_misclassifications():\n",
    "  model = load_model_from_file(base_dir, 'model_2_2')\n",
    "  _, X_test, _, y_test = preprocessed_split\n",
    "  Y_pred = model.predict(X_test)\n",
    "  \n",
    "  misclassified_samples = np.nonzero(np.argmax(y_test, axis=1) != np.argmax(Y_pred, axis=1))[0]\n",
    "\n",
    "\n",
    "  fig, axes = plt.subplots(1, 10,  figsize=(15, 5))\n",
    "  count = 0\n",
    "  pred_raw = 1\n",
    "  actual_raw = 7\n",
    "\n",
    "  pred = 9 if pred_raw == 0 else pred_raw - 1\n",
    "  actual = 9 if actual_raw == 0 else actual_raw - 1\n",
    "\n",
    "  for nr, i in enumerate(misclassified_samples):\n",
    "      # pred starts on 0: 9 => 0\n",
    "      if (np.argmax(Y_pred[i]) == pred  and np.argmax(y_test[i]) == actual):\n",
    "        axes[count].imshow(X_test[i][:,:,0], cmap=\"gray\")\n",
    "        axes[count].set_xlabel(\"Predicted: %s,\\n Actual : %s\" % (pred_raw, actual_raw))\n",
    "        axes[count].set_xticks(()), axes[count].set_yticks(())\n",
    "        count = count + 1\n",
    "\n",
    "      if (count > 9):\n",
    "        break\n",
    "\n",
    "  plt.show();\n",
    "\n",
    "plot_confusion_matrix()\n",
    "plot_misclassifications()\n",
    "\n",
    "answer_q_3_1 = \"\"\"\n",
    "               We see that the test data contains much more 1 labels than any other number. If this also represents the training data, the model could be a bit too much converged to predicting 1's. This is also what we see in the confusion matrix: The biggest outlier we see in the confusion matrix is 7 being predicted as 1, which makes sense as they look a lot like each other. Most false predictions lie in the predicted 1 column.\n",
    "               \"\"\"\n",
    "print(\"Answer is {} characters long\".format(len(answer_q_3_1)))"
   ]
  },
  {
   "cell_type": "markdown",
   "metadata": {
    "colab_type": "text",
    "id": "EBRdBpz5Hcrx"
   },
   "source": [
    "### Question 3.2: Visualizing activations (4 points)\n",
    "* Implement a function `plot_activations()` that returns the most interesting activations (feature maps). Select the first example from the test set. Retrieve and visualize the activations of model 2_2 for that example (make sure you load that model in the function), for every filter for different convolutional layers (at different depths in the network).\n",
    "* Give an explanation (as detailed as you can) about your observations in 'answer_q_3_2'. Is your model indeed learning something useful?"
   ]
  },
  {
   "cell_type": "code",
   "execution_count": 0,
   "metadata": {
    "colab": {
     "base_uri": "https://localhost:8080/",
     "height": 277
    },
    "colab_type": "code",
    "executionInfo": {
     "elapsed": 2265,
     "status": "ok",
     "timestamp": 1587189325437,
     "user": {
      "displayName": "Luuc Verburgh",
      "photoUrl": "https://lh3.googleusercontent.com/a-/AOh14GiiomKTvBdqbTeiX1Tj6H2jQM0crrmCPDD773gwabE=s64",
      "userId": "11925589907397564702"
     },
     "user_tz": -120
    },
    "id": "TyQ-IHHcN5Qc",
    "outputId": "0abe7785-e542-4f0d-ae70-26246ba64bed"
   },
   "outputs": [
    {
     "data": {
      "image/png": "[encoded data removed]",
      "text/plain": [
       "<Figure size 432x288 with 15 Axes>"
      ]
     },
     "metadata": {
      "tags": []
     },
     "output_type": "display_data"
    },
    {
     "name": "stdout",
     "output_type": "stream",
     "text": [
      "Answer is 410 characters long\n"
     ]
    }
   ],
   "source": [
    "from tensorflow.keras import models\n",
    "import math\n",
    "\n",
    "def plot_activations():\n",
    "  img_tensor = X_test[0]\n",
    "  img_tensor = np.expand_dims(img_tensor, axis=0) \n",
    "  \n",
    "  model = load_model_from_file(base_dir, 'model_2_2')\n",
    "  layer_outputs = [layer.output for layer in model.layers]\n",
    "  activation_model = models.Model(inputs=model.input, outputs=layer_outputs)\n",
    "  \n",
    "  activations = activation_model.predict(img_tensor)\n",
    "\n",
    "  fig, axes = plt.subplots(3, 5)\n",
    "  axes[0, 0].imshow(img_tensor[0][:,:,0], cmap=\"gray\")\n",
    "  axes[0, 0].set_xlabel('Input image')\n",
    "  axes[0, 0].set_xticks([])\n",
    "  axes[0, 0].set_yticks([])\n",
    "\n",
    "  for i, activation in enumerate(activations[:14]):    \n",
    "    pos_x = int(math.floor((i + 1) / 5))\n",
    "    pos_y = (i + 1) % 5\n",
    "\n",
    "    axes[pos_x, pos_y].matshow(activation[0, :, :, 2], cmap='viridis')\n",
    "    axes[pos_x, pos_y].set_xlabel('a %s' % (str(i)));\n",
    "    axes[pos_x, pos_y].set_xticks([])\n",
    "    axes[pos_x, pos_y].set_yticks([])\n",
    "\n",
    "  plt.show()\n",
    "\n",
    "plot_activations()\n",
    "\n",
    "answer_q_3_2 = \"\"\"\n",
    "               We see that the model first focuses on the edges of the numbers\n",
    "               and then slowly converges to focusing on a point where the eges come\n",
    "               together. For the 9 this would be in the center, right. Each number\n",
    "               has a different way of \"connecting the dots\", so when input size is \n",
    "               being reduced this is a good feature to focus on\n",
    "               \"\"\"\n",
    "print(\"Answer is {} characters long\".format(len(answer_q_3_2)))"
   ]
  },
  {
   "cell_type": "markdown",
   "metadata": {
    "colab_type": "text",
    "id": "6a4XT0-7Ym25"
   },
   "source": [
    "### Question 3.3: Visualizing activations (4 points)\n",
    "* Again, select the first example from the test set, and the trained model_2_2.\n",
    "* Implement a function `plot_activation_map()` that builds and shows a class activation map for your last convolutional layer that highlights what the model is paying attention to when classifying the example.\n",
    "* If possible, superimpossible the activation map over the image. If not, plot\n",
    "them side by side. Implement a function 'plot_3_3' that returns the entire plot."
   ]
  },
  {
   "cell_type": "code",
   "execution_count": 0,
   "metadata": {
    "colab": {
     "base_uri": "https://localhost:8080/",
     "height": 292
    },
    "colab_type": "code",
    "executionInfo": {
     "elapsed": 2769,
     "status": "ok",
     "timestamp": 1587189345034,
     "user": {
      "displayName": "Luuc Verburgh",
      "photoUrl": "https://lh3.googleusercontent.com/a-/AOh14GiiomKTvBdqbTeiX1Tj6H2jQM0crrmCPDD773gwabE=s64",
      "userId": "11925589907397564702"
     },
     "user_tz": -120
    },
    "id": "vsmqYQl2ZZ4n",
    "outputId": "389849a7-e006-4f8c-f049-cc02417a0a07"
   },
   "outputs": [
    {
     "name": "stderr",
     "output_type": "stream",
     "text": [
      "Clipping input data to the valid range for imshow with RGB data ([0..1] for floats or [0..255] for integers).\n"
     ]
    },
    {
     "data": {
      "image/png": "[encoded data removed]",
      "text/plain": [
       "<Figure size 288x288 with 1 Axes>"
      ]
     },
     "metadata": {
      "needs_background": "light",
      "tags": []
     },
     "output_type": "display_data"
    }
   ],
   "source": [
    "from tensorflow.keras import models\n",
    "import tensorflow \n",
    "import tensorflow.keras.backend as K\n",
    "import cv2\n",
    "\n",
    "def plot_3_3():\n",
    "  SAMPLE = 0\n",
    "  last_conv_name = 'conv2d_127'\n",
    "  img_tensor = X_test[SAMPLE]\n",
    "  img_tensor = np.expand_dims(img_tensor, axis=0) \n",
    "  \n",
    "  model = load_model_from_file(base_dir, 'model_2_2')\n",
    "  \n",
    "  with tensorflow.GradientTape() as tape:\n",
    "    class_weights = model.layers[-1].get_weights()[0]\n",
    "    last_conv_layer = model.get_layer(last_conv_name)\n",
    "    iterate = models.Model([model.inputs], [model.output, last_conv_layer.output])\n",
    "    model_out, last_conv_layer = iterate(img_tensor)\n",
    "    class_out = model_out[:, np.argmax(model_out[0])]\n",
    "    grads = tape.gradient(class_out, last_conv_layer)\n",
    "    pooled_grads = K.mean(grads, axis=(0, 1, 2))\n",
    "\n",
    "  heatmap = tensorflow.reduce_mean(tensorflow.multiply(pooled_grads, last_conv_layer), axis=-1)\n",
    "  heatmap = np.maximum(heatmap, 0)\n",
    "  heatmap /= np.max(heatmap)\n",
    "  heatmap = heatmap.reshape((4, 4))\n",
    "\n",
    "  INTENSITY = 0.03\n",
    "  heatmap = cv2.resize(heatmap, (32, 32))\n",
    "  heatmap = cv2.applyColorMap(np.uint8(255*heatmap), cv2.COLORMAP_JET) * INTENSITY\n",
    "  img = heatmap * INTENSITY + X_test[SAMPLE]\n",
    "\n",
    "  plt.matshow(img)\n",
    "  plt.show()\n",
    "\n",
    "plot_3_3()"
   ]
  },
  {
   "cell_type": "markdown",
   "metadata": {
    "colab_type": "text",
    "id": "buQLQ16EypgL"
   },
   "source": [
    "## Part 4. Transfer learning (10 points)\n",
    "### Question 4.1 Fast feature extraction with VGG16 (5 points)\n",
    "- Import the VGG16 model, pretrained on ImageNet. [See here](https://keras.io/applications/). Only import the convolutional part, not the dense layers.\n",
    "- Implement a function 'build_model_4_1` that adds a dense layer to the convolutional base, and freezes the convolutional base. Consider unfreezing the last few convolutional layers and evaluate whether that works better.\n",
    "- Train the resulting model on the *original* (colored) training data\n",
    "- Evaluate the resulting model using 'run_evaluate'. Discuss the observed performance in 'answer_q_4_1'."
   ]
  },
  {
   "cell_type": "code",
   "execution_count": 0,
   "metadata": {
    "colab": {
     "base_uri": "https://localhost:8080/",
     "height": 1000
    },
    "colab_type": "code",
    "executionInfo": {
     "elapsed": 129815,
     "status": "ok",
     "timestamp": 1587189710567,
     "user": {
      "displayName": "Luuc Verburgh",
      "photoUrl": "https://lh3.googleusercontent.com/a-/AOh14GiiomKTvBdqbTeiX1Tj6H2jQM0crrmCPDD773gwabE=s64",
      "userId": "11925589907397564702"
     },
     "user_tz": -120
    },
    "id": "QXH1Z7Pqj3HW",
    "outputId": "8af3607b-9a08-4713-d022-8bbf7e73dbbf"
   },
   "outputs": [
    {
     "name": "stdout",
     "output_type": "stream",
     "text": [
      "Downloading data from https://storage.googleapis.com/tensorflow/keras-applications/vgg16/vgg16_weights_tf_dim_ordering_tf_kernels_notop.h5\n",
      "58892288/58889256 [==============================] - 0s 0us/step\n",
      "\u001b[91mTraining the model\u001b[0m\n",
      "Epoch 1/5\n",
      "1986/1986 [==============================] - 25s 13ms/step - loss: 0.3183 - accuracy: 0.8761 - val_loss: 0.3177 - val_accuracy: 0.9000\n",
      "Epoch 2/5\n",
      "1986/1986 [==============================] - 25s 12ms/step - loss: 0.3174 - accuracy: 0.9000 - val_loss: 0.3174 - val_accuracy: 0.9000\n",
      "Epoch 3/5\n",
      "1986/1986 [==============================] - 25s 12ms/step - loss: 0.3175 - accuracy: 0.8988 - val_loss: 0.3176 - val_accuracy: 0.9000\n",
      "Epoch 4/5\n",
      "1986/1986 [==============================] - 25s 12ms/step - loss: 0.3174 - accuracy: 0.8996 - val_loss: 0.3175 - val_accuracy: 0.9000\n",
      "Epoch 5/5\n",
      "1986/1986 [==============================] - 25s 13ms/step - loss: 0.3174 - accuracy: 0.9000 - val_loss: 0.3174 - val_accuracy: 0.9000\n",
      "\u001b[91mSaving to file\u001b[0m\n",
      "\u001b[91mModel stored in /content/drive/My Drive/assignment-3-luucv\u001b[0m\n",
      "Model: \"model_3\"\n",
      "_________________________________________________________________\n",
      "Layer (type)                 Output Shape              Param #   \n",
      "=================================================================\n",
      "input_1 (InputLayer)         [(None, 32, 32, 3)]       0         \n",
      "_________________________________________________________________\n",
      "block1_conv1 (Conv2D)        (None, 32, 32, 64)        1792      \n",
      "_________________________________________________________________\n",
      "block1_conv2 (Conv2D)        (None, 32, 32, 64)        36928     \n",
      "_________________________________________________________________\n",
      "block1_pool (MaxPooling2D)   (None, 16, 16, 64)        0         \n",
      "_________________________________________________________________\n",
      "block2_conv1 (Conv2D)        (None, 16, 16, 128)       73856     \n",
      "_________________________________________________________________\n",
      "block2_conv2 (Conv2D)        (None, 16, 16, 128)       147584    \n",
      "_________________________________________________________________\n",
      "block2_pool (MaxPooling2D)   (None, 8, 8, 128)         0         \n",
      "_________________________________________________________________\n",
      "block3_conv1 (Conv2D)        (None, 8, 8, 256)         295168    \n",
      "_________________________________________________________________\n",
      "block3_conv2 (Conv2D)        (None, 8, 8, 256)         590080    \n",
      "_________________________________________________________________\n",
      "block3_conv3 (Conv2D)        (None, 8, 8, 256)         590080    \n",
      "_________________________________________________________________\n",
      "block3_pool (MaxPooling2D)   (None, 4, 4, 256)         0         \n",
      "_________________________________________________________________\n",
      "block4_conv1 (Conv2D)        (None, 4, 4, 512)         1180160   \n",
      "_________________________________________________________________\n",
      "block4_conv2 (Conv2D)        (None, 4, 4, 512)         2359808   \n",
      "_________________________________________________________________\n",
      "block4_conv3 (Conv2D)        (None, 4, 4, 512)         2359808   \n",
      "_________________________________________________________________\n",
      "block4_pool (MaxPooling2D)   (None, 2, 2, 512)         0         \n",
      "_________________________________________________________________\n",
      "block5_conv1 (Conv2D)        (None, 2, 2, 512)         2359808   \n",
      "_________________________________________________________________\n",
      "block5_conv2 (Conv2D)        (None, 2, 2, 512)         2359808   \n",
      "_________________________________________________________________\n",
      "block5_conv3 (Conv2D)        (None, 2, 2, 512)         2359808   \n",
      "_________________________________________________________________\n",
      "block5_pool (MaxPooling2D)   (None, 1, 1, 512)         0         \n",
      "_________________________________________________________________\n",
      "dense_16 (Dense)             (None, 1, 1, 10)          5130      \n",
      "=================================================================\n",
      "Total params: 14,719,818\n",
      "Trainable params: 4,724,746\n",
      "Non-trainable params: 9,995,072\n",
      "_________________________________________________________________\n",
      "None\n",
      "         loss  accuracy  val_loss  val_accuracy\n",
      "min  0.317416  0.876145  0.317364           0.9\n",
      "max  0.318257  0.900000  0.317650           0.9\n",
      "Answer is 480 characters long\n"
     ]
    },
    {
     "data": {
      "image/png": "[encoded data removed]",
      "text/plain": [
       "<Figure size 432x288 with 1 Axes>"
      ]
     },
     "metadata": {
      "needs_background": "light",
      "tags": []
     },
     "output_type": "display_data"
    }
   ],
   "source": [
    "from tensorflow.keras import applications\n",
    "\n",
    "def build_model_4_1():\n",
    "  input_tensor = layers.Input(shape=(32, 32, 3))\n",
    "  base = applications.vgg16.VGG16(include_top=False, input_tensor=input_tensor, weights='imagenet')\n",
    "\n",
    "  CUT = 16\n",
    "  for layer in base.layers[:CUT]:\n",
    "    layer.trainable=False\n",
    "  for layer in base.layers[CUT:]:\n",
    "      layer.trainable=True\n",
    "\n",
    "  output = layers.Dense(10, activation='softmax')(base.output)\n",
    "  model = models.Model(inputs=base.inputs, outputs=output)\n",
    "  model.compile(optimizer='Adam', loss='binary_crossentropy', metrics=['accuracy'])\n",
    "\n",
    "  return model\n",
    "  \n",
    "\n",
    "original_split = train_test_split(X_train_all,y_train_all, stratify=y_train_all, train_size=0.8, random_state=1)\n",
    "\n",
    "run_evaluation(\"model_4_1\", build_model_4_1, original_split, base_dir, \n",
    "               train=True, epochs=5, batch_size=32)\n",
    "\n",
    "answer_q_4_1 = \"\"\"\n",
    "               We see that this model converges much quicker as it is already weighted.\n",
    "               It converges after 1 epoch with minimal gap between the accuracy and\n",
    "               validation accuray, meaning there is no overfitting. After this 1 \n",
    "               epoch it also doesn't improve. We variated with the amount of trainable \n",
    "               layers, and optimum between speed and accuracy seems to be at around \n",
    "               retraining 3 layers. \n",
    "               \"\"\"\n",
    "print(\"Answer is {} characters long\".format(len(answer_q_4_1)))"
   ]
  },
  {
   "cell_type": "markdown",
   "metadata": {
    "colab_type": "text",
    "id": "cp60rxZTYI8O"
   },
   "source": [
    "### Question 4.2 Embeddings and pipelines (5 points)\n",
    "- Generate embeddings of the original images by running them through the trained convolutional part of model_4_1 (without the dense layer) and returning the output. Embed the training and test data and store them to disk using the helper functions below. Implement a function `store_embeddings` that loads model_4_1 and stores all necessary embeddings to file. Make sure to run it once so that the embeddings are stored (and submitted).\n",
    "- Implement a function 'generate_pipeline' that returns an scikit-learn pipeline. You can use any non-deep learning technique (eg. SVMs, RFs,...), and preprocessing technique. You can do model selection using the validation set. \n",
    "- Implement a function 'evaluate_pipeline' that evaluates a given pipeline on a given training and test set. \n",
    "- Implement a function 'evaluation_4_2' that evaluates your pipeline on the embedded training and test set (loaded from file) and returns the accuracy. \n",
    "- Describe what you did and what you observed. Report the obtained accuracy score. Can you beat your best model thus far?"
   ]
  },
  {
   "cell_type": "code",
   "execution_count": 0,
   "metadata": {
    "colab": {
     "base_uri": "https://localhost:8080/",
     "height": 1000
    },
    "colab_type": "code",
    "executionInfo": {
     "elapsed": 1170,
     "status": "ok",
     "timestamp": 1586756239031,
     "user": {
      "displayName": "Luuc Verburgh",
      "photoUrl": "https://lh3.googleusercontent.com/a-/AOh14GiiomKTvBdqbTeiX1Tj6H2jQM0crrmCPDD773gwabE=s64",
      "userId": "11925589907397564702"
     },
     "user_tz": -120
    },
    "id": "IQo_zskOrs_m",
    "outputId": "ff1c41fe-f108-4547-c3ac-f3dd8d6e85a9"
   },
   "outputs": [
    {
     "name": "stdout",
     "output_type": "stream",
     "text": [
      "WARNING:tensorflow:Error in loading the saved optimizer state. As a result, your model is starting with a freshly initialized optimizer.\n",
      "Model: \"model_49\"\n",
      "_________________________________________________________________\n",
      "Layer (type)                 Output Shape              Param #   \n",
      "=================================================================\n",
      "input_35 (InputLayer)        [(None, 32, 32, 3)]       0         \n",
      "_________________________________________________________________\n",
      "block1_conv1 (Conv2D)        (None, 32, 32, 64)        1792      \n",
      "_________________________________________________________________\n",
      "block1_conv2 (Conv2D)        (None, 32, 32, 64)        36928     \n",
      "_________________________________________________________________\n",
      "block1_pool (MaxPooling2D)   (None, 16, 16, 64)        0         \n",
      "_________________________________________________________________\n",
      "block2_conv1 (Conv2D)        (None, 16, 16, 128)       73856     \n",
      "_________________________________________________________________\n",
      "block2_conv2 (Conv2D)        (None, 16, 16, 128)       147584    \n",
      "_________________________________________________________________\n",
      "block2_pool (MaxPooling2D)   (None, 8, 8, 128)         0         \n",
      "_________________________________________________________________\n",
      "block3_conv1 (Conv2D)        (None, 8, 8, 256)         295168    \n",
      "_________________________________________________________________\n",
      "block3_conv2 (Conv2D)        (None, 8, 8, 256)         590080    \n",
      "_________________________________________________________________\n",
      "block3_conv3 (Conv2D)        (None, 8, 8, 256)         590080    \n",
      "_________________________________________________________________\n",
      "block3_pool (MaxPooling2D)   (None, 4, 4, 256)         0         \n",
      "_________________________________________________________________\n",
      "block4_conv1 (Conv2D)        (None, 4, 4, 512)         1180160   \n",
      "_________________________________________________________________\n",
      "block4_conv2 (Conv2D)        (None, 4, 4, 512)         2359808   \n",
      "_________________________________________________________________\n",
      "block4_conv3 (Conv2D)        (None, 4, 4, 512)         2359808   \n",
      "_________________________________________________________________\n",
      "block4_pool (MaxPooling2D)   (None, 2, 2, 512)         0         \n",
      "_________________________________________________________________\n",
      "block5_conv1 (Conv2D)        (None, 2, 2, 512)         2359808   \n",
      "_________________________________________________________________\n",
      "block5_conv2 (Conv2D)        (None, 2, 2, 512)         2359808   \n",
      "_________________________________________________________________\n",
      "block5_conv3 (Conv2D)        (None, 2, 2, 512)         2359808   \n",
      "_________________________________________________________________\n",
      "block5_pool (MaxPooling2D)   (None, 1, 1, 512)         0         \n",
      "_________________________________________________________________\n",
      "dense_25 (Dense)             (None, 1, 1, 10)          5130      \n",
      "=================================================================\n",
      "Total params: 14,719,818\n",
      "Trainable params: 4,724,746\n",
      "Non-trainable params: 9,995,072\n",
      "_________________________________________________________________\n",
      "Model: \"sequential_5\"\n",
      "_________________________________________________________________\n",
      "Layer (type)                 Output Shape              Param #   \n",
      "=================================================================\n",
      "block1_conv1 (Conv2D)        (None, 32, 32, 64)        1792      \n",
      "_________________________________________________________________\n",
      "block1_conv2 (Conv2D)        (None, 32, 32, 64)        36928     \n",
      "_________________________________________________________________\n",
      "block1_pool (MaxPooling2D)   (None, 16, 16, 64)        0         \n",
      "_________________________________________________________________\n",
      "block2_conv1 (Conv2D)        (None, 16, 16, 128)       73856     \n",
      "_________________________________________________________________\n",
      "block2_conv2 (Conv2D)        (None, 16, 16, 128)       147584    \n",
      "_________________________________________________________________\n",
      "block2_pool (MaxPooling2D)   (None, 8, 8, 128)         0         \n",
      "_________________________________________________________________\n",
      "block3_conv1 (Conv2D)        (None, 8, 8, 256)         295168    \n",
      "_________________________________________________________________\n",
      "block3_conv2 (Conv2D)        (None, 8, 8, 256)         590080    \n",
      "_________________________________________________________________\n",
      "block3_conv3 (Conv2D)        (None, 8, 8, 256)         590080    \n",
      "_________________________________________________________________\n",
      "block3_pool (MaxPooling2D)   (None, 4, 4, 256)         0         \n",
      "_________________________________________________________________\n",
      "block4_conv1 (Conv2D)        (None, 4, 4, 512)         1180160   \n",
      "_________________________________________________________________\n",
      "block4_conv2 (Conv2D)        (None, 4, 4, 512)         2359808   \n",
      "_________________________________________________________________\n",
      "block4_conv3 (Conv2D)        (None, 4, 4, 512)         2359808   \n",
      "_________________________________________________________________\n",
      "block4_pool (MaxPooling2D)   (None, 2, 2, 512)         0         \n",
      "_________________________________________________________________\n",
      "block5_conv1 (Conv2D)        (None, 2, 2, 512)         2359808   \n",
      "_________________________________________________________________\n",
      "block5_conv2 (Conv2D)        (None, 2, 2, 512)         2359808   \n",
      "_________________________________________________________________\n",
      "block5_conv3 (Conv2D)        (None, 2, 2, 512)         2359808   \n",
      "_________________________________________________________________\n",
      "block5_pool (MaxPooling2D)   (None, 1, 1, 512)         0         \n",
      "=================================================================\n",
      "Total params: 14,714,688\n",
      "Trainable params: 4,719,616\n",
      "Non-trainable params: 9,995,072\n",
      "_________________________________________________________________\n",
      "Pipeline: None\n",
      "Answer is 44 characters long\n"
     ]
    }
   ],
   "source": [
    "import pickle\n",
    "import gzip\n",
    "\n",
    "def store_embedding(X, name):  \n",
    "  with gzip.open(os.path.join(base_dir, name+'_embedding.p'), 'wb') as file_pi:\n",
    "    pickle.dump(X, file_pi)\n",
    "\n",
    "def load_embedding(name):\n",
    "  with gzip.open(os.path.join(base_dir, name+'_embedding.p'), 'rb') as file_pi:\n",
    "    return pickle.load(file_pi)\n",
    "\n",
    "def store_embeddings():\n",
    "  \"\"\" Stores all necessary embeddings to file\n",
    "  \"\"\"\n",
    "  model = load_model_from_file(base_dir, 'model_4_1')\n",
    "\n",
    "  base = models.Sequential()\n",
    "  for layer in model.layers[:-1]:\n",
    "    base.add(layer)\n",
    "\n",
    "  \n",
    "\n",
    "  pass\n",
    "\n",
    "def generate_pipeline():\n",
    "  \"\"\" Returns an sklearn pipeline.\n",
    "  \"\"\"\n",
    "  pass\n",
    "\n",
    "def evaluate_pipeline(pipeline, X_train, y_train, X_test, y_test):\n",
    "  \"\"\" Evaluates the given pipeline, trained on the given embedded training set and \n",
    "      evaluated on the supplied embedded test set. Returns the accuracy score.\n",
    "  \"\"\"\n",
    "  pass\n",
    "\n",
    "def evaluation_4_2(X_train, y_train, X_test, y_test):\n",
    "  \"\"\" Runs 'evaluate_pipeline' with embedded versions of the input data \n",
    "  and returns the accuracy.\n",
    "  \"\"\"\n",
    "  pass\n",
    "\n",
    "store_embeddings();\n",
    "answer_q_4_2 = \"\"\"\n",
    "               Your answer \n",
    "               \"\"\"\n",
    "print(\"Pipeline:\",generate_pipeline())\n",
    "print(\"Answer is {} characters long\".format(len(answer_q_4_2)))"
   ]
  },
  {
   "cell_type": "code",
   "execution_count": 0,
   "metadata": {
    "colab": {
     "base_uri": "https://localhost:8080/",
     "height": 268
    },
    "colab_type": "code",
    "executionInfo": {
     "elapsed": 2012273,
     "status": "ok",
     "timestamp": 1587196879465,
     "user": {
      "displayName": "Luuc Verburgh",
      "photoUrl": "https://lh3.googleusercontent.com/a-/AOh14GiiomKTvBdqbTeiX1Tj6H2jQM0crrmCPDD773gwabE=s64",
      "userId": "11925589907397564702"
     },
     "user_tz": -120
    },
    "id": "EOGcdXcmYlTr",
    "outputId": "8f569ad8-0994-4f4a-e50b-d0ff9942f329"
   },
   "outputs": [
    {
     "name": "stdout",
     "output_type": "stream",
     "text": [
      "/content/drive/My Drive/assignment-3-luucv\n",
      "Converting: Assignment 3.ipynb\n",
      "Running notebook... (may take a while)\n",
      "/usr/local/lib/python3.6/dist-packages/IPython/utils/traitlets.py:5: UserWarning: IPython.utils.traitlets has moved to a top-level traitlets package.\n",
      "  warn(\"IPython.utils.traitlets has moved to a top-level traitlets package.\")\n",
      "tcmalloc: large alloc 2440167424 bytes == 0x6b3a000 @  0x7fc3fe52c1e7 0x5929fc 0x4ce180 0x567322 0x5a5611 0x4de436 0x4e00e8 0x5ec32e 0x50a9da 0x50c5b9 0x509d48 0x50aa7d 0x50c5b9 0x508245 0x509642 0x595311 0x54a6ff 0x551b81 0x5aa6ec 0x50abb3 0x50d390 0x508245 0x50a080 0x50aa7d 0x50c5b9 0x508245 0x50a080 0x50aa7d 0x50c5b9 0x508245 0x5167b9\n",
      "tcmalloc: large alloc 2440134656 bytes == 0x9825a000 @  0x7fc3fe52c1e7 0x5929fc 0x5eb636 0x4df2b7 0x5ec32e 0x50a9da 0x50c5b9 0x509d48 0x50aa7d 0x50c5b9 0x508245 0x509642 0x595311 0x54a6ff 0x551b81 0x5aa6ec 0x50abb3 0x50d390 0x508245 0x50a080 0x50aa7d 0x50c5b9 0x508245 0x50a080 0x50aa7d 0x50c5b9 0x508245 0x5167b9 0x5678ee 0x51171e 0x508245\n",
      "tcmalloc: large alloc 2440167424 bytes == 0x6b3a000 @  0x7fc3fe52c1e7 0x5929fc 0x4ce180 0x567322 0x5a5611 0x4de436 0x4e00e8 0x5ec32e 0x50a9da 0x50c5b9 0x509d48 0x50aa7d 0x50c5b9 0x508245 0x50a080 0x50aa7d 0x50d390 0x508245 0x5167b9 0x5678ee 0x51171e 0x508245 0x50a080 0x50aa7d 0x50c5b9 0x509d48 0x50aa7d 0x50c5b9 0x509d48 0x50aa7d 0x50c5b9\n",
      "tcmalloc: large alloc 2440134656 bytes == 0x9825a000 @  0x7fc3fe52c1e7 0x5929fc 0x5eb636 0x4df2b7 0x5ec32e 0x50a9da 0x50c5b9 0x509d48 0x50aa7d 0x50c5b9 0x508245 0x50a080 0x50aa7d 0x50d390 0x508245 0x5167b9 0x5678ee 0x51171e 0x508245 0x50a080 0x50aa7d 0x50c5b9 0x509d48 0x50aa7d 0x50c5b9 0x509d48 0x50aa7d 0x50c5b9 0x509d48 0x50aa7d 0x50c5b9\n",
      "tcmalloc: large alloc 2440126464 bytes == 0x6b3a000 @  0x7fc3fe52c1e7 0x7fc3f5aee5e1 0x7fc3f5b52e88 0x7fc3f5b53147 0x7fc3f5beb118 0x50ac25 0x50d390 0x508245 0x50a080 0x50aa7d 0x50d390 0x508245 0x50a080 0x50aa7d 0x50d390 0x508245 0x50a080 0x50aa7d 0x50d390 0x508245 0x50a080 0x50aa7d 0x50d390 0x508245 0x50a080 0x50aa7d 0x50d390 0x508245 0x509642 0x595311 0x5a067e\n",
      "tcmalloc: large alloc 2440126464 bytes == 0x1299ec000 @  0x7fc3fe52c1e7 0x7fc3f5aee5e1 0x7fc3f5b52e88 0x7fc3f5b53147 0x7fc3f5beb118 0x50ac25 0x50d390 0x509d48 0x50aa7d 0x50c5b9 0x508245 0x50a080 0x50aa7d 0x50c5b9 0x509d48 0x50aa7d 0x50c5b9 0x509d48 0x50aa7d 0x50c5b9 0x508245 0x50a080 0x50aa7d 0x50d390 0x508245 0x50a080 0x50aa7d 0x50d390 0x508245 0x5096b7 0x595311\n",
      "2020-04-18 08:06:46.490338: W tensorflow/core/common_runtime/gpu/gpu_bfc_allocator.cc:39] Overriding allow_growth setting because the TF_FORCE_GPU_ALLOW_GROWTH environment variable is set. Original config value was 0.\n"
     ]
    }
   ],
   "source": []
  }
 ],
 "metadata": {
  "accelerator": "GPU",
  "anaconda-cloud": {},
  "colab": {
   "collapsed_sections": [
    "7l1pHwimiWQI",
    "leo7YbI9L5et"
   ],
   "machine_shape": "hm",
   "name": "Assignment 3.ipynb",
   "provenance": []
  },
  "kernelspec": {
   "display_name": "Python 3",
   "language": "python",
   "name": "python3"
  },
  "language_info": {
   "codemirror_mode": {
    "name": "ipython",
    "version": 3
   },
   "file_extension": ".py",
   "mimetype": "text/x-python",
   "name": "python",
   "nbconvert_exporter": "python",
   "pygments_lexer": "ipython3",
   "version": "3.7.7"
  }
 },
 "nbformat": 4,
 "nbformat_minor": 1
}
