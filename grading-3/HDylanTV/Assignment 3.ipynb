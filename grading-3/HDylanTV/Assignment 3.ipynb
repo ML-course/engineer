{
 "cells": [
  {
   "cell_type": "code",
   "execution_count": null,
   "metadata": {
    "colab": {},
    "colab_type": "code",
    "id": "uPiqHyC_MuLL"
   },
   "outputs": [],
   "source": [
    "# Fill in your name using the format below and student ID number\n",
    "your_name = \"ter Veen, Dylan\"\n",
    "student_id = \"0951715\""
   ]
  },
  {
   "cell_type": "code",
   "execution_count": null,
   "metadata": {
    "colab": {},
    "colab_type": "code",
    "id": "nnznUZwd35-d"
   },
   "outputs": [],
   "source": [
    "# Before submission, set this to True so that you can render and verify this notebook without training deep learning models.\n",
    "# Any deep learning models will be trained from file instead.\n",
    "stop_training = True"
   ]
  },
  {
   "cell_type": "code",
   "execution_count": null,
   "metadata": {
    "colab": {
     "base_uri": "https://localhost:8080/",
     "height": 72
    },
    "colab_type": "code",
    "executionInfo": {
     "elapsed": 7867,
     "status": "ok",
     "timestamp": 1586631731957,
     "user": {
      "displayName": "Dylan ter Veen",
      "photoUrl": "",
      "userId": "09642811623730484366"
     },
     "user_tz": -120
    },
    "id": "-rAuraOsM22r",
    "outputId": "323c7371-16e0-43d1-801e-e24cca5bb0a2"
   },
   "outputs": [],
   "source": [
    "# Uncomment the following line to run in Google Colab\n",
    "# !pip install --quiet openml "
   ]
  },
  {
   "cell_type": "code",
   "execution_count": null,
   "metadata": {
    "colab": {
     "base_uri": "https://localhost:8080/",
     "height": 35
    },
    "colab_type": "code",
    "executionInfo": {
     "elapsed": 2591,
     "status": "ok",
     "timestamp": 1586631736234,
     "user": {
      "displayName": "Dylan ter Veen",
      "photoUrl": "",
      "userId": "09642811623730484366"
     },
     "user_tz": -120
    },
    "id": "OS-d8ziENCs1",
    "outputId": "8371885a-d2a5-4a23-c2eb-d48b011f76ea"
   },
   "outputs": [],
   "source": [
    "# Uncomment the following line to run in Google Colab\n",
    "# %tensorflow_version 2.x\n",
    "import tensorflow as tf\n",
    "tf.config.experimental.list_physical_devices('GPU') # Check whether GPUs are available"
   ]
  },
  {
   "cell_type": "code",
   "execution_count": null,
   "metadata": {
    "colab": {},
    "colab_type": "code",
    "id": "-iTn6RmNMuLT"
   },
   "outputs": [],
   "source": [
    "%matplotlib inline\n",
    "import openml as oml\n",
    "import numpy as np\n",
    "import matplotlib.pyplot as plt \n",
    "import sklearn"
   ]
  },
  {
   "cell_type": "code",
   "execution_count": null,
   "metadata": {
    "colab": {
     "base_uri": "https://localhost:8080/",
     "height": 35
    },
    "colab_type": "code",
    "executionInfo": {
     "elapsed": 536,
     "status": "ok",
     "timestamp": 1586631749384,
     "user": {
      "displayName": "Dylan ter Veen",
      "photoUrl": "",
      "userId": "09642811623730484366"
     },
     "user_tz": -120
    },
    "id": "brth0Z_TMuLZ",
    "outputId": "b547e4c7-543d-4b87-d783-fc90d54e9a1c"
   },
   "outputs": [],
   "source": [
    "from packaging import version\n",
    "import sklearn\n",
    "import tensorflow\n",
    "sklearn_version = sklearn.__version__\n",
    "tensorflow_version = tensorflow.__version__\n",
    "if version.parse(sklearn_version) < version.parse(\"0.22.0\"):\n",
    "    print(\"scikit-learn is outdated. Please update now!\")\n",
    "if version.parse(tensorflow_version) < version.parse(\"2.1.0\"):\n",
    "    print(\"Tensorflow is outdated. This is version {}. Please update to 2.1.\".format(tensorflow_version))\n",
    "else:\n",
    "    print(\"Hi{}, Looks good. You may continue :)\".format(your_name.split(\",\")[1]))"
   ]
  },
  {
   "cell_type": "markdown",
   "metadata": {
    "colab_type": "text",
    "id": "7kdeFjIGMuLv"
   },
   "source": [
    "# Assignment 3"
   ]
  },
  {
   "cell_type": "markdown",
   "metadata": {
    "colab_type": "text",
    "id": "ljhP8DXu-H4j"
   },
   "source": [
    "### Choice of libraries\n",
    "We recommend to use Tensorflow in this assignment since that is what we covered in the labs. If you feel confident using PyTorch (and Skorch for the scikit-learn wrapper), that is allowed too, as long as you are able to implement the requested functions and return the requested data. Read the assignment carefully and ensure that you can. Note that you may also need to do a bit more work to implement certain helper functions and wrappers."
   ]
  },
  {
   "cell_type": "markdown",
   "metadata": {
    "colab_type": "text",
    "id": "-BQG9Kp2EcPc"
   },
   "source": [
    "### Storing and submitting files\n",
    "You must be able to store your models and submit them to GitHub Classroom. The evaluation functions used in this notebook will automatically store models for you.\n",
    "\n",
    "If you want to run and solve the notebook on your local machine/laptop, fill in the path 'base_dir' to your assignment folder into the next cell.\n",
    "\n",
    "If you use Colab, we recommend that you link it to your Google Drive:  \n",
    "* Upload the assignment folder to your Google Drive (+ New > Folder Upload)\n",
    "* Open Colab in a browser, open the 'Files' menu in the left sidebar, and click 'Mount Drive'\n",
    "  * At this point you may need to authenticate\n",
    "* Fill in the path to your assignment folder below\n",
    "  * It's likely '/content/drive/My Drive/assignment-3-yourname'"
   ]
  },
  {
   "cell_type": "code",
   "execution_count": null,
   "metadata": {
    "colab": {},
    "colab_type": "code",
    "id": "aO6jTIIFHQNU"
   },
   "outputs": [],
   "source": [
    "# base_dir = '/content/drive/My Drive/assignment-3-HDylanTV' # For Google Colab\n",
    "base_dir = './'"
   ]
  },
  {
   "cell_type": "code",
   "execution_count": null,
   "metadata": {
    "colab": {
     "base_uri": "https://localhost:8080/",
     "height": 129
    },
    "colab_type": "code",
    "executionInfo": {
     "elapsed": 15623,
     "status": "ok",
     "timestamp": 1586631771111,
     "user": {
      "displayName": "Dylan ter Veen",
      "photoUrl": "",
      "userId": "09642811623730484366"
     },
     "user_tz": -120
    },
    "id": "HKaM3mwrODBR",
    "outputId": "07d400aa-ece7-4127-d2c6-c032d5907107"
   },
   "outputs": [],
   "source": [
    "#Uncomment to link Colab notebook to Google Drive\n",
    "# from google.colab import drive\n",
    "# drive.mount('/content/drive')"
   ]
  },
  {
   "cell_type": "markdown",
   "metadata": {
    "colab_type": "text",
    "id": "D_BDIpWh92Dk"
   },
   "source": [
    "### Using GPUs\n",
    "While you can solve this assignment on a CPU, using a GPU will speed things up training quite a bit. If you have a local GPU, you can use that. If you don't, we recommend Google Colab. When you are in Colab:\n",
    "* In Runtime > Change runtime type, select the GPU under Hardware Accelerator\n",
    "* Run the 3rd cell on the top of this notebook to check that the GPU is found.\n",
    "\n",
    "Note that Colab may not always have GPUs ready all the time, and may deny you a GPU when you have used them a lot. When you are temporarily 'locked out', you can switch to a non-GPU runtime or to a local instance of Jupyter running on your machine."
   ]
  },
  {
   "cell_type": "markdown",
   "metadata": {
    "colab_type": "text",
    "id": "hq6oPNF546_5"
   },
   "source": [
    "### Constraints\n",
    "* Your stored models should not be larger than 100MB when stored in file. GitHub will not allow uploading if they are.\n",
    "* When questions ask you to provide an explanation, it should be less than 500\n",
    "characters long. Some questions have a higher limit. Always answer in full sentences.\n",
    "* Don't train for more than 100 epochs, i.e. don't throw excessing computational resources at the problem. If your model hasn't converged by then, think of ways it could be made to converge faster. In this assignment you are not after the last tiny improvement, you can stop when learning curves flatten out. Do at least 5 epochs to get a reasonable learning curve."
   ]
  },
  {
   "cell_type": "markdown",
   "metadata": {
    "colab_type": "text",
    "id": "h8wBDNspEvcY"
   },
   "source": [
    "### Grading\n",
    "Grading is based on the following aspects:\n",
    "* Correctness in answering the question. Carefully read the question and answer\n",
    "what is asked for. Train your models on the correct data. It should be clear on which data should be trained, but ask when in doubt. When something is not defined (e.g. the number of epochs or batch size), you can freely choose them.\n",
    "* Clarity of your explanations. Write short but precise descriptions of what you did and why. Give short but clear explanations of the observed performance. \n",
    "After your explanation, your approach and model should make perfect sense. Refrain from using symbols as substitute for words in your explanation (e.g. no: \"More layers -> more parameters\" yes: \"More layers mean more parameters\"). \n",
    "* Part of your grade depends on how well your model performs. When the question says 'you should at least get x%', x% will give you a good but not the maximal grade. You can get the full grade when you are close to what is the expected maximal performance. You don't need to invest lots of effort into the last tiny improvement, though. Unless specified, we look at the accuracy on the validation set. If your learning curves are very erratic we'll compute a score based on the smoothed curves (i.e. single peaks don't count).\n",
    "* The weight of each question is indicated. Take this into account when planning your time."
   ]
  },
  {
   "cell_type": "markdown",
   "metadata": {
    "colab_type": "text",
    "id": "KNyA5dEpR00Z"
   },
   "source": [
    "### Other tips\n",
    "* Don't wait until the last minute to do the assignment. The models take time to train, most questions will require some thinking, and some require you to read up on some new concepts.\n",
    "* Take care that you upload the results as requested. You need to submit not only the notebooks but also the trained models and learning curves (training histories). Be sure to run the verification script and check that all the results are included.\n",
    "* We provide an evaluation function that also stored models to disk. After you are done training the model, set the 'train' attribute to False so that the model doesn't train again (and loads from file instead) when you restart and rerun your notebook.\n",
    "* Explore. For many questions we'll ask you to explain your model design decisions. You cannot magically know the best solutions but you can experiment\n",
    "based on your understanding and make decisions based on both your knowledge and experiments. Your explanation is at least as important as the performance of your model.\n",
    "* Be original. We will check for plagiarism between student submissions."
   ]
  },
  {
   "cell_type": "markdown",
   "metadata": {
    "colab_type": "text",
    "id": "k0nKOZrPJTn8"
   },
   "source": [
    "### Data\n",
    "The [Street View House Numbers Dataset](https://www.openml.org/d/41081) contains 32-by-32 RGB images centered around a single digit of a house number appearing in Google Street View. Many of the images do contain some distractors at the sides. It consists of 10 classes, 1 for each digit. Digit '1' has label 1, '9' has label 9 and '0' has label 10. Your goal is to build models that recognize the correct digit."
   ]
  },
  {
   "cell_type": "markdown",
   "metadata": {
    "colab_type": "text",
    "id": "B8sOA7mEKOSp"
   },
   "source": [
    "If you use Colab, uncomment the following to cache the dataset inside the VM. This will make reloading faster if you need to restart your notebook. After longer periods of inactivity, your VM may be recycled and the cache lost, in which case the dataset will be downloaded again. Also note that this dataset is about 1Gb large, and will take even more space in memory. You may need to switch to a high-RAM environment (Colab will ask you if you hit the limit)."
   ]
  },
  {
   "cell_type": "code",
   "execution_count": null,
   "metadata": {
    "colab": {},
    "colab_type": "code",
    "id": "Wu9s9dnlJMP0"
   },
   "outputs": [],
   "source": [
    "# Use OpenML caching in Colab\n",
    "# On your local machine, it will store data in a hidden folder '~/.openml'\n",
    "# import os\n",
    "# oml.config.cache_directory = os.path.expanduser('/content/cache')"
   ]
  },
  {
   "cell_type": "code",
   "execution_count": null,
   "metadata": {
    "colab": {},
    "colab_type": "code",
    "id": "_3o_TT8SMuLy"
   },
   "outputs": [],
   "source": [
    "# Download Streetview data. Takes a while (several minutes), and quite a bit of\n",
    "# memory when it needs to download. After caching it loads faster.\n",
    "SVHN = oml.datasets.get_dataset(41081)"
   ]
  },
  {
   "cell_type": "code",
   "execution_count": null,
   "metadata": {
    "colab": {},
    "colab_type": "code",
    "id": "a9x67DVm35_p"
   },
   "outputs": [],
   "source": [
    "X, y, _, _ = SVHN.get_data(dataset_format='array', target=SVHN.default_target_attribute)"
   ]
  },
  {
   "cell_type": "markdown",
   "metadata": {
    "colab_type": "text",
    "id": "EPwHgeC3MuMI"
   },
   "source": [
    "Reshape, sample and split the data"
   ]
  },
  {
   "cell_type": "code",
   "execution_count": null,
   "metadata": {
    "colab": {},
    "colab_type": "code",
    "id": "3C14250QOGpL"
   },
   "outputs": [],
   "source": [
    "from tensorflow.keras.utils import to_categorical\n",
    "\n",
    "Xr = X.reshape((len(X), 32, 32, 3))\n",
    "Xr = Xr / 255.\n",
    "yr = to_categorical(y)"
   ]
  },
  {
   "cell_type": "code",
   "execution_count": null,
   "metadata": {
    "colab": {},
    "colab_type": "code",
    "id": "sbxtRoDcMuMK"
   },
   "outputs": [],
   "source": [
    "# DO NOT EDIT. DO NOT OVERWRITE THESE VARIABLES.\n",
    "from sklearn.model_selection import train_test_split\n",
    "# We do an 80-20 split for the training and test set, and then again a 80-20 split into training and validation data\n",
    "X_train_all, X_test, y_train_all, y_test = train_test_split(Xr,yr, stratify=yr, train_size=0.8, test_size=0.2, random_state=1)\n",
    "X_train, X_val, y_train, y_val = train_test_split(X_train_all,y_train_all, stratify=y_train_all, train_size=0.8, random_state=1)\n",
    "evaluation_split = X_train, X_val, y_train, y_val"
   ]
  },
  {
   "cell_type": "markdown",
   "metadata": {
    "colab_type": "text",
    "id": "gUAf28y2O6ks"
   },
   "source": [
    "Check the formatting - and what the data looks like"
   ]
  },
  {
   "cell_type": "code",
   "execution_count": null,
   "metadata": {
    "colab": {
     "base_uri": "https://localhost:8080/",
     "height": 141
    },
    "colab_type": "code",
    "executionInfo": {
     "elapsed": 783,
     "status": "ok",
     "timestamp": 1586633213181,
     "user": {
      "displayName": "Dylan ter Veen",
      "photoUrl": "",
      "userId": "09642811623730484366"
     },
     "user_tz": -120
    },
    "id": "QEWsr56hMuL8",
    "outputId": "94072f9e-261f-4b26-ee53-a4d484b29e7c"
   },
   "outputs": [],
   "source": [
    "from random import randint\n",
    "\n",
    "# Takes a list of row ids, and plots the corresponding images\n",
    "# Use grayscale=True for plotting grayscale images\n",
    "def plot_images(X, y, grayscale=False):\n",
    "    fig, axes = plt.subplots(1, len(X), figsize=(10, 5))\n",
    "    for n in range(len(X)):\n",
    "        if grayscale:\n",
    "            axes[n].imshow(X[n], cmap='gray')\n",
    "        else:\n",
    "            axes[n].imshow(X[n])\n",
    "        axes[n].set_xlabel((np.argmax(y[n])+1)%10) # Label is index+1\n",
    "        axes[n].set_xticks(()), axes[n].set_yticks(())\n",
    "    plt.show();\n",
    "\n",
    "images = [randint(0,len(X_train)) for i in range(5)]\n",
    "X_random = [X_val[0]] + [X_train[i] for i in images]\n",
    "y_random = [y_val[0]] + [y_train[i] for i in images]\n",
    "plot_images(X_random, y_random)"
   ]
  },
  {
   "cell_type": "markdown",
   "metadata": {
    "colab_type": "text",
    "id": "yUQ22FEawd-J"
   },
   "source": [
    "### Evaluation harness\n",
    "We provide an evaluation function 'run_evaluation' that you should use to \n",
    "evaluate all your models. It also stores the trained models to disk so that\n",
    "your submission can be quickly verified, as well as to avoid having to train\n",
    "them over and over again. Your last run of the evaluation function (the last one\n",
    "stored to file), is the one that will be evaluated. The 'train' argument indicates whether to train or to load from disk. We have provided helper functions for saving and loading models to/from file, assuming you use TensorFlow. If you use PyTorch you'll have to adapt them."
   ]
  },
  {
   "cell_type": "code",
   "execution_count": null,
   "metadata": {
    "colab": {},
    "colab_type": "code",
    "id": "SFGTq4mUV2zK"
   },
   "outputs": [],
   "source": [
    "import os\n",
    "import pickle\n",
    "import pandas as pd\n",
    "import numpy as np\n",
    "from tensorflow.keras.models import load_model # for use with tensorflow\n",
    "\n",
    "def shout(text, verbose=1):\n",
    "    \"\"\" Prints text in red. Just for fun.\n",
    "    \"\"\"\n",
    "    if verbose>0:\n",
    "        print('\\033[91m'+text+'\\x1b[0m')\n",
    "\n",
    "def load_model_from_file(base_dir, name, extension='.h5'):\n",
    "    \"\"\" Loads a model from a file. The returned model must have a 'fit' and 'summary'\n",
    "    function following the Keras API. Don't change if you use TensorFlow. Otherwise,\n",
    "    adapt as needed. \n",
    "    Keyword arguments:\n",
    "    base_dir -- Directory where the models are stored\n",
    "    name -- Name of the model, e.g. 'question_1_1'\n",
    "    extension -- the file extension\n",
    "    \"\"\"\n",
    "    try:\n",
    "        model = load_model(os.path.join(base_dir, name+extension))\n",
    "    except OSError:\n",
    "        shout(\"Saved model could not be found. Was it trained and stored correctly? Is the base_dir correct?\")\n",
    "        return False\n",
    "    return model\n",
    "\n",
    "def save_model_to_file(model, base_dir, name, extension='.h5'):\n",
    "    \"\"\" Saves a model to file. Don't change if you use TensorFlow. Otherwise,\n",
    "    adapt as needed. \n",
    "    Keyword arguments:\n",
    "    model -- the model to be saved\n",
    "    base_dir -- Directory where the models should be stored\n",
    "    name -- Name of the model, e.g. 'question_1_1'\n",
    "    extension -- the file extension\n",
    "    \"\"\"\n",
    "    model.save(os.path.join(base_dir, name+extension))\n",
    "\n",
    "# Helper function to extract min/max from the learning curves\n",
    "def minMax(x):\n",
    "    return pd.Series(index=['min','max'],data=[x.min(),x.max()])\n",
    "\n",
    "# DO NOT EDIT\n",
    "def run_evaluation(name, model_builder, data, base_dir, train=True, \n",
    "                   generator=False, epochs=3, batch_size=32, steps_per_epoch=60, \n",
    "                   verbose=1, **kwargs):\n",
    "    \"\"\" Trains and evaluates the given model on the predefined train and test splits,\n",
    "    stores the trained model and learning curves. Also prints out a summary of the \n",
    "    model and plots the learning curves.\n",
    "    Keyword arguments:\n",
    "    name -- the name of the model to be stored, e.g. 'question_1_1.h5'\n",
    "    model_builder -- function that returns an (untrained) model. The model must \n",
    "                     have a 'fit' function that follows the Keras API. It can wrap\n",
    "                     a non-Keras model as long as the 'fit' function takes the \n",
    "                     same attributes and returns the learning curves (history).\n",
    "                     It also must have a 'summary' function that prints out a \n",
    "                     model summary, and a 'save' function that saves the model \n",
    "                     to disk. \n",
    "    data -- data split for evaluation. A tuple of either:\n",
    "            * Numpy arrays (X_train, X_val, y_train, y_val)\n",
    "            * A data generator and validation data (generator, X_val, y_val)\n",
    "    base_dir -- the directory to save or read models to/from\n",
    "    train -- whether or not the data should be trained. If False, the trained model\n",
    "             will be loaded from disk.\n",
    "    generator -- whether the data in given as a generator or not\n",
    "    epochs -- the number of epochs to train for\n",
    "    batch_size -- the batch size to train with\n",
    "    steps_per_epoch -- steps per epoch, in case a generator is used (ignored otherwise)\n",
    "    verbose -- verbosity level, 0: silent, 1: minimal,...\n",
    "    kwargs -- keyword arguments that should be passed to model_builder.\n",
    "              Not required, but may help you to adjust its behavior\n",
    "    \"\"\"\n",
    "    model = model_builder(**kwargs)\n",
    "    if not model:\n",
    "        shout(\"No model is returned by the model_builder\")\n",
    "        return\n",
    "    if not hasattr(model, 'fit'):\n",
    "        shout(\"Model is not built correctly\")\n",
    "        return\n",
    "    learning_curves = {}\n",
    "    if train and not stop_training: # Train anew\n",
    "        shout(\"Training the model\", verbose)\n",
    "        if generator:\n",
    "            generator, X_val, y_val = data\n",
    "            history = model.fit(generator, epochs=epochs, batch_size=batch_size,\n",
    "                              steps_per_epoch=steps_per_epoch, verbose=1, \n",
    "                              validation_data=(X_val, y_val))\n",
    "            learning_curves = history.history\n",
    "        else:\n",
    "            X_train, X_val, y_train, y_val = data\n",
    "            history = model.fit(X_train, y_train, epochs=epochs, batch_size=batch_size,\n",
    "                              verbose=1, validation_data=(X_val, y_val))\n",
    "            learning_curves = history.history\n",
    "        shout(\"Saving to file\", verbose)\n",
    "        save_model_to_file(model, base_dir, name)\n",
    "        with open(os.path.join(base_dir, name+'.p'), 'wb') as file_pi:\n",
    "            pickle.dump(learning_curves, file_pi)\n",
    "        shout(\"Model stored in \"+base_dir, verbose)\n",
    "    else: # Load from file\n",
    "        shout(\"Loading model from file\", verbose)\n",
    "        model = load_model_from_file(base_dir, name)\n",
    "        if not model:\n",
    "            shout(\"Model not found\")\n",
    "            return\n",
    "        learning_curves = None\n",
    "        try:\n",
    "            learning_curves = pickle.load(open(os.path.join(base_dir, name+'.p'), \"rb\"))\n",
    "        except FileNotFoundError:\n",
    "            shout(\"Learning curves not found\")\n",
    "            return\n",
    "        shout(\"Success!\", verbose)\n",
    "    # Report\n",
    "    print(model.summary())\n",
    "    lc = pd.DataFrame(learning_curves)\n",
    "    lc.plot(lw=2,style=['b:','r:','b-','r-']);\n",
    "    plt.xlabel('epochs');\n",
    "    print(lc.apply(minMax))"
   ]
  },
  {
   "cell_type": "markdown",
   "metadata": {
    "colab_type": "text",
    "id": "IU_zPWGPypce"
   },
   "source": [
    "## Part 1. Dense networks (10 points)\n",
    "\n",
    "### Question 1.1: Baseline model (4 points)\n",
    "- Build a dense network (with only dense layers) of at least 3 layers that is shaped like a pyramid: The first layer must have many nodes, and every subsequent layer must have increasingly fewer nodes, e.g. half as many. Implement a function 'build_model_1_1' that returns this model.\n",
    "- You can explore different settings, but don't use any preprocessing or regularization yet. You should be able to achieve at least 70% accuracy, but more is of course better. Unless otherwise stated, you can use accuracy as the evaluation metric in all questions.\n",
    "* Add a small description of your design choices (max. 500 characters) in 'answer_q_1_1': explain what you did and also why. Also discuss the performance of the model. Is it working well? Both the performance of the model and your explanations matter.\n",
    "- The name of the model should be 'model_1_1'. Evaluate it using the 'run_evaluation' function. For this question, you should not use more than 50 epochs."
   ]
  },
  {
   "cell_type": "code",
   "execution_count": null,
   "metadata": {
    "colab": {},
    "colab_type": "code",
    "id": "YEbxS25cqizp"
   },
   "outputs": [],
   "source": [
    "from tensorflow.keras import models\n",
    "from tensorflow.keras import layers"
   ]
  },
  {
   "cell_type": "code",
   "execution_count": null,
   "metadata": {
    "colab": {
     "base_uri": "https://localhost:8080/",
     "height": 1000
    },
    "colab_type": "code",
    "executionInfo": {
     "elapsed": 123843,
     "status": "ok",
     "timestamp": 1586634154818,
     "user": {
      "displayName": "Dylan ter Veen",
      "photoUrl": "",
      "userId": "09642811623730484366"
     },
     "user_tz": -120
    },
    "id": "hci6BIdHJTN0",
    "outputId": "c458a4e7-109f-46d8-fea6-5ec853ae4145"
   },
   "outputs": [],
   "source": [
    "def build_model_1_1():\n",
    "    model = models.Sequential()\n",
    "    # Convert to input layer\n",
    "    model.add(layers.Reshape((3072,), input_shape=(32,32,3)))\n",
    "    # Hidden layers\n",
    "    model.add(layers.Dense(768,  activation='relu'))\n",
    "    model.add(layers.Dense(192, activation='sigmoid'))\n",
    "    model.add(layers.Dense(48, activation='relu'))\n",
    "    # Output layer\n",
    "    model.add(layers.Dense(10, activation='softmax'))\n",
    "    # Make the model\n",
    "    model.compile(optimizer='rmsprop',\n",
    "                  loss='categorical_crossentropy',\n",
    "                  metrics=['accuracy'])\n",
    "    return model\n",
    "  \n",
    "run_evaluation(\"model_1_1\", build_model_1_1, evaluation_split, base_dir, \n",
    "               train=True, epochs=15, batch_size=32)"
   ]
  },
  {
   "cell_type": "code",
   "execution_count": null,
   "metadata": {
    "colab": {
     "base_uri": "https://localhost:8080/",
     "height": 35
    },
    "colab_type": "code",
    "executionInfo": {
     "elapsed": 586,
     "status": "ok",
     "timestamp": 1586634174330,
     "user": {
      "displayName": "Dylan ter Veen",
      "photoUrl": "",
      "userId": "09642811623730484366"
     },
     "user_tz": -120
    },
    "id": "_zEGQDjvrV_5",
    "outputId": "2ce0783e-a5bc-4d22-95bd-ca7d74aec6e0"
   },
   "outputs": [],
   "source": [
    "answer_q_1_1 = \"\"\"I experimented with larger networks, but they did not seem to do the trick. \n",
    "My idea was to have layers that alternate with having larger and smaller output values.\n",
    "The relu and sigmoid activations functions allow for this. This might keep the more probabilistic important features \n",
    "and then zooms in on these again in the next two-layer alternation.\n",
    "The performance seems reasonable, the validation loss and accuracy is somewhat equal to the training loss and accuracy, apart from the end.\"\"\"\n",
    "print(\"Answer is {} characters long\".format(len(answer_q_1_1)))"
   ]
  },
  {
   "cell_type": "markdown",
   "metadata": {
    "colab_type": "text",
    "id": "kmicpoNvonjd"
   },
   "source": [
    "### Question 1.2: Preprocessing (2 points)\n",
    "Rerun the model, but now preprocess the data first by converting the images to \n",
    "greyscale. You can use the helper function below. If you want to do additional \n",
    "preprocessing, you can do that here, too.\n",
    "* Store the preprocessed data as a tuple `preprocessed_split`\n",
    "* Rerun and re-evaluate your model using the preprocessed data.\n",
    "  * For the remainder of the assignment, always use the preprocessed data\n",
    "* Explain what you did and interpret the results in 'answer_q_1_2'. Is the model\n",
    "  better, if so, why?"
   ]
  },
  {
   "cell_type": "code",
   "execution_count": null,
   "metadata": {
    "colab": {},
    "colab_type": "code",
    "id": "_wFGWDQSqkIM"
   },
   "outputs": [],
   "source": [
    "# Luminance-preserving RGB to greyscale conversion\n",
    "def rgb2gray(X):\n",
    "    return np.expand_dims(np.dot(X, [0.2990, 0.5870, 0.1140]), axis=3)"
   ]
  },
  {
   "cell_type": "code",
   "execution_count": null,
   "metadata": {
    "colab": {},
    "colab_type": "code",
    "id": "mb8lWbWQNrlt"
   },
   "outputs": [],
   "source": [
    "# Replace with the preprocessed data\n",
    "preprocessed_split = rgb2gray(X_train), rgb2gray(X_val), y_train, y_val"
   ]
  },
  {
   "cell_type": "code",
   "execution_count": null,
   "metadata": {
    "colab": {
     "base_uri": "https://localhost:8080/",
     "height": 738
    },
    "colab_type": "code",
    "executionInfo": {
     "elapsed": 2075,
     "status": "ok",
     "timestamp": 1586634351232,
     "user": {
      "displayName": "Dylan ter Veen",
      "photoUrl": "",
      "userId": "09642811623730484366"
     },
     "user_tz": -120
    },
    "id": "3aTVsLaojNeM",
    "outputId": "8edd134e-a4eb-4574-f93d-e59f3fe84681"
   },
   "outputs": [],
   "source": [
    "# Adjusted model\n",
    "def build_model_1_2():\n",
    "    model = models.Sequential()\n",
    "    # Convert to input layer\n",
    "    model.add(layers.Reshape((1024,), input_shape=(32, 32, 1)))\n",
    "    # Hidden layers\n",
    "    model.add(layers.Dense(512, activation='relu'))\n",
    "    model.add(layers.Dense(128, activation='sigmoid'))\n",
    "    model.add(layers.Dense(32, activation='relu'))\n",
    "    # Output layer\n",
    "    model.add(layers.Dense(10, activation='softmax'))\n",
    "    # Make the model\n",
    "    model.compile(optimizer='rmsprop',\n",
    "                  loss='categorical_crossentropy',\n",
    "                  metrics=['accuracy'])\n",
    "    return model\n",
    "\n",
    "# Evaluate. Use a new name 'model_1_2' to not overwrite the previous trained model\n",
    "run_evaluation(\"model_1_2\", build_model_1_2, preprocessed_split, base_dir, \n",
    "               train=True, epochs=15, batch_size=32)"
   ]
  },
  {
   "cell_type": "code",
   "execution_count": null,
   "metadata": {
    "colab": {
     "base_uri": "https://localhost:8080/",
     "height": 35
    },
    "colab_type": "code",
    "executionInfo": {
     "elapsed": 487,
     "status": "ok",
     "timestamp": 1586634383746,
     "user": {
      "displayName": "Dylan ter Veen",
      "photoUrl": "",
      "userId": "09642811623730484366"
     },
     "user_tz": -120
    },
    "id": "5htrKHxAsHWY",
    "outputId": "d5e04305-2fcf-4547-fbec-c715fe5a4f3b"
   },
   "outputs": [],
   "source": [
    "answer_q_1_2 = \"\"\"I preprocessed the data to be only greyscale, which makes the dimension of the data different.\n",
    "Therefore, I changed the size of the network to a third, since it should stay the same with respect to question 1_1. \n",
    "I did change the size of the first layer to twice its original size afterwards, since the amount of information is less in the input, \n",
    "I thought, and based on experimentation, that making the first layer bigger would help with this. \n",
    "Initially, the network was a bit worse, but after changing the first layer size to twice its original, it became a tiny bit better,\n",
    "even though there is a bit more overfitting happening, and it is more irregular, the validation set accuracy is still a bit higher. \"\"\"\n",
    "print(\"Answer is {} characters long\".format(len(answer_q_1_2)))"
   ]
  },
  {
   "cell_type": "markdown",
   "metadata": {
    "colab_type": "text",
    "id": "7l1pHwimiWQI"
   },
   "source": [
    "### Question 1.3: Regularization and tuning (4 points)\n",
    "* Regularize the model. You can explore (and combine) different techniques. What works best?\n",
    "* Tune other hyperparameters (e.g. learning rate, batch size,...) as you see fit.\n",
    "* Explain your findings and final design decisions. Retrain the model again on the preprocessed data and discuss the results.\n",
    "* Return your model in function 'build_model_1_3' and write your answer in 'answer_q_1_3'"
   ]
  },
  {
   "cell_type": "code",
   "execution_count": null,
   "metadata": {
    "colab": {
     "base_uri": "https://localhost:8080/",
     "height": 775
    },
    "colab_type": "code",
    "executionInfo": {
     "elapsed": 2235,
     "status": "ok",
     "timestamp": 1586635045353,
     "user": {
      "displayName": "Dylan ter Veen",
      "photoUrl": "",
      "userId": "09642811623730484366"
     },
     "user_tz": -120
    },
    "id": "2ZZenVX1jDIQ",
    "outputId": "caa16bf8-84a9-4755-98b2-c163b81c7361"
   },
   "outputs": [],
   "source": [
    "from tensorflow.keras import regularizers\n",
    "\n",
    "def build_model_1_3():\n",
    "    model = models.Sequential()\n",
    "    # Convert to input layer\n",
    "    model.add(layers.Reshape((1024,), input_shape=(32, 32, 1)))\n",
    "    # Hidden layers\n",
    "    model.add(layers.BatchNormalization())\n",
    "    model.add(layers.Dense(512, activation='relu', kernel_regularizer=regularizers.l2(0.001)))\n",
    "    model.add(layers.BatchNormalization())\n",
    "    model.add(layers.Dense(32, activation='relu', kernel_regularizer=regularizers.l2(0.001)))\n",
    "    # Output layer\n",
    "    model.add(layers.Dense(10, activation='softmax'))\n",
    "    # Make the model\n",
    "    model.compile(optimizer='rmsprop',\n",
    "                  loss='categorical_crossentropy',\n",
    "                  metrics=['accuracy'])\n",
    "    return model\n",
    "\n",
    "run_evaluation(\"model_1_3\", build_model_1_3, preprocessed_split, base_dir, \n",
    "               train=True, epochs=15, batch_size=64)"
   ]
  },
  {
   "cell_type": "code",
   "execution_count": null,
   "metadata": {
    "colab": {
     "base_uri": "https://localhost:8080/",
     "height": 35
    },
    "colab_type": "code",
    "executionInfo": {
     "elapsed": 667,
     "status": "ok",
     "timestamp": 1586635034380,
     "user": {
      "displayName": "Dylan ter Veen",
      "photoUrl": "",
      "userId": "09642811623730484366"
     },
     "user_tz": -120
    },
    "id": "VCnYGDYVyGJQ",
    "outputId": "a12237a6-102a-4253-bcce-1bfd98d0b704"
   },
   "outputs": [],
   "source": [
    "answer_q_1_3 = \"\"\"Instead of the sigmoid layers, I decided to convert these to batch normalization layers.\n",
    "I thought that this would be a better alternative than the sigmoid layers. \n",
    "I also added the L2 normalization to the relu layers to ensure lower weights. \n",
    "After some experimentation, the sizes of the regular relu layers appeared to be best as they were.\n",
    "The batch size was better when it would be 64 than 32 or 128, so I decided to leave it at 64.\n",
    "The performance of the model is a lot better. The training is has a worse accuracy than the test data.\n",
    "The goal of this part was to limit the overfitting by using the batchnormalization layers and the regularization in the layers, \n",
    "and this seems to really work out.  \"\"\"\n",
    "print(\"Answer is {} characters long\".format(len(answer_q_1_3)))"
   ]
  },
  {
   "cell_type": "markdown",
   "metadata": {
    "colab_type": "text",
    "id": "leo7YbI9L5et"
   },
   "source": [
    "## Part 2. Convolutional neural networks (10 points)\n",
    "### Question 2.1: Design a ConvNet (7 points)\n",
    "- Build a sequential convolutional neural network. Try to achieve the best validation accuracy you can. You should be able to get at least 90% accuracy. You can use any depth, any combination of layers, and any kind of regularization and tuning. \n",
    "- Add a description of your design choices in 'answer_q_2_1': explain what you did and also why. Also discuss the performance of the model. Is it working well? Both the performance of the model and your explanations matter.\n",
    "- You are allowed **800** characters for this answer (but don’t ramble).\n",
    "- The name of the model should be 'model_2_1'. Evaluate it using the 'run_evaluation' function and the preprocessed data."
   ]
  },
  {
   "cell_type": "code",
   "execution_count": null,
   "metadata": {
    "colab": {
     "base_uri": "https://localhost:8080/",
     "height": 885
    },
    "colab_type": "code",
    "executionInfo": {
     "elapsed": 2628,
     "status": "ok",
     "timestamp": 1586638396556,
     "user": {
      "displayName": "Dylan ter Veen",
      "photoUrl": "",
      "userId": "09642811623730484366"
     },
     "user_tz": -120
    },
    "id": "ceyv-n1JRYyP",
    "outputId": "8e195dca-7058-4d92-c242-5f36105846ff"
   },
   "outputs": [],
   "source": [
    "def build_model_2_1():\n",
    "    model = models.Sequential()\n",
    "    # Convert to input layer\n",
    "    model.add(layers.Conv2D(64, (3, 3), activation='relu', input_shape=(32, 32, 1)))\n",
    "    # Hidden layers\n",
    "    model.add(layers.MaxPooling2D((2, 2)))\n",
    "    model.add(layers.Conv2D(128, (3, 3), activation='relu'))\n",
    "    model.add(layers.MaxPooling2D((2, 2)))\n",
    "    model.add(layers.Flatten())\n",
    "    model.add(layers.Dense(512, activation='relu'))\n",
    "    model.add(layers.Dense(128, activation='sigmoid'))\n",
    "    model.add(layers.Dense(64, activation='relu'))\n",
    "    # Output layer\n",
    "    model.add(layers.Dense(10, activation='softmax'))\n",
    "    # Make the model\n",
    "    model.compile(optimizer='rmsprop',\n",
    "                  loss='categorical_crossentropy',\n",
    "                  metrics=['accuracy'])\n",
    "    return model\n",
    "\n",
    "run_evaluation(\"model_2_1\", build_model_2_1, preprocessed_split, base_dir, \n",
    "               train=True, epochs=15, batch_size=32)"
   ]
  },
  {
   "cell_type": "code",
   "execution_count": null,
   "metadata": {
    "colab": {
     "base_uri": "https://localhost:8080/",
     "height": 35
    },
    "colab_type": "code",
    "executionInfo": {
     "elapsed": 750,
     "status": "ok",
     "timestamp": 1586638754343,
     "user": {
      "displayName": "Dylan ter Veen",
      "photoUrl": "",
      "userId": "09642811623730484366"
     },
     "user_tz": -120
    },
    "id": "s9wLTmjw0cbz",
    "outputId": "facb4922-cbfd-43ab-f75f-a9edcbe84fd8"
   },
   "outputs": [],
   "source": [
    "answer_q_2_1 = \"\"\"I decided that for this problem not too many convolution layers would be needed.\n",
    "Therefore, I remained at two. I did experiment with more than two convoluting layers, but this also turned out to be worse.\n",
    "After these layers, using the same network as before would be a logical choice,\n",
    "so I believe since this was already partly discovered in previous questions. \n",
    "Even though we see a lot of overfitting, the validation accuracy is about 90 percent, \n",
    "but because the training accurcacy is a lot more, I believe this can be useful when we have more training data.\n",
    "Also, when using normalization in the layers, the performance went down, so I let them go in this solution.\"\"\"\n",
    "print(\"Answer is {} characters long\".format(len(answer_q_2_1)))"
   ]
  },
  {
   "cell_type": "markdown",
   "metadata": {
    "colab_type": "text",
    "id": "EpdLTbPwXmOc"
   },
   "source": [
    "### Question 2.2: Data Augmentation (3 points)\n",
    "\n",
    "- Augment the preprocessed training data. You can explore using image shifts, rotations, zooming, flips, etc. What works well, and what does not?\n",
    "- Evaluate the model from question 2.1 with the augmented data using the 'run_evaluation' function. Store the new trained model as 'model_2_2'.\n",
    "- Add a description of your design choices in 'answer_q_2_2': explain what you did and also why. Also discuss the performance of the model."
   ]
  },
  {
   "cell_type": "code",
   "execution_count": null,
   "metadata": {
    "colab": {
     "base_uri": "https://localhost:8080/",
     "height": 1000
    },
    "colab_type": "code",
    "executionInfo": {
     "elapsed": 350121,
     "status": "ok",
     "timestamp": 1586641872501,
     "user": {
      "displayName": "Dylan ter Veen",
      "photoUrl": "",
      "userId": "09642811623730484366"
     },
     "user_tz": -120
    },
    "id": "cp8wMUU-aqhQ",
    "outputId": "9f075e06-7067-4b6d-bca6-bd5270433cd7"
   },
   "outputs": [],
   "source": [
    "# Note that we build the same untrained model as in question 2.1 but store the \n",
    "# trained version as model_2_2. Change attributes as needed to run on augmented\n",
    "# data\n",
    "from tensorflow.keras.preprocessing.image import ImageDataGenerator\n",
    "\n",
    "def create_augmented_data(X_train, y_train):\n",
    "    train_datagen = ImageDataGenerator(\n",
    "      rotation_range=20,\n",
    "      # width_shift_range=0.4,\n",
    "      # height_shift_range=0.3,\n",
    "      shear_range=0.2,\n",
    "      # zoom_range=0.2,\n",
    "      fill_mode='nearest'\n",
    "      )\n",
    "    for data in train_datagen.flow(X_train, y_train, batch_size=32):\n",
    "        yield data\n",
    "\n",
    "# preprocessed_split = rgb2gray(X_train), rgb2gray(X_val), y_train, y_val\n",
    "# Note: the augmented data is: (Generator, X_val, y_val)\n",
    "augmented_split = (create_augmented_data(preprocessed_split[0], preprocessed_split[2]),\n",
    "                   preprocessed_split[1], preprocessed_split[3])\n",
    "\n",
    "\n",
    "run_evaluation(\"model_2_2\", build_model_2_1, augmented_split, base_dir, \n",
    "               train=True, epochs=15, steps_per_epoch=2000, batch_size=32, generator=True)"
   ]
  },
  {
   "cell_type": "code",
   "execution_count": null,
   "metadata": {
    "colab": {
     "base_uri": "https://localhost:8080/",
     "height": 35
    },
    "colab_type": "code",
    "executionInfo": {
     "elapsed": 551,
     "status": "ok",
     "timestamp": 1586642148764,
     "user": {
      "displayName": "Dylan ter Veen",
      "photoUrl": "",
      "userId": "09642811623730484366"
     },
     "user_tz": -120
    },
    "id": "qW5_rHNOJF3E",
    "outputId": "30cf79b2-0294-433e-c5a1-35218158ee98"
   },
   "outputs": [],
   "source": [
    "answer_q_2_2 = \"\"\"I tried many different combinations of elements I believe would help.\n",
    "rotation because an image could be rotated slightly, which a person often does.\n",
    "changing the positioning of the image, since a number might be more to the side on one image than another.\n",
    "shear change since the angle of the picture can change, when an image is not taken orthogonal to the surface.\n",
    "zoom since an image can be closer to the digits than on other images.\n",
    "After a lot of experimentation, I got the same results as before, but without the overfitting.\n",
    "I found it quite strange that shifting and zooming influenced the model negatively,\n",
    "so I only kept the rotation and shearing of the images. \n",
    "Now, there is no more overfittng and the model is equally good.\"\"\"\n",
    "print(\"Answer is {} characters long\".format(len(answer_q_2_2)))"
   ]
  },
  {
   "cell_type": "markdown",
   "metadata": {
    "colab_type": "text",
    "id": "Nb8jrFlnbBUP"
   },
   "source": [
    "## Part 3. Model interpretation (10 points)\n",
    "### Question 3.1: Interpreting misclassifications (2 points)\n",
    "Study which errors are still made by your last model (model_2_2) by evaluating it on the test data. You do not need to retrain the model.\n",
    "* What is the accuracy of model_2_2 on the test data? Store this in 'test_accuracy_3_1'.\n",
    "* Plot the confusion matrix in 'plot_confusion_matrix' and discuss which classes are often confused.\n",
    "* Visualize the misclassifications in more depth by focusing on a single\n",
    "class (e.g. the number '2') and analyse which kinds of mistakes are made for that class. For instance, are the errors related to the background, noisiness, etc.? Implement the visualization in 'plot_misclassifications'.\n",
    "* Summarize your findings in 'answer_q_3_1'"
   ]
  },
  {
   "cell_type": "code",
   "execution_count": null,
   "metadata": {
    "colab": {
     "base_uri": "https://localhost:8080/",
     "height": 710
    },
    "colab_type": "code",
    "executionInfo": {
     "elapsed": 3216,
     "status": "ok",
     "timestamp": 1586642528224,
     "user": {
      "displayName": "Dylan ter Veen",
      "photoUrl": "",
      "userId": "09642811623730484366"
     },
     "user_tz": -120
    },
    "id": "yNg-7JsSbn2-",
    "outputId": "a2536044-91a4-4d23-a093-25b032af4d1f"
   },
   "outputs": [],
   "source": [
    "test_accuracy_3_1 = 0.91\n",
    "\n",
    "from tensorflow.keras.preprocessing import image\n",
    "\n",
    "\n",
    "model = load_model_from_file(base_dir, 'model_2_2')\n",
    "\n",
    "def what_is_data_doing():\n",
    "    \"\"\"The data seems to be imbalanced...\"\"\"\n",
    "    train_counts = np.zeros(10)\n",
    "    for t in y_train:\n",
    "        train_counts[np.argmax(t)] += 1\n",
    "    print(train_counts)\n",
    "\n",
    "    validate_counts = np.zeros(10)\n",
    "    for t in y_val:\n",
    "        validate_counts[np.argmax(t)] += 1\n",
    "    print(validate_counts)\n",
    "\n",
    "\n",
    "def plot_confusion_matrix():\n",
    "    # preprocessed_split = rgb2gray(X_train), rgb2gray(X_val), y_train, y_val\n",
    "    X_test, y_test = preprocessed_split[1], preprocessed_split[3] \n",
    "    predictions = model.predict_classes(X_test)\n",
    "\n",
    "    cfm = np.zeros((10, 10))\n",
    "    for true_array, prediction in zip(y_test, predictions):\n",
    "        true = (np.argmax(true_array) + 1) % 10\n",
    "        cfm[true, (prediction + 1) % 10] += 1\n",
    "    cfm = cfm.astype(int)\n",
    "\n",
    "    fig, ax = plt.subplots(figsize=(6, 6))\n",
    "    ax.set_xticks(np.arange(1, 10)), ax.set_yticks(np.arange(10))\n",
    "    ax.set_ylabel('True'), ax.set_xlabel('Predicted')\n",
    "    for i in range(100):\n",
    "        \n",
    "        ax.text(i // 10, i % 10, cfm[i % 10, i // 10], ha=\"center\", va=\"center\", color=\"cyan\")\n",
    "\n",
    "    im = ax.imshow(cfm, cmap='inferno')\n",
    "    plt.show()\n",
    "\n",
    "    return cfm\n",
    "\n",
    "def plot_misclassifications():\n",
    "    X_test_1, y_test_1 = preprocessed_split[1], preprocessed_split[3] \n",
    "    predictions = model.predict_classes(X_test_1)\n",
    "\n",
    "    c, w = 0, 0\n",
    "    X_correct, y_correct = [], []\n",
    "    X_wrong, y_wrong = [], []\n",
    "    for i, (true_array, prediction) in enumerate(zip(y_test_1, predictions)):\n",
    "        true = (np.argmax(true_array) + 1) % 10\n",
    "        prediction = (prediction + 1) % 10\n",
    "        if c <= 9 and prediction == 8 == true:\n",
    "            c += 1\n",
    "            X_correct.append(X_test_1[i].reshape(32, 32))\n",
    "            y_correct.append(y_test_1[i])\n",
    "            print(\"Correct: \", model.predict(np.expand_dims(X_test_1[i], axis=0)))\n",
    "        if w <= 9 and true == 8 != prediction:\n",
    "            w += 1\n",
    "            X_wrong.append(X_test_1[i].reshape(32, 32))\n",
    "            p = model.predict(np.expand_dims(X_test_1[i], axis=0))\n",
    "            y_wrong.append(p)\n",
    "            print(\"Incorrect: \", model.predict(np.expand_dims(X_test_1[i], axis=0)))\n",
    "        if 9 < c and 9 < w:\n",
    "            break\n",
    "    print(\"Correctly classified\")\n",
    "    plot_images(X_correct, y_correct, True)\n",
    "    print(\"Incorrectly classified\")\n",
    "    plot_images(X_wrong, y_wrong, True)\n",
    "\n",
    "what_is_data_doing()\n",
    "plot_confusion_matrix()\n",
    "\n",
    "plot_misclassifications()\n",
    "\n",
    "answer_q_3_1 = f\"\"\"\n",
    "The validation accuracy for model 2_2 is {test_accuracy_3_1}.\n",
    "Also, I wanted to look at how the data was distributed, which may explain difficulties in categorization of classes.\n",
    "TRhe confusion matrix shows that the diagonal most classifications are correct (the diagonal).\n",
    "The most often confused class seems to be when the true = 8, so we analyse this class.\n",
    "I print the output of the network for both correct and incorrect classifications. \n",
    "From this, we can see that the network is actually never very sure that something is classified even correctly.\n",
    "In quite some cases it is even very unsure it would be classified as 8.\n",
    "So, to me it would suggest that the network is either not trained enough or too big still. I have no idea how to \n",
    "solve this, as this result occured with many different solutions. \n",
    "\"\"\"\n",
    "print(f\"Answer is {len(answer_q_3_1)} characters long\")"
   ]
  },
  {
   "cell_type": "markdown",
   "metadata": {
    "colab_type": "text",
    "id": "EBRdBpz5Hcrx"
   },
   "source": [
    "### Question 3.2: Visualizing activations (4 points)\n",
    "* Implement a function `plot_activations()` that returns the most interesting activations (feature maps). Select the first example from the test set. Retrieve and visualize the activations of model 2_2 for that example (make sure you load that model in the function), for every filter for different convolutional layers (at different depths in the network).\n",
    "* Give an explanation (as detailed as you can) about your observations in 'answer_q_3_2'. Is your model indeed learning something useful?"
   ]
  },
  {
   "cell_type": "code",
   "execution_count": null,
   "metadata": {
    "colab": {},
    "colab_type": "code",
    "id": "TyQ-IHHcN5Qc",
    "outputId": "97198d7d-67f1-4b8c-d22b-ccada1f21cb0"
   },
   "outputs": [],
   "source": [
    "def plot_activations():\n",
    "    model = load_model_from_file(base_dir, \"model_2_2\")\n",
    "    \n",
    "    images_per_row = 16\n",
    "\n",
    "    layer_names = []\n",
    "    for layer in model.layers[:8]:\n",
    "        layer_names.append(layer.name)\n",
    "    \n",
    "    img = preprocessed_split[1][0]\n",
    "    img_tensor = np.expand_dims(img, axis=0)\n",
    "    \n",
    "    imgs, labels = [], []\n",
    "    imgs.append(img.reshape(32, 32))\n",
    "    labels.append([1])\n",
    "    plot_images(imgs + imgs, labels + labels, True)\n",
    "    \n",
    "    layer_outputs = [layer.output for layer in model.layers[:4]]\n",
    "    activation_model = models.Model(inputs=model.input, outputs=layer_outputs)\n",
    "    activations = activation_model.predict(img_tensor)\n",
    "    \n",
    "    for layer_index in [0, 2]:\n",
    "        start = layer_index\n",
    "        end = layer_index+1\n",
    "        # Now let's display our feature maps\n",
    "        for layer_name, layer_activation in zip(layer_names[start:end], activations[start:end]):\n",
    "            # This is the number of features in the feature map\n",
    "            n_features = layer_activation.shape[-1]\n",
    "\n",
    "            # The feature map has shape (1, size, size, n_features)\n",
    "            size = layer_activation.shape[1]\n",
    "\n",
    "            # We will tile the activation channels in this matrix\n",
    "            n_cols = n_features // images_per_row\n",
    "            display_grid = np.zeros((size * n_cols, images_per_row * size))\n",
    "\n",
    "            # We'll tile each filter into this big horizontal grid\n",
    "            for col in range(n_cols):\n",
    "                for row in range(images_per_row):\n",
    "                    channel_image = layer_activation[0,\n",
    "                                                     :, :,\n",
    "                                                     col * images_per_row + row]\n",
    "                    # Post-process the feature to make it visually palatable\n",
    "                    channel_image -= channel_image.mean()\n",
    "                    channel_image /= channel_image.std()\n",
    "                    channel_image *= 64\n",
    "                    channel_image += 128\n",
    "                    channel_image = np.clip(channel_image, 0, 255).astype('uint8')\n",
    "                    display_grid[col * size : (col + 1) * size,\n",
    "                                 row * size : (row + 1) * size] = channel_image\n",
    "\n",
    "            # Display the grid\n",
    "            scale = 1. / size\n",
    "            plt.figure(figsize=(scale * display_grid.shape[1],\n",
    "                                scale * display_grid.shape[0]))\n",
    "            plt.title(\"Activation of layer {} ({})\".format(layer_index+1,layer_name))\n",
    "            plt.grid(False)\n",
    "            plt.imshow(display_grid, aspect='auto', cmap='viridis')\n",
    "\n",
    "        plt.show()\n",
    "\n",
    "plot_activations()\n",
    "    \n",
    "answer_q_3_2 = \"\"\"Since there are a lot of empty filters, we know that we might be able to reduce the number of \n",
    "filters in the network. I did do this, and it turned out with the two convoluting layers at half the number of filters\n",
    "the network performed about the same. I did not include this network since I liked how this made me realise that it could\n",
    "be smaller.\n",
    "The first layer looks a lot at lighting in my opinion. I cannot make a lot of sense of the activations of the second \n",
    "convoluting layer, but it seems to me that it looks at thicker lines within the image. This could be because the images\n",
    "are of low dimension, so making a lot of sense of the dots is difficult.\"\"\"\n",
    "print(\"Answer is {} characters long\".format(len(answer_q_3_2)))"
   ]
  },
  {
   "cell_type": "markdown",
   "metadata": {
    "colab_type": "text",
    "id": "6a4XT0-7Ym25"
   },
   "source": [
    "### Question 3.3: Visualizing activations (4 points)\n",
    "* Again, select the first example from the test set, and the trained model_2_2.\n",
    "* Implement a function `plot_activation_map()` that builds and shows a class activation map for your last convolutional layer that highlights what the model is paying attention to when classifying the example.\n",
    "* If possible, superimpossible the activation map over the image. If not, plot\n",
    "them side by side. Implement a function 'plot_3_3' that returns the entire plot."
   ]
  },
  {
   "cell_type": "code",
   "execution_count": null,
   "metadata": {
    "colab": {},
    "colab_type": "code",
    "id": "vsmqYQl2ZZ4n"
   },
   "outputs": [],
   "source": [
    "def plot_3_3():\n",
    "    pass"
   ]
  },
  {
   "cell_type": "markdown",
   "metadata": {
    "colab_type": "text",
    "id": "buQLQ16EypgL"
   },
   "source": [
    "## Part 4. Transfer learning (10 points)\n",
    "### Question 4.1 Fast feature extraction with VGG16 (5 points)\n",
    "- Import the VGG16 model, pretrained on ImageNet. [See here](https://keras.io/applications/). Only import the convolutional part, not the dense layers.\n",
    "- Implement a function 'build_model_4_1` that adds a dense layer to the convolutional base, and freezes the convolutional base. Consider unfreezing the last few convolutional layers and evaluate whether that works better.\n",
    "- Train the resulting model on the *original* (colored) training data\n",
    "- Evaluate the resulting model using 'run_evaluate'. Discuss the observed performance in 'answer_q_4_1'."
   ]
  },
  {
   "cell_type": "code",
   "execution_count": null,
   "metadata": {
    "colab": {
     "base_uri": "https://localhost:8080/",
     "height": 35
    },
    "colab_type": "code",
    "executionInfo": {
     "elapsed": 609,
     "status": "ok",
     "timestamp": 1586642582353,
     "user": {
      "displayName": "Dylan ter Veen",
      "photoUrl": "",
      "userId": "09642811623730484366"
     },
     "user_tz": -120
    },
    "id": "sb53lEalNzlS",
    "outputId": "699dcc8e-97f3-4ca0-d011-986c1717c589"
   },
   "outputs": [],
   "source": [
    "from tensorflow.keras.applications import VGG16\n",
    "from tensorflow.keras.models import Sequential\n",
    "from tensorflow.keras.layers import Flatten, Dense"
   ]
  },
  {
   "cell_type": "code",
   "execution_count": null,
   "metadata": {
    "colab": {
     "base_uri": "https://localhost:8080/",
     "height": 701
    },
    "colab_type": "code",
    "executionInfo": {
     "elapsed": 1711,
     "status": "ok",
     "timestamp": 1586649022650,
     "user": {
      "displayName": "Dylan ter Veen",
      "photoUrl": "",
      "userId": "09642811623730484366"
     },
     "user_tz": -120
    },
    "id": "QXH1Z7Pqj3HW",
    "outputId": "378ef2e6-f53f-42aa-ebc4-2655a1295b1d"
   },
   "outputs": [],
   "source": [
    "def build_model_4_1():\n",
    "    conv_base = VGG16(weights='imagenet', include_top=False, input_shape=(32,32,3))\n",
    "    for layer in conv_base.layers[:15]:\n",
    "        layer.trainable = False\n",
    "\n",
    "    model = Sequential()\n",
    "    model.add(conv_base)\n",
    "    model.add(layers.Flatten())\n",
    "    model.add(Dense(256, activation='relu'))\n",
    "    model.add(Dense(10, activation='softmax'))\n",
    "\n",
    "    model.compile(optimizer='rmsprop',\n",
    "                  loss='categorical_crossentropy',\n",
    "                  metrics=['accuracy'])\n",
    "    return model\n",
    "\n",
    "run_evaluation(\"model_4_1\", build_model_4_1, evaluation_split, base_dir, \n",
    "               train=True, epochs=15, batch_size=32)"
   ]
  },
  {
   "cell_type": "code",
   "execution_count": null,
   "metadata": {
    "colab": {},
    "colab_type": "code",
    "id": "bYOXLsINKBHa"
   },
   "outputs": [],
   "source": [
    "answer_q_4_1 = \"\"\"The performance of the model was much better when \n",
    "the last convolutional layer was unfrozen. The graph does show very erratic loss function and validation accuracy,\n",
    "and also overfitting. However, my attempts to prevent overfitting and less erratic behaviour did not help, so I left it like this.\"\"\"\n",
    "print(\"Answer is {} characters long\".format(len(answer_q_4_1)))"
   ]
  },
  {
   "cell_type": "markdown",
   "metadata": {
    "colab_type": "text",
    "id": "cp60rxZTYI8O"
   },
   "source": [
    "### Question 4.2 Embeddings and pipelines (5 points)\n",
    "- Generate embeddings of the original images by running them through the trained convolutional part of model_4_1 (without the dense layer) and returning the output. Embed the training and test data and store them to disk using the helper functions below. Implement a function `store_embeddings` that loads model_4_1 and stores all necessary embeddings to file. Make sure to run it once so that the embeddings are stored (and submitted).\n",
    "- Implement a function 'generate_pipeline' that returns an scikit-learn pipeline. You can use any non-deep learning technique (eg. SVMs, RFs,...), and preprocessing technique. You can do model selection using the validation set. \n",
    "- Implement a function 'evaluate_pipeline' that evaluates a given pipeline on a given training and test set. \n",
    "- Implement a function 'evaluation_4_2' that evaluates your pipeline on the embedded training and test set (loaded from file) and returns the accuracy. \n",
    "- Describe what you did and what you observed. Report the obtained accuracy score. Can you beat your best model thus far?"
   ]
  },
  {
   "cell_type": "code",
   "execution_count": null,
   "metadata": {
    "colab": {
     "base_uri": "https://localhost:8080/",
     "height": 35
    },
    "colab_type": "code",
    "id": "IQo_zskOrs_m",
    "outputId": "f2b0314f-9953-43e6-c1c8-56f5cd7a5dcf"
   },
   "outputs": [],
   "source": [
    "import pickle\n",
    "import gzip\n",
    "\n",
    "def store_embedding(X, name):\n",
    "    with gzip.open(os.path.join(base_dir, name+'_embedding.p'), 'wb') as file_pi:\n",
    "        pickle.dump(X, file_pi)\n",
    "\n",
    "def load_embedding(name):\n",
    "    with gzip.open(os.path.join(base_dir, name+'_embedding.p'), 'rb') as file_pi:\n",
    "        return pickle.load(file_pi)\n",
    "\n",
    "def store_embeddings():\n",
    "    \"\"\" Stores all necessary embeddings to file\n",
    "    \"\"\"\n",
    "    pass\n",
    "\n",
    "def generate_pipeline():\n",
    "    \"\"\" Returns an sklearn pipeline.\n",
    "    \"\"\"\n",
    "    pass\n",
    "\n",
    "def evaluate_pipeline(pipeline, X_train, y_train, X_test, y_test):\n",
    "    \"\"\" Evaluates the given pipeline, trained on the given embedded training set and \n",
    "      evaluated on the supplied embedded test set. Returns the accuracy score.\n",
    "    \"\"\"\n",
    "    pass\n",
    "\n",
    "def evaluation_4_2(X_train, y_train, X_test, y_test):\n",
    "    \"\"\" Runs 'evaluate_pipeline' with embedded versions of the input data \n",
    "    and returns the accuracy.\n",
    "    \"\"\"\n",
    "    pass\n",
    "\n",
    "answer_q_4_2 = \"\"\"\n",
    "               Your answer \n",
    "               \"\"\"\n",
    "print(\"Pipeline:\",generate_pipeline())\n",
    "print(\"Answer is {} characters long\".format(len(answer_q_4_2)))"
   ]
  },
  {
   "cell_type": "code",
   "execution_count": null,
   "metadata": {
    "colab": {},
    "colab_type": "code",
    "id": "feJADWG-36BV"
   },
   "outputs": [],
   "source": []
  }
 ],
 "metadata": {
  "accelerator": "GPU",
  "anaconda-cloud": {},
  "colab": {
   "collapsed_sections": [],
   "machine_shape": "hm",
   "name": "Assignment 3.ipynb",
   "provenance": []
  },
  "kernelspec": {
   "display_name": "Python 3",
   "language": "python",
   "name": "python3"
  },
  "language_info": {
   "codemirror_mode": {
    "name": "ipython",
    "version": 3
   },
   "file_extension": ".py",
   "mimetype": "text/x-python",
   "name": "python",
   "nbconvert_exporter": "python",
   "pygments_lexer": "ipython3",
   "version": "3.7.1"
  }
 },
 "nbformat": 4,
 "nbformat_minor": 1
}
