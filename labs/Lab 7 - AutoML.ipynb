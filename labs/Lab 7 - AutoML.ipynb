{
 "cells": [
  {
   "cell_type": "markdown",
   "metadata": {},
   "source": [
    "# Lab 7: AutoML"
   ]
  },
  {
   "cell_type": "code",
   "execution_count": 1,
   "metadata": {},
   "outputs": [],
   "source": [
    "import logging\n",
    "import openml as oml\n",
    "from sklearn.model_selection import train_test_split\n",
    "%matplotlib inline"
   ]
  },
  {
   "cell_type": "markdown",
   "metadata": {},
   "source": [
    "## Exercise 1: Using GAMA"
   ]
  },
  {
   "cell_type": "markdown",
   "metadata": {},
   "source": [
    "### Installation"
   ]
  },
  {
   "cell_type": "markdown",
   "metadata": {},
   "source": [
    "In this exercise we will use AutoML tool [GAMA](https://github.com/PGijsbers/gama/).\n",
    "The exercise is self-contained, but if you want to know more the documentation is found [here](https://pgijsbers.github.io/gama/develop/).\n",
    "First, make sure GAMA is installed and/or check the right version is installed:"
   ]
  },
  {
   "cell_type": "code",
   "execution_count": 2,
   "metadata": {},
   "outputs": [],
   "source": [
    "!pip install --quiet gama"
   ]
  },
  {
   "cell_type": "code",
   "execution_count": 3,
   "metadata": {},
   "outputs": [
    {
     "name": "stdout",
     "output_type": "stream",
     "text": [
      "OK. You may continue :)\n"
     ]
    }
   ],
   "source": [
    "from packaging import version\n",
    "import gama\n",
    "if version.parse(gama.__version__) < version.parse(\"20.1.0\"):\n",
    "    print(\"GAMA is outdated. Please update now!\")\n",
    "else:\n",
    "    print(\"OK. You may continue :)\")"
   ]
  },
  {
   "cell_type": "markdown",
   "metadata": {},
   "source": [
    "*note*:\n",
    "> GAMA is under active development. Parts of the interface are still subject to change. We are also using small time budgets because the lab only lasts two hours. For that reason some of the results may be affected more than usual by the randomness inherent to evolutionary search."
   ]
  },
  {
   "cell_type": "markdown",
   "metadata": {},
   "source": [
    "### Standard use case on NO<sub>2</sub> data"
   ]
  },
  {
   "cell_type": "markdown",
   "metadata": {},
   "source": [
    "In lab session 1, we tested several models the predict **NO<sub>2</sub>** levels.\n",
    "Here we will use GAMA automatically find a pipeline for this task.\n",
    "First we have to fetch the data from OpenML, and split it into a train and test set:"
   ]
  },
  {
   "cell_type": "code",
   "execution_count": 6,
   "metadata": {},
   "outputs": [],
   "source": [
    "no2 = oml.datasets.get_dataset(547)\n",
    "X, y, _, _ = no2.get_data(target=no2.default_target_attribute, dataset_format='dataframe');\n",
    "X = X.drop('day',axis=1)\n",
    "X_train, X_test, y_train, y_test = train_test_split(X, y, train_size=0.8)"
   ]
  },
  {
   "cell_type": "markdown",
   "metadata": {},
   "source": [
    "We can then import and use GAMA just like a scikit-learn classifier or regressor:"
   ]
  },
  {
   "cell_type": "code",
   "execution_count": 7,
   "metadata": {},
   "outputs": [
    {
     "name": "stdout",
     "output_type": "stream",
     "text": [
      "Using GAMA version 20.1.0.\n",
      "GamaRegressor(scoring=r2,regularize_length=True,max_pipeline_length=None,random_state=None,max_total_time=60,max_eval_time=None,n_jobs=1,verbosity=20,keep_analysis_log=/Users/joa/notebooks/mlcourse/engineer/labs/no2.log,search_method=AsyncEA(),post_processing_method=BestFitPostProcessing())\n"
     ]
    }
   ],
   "source": [
    "from gama import GamaClassifier, GamaRegressor\n",
    "automl = GamaRegressor(\n",
    "    max_total_time=60, # in seconds\n",
    "    n_jobs=1,  # one subprocess\n",
    "    scoring='r2',  # metric to optimize for\n",
    "    verbosity=logging.INFO,  # to get printed updates about search progress\n",
    "    keep_analysis_log=\"no2.log\",  # name for a log file to record search output in\n",
    ")"
   ]
  },
  {
   "cell_type": "markdown",
   "metadata": {},
   "source": [
    "##### Exercise 1.1\n",
    "Starting AutoML is now as simple as calling `fit` with the training data. You can use the `score` function to get the model's score on the test set. Using GAMA, fit a model to the data and report the score."
   ]
  },
  {
   "cell_type": "code",
   "execution_count": 8,
   "metadata": {},
   "outputs": [
    {
     "name": "stdout",
     "output_type": "stream",
     "text": [
      "preprocessing took 0.0641s.\n",
      "Starting EA with new population.\n",
      "Search phase evaluated 81 individuals.\n",
      "search took 53.0513s.\n",
      "postprocess took 0.2228s.\n"
     ]
    }
   ],
   "source": [
    "# Exercise 1.1: Call fit and score\n",
    "automl.fit(X_train, y_train)"
   ]
  },
  {
   "cell_type": "code",
   "execution_count": 9,
   "metadata": {},
   "outputs": [
    {
     "data": {
      "text/plain": [
       "0.5197442219121866"
      ]
     },
     "execution_count": 9,
     "metadata": {},
     "output_type": "execute_result"
    }
   ],
   "source": [
    "automl.score(X_test, y_test)"
   ]
  },
  {
   "cell_type": "markdown",
   "metadata": {},
   "source": [
    "How does the score compare to the maximum of `0.4796` found in lab 1?\n",
    "It's likely better. Because the dataset is so small, even in one minute time GAMA can evaluate many pipelines.\n",
    "GAMA also considers more (and different) models than those from lab 1.\n",
    "\n",
    "The number of pipelines that have been evaluated should've been printed as cell output.\n",
    "But we can also have a closer look at which pipelines have been evaluated.\n",
    "We do this by parsing the log GAMA created (filename set by `keep_analysis_log`) with the builtin `GamaReport` parser:"
   ]
  },
  {
   "cell_type": "code",
   "execution_count": 10,
   "metadata": {},
   "outputs": [],
   "source": [
    "def transform_evaluations(df):\n",
    "    \"\"\" The GamaReport was initially developed for use within GAMA tooling.\n",
    "    For this reason it contains some hard to interpret, useless or internal data.\n",
    "    For clarity, we filter this out for you.\n",
    "    \"\"\"\n",
    "    df = df.drop(['id', 'length_cummax', 'relative_end'], axis=1)\n",
    "    df['length'] = -df['length']\n",
    "    return df"
   ]
  },
  {
   "cell_type": "code",
   "execution_count": 11,
   "metadata": {},
   "outputs": [
    {
     "data": {
      "text/html": [
       "<div>\n",
       "<style scoped>\n",
       "    .dataframe tbody tr th:only-of-type {\n",
       "        vertical-align: middle;\n",
       "    }\n",
       "\n",
       "    .dataframe tbody tr th {\n",
       "        vertical-align: top;\n",
       "    }\n",
       "\n",
       "    .dataframe thead th {\n",
       "        text-align: right;\n",
       "    }\n",
       "</style>\n",
       "<table border=\"1\" class=\"dataframe\">\n",
       "  <thead>\n",
       "    <tr style=\"text-align: right;\">\n",
       "      <th></th>\n",
       "      <th>n</th>\n",
       "      <th>start</th>\n",
       "      <th>duration</th>\n",
       "      <th>r2</th>\n",
       "      <th>length</th>\n",
       "      <th>pipeline</th>\n",
       "      <th>r2_cummax</th>\n",
       "    </tr>\n",
       "  </thead>\n",
       "  <tbody>\n",
       "    <tr>\n",
       "      <th>2</th>\n",
       "      <td>2</td>\n",
       "      <td>2020-04-01 11:43:49.408628</td>\n",
       "      <td>00:00:00.141432</td>\n",
       "      <td>0.473089</td>\n",
       "      <td>3.0</td>\n",
       "      <td>LinearSVR(MaxAbsScaler(PolynomialFeatures(data...</td>\n",
       "      <td>0.479288</td>\n",
       "    </tr>\n",
       "    <tr>\n",
       "      <th>41</th>\n",
       "      <td>41</td>\n",
       "      <td>2020-04-01 11:44:16.167167</td>\n",
       "      <td>00:00:00.397797</td>\n",
       "      <td>0.339547</td>\n",
       "      <td>2.0</td>\n",
       "      <td>ElasticNetCV(PolynomialFeatures(data, Polynomi...</td>\n",
       "      <td>0.577592</td>\n",
       "    </tr>\n",
       "    <tr>\n",
       "      <th>53</th>\n",
       "      <td>53</td>\n",
       "      <td>2020-04-01 11:44:23.566744</td>\n",
       "      <td>00:00:00.466447</td>\n",
       "      <td>-12.049856</td>\n",
       "      <td>2.0</td>\n",
       "      <td>LinearSVR(PolynomialFeatures(data, PolynomialF...</td>\n",
       "      <td>0.577592</td>\n",
       "    </tr>\n",
       "    <tr>\n",
       "      <th>57</th>\n",
       "      <td>57</td>\n",
       "      <td>2020-04-01 11:44:24.362592</td>\n",
       "      <td>00:00:00.365840</td>\n",
       "      <td>0.479220</td>\n",
       "      <td>1.0</td>\n",
       "      <td>ElasticNetCV(data, ElasticNetCV.l1_ratio=0.9, ...</td>\n",
       "      <td>0.577592</td>\n",
       "    </tr>\n",
       "    <tr>\n",
       "      <th>65</th>\n",
       "      <td>65</td>\n",
       "      <td>2020-04-01 11:44:26.776819</td>\n",
       "      <td>00:00:00.457241</td>\n",
       "      <td>-0.051902</td>\n",
       "      <td>3.0</td>\n",
       "      <td>ElasticNetCV(PCA(Normalizer(data, Normalizer.n...</td>\n",
       "      <td>0.577592</td>\n",
       "    </tr>\n",
       "  </tbody>\n",
       "</table>\n",
       "</div>"
      ],
      "text/plain": [
       "     n                      start        duration         r2  length  \\\n",
       "2    2 2020-04-01 11:43:49.408628 00:00:00.141432   0.473089     3.0   \n",
       "41  41 2020-04-01 11:44:16.167167 00:00:00.397797   0.339547     2.0   \n",
       "53  53 2020-04-01 11:44:23.566744 00:00:00.466447 -12.049856     2.0   \n",
       "57  57 2020-04-01 11:44:24.362592 00:00:00.365840   0.479220     1.0   \n",
       "65  65 2020-04-01 11:44:26.776819 00:00:00.457241  -0.051902     3.0   \n",
       "\n",
       "                                             pipeline  r2_cummax  \n",
       "2   LinearSVR(MaxAbsScaler(PolynomialFeatures(data...   0.479288  \n",
       "41  ElasticNetCV(PolynomialFeatures(data, Polynomi...   0.577592  \n",
       "53  LinearSVR(PolynomialFeatures(data, PolynomialF...   0.577592  \n",
       "57  ElasticNetCV(data, ElasticNetCV.l1_ratio=0.9, ...   0.577592  \n",
       "65  ElasticNetCV(PCA(Normalizer(data, Normalizer.n...   0.577592  "
      ]
     },
     "execution_count": 11,
     "metadata": {},
     "output_type": "execute_result"
    }
   ],
   "source": [
    "from gama.logging.GamaReport import GamaReport\n",
    "report = GamaReport(logfile=\"no2.log\")\n",
    "evaluations = transform_evaluations(report.evaluations)\n",
    "evaluations.sample(5).sort_values(by='n')  # Show 5 random samples from the dataframe, but sort them by order of n."
   ]
  },
  {
   "cell_type": "markdown",
   "metadata": {},
   "source": [
    "This dataframe has the following columns:\n",
    " - n: the n-th pipeline to be evaluated in search\n",
    " - start: start time of the evaluation\n",
    " - duration: the time it took to evaluate the model (in seconds)\n",
    " - r2: the r2 score of the pipeline (based on 5-fold cross-validation on the training data)\n",
    " - length: the number of steps in the pipeline times (i.e., length 2 means one preprocessing step and one estimator).\n",
    " - pipeline: the pipeline (more info below)\n",
    " - r2_cummax: the maximum r2 score found at evaluation `n`"
   ]
  },
  {
   "cell_type": "markdown",
   "metadata": {},
   "source": [
    "##### Exercise 1.2:\n",
    "Find the best pipeline of each length from the `evaluations` dataframe (or one of the best, in case of a tie)."
   ]
  },
  {
   "cell_type": "code",
   "execution_count": 12,
   "metadata": {},
   "outputs": [
    {
     "data": {
      "text/html": [
       "<div>\n",
       "<style scoped>\n",
       "    .dataframe tbody tr th:only-of-type {\n",
       "        vertical-align: middle;\n",
       "    }\n",
       "\n",
       "    .dataframe tbody tr th {\n",
       "        vertical-align: top;\n",
       "    }\n",
       "\n",
       "    .dataframe thead th {\n",
       "        text-align: right;\n",
       "    }\n",
       "</style>\n",
       "<table border=\"1\" class=\"dataframe\">\n",
       "  <thead>\n",
       "    <tr style=\"text-align: right;\">\n",
       "      <th></th>\n",
       "      <th>n</th>\n",
       "      <th>start</th>\n",
       "      <th>duration</th>\n",
       "      <th>r2</th>\n",
       "      <th>length</th>\n",
       "      <th>pipeline</th>\n",
       "      <th>r2_cummax</th>\n",
       "    </tr>\n",
       "  </thead>\n",
       "  <tbody>\n",
       "    <tr>\n",
       "      <th>28</th>\n",
       "      <td>28</td>\n",
       "      <td>2020-04-01 11:44:11.265527</td>\n",
       "      <td>00:00:00.340073</td>\n",
       "      <td>0.577592</td>\n",
       "      <td>2.0</td>\n",
       "      <td>GradientBoostingRegressor(PolynomialFeatures(d...</td>\n",
       "      <td>0.577592</td>\n",
       "    </tr>\n",
       "    <tr>\n",
       "      <th>48</th>\n",
       "      <td>48</td>\n",
       "      <td>2020-04-01 11:44:19.312907</td>\n",
       "      <td>00:00:01.151389</td>\n",
       "      <td>0.542797</td>\n",
       "      <td>1.0</td>\n",
       "      <td>RandomForestRegressor(data, RandomForestRegres...</td>\n",
       "      <td>0.577592</td>\n",
       "    </tr>\n",
       "    <tr>\n",
       "      <th>12</th>\n",
       "      <td>12</td>\n",
       "      <td>2020-04-01 11:43:53.681292</td>\n",
       "      <td>00:00:00.792249</td>\n",
       "      <td>0.516778</td>\n",
       "      <td>3.0</td>\n",
       "      <td>ExtraTreesRegressor(VarianceThreshold(Polynomi...</td>\n",
       "      <td>0.517488</td>\n",
       "    </tr>\n",
       "    <tr>\n",
       "      <th>54</th>\n",
       "      <td>54</td>\n",
       "      <td>2020-04-01 11:44:24.042641</td>\n",
       "      <td>00:00:00.077464</td>\n",
       "      <td>0.418263</td>\n",
       "      <td>4.0</td>\n",
       "      <td>LinearSVR(SelectFwe(MaxAbsScaler(PolynomialFea...</td>\n",
       "      <td>0.577592</td>\n",
       "    </tr>\n",
       "  </tbody>\n",
       "</table>\n",
       "</div>"
      ],
      "text/plain": [
       "     n                      start        duration        r2  length  \\\n",
       "28  28 2020-04-01 11:44:11.265527 00:00:00.340073  0.577592     2.0   \n",
       "48  48 2020-04-01 11:44:19.312907 00:00:01.151389  0.542797     1.0   \n",
       "12  12 2020-04-01 11:43:53.681292 00:00:00.792249  0.516778     3.0   \n",
       "54  54 2020-04-01 11:44:24.042641 00:00:00.077464  0.418263     4.0   \n",
       "\n",
       "                                             pipeline  r2_cummax  \n",
       "28  GradientBoostingRegressor(PolynomialFeatures(d...   0.577592  \n",
       "48  RandomForestRegressor(data, RandomForestRegres...   0.577592  \n",
       "12  ExtraTreesRegressor(VarianceThreshold(Polynomi...   0.517488  \n",
       "54  LinearSVR(SelectFwe(MaxAbsScaler(PolynomialFea...   0.577592  "
      ]
     },
     "execution_count": 12,
     "metadata": {},
     "output_type": "execute_result"
    }
   ],
   "source": [
    "# Exercise 1.2: Find the best pipeline of each length\n",
    "evaluations.sort_values('r2', ascending=False).drop_duplicates(['length'])"
   ]
  },
  {
   "cell_type": "markdown",
   "metadata": {},
   "source": [
    "To visualize the progress of search, plot:\n",
    " - The `r2` score for each evaluation as a function of `n`, preferably only for those evaluations with an `r2` score of at least 0.\n",
    " - The maximum `r2` score as a function of `n`"
   ]
  },
  {
   "cell_type": "code",
   "execution_count": 13,
   "metadata": {},
   "outputs": [
    {
     "data": {
      "text/plain": [
       "<matplotlib.axes._subplots.AxesSubplot at 0x11a97cda0>"
      ]
     },
     "execution_count": 13,
     "metadata": {},
     "output_type": "execute_result"
    },
    {
     "data": {
      "image/png": "[encoded data removed]",
      "text/plain": [
       "<Figure size 432x288 with 1 Axes>"
      ]
     },
     "metadata": {
      "needs_background": "light"
     },
     "output_type": "display_data"
    },
    {
     "data": {
      "image/png": "[encoded data removed]",
      "text/plain": [
       "<Figure size 432x288 with 1 Axes>"
      ]
     },
     "metadata": {
      "needs_background": "light"
     },
     "output_type": "display_data"
    }
   ],
   "source": [
    "evaluations[evaluations['r2'] > 0].plot.scatter(x='n', y='r2')\n",
    "evaluations.plot.line(x='n', y='r2_cummax')"
   ]
  },
  {
   "cell_type": "markdown",
   "metadata": {},
   "source": [
    "### Automatic Ensembles on Covertype"
   ]
  },
  {
   "cell_type": "markdown",
   "metadata": {},
   "source": [
    "Next we will take a look at a classification problem, and change the AutoML pipeline.\n",
    "\n",
    "##### Exercise 1.3:\n",
    "Download the covertype dataset (id: 180) that we saw in lab 3.\n",
    "First take a stratified subsample of 50% of the data (using `train_test_split`).\n",
    "Then split that data into a train and test set (50%/50%). \n",
    "The train and test sets are now both 25% of the total data."
   ]
  },
  {
   "cell_type": "markdown",
   "metadata": {},
   "source": [
    "Initialize a GamaClassifier, similarly to how the GamaRegressor was initialized, but:\n",
    " - specify the maximum runtime to at least 3 minutes,\n",
    " - set `n_jobs` to 2,\n",
    " - set the metric to accuracy,\n",
    " - specify a different log name,\n",
    "\n",
    "Then start search (`fit`) and evaluate the model on the test data (`score`).\n",
    "Take a short break once it's all running, or ask us a question about the lecture! :)"
   ]
  },
  {
   "cell_type": "code",
   "execution_count": 14,
   "metadata": {},
   "outputs": [],
   "source": [
    "##### Exercise 1.3: Split the data and run GAMA\n",
    "trees = oml.datasets.get_dataset(180)\n",
    "X,y,_,_ = trees.get_data(target=trees.default_target_attribute, dataset_format='dataframe')\n",
    "X_sub, _, y_sub, _ = train_test_split(X, y, stratify=y, train_size=0.5)\n",
    "X_train, X_test, y_train, y_test = train_test_split(X_sub, y_sub, stratify=y_sub, train_size=0.5)"
   ]
  },
  {
   "cell_type": "code",
   "execution_count": 20,
   "metadata": {},
   "outputs": [
    {
     "name": "stdout",
     "output_type": "stream",
     "text": [
      "Using GAMA version 20.1.0.\n",
      "GamaClassifier(scoring=accuracy,regularize_length=True,max_pipeline_length=None,random_state=None,max_total_time=180,max_eval_time=None,n_jobs=2,verbosity=20,keep_analysis_log=/Users/joa/notebooks/mlcourse/engineer/labs/trees.log,search_method=AsyncEA(),post_processing_method=BestFitPostProcessing())\n"
     ]
    }
   ],
   "source": [
    "automl = GamaClassifier(\n",
    "    max_total_time=180,\n",
    "    n_jobs=2,\n",
    "    scoring='accuracy',\n",
    "    verbosity=logging.INFO,  # to get printed updates about search progress\n",
    "    keep_analysis_log=\"trees.log\",  # name for a log file to record search output in\n",
    ")"
   ]
  },
  {
   "cell_type": "code",
   "execution_count": 21,
   "metadata": {},
   "outputs": [
    {
     "name": "stdout",
     "output_type": "stream",
     "text": [
      "preprocessing took 1.4381s.\n",
      "Starting EA with new population.\n",
      "Search phase evaluated 19 individuals.\n",
      "search took 160.0395s.\n",
      "postprocess took 1.8072s.\n"
     ]
    }
   ],
   "source": [
    "automl.fit(X_train, y_train)"
   ]
  },
  {
   "cell_type": "code",
   "execution_count": 22,
   "metadata": {},
   "outputs": [
    {
     "data": {
      "text/plain": [
       "0.5294224219146315"
      ]
     },
     "execution_count": 22,
     "metadata": {},
     "output_type": "execute_result"
    }
   ],
   "source": [
    "automl.score(X_test, y_test)"
   ]
  },
  {
   "cell_type": "markdown",
   "metadata": {},
   "source": [
    "How did the model perform? In lab 3 we had about 80% accuracy after tuning the number of trees in the RandomForest. How does this model compare?\n",
    "\n",
    "The covertype dataset is quite large, and three minutes is not much time. For this reason we downsampled such that our training set contained only 25% of the original data. In our experience with these constraints, we find that GAMA can produce models with 80% accuracy, but it's also possible to see worse results. With more time we could search longer and evaluate more models on more of the data."
   ]
  },
  {
   "cell_type": "markdown",
   "metadata": {},
   "source": [
    "##### Exercise 1.4\n",
    "\n",
    "Up to this point GAMA has been using the best found pipeline to make predictions on the test data.\n",
    "However, we saw that constructing ensembles of models can be a useful tool to gain additional performance.\n",
    "GAMA can be configured to automatically build an ensemble from the models it found during search. To do this you should initialize GAMA with the `post_processing_method` specified:"
   ]
  },
  {
   "cell_type": "code",
   "execution_count": 25,
   "metadata": {},
   "outputs": [
    {
     "name": "stdout",
     "output_type": "stream",
     "text": [
      "Using GAMA version 20.1.0.\n",
      "GamaClassifier(scoring=accuracy,regularize_length=True,max_pipeline_length=None,random_state=None,max_total_time=360,max_eval_time=None,n_jobs=2,verbosity=20,keep_analysis_log=/Users/joa/notebooks/mlcourse/engineer/labs/covtype_ensemble.log,search_method=AsyncEA(),post_processing_method=EnsemblePostProcessing(ensemble_size=25,hillclimb_size=10000,max_models=200))\n"
     ]
    }
   ],
   "source": [
    "from gama.postprocessing import EnsemblePostProcessing\n",
    "\n",
    "automl_with_ensemble = GamaClassifier(\n",
    "    max_total_time=360,\n",
    "    n_jobs=2,\n",
    "    verbosity=logging.INFO,\n",
    "    keep_analysis_log=\"covtype_ensemble.log\",\n",
    "    scoring='accuracy',\n",
    "    post_processing_method=EnsemblePostProcessing(),  # Specify to build an ensemble after search\n",
    ")"
   ]
  },
  {
   "cell_type": "markdown",
   "metadata": {},
   "source": [
    "Again, start search and record the test set score:"
   ]
  },
  {
   "cell_type": "code",
   "execution_count": 26,
   "metadata": {},
   "outputs": [
    {
     "name": "stdout",
     "output_type": "stream",
     "text": [
      "preprocessing took 0.6441s.\n",
      "Starting EA with new population.\n",
      "Search phase evaluated 23 individuals.\n",
      "search took 251.0439s.\n",
      "Not downsampling because only 10000 samples were stored.\n",
      "Ensemble size 10 , best score: 0.6063\n",
      "Ensemble size 11 , best score: 0.6456\n",
      "Ensemble size 12 , best score: 0.6542\n",
      "Ensemble size 13 , best score: 0.6606\n",
      "Ensemble size 14 , best score: 0.6663\n",
      "Ensemble size 15 , best score: 0.6665\n",
      "Ensemble size 16 , best score: 0.6668\n",
      "Ensemble size 17 , best score: 0.6665\n",
      "Ensemble size 18 , best score: 0.6688\n",
      "Ensemble size 19 , best score: 0.667\n",
      "Ensemble size 20 , best score: 0.6671\n",
      "Ensemble size 21 , best score: 0.6686\n",
      "Ensemble size 22 , best score: 0.6672\n",
      "Ensemble size 23 , best score: 0.6674\n",
      "Ensemble size 24 , best score: 0.6689\n",
      "Ensemble size 25 , best score: 0.6673\n",
      "Building ensemble took 1.2759668827056885s. Fitting ensemble with timeout 107.03508734703064s.\n",
      "postprocess took 1.2786s.\n"
     ]
    }
   ],
   "source": [
    "##### Exercise 1.4\n",
    "automl_with_ensemble.fit(X_train, y_train)"
   ]
  },
  {
   "cell_type": "code",
   "execution_count": 27,
   "metadata": {},
   "outputs": [
    {
     "name": "stdout",
     "output_type": "stream",
     "text": [
      "ensemble score: 0.6703\n"
     ]
    }
   ],
   "source": [
    "score = automl_with_ensemble.score(X_test, y_test)\n",
    "print(\"ensemble score: {:.4f}\".format(score))"
   ]
  },
  {
   "cell_type": "markdown",
   "metadata": {},
   "source": [
    "##### Exercise 1.5\n",
    "Note that this run was independent from the previous run. This means it might have found better or worse pipelines than last search. We cannot compare the performance of this ensemble directly to the previous best score. Run the code cell below to see how the single best pipeline would have scored *this* run:"
   ]
  },
  {
   "cell_type": "code",
   "execution_count": null,
   "metadata": {},
   "outputs": [],
   "source": [
    "# Currently post-hoc switching of post-processing method is not supported directly.\n",
    "# We work around this:\n",
    "from sklearn.metrics import log_loss\n",
    "\n",
    "best, = automl_with_ensemble._evaluation_library.n_best(1)\n",
    "best_pipeline = best.individual.pipeline\n",
    "best_pipeline.fit(X_train, y_train)\n",
    "test_score = best_pipeline.score(X_test, y_test)\n",
    "print(\"train score: {:.3f}, test score: {:.3f}\".format(best.score[0], test_score))"
   ]
  },
  {
   "cell_type": "markdown",
   "metadata": {},
   "source": [
    "In this case, did it improve the performance? Was the improvement big?\n",
    "\n",
    "Normally the ensemble should perform better, though the benefit can be very marginal.\n",
    "GAMA creates an Ensemble through weighting votes of pipelines evaluated in search (for the interested, the precise procedure is described in [Caruana et al. (2004)](https://www.cs.cornell.edu/~caruana/ctp/ct.papers/caruana.icml04.icdm06long.pdf)).\n",
    "In the scenario and constraints we have set up just now, creating a good ensemble is hard.\n",
    "Can you think of some reason(s) why?"
   ]
  },
  {
   "cell_type": "markdown",
   "metadata": {},
   "source": [
    "> Type your answer in this markdown cell."
   ]
  },
  {
   "cell_type": "markdown",
   "metadata": {},
   "source": [
    "Solution:\n",
    "> ..."
   ]
  },
  {
   "cell_type": "markdown",
   "metadata": {},
   "source": [
    "### Image Recognition with AutoML"
   ]
  },
  {
   "cell_type": "markdown",
   "metadata": {},
   "source": [
    "> *note*: If you are running out of time, or are experiencing errors below, ignore the coding assigment. We are aware that in some scenarios GAMA halts on this example."
   ]
  },
  {
   "cell_type": "markdown",
   "metadata": {},
   "source": [
    "##### Exercise 1.6\n",
    "AutoML is still not (yet) a one-tool-fits-all solution.\n",
    "GAMA was designed to deal with tabular data.\n",
    "Last lab session you trained ConvNets to classify images in the CIFAR dataset.\n",
    "The very first model already had at least 60% accuracy, the best model had ~83% accuracy.\n",
    "We will now compare those results to GAMA:\n",
    " - download the CIFAR-10 dataset from OpenML (dataset id: 40926)\n",
    " - split the data into a train and test set (80%/20%)\n",
    " - run GAMA optimizing for accuracy, with n_jobs=1 and (at least) 5 minutes of runtime"
   ]
  },
  {
   "cell_type": "code",
   "execution_count": 3,
   "metadata": {},
   "outputs": [],
   "source": [
    "##### Exercise 1.6"
   ]
  },
  {
   "cell_type": "markdown",
   "metadata": {},
   "source": [
    "Results will vary wildly.\n",
    "Running it a few times can give scores ranging from ~10% accuracy to ~35% accuracy. \n",
    "More time will lead to better results, but it will not approach ConvNet levels of performance.\n",
    "Why do you think this is?"
   ]
  },
  {
   "cell_type": "markdown",
   "metadata": {},
   "source": [
    "> Type your answer in this markdown cell."
   ]
  },
  {
   "cell_type": "markdown",
   "metadata": {},
   "source": [
    "Solution:\n",
    "> ..."
   ]
  },
  {
   "cell_type": "markdown",
   "metadata": {},
   "source": [
    "## Exercise 2\n",
    "There are AutoML tools that are specifically designed to automatically learn neural network architectures. For example [AutoKeras](https://autokeras.com/) (Texas A&M University), [AutoGluon](https://autogluon.mxnet.io/) (commercial, Amazon), and [Cloud AutoML](https://cloud.google.com/automl) (commercial, Google). If you are eager, do go and compare your own ConvNet to these AutoML systems intead!"
   ]
  },
  {
   "cell_type": "code",
   "execution_count": null,
   "metadata": {},
   "outputs": [],
   "source": []
  }
 ],
 "metadata": {
  "kernelspec": {
   "display_name": "Python 3",
   "language": "python",
   "name": "python3"
  },
  "language_info": {
   "codemirror_mode": {
    "name": "ipython",
    "version": 3
   },
   "file_extension": ".py",
   "mimetype": "text/x-python",
   "name": "python",
   "nbconvert_exporter": "python",
   "pygments_lexer": "ipython3",
   "version": "3.7.3"
  }
 },
 "nbformat": 4,
 "nbformat_minor": 4
}
