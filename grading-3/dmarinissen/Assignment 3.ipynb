{
 "cells": [
  {
   "cell_type": "code",
   "execution_count": 1,
   "metadata": {
    "colab": {},
    "colab_type": "code",
    "id": "uPiqHyC_MuLL"
   },
   "outputs": [],
   "source": [
    "# Fill in your name using the format below and student ID number\n",
    "your_name = \"MARINISSEN, DENNIS\"\n",
    "student_id = \"0911604\""
   ]
  },
  {
   "cell_type": "code",
   "execution_count": 2,
   "metadata": {
    "colab": {},
    "colab_type": "code",
    "id": "IlFvjNI8ouQ9"
   },
   "outputs": [],
   "source": [
    "# Before submission, set this to True so that you can render and verify this notebook without training deep learning models.\n",
    "# Any deep learning models will be trained from file instead.\n",
    "stop_training = True"
   ]
  },
  {
   "cell_type": "code",
   "execution_count": 3,
   "metadata": {
    "colab": {
     "base_uri": "https://localhost:8080/",
     "height": 68
    },
    "colab_type": "code",
    "executionInfo": {
     "elapsed": 11365,
     "status": "ok",
     "timestamp": 1587367827575,
     "user": {
      "displayName": "Dennis Marinissen",
      "photoUrl": "",
      "userId": "12528101557848281448"
     },
     "user_tz": -120
    },
    "id": "-rAuraOsM22r",
    "outputId": "fc568de3-426e-4361-b2f7-8e12e271c0d1"
   },
   "outputs": [],
   "source": [
    "# # Uncomment the following line to run in Google Colab\n",
    "# !pip install --quiet openml "
   ]
  },
  {
   "cell_type": "code",
   "execution_count": 4,
   "metadata": {
    "colab": {
     "base_uri": "https://localhost:8080/",
     "height": 34
    },
    "colab_type": "code",
    "executionInfo": {
     "elapsed": 13375,
     "status": "ok",
     "timestamp": 1587367829592,
     "user": {
      "displayName": "Dennis Marinissen",
      "photoUrl": "",
      "userId": "12528101557848281448"
     },
     "user_tz": -120
    },
    "id": "OS-d8ziENCs1",
    "outputId": "3b3ff6d5-e422-456c-ddc4-eac83a425295"
   },
   "outputs": [],
   "source": [
    "# # Uncomment the following line to run in Google Colab\n",
    "# #%tensorflow_version 2.x\n",
    "# import tensorflow as tf\n",
    "# tf.config.experimental.list_physical_devices('GPU') # Check whether GPUs are available"
   ]
  },
  {
   "cell_type": "code",
   "execution_count": 5,
   "metadata": {
    "colab": {},
    "colab_type": "code",
    "id": "-iTn6RmNMuLT"
   },
   "outputs": [],
   "source": [
    "%matplotlib inline\n",
    "import openml as oml\n",
    "import numpy as np\n",
    "import matplotlib.pyplot as plt\n",
    "import sklearn"
   ]
  },
  {
   "cell_type": "code",
   "execution_count": 6,
   "metadata": {
    "colab": {
     "base_uri": "https://localhost:8080/",
     "height": 34
    },
    "colab_type": "code",
    "executionInfo": {
     "elapsed": 13365,
     "status": "ok",
     "timestamp": 1587367829594,
     "user": {
      "displayName": "Dennis Marinissen",
      "photoUrl": "",
      "userId": "12528101557848281448"
     },
     "user_tz": -120
    },
    "id": "brth0Z_TMuLZ",
    "outputId": "a8358a83-3c80-4407-8f38-9cd50063808c"
   },
   "outputs": [
    {
     "name": "stdout",
     "output_type": "stream",
     "text": [
      "Hi DENNIS, Looks good. You may continue :)\n"
     ]
    }
   ],
   "source": [
    "from packaging import version\n",
    "import sklearn\n",
    "import tensorflow\n",
    "sklearn_version = sklearn.__version__\n",
    "tensorflow_version = tensorflow.__version__\n",
    "if version.parse(sklearn_version) < version.parse(\"0.22.0\"):\n",
    "    print(\"scikit-learn is outdated. Please update now!\")\n",
    "if version.parse(tensorflow_version) < version.parse(\"2.1.0\"):\n",
    "    print(\"Tensorflow is outdated. This is version {}. Please update to 2.1.\".format(tensorflow_version))\n",
    "else:\n",
    "    print(\"Hi{}, Looks good. You may continue :)\".format(your_name.split(\",\")[1]))"
   ]
  },
  {
   "cell_type": "markdown",
   "metadata": {
    "colab_type": "text",
    "id": "7kdeFjIGMuLv"
   },
   "source": [
    "# Assignment 3"
   ]
  },
  {
   "cell_type": "markdown",
   "metadata": {
    "colab_type": "text",
    "id": "ljhP8DXu-H4j"
   },
   "source": [
    "### Choice of libraries\n",
    "We recommend to use Tensorflow in this assignment since that is what we covered in the labs. If you feel confident using PyTorch (and Skorch for the scikit-learn wrapper), that is allowed too, as long as you are able to implement the requested functions and return the requested data. Read the assignment carefully and ensure that you can. Note that you may also need to do a bit more work to implement certain helper functions and wrappers."
   ]
  },
  {
   "cell_type": "markdown",
   "metadata": {
    "colab_type": "text",
    "id": "-BQG9Kp2EcPc"
   },
   "source": [
    "### Storing and submitting files\n",
    "You must be able to store your models and submit them to GitHub Classroom. The evaluation functions used in this notebook will automatically store models for you.\n",
    "\n",
    "If you want to run and solve the notebook on your local machine/laptop, fill in the path 'base_dir' to your assignment folder into the next cell.\n",
    "\n",
    "If you use Colab, we recommend that you link it to your Google Drive:  \n",
    "* Upload the assignment folder to your Google Drive (+ New > Folder Upload)\n",
    "* Open Colab in a browser, open the 'Files' menu in the left sidebar, and click 'Mount Drive'\n",
    "  * At this point you may need to authenticate\n",
    "* Fill in the path to your assignment folder below\n",
    "  * It's likely '/content/drive/My Drive/assignment-3-yourname'"
   ]
  },
  {
   "cell_type": "code",
   "execution_count": 7,
   "metadata": {
    "colab": {},
    "colab_type": "code",
    "id": "aO6jTIIFHQNU"
   },
   "outputs": [],
   "source": [
    "# #base_dir = '/content/drive/My Drive/TestAssignment' # For Google Colab\n",
    "# base_dir = '/content/drive/My Drive/JupyterNotebooks/2IMM15'\n",
    "base_dir = '/Users/Dennis/Documents/Uni/Vakken/2IMM15_Web_information_retrieval_and_data_mining/Assignment 3/models'\n",
    "\n"
   ]
  },
  {
   "cell_type": "code",
   "execution_count": 8,
   "metadata": {
    "colab": {
     "base_uri": "https://localhost:8080/",
     "height": 122
    },
    "colab_type": "code",
    "executionInfo": {
     "elapsed": 32186,
     "status": "ok",
     "timestamp": 1587367848430,
     "user": {
      "displayName": "Dennis Marinissen",
      "photoUrl": "",
      "userId": "12528101557848281448"
     },
     "user_tz": -120
    },
    "id": "HKaM3mwrODBR",
    "outputId": "7eaa71aa-3d4b-4c4e-f472-9c88ca41c3fc"
   },
   "outputs": [],
   "source": [
    "# #Uncomment to link Colab notebook to Google Drive\n",
    "# from google.colab import drive\n",
    "# drive.mount('/content/drive')"
   ]
  },
  {
   "cell_type": "markdown",
   "metadata": {
    "colab_type": "text",
    "id": "D_BDIpWh92Dk"
   },
   "source": [
    "### Using GPUs\n",
    "While you can solve this assignment on a CPU, using a GPU will speed things up training quite a bit. If you have a local GPU, you can use that. If you don't, we recommend Google Colab. When you are in Colab:\n",
    "* In Runtime > Change runtime type, select the GPU under Hardware Accelerator\n",
    "* Run the 3rd cell on the top of this notebook to check that the GPU is found.\n",
    "\n",
    "Note that Colab may not always have GPUs ready all the time, and may deny you a GPU when you have used them a lot. When you are temporarily 'locked out', you can switch to a non-GPU runtime or to a local instance of Jupyter running on your machine."
   ]
  },
  {
   "cell_type": "markdown",
   "metadata": {
    "colab_type": "text",
    "id": "hq6oPNF546_5"
   },
   "source": [
    "### Constraints\n",
    "* Your stored models should not be larger than 100MB when stored in file. GitHub will not allow uploading if they are.\n",
    "* When questions ask you to provide an explanation, it should be less than 500\n",
    "characters long. Some questions have a higher limit. Always answer in full sentences.\n",
    "* Don't train for more than 100 epochs, i.e. don't throw excessing computational resources at the problem. If your model hasn't converged by then, think of ways it could be made to converge faster. In this assignment you are not after the last tiny improvement, you can stop when learning curves flatten out. Do at least 5 epochs to get a reasonable learning curve."
   ]
  },
  {
   "cell_type": "markdown",
   "metadata": {
    "colab_type": "text",
    "id": "h8wBDNspEvcY"
   },
   "source": [
    "### Grading\n",
    "Grading is based on the following aspects:\n",
    "* Correctness in answering the question. Carefully read the question and answer\n",
    "what is asked for. Train your models on the correct data. It should be clear on which data should be trained, but ask when in doubt. When something is not defined (e.g. the number of epochs or batch size), you can freely choose them.\n",
    "* Clarity of your explanations. Write short but precise descriptions of what you did and why. Give short but clear explanations of the observed performance. \n",
    "After your explanation, your approach and model should make perfect sense. Refrain from using symbols as substitute for words in your explanation (e.g. no: \"More layers -> more parameters\" yes: \"More layers mean more parameters\"). \n",
    "* Part of your grade depends on how well your model performs. When the question says 'you should at least get x%', x% will give you a good but not the maximal grade. You can get the full grade when you are close to what is the expected maximal performance. You don't need to invest lots of effort into the last tiny improvement, though. Unless specified, we look at the accuracy on the validation set. If your learning curves are very erratic we'll compute a score based on the smoothed curves (i.e. single peaks don't count).\n",
    "* The weight of each question is indicated. Take this into account when planning your time."
   ]
  },
  {
   "cell_type": "markdown",
   "metadata": {
    "colab_type": "text",
    "id": "KNyA5dEpR00Z"
   },
   "source": [
    "### Other tips\n",
    "* Don't wait until the last minute to do the assignment. The models take time to train, most questions will require some thinking, and some require you to read up on some new concepts.\n",
    "* Take care that you upload the results as requested. You need to submit not only the notebooks but also the trained models and learning curves (training histories). Be sure to run the verification script and check that all the results are included.\n",
    "* We provide an evaluation function that also stored models to disk. After you are done training the model, set the 'train' attribute to False so that the model doesn't train again (and loads from file instead) when you restart and rerun your notebook.\n",
    "* Explore. For many questions we'll ask you to explain your model design decisions. You cannot magically know the best solutions but you can experiment\n",
    "based on your understanding and make decisions based on both your knowledge and experiments. Your explanation is at least as important as the performance of your model.\n",
    "* Be original. We will check for plagiarism between student submissions."
   ]
  },
  {
   "cell_type": "markdown",
   "metadata": {
    "colab_type": "text",
    "id": "k0nKOZrPJTn8"
   },
   "source": [
    "### Data\n",
    "The [Street View House Numbers Dataset](https://www.openml.org/d/41081) contains 32-by-32 RGB images centered around a single digit of a house number appearing in Google Street View. Many of the images do contain some distractors at the sides. It consists of 10 classes, 1 for each digit. Digit '1' has label 1, '9' has label 9 and '0' has label 10. Your goal is to build models that recognize the correct digit."
   ]
  },
  {
   "cell_type": "markdown",
   "metadata": {
    "colab_type": "text",
    "id": "B8sOA7mEKOSp"
   },
   "source": [
    "If you use Colab, uncomment the following to cache the dataset inside the VM. This will make reloading faster if you need to restart your notebook. After longer periods of inactivity, your VM may be recycled and the cache lost, in which case the dataset will be downloaded again. Also note that this dataset is about 1Gb large, and will take even more space in memory. You may need to switch to a high-RAM environment (Colab will ask you if you hit the limit)."
   ]
  },
  {
   "cell_type": "code",
   "execution_count": 9,
   "metadata": {
    "colab": {},
    "colab_type": "code",
    "id": "Wu9s9dnlJMP0"
   },
   "outputs": [],
   "source": [
    "# # Use OpenML caching in Colab\n",
    "# # On your local machine, it will store data in a hidden folder '~/.openml'\n",
    "# import os\n",
    "# oml.config.cache_directory = os.path.expanduser('/content/cache')"
   ]
  },
  {
   "cell_type": "code",
   "execution_count": 10,
   "metadata": {
    "colab": {},
    "colab_type": "code",
    "id": "_3o_TT8SMuLy"
   },
   "outputs": [],
   "source": [
    "# Download Streetview data. Takes a while (several minutes), and quite a bit of\n",
    "# memory when it needs to download. After caching it loads faster.\n",
    "SVHN = oml.datasets.get_dataset(41081)\n",
    "X, y, _, _ = SVHN.get_data(dataset_format='array',\n",
    "    target=SVHN.default_target_attribute)"
   ]
  },
  {
   "cell_type": "markdown",
   "metadata": {
    "colab_type": "text",
    "id": "EPwHgeC3MuMI"
   },
   "source": [
    "Reshape, sample and split the data"
   ]
  },
  {
   "cell_type": "code",
   "execution_count": 11,
   "metadata": {
    "colab": {},
    "colab_type": "code",
    "id": "3C14250QOGpL"
   },
   "outputs": [],
   "source": [
    "from tensorflow.keras.utils import to_categorical\n",
    "\n",
    "Xr = X.reshape((len(X),32,32,3))\n",
    "Xr = Xr / 255.\n",
    "yr = to_categorical(y)"
   ]
  },
  {
   "cell_type": "code",
   "execution_count": 12,
   "metadata": {
    "colab": {},
    "colab_type": "code",
    "id": "sbxtRoDcMuMK"
   },
   "outputs": [],
   "source": [
    "# DO NOT EDIT. DO NOT OVERWRITE THESE VARIABLES.\n",
    "from sklearn.model_selection import train_test_split\n",
    "# We do an 80-20 split for the training and test set, and then again a 80-20 split into training and validation data\n",
    "X_train_all, X_test, y_train_all, y_test = train_test_split(Xr,yr, stratify=yr, train_size=0.8, test_size=0.2, random_state=1)\n",
    "X_train, X_val, y_train, y_val = train_test_split(X_train_all,y_train_all, stratify=y_train_all, train_size=0.8, random_state=1)\n",
    "evaluation_split = X_train, X_val, y_train, y_val"
   ]
  },
  {
   "cell_type": "markdown",
   "metadata": {
    "colab_type": "text",
    "id": "gUAf28y2O6ks"
   },
   "source": [
    "Check the formatting - and what the data looks like"
   ]
  },
  {
   "cell_type": "code",
   "execution_count": 13,
   "metadata": {
    "colab": {
     "base_uri": "https://localhost:8080/",
     "height": 141
    },
    "colab_type": "code",
    "executionInfo": {
     "elapsed": 460917,
     "status": "ok",
     "timestamp": 1587368277193,
     "user": {
      "displayName": "Dennis Marinissen",
      "photoUrl": "",
      "userId": "12528101557848281448"
     },
     "user_tz": -120
    },
    "id": "QEWsr56hMuL8",
    "outputId": "b89782d9-b1d0-4b02-fb23-34f1553c91f5"
   },
   "outputs": [
    {
     "data": {
      "image/png": "[encoded data removed]",
      "text/plain": [
       "<Figure size 720x360 with 5 Axes>"
      ]
     },
     "metadata": {},
     "output_type": "display_data"
    }
   ],
   "source": [
    "from random import randint\n",
    "\n",
    "# Takes a list of row ids, and plots the corresponding images\n",
    "# Use grayscale=True for plotting grayscale images\n",
    "def plot_images(X, y, grayscale=False):\n",
    "    fig, axes = plt.subplots(1, len(X),  figsize=(10, 5))\n",
    "    for n in range(len(X)):\n",
    "        if grayscale:\n",
    "            axes[n].imshow(X[n], cmap='gray')\n",
    "        else:\n",
    "            axes[n].imshow(X[n])\n",
    "        axes[n].set_xlabel((np.argmax(y[n])+1)%10) # Label is index+1\n",
    "        axes[n].set_xticks(()), axes[n].set_yticks(())\n",
    "    plt.show();\n",
    "\n",
    "images = [randint(0,len(X_train)) for i in range(5)]\n",
    "X_random = [X_train[i] for i in images]\n",
    "y_random = [y_train[i] for i in images]\n",
    "plot_images(X_random, y_random)"
   ]
  },
  {
   "cell_type": "markdown",
   "metadata": {
    "colab_type": "text",
    "id": "yUQ22FEawd-J"
   },
   "source": [
    "### Evaluation harness\n",
    "We provide an evaluation function 'run_evaluation' that you should use to \n",
    "evaluate all your models. It also stores the trained models to disk so that\n",
    "your submission can be quickly verified, as well as to avoid having to train\n",
    "them over and over again. Your last run of the evaluation function (the last one\n",
    "stored to file), is the one that will be evaluated. The 'train' argument indicates whether to train or to load from disk. We have provided helper functions for saving and loading models to/from file, assuming you use TensorFlow. If you use PyTorch you'll have to adapt them."
   ]
  },
  {
   "cell_type": "code",
   "execution_count": 14,
   "metadata": {
    "colab": {},
    "colab_type": "code",
    "id": "SFGTq4mUV2zK"
   },
   "outputs": [],
   "source": [
    "import os\n",
    "import pickle\n",
    "import pandas as pd\n",
    "import numpy as np\n",
    "from tensorflow.keras.models import load_model # for use with tensorflow\n",
    "\n",
    "def shout(text, verbose=1):\n",
    "    \"\"\" Prints text in red. Just for fun.\n",
    "    \"\"\"\n",
    "    if verbose>0:\n",
    "        print('\\033[91m'+text+'\\x1b[0m')\n",
    "\n",
    "def load_model_from_file(base_dir, name, extension='.h5'):\n",
    "    \"\"\" Loads a model from a file. The returned model must have a 'fit' and 'summary'\n",
    "    function following the Keras API. Don't change if you use TensorFlow. Otherwise,\n",
    "    adapt as needed. \n",
    "    Keyword arguments:\n",
    "    base_dir -- Directory where the models are stored\n",
    "    name -- Name of the model, e.g. 'question_1_1'\n",
    "    extension -- the file extension\n",
    "    \"\"\"\n",
    "    try:\n",
    "        model = load_model(os.path.join(base_dir, name+extension))\n",
    "    except OSError:\n",
    "        shout(\"Saved model could not be found. Was it trained and stored correctly? Is the base_dir correct?\")\n",
    "        return False\n",
    "    return model\n",
    "\n",
    "def save_model_to_file(model, base_dir, name, extension='.h5'):\n",
    "    \"\"\" Saves a model to file. Don't change if you use TensorFlow. Otherwise,\n",
    "    adapt as needed. \n",
    "    Keyword arguments:\n",
    "    model -- the model to be saved\n",
    "    base_dir -- Directory where the models should be stored\n",
    "    name -- Name of the model, e.g. 'question_1_1'\n",
    "    extension -- the file extension\n",
    "    \"\"\"\n",
    "    model.save(os.path.join(base_dir, name+extension))\n",
    "\n",
    "# Helper function to extract min/max from the learning curves\n",
    "def minMax(x):\n",
    "    return pd.Series(index=['min','max'],data=[x.min(),x.max()])\n",
    "\n",
    "# DO NOT EDIT\n",
    "def run_evaluation(name, model_builder, data, base_dir, train=True, \n",
    "                   generator=False, epochs=3, batch_size=32, steps_per_epoch=60, \n",
    "                   verbose=1, **kwargs):\n",
    "    \"\"\" Trains and evaluates the given model on the predefined train and test splits,\n",
    "    stores the trained model and learning curves. Also prints out a summary of the \n",
    "    model and plots the learning curves.\n",
    "    Keyword arguments:\n",
    "    name -- the name of the model to be stored, e.g. 'question_1_1.h5'\n",
    "    model_builder -- function that returns an (untrained) model. The model must \n",
    "                     have a 'fit' function that follows the Keras API. It can wrap\n",
    "                     a non-Keras model as long as the 'fit' function takes the \n",
    "                     same attributes and returns the learning curves (history).\n",
    "                     It also must have a 'summary' function that prints out a \n",
    "                     model summary, and a 'save' function that saves the model \n",
    "                     to disk. \n",
    "    data -- data split for evaluation. A tuple of either:\n",
    "            * Numpy arrays (X_train, X_val, y_train, y_val)\n",
    "            * A data generator and validation data (generator, X_val, y_val)\n",
    "    base_dir -- the directory to save or read models to/from\n",
    "    train -- whether or not the data should be trained. If False, the trained model\n",
    "             will be loaded from disk.\n",
    "    generator -- whether the data in given as a generator or not\n",
    "    epochs -- the number of epochs to train for\n",
    "    batch_size -- the batch size to train with\n",
    "    steps_per_epoch -- steps per epoch, in case a generator is used (ignored otherwise)\n",
    "    verbose -- verbosity level, 0: silent, 1: minimal,...\n",
    "    kwargs -- keyword arguments that should be passed to model_builder.\n",
    "              Not required, but may help you to adjust its behavior\n",
    "    \"\"\"\n",
    "    model = model_builder(**kwargs)\n",
    "    if not model:\n",
    "        shout(\"No model is returned by the model_builder\")\n",
    "        return\n",
    "    if not hasattr(model, 'fit'):\n",
    "        shout(\"Model is not built correctly\")\n",
    "        return\n",
    "    learning_curves = {}\n",
    "    if train and not stop_training: # Train anew\n",
    "        shout(\"Training the model\", verbose)\n",
    "        if generator:\n",
    "            generator, X_val, y_val = data\n",
    "            history = model.fit(generator, epochs=epochs, batch_size=batch_size,\n",
    "                              steps_per_epoch=steps_per_epoch, verbose=1, \n",
    "                              validation_data=(X_val, y_val))\n",
    "            learning_curves = history.history\n",
    "        else:\n",
    "            X_train, X_val, y_train, y_val = data\n",
    "            history = model.fit(X_train, y_train, epochs=epochs, batch_size=batch_size,\n",
    "                              verbose=1, validation_data=(X_val, y_val))\n",
    "            learning_curves = history.history\n",
    "        shout(\"Saving to file\", verbose)\n",
    "        save_model_to_file(model, base_dir, name)\n",
    "        with open(os.path.join(base_dir, name+'.p'), 'wb') as file_pi:\n",
    "            pickle.dump(learning_curves, file_pi)\n",
    "        shout(\"Model stored in \"+base_dir, verbose)\n",
    "    else: # Load from file\n",
    "        shout(\"Loading model from file\", verbose)\n",
    "        model = load_model_from_file(base_dir, name)\n",
    "        if not model:\n",
    "            shout(\"Model not found\")\n",
    "            return\n",
    "        learning_curves = None\n",
    "        try:\n",
    "            learning_curves = pickle.load(open(os.path.join(base_dir, name+'.p'), \"rb\"))\n",
    "        except FileNotFoundError:\n",
    "            shout(\"Learning curves not found\")\n",
    "            return\n",
    "        shout(\"Success!\", verbose)\n",
    "    # Report\n",
    "    print(model.summary())\n",
    "    lc = pd.DataFrame(learning_curves)\n",
    "    lc.plot(lw=2,style=['b:','r:','b-','r-']);\n",
    "    plt.xlabel('epochs');\n",
    "    print(lc.apply(minMax))"
   ]
  },
  {
   "cell_type": "markdown",
   "metadata": {
    "colab_type": "text",
    "id": "IU_zPWGPypce"
   },
   "source": [
    "## Part 1. Dense networks (10 points)\n",
    "\n",
    "### Question 1.1: Baseline model (4 points)\n",
    "- Build a dense network (with only dense layers) of at least 3 layers that is shaped like a pyramid: The first layer must have many nodes, and every subsequent layer must have increasingly fewer nodes, e.g. half as many. Implement a function 'build_model_1_1' that returns this model.\n",
    "- You can explore different settings, but don't use any preprocessing or regularization yet. You should be able to achieve at least 70% accuracy, but more is of course better. Unless otherwise stated, you can use accuracy as the evaluation metric in all questions.\n",
    "* Add a small description of your design choices (max. 500 characters) in 'answer_q_1_1': explain what you did and also why. Also discuss the performance of the model. Is it working well? Both the performance of the model and your explanations matter.\n",
    "- The name of the model should be 'model_1_1'. Evaluate it using the 'run_evaluation' function. For this question, you should not use more than 50 epochs."
   ]
  },
  {
   "cell_type": "code",
   "execution_count": 15,
   "metadata": {
    "colab": {
     "base_uri": "https://localhost:8080/",
     "height": 738
    },
    "colab_type": "code",
    "executionInfo": {
     "elapsed": 470953,
     "status": "ok",
     "timestamp": 1587368287347,
     "user": {
      "displayName": "Dennis Marinissen",
      "photoUrl": "",
      "userId": "12528101557848281448"
     },
     "user_tz": -120
    },
    "id": "hci6BIdHJTN0",
    "outputId": "70b3b0e5-2d5b-4bfd-d8b8-627158d193a5"
   },
   "outputs": [
    {
     "name": "stdout",
     "output_type": "stream",
     "text": [
      "\u001b[91mLoading model from file\u001b[0m\n",
      "\u001b[91mSuccess!\u001b[0m\n",
      "Model: \"sequential_49\"\n",
      "_________________________________________________________________\n",
      "Layer (type)                 Output Shape              Param #   \n",
      "=================================================================\n",
      "reshape_12 (Reshape)         (None, 3072)              0         \n",
      "_________________________________________________________________\n",
      "dense_189 (Dense)            (None, 512)               1573376   \n",
      "_________________________________________________________________\n",
      "dense_190 (Dense)            (None, 256)               131328    \n",
      "_________________________________________________________________\n",
      "dense_191 (Dense)            (None, 128)               32896     \n",
      "_________________________________________________________________\n",
      "dense_192 (Dense)            (None, 64)                8256      \n",
      "_________________________________________________________________\n",
      "dense_193 (Dense)            (None, 10)                650       \n",
      "=================================================================\n",
      "Total params: 1,746,506\n",
      "Trainable params: 1,746,506\n",
      "Non-trainable params: 0\n",
      "_________________________________________________________________\n",
      "None\n",
      "         loss  accuracy  val_loss  val_accuracy\n",
      "min  0.293068  0.255351  0.542674      0.380626\n",
      "max  2.099229  0.909669  1.790201      0.838736\n"
     ]
    },
    {
     "data": {
      "image/png": "[encoded data removed]",
      "text/plain": [
       "<Figure size 432x288 with 1 Axes>"
      ]
     },
     "metadata": {
      "needs_background": "light"
     },
     "output_type": "display_data"
    }
   ],
   "source": [
    "from tensorflow.keras import models\n",
    "from tensorflow.keras import layers \n",
    "from tensorflow.keras import optimizers \n",
    "\n",
    "def build_model_1_1():\n",
    "  # Init model\n",
    "  model = models.Sequential()\n",
    "\n",
    "  # Reshape layer\n",
    "  model.add(layers.Reshape((3072,), input_shape=(32,32,3)))\n",
    "\n",
    "  # Add (Dense) layers\n",
    "  model.add(layers.Dense(512, activation='tanh'))\n",
    "  model.add(layers.Dense(256, activation='tanh'))\n",
    "  model.add(layers.Dense(128, activation='tanh'))\n",
    "  model.add(layers.Dense(64, activation='tanh'))\n",
    "\n",
    "  # Output layer\n",
    "  model.add(layers.Dense(10, activation='softmax'))\n",
    "\n",
    "  # Compile and return model\n",
    "  model.compile(optimizer=optimizers.SGD(),\n",
    "                loss='categorical_crossentropy',\n",
    "                metrics=['accuracy'])\n",
    "  \n",
    "  return model\n",
    "\n",
    "# Evaluate\n",
    "run_evaluation(\"model_1_1\", build_model_1_1, evaluation_split, base_dir, \n",
    "               train=False, epochs=50, batch_size=32)"
   ]
  },
  {
   "cell_type": "code",
   "execution_count": 39,
   "metadata": {},
   "outputs": [
    {
     "name": "stdout",
     "output_type": "stream",
     "text": [
      "Answer is 440 characters long\n"
     ]
    }
   ],
   "source": [
    "answer_q_1_1 = \"\"\"\n",
    "Using sufficient layers without overdoing it is important, 4 layers gave a good fit.\n",
    "512 nodes are used in the first layer, halving the number each layer to 256, 128 and 64. \n",
    "Softmax is suitable to output final prediction on the classification value. \n",
    "A batch size of 32 ensures a good number of iterations to learn.\n",
    "SGD optimizer with tanh activations was most suitable for performance, with a lossfunction for multi-class classification.\"\"\"\n",
    "\n",
    "print(\"Answer is {} characters long\".format(len(answer_q_1_1)))"
   ]
  },
  {
   "cell_type": "markdown",
   "metadata": {
    "colab_type": "text",
    "id": "kmicpoNvonjd"
   },
   "source": [
    "### Question 1.2: Preprocessing (2 points)\n",
    "Rerun the model, but now preprocess the data first by converting the images to \n",
    "greyscale. You can use the helper function below. If you want to do additional \n",
    "preprocessing, you can do that here, too.\n",
    "* Store the preprocessed data as a tuple `preprocessed_split`\n",
    "* Rerun and re-evaluate your model using the preprocessed data.\n",
    "  * For the remainder of the assignment, always use the preprocessed data\n",
    "* Explain what you did and interpret the results in 'answer_q_1_2'. Is the model\n",
    "  better, if so, why?"
   ]
  },
  {
   "cell_type": "code",
   "execution_count": 17,
   "metadata": {
    "colab": {},
    "colab_type": "code",
    "id": "_wFGWDQSqkIM"
   },
   "outputs": [],
   "source": [
    "def prep(X):\n",
    "  # Mean normalisation\n",
    "  X = X - np.mean(X, axis = 0)\n",
    "  # Return image in grayscale\n",
    "  return np.expand_dims(np.dot(X, [0.2990, 0.5870, 0.1140]), axis=3)"
   ]
  },
  {
   "cell_type": "code",
   "execution_count": 18,
   "metadata": {
    "colab": {},
    "colab_type": "code",
    "id": "wxyQMr1I5D-s"
   },
   "outputs": [],
   "source": [
    "# Create pre-processed variables using function\n",
    "X_train_gray = prep(X_train)\n",
    "X_val_gray = prep(X_val)\n",
    "X_test_gray = prep(X_test)\n",
    "X_test_gray_only = np.expand_dims(np.dot(X_test, [0.2990, 0.5870, 0.1140]), axis=3)\n",
    "\n",
    "# Create pre-processed split\n",
    "preprocessed_split = X_train_gray, X_val_gray, y_train, y_val"
   ]
  },
  {
   "cell_type": "code",
   "execution_count": 19,
   "metadata": {
    "colab": {
     "base_uri": "https://localhost:8080/",
     "height": 740
    },
    "colab_type": "code",
    "executionInfo": {
     "elapsed": 476676,
     "status": "ok",
     "timestamp": 1587368294703,
     "user": {
      "displayName": "Dennis Marinissen",
      "photoUrl": "",
      "userId": "12528101557848281448"
     },
     "user_tz": -120
    },
    "id": "KzdA9Duz_wdL",
    "outputId": "1f5b7d52-cff8-4887-e68a-e7c6f522ea01"
   },
   "outputs": [
    {
     "name": "stdout",
     "output_type": "stream",
     "text": [
      "\u001b[91mLoading model from file\u001b[0m\n",
      "\u001b[91mSuccess!\u001b[0m\n",
      "Model: \"sequential_50\"\n",
      "_________________________________________________________________\n",
      "Layer (type)                 Output Shape              Param #   \n",
      "=================================================================\n",
      "reshape_13 (Reshape)         (None, 1024)              0         \n",
      "_________________________________________________________________\n",
      "dense_194 (Dense)            (None, 512)               524800    \n",
      "_________________________________________________________________\n",
      "dense_195 (Dense)            (None, 256)               131328    \n",
      "_________________________________________________________________\n",
      "dense_196 (Dense)            (None, 128)               32896     \n",
      "_________________________________________________________________\n",
      "dense_197 (Dense)            (None, 64)                8256      \n",
      "_________________________________________________________________\n",
      "dense_198 (Dense)            (None, 10)                650       \n",
      "=================================================================\n",
      "Total params: 697,930\n",
      "Trainable params: 697,930\n",
      "Non-trainable params: 0\n",
      "_________________________________________________________________\n",
      "None\n",
      "         loss  accuracy  val_loss  val_accuracy\n",
      "min  0.282383  0.238811  0.548537      0.304400\n",
      "max  2.180360  0.915208  2.060979      0.841317\n"
     ]
    },
    {
     "data": {
      "image/png": "[encoded data removed]",
      "text/plain": [
       "<Figure size 432x288 with 1 Axes>"
      ]
     },
     "metadata": {
      "needs_background": "light"
     },
     "output_type": "display_data"
    }
   ],
   "source": [
    "def build_model_1_2():\n",
    "  # Init model\n",
    "  model = models.Sequential()\n",
    "\n",
    "  # Reshape layer\n",
    "  model.add(layers.Reshape((1024,), input_shape=(32,32,1)))\n",
    "\n",
    "  # Add (Dense) layers\n",
    "  model.add(layers.Dense(512, activation='tanh'))\n",
    "  model.add(layers.Dense(256, activation='tanh'))\n",
    "  model.add(layers.Dense(128, activation='tanh'))\n",
    "  model.add(layers.Dense(64, activation='tanh'))\n",
    "\n",
    "  # Output layer\n",
    "  model.add(layers.Dense(10, activation='softmax'))\n",
    "\n",
    "  # Compile and return model\n",
    "  model.compile(optimizer=optimizers.SGD(),\n",
    "                loss='categorical_crossentropy',\n",
    "                metrics=['accuracy'])\n",
    "  \n",
    "  return model\n",
    "\n",
    "# Evaluate\n",
    "run_evaluation(\"model_1_2\", build_model_1_2, preprocessed_split, base_dir, \n",
    "               train=False, generator=False, epochs=50, batch_size=32)"
   ]
  },
  {
   "cell_type": "code",
   "execution_count": 20,
   "metadata": {},
   "outputs": [
    {
     "name": "stdout",
     "output_type": "stream",
     "text": [
      "Answer is 495 characters long\n"
     ]
    }
   ],
   "source": [
    "answer_q_1_2 = \"\"\"\n",
    "Normalisation, cropping and shaping images uniformly was done on the initial data.\n",
    "Mean normalisation and grayscale conversion are useful additions, which are implemented.\n",
    "Whitening the image was tried, but did not have added value. Image-whitening is mostly working for more complex images.\n",
    "\n",
    "Pre-processing resulted in performance improvement.\n",
    "Running-time improvement and regularization ocurred as a result of reduced dimensionality.\"\"\"\n",
    "\n",
    "print(\"Answer is {} characters long\".format(len(answer_q_1_2)))"
   ]
  },
  {
   "cell_type": "markdown",
   "metadata": {
    "colab_type": "text",
    "id": "7l1pHwimiWQI"
   },
   "source": [
    "### Question 1.3: Regularization and tuning (4 points)\n",
    "* Regularize the model. You can explore (and combine) different techniques. What works best?\n",
    "* Tune other hyperparameters (e.g. learning rate, batch size,...) as you see fit.\n",
    "* Explain your findings and final design decisions. Retrain the model again on the preprocessed data and discuss the results.\n",
    "* Return your model in function 'build_model_1_3' and write your answer in 'answer_q_1_3'"
   ]
  },
  {
   "cell_type": "code",
   "execution_count": 21,
   "metadata": {
    "colab": {
     "base_uri": "https://localhost:8080/",
     "height": 874
    },
    "colab_type": "code",
    "executionInfo": {
     "elapsed": 5829,
     "status": "ok",
     "timestamp": 1587368300558,
     "user": {
      "displayName": "Dennis Marinissen",
      "photoUrl": "",
      "userId": "12528101557848281448"
     },
     "user_tz": -120
    },
    "id": "2ZZenVX1jDIQ",
    "outputId": "e8a91363-1216-4c8f-cb37-b38e67b59ffb"
   },
   "outputs": [
    {
     "name": "stdout",
     "output_type": "stream",
     "text": [
      "\u001b[91mLoading model from file\u001b[0m\n",
      "\u001b[91mSuccess!\u001b[0m\n",
      "Model: \"sequential_55\"\n",
      "_________________________________________________________________\n",
      "Layer (type)                 Output Shape              Param #   \n",
      "=================================================================\n",
      "reshape_18 (Reshape)         (None, 1024)              0         \n",
      "_________________________________________________________________\n",
      "dense_227 (Dense)            (None, 1024)              1049600   \n",
      "_________________________________________________________________\n",
      "dense_228 (Dense)            (None, 512)               524800    \n",
      "_________________________________________________________________\n",
      "dropout_83 (Dropout)         (None, 512)               0         \n",
      "_________________________________________________________________\n",
      "dense_229 (Dense)            (None, 256)               131328    \n",
      "_________________________________________________________________\n",
      "dense_230 (Dense)            (None, 128)               32896     \n",
      "_________________________________________________________________\n",
      "dropout_84 (Dropout)         (None, 128)               0         \n",
      "_________________________________________________________________\n",
      "dense_231 (Dense)            (None, 64)                8256      \n",
      "_________________________________________________________________\n",
      "dense_232 (Dense)            (None, 32)                2080      \n",
      "_________________________________________________________________\n",
      "dense_233 (Dense)            (None, 10)                330       \n",
      "=================================================================\n",
      "Total params: 1,749,290\n",
      "Trainable params: 1,749,290\n",
      "Non-trainable params: 0\n",
      "_________________________________________________________________\n",
      "None\n",
      "         loss  accuracy  val_loss  val_accuracy\n",
      "min  0.451381  0.288744  0.628925      0.516523\n",
      "max  2.209232  0.922251  1.666904      0.878958\n"
     ]
    },
    {
     "data": {
      "image/png": "[encoded data removed]",
      "text/plain": [
       "<Figure size 432x288 with 1 Axes>"
      ]
     },
     "metadata": {
      "needs_background": "light"
     },
     "output_type": "display_data"
    }
   ],
   "source": [
    "from tensorflow.keras import regularizers \n",
    "from tensorflow.keras.preprocessing.image import ImageDataGenerator\n",
    "\n",
    "# Generate images through data augmentation and create new data split\n",
    "image_generator = ImageDataGenerator(rotation_range=6,\n",
    "                                      shear_range=0.12,\n",
    "                                      zoom_range=0.12,\n",
    "                                      horizontal_flip=False,\n",
    "                                      vertical_flip=False,\n",
    "                                      fill_mode='reflect')\n",
    "\n",
    "image_generator.fit(preprocessed_split[0])\n",
    "\n",
    "train_generator = image_generator.flow(preprocessed_split[0], \n",
    "                                       preprocessed_split[2], \n",
    "                                       batch_size=32)\n",
    "\n",
    "step_size = train_generator.n//train_generator.batch_size\n",
    "\n",
    "augmented_split = train_generator, preprocessed_split[1], preprocessed_split[3]\n",
    "\n",
    "def build_model_1_3():\n",
    "\n",
    "  # Init model\n",
    "  model = models.Sequential()\n",
    "\n",
    "  # Reshape layer\n",
    "  model.add(layers.Reshape((1024,), input_shape=(32,32,1)))\n",
    "\n",
    "  # Add (Dense) layers\n",
    "  model.add(layers.Dense(1024, activation='relu', kernel_regularizer=regularizers.l2(0.0001)))\n",
    "  model.add(layers.Dense(512, activation='relu', kernel_regularizer=regularizers.l2(0.0001)))\n",
    "  model.add(layers.Dropout(0.2))\n",
    "  model.add(layers.Dense(256, activation='relu', kernel_regularizer=regularizers.l2(0.0001)))\n",
    "  model.add(layers.Dense(128, activation='relu', kernel_regularizer=regularizers.l2(0.0001)))\n",
    "  model.add(layers.Dropout(0.2))\n",
    "  model.add(layers.Dense(64, activation='relu', kernel_regularizer=regularizers.l2(0.0001)))\n",
    "  model.add(layers.Dense(32, activation='relu', kernel_regularizer=regularizers.l2(0.0001)))\n",
    "\n",
    "  # Output layer\n",
    "  model.add(layers.Dense(10, activation='softmax'))\n",
    "\n",
    "  # Compile and return model\n",
    "  model.compile(optimizer=optimizers.SGD(learning_rate=0.025),\n",
    "                loss='categorical_crossentropy',\n",
    "                metrics=['accuracy'])\n",
    "  \n",
    "  return model\n",
    "\n",
    "# Evaluate\n",
    "run_evaluation(\"model_1_3\", build_model_1_3, augmented_split, base_dir, \n",
    "               train=False, generator=True, steps_per_epoch=step_size,\n",
    "               epochs=50, batch_size=64)\n"
   ]
  },
  {
   "cell_type": "code",
   "execution_count": 38,
   "metadata": {},
   "outputs": [
    {
     "name": "stdout",
     "output_type": "stream",
     "text": [
      "Answer is 426 characters long\n"
     ]
    }
   ],
   "source": [
    "answer_q_1_3 = \"\"\"\n",
    "Data augmentation is implemented for more image data, working well to increase performance. \n",
    "Batch size is increased to ensure represenative batches and improve running times. \n",
    "Increasing learning rate helped in avoiding overfitting. \n",
    "Kernel Regularizer is applied. When used in moderation, using Dropout had a positive impact. \n",
    "By using a few more layers we deepen the network, increasing the learning capacity of the model.\"\"\"\n",
    "\n",
    "print(\"Answer is {} characters long\".format(len(answer_q_1_3)))"
   ]
  },
  {
   "cell_type": "markdown",
   "metadata": {
    "colab_type": "text",
    "id": "leo7YbI9L5et"
   },
   "source": [
    "## Part 2. Convolutional neural networks (10 points)\n",
    "### Question 2.1: Design a ConvNet (7 points)\n",
    "- Build a sequential convolutional neural network. Try to achieve the best validation accuracy you can. You should be able to get at least 90% accuracy. You can use any depth, any combination of layers, and any kind of regularization and tuning. \n",
    "- Add a description of your design choices in 'answer_q_2_1': explain what you did and also why. Also discuss the performance of the model. Is it working well? Both the performance of the model and your explanations matter.\n",
    "- You are allowed **800** characters for this answer (but don’t ramble).\n",
    "- The name of the model should be 'model_2_1'. Evaluate it using the 'run_evaluation' function and the preprocessed data."
   ]
  },
  {
   "cell_type": "code",
   "execution_count": 23,
   "metadata": {
    "colab": {
     "base_uri": "https://localhost:8080/",
     "height": 1000
    },
    "colab_type": "code",
    "executionInfo": {
     "elapsed": 17871,
     "status": "ok",
     "timestamp": 1587368312619,
     "user": {
      "displayName": "Dennis Marinissen",
      "photoUrl": "",
      "userId": "12528101557848281448"
     },
     "user_tz": -120
    },
    "id": "ceyv-n1JRYyP",
    "outputId": "a459a38e-1728-4abe-a3dd-e5b937dc67f1"
   },
   "outputs": [
    {
     "name": "stdout",
     "output_type": "stream",
     "text": [
      "\u001b[91mLoading model from file\u001b[0m\n",
      "\u001b[91mSuccess!\u001b[0m\n",
      "Model: \"sequential_63\"\n",
      "_________________________________________________________________\n",
      "Layer (type)                 Output Shape              Param #   \n",
      "=================================================================\n",
      "conv2d_78 (Conv2D)           (None, 32, 32, 64)        1088      \n",
      "_________________________________________________________________\n",
      "batch_normalization_117 (Bat (None, 32, 32, 64)        256       \n",
      "_________________________________________________________________\n",
      "conv2d_79 (Conv2D)           (None, 32, 32, 64)        65600     \n",
      "_________________________________________________________________\n",
      "batch_normalization_118 (Bat (None, 32, 32, 64)        256       \n",
      "_________________________________________________________________\n",
      "max_pooling2d_47 (MaxPooling (None, 16, 16, 64)        0         \n",
      "_________________________________________________________________\n",
      "dropout_127 (Dropout)        (None, 16, 16, 64)        0         \n",
      "_________________________________________________________________\n",
      "conv2d_80 (Conv2D)           (None, 16, 16, 128)       131200    \n",
      "_________________________________________________________________\n",
      "batch_normalization_119 (Bat (None, 16, 16, 128)       512       \n",
      "_________________________________________________________________\n",
      "conv2d_81 (Conv2D)           (None, 16, 16, 128)       262272    \n",
      "_________________________________________________________________\n",
      "batch_normalization_120 (Bat (None, 16, 16, 128)       512       \n",
      "_________________________________________________________________\n",
      "max_pooling2d_48 (MaxPooling (None, 8, 8, 128)         0         \n",
      "_________________________________________________________________\n",
      "dropout_128 (Dropout)        (None, 8, 8, 128)         0         \n",
      "_________________________________________________________________\n",
      "conv2d_82 (Conv2D)           (None, 8, 8, 256)         524544    \n",
      "_________________________________________________________________\n",
      "batch_normalization_121 (Bat (None, 8, 8, 256)         1024      \n",
      "_________________________________________________________________\n",
      "conv2d_83 (Conv2D)           (None, 8, 8, 256)         1048832   \n",
      "_________________________________________________________________\n",
      "batch_normalization_122 (Bat (None, 8, 8, 256)         1024      \n",
      "_________________________________________________________________\n",
      "max_pooling2d_49 (MaxPooling (None, 4, 4, 256)         0         \n",
      "_________________________________________________________________\n",
      "dropout_129 (Dropout)        (None, 4, 4, 256)         0         \n",
      "_________________________________________________________________\n",
      "conv2d_84 (Conv2D)           (None, 4, 4, 512)         2097664   \n",
      "_________________________________________________________________\n",
      "batch_normalization_123 (Bat (None, 4, 4, 512)         2048      \n",
      "_________________________________________________________________\n",
      "conv2d_85 (Conv2D)           (None, 4, 4, 512)         4194816   \n",
      "_________________________________________________________________\n",
      "batch_normalization_124 (Bat (None, 4, 4, 512)         2048      \n",
      "_________________________________________________________________\n",
      "max_pooling2d_50 (MaxPooling (None, 2, 2, 512)         0         \n",
      "_________________________________________________________________\n",
      "dropout_130 (Dropout)        (None, 2, 2, 512)         0         \n",
      "_________________________________________________________________\n",
      "flatten_43 (Flatten)         (None, 2048)              0         \n",
      "_________________________________________________________________\n",
      "dense_262 (Dense)            (None, 256)               524544    \n",
      "_________________________________________________________________\n",
      "batch_normalization_125 (Bat (None, 256)               1024      \n",
      "_________________________________________________________________\n",
      "dropout_131 (Dropout)        (None, 256)               0         \n",
      "_________________________________________________________________\n",
      "dense_263 (Dense)            (None, 128)               32896     \n",
      "_________________________________________________________________\n",
      "batch_normalization_126 (Bat (None, 128)               512       \n",
      "_________________________________________________________________\n",
      "dropout_132 (Dropout)        (None, 128)               0         \n",
      "_________________________________________________________________\n",
      "dense_264 (Dense)            (None, 128)               16512     \n",
      "_________________________________________________________________\n",
      "batch_normalization_127 (Bat (None, 128)               512       \n",
      "_________________________________________________________________\n",
      "dense_265 (Dense)            (None, 10)                1290      \n",
      "=================================================================\n",
      "Total params: 8,910,986\n",
      "Trainable params: 8,906,122\n",
      "Non-trainable params: 4,864\n",
      "_________________________________________________________________\n",
      "None\n",
      "         loss  accuracy  val_loss  val_accuracy\n",
      "min  0.211200  0.228928  0.264469      0.529112\n",
      "max  2.235506  0.964135  1.485911      0.951344\n"
     ]
    },
    {
     "data": {
      "image/png": "[encoded data removed]",
      "text/plain": [
       "<Figure size 432x288 with 1 Axes>"
      ]
     },
     "metadata": {
      "needs_background": "light"
     },
     "output_type": "display_data"
    }
   ],
   "source": [
    "def build_model_2_1():\n",
    "\n",
    "  # Init model\n",
    "  model = models.Sequential()\n",
    "\n",
    "  # Convolutional layers\n",
    "  model.add(layers.Conv2D(64, (4, 4), activation='relu', padding='same', input_shape=(32, 32, 1)))\n",
    "  model.add(layers.BatchNormalization())\n",
    "  model.add(layers.Conv2D(64, (4, 4), activation='relu', padding='same'))\n",
    "  model.add(layers.BatchNormalization())\n",
    "  model.add(layers.MaxPooling2D(pool_size=(2, 2), padding='same'))\n",
    "  model.add(layers.Dropout(0.2))\n",
    "\n",
    "  model.add(layers.Conv2D(128, (4, 4), activation='relu', padding='same'))\n",
    "  model.add(layers.BatchNormalization())\n",
    "  model.add(layers.Conv2D(128, (4, 4), activation='relu', padding='same'))\n",
    "  model.add(layers.BatchNormalization())\n",
    "  model.add(layers.MaxPooling2D(pool_size=(2, 2), padding='same'))\n",
    "  model.add(layers.Dropout(0.3))\n",
    "\n",
    "  model.add(layers.Conv2D(256, (4, 4), activation='relu', padding='same'))\n",
    "  model.add(layers.BatchNormalization())\n",
    "  model.add(layers.Conv2D(256, (4, 4), activation='relu', padding='same'))\n",
    "  model.add(layers.BatchNormalization())\n",
    "  model.add(layers.MaxPooling2D(pool_size=(2, 2), padding='same'))\n",
    "  model.add(layers.Dropout(0.4))\n",
    "\n",
    "  model.add(layers.Conv2D(512, (4, 4), activation='relu', padding='same'))\n",
    "  model.add(layers.BatchNormalization())\n",
    "  model.add(layers.Conv2D(512, (4, 4), activation='relu', padding='same'))\n",
    "  model.add(layers.BatchNormalization())\n",
    "  model.add(layers.MaxPooling2D(pool_size=(2, 2), padding='same'))  \n",
    "  model.add(layers.Dropout(0.4))\n",
    "\n",
    "  # Dense layer\n",
    "  model.add(layers.Flatten())\n",
    "\n",
    "  model.add(layers.Dense(256, activation='relu', kernel_regularizer=regularizers.l2(0.0001)))\n",
    "  model.add(layers.BatchNormalization())\n",
    "  model.add(layers.Dropout(0.4))\n",
    "\n",
    "  model.add(layers.Dense(128, activation='relu', kernel_regularizer=regularizers.l2(0.0001)))\n",
    "  model.add(layers.BatchNormalization())\n",
    "  model.add(layers.Dropout(0.2))\n",
    "\n",
    "  model.add(layers.Dense(128, activation='relu', kernel_regularizer=regularizers.l2(0.0001)))\n",
    "  model.add(layers.BatchNormalization())\n",
    "\n",
    "  # Output layer\n",
    "  model.add(layers.Dense(10, activation='softmax'))\n",
    "\n",
    "  # Compile and return model\n",
    "  model.compile(optimizer=optimizers.RMSprop(learning_rate=0.0075),\n",
    "                loss='categorical_crossentropy',\n",
    "                metrics=['accuracy'])\n",
    "  \n",
    "  return model\n",
    "\n",
    "# Evaluate\n",
    "run_evaluation(\"model_2_1\", build_model_2_1, preprocessed_split, base_dir, \n",
    "               train=False, epochs=15, batch_size=64)\n"
   ]
  },
  {
   "cell_type": "code",
   "execution_count": 41,
   "metadata": {},
   "outputs": [
    {
     "name": "stdout",
     "output_type": "stream",
     "text": [
      "Answer is 495 characters long\n"
     ]
    }
   ],
   "source": [
    "answer_q_2_1 = \"\"\"\n",
    "Multiple convolutional layers are implemented. 4 sets of 2 layers with increasing size, \n",
    "using BatchNormalisation every layer and Dropout and MaxPooling every block for regularization.\n",
    "Padding is set to 'same' to maintain all information. \n",
    "Kernel_size (4, 4) is used for compatibility with the image dimensions.\n",
    "\n",
    "Next are 3 Dense layers, performing the final class prediction using Softmax. \n",
    "Relu is used as activation as this introduces sparcity, avoiding saturation and increasing efficiency.\"\"\"\n",
    "\n",
    "print(\"Answer is {} characters long\".format(len(answer_q_2_1)))"
   ]
  },
  {
   "cell_type": "markdown",
   "metadata": {
    "colab_type": "text",
    "id": "EpdLTbPwXmOc"
   },
   "source": [
    "### Question 2.2: Data Augmentation (3 points)\n",
    "\n",
    "- Augment the preprocessed training data. You can explore using image shifts, rotations, zooming, flips, etc. What works well, and what does not?\n",
    "- Evaluate the model from question 2.1 with the augmented data using the 'run_evaluation' function. Store the new trained model as 'model_2_2'.\n",
    "- Add a description of your design choices in 'answer_q_2_2': explain what you did and also why. Also discuss the performance of the model."
   ]
  },
  {
   "cell_type": "code",
   "execution_count": 25,
   "metadata": {
    "colab": {
     "base_uri": "https://localhost:8080/",
     "height": 1000
    },
    "colab_type": "code",
    "executionInfo": {
     "elapsed": 26253,
     "status": "ok",
     "timestamp": 1587368321011,
     "user": {
      "displayName": "Dennis Marinissen",
      "photoUrl": "",
      "userId": "12528101557848281448"
     },
     "user_tz": -120
    },
    "id": "cp8wMUU-aqhQ",
    "outputId": "cbb3396c-9229-45cb-9359-113c20ec45ef"
   },
   "outputs": [
    {
     "name": "stdout",
     "output_type": "stream",
     "text": [
      "\u001b[91mLoading model from file\u001b[0m\n",
      "\u001b[91mSuccess!\u001b[0m\n",
      "Model: \"sequential_68\"\n",
      "_________________________________________________________________\n",
      "Layer (type)                 Output Shape              Param #   \n",
      "=================================================================\n",
      "conv2d_118 (Conv2D)          (None, 32, 32, 64)        1088      \n",
      "_________________________________________________________________\n",
      "batch_normalization_172 (Bat (None, 32, 32, 64)        256       \n",
      "_________________________________________________________________\n",
      "conv2d_119 (Conv2D)          (None, 32, 32, 64)        65600     \n",
      "_________________________________________________________________\n",
      "batch_normalization_173 (Bat (None, 32, 32, 64)        256       \n",
      "_________________________________________________________________\n",
      "max_pooling2d_67 (MaxPooling (None, 16, 16, 64)        0         \n",
      "_________________________________________________________________\n",
      "dropout_157 (Dropout)        (None, 16, 16, 64)        0         \n",
      "_________________________________________________________________\n",
      "conv2d_120 (Conv2D)          (None, 16, 16, 128)       131200    \n",
      "_________________________________________________________________\n",
      "batch_normalization_174 (Bat (None, 16, 16, 128)       512       \n",
      "_________________________________________________________________\n",
      "conv2d_121 (Conv2D)          (None, 16, 16, 128)       262272    \n",
      "_________________________________________________________________\n",
      "batch_normalization_175 (Bat (None, 16, 16, 128)       512       \n",
      "_________________________________________________________________\n",
      "max_pooling2d_68 (MaxPooling (None, 8, 8, 128)         0         \n",
      "_________________________________________________________________\n",
      "dropout_158 (Dropout)        (None, 8, 8, 128)         0         \n",
      "_________________________________________________________________\n",
      "conv2d_122 (Conv2D)          (None, 8, 8, 256)         524544    \n",
      "_________________________________________________________________\n",
      "batch_normalization_176 (Bat (None, 8, 8, 256)         1024      \n",
      "_________________________________________________________________\n",
      "conv2d_123 (Conv2D)          (None, 8, 8, 256)         1048832   \n",
      "_________________________________________________________________\n",
      "batch_normalization_177 (Bat (None, 8, 8, 256)         1024      \n",
      "_________________________________________________________________\n",
      "max_pooling2d_69 (MaxPooling (None, 4, 4, 256)         0         \n",
      "_________________________________________________________________\n",
      "dropout_159 (Dropout)        (None, 4, 4, 256)         0         \n",
      "_________________________________________________________________\n",
      "conv2d_124 (Conv2D)          (None, 4, 4, 512)         2097664   \n",
      "_________________________________________________________________\n",
      "batch_normalization_178 (Bat (None, 4, 4, 512)         2048      \n",
      "_________________________________________________________________\n",
      "conv2d_125 (Conv2D)          (None, 4, 4, 512)         4194816   \n",
      "_________________________________________________________________\n",
      "batch_normalization_179 (Bat (None, 4, 4, 512)         2048      \n",
      "_________________________________________________________________\n",
      "max_pooling2d_70 (MaxPooling (None, 2, 2, 512)         0         \n",
      "_________________________________________________________________\n",
      "dropout_160 (Dropout)        (None, 2, 2, 512)         0         \n",
      "_________________________________________________________________\n",
      "flatten_48 (Flatten)         (None, 2048)              0         \n",
      "_________________________________________________________________\n",
      "dense_282 (Dense)            (None, 256)               524544    \n",
      "_________________________________________________________________\n",
      "batch_normalization_180 (Bat (None, 256)               1024      \n",
      "_________________________________________________________________\n",
      "dropout_161 (Dropout)        (None, 256)               0         \n",
      "_________________________________________________________________\n",
      "dense_283 (Dense)            (None, 128)               32896     \n",
      "_________________________________________________________________\n",
      "batch_normalization_181 (Bat (None, 128)               512       \n",
      "_________________________________________________________________\n",
      "dropout_162 (Dropout)        (None, 128)               0         \n",
      "_________________________________________________________________\n",
      "dense_284 (Dense)            (None, 128)               16512     \n",
      "_________________________________________________________________\n",
      "batch_normalization_182 (Bat (None, 128)               512       \n",
      "_________________________________________________________________\n",
      "dense_285 (Dense)            (None, 10)                1290      \n",
      "=================================================================\n",
      "Total params: 8,910,986\n",
      "Trainable params: 8,906,122\n",
      "Non-trainable params: 4,864\n",
      "_________________________________________________________________\n",
      "None\n",
      "         loss  accuracy  val_loss  val_accuracy\n",
      "min  0.216186  0.499969  0.254630      0.855165\n",
      "max  1.636012  0.967109  0.684632      0.958520\n"
     ]
    },
    {
     "data": {
      "image/png": "[encoded data removed]",
      "text/plain": [
       "<Figure size 432x288 with 1 Axes>"
      ]
     },
     "metadata": {
      "needs_background": "light"
     },
     "output_type": "display_data"
    }
   ],
   "source": [
    "from tensorflow.keras.preprocessing.image import ImageDataGenerator\n",
    "\n",
    "# Generate images through data augmentation and create new data split\n",
    "image_generator_2 = ImageDataGenerator(rotation_range=3,\n",
    "                                      shear_range=0.5,\n",
    "                                      zoom_range=0.05,\n",
    "                                      width_shift_range=1.0,\n",
    "                                      height_shift_range=1.0,\n",
    "                                      horizontal_flip=False,\n",
    "                                      vertical_flip=False,\n",
    "                                      fill_mode='nearest')\n",
    "\n",
    "image_generator_2.fit(preprocessed_split[0])\n",
    "\n",
    "train_generator_2 = image_generator_2.flow(preprocessed_split[0], \n",
    "                                       preprocessed_split[2], \n",
    "                                       batch_size=32)\n",
    "\n",
    "step_size_2 = train_generator_2.n//train_generator_2.batch_size\n",
    "\n",
    "augmented_split_2 = train_generator_2, preprocessed_split[1], preprocessed_split[3]\n",
    "\n",
    "# Evaluate on model 2.1\n",
    "run_evaluation(\"model_2_2\", build_model_2_1, augmented_split_2, base_dir,\n",
    "               train=False, generator=True, steps_per_epoch=step_size_2,\n",
    "               epochs=25, batch_size=None) \n"
   ]
  },
  {
   "cell_type": "code",
   "execution_count": 26,
   "metadata": {},
   "outputs": [
    {
     "name": "stdout",
     "output_type": "stream",
     "text": [
      "Answer is 485 characters long\n"
     ]
    }
   ],
   "source": [
    "answer_q_2_2 = \"\"\"\n",
    "For the data augmentation many options were explored. \n",
    "Flipping does not make sense here as numbers cannot be recognised anymore when flipped. In StreetView perspective also a flipped perspective is not relevant. \n",
    "A realistic amount of rotation, shear and zoom is applied. This makes sense to train the model in handling different perspectives and zooms well.\n",
    "A small improvement is seen in performance as a result of the data augmentation.\"\"\"\n",
    "\n",
    "print(\"Answer is {} characters long\".format(len(answer_q_2_2)))"
   ]
  },
  {
   "cell_type": "markdown",
   "metadata": {
    "colab_type": "text",
    "id": "Nb8jrFlnbBUP"
   },
   "source": [
    "## Part 3. Model interpretation (10 points)\n",
    "### Question 3.1: Interpreting misclassifications (2 points)\n",
    "Study which errors are still made by your last model (model_2_2) by evaluating it on the test data. You do not need to retrain the model.\n",
    "* What is the accuracy of model_2_2 on the test data? Store this in 'test_accuracy_3_1'.\n",
    "* Plot the confusion matrix in 'plot_confusion_matrix' and discuss which classes are often confused.\n",
    "* Visualize the misclassifications in more depth by focusing on a single\n",
    "class (e.g. the number '2') and analyse which kinds of mistakes are made for that class. For instance, are the errors related to the background, noisiness, etc.? Implement the visualization in 'plot_misclassifications'.\n",
    "* Summarize your findings in 'answer_q_3_1'"
   ]
  },
  {
   "cell_type": "code",
   "execution_count": 27,
   "metadata": {
    "colab": {
     "base_uri": "https://localhost:8080/",
     "height": 1000
    },
    "colab_type": "code",
    "executionInfo": {
     "elapsed": 50741,
     "status": "ok",
     "timestamp": 1587368345510,
     "user": {
      "displayName": "Dennis Marinissen",
      "photoUrl": "",
      "userId": "12528101557848281448"
     },
     "user_tz": -120
    },
    "id": "yNg-7JsSbn2-",
    "outputId": "cde251d1-ddcf-4174-8415-eab17bf9be66"
   },
   "outputs": [],
   "source": [
    "from sklearn.metrics import confusion_matrix\n",
    "import math\n",
    "\n",
    "SVHN_classes = {1: \"1\", 2: \"2\", 3: \"3\", 4: \"4\", 5: \"5\", \n",
    "                6: \"6\", 7: \"7\", 8: \"8\", 9: \"9\", 10: \"0\"}\n",
    "\n",
    "model_2_2 = load_model_from_file(base_dir, \"model_2_2\")\n",
    "\n",
    "y_pred = model_2_2.predict(X_test_gray)\n",
    "\n",
    "num_total_samples = len(y_pred)\n",
    "misclassified_samples = np.nonzero(np.argmax(y_test, axis=1) != np.argmax(y_pred, axis=1))[0]\n",
    "num_misclassified_samples = len(misclassified_samples)\n",
    "num_correctly_classified_samples = num_total_samples - num_misclassified_samples\n",
    "\n",
    "misclassified_fours = np.array([x for x in np.nonzero((np.argmax(y_test, axis=1)+1)%10 == 4)[0] if x in misclassified_samples])\n",
    "\n",
    "test_accuracy = num_correctly_classified_samples / num_total_samples\n",
    "\n",
    "def plot_confusion_matrix():\n",
    "  cm = confusion_matrix(np.argmax(y_test, axis=1), np.argmax(y_pred, axis=1))\n",
    "  fig, ax = plt.subplots(figsize=(6, 6))\n",
    "  im = ax.imshow(cm)\n",
    "  ax.set_xticks(np.arange(10)), ax.set_yticks(np.arange(10))\n",
    "  labels = SVHN_classes.values()\n",
    "  ax.set_xticklabels(labels)\n",
    "  ax.set_yticklabels(labels)\n",
    "  ax.set_ylabel('True')\n",
    "  ax.set_xlabel('Predicted')\n",
    "  for i in range(100):\n",
    "    ax.text(int(i/10), i%10, cm[i%10, int(i/10)], ha=\"center\", va=\"center\", color=\"w\")\n",
    "  plt.show()\n",
    "\n",
    "\n",
    "def plot_misclassifications():\n",
    "  print('\\n Misclassified examples: ')\n",
    "  rows = 5\n",
    "  columns = 5\n",
    "  fig, axes = plt.subplots(rows, columns, figsize=(columns*2, rows*8/3))\n",
    "  count = 0\n",
    "  for i in range(rows):\n",
    "    for j in range(columns):\n",
    "      if SVHN_classes[np.argmax(y_test[misclassified_fours[count]])+1] == \"4\":\n",
    "        axes[i, j].imshow(X_test[misclassified_fours[count]])\n",
    "        axes[i, j].set_xlabel(\"Predicted: %s,\\n Actual : %s\" % \n",
    "                              (SVHN_classes[np.argmax(y_pred[misclassified_fours[count]])+1], \n",
    "                              SVHN_classes[np.argmax(y_test[misclassified_fours[count]])+1]))\n",
    "        axes[i, j].set_xticks(()), axes[i, j].set_yticks(())\n",
    "        count += 1\n",
    "      else:\n",
    "        pass\n",
    "  plt.show()\n",
    "\n",
    "# plot_confusion_matrix()\n",
    "# plot_misclassifications()\n"
   ]
  },
  {
   "cell_type": "code",
   "execution_count": 42,
   "metadata": {},
   "outputs": [
    {
     "name": "stdout",
     "output_type": "stream",
     "text": [
      "Answer is 630 characters long\n"
     ]
    }
   ],
   "source": [
    "answer_q_3_1 = \"\"\"\n",
    "1 and 7 are logically mixed up often. Rotated versions of 6 and 9 are difficult for the model. \n",
    "Since number 4 is predicted relatively accurately, misclassifications there are interesting.\n",
    "An overhand in extremely noisy or blurry images is seen, together with weird types of numbers (even letters).\n",
    "Objects (partly) blocking the number is also a factor. \n",
    "When there are multiple numbers in one number image, it is prone to picking an other numbers than the labelled one.\n",
    "Some numbers are actually mislabeled. In the test set about 20 wrongly labelled images were found.\n",
    "\n",
    "These factors are the main reasons for misclassifications.\"\"\"\n",
    "\n",
    "print(\"Answer is {} characters long\".format(len(answer_q_3_1)))"
   ]
  },
  {
   "cell_type": "markdown",
   "metadata": {
    "colab_type": "text",
    "id": "EBRdBpz5Hcrx"
   },
   "source": [
    "### Question 3.2: Visualizing activations (4 points)\n",
    "* Implement a function `plot_activations()` that returns the most interesting activations (feature maps). Select the first example from the test set. Retrieve and visualize the activations of model 2_2 for that example (make sure you load that model in the function), for every filter for different convolutional layers (at different depths in the network).\n",
    "* Give an explanation (as detailed as you can) about your observations in 'answer_q_3_2'. Is your model indeed learning something useful?"
   ]
  },
  {
   "cell_type": "code",
   "execution_count": 29,
   "metadata": {
    "colab": {
     "base_uri": "https://localhost:8080/",
     "height": 1000
    },
    "colab_type": "code",
    "executionInfo": {
     "elapsed": 56867,
     "status": "ok",
     "timestamp": 1587368351646,
     "user": {
      "displayName": "Dennis Marinissen",
      "photoUrl": "",
      "userId": "12528101557848281448"
     },
     "user_tz": -120
    },
    "id": "TyQ-IHHcN5Qc",
    "outputId": "cd4c3f71-5216-424b-8275-acf20720f821"
   },
   "outputs": [],
   "source": [
    "\n",
    "def plot_activations():\n",
    "\n",
    "  model_2_2 = load_model_from_file(base_dir, \"model_2_2\")\n",
    "\n",
    "  # model_2_2.summary()\n",
    "\n",
    "  num_layers = len(model_2_2.layers)\n",
    "\n",
    "  index = 0\n",
    "\n",
    "  image = X_test_gray[index].reshape(1, 32, 32, 1)\n",
    "\n",
    "  # Extracts the outputs of the top 8 layers:\n",
    "  layer_outputs = [layer.output for layer in model_2_2.layers[:num_layers]]\n",
    "\n",
    "  # Store layer names \n",
    "  layer_names = []\n",
    "  for layer in model_2_2.layers[:num_layers]:\n",
    "    layer_names.append(layer.name)\n",
    "\n",
    "  # Create model \n",
    "  activation_model = models.Model(inputs=model_2_2.input, outputs=layer_outputs)\n",
    "\n",
    "  activations = activation_model.predict(image)\n",
    "\n",
    "  plt.rcParams['figure.dpi'] = 120\n",
    "  first_layer_activation = activations[0]\n",
    "\n",
    "  f, (ax1, ax2) = plt.subplots(1, 2, figsize=(5,5))\n",
    "  ax1.imshow(X_test[index])\n",
    "  ax2.matshow(first_layer_activation[0, :, :, 2], cmap='viridis')\n",
    "  ax1.set_xticks([])\n",
    "  ax1.set_yticks([])\n",
    "  ax2.set_xticks([])\n",
    "  ax2.set_yticks([])\n",
    "  ax1.set_xlabel('Input image')\n",
    "  ax2.set_xlabel('Activation of filter 2');\n",
    "  plt.show()\n",
    "\n",
    "  images_per_row = 24\n",
    "  begin = 0\n",
    "  stop = num_layers \n",
    "  index = 0\n",
    "\n",
    "  # Display feature maps\n",
    "  for layer_name, layer_activation in zip(layer_names[begin:stop], activations[begin:stop]):\n",
    "    if layer_name.startswith('conv'):\n",
    "      num_features = layer_activation.shape[-1]\n",
    "      size = layer_activation.shape[1]\n",
    "      num_cols = num_features // images_per_row\n",
    "      display_grid = np.zeros((size * num_cols, images_per_row * size))\n",
    "\n",
    "      for col in range(num_cols):\n",
    "          for row in range(images_per_row):\n",
    "              channel_image = layer_activation[0, :, :,\n",
    "                                                col * images_per_row + row]\n",
    "              channel_image -= channel_image.mean()\n",
    "              channel_image /= channel_image.std()\n",
    "              channel_image *= 64\n",
    "              channel_image += 128\n",
    "              channel_image = np.clip(channel_image, 0, 255).astype('uint8')\n",
    "              display_grid[col * size : (col + 1) * size,\n",
    "                            row * size : (row + 1) * size] = channel_image\n",
    "\n",
    "      # Display grid\n",
    "      scale = 1. / size / 2\n",
    "      plt.figure(figsize=(scale * display_grid.shape[1],\n",
    "                          scale * display_grid.shape[0]))\n",
    "      plt.title(\"Activation of layer {} ({})\".format(index+1, layer_name))\n",
    "      plt.grid(False)\n",
    "      plt.imshow(display_grid, aspect='auto', cmap='viridis')\n",
    "    else:\n",
    "      pass\n",
    "\n",
    "    index += 1\n",
    "\n",
    "  pass\n",
    "\n",
    "# plot_activations()\n"
   ]
  },
  {
   "cell_type": "code",
   "execution_count": 43,
   "metadata": {},
   "outputs": [
    {
     "name": "stdout",
     "output_type": "stream",
     "text": [
      "Answer is 437 characters long\n"
     ]
    }
   ],
   "source": [
    "answer_q_3_2 = \"\"\"\n",
    "In the activations you see that in the first layers the patterns of the are still very clear, clearly showing activations on edges.\n",
    "The deeper in the network, the higher the abstraction of the activations. \n",
    "Some parts are active up to deep in the network, others are not. \n",
    "This may indicate that it does not learn perfectly on this image. \n",
    "However, the principle of learning by the model is well shown though the visualised activations.\"\"\"\n",
    "\n",
    "print(\"Answer is {} characters long\".format(len(answer_q_3_2)))"
   ]
  },
  {
   "cell_type": "markdown",
   "metadata": {
    "colab_type": "text",
    "id": "6a4XT0-7Ym25"
   },
   "source": [
    "### Question 3.3: Visualizing activations (4 points)\n",
    "* Again, select the first example from the test set, and the trained model_2_2.\n",
    "* Implement a function `plot_activation_map()` that builds and shows a class activation map for your last convolutional layer that highlights what the model is paying attention to when classifying the example.\n",
    "* If possible, superimpossible the activation map over the image. If not, plot\n",
    "them side by side. Implement a function 'plot_3_3' that returns the entire plot."
   ]
  },
  {
   "cell_type": "code",
   "execution_count": 31,
   "metadata": {
    "colab": {
     "base_uri": "https://localhost:8080/",
     "height": 1000
    },
    "colab_type": "code",
    "executionInfo": {
     "elapsed": 7311,
     "status": "ok",
     "timestamp": 1587368684168,
     "user": {
      "displayName": "Dennis Marinissen",
      "photoUrl": "",
      "userId": "12528101557848281448"
     },
     "user_tz": -120
    },
    "id": "vsmqYQl2ZZ4n",
    "outputId": "fdad8b94-daf3-4230-87c3-ff19b77df2d4"
   },
   "outputs": [
    {
     "name": "stdout",
     "output_type": "stream",
     "text": [
      "WARNING:tensorflow:From /anaconda3/lib/python3.6/site-packages/tensorflow_core/python/ops/resource_variable_ops.py:1635: calling BaseResourceVariable.__init__ (from tensorflow.python.ops.resource_variable_ops) with constraint is deprecated and will be removed in a future version.\n",
      "Instructions for updating:\n",
      "If using Keras pass *_constraint arguments to layers.\n"
     ]
    },
    {
     "name": "stderr",
     "output_type": "stream",
     "text": [
      "Clipping input data to the valid range for imshow with RGB data ([0..1] for floats or [0..255] for integers).\n"
     ]
    },
    {
     "data": {
      "image/png": "[encoded data removed]",
      "text/plain": [
       "<Figure size 360x360 with 1 Axes>"
      ]
     },
     "metadata": {
      "needs_background": "light"
     },
     "output_type": "display_data"
    },
    {
     "data": {
      "image/png": "[encoded data removed]",
      "text/plain": [
       "<Figure size 360x360 with 2 Axes>"
      ]
     },
     "metadata": {
      "needs_background": "light"
     },
     "output_type": "display_data"
    },
    {
     "data": {
      "image/png": "[encoded data removed]",
      "text/plain": [
       "<Figure size 360x360 with 1 Axes>"
      ]
     },
     "metadata": {
      "needs_background": "light"
     },
     "output_type": "display_data"
    }
   ],
   "source": [
    "import cv2\n",
    "import tensorflow as tf\n",
    "from tensorflow.keras import backend\n",
    "\n",
    "def plot_3_3():\n",
    "\n",
    "  tf.compat.v1.disable_eager_execution()\n",
    "\n",
    "  # Load model and activation layer from the model\n",
    "  model_2_2 = load_model_from_file(base_dir, 'model_2_2')\n",
    "  model_2_2._make_predict_function()\n",
    "  model_2_2_output = model_2_2.output[:,0]\n",
    "  activation_layer = model_2_2.layers[20]\n",
    "\n",
    "  # Load first image from test set\n",
    "  image_index = 0\n",
    "  image = X_test_gray_only[image_index]\n",
    "  image = np.expand_dims(image, axis=0)\n",
    "\n",
    "  # Gradient values\n",
    "  gradients = backend.gradients(model_2_2_output, activation_layer.output)[0]\n",
    "  stack_gradients = backend.mean(gradients, axis=(0,1,2))\n",
    "  iterator = backend.function([model_2_2.input], [stack_gradients, activation_layer.output[0]])\n",
    "  stack_gradients_val, activation_layer_output = iterator([image])\n",
    "\n",
    "  for i in range(128):\n",
    "      activation_layer_output[:,:,i] *= stack_gradients_val[i]\n",
    "\n",
    "  # Setting heatmap and plotting\n",
    "  heatmap = np.mean(activation_layer_output, axis=-1)\n",
    "  heatmap = np.maximum(heatmap, 0)\n",
    "  heatmap = heatmap / np.max(heatmap)\n",
    "  heatmap = cv2.resize(heatmap, (32, 32))\n",
    "  heatmap = cv2.applyColorMap(np.uint8(255 * heatmap), cv2.COLORMAP_JET)\n",
    "\n",
    "  image_colour = (255 * X_test[image_index]).astype(int)\n",
    "  image_superimposed = image_colour + heatmap/2\n",
    "\n",
    "  plt.figure(figsize=(5, 5))\n",
    "  plt.title('Original Image')\n",
    "  plt.imshow(image_colour)\n",
    "  \n",
    "  plt.figure(figsize=(5, 5))\n",
    "  plt.title('Activation Heatmap')\n",
    "  plt.imshow(heatmap, cmap='jet')\n",
    "  plt.colorbar()\n",
    "\n",
    "  plt.figure(figsize=(5, 5))\n",
    "  plt.title(\"Activation Map - Superimposed\")\n",
    "  plt.imshow(image_superimposed.astype(int), cmap='jet')\n",
    "\n",
    "  plt.show()\n",
    "\n",
    "# plot_3_3()"
   ]
  },
  {
   "cell_type": "markdown",
   "metadata": {
    "colab_type": "text",
    "id": "buQLQ16EypgL"
   },
   "source": [
    "## Part 4. Transfer learning (10 points)\n",
    "### Question 4.1 Fast feature extraction with VGG16 (5 points)\n",
    "- Import the VGG16 model, pretrained on ImageNet. [See here](https://keras.io/applications/). Only import the convolutional part, not the dense layers.\n",
    "- Implement a function 'build_model_4_1` that adds a dense layer to the convolutional base, and freezes the convolutional base. Consider unfreezing the last few convolutional layers and evaluate whether that works better.\n",
    "- Train the resulting model on the *original* (colored) training data\n",
    "- Evaluate the resulting model using 'run_evaluate'. Discuss the observed performance in 'answer_q_4_1'."
   ]
  },
  {
   "cell_type": "code",
   "execution_count": 32,
   "metadata": {
    "colab": {
     "base_uri": "https://localhost:8080/",
     "height": 1000
    },
    "colab_type": "code",
    "executionInfo": {
     "elapsed": 1292886,
     "status": "ok",
     "timestamp": 1587372184963,
     "user": {
      "displayName": "Dennis Marinissen",
      "photoUrl": "",
      "userId": "12528101557848281448"
     },
     "user_tz": -120
    },
    "id": "QXH1Z7Pqj3HW",
    "outputId": "dc81ac66-b989-4c9b-f150-76c8c473da1f"
   },
   "outputs": [
    {
     "name": "stdout",
     "output_type": "stream",
     "text": [
      "<tensorflow.python.keras.layers.convolutional.Conv2D object at 0x22dfd3ac8> False\n",
      "<tensorflow.python.keras.layers.convolutional.Conv2D object at 0x22dfcb940> False\n",
      "<tensorflow.python.keras.layers.pooling.MaxPooling2D object at 0x22dfcb630> False\n",
      "<tensorflow.python.keras.layers.convolutional.Conv2D object at 0x262bdbf60> False\n",
      "<tensorflow.python.keras.layers.convolutional.Conv2D object at 0x262bfea20> False\n",
      "<tensorflow.python.keras.layers.pooling.MaxPooling2D object at 0x262bfeda0> False\n",
      "<tensorflow.python.keras.layers.convolutional.Conv2D object at 0x262c843c8> False\n",
      "<tensorflow.python.keras.layers.convolutional.Conv2D object at 0x262c89eb8> False\n",
      "<tensorflow.python.keras.layers.convolutional.Conv2D object at 0x262c91438> False\n",
      "<tensorflow.python.keras.layers.pooling.MaxPooling2D object at 0x262c97ef0> False\n",
      "<tensorflow.python.keras.layers.convolutional.Conv2D object at 0x262ca7550> True\n",
      "<tensorflow.python.keras.layers.convolutional.Conv2D object at 0x262cab320> True\n",
      "<tensorflow.python.keras.layers.convolutional.Conv2D object at 0x262d27c50> True\n",
      "<tensorflow.python.keras.layers.pooling.MaxPooling2D object at 0x262d2edd8> False\n",
      "<tensorflow.python.keras.layers.convolutional.Conv2D object at 0x262d376d8> True\n",
      "<tensorflow.python.keras.layers.convolutional.Conv2D object at 0x262d3d4a8> True\n",
      "<tensorflow.python.keras.layers.convolutional.Conv2D object at 0x262d3d7f0> True\n",
      "<tensorflow.python.keras.layers.pooling.MaxPooling2D object at 0x262d55198> False\n",
      "<tensorflow.python.keras.layers.core.Flatten object at 0x262d9be10> True\n",
      "<tensorflow.python.keras.layers.core.Dense object at 0x262d6d898> True\n",
      "<tensorflow.python.keras.layers.normalization_v2.BatchNormalization object at 0x262d9bf60> True\n",
      "<tensorflow.python.keras.layers.core.Dropout object at 0x262d6d6d8> True\n",
      "<tensorflow.python.keras.layers.core.Dense object at 0x262f070b8> True\n",
      "<tensorflow.python.keras.layers.normalization_v2.BatchNormalization object at 0x262efbb70> True\n",
      "<tensorflow.python.keras.layers.core.Dropout object at 0x26669f978> True\n",
      "<tensorflow.python.keras.layers.core.Dense object at 0x2630f9278> True\n",
      "\u001b[91mLoading model from file\u001b[0m\n",
      "\u001b[91mSuccess!\u001b[0m\n",
      "Model: \"sequential_12\"\n",
      "_________________________________________________________________\n",
      "Layer (type)                 Output Shape              Param #   \n",
      "=================================================================\n",
      "block1_conv1 (Conv2D)        (None, 32, 32, 64)        1792      \n",
      "_________________________________________________________________\n",
      "block1_conv2 (Conv2D)        (None, 32, 32, 64)        36928     \n",
      "_________________________________________________________________\n",
      "block1_pool (MaxPooling2D)   (None, 16, 16, 64)        0         \n",
      "_________________________________________________________________\n",
      "block2_conv1 (Conv2D)        (None, 16, 16, 128)       73856     \n",
      "_________________________________________________________________\n",
      "block2_conv2 (Conv2D)        (None, 16, 16, 128)       147584    \n",
      "_________________________________________________________________\n",
      "block2_pool (MaxPooling2D)   (None, 8, 8, 128)         0         \n",
      "_________________________________________________________________\n",
      "block3_conv1 (Conv2D)        (None, 8, 8, 256)         295168    \n",
      "_________________________________________________________________\n",
      "block3_conv2 (Conv2D)        (None, 8, 8, 256)         590080    \n",
      "_________________________________________________________________\n",
      "block3_conv3 (Conv2D)        (None, 8, 8, 256)         590080    \n",
      "_________________________________________________________________\n",
      "block3_pool (MaxPooling2D)   (None, 4, 4, 256)         0         \n",
      "_________________________________________________________________\n",
      "block4_conv1 (Conv2D)        (None, 4, 4, 512)         1180160   \n",
      "_________________________________________________________________\n",
      "block4_conv2 (Conv2D)        (None, 4, 4, 512)         2359808   \n",
      "_________________________________________________________________\n",
      "block4_conv3 (Conv2D)        (None, 4, 4, 512)         2359808   \n",
      "_________________________________________________________________\n",
      "block4_pool (MaxPooling2D)   (None, 2, 2, 512)         0         \n",
      "_________________________________________________________________\n",
      "block5_conv1 (Conv2D)        (None, 2, 2, 512)         2359808   \n",
      "_________________________________________________________________\n",
      "block5_conv2 (Conv2D)        (None, 2, 2, 512)         2359808   \n",
      "_________________________________________________________________\n",
      "block5_conv3 (Conv2D)        (None, 2, 2, 512)         2359808   \n",
      "_________________________________________________________________\n",
      "block5_pool (MaxPooling2D)   (None, 1, 1, 512)         0         \n",
      "_________________________________________________________________\n",
      "flatten_9 (Flatten)          (None, 512)               0         \n",
      "_________________________________________________________________\n",
      "dense_46 (Dense)             (None, 256)               131328    \n",
      "_________________________________________________________________\n",
      "batch_normalization_36 (Batc (None, 256)               1024      \n",
      "_________________________________________________________________\n",
      "dropout_28 (Dropout)         (None, 256)               0         \n",
      "_________________________________________________________________\n",
      "dense_47 (Dense)             (None, 128)               32896     \n",
      "_________________________________________________________________\n",
      "batch_normalization_37 (Batc (None, 128)               512       \n",
      "_________________________________________________________________\n",
      "dropout_29 (Dropout)         (None, 128)               0         \n",
      "_________________________________________________________________\n",
      "dense_48 (Dense)             (None, 10)                1290      \n",
      "=================================================================\n",
      "Total params: 14,881,738\n",
      "Trainable params: 13,145,482\n",
      "Non-trainable params: 1,736,256\n",
      "_________________________________________________________________\n",
      "None\n",
      "         loss  accuracy  val_loss  val_accuracy\n",
      "min  0.098339  0.577568  0.284042      0.724995\n",
      "max  1.218755  0.973656  7.243681      0.919368\n"
     ]
    },
    {
     "data": {
      "image/png": "[encoded data removed]",
      "text/plain": [
       "<Figure size 432x288 with 1 Axes>"
      ]
     },
     "metadata": {
      "needs_background": "light"
     },
     "output_type": "display_data"
    }
   ],
   "source": [
    "from tensorflow.keras.applications.vgg16 import VGG16\n",
    "\n",
    "def build_model_4_1():\n",
    "\n",
    "  # Load pre-trained VGG16 model (without Dense block)\n",
    "  model_VGG16 = VGG16(include_top=False, input_shape=(32, 32, 3))\n",
    "\n",
    "  # Initialize model\n",
    "  model_VGG16_conv = models.Sequential()\n",
    "\n",
    "  # Bound which convolutional layers to freeze\n",
    "  nonfrozen = 8\n",
    "  count = 0\n",
    "\n",
    "  # Build new model, adding layers\n",
    "  for layer in model_VGG16.layers:\n",
    "    layer_name = layer.name\n",
    "    # Freezing layers\n",
    "    if count < len(model_VGG16.layers) - nonfrozen:\n",
    "      layer.trainable = False\n",
    "    elif layer_name.endswith('pool'):\n",
    "      layer.trainable = False\n",
    "    else:\n",
    "      pass\n",
    "    model_VGG16_conv.add(layer)\n",
    "    count += 1\n",
    "\n",
    "  # Add dense classification output layer\n",
    "  model_VGG16_conv.add(layers.Flatten())\n",
    "  model_VGG16_conv.add(layers.Dense(256, activation='relu'))\n",
    "  model_VGG16_conv.add(layers.BatchNormalization())\n",
    "  model_VGG16_conv.add(layers.Dropout(0.2))\n",
    "  model_VGG16_conv.add(layers.Dense(128, activation='relu'))\n",
    "  model_VGG16_conv.add(layers.BatchNormalization())\n",
    "  model_VGG16_conv.add(layers.Dropout(0.2))\n",
    "\n",
    "  model_VGG16_conv.add(layers.Dense(10, activation='softmax'))\n",
    "\n",
    "  # Check which layers are frozen\n",
    "  for layer in model_VGG16_conv.layers:\n",
    "    print(layer, layer.trainable)\n",
    "\n",
    "  # Compile and return model\n",
    "  model_VGG16_conv.compile(optimizer=optimizers.RMSprop(learning_rate=0.001),\n",
    "                loss='categorical_crossentropy',\n",
    "                metrics=['accuracy'])\n",
    "\n",
    "  return model_VGG16_conv\n",
    "\n",
    "# Evaluate\n",
    "run_evaluation(\"model_4_1\", build_model_4_1, evaluation_split, base_dir, \n",
    "               train=False, epochs=15, batch_size=64)\n"
   ]
  },
  {
   "cell_type": "code",
   "execution_count": 33,
   "metadata": {},
   "outputs": [
    {
     "name": "stdout",
     "output_type": "stream",
     "text": [
      "Answer is 401 characters long\n"
     ]
    }
   ],
   "source": [
    "answer_q_4_1 = \"\"\"\n",
    "The last 2 blocks of Conv layers are unfreezed for proper learning, which worked best to train the model.\n",
    "Regularization is applied and Dense layers are added for the class prediction using Softmax.\n",
    "Unfreezing enough convolutional layers was definitely needed to train the model properly.\n",
    "The final model showed good results with an accuracy of approx 92%.\"\"\"\n",
    "\n",
    "print(\"Answer is {} characters long\".format(len(answer_q_4_1)))"
   ]
  },
  {
   "cell_type": "markdown",
   "metadata": {
    "colab_type": "text",
    "id": "cp60rxZTYI8O"
   },
   "source": [
    "### Question 4.2 Embeddings and pipelines (5 points)\n",
    "- Generate embeddings of the original images by running them through the trained convolutional part of model_4_1 (without the dense layer) and returning the output. Embed the training and test data and store them to disk using the helper functions below. Implement a function `store_embeddings` that loads model_4_1 and stores all necessary embeddings to file. Make sure to run it once so that the embeddings are stored (and submitted).\n",
    "- Implement a function 'generate_pipeline' that returns an scikit-learn pipeline. You can use any non-deep learning technique (eg. SVMs, RFs,...), and preprocessing technique. You can do model selection using the validation set. \n",
    "- Implement a function 'evaluate_pipeline' that evaluates a given pipeline on a given training and test set. \n",
    "- Implement a function 'evaluation_4_2' that evaluates your pipeline on the embedded training and test set (loaded from file) and returns the accuracy. \n",
    "- Describe what you did and what you observed. Report the obtained accuracy score. Can you beat your best model thus far?"
   ]
  },
  {
   "cell_type": "code",
   "execution_count": 34,
   "metadata": {
    "colab": {
     "base_uri": "https://localhost:8080/",
     "height": 323
    },
    "colab_type": "code",
    "executionInfo": {
     "elapsed": 159978,
     "status": "ok",
     "timestamp": 1587375659338,
     "user": {
      "displayName": "Dennis Marinissen",
      "photoUrl": "",
      "userId": "12528101557848281448"
     },
     "user_tz": -120
    },
    "id": "IQo_zskOrs_m",
    "outputId": "da584f57-50c7-4430-d9ec-45bc3e2648c3"
   },
   "outputs": [],
   "source": [
    "from sklearn.pipeline import make_pipeline, Pipeline\n",
    "from sklearn.model_selection import cross_val_score, GridSearchCV\n",
    "from sklearn.preprocessing import StandardScaler\n",
    "from sklearn.svm import SVC\n",
    "import pickle\n",
    "import gzip\n",
    "\n",
    "def store_embedding(X, name):  \n",
    "  with gzip.open(os.path.join(base_dir, name+'_embedding.p'), 'wb') as file_pi:\n",
    "    pickle.dump(X, file_pi)\n",
    "\n",
    "def load_embedding(name):\n",
    "  with gzip.open(os.path.join(base_dir, name+'_embedding.p'), 'rb') as file_pi:\n",
    "    return pickle.load(file_pi)\n",
    "\n",
    "def store_embeddings():\n",
    "  # Import model\n",
    "  model_4_1 = load_model_from_file(base_dir, \"model_4_1\")\n",
    "\n",
    "  # Init new model\n",
    "  model_4_1_conv = models.Sequential()\n",
    "\n",
    "  # Add all convolutional layers\n",
    "  for layer in model_4_1.layers[:-8]:\n",
    "      model_4_1_conv.add(layer)\n",
    "  \n",
    "  # Flatten and compile\n",
    "  model_4_1_conv.add(layers.Flatten())\n",
    "  model_4_1_conv.compile(optimizer=optimizers.RMSprop(learning_rate=0.001), \n",
    "                         loss='categorical_crossentropy',\n",
    "                         metrics=['accuracy'])\n",
    "\n",
    "  # Predict classes and store embeddings\n",
    "  X_test_embedding = model_4_1_conv.predict(X_test)\n",
    "  store_embedding(X_test_embedding, 'X_test')\n",
    "  X_train_embedding = model_4_1_conv.predict(X_train)\n",
    "  store_embedding(X_train_embedding, 'X_train')\n",
    "\n",
    "def generate_pipeline():\n",
    "  # Return pipeline\n",
    "  return make_pipeline(StandardScaler(), SVC())\n",
    "\n",
    "def evaluate_pipeline(pipeline, X_train, y_train, X_test, y_test):\n",
    "  # Fit data\n",
    "  pipeline.fit(X_train, y_train)\n",
    "\n",
    "  # Return accuracy\n",
    "  return pipeline.score(X_test, y_test)\n",
    "\n",
    "def evaluation_4_2(X_train, y_train, X_test, y_test):\n",
    "  # Load embeddings and generate pipeline\n",
    "  X_train_embedding = load_embedding('X_train')\n",
    "  X_test_embedding = load_embedding('X_test')\n",
    "  pipe = generate_pipeline()\n",
    "\n",
    "  # Return accuracy by evaluating\n",
    "  return evaluate_pipeline(pipe, \n",
    "                           X_train_embedding, \n",
    "                           np.argmax(y_train, axis=1), \n",
    "                           X_test_embedding, \n",
    "                           np.argmax(y_test, axis=1))\n"
   ]
  },
  {
   "cell_type": "code",
   "execution_count": 35,
   "metadata": {},
   "outputs": [
    {
     "name": "stdout",
     "output_type": "stream",
     "text": [
      "Pipeline:  Pipeline(memory=None,\n",
      "         steps=[('standardscaler',\n",
      "                 StandardScaler(copy=True, with_mean=True, with_std=True)),\n",
      "                ('svc',\n",
      "                 SVC(C=1.0, break_ties=False, cache_size=200, class_weight=None,\n",
      "                     coef0=0.0, decision_function_shape='ovr', degree=3,\n",
      "                     gamma='scale', kernel='rbf', max_iter=-1,\n",
      "                     probability=False, random_state=None, shrinking=True,\n",
      "                     tol=0.001, verbose=False))],\n",
      "         verbose=False)\n",
      "Answer is 363 characters long\n"
     ]
    }
   ],
   "source": [
    "answer_q_4_2 = \"\"\"\n",
    "Several pre-processing and classification models have been explored. \n",
    "Using StandardScaler and RandomForestClassifier gave good results. Differences between models and classifiers were not very significant.\n",
    "Thusfar, an accuracy of just over 92% is the best perfoming model for 4.1. \n",
    "Here we see about 0.5% improvement.\"\"\"\n",
    "\n",
    "# store_embeddings()\n",
    "print(\"Pipeline: \", generate_pipeline())\n",
    "# print(\"Accuracy: \", evaluation_4_2(X_train, y_train, X_test, y_test))\n",
    "print(\"Answer is {} characters long\".format(len(answer_q_4_2)))"
   ]
  },
  {
   "cell_type": "code",
   "execution_count": null,
   "metadata": {},
   "outputs": [],
   "source": []
  }
 ],
 "metadata": {
  "accelerator": "GPU",
  "anaconda-cloud": {},
  "colab": {
   "collapsed_sections": [],
   "machine_shape": "hm",
   "name": "Assignment 3.ipynb",
   "provenance": []
  },
  "kernelspec": {
   "display_name": "Python 3",
   "language": "python",
   "name": "python3"
  },
  "language_info": {
   "codemirror_mode": {
    "name": "ipython",
    "version": 3
   },
   "file_extension": ".py",
   "mimetype": "text/x-python",
   "name": "python",
   "nbconvert_exporter": "python",
   "pygments_lexer": "ipython3",
   "version": "3.6.10"
  }
 },
 "nbformat": 4,
 "nbformat_minor": 1
}
