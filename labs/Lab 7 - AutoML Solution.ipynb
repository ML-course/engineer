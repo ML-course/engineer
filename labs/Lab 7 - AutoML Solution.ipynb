{
 "cells": [
  {
   "cell_type": "markdown",
   "metadata": {},
   "source": [
    "# Lab 7: AutoML"
   ]
  },
  {
   "cell_type": "code",
   "execution_count": 48,
   "metadata": {},
   "outputs": [],
   "source": [
    "import logging\n",
    "import openml as oml\n",
    "from sklearn.model_selection import train_test_split\n",
    "%matplotlib inline"
   ]
  },
  {
   "cell_type": "markdown",
   "metadata": {},
   "source": [
    "## Exercise: Using GAMA"
   ]
  },
  {
   "cell_type": "markdown",
   "metadata": {},
   "source": [
    "### Installation"
   ]
  },
  {
   "cell_type": "markdown",
   "metadata": {},
   "source": [
    "In this exercise we will use AutoML tool [GAMA](https://github.com/PGijsbers/gama/).\n",
    "The exercise is self-contained, but if you want to know more the documentation is found [here](https://pgijsbers.github.io/gama/develop/).\n",
    "First, make sure GAMA is installed and/or check the right version is installed:"
   ]
  },
  {
   "cell_type": "code",
   "execution_count": null,
   "metadata": {},
   "outputs": [],
   "source": [
    "!pip install --quiet gama"
   ]
  },
  {
   "cell_type": "code",
   "execution_count": 81,
   "metadata": {},
   "outputs": [
    {
     "name": "stdout",
     "output_type": "stream",
     "text": [
      "OK. You may continue :)\n"
     ]
    }
   ],
   "source": [
    "from packaging import version\n",
    "import gama\n",
    "if version.parse(gama.__version__) < version.parse(\"20.1.0\"):\n",
    "    print(\"GAMA is outdated. Please update now!\")\n",
    "else:\n",
    "    print(\"OK. You may continue :)\")"
   ]
  },
  {
   "cell_type": "markdown",
   "metadata": {},
   "source": [
    "*note*:\n",
    "> GAMA is under active development. Parts of the interface are still subject to change. We are also using small time budgets because the lab only lasts two hours. For that reason some of the results may be affected more than usual by the randomness inherent to evolutionary search."
   ]
  },
  {
   "cell_type": "markdown",
   "metadata": {},
   "source": [
    "### Standard use case on NO<sub>2</sub> data"
   ]
  },
  {
   "cell_type": "markdown",
   "metadata": {},
   "source": [
    "In lab session 1, we tested several models the predict **NO<sub>2</sub>** levels.\n",
    "Here we will use GAMA automatically find a pipeline for this task.\n",
    "First we have to fetch the data from OpenML, and split it into a train and test set:"
   ]
  },
  {
   "cell_type": "code",
   "execution_count": 7,
   "metadata": {},
   "outputs": [
    {
     "name": "stderr",
     "output_type": "stream",
     "text": [
      "[WARNING] [14:38:00:openml.datasets.dataset] Cannot convert non-sparse data (<class 'pandas.core.frame.DataFrame'>) to 'DataFrame'. Returning input data.\n",
      "[WARNING] [14:38:00:openml.datasets.dataset] Cannot convert non-sparse data (<class 'pandas.core.series.Series'>) to 'DataFrame'. Returning input data.\n"
     ]
    }
   ],
   "source": [
    "no2 = oml.datasets.get_dataset(547)\n",
    "X, y, _, _ = no2.get_data(target=no2.default_target_attribute, dataset_format='DataFrame');\n",
    "X = X.drop('day',axis=1)\n",
    "X_train, X_test, y_train, y_test = train_test_split(X, y, train_size=0.8)"
   ]
  },
  {
   "cell_type": "markdown",
   "metadata": {},
   "source": [
    "We can then import and use GAMA just like a scikit-learn classifier or regressor:"
   ]
  },
  {
   "cell_type": "code",
   "execution_count": 16,
   "metadata": {},
   "outputs": [
    {
     "name": "stdout",
     "output_type": "stream",
     "text": [
      "Using GAMA version 20.1.0.\n",
      "GamaRegressor(post_processing_method=BestFitPostProcessing(),search_method=AsyncEA(),keep_analysis_log=D:\\repositories\\engineer-private\\labs\\no2.log,verbosity=20,n_jobs=1,max_eval_time=None,max_total_time=60,random_state=None,max_pipeline_length=None,regularize_length=True,scoring=r2)\n"
     ]
    }
   ],
   "source": [
    "from gama import GamaClassifier, GamaRegressor\n",
    "automl = GamaRegressor(\n",
    "    max_total_time=60, # in seconds\n",
    "    n_jobs=1,  # one subprocess\n",
    "    scoring='r2',  # metric to optimize for\n",
    "    verbosity=logging.INFO,  # to get printed updates about search progress\n",
    "    keep_analysis_log=\"no2.log\",  # name for a log file to record search output in\n",
    ")"
   ]
  },
  {
   "cell_type": "markdown",
   "metadata": {},
   "source": [
    "Starting AutoML is now as simple as calling `fit` with the training data. You can use the `score` function to get the model's score on the test set. Using GAMA, fit a model to the data and report the score."
   ]
  },
  {
   "cell_type": "code",
   "execution_count": 17,
   "metadata": {},
   "outputs": [
    {
     "name": "stdout",
     "output_type": "stream",
     "text": [
      "preprocessing took 0.0020s.\n",
      "Starting EA with new population.\n",
      "Search phase evaluated 112 individuals.\n",
      "search took 53.0341s.\n",
      "postprocess took 0.1501s.\n"
     ]
    },
    {
     "data": {
      "text/plain": [
       "0.5160622839447353"
      ]
     },
     "execution_count": 17,
     "metadata": {},
     "output_type": "execute_result"
    }
   ],
   "source": [
    "# solution:\n",
    "automl.fit(X_train, y_train)\n",
    "automl.score(X_test, y_test)"
   ]
  },
  {
   "cell_type": "markdown",
   "metadata": {},
   "source": [
    "How does the score compare to the maximum of `0.4796` found in lab 1?\n",
    "It's likely better. Because the dataset is so small, even in one minute time GAMA can evaluate many pipelines.\n",
    "GAMA also considers more (and different) models than those from lab 1.\n",
    "\n",
    "The number of pipelines that have been evaluated should've been printed as cell output.\n",
    "But we can also have a closer look at which pipelines have been evaluated.\n",
    "We do this by parsing the log GAMA created (filename set by `keep_analysis_log`) with the builtin `GamaReport` parser:"
   ]
  },
  {
   "cell_type": "code",
   "execution_count": 30,
   "metadata": {},
   "outputs": [],
   "source": [
    "def transform_evaluations(df):\n",
    "    \"\"\" The GamaReport was initially developed for use within GAMA tooling.\n",
    "    For this reason it contains some hard to interpret, useless or internal data.\n",
    "    For clarity, we filter this out for you.\n",
    "    \"\"\"\n",
    "    df = df.drop(['id', 'length_cummax', 'relative_end'], axis=1)\n",
    "    df['length'] = -df['length']\n",
    "    return df"
   ]
  },
  {
   "cell_type": "code",
   "execution_count": 32,
   "metadata": {},
   "outputs": [
    {
     "data": {
      "text/html": [
       "<div>\n",
       "<style scoped>\n",
       "    .dataframe tbody tr th:only-of-type {\n",
       "        vertical-align: middle;\n",
       "    }\n",
       "\n",
       "    .dataframe tbody tr th {\n",
       "        vertical-align: top;\n",
       "    }\n",
       "\n",
       "    .dataframe thead th {\n",
       "        text-align: right;\n",
       "    }\n",
       "</style>\n",
       "<table border=\"1\" class=\"dataframe\">\n",
       "  <thead>\n",
       "    <tr style=\"text-align: right;\">\n",
       "      <th></th>\n",
       "      <th>n</th>\n",
       "      <th>start</th>\n",
       "      <th>duration</th>\n",
       "      <th>r2</th>\n",
       "      <th>length</th>\n",
       "      <th>pipeline</th>\n",
       "      <th>r2_cummax</th>\n",
       "    </tr>\n",
       "  </thead>\n",
       "  <tbody>\n",
       "    <tr>\n",
       "      <th>8</th>\n",
       "      <td>8</td>\n",
       "      <td>2020-03-31 14:50:23.071341</td>\n",
       "      <td>00:00:00.014014</td>\n",
       "      <td>-inf</td>\n",
       "      <td>3.0</td>\n",
       "      <td>LinearSVR(MaxAbsScaler(PCA(data, PCA.iterated_...</td>\n",
       "      <td>0.526649</td>\n",
       "    </tr>\n",
       "    <tr>\n",
       "      <th>56</th>\n",
       "      <td>56</td>\n",
       "      <td>2020-03-31 14:50:46.267466</td>\n",
       "      <td>00:00:00.106107</td>\n",
       "      <td>-0.738962</td>\n",
       "      <td>1.0</td>\n",
       "      <td>LinearSVR(data, LinearSVR.C=25.0, LinearSVR.du...</td>\n",
       "      <td>0.547518</td>\n",
       "    </tr>\n",
       "    <tr>\n",
       "      <th>73</th>\n",
       "      <td>73</td>\n",
       "      <td>2020-03-31 14:50:53.928057</td>\n",
       "      <td>00:00:00.303274</td>\n",
       "      <td>0.391061</td>\n",
       "      <td>2.0</td>\n",
       "      <td>ElasticNetCV(SelectPercentile(data, SelectPerc...</td>\n",
       "      <td>0.547518</td>\n",
       "    </tr>\n",
       "    <tr>\n",
       "      <th>74</th>\n",
       "      <td>74</td>\n",
       "      <td>2020-03-31 14:50:54.238343</td>\n",
       "      <td>00:00:00.709620</td>\n",
       "      <td>-0.008657</td>\n",
       "      <td>2.0</td>\n",
       "      <td>ElasticNetCV(RBFSampler(data, RBFSampler.gamma...</td>\n",
       "      <td>0.547518</td>\n",
       "    </tr>\n",
       "    <tr>\n",
       "      <th>79</th>\n",
       "      <td>79</td>\n",
       "      <td>2020-03-31 14:50:56.255362</td>\n",
       "      <td>00:00:00.071072</td>\n",
       "      <td>-0.014366</td>\n",
       "      <td>2.0</td>\n",
       "      <td>KNeighborsRegressor(RBFSampler(data, RBFSample...</td>\n",
       "      <td>0.547518</td>\n",
       "    </tr>\n",
       "  </tbody>\n",
       "</table>\n",
       "</div>"
      ],
      "text/plain": [
       "     n                      start        duration        r2  length  \\\n",
       "8    8 2020-03-31 14:50:23.071341 00:00:00.014014      -inf     3.0   \n",
       "56  56 2020-03-31 14:50:46.267466 00:00:00.106107 -0.738962     1.0   \n",
       "73  73 2020-03-31 14:50:53.928057 00:00:00.303274  0.391061     2.0   \n",
       "74  74 2020-03-31 14:50:54.238343 00:00:00.709620 -0.008657     2.0   \n",
       "79  79 2020-03-31 14:50:56.255362 00:00:00.071072 -0.014366     2.0   \n",
       "\n",
       "                                             pipeline  r2_cummax  \n",
       "8   LinearSVR(MaxAbsScaler(PCA(data, PCA.iterated_...   0.526649  \n",
       "56  LinearSVR(data, LinearSVR.C=25.0, LinearSVR.du...   0.547518  \n",
       "73  ElasticNetCV(SelectPercentile(data, SelectPerc...   0.547518  \n",
       "74  ElasticNetCV(RBFSampler(data, RBFSampler.gamma...   0.547518  \n",
       "79  KNeighborsRegressor(RBFSampler(data, RBFSample...   0.547518  "
      ]
     },
     "execution_count": 32,
     "metadata": {},
     "output_type": "execute_result"
    }
   ],
   "source": [
    "from gama.logging.GamaReport import GamaReport\n",
    "report = GamaReport(logfile=\"no2.log\")\n",
    "evaluations = transform_evaluations(report.evaluations)\n",
    "evaluations.sample(5).sort_values(by='n')  # Show 5 random samples from the dataframe, but sort them by order of n."
   ]
  },
  {
   "cell_type": "markdown",
   "metadata": {},
   "source": [
    "This dataframe has the following columns:\n",
    " - n: the n-th pipeline to be evaluated in search\n",
    " - start: start time of the evaluation\n",
    " - duration: the time it took to evaluate the model (in seconds)\n",
    " - r2: the r2 score of the pipeline (based on 5-fold cross-validation on the training data)\n",
    " - length: the number of steps in the pipeline times (i.e., length 2 means one preprocessing step and one estimator).\n",
    " - pipeline: the pipeline (more info below)\n",
    " - r2_cummax: the maximum r2 score found at evaluation `n`"
   ]
  },
  {
   "cell_type": "markdown",
   "metadata": {},
   "source": [
    "Find the best pipeline of each length from the `evaluations` dataframe (or one of the best, in case of a tie)."
   ]
  },
  {
   "cell_type": "code",
   "execution_count": 41,
   "metadata": {},
   "outputs": [
    {
     "data": {
      "text/html": [
       "<div>\n",
       "<style scoped>\n",
       "    .dataframe tbody tr th:only-of-type {\n",
       "        vertical-align: middle;\n",
       "    }\n",
       "\n",
       "    .dataframe tbody tr th {\n",
       "        vertical-align: top;\n",
       "    }\n",
       "\n",
       "    .dataframe thead th {\n",
       "        text-align: right;\n",
       "    }\n",
       "</style>\n",
       "<table border=\"1\" class=\"dataframe\">\n",
       "  <thead>\n",
       "    <tr style=\"text-align: right;\">\n",
       "      <th></th>\n",
       "      <th>n</th>\n",
       "      <th>start</th>\n",
       "      <th>duration</th>\n",
       "      <th>r2</th>\n",
       "      <th>length</th>\n",
       "      <th>pipeline</th>\n",
       "      <th>r2_cummax</th>\n",
       "    </tr>\n",
       "  </thead>\n",
       "  <tbody>\n",
       "    <tr>\n",
       "      <th>87</th>\n",
       "      <td>87</td>\n",
       "      <td>2020-03-31 14:50:59.841370</td>\n",
       "      <td>00:00:00.736680</td>\n",
       "      <td>0.549169</td>\n",
       "      <td>1.0</td>\n",
       "      <td>AdaBoostRegressor(data, AdaBoostRegressor.lear...</td>\n",
       "      <td>0.549169</td>\n",
       "    </tr>\n",
       "    <tr>\n",
       "      <th>96</th>\n",
       "      <td>96</td>\n",
       "      <td>2020-03-31 14:51:04.029687</td>\n",
       "      <td>00:00:00.604176</td>\n",
       "      <td>0.538464</td>\n",
       "      <td>3.0</td>\n",
       "      <td>ElasticNetCV(RBFSampler(MinMaxScaler(data), RB...</td>\n",
       "      <td>0.549169</td>\n",
       "    </tr>\n",
       "    <tr>\n",
       "      <th>36</th>\n",
       "      <td>36</td>\n",
       "      <td>2020-03-31 14:50:34.156873</td>\n",
       "      <td>00:00:00.741385</td>\n",
       "      <td>0.531917</td>\n",
       "      <td>2.0</td>\n",
       "      <td>AdaBoostRegressor(MinMaxScaler(data), AdaBoost...</td>\n",
       "      <td>0.547518</td>\n",
       "    </tr>\n",
       "    <tr>\n",
       "      <th>70</th>\n",
       "      <td>70</td>\n",
       "      <td>2020-03-31 14:50:48.543213</td>\n",
       "      <td>00:00:01.302885</td>\n",
       "      <td>0.463004</td>\n",
       "      <td>4.0</td>\n",
       "      <td>AdaBoostRegressor(PCA(PolynomialFeatures(PCA(d...</td>\n",
       "      <td>0.547518</td>\n",
       "    </tr>\n",
       "  </tbody>\n",
       "</table>\n",
       "</div>"
      ],
      "text/plain": [
       "     n                      start        duration        r2  length  \\\n",
       "87  87 2020-03-31 14:50:59.841370 00:00:00.736680  0.549169     1.0   \n",
       "96  96 2020-03-31 14:51:04.029687 00:00:00.604176  0.538464     3.0   \n",
       "36  36 2020-03-31 14:50:34.156873 00:00:00.741385  0.531917     2.0   \n",
       "70  70 2020-03-31 14:50:48.543213 00:00:01.302885  0.463004     4.0   \n",
       "\n",
       "                                             pipeline  r2_cummax  \n",
       "87  AdaBoostRegressor(data, AdaBoostRegressor.lear...   0.549169  \n",
       "96  ElasticNetCV(RBFSampler(MinMaxScaler(data), RB...   0.549169  \n",
       "36  AdaBoostRegressor(MinMaxScaler(data), AdaBoost...   0.547518  \n",
       "70  AdaBoostRegressor(PCA(PolynomialFeatures(PCA(d...   0.547518  "
      ]
     },
     "execution_count": 41,
     "metadata": {},
     "output_type": "execute_result"
    }
   ],
   "source": [
    "# solution:\n",
    "evaluations.sort_values('r2', ascending=False).drop_duplicates(['length'])"
   ]
  },
  {
   "cell_type": "markdown",
   "metadata": {},
   "source": [
    "To visualize the progress of search, plot:\n",
    " - The `r2` score for each evaluation as a function of `n`, preferably only for those evaluations with an `r2` score of at least 0.\n",
    " - The maximum `r2` score as a function of `n`"
   ]
  },
  {
   "cell_type": "code",
   "execution_count": 95,
   "metadata": {},
   "outputs": [
    {
     "data": {
      "text/plain": [
       "<matplotlib.axes._subplots.AxesSubplot at 0x1f846661748>"
      ]
     },
     "execution_count": 95,
     "metadata": {},
     "output_type": "execute_result"
    },
    {
     "data": {
      "image/png": "[encoded data removed]",
      "text/plain": [
       "<Figure size 432x288 with 1 Axes>"
      ]
     },
     "metadata": {
      "needs_background": "light"
     },
     "output_type": "display_data"
    },
    {
     "data": {
      "image/png": "[encoded data removed]",
      "text/plain": [
       "<Figure size 432x288 with 1 Axes>"
      ]
     },
     "metadata": {
      "needs_background": "light"
     },
     "output_type": "display_data"
    }
   ],
   "source": [
    "evaluations[evaluations['r2'] > 0].plot.scatter(x='n', y='r2')\n",
    "evaluations.plot.line(x='n', y='r2_cummax')"
   ]
  },
  {
   "cell_type": "markdown",
   "metadata": {},
   "source": [
    "### Automatic Ensembles on Covertype"
   ]
  },
  {
   "cell_type": "markdown",
   "metadata": {},
   "source": [
    "Next we will take a look at a classification problem, and change the AutoML pipeline.\n",
    "First, download the covertype dataset (id: 180) that we saw in lab 3.\n",
    "First take a stratified subsample of 50% of the data (using `train_test_split`).\n",
    "Then split that data into a train and test set (50%/50%). \n",
    "The train and test sets are now both 25% of the total data."
   ]
  },
  {
   "cell_type": "code",
   "execution_count": 90,
   "metadata": {},
   "outputs": [
    {
     "name": "stderr",
     "output_type": "stream",
     "text": [
      "[WARNING] [16:46:08:openml.datasets.dataset] Cannot convert non-sparse data (<class 'pandas.core.frame.DataFrame'>) to 'DataFrame'. Returning input data.\n",
      "[WARNING] [16:46:08:openml.datasets.dataset] Cannot convert non-sparse data (<class 'pandas.core.series.Series'>) to 'DataFrame'. Returning input data.\n"
     ]
    }
   ],
   "source": [
    "# Solution:\n",
    "trees = oml.datasets.get_dataset(180)\n",
    "X, y, _, _ = trees.get_data(target=trees.default_target_attribute, dataset_format='DataFrame')\n",
    "X_sub, _, y_sub, _ = train_test_split(X, y, stratify=y, train_size=0.5)\n",
    "X_train, X_test, y_train, y_test = train_test_split(X_sub, y_sub, stratify=y_sub, train_size=0.5)"
   ]
  },
  {
   "cell_type": "markdown",
   "metadata": {},
   "source": [
    "Initialize a GamaClassifier, similarly to how the GamaRegressor was initialized, but:\n",
    " - specify the maximum runtime to at least 3 minutes,\n",
    " - set `n_jobs` to 2,\n",
    " - set the metric to accuracy,\n",
    " - specify a different log name,\n",
    "\n",
    "Then start search (`fit`) and evaluate the model on the test data (`score`).\n",
    "Take a short break once it's all running, or ask us a question about the lecture! :)"
   ]
  },
  {
   "cell_type": "code",
   "execution_count": 70,
   "metadata": {},
   "outputs": [
    {
     "name": "stdout",
     "output_type": "stream",
     "text": [
      "Using GAMA version 20.1.0.\n",
      "GamaClassifier(post_processing_method=BestFitPostProcessing(),search_method=AsyncEA(),keep_analysis_log=D:\\repositories\\engineer-private\\labs\\trees.log,verbosity=20,n_jobs=2,max_eval_time=None,max_total_time=180,random_state=None,max_pipeline_length=None,regularize_length=True,scoring=accuracy)\n"
     ]
    }
   ],
   "source": [
    "automl = GamaClassifier(\n",
    "    max_total_time=180, # in seconds\n",
    "    n_jobs=2,  # one subprocess\n",
    "    scoring='accuracy',  # metric to optimize for\n",
    "    verbosity=logging.INFO,  # to get printed updates about search progress\n",
    "    keep_analysis_log=\"trees.log\",  # name for a log file to record search output in\n",
    ")"
   ]
  },
  {
   "cell_type": "code",
   "execution_count": 71,
   "metadata": {},
   "outputs": [
    {
     "name": "stdout",
     "output_type": "stream",
     "text": [
      "preprocessing took 0.2502s.\n",
      "Starting EA with new population.\n",
      "Search phase evaluated 35 individuals.\n",
      "search took 161.0288s.\n",
      "postprocess took 0.6211s.\n"
     ]
    }
   ],
   "source": [
    "automl.fit(X_train, y_train)"
   ]
  },
  {
   "cell_type": "code",
   "execution_count": 72,
   "metadata": {},
   "outputs": [
    {
     "data": {
      "text/plain": [
       "0.781143561127618"
      ]
     },
     "execution_count": 72,
     "metadata": {},
     "output_type": "execute_result"
    }
   ],
   "source": [
    "automl.score(X_test, y_test)"
   ]
  },
  {
   "cell_type": "markdown",
   "metadata": {},
   "source": [
    "How did the model perform? In lab 3 we had about 80% accuracy after tuning the number of trees in the RandomForest. How does this model compare?\n",
    "\n",
    "The covertype dataset is quite large, and three minutes is not much time. For this reason we downsampled such that our training set contained only 25% of the original data. In our experience with these constraints, we find that GAMA can produce models with 80% accuracy, but it's also possible to see worse results. With more time we could search longer and evaluate more models on more of the data."
   ]
  },
  {
   "cell_type": "markdown",
   "metadata": {},
   "source": [
    "Up to this point GAMA has been using the best found pipeline to make predictions on the test data.\n",
    "However, we saw that constructing ensembles of models can be a useful tool to gain additional performance.\n",
    "GAMA can be configured to automatically build an ensemble from the models it found during search. To do this you should initialize GAMA with the `post_processing_method` specified:"
   ]
  },
  {
   "cell_type": "code",
   "execution_count": 134,
   "metadata": {},
   "outputs": [
    {
     "name": "stdout",
     "output_type": "stream",
     "text": [
      "Using GAMA version 20.1.0.\n",
      "GamaClassifier(post_processing_method=EnsemblePostProcessing(ensemble_size=25,hillclimb_size=10000,max_models=200),search_method=AsyncEA(),keep_analysis_log=D:\\repositories\\engineer-private\\labs\\covtype_ensemble.log,verbosity=20,n_jobs=2,max_eval_time=None,max_total_time=180,random_state=None,max_pipeline_length=None,regularize_length=True,scoring=accuracy)\n"
     ]
    }
   ],
   "source": [
    "from gama.postprocessing import EnsemblePostProcessing\n",
    "\n",
    "automl_with_ensemble = GamaClassifier(\n",
    "    max_total_time=180,\n",
    "    n_jobs=2,\n",
    "    verbosity=logging.INFO,\n",
    "    keep_analysis_log=\"covtype_ensemble.log\",\n",
    "    scoring='accuracy',\n",
    "    post_processing_method=EnsemblePostProcessing(),  # Specify to build an ensemble after search\n",
    ")"
   ]
  },
  {
   "cell_type": "markdown",
   "metadata": {},
   "source": [
    "Again, start search and record the test set score:"
   ]
  },
  {
   "cell_type": "code",
   "execution_count": 135,
   "metadata": {},
   "outputs": [
    {
     "name": "stdout",
     "output_type": "stream",
     "text": [
      "preprocessing took 0.3584s.\n",
      "Starting EA with new population.\n",
      "Search phase evaluated 35 individuals.\n",
      "search took 125.0366s.\n",
      "Not downsampling because only 10000 samples were stored.\n",
      "Ensemble size 11 , best score: 0.7573\n",
      "Ensemble size 12 , best score: 0.771\n",
      "Ensemble size 13 , best score: 0.7707\n",
      "Ensemble size 14 , best score: 0.7724\n",
      "Ensemble size 15 , best score: 0.7783\n",
      "Ensemble size 16 , best score: 0.7803\n",
      "Ensemble size 17 , best score: 0.7826\n",
      "Ensemble size 18 , best score: 0.7828\n",
      "Ensemble size 19 , best score: 0.7833\n",
      "Ensemble size 20 , best score: 0.7835\n",
      "Ensemble size 21 , best score: 0.7836\n",
      "Ensemble size 22 , best score: 0.7833\n",
      "Ensemble size 23 , best score: 0.7837\n",
      "Ensemble size 24 , best score: 0.7836\n",
      "Ensemble size 25 , best score: 0.7837\n",
      "Building ensemble took 1.4192991256713867s. Fitting ensemble with timeout 53.18575620651245s.\n",
      "postprocess took 1.4203s.\n",
      "ensemble score: 0.7786\n"
     ]
    }
   ],
   "source": [
    "# solution:\n",
    "automl_with_ensemble.fit(X_train, y_train)\n",
    "score = automl_with_ensemble.score(X_test, y_test)\n",
    "print(\"ensemble score: {:.4f}\".format(score))"
   ]
  },
  {
   "cell_type": "markdown",
   "metadata": {},
   "source": [
    "Note that this run was independent from the previous run. This means it might have found better or worse pipelines than last search. We cannot compare the performance of this ensemble directly to the previous best score. Run the code cell below to see how the single best pipeline would have scored *this* run:"
   ]
  },
  {
   "cell_type": "code",
   "execution_count": 136,
   "metadata": {},
   "outputs": [
    {
     "name": "stdout",
     "output_type": "stream",
     "text": [
      "train score: -0.782, test score: 0.792\n"
     ]
    }
   ],
   "source": [
    "# Currently post-hoc switching of post-processing method is not supported directly.\n",
    "# We work around this:\n",
    "from sklearn.metrics import log_loss\n",
    "\n",
    "best, = automl_with_ensemble._evaluation_library.n_best(1)\n",
    "best_pipeline = best.individual.pipeline\n",
    "best_pipeline.fit(X_train, y_train)\n",
    "test_score = best_pipeline.score(X_test, y_test)\n",
    "print(\"train score: {:.3f}, test score: {:.3f}\".format(best.score[0], test_score))"
   ]
  },
  {
   "cell_type": "markdown",
   "metadata": {},
   "source": [
    "In this case, did it improve the performance? Was the improvement big?\n",
    "\n",
    "Normally the ensemble should perform better, though the benefit can be very marginal.\n",
    "GAMA creates an Ensemble through weighting votes of pipelines evaluated in search (for the interested, the precise procedure is described in [Caruana et al. (2004)](https://www.cs.cornell.edu/~caruana/ctp/ct.papers/caruana.icml04.icdm06long.pdf)).\n",
    "In the scenario and constraints we have set up just now, creating a good ensemble is hard.\n",
    "Can you think of some reason(s) why?"
   ]
  },
  {
   "cell_type": "markdown",
   "metadata": {},
   "source": [
    "> Type your answer in this markdown cell."
   ]
  },
  {
   "cell_type": "markdown",
   "metadata": {},
   "source": [
    "Solution:\n",
    "> The covertype dataset we use is too big to evaluate many pipelines on, this means it is possible search did not yet evaluate many (types of) models. A heterogeneous ensemble (i.e. including different model families) can include models with different biases. The models of the same families might also exhibit too little variance."
   ]
  },
  {
   "cell_type": "markdown",
   "metadata": {},
   "source": [
    "### Image Recognition with AutoML"
   ]
  },
  {
   "cell_type": "markdown",
   "metadata": {},
   "source": [
    "> *note*: If you are running out of time, or are experiencing errors below, ignore the coding assigment. We are aware that in some scenarios GAMA halts on this example."
   ]
  },
  {
   "cell_type": "markdown",
   "metadata": {},
   "source": [
    "AutoML is still not (yet) a one-tool-fits-all solution.\n",
    "GAMA was designed to deal with tabular data.\n",
    "Last lab session you trained ConvNets to classify images in the CIFAR dataset.\n",
    "The very first model already had at least 60% accuracy, the best model had ~83% accuracy.\n",
    "We will now compare those results to GAMA:\n",
    " - download the CIFAR-10 dataset from OpenML (dataset id: 40926)\n",
    " - split the data into a train and test set (80%/20%)\n",
    " - run GAMA optimizing for accuracy, with n_jobs=1 and (at least) 5 minutes of runtime"
   ]
  },
  {
   "cell_type": "code",
   "execution_count": 8,
   "metadata": {},
   "outputs": [],
   "source": [
    "# SOLUTION:\n",
    "cifar = oml.datasets.get_dataset(40926) \n",
    "X, y, _, _ = cifar.get_data(target=cifar.default_target_attribute, dataset_format='array')\n",
    "X_train, X_test, y_train, y_test = train_test_split(X, y, stratify=y, train_size=0.8)\n",
    "automl = GamaClassifier(max_total_time=300, n_jobs=1, scoring='accuracy')\n",
    "\n",
    "automl.fit(X_train, y_train)\n",
    "automl.score(X_test, y_test)"
   ]
  },
  {
   "cell_type": "markdown",
   "metadata": {},
   "source": [
    "Results will vary wildly.\n",
    "Running it a few times can give scores ranging from ~10% accuracy to ~35% accuracy. \n",
    "More time will lead to better results, but it will not approach ConvNet levels of performance.\n",
    "Why do you think this is?"
   ]
  },
  {
   "cell_type": "markdown",
   "metadata": {},
   "source": [
    "> Type your answer in this markdown cell."
   ]
  },
  {
   "cell_type": "markdown",
   "metadata": {},
   "source": [
    "Solution:\n",
    "> GAMA's pipelines are built on scikit-learn preprocessing and classification algorithms that are great for tabular classification (and regression).\n",
    "However, these methods don't consider the locality of features, which is addressed with convolutional layers.\n",
    "They also do not deal with translation invariance, which can be addressed with pooling layers.\n",
    "These properties are important for building robust image classifiers.\n",
    "On the other hand, for regular tabular data we do care about the order of features.\n"
   ]
  },
  {
   "cell_type": "markdown",
   "metadata": {},
   "source": [
    "There are AutoML tools that are specifically designed to automatically learn neural network architectures. For example [AutoKeras](https://autokeras.com/) (Texas A&M University), [AutoGluon](https://autogluon.mxnet.io/) (commercial, Amazon), and [Cloud AutoML](https://cloud.google.com/automl) (commercial, Google). If you are eager, do go and compare your own ConvNet to these AutoML systems intead!"
   ]
  }
 ],
 "metadata": {
  "kernelspec": {
   "display_name": "Python 3",
   "language": "python",
   "name": "python3"
  },
  "language_info": {
   "codemirror_mode": {
    "name": "ipython",
    "version": 3
   },
   "file_extension": ".py",
   "mimetype": "text/x-python",
   "name": "python",
   "nbconvert_exporter": "python",
   "pygments_lexer": "ipython3",
   "version": "3.7.3"
  }
 },
 "nbformat": 4,
 "nbformat_minor": 4
}
