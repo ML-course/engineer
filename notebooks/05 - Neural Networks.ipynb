{
 "cells": [
  {
   "cell_type": "markdown",
   "metadata": {
    "slideshow": {
     "slide_type": "slide"
    }
   },
   "source": [
    "# Neural Networks\n",
    "\n",
    "**Deep Learning**\n",
    "\n",
    "Joaquin Vanschoren, Eindhoven University of Technology"
   ]
  },
  {
   "cell_type": "code",
   "execution_count": 1,
   "metadata": {
    "hide_input": false,
    "slideshow": {
     "slide_type": "skip"
    }
   },
   "outputs": [
    {
     "name": "stdout",
     "output_type": "stream",
     "text": [
      "Using Keras 2.2.4-tf\n"
     ]
    },
    {
     "data": {
      "text/html": [
       "<style>html, body{overflow-y: visible !important} .CodeMirror{min-width:105% !important;} .rise-enabled .CodeMirror, .rise-enabled .output_subarea{font-size:140%; line-height:1.2; overflow: visible;} .output_subarea pre{width:110%}</style>"
      ],
      "text/plain": [
       "<IPython.core.display.HTML object>"
      ]
     },
     "execution_count": 1,
     "metadata": {},
     "output_type": "execute_result"
    }
   ],
   "source": [
    "# Global imports and settings\n",
    "from preamble import *\n",
    "import tensorflow as tf\n",
    "print(\"Using Keras\",tf.keras.__version__)\n",
    "%matplotlib inline\n",
    "%matplotlib widget\n",
    "plt.rcParams['figure.dpi'] = 125 # Use 300 for PDF, 100 for slides\n",
    "# InteractiveShell.ast_node_interactivity = \"all\"\n",
    "HTML('''<style>html, body{overflow-y: visible !important} .CodeMirror{min-width:105% !important;} .rise-enabled .CodeMirror, .rise-enabled .output_subarea{font-size:140%; line-height:1.2; overflow: visible;} .output_subarea pre{width:110%}</style>''') # For slides"
   ]
  },
  {
   "cell_type": "markdown",
   "metadata": {
    "slideshow": {
     "slide_type": "slide"
    }
   },
   "source": [
    "## Overview\n",
    "* Mathematical foundations\n",
    "    * Tensors and tensor operations\n",
    "    * Backpropagation and gradient descent\n",
    "* Evaluation and Regularization\n",
    "* Text Representations"
   ]
  },
  {
   "cell_type": "markdown",
   "metadata": {
    "slideshow": {
     "slide_type": "slide"
    }
   },
   "source": [
    "### Neural networks\n",
    "* The core building block of a neural network is the _layer_\n",
    "* You can think of it as a _filter_ for the data\n",
    "    - Data goes in, and comes out in a more useful form\n",
    "* Layers extract new _representations_ of the data\n",
    "* _Deep learning_ models contain many such layers\n",
    "    - They progressively _distill_ (refine) the data\n",
    "<img src=\"../images/00_layers.png\" alt=\"ml\" style=\"width: 500px;\"/>"
   ]
  },
  {
   "cell_type": "markdown",
   "metadata": {
    "slideshow": {
     "slide_type": "slide"
    }
   },
   "source": [
    "#### Feature maps\n",
    "- Each layer transforms (maps) an input to possibly multiple outputs\n",
    "- Each layer needs to _learn_ how to do the mapping so that the final output is correct\n",
    "- There are different _types_ of layers that are constrained to certain mappings\n",
    "    - Allows us to introduce mappings which we think are useful: *flexible!*\n",
    "<img src=\"../images/00_layers2.png\" alt=\"ml\" style=\"width: 60%\"/>"
   ]
  },
  {
   "cell_type": "markdown",
   "metadata": {
    "slideshow": {
     "slide_type": "slide"
    }
   },
   "source": [
    "#### Terminology\n",
    "\n",
    "1. Numerical(!) input features are fed to individual _nodes_ of the _input layer_ (yellow)\n",
    "2. Each input is passed to a set of nodes in the _hidden layers_ (blue)\n",
    "    - In _dense_ layers, every previous layer node is connected to all nodes\n",
    "    - Every node produces an output that is some function of all its inputs\n",
    "3. The _output layer_ has a node for every possible outcome (red)\n",
    "    - A single regression value, multiple possible classes, or entire output images/signals/...  \n",
    "<img src=\"../images/08_nn_manylayers.png\" alt=\"ml\" style=\"width: 500px;\"/>"
   ]
  },
  {
   "cell_type": "markdown",
   "metadata": {
    "slideshow": {
     "slide_type": "slide"
    }
   },
   "source": [
    "#### Nodes\n",
    "* Each node gives each of its inputs a weight $w_i$ \n",
    "* Each node also has a bias $b$\n",
    "    * Sometimes 'drawn' as an extra input with value '1'\n",
    "* In its simplest form (a.k.a. the perceptron), each node outputs a weighted sum of the inputs: $y = \\sum_{i} x_{i}w_i + b$\n",
    "    * This is indeed equivalent to a linear model \n",
    "* Even a deep neural net of perceptrons can only learn a linear model\n",
    "    * To learn a non-linear model we need to transform $y$ with an _activation function_ $f$\n",
    "\n",
    "<img src=\"../images/perceptron.png\" alt=\"ml\" style=\"width: 500px;\"/>\n"
   ]
  },
  {
   "cell_type": "markdown",
   "metadata": {
    "slideshow": {
     "slide_type": "slide"
    }
   },
   "source": [
    "#### Activation functions\n",
    "* For hidden nodes, popular choices are the _rectified linear unit_ (ReLU) and _tanh_\n",
    "    - There are many others. We'll come back to this soon!\n",
    "    - ReLU is very cheap to compute, speeds up training\n",
    "* For classification, we use _softmax_ (or sigmoid)\n",
    "    - Transforms the input into a probability for each specific class\n",
    "    - This is exactly what we used for logistic regression!\n",
    "<img src=\"../images/08_activation.png\" alt=\"ml\" style=\"width: 1000px;\"/>"
   ]
  },
  {
   "cell_type": "markdown",
   "metadata": {
    "slideshow": {
     "slide_type": "slide"
    }
   },
   "source": [
    "#### Training Neural Nets\n",
    "* Each layer starts with random (small) weights\n",
    "    - Or weights could be _transferred_ from previously trained models (transfer learning or meta-learning)\n",
    "* _Loss function_: Measures how well the model fits the training data\n",
    "* _Optimizer_: Defines how to update the weights, e.g. gradient descent\n",
    "\n",
    "<img src=\"../images/09_overview.png\" alt=\"ml\" style=\"width: 400px;\"/>"
   ]
  },
  {
   "cell_type": "markdown",
   "metadata": {
    "slideshow": {
     "slide_type": "slide"
    }
   },
   "source": [
    "#### Representing data\n",
    "* We can represent all layer inputs (and outputs) as _tensors_\n",
    "    * These are numerical n-dimensional array (with n axes)\n",
    "    * 2D tensor: matrix (samples, features)\n",
    "    * 3D tensor: grayscale images (samples, height, width)\n",
    "        - or time series (samples, timesteps, features)\n",
    "    * 4D tensor: color images (samples, height, width, channels)\n",
    "    * 5D tensor: video (amples, frames, height, width, channels)  \n",
    "    \n",
    "<img src=\"../images/08_timeseries.png\" alt=\"ml\" style=\"float: left; width: 30%;\"/>\n",
    "<img src=\"../images/08_images.png\" alt=\"ml\" style=\"float: left; width: 30%;\"/>"
   ]
  },
  {
   "cell_type": "markdown",
   "metadata": {
    "slideshow": {
     "slide_type": "slide"
    }
   },
   "source": [
    "#### Implementing layers (from scratch)\n",
    "* The operations that neural network layers perform on the data can be reduced to a _series of tensor operations_\n",
    "* Imagine that we have a 2D input tensor $\\mathbf{x}$\n",
    "* A dense layer with ReLU activation could be implemented as:\n",
    "\n",
    "``` python\n",
    "y = relu(dot(W, x) + b)\n",
    "```\n",
    "* Uses a 2D weight tensor $\\mathbf{W}$\n",
    "    * One weight for every combination of input $x_i$ and node $n_j$\n",
    "* and a bias vector $\\mathbf{b}$ (one value per node $n_j$)\n",
    "* Performs a dot product, addition, and $relu(x) = max(x,0)$"
   ]
  },
  {
   "cell_type": "markdown",
   "metadata": {
    "slideshow": {
     "slide_type": "slide"
    }
   },
   "source": [
    "#### Element-wise operations\n",
    "\n",
    "ReLU and addition are element-wise operations. Since numpy arrays support element-wise operations natively, these are simply:\n",
    "\n",
    "``` python\n",
    "def relu(x):\n",
    "  return np.maximum(x, 0.)\n",
    "\n",
    "def add(x, y):\n",
    "  return x + y\n",
    "```\n",
    "\n",
    "Note: if y has a lower dimension than x, it will be _broadcasted_: axes are added to match the dimensionality, and y is repeated along the new axes \n",
    "\n",
    "``` python\n",
    ">>> np.array([[1,2],[3,4]]) + np.array([10,20])\n",
    "array([[11, 22],\n",
    "       [13, 24]])\n",
    "```"
   ]
  },
  {
   "cell_type": "markdown",
   "metadata": {
    "slideshow": {
     "slide_type": "slide"
    }
   },
   "source": [
    "#### Tensor dot\n",
    "The dot product $x . y$ of two tensors can also be done easily with numpy:\n",
    "``` python \n",
    "z = np.dot(x, y)\n",
    "# z[i,j] = x[i,:] * y[:,j]\n",
    "```\n",
    "E.g. input $\\mathbf{x}$ has $a$ samples of $b$ features, and $\\mathbf{y}$ is the \n",
    "weight tensor for a dense layer with $c$ nodes, then $z$ is the layer output (with $c$ features)\n",
    "\n",
    "<img src=\"../images/08_dot.png\" alt=\"ml\" style=\"width: 400px;\"/>\n",
    "\n"
   ]
  },
  {
   "cell_type": "markdown",
   "metadata": {
    "slideshow": {
     "slide_type": "slide"
    }
   },
   "source": [
    "#### Geometric interpretation\n",
    "* Dot product $z_{i,j} = x_i . w_j$ projects every vector $x_i$ (colored) onto weight vector $w_j$ (gray)\n",
    "* $z_{i,j}$ is the projection length (colored line segment, until origin)\n",
    "* In short, the dot product changes how the (colored) points relate to each other \n",
    "* We aim to find a transformation $\\mathbf{W}$ of $x$ so that it becomes easy to:\n",
    "    - separate the classes (classification)\n",
    "    - learn a simple function (regression)\n",
    "\n",
    "<img src=\"../images/dot_product2.png\" alt=\"ml\" style=\"width: 400px;\"/>"
   ]
  },
  {
   "cell_type": "markdown",
   "metadata": {
    "slideshow": {
     "slide_type": "slide"
    }
   },
   "source": [
    "### Gradient-based optimization\n",
    "* How to find good values for $W$ and $b$ so that the data is transformed to a useful representation?\n",
    "* Start with a random initialization, then loop:\n",
    "    1. Draw a batch of training data $x$\n",
    "    2. _Forward pass_: run the network on $x$ to yield $y_{pred}$ (tensor operations)\n",
    "    3. Compute the loss (mismatch between  $y_{pred}$ and $y$)\n",
    "    4. Update $W$, $b$ in a way that slightly reduces the loss (OK, but how?)"
   ]
  },
  {
   "cell_type": "markdown",
   "metadata": {
    "slideshow": {
     "slide_type": "slide"
    }
   },
   "source": [
    "#### Update rule\n",
    "Naive approach (expensive):\n",
    "* Choose one weight $w_{i,j}$ to optimize, freeze the others\n",
    "* Run the network (twice) with $w_{i,j} - \\epsilon$ and $w_{i,j} + \\epsilon$\n",
    "* Compute the losses $L(x,w_{i,j} - \\epsilon)$ and $L(x,w_{i,j} + \\epsilon)$ given current batch x\n",
    "* Keep the one that reduces the loss most, then repeat"
   ]
  },
  {
   "cell_type": "markdown",
   "metadata": {
    "slideshow": {
     "slide_type": "slide"
    }
   },
   "source": [
    "<img src=\"../images/08_gradient.png\" alt=\"ml\" style=\"float: right; width: 30%;\"/>\n",
    "\n",
    "Better:\n",
    "* Choose a loss function L that is _differentiable_\n",
    "    * Also all underlying tensor operations need to be differentiable\n",
    "* Then we can compute the derivative $\\frac{\\partial L(x,w_{i,j})}{\\partial w_{i,j}} = a$\n",
    "* So that $L(x,w_{i,j} + \\epsilon) \\approx y + a * \\epsilon$\n",
    "* We can now estimate weights without recomputing $L$"
   ]
  },
  {
   "cell_type": "markdown",
   "metadata": {
    "slideshow": {
     "slide_type": "slide"
    }
   },
   "source": [
    "#### Gradients\n",
    "* A _gradient_ $\\nabla L$ is the generalization of a derivate to n-dimensional inputs\n",
    "    * Approximates the _curvature_ of the loss function $L(x,W)$ around a given point $W$\n",
    "    * Vector of partial derivatives $\\nabla L = \\left[ \\frac{\\partial L}{\\partial w_{0,0}}, \\frac{\\partial L}{\\partial w_{0,1}},... \\right]$\n",
    "* Update: if $L$ is differentiable, then _new_ weight tensor $W_{i+1}$ = $W_i$ - $\\frac{\\partial L(W_i)}{\\partial W} * step$ \n",
    "    * _step_ is a small scaling factor (learning rate)\n",
    "    * Go against the curvature to a lower place on the curve\n",
    "* Now repeat with a new batch of data $x$\n",
    "\n",
    "<img src=\"../images/08_2dgradient_derive.gif\" alt=\"ml\" style=\"float: left; width: 30%;\"/>\n",
    "<img src=\"../images/08_2dgradient_update.png\" alt=\"ml\" style=\"float: left; width: 40%;\"/>\n"
   ]
  },
  {
   "cell_type": "markdown",
   "metadata": {
    "slideshow": {
     "slide_type": "slide"
    }
   },
   "source": [
    "#### Stochastic gradient descent (SGD)\n",
    "Mini-batch SGD:\n",
    "1. Draw a batch of *batch_size* training data $x$ and $y$\n",
    "2. _Forward pass_: run the network on $x$ to yield $y_{pred}$ (tensor operations)\n",
    "3. Compute the loss L (mismatch between  $y_{pred}$ and $y$)\n",
    "4. _Backward pass_: Compute the gradient of the loss with regard to $W$\n",
    "5. Update W: $W_{i+1} = W_i - \\frac{\\partial L(x, W_i)}{\\partial W} * step$\n",
    "\n",
    "Repeat until n passes (epochs) are made through through the entire training set."
   ]
  },
  {
   "cell_type": "markdown",
   "metadata": {
    "slideshow": {
     "slide_type": "slide"
    }
   },
   "source": [
    "SGD Variants:\n",
    "* Batch Gradient Descent: compute gradient on entire training set\n",
    "    - More accurate gradients, but more expensive\n",
    "* True Stochastic Gradient Descent: repeat for each individual data points (noisy)\n",
    "* Minibatch SGD strikes a balance between the two (given the right batch size)\n",
    "    \n",
    "<img src=\"../images/08_sgd1d.png\" alt=\"ml\" style=\"float: left; width: 25%;\"/>\n",
    "<img src=\"../images/08_SGD.png\" alt=\"ml\" style=\"float: left; width: 400px;\"/>"
   ]
  },
  {
   "cell_type": "markdown",
   "metadata": {
    "slideshow": {
     "slide_type": "slide"
    }
   },
   "source": [
    "#### SGD: many more variants\n",
    "* With SGD, it is quite easy to get stuck in a local minimum\n",
    "* Learning rate decay: start with a big step size and then decrease\n",
    "* Momentum: do a larger update if previous update has large loss improvement\n",
    "    - Like a ball that gains speed if it goes down steeply\n",
    "* Adaptive step size for each $W_i$: adam, Adagrad,...\n",
    "    - See http://ruder.io/optimizing-gradient-descent/index.html\n",
    "* Some intuitions say that in high-dimensional spaces, most local minima are near the global minimum\n",
    "\n",
    "<img src=\"../images/08_sgdvars.png\" alt=\"ml\" style=\"float: left; width: 300px;\"/>"
   ]
  },
  {
   "cell_type": "markdown",
   "metadata": {
    "slideshow": {
     "slide_type": "slide"
    }
   },
   "source": [
    "#### Backpropagation\n",
    "* In practice, a neural network function consist of many tensor operations chained together\n",
    "    - e.g. $f(W1, W2, W3) = a(W1, b(W2, c(W3)))$\n",
    "* How can we still compute $\\frac{\\partial L(x, W)}{\\partial W}$?\n",
    "* As long as each tensor operation is differentiable, we can still compute the gradient thanks to the chain rule:\n",
    "    $$f(g(x)) = f'(g(x)) * g'(x)$$\n",
    "* We can let the gradient _backpropagate_ through the layers\n",
    "* So, if we have a hidden node $h(x)=f(W_1 x+b_1)$, $net(x) = W_1 x+b_1$, and output node $o(x)=g(W_2 h(x)+b_2)$\n",
    "\n",
    "<img src=\"../images/08_chainrule2.png\" alt=\"ml\" style=\"width: 600px;\"/>"
   ]
  },
  {
   "cell_type": "markdown",
   "metadata": {
    "slideshow": {
     "slide_type": "slide"
    }
   },
   "source": [
    "### Intuition\n",
    "- Imagine a demon that adds a change $\\Delta x_j = {x_{j,0}, x_{j,1}, ...}$ to inputs of neuron $j$\n",
    "    - The neuron now outputs $\\sigma(x_j + \\Delta x_j)$ instead of $\\sigma(x_j)$\n",
    "    - Propagates through network, ultimately causing an error $\\frac{\\delta E}{\\delta x_j} \\Delta x_j$\n",
    "- A _good_ demon tries to find a $\\Delta x_j$ that _reduces_ the error\n",
    "    - If it knows $\\frac{\\delta E}{\\delta x_j}$ is large, it chooses $\\Delta x_j$ to reduce it\n",
    "    - If gradient $\\frac{\\delta E}{\\delta x_j} > 0$, increasing the output of $x_j$ will increase the error\n",
    "    - Decrease the output by increasing the weights of negative inputs, or decreasing the weights of positive inputs.\n",
    "\n",
    "![Tampering with the weights creates an error downstream.](./images/07_demon.png)"
   ]
  },
  {
   "cell_type": "markdown",
   "metadata": {
    "slideshow": {
     "slide_type": "slide"
    }
   },
   "source": [
    "### Backpropagation in action\n",
    "To get an intuitive understanding of how backpropagation works, here is a nice animation of the entire process:\n",
    "    https://youtu.be/Ilg3gGewQ5U?list=PLZHQObOWTQDNU6R1_67000Dx_ZCJB-3pi&t=403"
   ]
  },
  {
   "cell_type": "markdown",
   "metadata": {
    "slideshow": {
     "slide_type": "slide"
    }
   },
   "source": [
    "## Using neural networks\n",
    "Example: Fashion-MNIST dataset contains 28x28 pixel images of 10 classes of fashion items"
   ]
  },
  {
   "cell_type": "code",
   "execution_count": 2,
   "metadata": {
    "hide_input": true
   },
   "outputs": [
    {
     "data": {
      "image/png": "[encoded data removed]",
      "text/plain": [
       "<Figure size 720x360 with 5 Axes>"
      ]
     },
     "metadata": {
      "needs_background": "light"
     },
     "output_type": "display_data"
    }
   ],
   "source": [
    "# Download FMINST data. Takes a while the first time.\n",
    "mnist = oml.datasets.get_dataset(40996)\n",
    "X, y, _, _ = mnist.get_data(target=mnist.default_target_attribute, dataset_format='array');\n",
    "X = X.reshape(70000, 28, 28)\n",
    "\n",
    "# Take some random examples\n",
    "from random import randint\n",
    "fig, axes = plt.subplots(1, 5,  figsize=(10, 5))\n",
    "for i in range(5):\n",
    "    n = randint(0,70000)\n",
    "    axes[i].imshow(X[n], cmap=plt.cm.gray_r)\n",
    "    axes[i].set_xlabel(\"Label: {}\".format(y[n]))\n",
    "plt.show();"
   ]
  },
  {
   "cell_type": "code",
   "execution_count": 3,
   "metadata": {
    "hide_input": true
   },
   "outputs": [],
   "source": [
    "from sklearn.model_selection import train_test_split\n",
    "Xf_train, Xf_test, yf_train, yf_test = train_test_split(X, y, train_size=60000)"
   ]
  },
  {
   "cell_type": "markdown",
   "metadata": {
    "hide_input": false,
    "slideshow": {
     "slide_type": "slide"
    }
   },
   "source": [
    "### Building the network\n",
    "* One dense hidden ReLU layer with 128 nodes\n",
    "    - Input from a 28x28 matrix\n",
    "* Output softmax layer with 10 nodes\n",
    "* Example using Keras, a well-known API for building neural networks\n",
    "    * Integrated in Tensorflow, but also in other backends\n",
    "\n",
    "``` python\n",
    "from tensorflow.keras import models\n",
    "from tensorflow.keras import layers\n",
    "\n",
    "network = models.Sequential()\n",
    "network.add(layers.Dense(128, activation='relu', input_shape=(28 * 28,)))\n",
    "network.add(layers.Dense(10, activation='softmax'))\n",
    "```"
   ]
  },
  {
   "cell_type": "code",
   "execution_count": 4,
   "metadata": {
    "hide_input": false,
    "slideshow": {
     "slide_type": "skip"
    }
   },
   "outputs": [],
   "source": [
    "from tensorflow.keras import models\n",
    "from tensorflow.keras import layers\n",
    "\n",
    "network = models.Sequential()\n",
    "network.add(layers.Dense(128, activation='relu', input_shape=(28 * 28,)))\n",
    "network.add(layers.Dense(10, activation='softmax'))"
   ]
  },
  {
   "cell_type": "markdown",
   "metadata": {
    "slideshow": {
     "slide_type": "slide"
    }
   },
   "source": [
    "Model summary\n",
    "- Lots of parameters (weights and biases) to learn!\n",
    "    - hidden layer: (28 * 28 + 1) * 128 = 100480\n",
    "    - output layer: (128 + 1) * 10"
   ]
  },
  {
   "cell_type": "code",
   "execution_count": 5,
   "metadata": {
    "slideshow": {
     "slide_type": "-"
    }
   },
   "outputs": [
    {
     "name": "stdout",
     "output_type": "stream",
     "text": [
      "Model: \"sequential\"\n",
      "_________________________________________________________________\n",
      "Layer (type)                 Output Shape              Param #   \n",
      "=================================================================\n",
      "dense (Dense)                (None, 128)               100480    \n",
      "_________________________________________________________________\n",
      "dense_1 (Dense)              (None, 10)                1290      \n",
      "=================================================================\n",
      "Total params: 101,770\n",
      "Trainable params: 101,770\n",
      "Non-trainable params: 0\n",
      "_________________________________________________________________\n"
     ]
    }
   ],
   "source": [
    "network.summary()"
   ]
  },
  {
   "cell_type": "markdown",
   "metadata": {
    "slideshow": {
     "slide_type": "slide"
    }
   },
   "source": [
    "#### Compilation\n",
    "We still need to specify how we want the network to be trained:\n",
    "* __Loss function__: The objective function used to measure how well the model is doing, and steer itself in the right direction\n",
    "    - e.g. Cross Entropy (_negative log likelihood_ or _log loss_) for classification\n",
    "* __Optimizer__: How to optimize the model weights in every iteration.\n",
    "    - usually a [variant of stochastic gradient descent](http://ruder.io/optimizing-gradient-descent/index.html#momentum)\n",
    "    - `RMSprop` uses different learning rates for every weight\n",
    "* __Metrics__ to monitor performance during training and testing.\n",
    "    - e.g. accuracy\n",
    "    \n",
    "``` python\n",
    "network.compile(optimizer='rmsprop',\n",
    "                loss='categorical_crossentropy',\n",
    "                metrics=['accuracy'])\n",
    "```"
   ]
  },
  {
   "cell_type": "code",
   "execution_count": 6,
   "metadata": {
    "slideshow": {
     "slide_type": "skip"
    }
   },
   "outputs": [],
   "source": [
    "network.compile(optimizer='rmsprop', loss='categorical_crossentropy', metrics=['accuracy'])"
   ]
  },
  {
   "cell_type": "markdown",
   "metadata": {
    "slideshow": {
     "slide_type": "slide"
    }
   },
   "source": [
    "#### Cross-entropy loss\n",
    "* We've seen _cross-entropy loss_ (or _log loss_) over $C$ classes before\n",
    "    - Measures how similar the actual and predicted probability distributions are\n",
    "    - Compute cross-entropy $H(y,\\hat{y})$ between true $y$ and predicted $\\hat{y}$\n",
    "        $$ H(y,\\hat{y}) = - \\sum_{c=1}^C y_c \\log(\\hat{y}_c)$$\n",
    "    - Sum up over all training samples\n",
    "* _binary cross-entropy loss_ is the case for 2 classes ($i=0,1$ $y_1=y$, $y_0=1-y$, $y_1=\\hat{y}$, $y_0=1-\\hat{y}$)\n",
    "$$ H(y,\\hat{y}) = - y log(\\hat{y}) - (1-y) log(1-\\hat{y})$$"
   ]
  },
  {
   "cell_type": "markdown",
   "metadata": {
    "slideshow": {
     "slide_type": "slide"
    }
   },
   "source": [
    "Cross-entropy loss\n",
    "* exponentially larger penalty as the predicted probability $\\hat{y}$ is further away from the ground truth \n",
    "(here: $y = 1$)\n",
    "\n",
    "<img src=\"../images/09_cross-entropy.png\" alt=\"ml\" style=\"width: 600px;\"/>"
   ]
  },
  {
   "cell_type": "markdown",
   "metadata": {
    "slideshow": {
     "slide_type": "slide"
    }
   },
   "source": [
    "#### Preprocessing \n",
    "* Neural networks are sensitive to scaling, so always scale the inputs\n",
    "* The network expects the data in a certain shape, e.g. (n, 28 * 28)\n",
    "    - reshape the tensor to the correct input shape\n",
    "* In classification, every class is an output node, so categorically encode the labels\n",
    "    - e.g. class '4' becomes [0,0,0,0,1,0,0,0,0,0]"
   ]
  },
  {
   "cell_type": "code",
   "execution_count": 7,
   "metadata": {
    "slideshow": {
     "slide_type": "skip"
    }
   },
   "outputs": [],
   "source": [
    "Xf_train = Xf_train.reshape((60000, 28 * 28))\n",
    "Xf_test = Xf_test.reshape((10000, 28 * 28))\n",
    "\n",
    "Xf_train = Xf_train.astype('float32') / 255\n",
    "Xf_test = Xf_test.astype('float32') / 255\n",
    "\n",
    "from tensorflow.keras.utils import to_categorical\n",
    "yf_train = to_categorical(yf_train)\n",
    "yf_test = to_categorical(yf_test)"
   ]
  },
  {
   "cell_type": "markdown",
   "metadata": {
    "slideshow": {
     "slide_type": "slide"
    }
   },
   "source": [
    "#### Training\n",
    "* Optimizes the model parameters (weights) with mini-batch SGD\n",
    "* We choose 5 epochs and a batch size of 128"
   ]
  },
  {
   "cell_type": "code",
   "execution_count": 8,
   "metadata": {
    "slideshow": {
     "slide_type": "-"
    }
   },
   "outputs": [
    {
     "name": "stdout",
     "output_type": "stream",
     "text": [
      "Train on 60000 samples\n",
      "Epoch 1/5\n",
      "60000/60000 [==============================] - 6s 99us/sample - loss: 0.5078 - accuracy: 0.8192\n",
      "Epoch 2/5\n",
      "60000/60000 [==============================] - 6s 96us/sample - loss: 0.3829 - accuracy: 0.8632\n",
      "Epoch 3/5\n",
      "60000/60000 [==============================] - 5s 84us/sample - loss: 0.3516 - accuracy: 0.8753\n",
      "Epoch 4/5\n",
      "60000/60000 [==============================] - 6s 102us/sample - loss: 0.3341 - accuracy: 0.8824\n",
      "Epoch 5/5\n",
      "60000/60000 [==============================] - 6s 98us/sample - loss: 0.3223 - accuracy: 0.8868\n"
     ]
    }
   ],
   "source": [
    "network.fit(Xf_train, yf_train, epochs=5, batch_size=32);"
   ]
  },
  {
   "cell_type": "markdown",
   "metadata": {
    "slideshow": {
     "slide_type": "slide"
    }
   },
   "source": [
    "#### Prediction\n",
    "We can now call `predict` or `predict_proba` to generate predictions\n",
    "\n",
    "``` python\n",
    "network.predict(X_test)\n",
    "```"
   ]
  },
  {
   "cell_type": "code",
   "execution_count": 9,
   "metadata": {},
   "outputs": [
    {
     "name": "stdout",
     "output_type": "stream",
     "text": [
      "Prediction:  [0.994607  0.        0.0000003 0.0000022 0.        0.        0.0053905\n",
      " 0.        0.        0.       ]\n"
     ]
    },
    {
     "data": {
      "image/png": "[encoded data removed]",
      "text/plain": [
       "<Figure size 144x144 with 1 Axes>"
      ]
     },
     "metadata": {},
     "output_type": "display_data"
    }
   ],
   "source": [
    "np.set_printoptions(precision=7)\n",
    "fig, axes = plt.subplots(1, 1, figsize=(2, 2))\n",
    "axes.imshow(Xf_test[1].reshape(28, 28), cmap=plt.cm.gray_r)\n",
    "axes.set_xlabel(\"True label: {}\".format(yf_test[1]))\n",
    "axes.set_xticks([])\n",
    "axes.set_yticks([])\n",
    "print(\"Prediction: \",network.predict(Xf_test)[1])"
   ]
  },
  {
   "cell_type": "markdown",
   "metadata": {
    "slideshow": {
     "slide_type": "slide"
    }
   },
   "source": [
    "#### Evaluation\n",
    "Evaluate the trained model on the entire test set\n",
    "\n",
    "``` python\n",
    "test_loss, test_acc = network.evaluate(X_test, y_test)\n",
    "```"
   ]
  },
  {
   "cell_type": "code",
   "execution_count": 10,
   "metadata": {},
   "outputs": [
    {
     "name": "stdout",
     "output_type": "stream",
     "text": [
      "10000/10000 [==============================] - 1s 58us/sample - loss: 0.3382 - accuracy: 0.8824\n",
      "Test accuracy: 0.8824\n"
     ]
    }
   ],
   "source": [
    "test_loss, test_acc = network.evaluate(Xf_test, yf_test)\n",
    "print('Test accuracy:', test_acc)"
   ]
  },
  {
   "cell_type": "markdown",
   "metadata": {
    "slideshow": {
     "slide_type": "slide"
    }
   },
   "source": [
    "#### Tuning the model\n",
    "* There are a *lot* of choices that can (should) be optimized:\n",
    "    - Number and types of layers\n",
    "    - Layer hyperparameters\n",
    "        - Number of nodes, shape\n",
    "        - Activation functions\n",
    "        - ...\n",
    "    - Loss function (and hyperparameters)\n",
    "    - SGD optimizer (and hyperparameters)\n",
    "        - Learning rate\n",
    "        - Batch size\n",
    "        - Number of epochs\n",
    "        - ..."
   ]
  },
  {
   "cell_type": "markdown",
   "metadata": {
    "slideshow": {
     "slide_type": "slide"
    }
   },
   "source": [
    "#### Tuning the number of epochs\n",
    "* How many epochs do we need for training?\n",
    "* Train the neural net and track the loss after every iteration on a validation set\n",
    "* We start with 20 epochs in minibatches of 512 samples"
   ]
  },
  {
   "cell_type": "code",
   "execution_count": 11,
   "metadata": {},
   "outputs": [],
   "source": [
    "# Using IMDB dataset for now (much faster)\n",
    "# TODO: replace with sample of FMINST?\n",
    "from tensorflow.keras.datasets import imdb\n",
    "# Download IMDB data with 10000 most frequent words\n",
    "(train_data, train_labels), (test_data, test_labels) = imdb.load_data(num_words=10000)\n",
    "\n",
    "# Custom implementation of one-hot-encoding\n",
    "def vectorize_sequences(sequences, dimension=10000):\n",
    "    results = np.zeros((len(sequences), dimension))\n",
    "    for i, sequence in enumerate(sequences):\n",
    "        results[i, sequence] = 1.  # set specific indices of results[i] to 1s\n",
    "    return results\n",
    "x_train = vectorize_sequences(train_data)\n",
    "x_test = vectorize_sequences(test_data)\n",
    "\n",
    "# Convert 0/1 labels to float\n",
    "y_train = np.asarray(train_labels).astype('float32')\n",
    "y_test = np.asarray(test_labels).astype('float32')\n",
    "\n",
    "model = models.Sequential()\n",
    "model.add(layers.Dense(16, activation='relu', input_shape=(10000,)))\n",
    "model.add(layers.Dense(16, activation='relu'))\n",
    "model.add(layers.Dense(1, activation='sigmoid'))\n",
    "\n",
    "model.compile(optimizer='rmsprop',\n",
    "              loss='binary_crossentropy',\n",
    "              metrics=['accuracy'])"
   ]
  },
  {
   "cell_type": "code",
   "execution_count": 12,
   "metadata": {
    "slideshow": {
     "slide_type": "skip"
    }
   },
   "outputs": [],
   "source": [
    "x_val, partial_x_train = x_train[:10000], x_train[10000:]\n",
    "y_val, partial_y_train = y_train[:10000], y_train[10000:] \n",
    "history = model.fit(partial_x_train, partial_y_train,\n",
    "                        epochs=20, batch_size=512, verbose=0,\n",
    "                        validation_data=(x_val, y_val))"
   ]
  },
  {
   "cell_type": "markdown",
   "metadata": {
    "slideshow": {
     "slide_type": "slide"
    }
   },
   "source": [
    "We can now retrieve visualize the loss on the validation data\n",
    "* The training loss keeps decreasing, due to gradient descent\n",
    "* The validation loss peaks after a few epochs, after which the model starts to overfit"
   ]
  },
  {
   "cell_type": "code",
   "execution_count": 13,
   "metadata": {
    "hide_input": true
   },
   "outputs": [
    {
     "data": {
      "image/png": "[encoded data removed]",
      "text/plain": [
       "<Figure size 432x288 with 1 Axes>"
      ]
     },
     "metadata": {
      "needs_background": "light"
     },
     "output_type": "display_data"
    }
   ],
   "source": [
    "import matplotlib.pyplot as plt\n",
    "\n",
    "acc = history.history['accuracy']\n",
    "val_acc = history.history['val_accuracy']\n",
    "loss = history.history['loss']\n",
    "val_loss = history.history['val_loss']\n",
    "\n",
    "epochs = range(1, len(acc) + 1)\n",
    "\n",
    "# \"bo\" is for \"blue dot\"\n",
    "plt.plot(epochs, loss, 'bo', label='Training loss')\n",
    "# b is for \"solid blue line\"\n",
    "plt.plot(epochs, val_loss, 'b', label='Validation loss')\n",
    "plt.title('Training and validation loss')\n",
    "plt.xlabel('Epochs')\n",
    "plt.ylabel('Loss')\n",
    "plt.legend()\n",
    "\n",
    "plt.show()"
   ]
  },
  {
   "cell_type": "markdown",
   "metadata": {
    "slideshow": {
     "slide_type": "slide"
    }
   },
   "source": [
    "Confirm that accuracy follows the same (although inverse) behavior as the loss"
   ]
  },
  {
   "cell_type": "code",
   "execution_count": 14,
   "metadata": {},
   "outputs": [
    {
     "data": {
      "image/png": "[encoded data removed]",
      "text/plain": [
       "<Figure size 432x288 with 1 Axes>"
      ]
     },
     "metadata": {
      "needs_background": "light"
     },
     "output_type": "display_data"
    }
   ],
   "source": [
    "# Alternative plotting code\n",
    "pd.DataFrame(history.history).plot(lw=2);"
   ]
  },
  {
   "cell_type": "markdown",
   "metadata": {
    "slideshow": {
     "slide_type": "slide"
    }
   },
   "source": [
    "#### Early stopping\n",
    "One simple technique to avoid overfitting is to use the validation set to 'tune' the optimal number of epochs\n",
    "* In this case, we could stop after 4 epochs\n",
    "* Note: validation loss can be bumpy, best use a moving average of inspect manually. \n",
    "\n",
    "``` python\n",
    "model.fit(x_train, y_train, epochs=4, batch_size=512, verbose=0)\n",
    "result = model.evaluate(x_test, y_test)\n",
    "```"
   ]
  },
  {
   "cell_type": "code",
   "execution_count": 15,
   "metadata": {},
   "outputs": [
    {
     "name": "stdout",
     "output_type": "stream",
     "text": [
      "25000/25000 [==============================] - 4s 157us/sample - loss: 0.4960 - accuracy: 0.8604\n",
      "Loss: 0.4960, Accuracy:  0.8604\n"
     ]
    }
   ],
   "source": [
    "model.fit(x_train, y_train, epochs=4, batch_size=512, verbose=0)\n",
    "result = model.evaluate(x_test, y_test)\n",
    "print(\"Loss: {:.4f}, Accuracy:  {:.4f}\".format(*result))"
   ]
  },
  {
   "cell_type": "markdown",
   "metadata": {
    "slideshow": {
     "slide_type": "slide"
    }
   },
   "source": [
    "### Regularization: build smaller networks\n",
    "* The easiest way to avoid overfitting is to use a simpler model\n",
    "* The number of learnable parameters is called the model _capacity_\n",
    "* A model with more parameters has a higher _memorization capacity_\n",
    "    - The entire training set can be `stored` in the weights\n",
    "    - Learns the mapping from training examples to outputs\n",
    "* Forcing the model to be small forces it to learn a compressed representation that generalizes better\n",
    "    - Always a trade-off between too much and too little capacity\n",
    "* Start with few layers and parameters, incease until you see diminisching returns"
   ]
  },
  {
   "cell_type": "markdown",
   "metadata": {
    "slideshow": {
     "slide_type": "slide"
    }
   },
   "source": [
    "#### Tuning the number of nodes\n",
    "* If a layer is too 'narrow', it will 'drop' some information, which can never be recovered by subsequent layers\n",
    "    *  _Information bottleneck_: information-theoretic framework to compute a bound on the `capacity` of the network\n",
    "* Imagine that you need to learn 10 outputs (e.g. classes) and your hidden layer has 2 nodes\n",
    "    * This is like trying to learn 10 separating hyperplanes from a 2-dimensional representation\n",
    "* If your layers are too 'wide', the network will overfit, basically 'memorizing' the training data\n",
    "    * Try to make the layers as small as possible (e.g. using the validation set), but not smaller "
   ]
  },
  {
   "cell_type": "code",
   "execution_count": 16,
   "metadata": {
    "slideshow": {
     "slide_type": "slide"
    }
   },
   "outputs": [
    {
     "data": {
      "image/png": "[encoded data removed]",
      "text/plain": [
       "<Figure size 720x288 with 2 Axes>"
      ]
     },
     "metadata": {
      "needs_background": "light"
     },
     "output_type": "display_data"
    }
   ],
   "source": [
    "network = models.Sequential()\n",
    "network.add(layers.Dense(128, activation='relu', input_shape=(28 * 28,)))\n",
    "network.add(layers.Dense(10, activation='softmax'))\n",
    "\n",
    "xf_val, partial_xf_train = Xf_train[:10000], Xf_train[10000:]\n",
    "yf_val, partial_yf_train = yf_train[:10000], yf_train[10000:] \n",
    "\n",
    "network.compile(optimizer='rmsprop',\n",
    "              loss='categorical_crossentropy',\n",
    "              metrics=['accuracy'])\n",
    "history = network.fit(partial_xf_train, partial_yf_train,\n",
    "                    epochs=5, batch_size=32, verbose=0,\n",
    "                    validation_data=(xf_val, yf_val))\n",
    "\n",
    "network2 = models.Sequential()\n",
    "network2.add(layers.Dense(4, activation='relu', input_shape=(28 * 28,)))\n",
    "network2.add(layers.Dense(10, activation='softmax'))\n",
    "\n",
    "network2.compile(optimizer='rmsprop',\n",
    "               loss='categorical_crossentropy',\n",
    "               metrics=['accuracy'])\n",
    "history2 = network2.fit(partial_xf_train, partial_yf_train,\n",
    "                      epochs=5, batch_size=32, verbose=0,\n",
    "                      validation_data=(xf_val, yf_val))\n",
    "\n",
    "fig, (ax1,ax2) = plt.subplots(1,2, figsize=(10,4))\n",
    "pd.DataFrame(history.history).plot(lw=2, ax=ax1)\n",
    "pd.DataFrame(history2.history).plot(lw=2, ax=ax2)\n",
    "ax1.set_title(\"FMINST, 128 hidden nodes\")\n",
    "ax2.set_title(\"FMINST, 4 hidden nodes\")\n",
    "plt.tight_layout();"
   ]
  },
  {
   "cell_type": "markdown",
   "metadata": {
    "slideshow": {
     "slide_type": "slide"
    }
   },
   "source": [
    "#### Weight regularization\n",
    "* As we did many times before, we can also add weight regularization to our loss function\n",
    "- L1 regularization: leads to _sparse networks_ with many weights that are 0\n",
    "- L2 regularization: leads to many very small weights\n",
    "    - Also called _weight decay_ in neural net literature\n",
    "* In Keras, add `kernel_regularizer` to every layer"
   ]
  },
  {
   "cell_type": "markdown",
   "metadata": {},
   "source": [
    "``` python\n",
    "from keras import regularizers\n",
    "\n",
    "l2_model = models.Sequential()\n",
    "l2_model.add(layers.Dense(16, kernel_regularizer=regularizers.l2(0.001),\n",
    "                          activation='relu', input_shape=(10000,)))\n",
    "l2_model.add(layers.Dense(16, kernel_regularizer=regularizers.l2(0.001),\n",
    "                          activation='relu'))\n",
    "l2_model.add(layers.Dense(1, activation='sigmoid'))\n",
    "```"
   ]
  },
  {
   "cell_type": "code",
   "execution_count": 17,
   "metadata": {
    "slideshow": {
     "slide_type": "skip"
    }
   },
   "outputs": [
    {
     "name": "stderr",
     "output_type": "stream",
     "text": [
      "Using TensorFlow backend.\n"
     ]
    }
   ],
   "source": [
    "from keras import regularizers\n",
    "\n",
    "l2_model = models.Sequential()\n",
    "l2_model.add(layers.Dense(16, kernel_regularizer=regularizers.l2(0.001),\n",
    "                          activation='relu', input_shape=(10000,)))\n",
    "l2_model.add(layers.Dense(16, kernel_regularizer=regularizers.l2(0.001),\n",
    "                          activation='relu'))\n",
    "l2_model.add(layers.Dense(1, activation='sigmoid'))"
   ]
  },
  {
   "cell_type": "code",
   "execution_count": 18,
   "metadata": {
    "slideshow": {
     "slide_type": "skip"
    }
   },
   "outputs": [],
   "source": [
    "l2_model.compile(optimizer='rmsprop',\n",
    "                 loss='binary_crossentropy',\n",
    "                 metrics=['acc'])"
   ]
  },
  {
   "cell_type": "code",
   "execution_count": 19,
   "metadata": {
    "slideshow": {
     "slide_type": "skip"
    }
   },
   "outputs": [],
   "source": [
    "l2_model_hist = l2_model.fit(x_train, y_train,\n",
    "                             epochs=20,\n",
    "                             batch_size=512, verbose=0,\n",
    "                             validation_data=(x_test, y_test))"
   ]
  },
  {
   "cell_type": "code",
   "execution_count": 20,
   "metadata": {},
   "outputs": [],
   "source": [
    "model = models.Sequential()\n",
    "model.add(layers.Dense(16, activation='relu', input_shape=(10000,)))\n",
    "model.add(layers.Dense(16, activation='relu'))\n",
    "model.add(layers.Dense(1, activation='sigmoid'))\n",
    "\n",
    "model.compile(optimizer='rmsprop',\n",
    "              loss='binary_crossentropy',\n",
    "              metrics=['accuracy'])\n",
    "model_hist = model.fit(x_train, y_train,\n",
    "                         epochs=20,\n",
    "                         batch_size=512, verbose=0,\n",
    "                         validation_data=(x_test, y_test))"
   ]
  },
  {
   "cell_type": "markdown",
   "metadata": {
    "slideshow": {
     "slide_type": "slide"
    }
   },
   "source": [
    "L2 regularized model is much more resistant to overfitting, even though both have the same number of parameters"
   ]
  },
  {
   "cell_type": "code",
   "execution_count": 21,
   "metadata": {
    "slideshow": {
     "slide_type": "-"
    }
   },
   "outputs": [
    {
     "data": {
      "image/png": "[encoded data removed]",
      "text/plain": [
       "<Figure size 432x288 with 1 Axes>"
      ]
     },
     "metadata": {
      "needs_background": "light"
     },
     "output_type": "display_data"
    }
   ],
   "source": [
    "l2_model_val_loss = l2_model_hist.history['val_loss']\n",
    "original_val_loss = model_hist.history['val_loss']\n",
    "\n",
    "plt.plot(epochs, original_val_loss, 'b+', label='Original model')\n",
    "plt.plot(epochs, l2_model_val_loss, 'bo', label='L2-regularized model')\n",
    "plt.xlabel('Epochs')\n",
    "plt.ylabel('Validation loss')\n",
    "plt.legend()\n",
    "\n",
    "plt.show()"
   ]
  },
  {
   "cell_type": "markdown",
   "metadata": {
    "slideshow": {
     "slide_type": "slide"
    }
   },
   "source": [
    "You can also try L1 loss or both at the same time\n",
    "``` python\n",
    "from keras import regularizers\n",
    "\n",
    "# L1 regularization\n",
    "regularizers.l1(0.001)\n",
    "\n",
    "# L1 and L2 regularization at the same time\n",
    "regularizers.l1_l2(l1=0.001, l2=0.001)\n",
    "```"
   ]
  },
  {
   "cell_type": "markdown",
   "metadata": {
    "slideshow": {
     "slide_type": "slide"
    }
   },
   "source": [
    "### Dropout\n",
    "* One of the most effective and commonly used regularization techniques\n",
    "* Randomly set a number of outputs of the layer to 0 every iteration\n",
    "* Idea: break up accidental non-significant learned patterns \n",
    "* _Dropout rate_: fraction of the outputs that are zeroed-out\n",
    "    - Usually between 0.2 and 0.5\n",
    "* At test time, nothing is dropped out, but the output values are scaled down by the dropout rate\n",
    "    - Balances out that more units are active than during training\n",
    "* In Keras: add `Dropout` layers between the normal layers"
   ]
  },
  {
   "cell_type": "markdown",
   "metadata": {
    "slideshow": {
     "slide_type": "slide"
    }
   },
   "source": [
    "``` python\n",
    "dpt_model = models.Sequential()\n",
    "dpt_model.add(layers.Dense(16, activation='relu', input_shape=(10000,)))\n",
    "dpt_model.add(layers.Dropout(0.5))\n",
    "dpt_model.add(layers.Dense(16, activation='relu'))\n",
    "dpt_model.add(layers.Dropout(0.5))\n",
    "dpt_model.add(layers.Dense(1, activation='sigmoid'))\n",
    "\n",
    "dpt_model.compile(optimizer='rmsprop',\n",
    "                  loss='binary_crossentropy',\n",
    "                  metrics=['acc'])\n",
    "```"
   ]
  },
  {
   "cell_type": "code",
   "execution_count": 22,
   "metadata": {
    "slideshow": {
     "slide_type": "skip"
    }
   },
   "outputs": [],
   "source": [
    "dpt_model = models.Sequential()\n",
    "dpt_model.add(layers.Dense(16, activation='relu', input_shape=(10000,)))\n",
    "dpt_model.add(layers.Dropout(0.5))\n",
    "dpt_model.add(layers.Dense(16, activation='relu'))\n",
    "dpt_model.add(layers.Dropout(0.5))\n",
    "dpt_model.add(layers.Dense(1, activation='sigmoid'))\n",
    "\n",
    "dpt_model.compile(optimizer='rmsprop',\n",
    "                  loss='binary_crossentropy',\n",
    "                  metrics=['acc'])"
   ]
  },
  {
   "cell_type": "code",
   "execution_count": 23,
   "metadata": {
    "slideshow": {
     "slide_type": "skip"
    }
   },
   "outputs": [],
   "source": [
    "dpt_model_hist = dpt_model.fit(x_train, y_train,\n",
    "                               epochs=20,\n",
    "                               batch_size=512, verbose=0,\n",
    "                               validation_data=(x_test, y_test))"
   ]
  },
  {
   "cell_type": "markdown",
   "metadata": {
    "slideshow": {
     "slide_type": "slide"
    }
   },
   "source": [
    "Dropout finds a better model, and overfits more slowly as well"
   ]
  },
  {
   "cell_type": "code",
   "execution_count": 24,
   "metadata": {
    "slideshow": {
     "slide_type": "-"
    }
   },
   "outputs": [
    {
     "data": {
      "image/png": "[encoded data removed]",
      "text/plain": [
       "<Figure size 432x288 with 1 Axes>"
      ]
     },
     "metadata": {
      "needs_background": "light"
     },
     "output_type": "display_data"
    }
   ],
   "source": [
    "dpt_model_val_loss = dpt_model_hist.history['val_loss']\n",
    "\n",
    "plt.plot(epochs, original_val_loss, 'b+', label='Original model')\n",
    "plt.plot(epochs, dpt_model_val_loss, 'bo', label='Dropout-regularized model')\n",
    "plt.xlabel('Epochs')\n",
    "plt.ylabel('Validation loss')\n",
    "plt.legend()\n",
    "\n",
    "plt.show()"
   ]
  },
  {
   "cell_type": "markdown",
   "metadata": {
    "slideshow": {
     "slide_type": "slide"
    }
   },
   "source": [
    "#### Batch Normalization\n",
    "* Normalization (in general) aims to make different examples more similar to each other\n",
    "    * Easier to learn and generalize\n",
    "* Batch normalization layer adaptively normalizes data, even as the mean and variance change over time during training. \n",
    "    * It works by internally maintaining an exponential moving average of the batch-wise mean and variance of training data\n",
    "    * Helps with gradient propagation, allows for deeper networks.\n",
    "    \n",
    "``` python\n",
    "dense_model.add(layers.Dense(32, activation='relu')) \n",
    "dense_model.add(layers.BatchNormalization())\n",
    "```"
   ]
  },
  {
   "cell_type": "markdown",
   "metadata": {
    "slideshow": {
     "slide_type": "slide"
    }
   },
   "source": [
    "#### SGD Hyperparameter tuning\n",
    "SGD has many important hyperparameters to tune:\n",
    "* Learning rate\n",
    "    * Too low: slow convergence, may get stuck in local minima\n",
    "    * Too high: may lead to _divergence_: train loss _increases_ with training\n",
    "* Learning rate decay\n",
    "    * It is often useful to start with a high learning rate and then decrease it during training\n",
    "    * Many variants of this approach exist\n",
    "* Batch size\n",
    "    * Small batch size may be slower, more erratic\n",
    "    * Medium batch sizes (24-32) often recommended\n",
    "    * Large batch sizes can decrease performance ('generalization gap')\n",
    "    * [Intense research topic](https://openreview.net/pdf?id=B1Yy1BxCZ)\n",
    "* ..."
   ]
  },
  {
   "cell_type": "markdown",
   "metadata": {
    "slideshow": {
     "slide_type": "slide"
    }
   },
   "source": [
    "### Tuning multiple hyperparameters\n",
    "* You can wrap Keras models as scikit-learn and use any of its tuning techniques\n",
    "* Keras also has built-in RandomSearch (and HyperBand - see later)\n",
    "\n",
    "```python\n",
    "def build_model(hp){\n",
    "    m.add(Dense(units=hp.Int(‘units’, min_value=32, max_value=512, step=32)))\n",
    "    m.compile(optimizer=Adam(hp.Choice(‘learning rate’, [1e-2, 1e-3, 1e-4])))\n",
    "    return model;}\n",
    "\n",
    "from tensorflow.keras.wrappers.scikit_learn import KerasClassifier\n",
    "clf = KerasClassifier(make_model)\n",
    "grid = GridSearchCV(clf, param_grid=param_grid, cv=3)\n",
    "\n",
    "from kerastuner.tuners import RandomSearch\n",
    "tuner = keras.RandomSearch(build_model, max_trials=5)\n",
    "```"
   ]
  },
  {
   "cell_type": "code",
   "execution_count": 25,
   "metadata": {
    "slideshow": {
     "slide_type": "skip"
    }
   },
   "outputs": [],
   "source": [
    "# slow\n",
    "from tensorflow.keras.wrappers.scikit_learn import KerasClassifier, KerasRegressor\n",
    "from sklearn.model_selection import GridSearchCV\n",
    "\n",
    "def make_model(optimizer=\"adam\", hidden_size=32):\n",
    "    model = models.Sequential()\n",
    "    model.add(layers.Dense(16, activation='relu', input_shape=(10000,)))\n",
    "    model.add(layers.Dense(16, activation='relu'))\n",
    "    model.add(layers.Dense(1, activation='sigmoid'))\n",
    "\n",
    "    model.compile(optimizer='rmsprop',\n",
    "                  loss='binary_crossentropy',\n",
    "                  metrics=['accuracy'])\n",
    "    return model\n",
    "\n",
    "#clf = KerasClassifier(make_model)\n",
    "#param_grid = {'epochs': [1, 5, 10],  # epochs is fit parameter, not in make_model!\n",
    "#              'hidden_size': [32, 64, 256],\n",
    "#              'verbose' : [0]}\n",
    "#grid = GridSearchCV(clf, param_grid=param_grid, cv=3)\n",
    "#grid.fit(x_train, y_train)"
   ]
  },
  {
   "cell_type": "code",
   "execution_count": 26,
   "metadata": {},
   "outputs": [],
   "source": [
    "#model.fit(partial_x_train, partial_y_train, epochs=8, batch_size=512, verbose=0)\n",
    "#result = model.evaluate(x_test, one_hot_test_labels)\n",
    "#print(\"Loss: {:.4f}, Accuracy: {:.4f}\".format(*result))"
   ]
  },
  {
   "cell_type": "markdown",
   "metadata": {
    "slideshow": {
     "slide_type": "slide"
    }
   },
   "source": [
    "### Regularization recap\n",
    "* Get more training data\n",
    "* Reduce the capacity of the network\n",
    "* Try weight regularization, dropout, batch normalization\n",
    "* Start with a simple model and add capacity, or start with a complex model and then regularize"
   ]
  },
  {
   "cell_type": "markdown",
   "metadata": {
    "slideshow": {
     "slide_type": "slide"
    }
   },
   "source": [
    "## Handling textual data\n",
    "Textual data can be represented in different ways\n",
    "* Every 'document' (e.g. a review, tweet,...) is represented by a vector\n",
    "* Bag-of-words representation\n",
    "    * Build a dictionary of the most frequent words (e.g. 10000)\n",
    "    * One-hot-encoding: 10000 features, '1.0' if the word occurs\n",
    "    * TF-IDF: Term frequency over inverse document frequency\n",
    "        * Count how many times each word occurs and normalize by the frequency across documents\n",
    "* Word embeddings"
   ]
  },
  {
   "cell_type": "markdown",
   "metadata": {
    "slideshow": {
     "slide_type": "slide"
    }
   },
   "source": [
    "#### Word Embeddings\n",
    "* An embedding maps each word to a point in an n-dimensional space (e.g. 300 values), so that similar words are close to each other\n",
    "    * Can usually be imported as an 'Embedding' layer\n",
    "* There are different ways to learn word embeddings. Most common are:\n",
    "    * Word2Vec: Learn encoding based on the words that are typically in a window around the word\n",
    "        * Encoding is learned using a 1-layer neural net\n",
    "    * GloVe (Global Vector): Count co-occurrences of words in a matrix\n",
    "        * Use a low-rank approximation to get a condensed vector representation\n",
    "    * FastText: learns embedding for n-grams rather than complete words\n",
    "        * Can also produce embeddings for new words\n",
    "    * BERT, ELMO,...: learn a context-dependent embedding: the some word has a different embedding depending on the sentence it appears in"
   ]
  },
  {
   "cell_type": "markdown",
   "metadata": {
    "slideshow": {
     "slide_type": "slide"
    }
   },
   "source": [
    "##### Word embeddings: Word2Vec and GloVe\n",
    "<img src=\"../images/09_word_embeddings.png\" alt=\"ml\" style=\"width: 800px;\"/>"
   ]
  },
  {
   "cell_type": "markdown",
   "metadata": {
    "slideshow": {
     "slide_type": "slide"
    }
   },
   "source": [
    "##### Word2Vec\n",
    "- Continuous bag of words (CBOW): train model to predict word given context, use weights of last layer as embedding\n",
    "- Skip-Gram: train model to predict context given word, use weights of first layer as embedding (better for large corpora)\n",
    "\n",
    "<img src=\"../images/09_word_embeddings_3.png\" alt=\"ml\" style=\"width: 600px;\"/>"
   ]
  },
  {
   "cell_type": "markdown",
   "metadata": {
    "slideshow": {
     "slide_type": "slide"
    }
   },
   "source": [
    "##### FastText\n",
    "Like CBOW or SkipGram, but using n-grams instead of words\n",
    "<img src=\"../images/09_word_embeddings_2.png\" alt=\"ml\" style=\"width: 800px;\"/>"
   ]
  },
  {
   "cell_type": "markdown",
   "metadata": {
    "slideshow": {
     "slide_type": "slide"
    }
   },
   "source": [
    "##### BERT, ELMO, GPT,...\n",
    "* Uses _transformer networks_ to learn contextual embeddings\n",
    "* Devlin et al. (2018) BERT: Pre-training of Deep Bidirectional Transformers for Language Understanding\n",
    "\n",
    "<img src=\"../images/09_word_embeddings_4.png\" alt=\"ml\" style=\"width: 700px;\"/>"
   ]
  },
  {
   "cell_type": "markdown",
   "metadata": {
    "slideshow": {
     "slide_type": "slide"
    }
   },
   "source": [
    "### Further reading\n",
    "\n",
    "\n",
    "https://www.tensorflow.org/learn\n",
    "\n",
    "http://playground.tensorflow.org\n",
    "\n",
    "https://www.tensorflow.org/tensorboard"
   ]
  }
 ],
 "metadata": {
  "anaconda-cloud": {},
  "celltoolbar": "Slideshow",
  "kernelspec": {
   "display_name": "Python 3",
   "language": "python",
   "name": "python3"
  },
  "language_info": {
   "codemirror_mode": {
    "name": "ipython",
    "version": 3
   },
   "file_extension": ".py",
   "mimetype": "text/x-python",
   "name": "python",
   "nbconvert_exporter": "python",
   "pygments_lexer": "ipython3",
   "version": "3.7.3"
  }
 },
 "nbformat": 4,
 "nbformat_minor": 4
}
