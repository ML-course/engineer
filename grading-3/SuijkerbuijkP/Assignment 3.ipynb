{
 "cells": [
  {
   "cell_type": "code",
   "execution_count": 1,
   "metadata": {
    "colab": {},
    "colab_type": "code",
    "id": "uPiqHyC_MuLL"
   },
   "outputs": [],
   "source": [
    "# Fill in your name using the format below and student ID number\n",
    "your_name = \"Suijkerbuijk, Pim\"\n",
    "student_id = \"0895376\""
   ]
  },
  {
   "cell_type": "code",
   "execution_count": 2,
   "metadata": {},
   "outputs": [],
   "source": [
    "# Before submission, set this to True so that you can render and verify this notebook without training deep learning models.\n",
    "# Any deep learning models will be trained from file instead.\n",
    "stop_training = True"
   ]
  },
  {
   "cell_type": "code",
   "execution_count": 3,
   "metadata": {
    "colab": {
     "base_uri": "https://localhost:8080/",
     "height": 71
    },
    "colab_type": "code",
    "id": "-rAuraOsM22r",
    "outputId": "af1729f6-a9f4-494f-db04-ef9c03d26008"
   },
   "outputs": [],
   "source": [
    "# Uncomment the following line to run in Google Colab\n",
    "# !pip install --quiet openml "
   ]
  },
  {
   "cell_type": "code",
   "execution_count": 4,
   "metadata": {
    "colab": {
     "base_uri": "https://localhost:8080/",
     "height": 35
    },
    "colab_type": "code",
    "id": "OS-d8ziENCs1",
    "outputId": "0bc61a59-66c6-487c-9f32-2aaa2818469e"
   },
   "outputs": [
    {
     "name": "stderr",
     "output_type": "stream",
     "text": [
      "C:\\Users\\Pim\\Anaconda3\\lib\\site-packages\\h5py\\__init__.py:36: FutureWarning: Conversion of the second argument of issubdtype from `float` to `np.floating` is deprecated. In future, it will be treated as `np.float64 == np.dtype(float).type`.\n",
      "  from ._conv import register_converters as _register_converters\n"
     ]
    }
   ],
   "source": [
    "# Uncomment the following line to run in Google Colab\n",
    "#%tensorflow_version 2.x\n",
    "import tensorflow as tf\n",
    "# physical_devices = tf.config.experimental.list_physical_devices('GPU') # Check whether GPUs are available\n",
    "physical_devices = tf.config.experimental.list_physical_devices('GPU')\n",
    "tf.config.experimental.set_memory_growth(physical_devices[0], True)"
   ]
  },
  {
   "cell_type": "code",
   "execution_count": 5,
   "metadata": {
    "colab": {},
    "colab_type": "code",
    "id": "-iTn6RmNMuLT"
   },
   "outputs": [],
   "source": [
    "%matplotlib inline\n",
    "import openml as oml\n",
    "import numpy as np\n",
    "import matplotlib.pyplot as plt\n",
    "import sklearn"
   ]
  },
  {
   "cell_type": "code",
   "execution_count": 6,
   "metadata": {
    "colab": {
     "base_uri": "https://localhost:8080/",
     "height": 35
    },
    "colab_type": "code",
    "id": "brth0Z_TMuLZ",
    "outputId": "d3ad568e-e9a2-4c40-a93c-9160e4ed1e49"
   },
   "outputs": [
    {
     "name": "stdout",
     "output_type": "stream",
     "text": [
      "Hi Pim, Looks good. You may continue :)\n"
     ]
    }
   ],
   "source": [
    "from packaging import version\n",
    "import sklearn\n",
    "import tensorflow\n",
    "sklearn_version = sklearn.__version__\n",
    "tensorflow_version = tensorflow.__version__\n",
    "if version.parse(sklearn_version) < version.parse(\"0.22.0\"):\n",
    "    print(\"scikit-learn is outdated. Please update now!\")\n",
    "if version.parse(tensorflow_version) < version.parse(\"2.1.0\"):\n",
    "    print(\"Tensorflow is outdated. This is version {}. Please update to 2.1.\".format(tensorflow_version))\n",
    "else:\n",
    "    print(\"Hi{}, Looks good. You may continue :)\".format(your_name.split(\",\")[1]))"
   ]
  },
  {
   "cell_type": "markdown",
   "metadata": {
    "colab_type": "text",
    "id": "7kdeFjIGMuLv"
   },
   "source": [
    "# Assignment 3"
   ]
  },
  {
   "cell_type": "markdown",
   "metadata": {
    "colab_type": "text",
    "id": "ljhP8DXu-H4j"
   },
   "source": [
    "### Choice of libraries\n",
    "We recommend to use Tensorflow in this assignment since that is what we covered in the labs. If you feel confident using PyTorch (and Skorch for the scikit-learn wrapper), that is allowed too, as long as you are able to implement the requested functions and return the requested data. Read the assignment carefully and ensure that you can. Note that you may also need to do a bit more work to implement certain helper functions and wrappers."
   ]
  },
  {
   "cell_type": "markdown",
   "metadata": {
    "colab_type": "text",
    "id": "-BQG9Kp2EcPc"
   },
   "source": [
    "### Storing and submitting files\n",
    "You must be able to store your models and submit them to GitHub Classroom. The evaluation functions used in this notebook will automatically store models for you.\n",
    "\n",
    "If you want to run and solve the notebook on your local machine/laptop, fill in the path 'base_dir' to your assignment folder into the next cell.\n",
    "\n",
    "If you use Colab, we recommend that you link it to your Google Drive:  \n",
    "* Upload the assignment folder to your Google Drive (+ New > Folder Upload)\n",
    "* Open Colab in a browser, open the 'Files' menu in the left sidebar, and click 'Mount Drive'\n",
    "  * At this point you may need to authenticate\n",
    "* Fill in the path to your assignment folder below\n",
    "  * It's likely '/content/drive/My Drive/assignment-3-yourname'"
   ]
  },
  {
   "cell_type": "code",
   "execution_count": 7,
   "metadata": {
    "colab": {},
    "colab_type": "code",
    "id": "aO6jTIIFHQNU"
   },
   "outputs": [],
   "source": [
    "#base_dir = '/content/drive/My Drive/TestAssignment' # For Google Colab\n",
    "base_dir = './'"
   ]
  },
  {
   "cell_type": "code",
   "execution_count": 8,
   "metadata": {
    "colab": {
     "base_uri": "https://localhost:8080/",
     "height": 127
    },
    "colab_type": "code",
    "id": "HKaM3mwrODBR",
    "outputId": "159fb13d-54c8-43ea-8026-5e4998023e16"
   },
   "outputs": [],
   "source": [
    "#Uncomment to link Colab notebook to Google Drive\n",
    "#from google.colab import drive\n",
    "#drive.mount('/content/drive')"
   ]
  },
  {
   "cell_type": "markdown",
   "metadata": {
    "colab_type": "text",
    "id": "D_BDIpWh92Dk"
   },
   "source": [
    "### Using GPUs\n",
    "While you can solve this assignment on a CPU, using a GPU will speed things up training quite a bit. If you have a local GPU, you can use that. If you don't, we recommend Google Colab. When you are in Colab:\n",
    "* In Runtime > Change runtime type, select the GPU under Hardware Accelerator\n",
    "* Run the 3rd cell on the top of this notebook to check that the GPU is found.\n",
    "\n",
    "Note that Colab may not always have GPUs ready all the time, and may deny you a GPU when you have used them a lot. When you are temporarily 'locked out', you can switch to a non-GPU runtime or to a local instance of Jupyter running on your machine."
   ]
  },
  {
   "cell_type": "markdown",
   "metadata": {
    "colab_type": "text",
    "id": "hq6oPNF546_5"
   },
   "source": [
    "### Constraints\n",
    "* Your stored models should not be larger than 100MB when stored in file. GitHub will not allow uploading if they are.\n",
    "* When questions ask you to provide an explanation, it should be less than 500\n",
    "characters long. Some questions have a higher limit. Always answer in full sentences.\n",
    "* Don't train for more than 100 epochs, i.e. don't throw excessing computational resources at the problem. If your model hasn't converged by then, think of ways it could be made to converge faster. In this assignment you are not after the last tiny improvement, you can stop when learning curves flatten out. Do at least 5 epochs to get a reasonable learning curve."
   ]
  },
  {
   "cell_type": "markdown",
   "metadata": {
    "colab_type": "text",
    "id": "h8wBDNspEvcY"
   },
   "source": [
    "### Grading\n",
    "Grading is based on the following aspects:\n",
    "* Correctness in answering the question. Carefully read the question and answer\n",
    "what is asked for. Train your models on the correct data. It should be clear on which data should be trained, but ask when in doubt. When something is not defined (e.g. the number of epochs or batch size), you can freely choose them.\n",
    "* Clarity of your explanations. Write short but precise descriptions of what you did and why. Give short but clear explanations of the observed performance. \n",
    "After your explanation, your approach and model should make perfect sense. Refrain from using symbols as substitute for words in your explanation (e.g. no: \"More layers -> more parameters\" yes: \"More layers mean more parameters\"). \n",
    "* Part of your grade depends on how well your model performs. When the question says 'you should at least get x%', x% will give you a good but not the maximal grade. You can get the full grade when you are close to what is the expected maximal performance. You don't need to invest lots of effort into the last tiny improvement, though. Unless specified, we look at the accuracy on the validation set. If your learning curves are very erratic we'll compute a score based on the smoothed curves (i.e. single peaks don't count).\n",
    "* The weight of each question is indicated. Take this into account when planning your time."
   ]
  },
  {
   "cell_type": "markdown",
   "metadata": {
    "colab_type": "text",
    "id": "KNyA5dEpR00Z"
   },
   "source": [
    "### Other tips\n",
    "* Don't wait until the last minute to do the assignment. The models take time to train, most questions will require some thinking, and some require you to read up on some new concepts.\n",
    "* Take care that you upload the results as requested. You need to submit not only the notebooks but also the trained models and learning curves (training histories). Be sure to run the verification script and check that all the results are included.\n",
    "* We provide an evaluation function that also stored models to disk. After you are done training the model, set the 'train' attribute to False so that the model doesn't train again (and loads from file instead) when you restart and rerun your notebook.\n",
    "* Explore. For many questions we'll ask you to explain your model design decisions. You cannot magically know the best solutions but you can experiment\n",
    "based on your understanding and make decisions based on both your knowledge and experiments. Your explanation is at least as important as the performance of your model.\n",
    "* Be original. We will check for plagiarism between student submissions."
   ]
  },
  {
   "cell_type": "markdown",
   "metadata": {
    "colab_type": "text",
    "id": "k0nKOZrPJTn8"
   },
   "source": [
    "### Data\n",
    "The [Street View House Numbers Dataset](https://www.openml.org/d/41081) contains 32-by-32 RGB images centered around a single digit of a house number appearing in Google Street View. Many of the images do contain some distractors at the sides. It consists of 10 classes, 1 for each digit. Digit '1' has label 1, '9' has label 9 and '0' has label 10. Your goal is to build models that recognize the correct digit."
   ]
  },
  {
   "cell_type": "markdown",
   "metadata": {
    "colab_type": "text",
    "id": "B8sOA7mEKOSp"
   },
   "source": [
    "If you use Colab, uncomment the following to cache the dataset inside the VM. This will make reloading faster if you need to restart your notebook. After longer periods of inactivity, your VM may be recycled and the cache lost, in which case the dataset will be downloaded again. Also note that this dataset is about 1Gb large, and will take even more space in memory. You may need to switch to a high-RAM environment (Colab will ask you if you hit the limit)."
   ]
  },
  {
   "cell_type": "code",
   "execution_count": 9,
   "metadata": {
    "colab": {},
    "colab_type": "code",
    "id": "Wu9s9dnlJMP0"
   },
   "outputs": [],
   "source": [
    "# Use OpenML caching in Colab\n",
    "# On your local machine, it will store data in a hidden folder '~/.openml'\n",
    "#import os\n",
    "#oml.config.cache_directory = os.path.expanduser('/content/cache')"
   ]
  },
  {
   "cell_type": "code",
   "execution_count": 10,
   "metadata": {
    "colab": {},
    "colab_type": "code",
    "id": "_3o_TT8SMuLy"
   },
   "outputs": [
    {
     "name": "stderr",
     "output_type": "stream",
     "text": [
      "WARNING: Logging before flag parsing goes to stderr.\n",
      "I0419 19:57:51.971808  4192 dataset.py:418] Data pickle file already exists and is up to date.\n"
     ]
    }
   ],
   "source": [
    "# Download Streetview data. Takes a while (several minutes), and quite a bit of\n",
    "# memory when it needs to download. After caching it loads faster.\n",
    "SVHN = oml.datasets.get_dataset(41081)\n",
    "X, y, _, _ = SVHN.get_data(dataset_format='array',\n",
    "    target=SVHN.default_target_attribute)"
   ]
  },
  {
   "cell_type": "markdown",
   "metadata": {
    "colab_type": "text",
    "id": "EPwHgeC3MuMI"
   },
   "source": [
    "Reshape, sample and split the data"
   ]
  },
  {
   "cell_type": "code",
   "execution_count": 11,
   "metadata": {
    "colab": {},
    "colab_type": "code",
    "id": "3C14250QOGpL"
   },
   "outputs": [],
   "source": [
    "from tensorflow.keras.utils import to_categorical\n",
    "\n",
    "Xr = X.reshape((len(X),32,32,3))\n",
    "Xr = Xr / 255.\n",
    "yr = to_categorical(y)"
   ]
  },
  {
   "cell_type": "code",
   "execution_count": 12,
   "metadata": {
    "colab": {},
    "colab_type": "code",
    "id": "sbxtRoDcMuMK"
   },
   "outputs": [],
   "source": [
    "# DO NOT EDIT. DO NOT OVERWRITE THESE VARIABLES.\n",
    "from sklearn.model_selection import train_test_split\n",
    "# We do an 80-20 split for the training and test set, and then again a 80-20 split into training and validation data\n",
    "X_train_all, X_test, y_train_all, y_test = train_test_split(Xr,yr, stratify=yr, train_size=0.8, test_size=0.2, random_state=1)\n",
    "X_train, X_val, y_train, y_val = train_test_split(X_train_all,y_train_all, stratify=y_train_all, train_size=0.8, random_state=1)\n",
    "evaluation_split = X_train, X_val, y_train, y_val"
   ]
  },
  {
   "cell_type": "markdown",
   "metadata": {
    "colab_type": "text",
    "id": "gUAf28y2O6ks"
   },
   "source": [
    "Check the formatting - and what the data looks like"
   ]
  },
  {
   "cell_type": "code",
   "execution_count": 13,
   "metadata": {
    "colab": {
     "base_uri": "https://localhost:8080/",
     "height": 141
    },
    "colab_type": "code",
    "id": "QEWsr56hMuL8",
    "outputId": "6b3d17a1-bbc8-46ef-f5c6-66e15f01b963"
   },
   "outputs": [
    {
     "data": {
      "image/png": "[encoded data removed]",
      "text/plain": [
       "<Figure size 720x360 with 5 Axes>"
      ]
     },
     "metadata": {},
     "output_type": "display_data"
    }
   ],
   "source": [
    "from random import randint\n",
    "\n",
    "# Takes a list of row ids, and plots the corresponding images\n",
    "# Use grayscale=True for plotting grayscale images\n",
    "def plot_images(X, y, grayscale=False):\n",
    "    fig, axes = plt.subplots(1, len(X),  figsize=(10, 5))\n",
    "    for n in range(len(X)):\n",
    "        if grayscale:\n",
    "            axes[n].imshow(X[n], cmap='gray')\n",
    "        else:\n",
    "            axes[n].imshow(X[n])\n",
    "        axes[n].set_xlabel((np.argmax(y[n])+1)%10) # Label is index+1\n",
    "        axes[n].set_xticks(()), axes[n].set_yticks(())\n",
    "    plt.show();\n",
    "\n",
    "images = [randint(0,len(X_train)) for i in range(5)]\n",
    "X_random = [X_train[i] for i in images]\n",
    "y_random = [y_train[i] for i in images]\n",
    "plot_images(X_random, y_random)"
   ]
  },
  {
   "cell_type": "markdown",
   "metadata": {
    "colab_type": "text",
    "id": "yUQ22FEawd-J"
   },
   "source": [
    "### Evaluation harness\n",
    "We provide an evaluation function 'run_evaluation' that you should use to \n",
    "evaluate all your models. It also stores the trained models to disk so that\n",
    "your submission can be quickly verified, as well as to avoid having to train\n",
    "them over and over again. Your last run of the evaluation function (the last one\n",
    "stored to file), is the one that will be evaluated. The 'train' argument indicates whether to train or to load from disk. We have provided helper functions for saving and loading models to/from file, assuming you use TensorFlow. If you use PyTorch you'll have to adapt them."
   ]
  },
  {
   "cell_type": "code",
   "execution_count": 23,
   "metadata": {
    "colab": {},
    "colab_type": "code",
    "id": "SFGTq4mUV2zK"
   },
   "outputs": [],
   "source": [
    "import os\n",
    "import pickle\n",
    "import pandas as pd\n",
    "import numpy as np\n",
    "from tensorflow.keras.models import load_model, model_from_json # for use with tensorflow\n",
    "\n",
    "def shout(text, verbose=1):\n",
    "    \"\"\" Prints text in red. Just for fun.\n",
    "    \"\"\"\n",
    "    if verbose>0:\n",
    "        print('\\033[91m'+text+'\\x1b[0m')\n",
    "\n",
    "def load_model_from_file(base_dir, name, extension='.h5'):\n",
    "  \"\"\" Loads a model from a file. The returned model must have a 'fit' and 'summary'\n",
    "  function following the Keras API. Don't change if you use TensorFlow. Otherwise,\n",
    "  adapt as needed. \n",
    "  Keyword arguments:\n",
    "    base_dir -- Directory where the models are stored\n",
    "    name -- Name of the model, e.g. 'question_1_1'\n",
    "    extension -- the file extension\n",
    "  \"\"\"\n",
    "  try:\n",
    "    # if a json description is available, load config and then weights\n",
    "    if os.path.isfile(os.path.join(base_dir, name+'.json')):\n",
    "      json_file = open(os.path.join(base_dir, name+'.json'), 'r')\n",
    "      loaded_model_json = json_file.read()\n",
    "      json_file.close()\n",
    "      model = model_from_json(loaded_model_json)\n",
    "      model.load_weights(os.path.join(base_dir, name+extension))\n",
    "    # else just load the entire model from hdf5 file\n",
    "    else:\n",
    "      model = load_model(os.path.join(base_dir, name+extension))\n",
    "  except OSError:\n",
    "    shout(\"Saved model could not be found. Was it trained and stored correctly? Is the base_dir correct?\")\n",
    "    return False\n",
    "  return model\n",
    "\n",
    "def save_model_to_file(model, base_dir, name, extension='.h5'):\n",
    "  \"\"\" Saves a model to file. Don't change if you use TensorFlow. Otherwise,\n",
    "  adapt as needed. \n",
    "  Keyword arguments:\n",
    "    model -- the model to be saved\n",
    "    base_dir -- Directory where the models should be stored\n",
    "    name -- Name of the model, e.g. 'question_1_1'\n",
    "    extension -- the file extension\n",
    "  \"\"\"\n",
    "  path = os.path.join(base_dir, name+extension)\n",
    "  model.save(path)\n",
    "  size = os.path.getsize(path)\n",
    "  # If model > 100MB, store the weights and architecture only.\n",
    "  if size > 100*1024*1024:\n",
    "    print(\"Model larger than 100MB, storing weights only.\")\n",
    "    model.save_weights(path)\n",
    "    model_json = model.to_json()\n",
    "    with open(os.path.join(base_dir, name+\".json\"), \"w\") as json_file:\n",
    "        json_file.write(model_json)\n",
    "        \n",
    "# Helper function to extract min/max from the learning curves\n",
    "def minMax(x):\n",
    "    return pd.Series(index=['min','max'],data=[x.min(),x.max()])\n",
    "\n",
    "# DO NOT EDIT\n",
    "def run_evaluation(name, model_builder, data, base_dir, train=True, \n",
    "                   generator=False, epochs=3, batch_size=32, steps_per_epoch=60, \n",
    "                   verbose=1, **kwargs):\n",
    "    \"\"\" Trains and evaluates the given model on the predefined train and test splits,\n",
    "    stores the trained model and learning curves. Also prints out a summary of the \n",
    "    model and plots the learning curves.\n",
    "    Keyword arguments:\n",
    "    name -- the name of the model to be stored, e.g. 'question_1_1.h5'**\n",
    "    model_builder -- function that returns an (untrained) model. The model must \n",
    "                     have a 'fit' function that follows the Keras API. It can wrap\n",
    "                     a non-Keras model as long as the 'fit' function takes the \n",
    "                     same attributes and returns the learning curves (history).\n",
    "                     It also must have a 'summary' function that prints out a \n",
    "                     model summary, and a 'save' function that saves the model \n",
    "                     to disk. \n",
    "    data -- data split for evaluation. A tuple of either:\n",
    "            * Numpy arrays (X_train, X_val, y_train, y_val)\n",
    "            * A data generator and validation data (generator, X_val, y_val)\n",
    "    base_dir -- the directory to save or read models to/from\n",
    "    train -- whether or not the data should be trained. If False, the trained model\n",
    "             will be loaded from disk.\n",
    "    generator -- whether the data in given as a generator or not\n",
    "    epochs -- the number of epochs to train for\n",
    "    batch_size -- the batch size to train with\n",
    "    steps_per_epoch -- steps per epoch, in case a generator is used (ignored otherwise)\n",
    "    verbose -- verbosity level, 0: silent, 1: minimal,...\n",
    "    kwargs -- keyword arguments that should be passed to model_builder.\n",
    "              Not required, but may help you to adjust its behavior\n",
    "    \"\"\"\n",
    "    model = model_builder(**kwargs)\n",
    "    if not model:\n",
    "        shout(\"No model is returned by the model_builder\")\n",
    "        return\n",
    "    if not hasattr(model, 'fit'):\n",
    "        shout(\"Model is not built correctly\")\n",
    "        return\n",
    "    learning_curves = {}\n",
    "    if train and not stop_training: # Train anew\n",
    "        shout(\"Training the model\", verbose)\n",
    "        if generator:\n",
    "            generator, X_val, y_val = data\n",
    "            history = model.fit(generator, epochs=epochs, batch_size=batch_size,\n",
    "                              steps_per_epoch=steps_per_epoch, verbose=1, \n",
    "                              validation_data=(X_val, y_val))\n",
    "            learning_curves = history.history\n",
    "        else:\n",
    "            X_train, X_val, y_train, y_val = data\n",
    "            history = model.fit(X_train, y_train, epochs=epochs, batch_size=batch_size,\n",
    "                              verbose=1, validation_data=(X_val, y_val))\n",
    "            learning_curves = history.history\n",
    "        shout(\"Saving to file\", verbose)\n",
    "        save_model_to_file(model, base_dir, name)\n",
    "        with open(os.path.join(base_dir, name+'.p'), 'wb') as file_pi:\n",
    "            pickle.dump(learning_curves, file_pi)\n",
    "        shout(\"Model stored in \"+base_dir, verbose)\n",
    "    else: # Load from file\n",
    "        shout(\"Loading model from file\", verbose)\n",
    "        model = load_model_from_file(base_dir, name)\n",
    "        if not model:\n",
    "            shout(\"Model not found\")\n",
    "            return\n",
    "        learning_curves = None\n",
    "        try:\n",
    "            learning_curves = pickle.load(open(os.path.join(base_dir, name+'.p'), \"rb\"))\n",
    "        except FileNotFoundError:\n",
    "            shout(\"Learning curves not found\")\n",
    "            return\n",
    "        shout(\"Success!\", verbose)\n",
    "    # Report\n",
    "    print(model.summary())\n",
    "    lc = pd.DataFrame(learning_curves)\n",
    "    lc.plot(lw=2,style=['b:','r:','b-','r-']);\n",
    "    plt.xlabel('epochs');\n",
    "    print(lc.apply(minMax))"
   ]
  },
  {
   "cell_type": "markdown",
   "metadata": {
    "colab_type": "text",
    "id": "IU_zPWGPypce"
   },
   "source": [
    "## Part 1. Dense networks (10 points)\n",
    "\n",
    "### Question 1.1: Baseline model (4 points)\n",
    "- Build a dense network (with only dense layers) of at least 3 layers that is shaped like a pyramid: The first layer must have many nodes, and every subsequent layer must have increasingly fewer nodes, e.g. half as many. Implement a function 'build_model_1_1' that returns this model.\n",
    "- You can explore different settings, but don't use any preprocessing or regularization yet. You should be able to achieve at least 70% accuracy, but more is of course better. Unless otherwise stated, you can use accuracy as the evaluation metric in all questions.\n",
    "* Add a small description of your design choices (max. 500 characters) in 'answer_q_1_1': explain what you did and also why. Also discuss the performance of the model. Is it working well? Both the performance of the model and your explanations matter.\n",
    "- The name of the model should be 'model_1_1'. Evaluate it using the 'run_evaluation' function. For this question, you should not use more than 50 epochs."
   ]
  },
  {
   "cell_type": "code",
   "execution_count": 15,
   "metadata": {
    "colab": {
     "base_uri": "https://localhost:8080/",
     "height": 53
    },
    "colab_type": "code",
    "id": "hci6BIdHJTN0",
    "outputId": "d55ca35d-f1d7-467b-9a08-cb3caa0b75c4",
    "scrolled": false
   },
   "outputs": [
    {
     "name": "stdout",
     "output_type": "stream",
     "text": [
      "\u001b[91mLoading model from file\u001b[0m\n",
      "\u001b[91mSuccess!\u001b[0m\n",
      "Model: \"sequential_11\"\n",
      "_________________________________________________________________\n",
      "Layer (type)                 Output Shape              Param #   \n",
      "=================================================================\n",
      "reshape_11 (Reshape)         (None, 3072)              0         \n",
      "_________________________________________________________________\n",
      "dense_44 (Dense)             (None, 2048)              6293504   \n",
      "_________________________________________________________________\n",
      "dense_45 (Dense)             (None, 512)               1049088   \n",
      "_________________________________________________________________\n",
      "dense_46 (Dense)             (None, 128)               65664     \n",
      "_________________________________________________________________\n",
      "dense_47 (Dense)             (None, 10)                1290      \n",
      "=================================================================\n",
      "Total params: 7,409,546\n",
      "Trainable params: 7,409,546\n",
      "Non-trainable params: 0\n",
      "_________________________________________________________________\n",
      "None\n",
      "         loss  accuracy  val_loss  val_accuracy\n",
      "min  0.496892   0.17838  0.626040      0.245232\n",
      "max  2.320496   0.84362  2.178014      0.814691\n",
      "Answer is 495 characters long\n"
     ]
    },
    {
     "data": {
      "image/png": "[encoded data removed]",
      "text/plain": [
       "<Figure size 432x288 with 1 Axes>"
      ]
     },
     "metadata": {},
     "output_type": "display_data"
    }
   ],
   "source": [
    "from tensorflow.keras import models\n",
    "from tensorflow.keras import layers \n",
    "\n",
    "def build_model_1_1():\n",
    "    model = models.Sequential()\n",
    "    model.add(layers.Reshape((3072,), input_shape=(32,32,3)))\n",
    "    model.add(layers.Dense(2048, activation='relu'))\n",
    "    model.add(layers.Dense(512, activation='relu'))\n",
    "    model.add(layers.Dense(128, activation='relu'))\n",
    "    model.add(layers.Dense(10, activation='softmax'))\n",
    "    model.compile(optimizer='adam',\n",
    "                  loss='categorical_crossentropy',\n",
    "                  metrics=['accuracy'])\n",
    "    return model\n",
    "\n",
    "run_evaluation(\"model_1_1\", build_model_1_1, evaluation_split, base_dir, \n",
    "               train=False, epochs=25, batch_size=256)\n",
    "\n",
    "answer_q_1_1 = \"\"\"Much parames needed to model the complex behaviour. Softmax layer needed to classify. \n",
    "               Combi showed good convergence but slow enough to not overfit. More layers/params/epochs \n",
    "               lead to overfit. Relu/adam/(batchsize) are the fastest converging activation/optimization\n",
    "               options here. The model performs well, with the val_loss function starting to bottom out so no overfit \n",
    "               and a high accuracy of 0.84 considering no positional invariance.\"\"\"\n",
    "print(\"Answer is {} characters long\".format(len(answer_q_1_1)))"
   ]
  },
  {
   "cell_type": "markdown",
   "metadata": {
    "colab_type": "text",
    "id": "kmicpoNvonjd"
   },
   "source": [
    "### Question 1.2: Preprocessing (2 points)\n",
    "Rerun the model, but now preprocess the data first by converting the images to \n",
    "greyscale. You can use the helper function below. If you want to do additional \n",
    "preprocessing, you can do that here, too.\n",
    "* Store the preprocessed data as a tuple `preprocessed_split`\n",
    "* Rerun and re-evaluate your model using the preprocessed data.\n",
    "  * For the remainder of the assignment, always use the preprocessed data\n",
    "* Explain what you did and interpret the results in 'answer_q_1_2'. Is the model\n",
    "  better, if so, why?"
   ]
  },
  {
   "cell_type": "code",
   "execution_count": 17,
   "metadata": {
    "colab": {},
    "colab_type": "code",
    "id": "_wFGWDQSqkIM"
   },
   "outputs": [],
   "source": [
    "# Luminance-preserving RGB to greyscale conversion\n",
    "def rgb2gray(X):\n",
    "    return np.expand_dims(np.dot(X, [0.2990, 0.5870, 0.1140]), axis=3)\n",
    "\n",
    "preprocessed_split = rgb2gray(X_train), rgb2gray(X_val), y_train, y_val"
   ]
  },
  {
   "cell_type": "code",
   "execution_count": 18,
   "metadata": {
    "colab": {
     "base_uri": "https://localhost:8080/",
     "height": 53
    },
    "colab_type": "code",
    "id": "3aTVsLaojNeM",
    "outputId": "7ce47d0b-a86f-476b-b1ab-bce088c17a8e"
   },
   "outputs": [
    {
     "name": "stdout",
     "output_type": "stream",
     "text": [
      "\u001b[91mLoading model from file\u001b[0m\n",
      "\u001b[91mSuccess!\u001b[0m\n",
      "Model: \"sequential_22\"\n",
      "_________________________________________________________________\n",
      "Layer (type)                 Output Shape              Param #   \n",
      "=================================================================\n",
      "reshape_22 (Reshape)         (None, 1024)              0         \n",
      "_________________________________________________________________\n",
      "dense_88 (Dense)             (None, 2048)              2099200   \n",
      "_________________________________________________________________\n",
      "dense_89 (Dense)             (None, 512)               1049088   \n",
      "_________________________________________________________________\n",
      "dense_90 (Dense)             (None, 128)               65664     \n",
      "_________________________________________________________________\n",
      "dense_91 (Dense)             (None, 10)                1290      \n",
      "=================================================================\n",
      "Total params: 3,215,242\n",
      "Trainable params: 3,215,242\n",
      "Non-trainable params: 0\n",
      "_________________________________________________________________\n",
      "None\n",
      "         loss  accuracy  val_loss  val_accuracy\n",
      "min  0.476273  0.199830  0.589401      0.301064\n",
      "max  2.213249  0.851457  1.946569      0.823629\n",
      "Answer is 441 characters long\n"
     ]
    },
    {
     "data": {
      "image/png": "[encoded data removed]",
      "text/plain": [
       "<Figure size 432x288 with 1 Axes>"
      ]
     },
     "metadata": {},
     "output_type": "display_data"
    }
   ],
   "source": [
    "# Adjusted model\n",
    "def build_model_1_2():\n",
    "    model = models.Sequential()\n",
    "    model.add(layers.Reshape((1024,), input_shape=(32,32,1)))\n",
    "    model.add(layers.Dense(2048, activation='relu'))\n",
    "    model.add(layers.Dense(512, activation='relu'))\n",
    "    model.add(layers.Dense(128, activation='relu'))\n",
    "    model.add(layers.Dense(10, activation='softmax'))\n",
    "    model.compile(optimizer='adam',\n",
    "                  loss='categorical_crossentropy',\n",
    "                  metrics=['accuracy'])\n",
    "    return model\n",
    "\n",
    "# Evaluate. Use a new name 'model_1_2' to not overwrite the previous trained model\n",
    "run_evaluation(\"model_1_2\", build_model_1_2, preprocessed_split, base_dir, \n",
    "               train=False, epochs=25, batch_size=256)\n",
    "\n",
    "answer_q_1_2 = \"\"\"The tensor is transformed to a 32x32x1 tensor, so the input shape is transformed accordingly with\n",
    "32x32x1 = 1024 input parameters. Min-max has already been applied. The model performs slighly better in both training \n",
    "and validation because colours are not a factor anymore, so the difference between images is less and more focus is on \n",
    "the shape of the numbers. The number of parameters is lower, but so is the input, which scales the same.\"\"\"\n",
    "print(\"Answer is {} characters long\".format(len(answer_q_1_2)))"
   ]
  },
  {
   "cell_type": "markdown",
   "metadata": {
    "colab_type": "text",
    "id": "7l1pHwimiWQI"
   },
   "source": [
    "### Question 1.3: Regularization and tuning (4 points)\n",
    "* Regularize the model. You can explore (and combine) different techniques. What works best?\n",
    "* Tune other hyperparameters (e.g. learning rate, batch size,...) as you see fit.\n",
    "* Explain your findings and final design decisions. Retrain the model again on the preprocessed data and discuss the results.\n",
    "* Return your model in function 'build_model_1_3' and write your answer in 'answer_q_1_3'"
   ]
  },
  {
   "cell_type": "code",
   "execution_count": 19,
   "metadata": {
    "colab": {
     "base_uri": "https://localhost:8080/",
     "height": 53
    },
    "colab_type": "code",
    "id": "2ZZenVX1jDIQ",
    "outputId": "21294110-1f3e-4555-f3f3-a24bae135de5",
    "scrolled": false
   },
   "outputs": [
    {
     "name": "stdout",
     "output_type": "stream",
     "text": [
      "\u001b[91mLoading model from file\u001b[0m\n",
      "\u001b[91mSuccess!\u001b[0m\n",
      "Model: \"sequential_61\"\n",
      "_________________________________________________________________\n",
      "Layer (type)                 Output Shape              Param #   \n",
      "=================================================================\n",
      "reshape_61 (Reshape)         (None, 1024)              0         \n",
      "_________________________________________________________________\n",
      "dense_244 (Dense)            (None, 2048)              2099200   \n",
      "_________________________________________________________________\n",
      "dense_245 (Dense)            (None, 512)               1049088   \n",
      "_________________________________________________________________\n",
      "dense_246 (Dense)            (None, 128)               65664     \n",
      "_________________________________________________________________\n",
      "dense_247 (Dense)            (None, 10)                1290      \n",
      "=================================================================\n",
      "Total params: 3,215,242\n",
      "Trainable params: 3,215,242\n",
      "Non-trainable params: 0\n",
      "_________________________________________________________________\n",
      "None\n",
      "         loss  accuracy  val_loss  val_accuracy\n",
      "min  0.497852  0.219360  0.589330      0.340467\n",
      "max  2.338612  0.863292  1.916648      0.843205\n",
      "Answer is 483 characters long\n"
     ]
    },
    {
     "data": {
      "image/png": "[encoded data removed]",
      "text/plain": [
       "<Figure size 432x288 with 1 Axes>"
      ]
     },
     "metadata": {},
     "output_type": "display_data"
    }
   ],
   "source": [
    "from keras import regularizers\n",
    "\n",
    "def build_model_1_3():\n",
    "    reg1 = regularizers.l2(0.00002)\n",
    "    reg2 = regularizers.l2(0.0025)\n",
    "\n",
    "    model = models.Sequential()\n",
    "    model.add(layers.Reshape((1024,), input_shape=(32,32,1)))\n",
    "    model.add(layers.Dense(2048, activation='relu', kernel_regularizer = reg1))\n",
    "    model.add(layers.Dense(512, activation='relu', kernel_regularizer = reg1))\n",
    "    model.add(layers.Dense(128, activation='relu', kernel_regularizer = reg2))\n",
    "    model.add(layers.Dense(10, activation='softmax'))\n",
    "    model.compile(optimizer='adam',\n",
    "                  loss='categorical_crossentropy',\n",
    "                  metrics=['accuracy'])\n",
    "    return model\n",
    "\n",
    "run_evaluation(\"model_1_3\", build_model_1_3, preprocessed_split, base_dir, \n",
    "               train=False, epochs=44, batch_size=256)\n",
    "\n",
    "answer_q_1_3 = \"\"\"First tried to apply the same regularization to all layers. This overregularized, leading to a \n",
    "decrease in accuracy. Then tried regularization only on the last layer, which also has effect on backprop to the other \n",
    "layers. This worked well, then optimized the other layers with smaller lambda. Can run more epochs because \n",
    "less overfit. The model persoms/generalizes better, with much higher validation results. Val_loss not decreasing \n",
    "a lot anymore, but decreasing, so no overfit.\"\"\"\n",
    "print(\"Answer is {} characters long\".format(len(answer_q_1_3)))"
   ]
  },
  {
   "cell_type": "markdown",
   "metadata": {
    "colab_type": "text",
    "id": "leo7YbI9L5et"
   },
   "source": [
    "## Part 2. Convolutional neural networks (10 points)\n",
    "### Question 2.1: Design a ConvNet (7 points)\n",
    "- Build a sequential convolutional neural network. Try to achieve the best validation accuracy you can. You should be able to get at least 90% accuracy. You can use any depth, any combination of layers, and any kind of regularization and tuning. \n",
    "- Add a description of your design choices in 'answer_q_2_1': explain what you did and also why. Also discuss the performance of the model. Is it working well? Both the performance of the model and your explanations matter.\n",
    "- You are allowed **800** characters for this answer (but don’t ramble).\n",
    "- The name of the model should be 'model_2_1'. Evaluate it using the 'run_evaluation' function and the preprocessed data."
   ]
  },
  {
   "cell_type": "code",
   "execution_count": 20,
   "metadata": {
    "colab": {
     "base_uri": "https://localhost:8080/",
     "height": 53
    },
    "colab_type": "code",
    "id": "ceyv-n1JRYyP",
    "outputId": "818e2fd1-77c1-4236-a8ee-dec7d9eb8a9e"
   },
   "outputs": [
    {
     "name": "stdout",
     "output_type": "stream",
     "text": [
      "\u001b[91mLoading model from file\u001b[0m\n",
      "\u001b[91mSuccess!\u001b[0m\n",
      "Model: \"sequential_14\"\n",
      "_________________________________________________________________\n",
      "Layer (type)                 Output Shape              Param #   \n",
      "=================================================================\n",
      "conv2d_99 (Conv2D)           (None, 32, 32, 32)        320       \n",
      "_________________________________________________________________\n",
      "dropout_77 (Dropout)         (None, 32, 32, 32)        0         \n",
      "_________________________________________________________________\n",
      "conv2d_100 (Conv2D)          (None, 32, 32, 32)        9248      \n",
      "_________________________________________________________________\n",
      "max_pooling2d_44 (MaxPooling (None, 16, 16, 32)        0         \n",
      "_________________________________________________________________\n",
      "conv2d_101 (Conv2D)          (None, 16, 16, 64)        18496     \n",
      "_________________________________________________________________\n",
      "dropout_78 (Dropout)         (None, 16, 16, 64)        0         \n",
      "_________________________________________________________________\n",
      "conv2d_102 (Conv2D)          (None, 16, 16, 64)        36928     \n",
      "_________________________________________________________________\n",
      "max_pooling2d_45 (MaxPooling (None, 8, 8, 64)          0         \n",
      "_________________________________________________________________\n",
      "conv2d_103 (Conv2D)          (None, 8, 8, 128)         73856     \n",
      "_________________________________________________________________\n",
      "dropout_79 (Dropout)         (None, 8, 8, 128)         0         \n",
      "_________________________________________________________________\n",
      "conv2d_104 (Conv2D)          (None, 8, 8, 128)         147584    \n",
      "_________________________________________________________________\n",
      "max_pooling2d_46 (MaxPooling (None, 4, 4, 128)         0         \n",
      "_________________________________________________________________\n",
      "conv2d_105 (Conv2D)          (None, 4, 4, 256)         295168    \n",
      "_________________________________________________________________\n",
      "dropout_80 (Dropout)         (None, 4, 4, 256)         0         \n",
      "_________________________________________________________________\n",
      "conv2d_106 (Conv2D)          (None, 4, 4, 256)         590080    \n",
      "_________________________________________________________________\n",
      "dropout_81 (Dropout)         (None, 4, 4, 256)         0         \n",
      "_________________________________________________________________\n",
      "conv2d_107 (Conv2D)          (None, 4, 4, 256)         590080    \n",
      "_________________________________________________________________\n",
      "max_pooling2d_47 (MaxPooling (None, 2, 2, 256)         0         \n",
      "_________________________________________________________________\n",
      "flatten_11 (Flatten)         (None, 1024)              0         \n",
      "_________________________________________________________________\n",
      "dropout_82 (Dropout)         (None, 1024)              0         \n",
      "_________________________________________________________________\n",
      "dense_45 (Dense)             (None, 1024)              1049600   \n",
      "_________________________________________________________________\n",
      "dropout_83 (Dropout)         (None, 1024)              0         \n",
      "_________________________________________________________________\n",
      "dense_46 (Dense)             (None, 64)                65600     \n",
      "_________________________________________________________________\n",
      "dense_47 (Dense)             (None, 10)                650       \n",
      "=================================================================\n",
      "Total params: 2,877,610\n",
      "Trainable params: 2,877,610\n",
      "Non-trainable params: 0\n",
      "_________________________________________________________________\n",
      "None\n",
      "         loss  accuracy  val_loss  val_accuracy\n",
      "min  0.226589  0.260843  0.280529      0.526091\n",
      "max  2.934018  0.956754  1.506588      0.941147\n",
      "Answer is 811 characters long\n"
     ]
    },
    {
     "data": {
      "image/png": "[encoded data removed]",
      "text/plain": [
       "<Figure size 432x288 with 1 Axes>"
      ]
     },
     "metadata": {},
     "output_type": "display_data"
    }
   ],
   "source": [
    "def build_model_2_1():\n",
    "    reg0 = regularizers.l2(0.)\n",
    "    reg1 = regularizers.l2(0.00001)\n",
    "    reg2 = regularizers.l2(0.002)\n",
    "    \n",
    "    model = models.Sequential()\n",
    "    model.add(layers.Conv2D(32, (3, 3), padding='same', kernel_regularizer = reg0, activation='relu', \n",
    "                            input_shape=(32, 32, 1), kernel_initializer='random_normal'))\n",
    "    model.add(layers.Dropout(0.2))\n",
    "    model.add(layers.Conv2D(32, (3, 3), padding='same', kernel_regularizer = reg0, activation='relu',\n",
    "                           kernel_initializer='random_normal'))\n",
    "    model.add(layers.MaxPooling2D((2, 2)))\n",
    "    \n",
    "    model.add(layers.Conv2D(64, (3, 3), padding='same', kernel_regularizer = reg0, activation='relu',\n",
    "                           kernel_initializer='random_normal'))\n",
    "    model.add(layers.Dropout(0.2))\n",
    "    model.add(layers.Conv2D(64, (3, 3), padding='same', kernel_regularizer = reg0, activation='relu',\n",
    "                           kernel_initializer='random_normal'))\n",
    "    model.add(layers.MaxPooling2D((2, 2))) \n",
    "    \n",
    "    model.add(layers.Conv2D(128, (3, 3), padding='same', kernel_regularizer = reg0, activation='relu',\n",
    "                           kernel_initializer='random_normal'))\n",
    "    model.add(layers.Dropout(0.2))\n",
    "    model.add(layers.Conv2D(128, (3, 3), padding='same', kernel_regularizer = reg0, activation='relu',\n",
    "                           kernel_initializer='random_normal'))\n",
    "    model.add(layers.MaxPooling2D((2, 2))) \n",
    "    \n",
    "    model.add(layers.Conv2D(256, (3, 3), padding='same', kernel_regularizer = reg1, activation='relu',\n",
    "                           kernel_initializer='random_normal'))\n",
    "    model.add(layers.Dropout(0.2))\n",
    "    model.add(layers.Conv2D(256, (3, 3), padding='same', kernel_regularizer = reg1, activation='relu',\n",
    "                           kernel_initializer='random_normal'))\n",
    "    model.add(layers.Dropout(0.2))\n",
    "    model.add(layers.Conv2D(256, (3, 3), padding='same', kernel_regularizer = reg1, activation='relu',\n",
    "                           kernel_initializer='random_normal'))\n",
    "    model.add(layers.MaxPooling2D((2, 2))) \n",
    "    \n",
    "    model.add(layers.Flatten())\n",
    "    model.add(layers.Dropout(0.5))\n",
    "    model.add(layers.Dense(1024, activation='relu', kernel_regularizer = reg2, kernel_initializer='random_normal'))\n",
    "    model.add(layers.Dropout(0.2))\n",
    "    model.add(layers.Dense(64, activation='relu', kernel_regularizer = reg2, kernel_initializer='random_normal'))\n",
    "    model.add(layers.Dense(10, activation='softmax'))\n",
    "    model.compile(optimizer='adam',\n",
    "                  loss='categorical_crossentropy',\n",
    "                  metrics=['accuracy'])\n",
    "    return model\n",
    "    \n",
    "run_evaluation(\"model_2_1\", build_model_2_1, preprocessed_split, base_dir, \n",
    "               train=False, epochs=15, batch_size=256)\n",
    "answer_q_2_1 = \"\"\"\n",
    "Tried many optimizers/settings/architechtures.\n",
    "Ended with default adam, stacked layers of conv layers with increasing number of filters to make model deeper,\n",
    "which gave better results than a single layer with more filters, also keeps the number of activations roughly equal. \n",
    "'same' padding lowers information loss before pooling. Pooling helps with positional invariance. Dropout layers used to \n",
    "prevent random pattern learning so overfit. This makes the model bad at the startbut after 15 epochs val is lower than \n",
    "train, meaning train has learned sufficiently. Batchnormalization seemed to work worse, also with q2_2.\n",
    "In combination with 3 levels of regularization, barely any overfit is observed. \n",
    "Good performance overall. Weights initialized with random_normal to reduce chance to get into local minimum.\"\"\"\n",
    "print(\"Answer is {} characters long\".format(len(answer_q_2_1)))"
   ]
  },
  {
   "cell_type": "markdown",
   "metadata": {
    "colab_type": "text",
    "id": "EpdLTbPwXmOc"
   },
   "source": [
    "### Question 2.2: Data Augmentation (3 points)\n",
    "\n",
    "- Augment the preprocessed training data. You can explore using image shifts, rotations, zooming, flips, etc. What works well, and what does not?\n",
    "- Evaluate the model from question 2.1 with the augmented data using the 'run_evaluation' function. Store the new trained model as 'model_2_2'.\n",
    "- Add a description of your design choices in 'answer_q_2_2': explain what you did and also why. Also discuss the performance of the model."
   ]
  },
  {
   "cell_type": "code",
   "execution_count": 21,
   "metadata": {
    "colab": {
     "base_uri": "https://localhost:8080/",
     "height": 53
    },
    "colab_type": "code",
    "id": "cp8wMUU-aqhQ",
    "outputId": "4cdfe1e6-2c8f-4f19-ca46-cd283fe66113",
    "scrolled": false
   },
   "outputs": [
    {
     "name": "stdout",
     "output_type": "stream",
     "text": [
      "\u001b[91mLoading model from file\u001b[0m\n",
      "\u001b[91mSuccess!\u001b[0m\n",
      "Model: \"sequential_11\"\n",
      "_________________________________________________________________\n",
      "Layer (type)                 Output Shape              Param #   \n",
      "=================================================================\n",
      "conv2d_72 (Conv2D)           (None, 32, 32, 32)        320       \n",
      "_________________________________________________________________\n",
      "dropout_56 (Dropout)         (None, 32, 32, 32)        0         \n",
      "_________________________________________________________________\n",
      "conv2d_73 (Conv2D)           (None, 32, 32, 32)        9248      \n",
      "_________________________________________________________________\n",
      "max_pooling2d_32 (MaxPooling (None, 16, 16, 32)        0         \n",
      "_________________________________________________________________\n",
      "conv2d_74 (Conv2D)           (None, 16, 16, 64)        18496     \n",
      "_________________________________________________________________\n",
      "dropout_57 (Dropout)         (None, 16, 16, 64)        0         \n",
      "_________________________________________________________________\n",
      "conv2d_75 (Conv2D)           (None, 16, 16, 64)        36928     \n",
      "_________________________________________________________________\n",
      "max_pooling2d_33 (MaxPooling (None, 8, 8, 64)          0         \n",
      "_________________________________________________________________\n",
      "conv2d_76 (Conv2D)           (None, 8, 8, 128)         73856     \n",
      "_________________________________________________________________\n",
      "dropout_58 (Dropout)         (None, 8, 8, 128)         0         \n",
      "_________________________________________________________________\n",
      "conv2d_77 (Conv2D)           (None, 8, 8, 128)         147584    \n",
      "_________________________________________________________________\n",
      "max_pooling2d_34 (MaxPooling (None, 4, 4, 128)         0         \n",
      "_________________________________________________________________\n",
      "conv2d_78 (Conv2D)           (None, 4, 4, 256)         295168    \n",
      "_________________________________________________________________\n",
      "dropout_59 (Dropout)         (None, 4, 4, 256)         0         \n",
      "_________________________________________________________________\n",
      "conv2d_79 (Conv2D)           (None, 4, 4, 256)         590080    \n",
      "_________________________________________________________________\n",
      "dropout_60 (Dropout)         (None, 4, 4, 256)         0         \n",
      "_________________________________________________________________\n",
      "conv2d_80 (Conv2D)           (None, 4, 4, 256)         590080    \n",
      "_________________________________________________________________\n",
      "max_pooling2d_35 (MaxPooling (None, 2, 2, 256)         0         \n",
      "_________________________________________________________________\n",
      "flatten_8 (Flatten)          (None, 1024)              0         \n",
      "_________________________________________________________________\n",
      "dropout_61 (Dropout)         (None, 1024)              0         \n",
      "_________________________________________________________________\n",
      "dense_36 (Dense)             (None, 1024)              1049600   \n",
      "_________________________________________________________________\n",
      "dropout_62 (Dropout)         (None, 1024)              0         \n",
      "_________________________________________________________________\n",
      "dense_37 (Dense)             (None, 64)                65600     \n",
      "_________________________________________________________________\n",
      "dense_38 (Dense)             (None, 10)                650       \n",
      "=================================================================\n",
      "Total params: 2,877,610\n",
      "Trainable params: 2,877,610\n",
      "Non-trainable params: 0\n",
      "_________________________________________________________________\n",
      "None\n",
      "         loss  accuracy  val_loss  val_accuracy\n",
      "min  0.254254  0.191095  0.242034      0.253289\n",
      "max  3.150759  0.950401  2.159402      0.954239\n",
      "Answer is 435 characters long\n"
     ]
    },
    {
     "data": {
      "image/png": "[encoded data removed]",
      "text/plain": [
       "<Figure size 432x288 with 1 Axes>"
      ]
     },
     "metadata": {},
     "output_type": "display_data"
    }
   ],
   "source": [
    "from tensorflow.keras.preprocessing.image import ImageDataGenerator\n",
    "\n",
    "# Note that we build the same untrained model as in question 2.1 but store the \n",
    "# trained version as model_2_2. Change attributes as needed to run on augmented\n",
    "# data\n",
    "batch_size = 256\n",
    "steps = int(X_train.shape[0] / batch_size)\n",
    "\n",
    "train_datagen = ImageDataGenerator(\n",
    "      rotation_range=0.05,\n",
    "      width_shift_range=0.1,\n",
    "      height_shift_range=0.1,\n",
    "      shear_range=0.0,\n",
    "      zoom_range=0.1,\n",
    "      fill_mode='nearest')\n",
    "\n",
    "# load data \n",
    "it_train = train_datagen.flow(rgb2gray(X_train), y_train, batch_size=batch_size)\n",
    "\n",
    "augmented_split = it_train, rgb2gray(X_val), y_val\n",
    "\n",
    "run_evaluation(\"model_2_2\", build_model_2_1, augmented_split, base_dir, \n",
    "               train=False, generator = True, epochs=30, batch_size = None, steps_per_epoch = steps)\n",
    "\n",
    "answer_q_2_2 = \"\"\"Height/width shifts and small rotations/zooming work because not every image is centered/horizontal\n",
    "perfectly or the same size. Shear/flips etc don't work because the images have the same orientation, so this would\n",
    "create bad training data. Model able to generalize better, at cost of training performance, as training is randomly\n",
    "augmented each epoch it trains slower. Val is not augmented. Model is not overfitting, performing well.\n",
    "\"\"\"\n",
    "print(\"Answer is {} characters long\".format(len(answer_q_2_2)))"
   ]
  },
  {
   "cell_type": "markdown",
   "metadata": {
    "colab_type": "text",
    "id": "Nb8jrFlnbBUP"
   },
   "source": [
    "## Part 3. Model interpretation (10 points)\n",
    "### Question 3.1: Interpreting misclassifications (2 points)\n",
    "Study which errors are still made by your last model (model_2_2) by evaluating it on the test data. You do not need to retrain the model.\n",
    "* What is the accuracy of model_2_2 on the test data? Store this in 'test_accuracy_3_1'.\n",
    "* Plot the confusion matrix in 'plot_confusion_matrix' and discuss which classes are often confused.\n",
    "* Visualize the misclassifications in more depth by focusing on a single\n",
    "class (e.g. the number '2') and analyse which kinds of mistakes are made for that class. For instance, are the errors related to the background, noisiness, etc.? Implement the visualization in 'plot_misclassifications'.\n",
    "* Summarize your findings in 'answer_q_3_1'"
   ]
  },
  {
   "cell_type": "code",
   "execution_count": null,
   "metadata": {
    "colab": {},
    "colab_type": "code",
    "id": "yNg-7JsSbn2-"
   },
   "outputs": [],
   "source": [
    "from sklearn.metrics import confusion_matrix\n",
    "import matplotlib.gridspec as gridspec\n",
    "\n",
    "model_22 = load_model_from_file(base_dir, name = \"model_2_2\", extension='.h5')\n",
    "model_22_eval = model_22.evaluate(rgb2gray(X_test), y_test)\n",
    "test_accuracy_3_1 = model_22_eval[1]\n",
    "\n",
    "y_pred = model_22.predict(rgb2gray(X_test))"
   ]
  },
  {
   "cell_type": "code",
   "execution_count": null,
   "metadata": {},
   "outputs": [],
   "source": [
    "classes = {0:1, 1:2, 2:3, 3:4, 4:5, 5:6, 6:7, 7:8, 8:9, 9:10}\n",
    "misclassified_samples = np.nonzero(np.argmax(y_test, axis=1) != np.argmax(y_pred, axis=1))[0]\n",
    "\n",
    "# Little messy, but what works works.....\n",
    "misclassified_3s = []\n",
    "for i in range(0, misclassified_samples.size):\n",
    "    if classes[np.argmax(y_test[misclassified_samples[i]])] == 7:\n",
    "        misclassified_3s += [misclassified_samples[i]]\n",
    "\n",
    "def plot_confusion_matrix():\n",
    "    cm = confusion_matrix(np.argmax(y_test, axis=1),np.argmax(y_pred, axis=1))\n",
    "    fig, ax = plt.subplots()\n",
    "    im = ax.imshow(cm)\n",
    "    ax.set_xticks(np.arange(10)), ax.set_yticks(np.arange(10))\n",
    "    ax.set_xticklabels(list(classes.values()), rotation=45, ha=\"right\")\n",
    "    ax.set_yticklabels(list(classes.values()))\n",
    "    ax.set_ylabel('True')\n",
    "    ax.set_xlabel('Predicted')\n",
    "    for i in range(100):\n",
    "        ax.text(int(i/10),i%10,cm[i%10,int(i/10)], ha=\"center\", va=\"center\", color=\"w\")\n",
    "\n",
    "def plot_misclassifications():\n",
    "    # Visualize the (first five) misclassifications, together with the predicted and actual class\n",
    "    fig, axes = plt.subplots(1, 15,  figsize=(10, 5))\n",
    "    \n",
    "    for nr, i in enumerate(misclassified_3s[:15]):\n",
    "        axes[nr].imshow(X_test[i])\n",
    "        axes[nr].set_xlabel(\"Predicted: %s\" % (classes[np.argmax(y_pred[i])]))\n",
    "        axes[nr].set_xticks(()), axes[nr].set_yticks(())\n",
    "    \n",
    "    gs = gridspec.GridSpec(3,5)\n",
    "    for i in range(3):\n",
    "        for j in range(5):\n",
    "            k = i+j*3\n",
    "            if k < len(axes):\n",
    "                axes[k].set_position(gs[k].get_position(fig))\n",
    "\n",
    "    plt.show()\n",
    "    \n",
    "plot_confusion_matrix()\n",
    "plot_misclassifications()\n",
    "\n",
    "\n",
    "answer_q_3_1 = \"\"\"Accuracy on the test set is roughly the same as on train and val, amazing! \n",
    "To name a few bad classes: 1's are often mistaken to be 7's/4's, 2's to be 3's, 8's to be 5's/3's, 10's to be 1's. \n",
    "Those numbers look very alike, so not strange. What is interesting, is that 1 has much data and is predicted wrong often, \n",
    "which could mean that our model is \"overtrained\" to find 1 wrt the other data. Number 7 is inspected more closely.\n",
    "A lot of the numbers are very noisy and even I find it very hard to make out what number they should be.\n",
    "Others are in a strange font, or not even fully in the image. Multiple misclassifications also come from double/triple\n",
    "numbers.\"\"\"\n",
    "print(\"Answer is {} characters long\".format(len(answer_q_3_1)))"
   ]
  },
  {
   "cell_type": "markdown",
   "metadata": {
    "colab_type": "text",
    "id": "EBRdBpz5Hcrx"
   },
   "source": [
    "### Question 3.2: Visualizing activations (4 points)\n",
    "* Implement a function `plot_activations()` that returns the most interesting activations (feature maps). Select the first example from the test set. Retrieve and visualize the activations of model 2_2 for that example (make sure you load that model in the function), for every filter for different convolutional layers (at different depths in the network).\n",
    "* Give an explanation (as detailed as you can) about your observations in 'answer_q_3_2'. Is your model indeed learning something useful?"
   ]
  },
  {
   "cell_type": "code",
   "execution_count": null,
   "metadata": {
    "colab": {},
    "colab_type": "code",
    "id": "TyQ-IHHcN5Qc",
    "scrolled": true
   },
   "outputs": [],
   "source": [
    "# To ignore error caused by inactive filters\n",
    "np.seterr(divide='ignore', invalid='ignore')\n",
    "\n",
    "def my_3_2(layer_index):\n",
    "    start = layer_index\n",
    "    end = layer_index+1\n",
    "    img_tensor = X_test[0]\n",
    "    img_tensor = np.expand_dims(img_tensor, axis=0) \n",
    "    img_tensor = rgb2gray(img_tensor)\n",
    "\n",
    "    # Extracts the outputs of the layers:\n",
    "    model = load_model_from_file(base_dir, name = \"model_2_2\", extension='.h5')\n",
    "    layer_outputs = [layer.output for layer in model.layers]\n",
    "\n",
    "    # Creates a model that will return these outputs, given the model input:\n",
    "    activation_model = models.Model(inputs=model.input, outputs=layer_outputs)\n",
    "\n",
    "    # one array per layer activation\n",
    "    activations = activation_model.predict(img_tensor)\n",
    "\n",
    "    images_per_row = 16\n",
    "\n",
    "    layer_names = []\n",
    "    for layer in model.layers:\n",
    "        layer_names.append(layer.name)\n",
    "        \n",
    "    # Now let's display our feature maps\n",
    "    for layer_name, layer_activation in zip(layer_names[start:end], activations[start:end]):\n",
    "        # This is the number of features in the feature map\n",
    "        n_features = layer_activation.shape[-1]\n",
    "\n",
    "        # The feature map has shape (1, size, size, n_features)\n",
    "        size = layer_activation.shape[1]\n",
    "\n",
    "        # We will tile the activation channels in this matrix\n",
    "        n_cols = n_features // images_per_row\n",
    "        display_grid = np.zeros((size * n_cols, images_per_row * size))\n",
    "\n",
    "        # We'll tile each filter into this big horizontal grid\n",
    "        for col in range(n_cols):\n",
    "            for row in range(images_per_row):\n",
    "                channel_image = layer_activation[0,\n",
    "                                                 :, :,\n",
    "                                                 col * images_per_row + row]\n",
    "                # Post-process the feature to make it visually palatable\n",
    "                channel_image -= channel_image.mean()\n",
    "                channel_image /= channel_image.std()\n",
    "                channel_image *= 64\n",
    "                channel_image += 128\n",
    "                channel_image = np.clip(channel_image, 0, 255).astype('uint8')\n",
    "                display_grid[col * size : (col + 1) * size,\n",
    "                             row * size : (row + 1) * size] = channel_image\n",
    "\n",
    "        # Display the grid\n",
    "        scale = 1. / size\n",
    "        plt.figure(figsize=(scale * display_grid.shape[1],\n",
    "                            scale * display_grid.shape[0]))\n",
    "        plt.title(\"Activation of layer {} ({})\".format(layer_index + 1,layer_name))\n",
    "        plt.grid(False)\n",
    "        plt.imshow(display_grid, aspect='auto', cmap='viridis')\n",
    "\n",
    "        plt.show()\n",
    "     \n",
    "    return plt\n",
    "        \n",
    "def plot_activations():\n",
    "    # plot_activations() that returns the most interesting activations (feature maps)\n",
    "    return my_3_2(0), my_3_2(4), my_3_2(6), my_3_2(8), my_3_2(14)\n",
    "\n",
    "plot_activations()    \n",
    "    \n",
    "answer_q_3_2 = \"\"\"In lower layers, bigger patterns are being learned, like the rounding of the 8. From the activations,\n",
    "you can still make out the number, like in layer 1 or 5, so the model works good. The deeper you go, those patterns are \n",
    "broken up into smaller and more abstract parts (layer 7), which are learned in more filters. Because of this, \n",
    "and the lower resolution after pooling, it is increasingly hard to see what the model is learning from activations, \n",
    "for example in layer 15.\"\"\"\n",
    "print(\"Answer is {} characters long\".format(len(answer_q_3_2)))"
   ]
  },
  {
   "cell_type": "markdown",
   "metadata": {
    "colab_type": "text",
    "id": "6a4XT0-7Ym25"
   },
   "source": [
    "### Question 3.3: Visualizing activations (4 points)\n",
    "* Again, select the first example from the test set, and the trained model_2_2.\n",
    "* Implement a function `plot_activation_map()` that builds and shows a class activation map for your last convolutional layer that highlights what the model is paying attention to when classifying the example.\n",
    "* If possible, superimpose the activation map over the image. If not, plot\n",
    "them side by side. Implement a function 'plot_3_3' that returns the entire plot."
   ]
  },
  {
   "cell_type": "code",
   "execution_count": null,
   "metadata": {
    "colab": {},
    "colab_type": "code",
    "id": "vsmqYQl2ZZ4n",
    "scrolled": false
   },
   "outputs": [],
   "source": [
    "import cv2\n",
    "\n",
    "# layer 17 is last conv layer conv2d_80\n",
    "# Basis taken from https://gist.github.com/RaphaelMeudec/e9a805fa82880876f8d89766f0690b54\n",
    "def my_function(guided_grads = False):\n",
    "    title_fill = \"\"\n",
    "    # load model\n",
    "    model = load_model_from_file(base_dir, name = \"model_2_2\", extension='.h5')\n",
    "    \n",
    "    # Undo the scaling performed before the assignment to be able to plot with normal ranged image\n",
    "    color_img = 255 * X_test[0]\n",
    "    color_img = color_img.astype(int)\n",
    "    \n",
    "    # Prep image so it is accepted by the model\n",
    "    img = rgb2gray(X_test)[0]\n",
    "    \n",
    "    LAYER_NAME = 'conv2d_80'\n",
    "    # It is an 8 (and also predits an 8), so index is 7 \n",
    "    CLASS_INDEX = 7\n",
    "    \n",
    "    # Create a graph that outputs target convolution and output\n",
    "    grad_model = tf.keras.models.Model([model.inputs], [model.get_layer(LAYER_NAME).output, model.output])\n",
    "\n",
    "    # Get the score for target class\n",
    "    with tf.GradientTape() as tape:\n",
    "        conv_outputs, predictions = grad_model(np.array([img]))\n",
    "        loss = predictions[:, CLASS_INDEX]\n",
    "\n",
    "    # Extract filters and gradients\n",
    "    output = conv_outputs[0]\n",
    "    grads = tape.gradient(loss, conv_outputs)[0]\n",
    "    \n",
    "    # If we use guided grads grads are filtered \n",
    "    if guided_grads:\n",
    "        gate_f = tf.cast(output > 0, 'float32')\n",
    "        gate_r = tf.cast(grads > 0, 'float32')\n",
    "        grads = tf.cast(output > 0, 'float32') * tf.cast(grads > 0, 'float32') * grads\n",
    "        title_fill = \"with guided backpropagation\"        \n",
    "\n",
    "    # Average gradients spatially\n",
    "    weights = tf.reduce_mean(grads, axis=(0, 1))\n",
    "\n",
    "    # Build a ponderated map of filters according to gradients importance\n",
    "    cam = np.ones(output.shape[0:2], dtype=np.float32)\n",
    "\n",
    "    for index, w in enumerate(weights):\n",
    "        cam += w * output[:, :, index]\n",
    "\n",
    "    # Heatmap visualization\n",
    "    cam = cv2.resize(cam.numpy(), (32, 32))\n",
    "    cam = np.maximum(cam, 0)\n",
    "    heatmap = (cam - cam.min()) / (cam.max() - cam.min())\n",
    "    cam = cv2.applyColorMap(np.uint8(255*heatmap), cv2.COLORMAP_JET)\n",
    "    \n",
    "    # No color conversion needed as original already RGB\n",
    "    output_img = cv2.addWeighted(color_img.astype('uint8'), 1, cam, 0.5, 0)\n",
    "    \n",
    "    plt.title(\"Class activation map of last conv_layer \" + title_fill)\n",
    "    plt.imshow(output_img)\n",
    "    \n",
    "    plt.show()\n",
    "    \n",
    "    return plt\n",
    "    \n",
    "def plot_activation_map():\n",
    "    # here because it is required\n",
    "    my_function(guided_grads = False)  \n",
    "    \n",
    "def plot_3_3():\n",
    "    # Uncomment to see the activations that contributed to the correct classification, called guided gradcam\n",
    "    #my_function(guided_grads = True)\n",
    "    \n",
    "    # returns normal cam\n",
    "    return my_function(guided_grads = False)\n",
    "\n",
    "plot_3_3()"
   ]
  },
  {
   "cell_type": "markdown",
   "metadata": {
    "colab_type": "text",
    "id": "buQLQ16EypgL"
   },
   "source": [
    "## Part 4. Transfer learning (10 points)\n",
    "### Question 4.1 Fast feature extraction with VGG16 (5 points)\n",
    "- Import the VGG16 model, pretrained on ImageNet. [See here](https://keras.io/applications/). Only import the convolutional part, not the dense layers.\n",
    "- Implement a function 'build_model_4_1` that adds a dense layer to the convolutional base, and freezes the convolutional base. Consider unfreezing the last few convolutional layers and evaluate whether that works better.\n",
    "- Train the resulting model on the *original* (colored) training data\n",
    "- Evaluate the resulting model using 'run_evaluate'. Discuss the observed performance in 'answer_q_4_1'."
   ]
  },
  {
   "cell_type": "code",
   "execution_count": 24,
   "metadata": {
    "colab": {
     "base_uri": "https://localhost:8080/",
     "height": 53
    },
    "colab_type": "code",
    "id": "QXH1Z7Pqj3HW",
    "outputId": "f16a8d67-a115-464a-d06d-f7eaacc9f905",
    "scrolled": true
   },
   "outputs": [
    {
     "name": "stdout",
     "output_type": "stream",
     "text": [
      "\u001b[91mLoading model from file\u001b[0m\n",
      "\u001b[91mSuccess!\u001b[0m\n",
      "Model: \"sequential_6\"\n",
      "_________________________________________________________________\n",
      "Layer (type)                 Output Shape              Param #   \n",
      "=================================================================\n",
      "vgg16 (Model)                (None, 1, 1, 512)         14714688  \n",
      "_________________________________________________________________\n",
      "flatten_5 (Flatten)          (None, 512)               0         \n",
      "_________________________________________________________________\n",
      "dense_14 (Dense)             (None, 512)               262656    \n",
      "_________________________________________________________________\n",
      "dense_15 (Dense)             (None, 10)                5130      \n",
      "=================================================================\n",
      "Total params: 14,982,474\n",
      "Trainable params: 7,347,210\n",
      "Non-trainable params: 7,635,264\n",
      "_________________________________________________________________\n",
      "None\n",
      "         loss  accuracy  val_loss  val_accuracy\n",
      "min  0.469295  0.583218  0.818063      0.690691\n",
      "max  5.248506  0.935840  4.188462      0.833889\n",
      "Answer is 497 characters long\n"
     ]
    },
    {
     "data": {
      "image/png": "[encoded data removed]",
      "text/plain": [
       "<Figure size 432x288 with 1 Axes>"
      ]
     },
     "metadata": {},
     "output_type": "display_data"
    }
   ],
   "source": [
    "from tensorflow.keras.applications import VGG16\n",
    "from keras import regularizers\n",
    "from keras import optimizers\n",
    "\n",
    "def build_model_4_1():    \n",
    "    reg = regularizers.l2(0.01)\n",
    "    \n",
    "    optimizer = tf.keras.optimizers.Adamax(\n",
    "    learning_rate=0.0001, beta_1=0.9, beta_2=0.999, epsilon=1e-07,\n",
    "    name='Adamax')\n",
    "    \n",
    "    # Load VGG16\n",
    "    conv_base = VGG16(weights='imagenet',\n",
    "              include_top=False, input_shape = (32,32,3))\n",
    "    \n",
    "    # Init base model\n",
    "    model = models.Sequential()\n",
    "    model.add(conv_base)\n",
    "    \n",
    "    # Unfreeze last X blocks\n",
    "    # conv_base.trainable = False\n",
    "    set_trainable = False\n",
    "    for layer in conv_base.layers:\n",
    "        if layer.name == 'block5_conv1':\n",
    "            set_trainable = True\n",
    "        if set_trainable:\n",
    "            layer.trainable = True\n",
    "        else:\n",
    "            layer.trainable = False\n",
    "    \n",
    "    # Build rest of model\n",
    "    model.add(layers.Flatten())\n",
    "    model.add(layers.Dense(512, activation='relu', kernel_regularizer = reg))\n",
    "    model.add(layers.Dense(10, activation='softmax'))\n",
    "    model.compile(optimizer = optimizer,\n",
    "                  loss='categorical_crossentropy',\n",
    "                  metrics=['accuracy'])\n",
    "    return model\n",
    "\n",
    "run_evaluation(\"model_4_1\", build_model_4_1, evaluation_split, base_dir, train=False, epochs=25, batch_size=256)\n",
    "\n",
    "answer_q_4_1 = \"\"\"Training without unfreezing is slow and underfits a lot. Model is intended for much higher \n",
    "resolution images and is therefore much more complex. Unfreezing layers from the last block is much quicker and creates \n",
    "increasingly better embeddings. Not getting this model as good as own model , after much\n",
    "tries with optimizers/regs I found this to work reasonably well. Val is much lower, and error is high,\n",
    "probably because the conv layers are not optimized for this data. Unfreezing more is better.\"\"\"\n",
    "print(\"Answer is {} characters long\".format(len(answer_q_4_1)))"
   ]
  },
  {
   "cell_type": "markdown",
   "metadata": {
    "colab_type": "text",
    "id": "cp60rxZTYI8O"
   },
   "source": [
    "### Question 4.2 Embeddings and pipelines (5 points)\n",
    "- Generate embeddings of the original images by running them through the trained convolutional part of model_4_1 (without the dense layer) and returning the output. Embed the training and test data and store them to disk using the helper functions below. Implement a function `store_embeddings` that loads model_4_1 and stores all necessary embeddings to file. Make sure to run it once so that the embeddings are stored (and submitted).\n",
    "- Implement a function 'generate_pipeline' that returns an scikit-learn pipeline. You can use any non-deep learning technique (eg. SVMs, RFs,...), and preprocessing technique. You can do model selection using the validation set. \n",
    "- Implement a function 'evaluate_pipeline' that evaluates a given pipeline on a given training and test set. \n",
    "- Implement a function 'evaluation_4_2' that evaluates your pipeline on the embedded training and test set (loaded from file) and returns the accuracy. \n",
    "- Describe what you did and what you observed. Report the obtained accuracy score. Can you beat your best model thus far?"
   ]
  },
  {
   "cell_type": "code",
   "execution_count": 63,
   "metadata": {},
   "outputs": [],
   "source": [
    "import pickle\n",
    "import gzip\n",
    "import pandas as pd\n",
    "from sklearn.pipeline import make_pipeline, Pipeline\n",
    "from sklearn.compose import make_column_transformer\n",
    "\n",
    "# Auto classifier\n",
    "from gama import GamaClassifier\n",
    "from gama.logging.GamaReport import GamaReport\n",
    "\n",
    "# Classifiers\n",
    "from sklearn import svm\n",
    "from sklearn.ensemble import RandomForestClassifier\n",
    "from sklearn.linear_model import LogisticRegression\n",
    "from sklearn.naive_bayes import GaussianNB\n",
    "\n",
    "# Side things\n",
    "from sklearn.impute import SimpleImputer\n",
    "from sklearn.preprocessing import OneHotEncoder, PowerTransformer, Normalizer, StandardScaler\n",
    "from category_encoders import TargetEncoder\n",
    "\n",
    "def transform_evaluations(df):\n",
    "    \"\"\" The GamaReport was initially developed for use within GAMA tooling.\n",
    "    For this reason it contains some hard to interpret, useless or internal data.\n",
    "    For clarity, we filter this out for you.\n",
    "    \"\"\"\n",
    "    df = df.drop(['id', 'length_cummax', 'relative_end', 'n', 'start', 'duration'], axis=1)\n",
    "    df['length'] = -df['length']\n",
    "    pd.set_option('display.max_columns', None)\n",
    "    return df\n",
    "\n",
    "def store_embedding(X, name):  \n",
    "  with gzip.open(os.path.join(base_dir, name+'_embedding.p'), 'wb') as file_pi:\n",
    "    pickle.dump(X, file_pi)\n",
    "\n",
    "def load_embedding(name):\n",
    "  with gzip.open(os.path.join(base_dir, name+'_embedding.p'), 'rb') as file_pi:\n",
    "    return pickle.load(file_pi)\n",
    "\n",
    "def store_embeddings():\n",
    "    \"\"\" Stores all necessary embeddings to file\n",
    "    \"\"\"\n",
    "    model = load_model_from_file(base_dir, name = \"model_4_1\", extension='.h5')\n",
    "    \n",
    "    # remove last 6 layers, flatten until softmax\n",
    "    for i in range(0, 2):\n",
    "        model.pop()\n",
    "    model.summary()\n",
    "    \n",
    "    predict_test = model.predict(X_test)\n",
    "    predict_train = model.predict(X_train)\n",
    "    predict_val = model.predict(X_val)\n",
    "    \n",
    "    store_embedding(predict_test, 'test')\n",
    "    store_embedding(predict_train, 'train')\n",
    "    store_embedding(predict_val, 'val')  \n",
    "    print(\"Embeddings stored.\")"
   ]
  },
  {
   "cell_type": "code",
   "execution_count": 64,
   "metadata": {},
   "outputs": [
    {
     "name": "stdout",
     "output_type": "stream",
     "text": [
      "Model: \"sequential_37\"\n",
      "_________________________________________________________________\n",
      "Layer (type)                 Output Shape              Param #   \n",
      "=================================================================\n",
      "vgg16 (Model)                (None, 1, 1, 512)         14714688  \n",
      "_________________________________________________________________\n",
      "flatten_36 (Flatten)         (None, 512)               0         \n",
      "=================================================================\n",
      "Total params: 14,982,474\n",
      "Trainable params: 7,347,210\n",
      "Non-trainable params: 7,635,264\n",
      "_________________________________________________________________\n",
      "Embeddings stored.\n"
     ]
    }
   ],
   "source": [
    "def find_best_pipeline(find = False, runtime = 60):\n",
    "    \"\"\" Looks for an optimal pipeline with gama, trained on the given embedded training set and \n",
    "      evaluated on the supplied embedded validation set. Returns the best pipeline that it finds, \n",
    "      or returns a manually set pipeline that was found in a previous gama search.\n",
    "    \"\"\"\n",
    "    if find:\n",
    "        # Try to load embeddings, otherwise create the embeddings and load them from file\n",
    "        try:\n",
    "            X_train_embed = load_embedding('train')\n",
    "            X_val_embed = load_embedding('val')\n",
    "        except:\n",
    "            print('The embeddings could not be loaded and are created from X_train and X_val.')\n",
    "            store_embeddings()\n",
    "\n",
    "        # Revert to_categorical to be able to get a single vector that does not give error in pipeline\n",
    "        y_train_single = np.argmax(y_train, axis=1, out=None)\n",
    "        y_val_single = np.argmax(y_val, axis=1, out=None)\n",
    "        \n",
    "        # Use gama to find best pipeline\n",
    "        auto_ml = GamaClassifier(max_total_time = runtime, # in seconds\n",
    "        n_jobs=2,  # one subprocess\n",
    "        scoring='accuracy',  # metric to optimize for\n",
    "        keep_analysis_log=\"pipeline.log\",  # name for a log file to record search output in\n",
    "        )   \n",
    "\n",
    "        auto_ml.fit(X_train_embed, y_train_single)\n",
    "\n",
    "        # to check what the best pipelines are\n",
    "        #report = GamaReport(logfile=\"pipeline.log\")\n",
    "        #evaluations = transform_evaluations(report.evaluations)\n",
    "        #print(evaluations.sort_values('accuracy', ascending=False).drop_duplicates(['length']))\n",
    "\n",
    "        # Now take single pipeline to check how this works\n",
    "        best, = auto_ml._evaluation_library.n_best(1)\n",
    "        best_pipeline = auto_ml.model\n",
    "        #print(auto_ml.model)\n",
    "        print(best_pipeline)\n",
    "        best_pipeline.fit(X_train_embed, y_train_single)\n",
    "        val_score = best_pipeline.score(X_val_embed, y_val_single)\n",
    "        print(\"train score: {:.3f}, val score: {:.3f}\".format(best.score[0], val_score))\n",
    "\n",
    "        return best_pipeline\n",
    "    \n",
    "    # This would be a return statement with a found pipeline from an earlier gama run, but after this initial run I did not\n",
    "    # get it to work anymore. This particular pipeline does not work well on current embedding. \n",
    "    #return Pipeline(memory=None,\n",
    "    #     steps=[('4',\n",
    "    #             TargetEncoder(cols=[], drop_invariant=False,\n",
    "    #                           handle_missing='value', handle_unknown='value',\n",
    "    #                           min_samples_leaf=1, return_df=True,\n",
    "    #                           smoothing=1.0, verbose=0)),\n",
    "    #            ('3',\n",
    "    #             SimpleImputer(add_indicator=False, copy=True, fill_value=None, strategy='median',\n",
    "    #                           verbose=0)),\n",
    "    #            ('2', StandardScaler(copy=True, with_mean=True, with_std=True)),\n",
    "    #            ('1', Normalizer(copy=True, norm='l1')),\n",
    "    #            ('0', GaussianNB(priors=None, var_smoothing=1e-09))],\n",
    "    #     verbose=False)\n",
    "    \n",
    "    # Best overall working classifier from assignment 2\n",
    "    return svm.SVC(kernel = 'rbf', random_state = 1)\n",
    "\n",
    "# Create new embeddings to try on new 4.1 model and..\n",
    "# ..set to true if you want to find a replacement for the false return statement\n",
    "# gives error :(\n",
    "# PyEval_EvalFrameEx returned NULL without setting an error\n",
    "#store_embeddings()\n",
    "#best_pipeline = find_best_pipeline(True, 30)"
   ]
  },
  {
   "cell_type": "code",
   "execution_count": 71,
   "metadata": {},
   "outputs": [
    {
     "name": "stdout",
     "output_type": "stream",
     "text": [
      "The embeddings could not be loaded and are created from X_train and X_test.\n",
      "Model: \"sequential_42\"\n",
      "_________________________________________________________________\n",
      "Layer (type)                 Output Shape              Param #   \n",
      "=================================================================\n",
      "vgg16 (Model)                (None, 1, 1, 512)         14714688  \n",
      "_________________________________________________________________\n",
      "flatten_41 (Flatten)         (None, 512)               0         \n",
      "=================================================================\n",
      "Total params: 14,982,474\n",
      "Trainable params: 7,347,210\n",
      "Non-trainable params: 7,635,264\n",
      "_________________________________________________________________\n",
      "Embeddings stored.\n",
      "Accuracy on test set is: 0.8389062342632692\n",
      "Answer is 482 characters long\n"
     ]
    }
   ],
   "source": [
    "def generate_pipeline():\n",
    "    \"\"\" Returns an sklearn pipeline.\n",
    "    \"\"\"\n",
    "    # Set to true if you want to use gama again to find best pipeline    \n",
    "    best_pipeline = find_best_pipeline(False) \n",
    "    return best_pipeline    \n",
    "    \n",
    "def evaluate_pipeline(pipeline, X_train, y_train, X_test, y_test):\n",
    "    \"\"\" Evaluates the given pipeline, trained on the given embedded training set and \n",
    "      evaluated on the supplied embedded test set. Returns the accuracy score.\n",
    "    \"\"\"\n",
    "    pipeline.fit(X_train, y_train)\n",
    "       \n",
    "    return pipeline.score(X_test, y_test)\n",
    "\n",
    "def evaluation_4_2(X_train, y_train, X_test, y_test):\n",
    "    \"\"\" Runs 'evaluate_pipeline' with embedded versions of the input data \n",
    "    and returns the accuracy.\n",
    "    \"\"\"       \n",
    "    # Try to load embeddings, otherwise create the embeddings and load them from file\n",
    "    try:\n",
    "        X_train_embed = load_embedding('train')\n",
    "        X_test_embed = load_embedding('test')\n",
    "    except:\n",
    "        print('The embeddings could not be loaded and are created from X_train and X_test.')\n",
    "        store_embeddings()\n",
    "        \n",
    "        X_train_embed = load_embedding('train')\n",
    "        X_test_embed = load_embedding('test')\n",
    "        \n",
    "    # Revert to_categorical to be able to get a single vector that does not give error in pipeline (for example in SVM)\n",
    "    y_train_single = np.argmax(y_train, axis=1, out=None)\n",
    "    y_test_single = np.argmax(y_test, axis=1, out=None)\n",
    "    \n",
    "    pipeline = generate_pipeline()\n",
    "    accuracy = evaluate_pipeline(pipeline, X_train_embed, y_train_single, X_test_embed, y_test_single)\n",
    "    \n",
    "    return accuracy\n",
    "\n",
    "#print(\"Pipeline:\",generate_pipeline())\n",
    "evaluation = evaluation_4_2(X_train, y_train, X_test, y_test)\n",
    "print(\"Accuracy on test set is: \" + str(evaluation))\n",
    "answer_q_4_2 = \"\"\"After preparing X and y so it can be used in any classifier, testing on a basic pipeline,\n",
    "I implemented gama. I put the best pipeline it found in an early run as a return statement in the \n",
    "learner. Unless specified otherwise, this pipeline will be used when evaluation_4_2 is ran. \n",
    "However, this stopped working, as gama gives a timout error. I now used svm as backup. The accuracy is fine, given the \n",
    "performance of the 4.1 model, but is far away from the performance of section 2.\"\"\"\n",
    "print(\"Answer is {} characters long\".format(len(answer_q_4_2)))"
   ]
  }
 ],
 "metadata": {
  "accelerator": "GPU",
  "anaconda-cloud": {},
  "colab": {
   "collapsed_sections": [],
   "machine_shape": "hm",
   "name": "Assignment 3 - Model Solution.ipynb",
   "provenance": []
  },
  "kernelspec": {
   "display_name": "Python 3",
   "language": "python",
   "name": "python3"
  },
  "language_info": {
   "codemirror_mode": {
    "name": "ipython",
    "version": 3
   },
   "file_extension": ".py",
   "mimetype": "text/x-python",
   "name": "python",
   "nbconvert_exporter": "python",
   "pygments_lexer": "ipython3",
   "version": "3.6.5"
  }
 },
 "nbformat": 4,
 "nbformat_minor": 4
}
