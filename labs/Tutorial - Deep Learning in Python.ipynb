{
 "cells": [
  {
   "cell_type": "markdown",
   "metadata": {
    "slideshow": {
     "slide_type": "slide"
    }
   },
   "source": [
    "# Lab 5: Deep Learning in Python\n",
    "**Using the Keras API**"
   ]
  },
  {
   "cell_type": "code",
   "execution_count": 1,
   "metadata": {
    "hide_input": false,
    "slideshow": {
     "slide_type": "skip"
    }
   },
   "outputs": [
    {
     "name": "stdout",
     "output_type": "stream",
     "text": [
      "Using Keras 2.2.4-tf\n"
     ]
    },
    {
     "data": {
      "text/html": [
       "<style>html, body{overflow-y: visible !important} .CodeMirror{min-width:105% !important;} .rise-enabled .CodeMirror, .rise-enabled .output_subarea{font-size:140%; line-height:1.2; overflow: visible;} .output_subarea pre{width:110%}</style>"
      ],
      "text/plain": [
       "<IPython.core.display.HTML object>"
      ]
     },
     "execution_count": 1,
     "metadata": {},
     "output_type": "execute_result"
    }
   ],
   "source": [
    "# Global imports and settings\n",
    "from preamble import *\n",
    "from tensorflow import keras\n",
    "print(\"Using Keras\",keras.__version__)\n",
    "%matplotlib inline\n",
    "plt.rcParams['figure.dpi'] = 300 # Use 300 for PDF, 100 for slides\n",
    "# InteractiveShell.ast_node_interactivity = \"all\"\n",
    "HTML('''<style>html, body{overflow-y: visible !important} .CodeMirror{min-width:105% !important;} .rise-enabled .CodeMirror, .rise-enabled .output_subarea{font-size:140%; line-height:1.2; overflow: visible;} .output_subarea pre{width:110%}</style>''') # For slides"
   ]
  },
  {
   "cell_type": "markdown",
   "metadata": {
    "slideshow": {
     "slide_type": "slide"
    }
   },
   "source": [
    "## 3 examples\n",
    "* Binary classification (of movie reviews)\n",
    "* Multiclass classification (of news topics)\n",
    "* Regression (of house prices)\n",
    "\n",
    "We'll use the Keras API, integrated in TensorFlow 2.  \n",
    "Examples from _Deep Learning with Python_, by _François Chollet_"
   ]
  },
  {
   "cell_type": "markdown",
   "metadata": {
    "slideshow": {
     "slide_type": "slide"
    }
   },
   "source": [
    "### Binary classification\n",
    "* Dataset: 50,000 IMDB reviews, labeled positive (1) or negative (0)\n",
    "    - Included in Keras, with a 50/50 train-test split\n",
    "* Each row is one review, with only the 10,000 most frequent words retained\n",
    "* Each word is replaced by a _word index_ (word ID)\n",
    "* Hence, this data is already preprocessed. If you want to start from raw text data, you need to [Tokenize](https://keras.io/preprocessing/text/#tokenizer) the text first."
   ]
  },
  {
   "cell_type": "code",
   "execution_count": 2,
   "metadata": {
    "hide_input": true
   },
   "outputs": [
    {
     "name": "stdout",
     "output_type": "stream",
     "text": [
      "Encoded review:  [1, 14, 22, 16, 43, 530, 973, 1622, 1385, 65]\n",
      "Original review:  ? this film was just brilliant casting location scenery story\n"
     ]
    }
   ],
   "source": [
    "from tensorflow.keras.datasets import imdb\n",
    "# Download IMDB data with 10000 most frequent words\n",
    "(train_data, train_labels), (test_data, test_labels) = imdb.load_data(num_words=10000)\n",
    "print(\"Encoded review: \", train_data[0][0:10])\n",
    "\n",
    "word_index = imdb.get_word_index()\n",
    "reverse_word_index = dict([(value, key) for (key, value) in word_index.items()])\n",
    "print(\"Original review: \", ' '.join([reverse_word_index.get(i - 3, '?') for i in train_data[0]][0:10]))"
   ]
  },
  {
   "cell_type": "markdown",
   "metadata": {},
   "source": [
    "The data is encoded as sequences of word IDs, so we need to properly encode them first.\n",
    "We could use a word embedding (see later), or [TF-IDF](https://en.wikipedia.org/wiki/Tf%E2%80%93idf), but for now we will just one-hot-encode them. For instance, if the text contains word '14', the 14th feature should be '1'. The following is a helper function for doing this. We also need to convert the target label to floats, since they need to be compared with the numerical outputs of the neural net."
   ]
  },
  {
   "cell_type": "code",
   "execution_count": 3,
   "metadata": {
    "hide_input": true,
    "slideshow": {
     "slide_type": "-"
    }
   },
   "outputs": [
    {
     "name": "stdout",
     "output_type": "stream",
     "text": [
      "Encoded review:  [1, 14, 22, 16, 43, 530, 973, 1622, 1385, 65]\n",
      "One-hot-encoded review:  [0. 1. 1. 0. 1. 1. 1. 1. 1. 1.]\n",
      "Label for the first review:  1.0\n"
     ]
    }
   ],
   "source": [
    "# Custom implementation of one-hot-encoding\n",
    "def vectorize_sequences(sequences, dimension=10000):\n",
    "    results = np.zeros((len(sequences), dimension))\n",
    "    for i, sequence in enumerate(sequences):\n",
    "        results[i, sequence] = 1.  # set specific indices of results[i] to 1s\n",
    "    return results\n",
    "x_train = vectorize_sequences(train_data)\n",
    "x_test = vectorize_sequences(test_data)\n",
    "print(\"Encoded review: \", train_data[0][0:10])\n",
    "print(\"One-hot-encoded review: \", x_train[0][0:10])\n",
    "\n",
    "# Convert 0/1 labels to float\n",
    "y_train = np.asarray(train_labels).astype('float32')\n",
    "y_test = np.asarray(test_labels).astype('float32')\n",
    "\n",
    "print(\"Label for the first review: \", y_train[0])"
   ]
  },
  {
   "cell_type": "markdown",
   "metadata": {
    "slideshow": {
     "slide_type": "slide"
    }
   },
   "source": [
    "#### Building the network\n",
    "* We can solve this problem using a network of _Dense_ layers and the _ReLU_ activation function.\n",
    "* For now, we start with 2 layers of 16 hidden units each\n",
    "* Output layer: since this is a binary classification problem, we will use a single unit with _sigmoid_ activation function\n",
    "    - Close to 1: positive review, close to 0: negative review\n",
    "* The loss function should be binary cross-entropy."
   ]
  },
  {
   "cell_type": "code",
   "execution_count": 4,
   "metadata": {
    "slideshow": {
     "slide_type": "slide"
    }
   },
   "outputs": [],
   "source": [
    "from tensorflow.keras import models\n",
    "from tensorflow.keras import layers \n",
    "\n",
    "model = models.Sequential()\n",
    "model.add(layers.Dense(16, activation='relu', input_shape=(10000,)))\n",
    "model.add(layers.Dense(16, activation='relu'))\n",
    "model.add(layers.Dense(1, activation='sigmoid'))\n",
    "\n",
    "model.compile(optimizer='rmsprop',\n",
    "              loss='binary_crossentropy',\n",
    "              metrics=['accuracy'])"
   ]
  },
  {
   "cell_type": "markdown",
   "metadata": {
    "slideshow": {
     "slide_type": "slide"
    }
   },
   "source": [
    "Note: for more control, you can explictly create the optimizer, loss, and metrics. \n",
    "You can also change hyperparameters such as the SGD learning rate.\n",
    "\n",
    "``` python\n",
    "from tensorflow.keras import optimizers\n",
    "from tensorflow.keras import losses\n",
    "from tensorflow.keras import metrics\n",
    "model.compile(optimizer=optimizers.RMSprop(lr=0.001),\n",
    "              loss=losses.binary_crossentropy,\n",
    "              metrics=[metrics.binary_accuracy])\n",
    "```"
   ]
  },
  {
   "cell_type": "markdown",
   "metadata": {
    "slideshow": {
     "slide_type": "slide"
    }
   },
   "source": [
    "#### Model selection\n",
    "* To tune the hyperparameters, split the training data into a training and validation set.\n",
    "* Train the neural net and track the loss after every iteration on the validation set\n",
    "    - This is returned as a `History` object by the `fit()` function \n",
    "    - The `History` object contains the loss, accuracy, validation loss, and validation accuracy for every epoch.\n",
    "* We start with 20 epochs in minibatches of 512 samples"
   ]
  },
  {
   "cell_type": "code",
   "execution_count": 5,
   "metadata": {
    "slideshow": {
     "slide_type": "skip"
    }
   },
   "outputs": [
    {
     "name": "stdout",
     "output_type": "stream",
     "text": [
      "Train on 15000 samples, validate on 10000 samples\n",
      "Epoch 1/20\n",
      "15000/15000 [==============================] - 7s 481us/sample - loss: 0.5434 - accuracy: 0.7625 - val_loss: 0.4202 - val_accuracy: 0.8604\n",
      "Epoch 2/20\n",
      "15000/15000 [==============================] - 2s 146us/sample - loss: 0.3341 - accuracy: 0.8971 - val_loss: 0.3295 - val_accuracy: 0.8774\n",
      "Epoch 3/20\n",
      "15000/15000 [==============================] - 3s 195us/sample - loss: 0.2390 - accuracy: 0.9279 - val_loss: 0.2854 - val_accuracy: 0.8894\n",
      "Epoch 4/20\n",
      "15000/15000 [==============================] - 2s 115us/sample - loss: 0.1860 - accuracy: 0.9448 - val_loss: 0.2759 - val_accuracy: 0.8885\n",
      "Epoch 5/20\n",
      "15000/15000 [==============================] - 2s 119us/sample - loss: 0.1530 - accuracy: 0.9541 - val_loss: 0.2784 - val_accuracy: 0.8881\n",
      "Epoch 6/20\n",
      "15000/15000 [==============================] - 2s 109us/sample - loss: 0.1227 - accuracy: 0.9644 - val_loss: 0.3040 - val_accuracy: 0.8812\n",
      "Epoch 7/20\n",
      "15000/15000 [==============================] - 2s 134us/sample - loss: 0.1003 - accuracy: 0.9731 - val_loss: 0.3037 - val_accuracy: 0.8850\n",
      "Epoch 8/20\n",
      "15000/15000 [==============================] - 1s 91us/sample - loss: 0.0860 - accuracy: 0.9775 - val_loss: 0.3242 - val_accuracy: 0.8817\n",
      "Epoch 9/20\n",
      "15000/15000 [==============================] - 1s 73us/sample - loss: 0.0676 - accuracy: 0.9837 - val_loss: 0.3546 - val_accuracy: 0.8782\n",
      "Epoch 10/20\n",
      "15000/15000 [==============================] - 2s 110us/sample - loss: 0.0544 - accuracy: 0.9883 - val_loss: 0.3735 - val_accuracy: 0.8770\n",
      "Epoch 11/20\n",
      "15000/15000 [==============================] - 1s 91us/sample - loss: 0.0461 - accuracy: 0.9889 - val_loss: 0.3901 - val_accuracy: 0.8776\n",
      "Epoch 12/20\n",
      "15000/15000 [==============================] - 1s 96us/sample - loss: 0.0357 - accuracy: 0.9932 - val_loss: 0.4284 - val_accuracy: 0.8751\n",
      "Epoch 13/20\n",
      "15000/15000 [==============================] - 1s 80us/sample - loss: 0.0286 - accuracy: 0.9942 - val_loss: 0.4490 - val_accuracy: 0.8735\n",
      "Epoch 14/20\n",
      "15000/15000 [==============================] - 1s 66us/sample - loss: 0.0210 - accuracy: 0.9961 - val_loss: 0.4791 - val_accuracy: 0.8732\n",
      "Epoch 15/20\n",
      "15000/15000 [==============================] - 1s 62us/sample - loss: 0.0161 - accuracy: 0.9979 - val_loss: 0.5120 - val_accuracy: 0.8728\n",
      "Epoch 16/20\n",
      "15000/15000 [==============================] - 1s 78us/sample - loss: 0.0126 - accuracy: 0.9984 - val_loss: 0.5463 - val_accuracy: 0.8711\n",
      "Epoch 17/20\n",
      "15000/15000 [==============================] - 1s 75us/sample - loss: 0.0091 - accuracy: 0.9993 - val_loss: 0.6043 - val_accuracy: 0.8675\n",
      "Epoch 18/20\n",
      "15000/15000 [==============================] - 1s 68us/sample - loss: 0.0094 - accuracy: 0.9982 - val_loss: 0.6144 - val_accuracy: 0.8688\n",
      "Epoch 19/20\n",
      "15000/15000 [==============================] - 1s 68us/sample - loss: 0.0039 - accuracy: 0.9998 - val_loss: 0.6456 - val_accuracy: 0.8676\n",
      "Epoch 20/20\n",
      "15000/15000 [==============================] - 1s 75us/sample - loss: 0.0064 - accuracy: 0.9989 - val_loss: 0.6774 - val_accuracy: 0.8685\n"
     ]
    }
   ],
   "source": [
    "x_val, partial_x_train = x_train[:10000], x_train[10000:]\n",
    "y_val, partial_y_train = y_train[:10000], y_train[10000:] \n",
    "history = model.fit(partial_x_train, partial_y_train,\n",
    "                    epochs=20, batch_size=512, verbose=1,\n",
    "                    validation_data=(x_val, y_val))"
   ]
  },
  {
   "cell_type": "markdown",
   "metadata": {
    "slideshow": {
     "slide_type": "slide"
    }
   },
   "source": [
    "We can now visualize the learning curves\n",
    "* The training loss keeps decreasing, due to gradient descent\n",
    "* The validation loss peaks after a few epochs, after which the model starts to overfit"
   ]
  },
  {
   "cell_type": "code",
   "execution_count": 6,
   "metadata": {
    "slideshow": {
     "slide_type": "skip"
    }
   },
   "outputs": [
    {
     "data": {
      "image/png": "[encoded data removed]",
      "text/plain": [
       "<Figure size 432x288 with 1 Axes>"
      ]
     },
     "metadata": {
      "needs_background": "light"
     },
     "output_type": "display_data"
    }
   ],
   "source": [
    "# Using pandas' built-in plotting of series\n",
    "pd.DataFrame(history.history).plot(lw=2);"
   ]
  },
  {
   "cell_type": "markdown",
   "metadata": {
    "slideshow": {
     "slide_type": "slide"
    }
   },
   "source": [
    "#### Predictions\n",
    "Out of curiosity, let's look at a few predictions:"
   ]
  },
  {
   "cell_type": "code",
   "execution_count": 7,
   "metadata": {},
   "outputs": [
    {
     "name": "stdout",
     "output_type": "stream",
     "text": [
      "Review 0:  ? please give this one a miss br br ? ? and the rest of the cast rendered terrible performances the show is flat flat flat br br i don't know how michael madison could have allowed this one on his plate he almost seemed to know this wasn't going to work out and his performance was quite ? so all you madison fans give this a miss\n",
      "Predicted positiveness:  [0.004]\n",
      "\n",
      "Review 16:  ? from 1996 first i watched this movie i feel never reach the end of my satisfaction i feel that i want to watch more and more until now my god i don't believe it was ten years ago and i can believe that i almost remember every word of the dialogues i love this movie and i love this novel absolutely perfection i love willem ? he has a strange voice to spell the words black night and i always say it for many times never being bored i love the music of it's so much made me come into another world deep in my heart anyone can feel what i feel and anyone could make the movie like this i don't believe so thanks thanks\n",
      "Predicted positiveness:  [0.908]\n"
     ]
    }
   ],
   "source": [
    "predictions = model.predict(x_test)\n",
    "print(\"Review 0: \", ' '.join([reverse_word_index.get(i - 3, '?') for i in test_data[0]]))\n",
    "print(\"Predicted positiveness: \", predictions[0])\n",
    "print(\"\\nReview 16: \", ' '.join([reverse_word_index.get(i - 3, '?') for i in test_data[16]]))\n",
    "print(\"Predicted positiveness: \", predictions[16])"
   ]
  },
  {
   "cell_type": "markdown",
   "metadata": {
    "slideshow": {
     "slide_type": "slide"
    }
   },
   "source": [
    "### Using Keras models with the scikit-learn API\n",
    "* Model selection can be tedious with the Keras API\n",
    "* We can wrap a Keras model as a scikit-learn estimator and use the scikit-learn API instead\n",
    "* For instance, we can now use a grid search to tune the number of epochs and the size of the hidden laayers.\n",
    "* Note that we need a helper function `make_model` to pass some of the hyperparameters to the Keras model "
   ]
  },
  {
   "cell_type": "code",
   "execution_count": 8,
   "metadata": {
    "slideshow": {
     "slide_type": "slide"
    }
   },
   "outputs": [
    {
     "data": {
      "text/plain": [
       "GridSearchCV(cv=3, error_score=nan,\n",
       "             estimator=<tensorflow.python.keras.wrappers.scikit_learn.KerasClassifier object at 0x13cc842b0>,\n",
       "             iid='deprecated', n_jobs=None,\n",
       "             param_grid={'epochs': [1, 5, 10], 'hidden_size': [8, 16, 32],\n",
       "                         'verbose': [0]},\n",
       "             pre_dispatch='2*n_jobs', refit=True, return_train_score=True,\n",
       "             scoring=None, verbose=0)"
      ]
     },
     "execution_count": 8,
     "metadata": {},
     "output_type": "execute_result"
    }
   ],
   "source": [
    "from tensorflow.keras.wrappers.scikit_learn import KerasClassifier, KerasRegressor\n",
    "from sklearn.model_selection import GridSearchCV\n",
    "\n",
    "def make_model(optimizer=\"adam\", hidden_size=32):\n",
    "    model = models.Sequential()\n",
    "    model.add(layers.Dense(hidden_size, activation='relu', input_shape=(10000,)))\n",
    "    model.add(layers.Dense(hidden_size, activation='relu'))\n",
    "    model.add(layers.Dense(1, activation='sigmoid'))\n",
    "\n",
    "    model.compile(optimizer='rmsprop',\n",
    "                  loss='binary_crossentropy',\n",
    "                  metrics=['accuracy'])\n",
    "    return model\n",
    "\n",
    "clf = KerasClassifier(make_model)\n",
    "param_grid = {'epochs': [1, 5, 10],  # epochs is fit parameter, not in make_model!\n",
    "              'hidden_size': [8, 16, 32],\n",
    "              'verbose' : [0]}\n",
    "grid = GridSearchCV(clf, param_grid=param_grid, cv=3, return_train_score=True)\n",
    "grid.fit(x_train, y_train)"
   ]
  },
  {
   "cell_type": "markdown",
   "metadata": {
    "slideshow": {
     "slide_type": "slide"
    }
   },
   "source": [
    "Grid search results"
   ]
  },
  {
   "cell_type": "code",
   "execution_count": 9,
   "metadata": {
    "slideshow": {
     "slide_type": "-"
    }
   },
   "outputs": [
    {
     "data": {
      "text/html": [
       "<div>\n",
       "<style scoped>\n",
       "    .dataframe tbody tr th:only-of-type {\n",
       "        vertical-align: middle;\n",
       "    }\n",
       "\n",
       "    .dataframe tbody tr th {\n",
       "        vertical-align: top;\n",
       "    }\n",
       "\n",
       "    .dataframe thead th {\n",
       "        text-align: right;\n",
       "    }\n",
       "</style>\n",
       "<table border=\"1\" class=\"dataframe\">\n",
       "  <thead>\n",
       "    <tr style=\"text-align: right;\">\n",
       "      <th></th>\n",
       "      <th></th>\n",
       "      <th>mean_test_score</th>\n",
       "      <th>mean_train_score</th>\n",
       "    </tr>\n",
       "    <tr>\n",
       "      <th>param_epochs</th>\n",
       "      <th>param_hidden_size</th>\n",
       "      <th></th>\n",
       "      <th></th>\n",
       "    </tr>\n",
       "  </thead>\n",
       "  <tbody>\n",
       "    <tr>\n",
       "      <th rowspan=\"3\" valign=\"top\">1</th>\n",
       "      <th>8</th>\n",
       "      <td>0.89</td>\n",
       "      <td>0.93</td>\n",
       "    </tr>\n",
       "    <tr>\n",
       "      <th>16</th>\n",
       "      <td>0.88</td>\n",
       "      <td>0.93</td>\n",
       "    </tr>\n",
       "    <tr>\n",
       "      <th>32</th>\n",
       "      <td>0.89</td>\n",
       "      <td>0.94</td>\n",
       "    </tr>\n",
       "    <tr>\n",
       "      <th rowspan=\"3\" valign=\"top\">5</th>\n",
       "      <th>8</th>\n",
       "      <td>0.88</td>\n",
       "      <td>0.97</td>\n",
       "    </tr>\n",
       "    <tr>\n",
       "      <th>16</th>\n",
       "      <td>0.88</td>\n",
       "      <td>0.97</td>\n",
       "    </tr>\n",
       "    <tr>\n",
       "      <th>32</th>\n",
       "      <td>0.88</td>\n",
       "      <td>0.98</td>\n",
       "    </tr>\n",
       "    <tr>\n",
       "      <th rowspan=\"3\" valign=\"top\">10</th>\n",
       "      <th>8</th>\n",
       "      <td>0.87</td>\n",
       "      <td>0.98</td>\n",
       "    </tr>\n",
       "    <tr>\n",
       "      <th>16</th>\n",
       "      <td>0.87</td>\n",
       "      <td>0.99</td>\n",
       "    </tr>\n",
       "    <tr>\n",
       "      <th>32</th>\n",
       "      <td>0.87</td>\n",
       "      <td>1.00</td>\n",
       "    </tr>\n",
       "  </tbody>\n",
       "</table>\n",
       "</div>"
      ],
      "text/plain": [
       "                                mean_test_score  mean_train_score\n",
       "param_epochs param_hidden_size                                   \n",
       "1            8                             0.89              0.93\n",
       "             16                            0.88              0.93\n",
       "             32                            0.89              0.94\n",
       "5            8                             0.88              0.97\n",
       "             16                            0.88              0.97\n",
       "             32                            0.88              0.98\n",
       "10           8                             0.87              0.98\n",
       "             16                            0.87              0.99\n",
       "             32                            0.87              1.00"
      ]
     },
     "execution_count": 9,
     "metadata": {},
     "output_type": "execute_result"
    }
   ],
   "source": [
    "res = pd.DataFrame(grid.cv_results_)\n",
    "res.pivot_table(index=[\"param_epochs\", \"param_hidden_size\"],\n",
    "                values=['mean_train_score', \"mean_test_score\"])"
   ]
  },
  {
   "cell_type": "markdown",
   "metadata": {
    "slideshow": {
     "slide_type": "slide"
    }
   },
   "source": [
    "### Multi-class classification (topic classification)\n",
    "* Dataset: 11,000 news stories, 46 topics\n",
    "    - Included in Keras, with a 50/50 train-test split\n",
    "* Each row is one news story, with only the 10,000 most frequent words retained\n",
    "* Again, each word is replaced by a _word index_ (word ID)"
   ]
  },
  {
   "cell_type": "code",
   "execution_count": 10,
   "metadata": {
    "hide_input": true
   },
   "outputs": [
    {
     "name": "stdout",
     "output_type": "stream",
     "text": [
      "News wire:  ? ? ? said as a result of its december acquisition of space co it expects earnings per share in 1987 of 1 15 to 1 30 dlrs per share up from 70 cts in 1986 the company said pretax net should rise to nine to 10 mln dlrs from six mln dlrs in 1986 and rental operation revenues to 19 to 22 mln dlrs from 12 5 mln dlrs it said cash flow per share this year should be 2 50 to three dlrs reuter 3\n",
      "Encoded:  [1, 2, 2, 8, 43, 10, 447, 5, 25, 207, 270, 5, 3095, 111, 16, 369, 186, 90, 67, 7]\n",
      "Topic:  3\n"
     ]
    }
   ],
   "source": [
    "from tensorflow.keras.datasets import reuters\n",
    "\n",
    "(train_data, train_labels), (test_data, test_labels) = reuters.load_data(num_words=10000)\n",
    "\n",
    "word_index = reuters.get_word_index()\n",
    "reverse_word_index = dict([(value, key) for (key, value) in word_index.items()])\n",
    "# Note that our indices were offset by 3\n",
    "# because 0, 1 and 2 are reserved indices for \"padding\", \"start of sequence\", and \"unknown\".\n",
    "decoded_newswire = ' '.join([reverse_word_index.get(i - 3, '?') for i in train_data[0]])\n",
    "print(\"News wire: \",decoded_newswire)\n",
    "print(\"Encoded: \", train_data[0][0:20])\n",
    "print(\"Topic: \",train_labels[0])"
   ]
  },
  {
   "cell_type": "markdown",
   "metadata": {
    "slideshow": {
     "slide_type": "slide"
    }
   },
   "source": [
    "#### Preparing the data\n",
    "* As in the previous example, we need to vectorize the data (e.g. using one-hot-encoding)\n",
    "* Since we now have 46 classes, we need to vectorize the labels as well\n",
    "    - We can use one-hot-encoding with Keras' `to_categorical` utility\n",
    "    - This yields a vector of 46 floats (0/1) for every sample"
   ]
  },
  {
   "cell_type": "code",
   "execution_count": 11,
   "metadata": {
    "slideshow": {
     "slide_type": "skip"
    }
   },
   "outputs": [],
   "source": [
    "from tensorflow.keras.utils import to_categorical\n",
    "x_train = vectorize_sequences(train_data)\n",
    "x_test = vectorize_sequences(test_data)\n",
    "one_hot_train_labels = to_categorical(train_labels)\n",
    "one_hot_test_labels = to_categorical(test_labels)"
   ]
  },
  {
   "cell_type": "markdown",
   "metadata": {},
   "source": [
    "### Building the model\n",
    "* This time we use 64 hidden units because we have many more classes to learn. \n",
    "* In the final layer we can still use the softmax activation function.\n",
    "* The loss function is now `categorical_crossentropy`"
   ]
  },
  {
   "cell_type": "code",
   "execution_count": 12,
   "metadata": {
    "slideshow": {
     "slide_type": "skip"
    }
   },
   "outputs": [],
   "source": [
    "model = models.Sequential()\n",
    "model.add(layers.Dense(64, activation='relu', input_shape=(10000,)))\n",
    "model.add(layers.Dense(64, activation='relu'))\n",
    "model.add(layers.Dense(46, activation='softmax'))\n",
    "model.compile(optimizer='rmsprop',\n",
    "              loss='categorical_crossentropy',\n",
    "              metrics=['accuracy'])"
   ]
  },
  {
   "cell_type": "markdown",
   "metadata": {
    "slideshow": {
     "slide_type": "slide"
    }
   },
   "source": [
    "#### Training and tuning\n",
    "* We again take a validation set from the training set\n",
    "* We fit the model with 20 epochs\n",
    "* Plot the learning curves"
   ]
  },
  {
   "cell_type": "code",
   "execution_count": 13,
   "metadata": {},
   "outputs": [],
   "source": [
    "x_val, partial_x_train = x_train[:1000], x_train[1000:]\n",
    "y_val, partial_y_train = one_hot_train_labels[:1000], one_hot_train_labels[1000:]"
   ]
  },
  {
   "cell_type": "code",
   "execution_count": 14,
   "metadata": {},
   "outputs": [
    {
     "name": "stdout",
     "output_type": "stream",
     "text": [
      "Train on 7982 samples, validate on 1000 samples\n",
      "Epoch 1/20\n",
      "7982/7982 [==============================] - 2s 305us/sample - loss: 2.6350 - accuracy: 0.5214 - val_loss: 1.7469 - val_accuracy: 0.6380\n",
      "Epoch 2/20\n",
      "7982/7982 [==============================] - 1s 139us/sample - loss: 1.4123 - accuracy: 0.7036 - val_loss: 1.3280 - val_accuracy: 0.7150\n",
      "Epoch 3/20\n",
      "7982/7982 [==============================] - 1s 88us/sample - loss: 1.0558 - accuracy: 0.7761 - val_loss: 1.1527 - val_accuracy: 0.7480\n",
      "Epoch 4/20\n",
      "7982/7982 [==============================] - 1s 80us/sample - loss: 0.8308 - accuracy: 0.8218 - val_loss: 1.0561 - val_accuracy: 0.7750\n",
      "Epoch 5/20\n",
      "7982/7982 [==============================] - 1s 80us/sample - loss: 0.6630 - accuracy: 0.8629 - val_loss: 0.9835 - val_accuracy: 0.8010\n",
      "Epoch 6/20\n",
      "7982/7982 [==============================] - 1s 75us/sample - loss: 0.5346 - accuracy: 0.8890 - val_loss: 0.9564 - val_accuracy: 0.8020\n",
      "Epoch 7/20\n",
      "7982/7982 [==============================] - 1s 77us/sample - loss: 0.4308 - accuracy: 0.9107 - val_loss: 0.9588 - val_accuracy: 0.8080\n",
      "Epoch 8/20\n",
      "7982/7982 [==============================] - 1s 79us/sample - loss: 0.3513 - accuracy: 0.9242 - val_loss: 0.9556 - val_accuracy: 0.7990\n",
      "Epoch 9/20\n",
      "7982/7982 [==============================] - 1s 99us/sample - loss: 0.2905 - accuracy: 0.9342 - val_loss: 0.9116 - val_accuracy: 0.8160\n",
      "Epoch 10/20\n",
      "7982/7982 [==============================] - 1s 83us/sample - loss: 0.2418 - accuracy: 0.9439 - val_loss: 1.0095 - val_accuracy: 0.7980\n",
      "Epoch 11/20\n",
      "7982/7982 [==============================] - 1s 93us/sample - loss: 0.2132 - accuracy: 0.9479 - val_loss: 0.9410 - val_accuracy: 0.8110\n",
      "Epoch 12/20\n",
      "7982/7982 [==============================] - 1s 103us/sample - loss: 0.1851 - accuracy: 0.9498 - val_loss: 0.9434 - val_accuracy: 0.8120\n",
      "Epoch 13/20\n",
      "7982/7982 [==============================] - 1s 141us/sample - loss: 0.1667 - accuracy: 0.9543 - val_loss: 0.9653 - val_accuracy: 0.8110\n",
      "Epoch 14/20\n",
      "7982/7982 [==============================] - 1s 100us/sample - loss: 0.1506 - accuracy: 0.9549 - val_loss: 1.0249 - val_accuracy: 0.8040\n",
      "Epoch 15/20\n",
      "7982/7982 [==============================] - 1s 76us/sample - loss: 0.1413 - accuracy: 0.9549 - val_loss: 1.0129 - val_accuracy: 0.8050\n",
      "Epoch 16/20\n",
      "7982/7982 [==============================] - 1s 77us/sample - loss: 0.1306 - accuracy: 0.9557 - val_loss: 1.1290 - val_accuracy: 0.7920\n",
      "Epoch 17/20\n",
      "7982/7982 [==============================] - 1s 81us/sample - loss: 0.1262 - accuracy: 0.9550 - val_loss: 1.0361 - val_accuracy: 0.8050\n",
      "Epoch 18/20\n",
      "7982/7982 [==============================] - 1s 103us/sample - loss: 0.1179 - accuracy: 0.9582 - val_loss: 1.0690 - val_accuracy: 0.8010\n",
      "Epoch 19/20\n",
      "7982/7982 [==============================] - 1s 86us/sample - loss: 0.1158 - accuracy: 0.9585 - val_loss: 1.0963 - val_accuracy: 0.8030\n",
      "Epoch 20/20\n",
      "7982/7982 [==============================] - 1s 83us/sample - loss: 0.1100 - accuracy: 0.9587 - val_loss: 1.1229 - val_accuracy: 0.8040\n"
     ]
    }
   ],
   "source": [
    "history2 = model.fit(partial_x_train,\n",
    "                    partial_y_train,\n",
    "                    epochs=20, verbose=1,\n",
    "                    batch_size=512,\n",
    "                    validation_data=(x_val, y_val))"
   ]
  },
  {
   "cell_type": "code",
   "execution_count": 15,
   "metadata": {},
   "outputs": [
    {
     "data": {
      "image/png": "[encoded data removed]",
      "text/plain": [
       "<Figure size 432x288 with 1 Axes>"
      ]
     },
     "metadata": {
      "needs_background": "light"
     },
     "output_type": "display_data"
    }
   ],
   "source": [
    "pd.DataFrame(history2.history).plot(lw=2);"
   ]
  },
  {
   "cell_type": "code",
   "execution_count": 16,
   "metadata": {},
   "outputs": [
    {
     "name": "stdout",
     "output_type": "stream",
     "text": [
      "2246/2246 [==============================] - 0s 78us/sample - loss: 1.3884 - accuracy: 0.7720\n",
      "Loss: 1.3884, Accuracy: 0.7720\n"
     ]
    }
   ],
   "source": [
    "model.fit(partial_x_train, partial_y_train, epochs=8, batch_size=512, verbose=0)\n",
    "result = model.evaluate(x_test, one_hot_test_labels)\n",
    "print(\"Loss: {:.4f}, Accuracy: {:.4f}\".format(*result))"
   ]
  },
  {
   "cell_type": "markdown",
   "metadata": {
    "slideshow": {
     "slide_type": "slide"
    }
   },
   "source": [
    "### Regression\n",
    "* Dataset: 506 examples of houses and sale prices (Boston)\n",
    "    - Included in Keras, with a 1/5 train-test split\n",
    "* Each row is one house price, described by numeric properties of the house and neighborhood\n",
    "* Small dataset, non-normalized features"
   ]
  },
  {
   "cell_type": "code",
   "execution_count": 17,
   "metadata": {},
   "outputs": [],
   "source": [
    "from tensorflow.keras.datasets import boston_housing\n",
    "\n",
    "(train_data, train_targets), (test_data, test_targets) =  boston_housing.load_data()"
   ]
  },
  {
   "cell_type": "markdown",
   "metadata": {
    "slideshow": {
     "slide_type": "slide"
    }
   },
   "source": [
    "#### Building the network\n",
    "* This is a small dataset, so easy to overfit\n",
    "    * We use 2 hidden layers of 64 units each\n",
    "* Use smaller batches, more epochs\n",
    "* Since we want scalar output, the output layer is one unit without activation\n",
    "* Loss function is Mean Squared Error (bigger penalty)\n",
    "* Evaluation metric is Mean Absolute Error (more interpretable)"
   ]
  },
  {
   "cell_type": "code",
   "execution_count": 18,
   "metadata": {
    "slideshow": {
     "slide_type": "skip"
    }
   },
   "outputs": [],
   "source": [
    "def build_model():\n",
    "    model = models.Sequential()\n",
    "    model.add(layers.Dense(64, activation='relu',\n",
    "                           input_shape=(train_data.shape[1],)))\n",
    "    model.add(layers.Dense(64, activation='relu'))\n",
    "    model.add(layers.Dense(1))\n",
    "    model.compile(optimizer='rmsprop', loss='mse', metrics=['mae'])\n",
    "    return model"
   ]
  },
  {
   "cell_type": "markdown",
   "metadata": {
    "slideshow": {
     "slide_type": "slide"
    }
   },
   "source": [
    "#### Preprocessing\n",
    "* Neural nets work a lot better if we standardize the features first. \n",
    "* Keras has no built-in support so we have to do this ourselves\n",
    "    - We can use scikit-learn preprocessors and build a pipeline with KerasClassifier"
   ]
  },
  {
   "cell_type": "code",
   "execution_count": 19,
   "metadata": {},
   "outputs": [],
   "source": [
    "from sklearn.pipeline import Pipeline\n",
    "from sklearn.preprocessing import StandardScaler\n",
    "\n",
    "estimators = []\n",
    "estimators.append(('standardise', StandardScaler()))\n",
    "estimators.append(('keras', KerasRegressor(build_fn=build_model)))\n",
    "pipeline = Pipeline(estimators)"
   ]
  },
  {
   "cell_type": "markdown",
   "metadata": {
    "slideshow": {
     "slide_type": "slide"
    }
   },
   "source": [
    "* Evaluate the Keras pipeline with cross-validation"
   ]
  },
  {
   "cell_type": "code",
   "execution_count": 20,
   "metadata": {
    "slideshow": {
     "slide_type": "skip"
    }
   },
   "outputs": [],
   "source": [
    "from sklearn.model_selection import cross_validate\n",
    "clf = KerasClassifier(build_model)\n",
    "X = np.concatenate([train_data,test_data],axis=0)\n",
    "y = np.concatenate([train_targets,test_targets],axis=0)\n",
    "scores = cross_validate(pipeline, X, y, cv=3,\n",
    "                        scoring=('neg_mean_squared_error'),\n",
    "                        return_train_score=True,\n",
    "                        fit_params={'keras__epochs': 50, 'keras__batch_size':1, 'keras__verbose':0})"
   ]
  },
  {
   "cell_type": "code",
   "execution_count": 21,
   "metadata": {},
   "outputs": [
    {
     "name": "stdout",
     "output_type": "stream",
     "text": [
      "MAE:  12.268424946605272\n"
     ]
    }
   ],
   "source": [
    "print(\"MAE: \", -np.mean(scores['test_score']))"
   ]
  },
  {
   "cell_type": "markdown",
   "metadata": {},
   "source": [
    "## Regularization"
   ]
  },
  {
   "cell_type": "markdown",
   "metadata": {
    "slideshow": {
     "slide_type": "slide"
    }
   },
   "source": [
    "Adding L1/L2 regularization\n",
    "* The input (0.001) is the alpha value"
   ]
  },
  {
   "cell_type": "code",
   "execution_count": 33,
   "metadata": {
    "slideshow": {
     "slide_type": "skip"
    }
   },
   "outputs": [
    {
     "name": "stdout",
     "output_type": "stream",
     "text": [
      "Model: \"sequential_42\"\n",
      "_________________________________________________________________\n",
      "Layer (type)                 Output Shape              Param #   \n",
      "=================================================================\n",
      "dense_115 (Dense)            (None, 16)                160016    \n",
      "_________________________________________________________________\n",
      "dense_116 (Dense)            (None, 16)                272       \n",
      "_________________________________________________________________\n",
      "dense_117 (Dense)            (None, 1)                 17        \n",
      "=================================================================\n",
      "Total params: 160,305\n",
      "Trainable params: 160,305\n",
      "Non-trainable params: 0\n",
      "_________________________________________________________________\n"
     ]
    }
   ],
   "source": [
    "from tensorflow.keras import regularizers\n",
    "\n",
    "l2_model = models.Sequential()\n",
    "l2_model.add(layers.Dense(16, kernel_regularizer=regularizers.l2(0.001),\n",
    "                          activation='relu', input_shape=(10000,)))\n",
    "l2_model.add(layers.Dense(16, kernel_regularizer=regularizers.l2(0.001),\n",
    "                          activation='relu'))\n",
    "l2_model.add(layers.Dense(1, activation='sigmoid'))\n",
    "l2_model.summary()"
   ]
  },
  {
   "cell_type": "markdown",
   "metadata": {
    "slideshow": {
     "slide_type": "slide"
    }
   },
   "source": [
    "Adding dropout\n",
    "* The input (0.5) is the dropout rate"
   ]
  },
  {
   "cell_type": "code",
   "execution_count": 34,
   "metadata": {
    "slideshow": {
     "slide_type": "skip"
    }
   },
   "outputs": [
    {
     "name": "stdout",
     "output_type": "stream",
     "text": [
      "Model: \"sequential_43\"\n",
      "_________________________________________________________________\n",
      "Layer (type)                 Output Shape              Param #   \n",
      "=================================================================\n",
      "dense_118 (Dense)            (None, 16)                160016    \n",
      "_________________________________________________________________\n",
      "dropout_4 (Dropout)          (None, 16)                0         \n",
      "_________________________________________________________________\n",
      "dense_119 (Dense)            (None, 16)                272       \n",
      "_________________________________________________________________\n",
      "dropout_5 (Dropout)          (None, 16)                0         \n",
      "_________________________________________________________________\n",
      "dense_120 (Dense)            (None, 1)                 17        \n",
      "=================================================================\n",
      "Total params: 160,305\n",
      "Trainable params: 160,305\n",
      "Non-trainable params: 0\n",
      "_________________________________________________________________\n"
     ]
    }
   ],
   "source": [
    "dpt_model = models.Sequential()\n",
    "dpt_model.add(layers.Dense(16, activation='relu', input_shape=(10000,)))\n",
    "dpt_model.add(layers.Dropout(0.5))\n",
    "dpt_model.add(layers.Dense(16, activation='relu'))\n",
    "dpt_model.add(layers.Dropout(0.5))\n",
    "dpt_model.add(layers.Dense(1, activation='sigmoid'))\n",
    "dpt_model.summary()"
   ]
  },
  {
   "cell_type": "markdown",
   "metadata": {
    "slideshow": {
     "slide_type": "slide"
    }
   },
   "source": [
    "### Word embeddings in Keras\n",
    "* Uses a pre-trained embedding, obtained using GloVe\n",
    "* See a complete example [here](https://blog.keras.io/using-pre-trained-word-embeddings-in-a-keras-model.html)\n"
   ]
  },
  {
   "cell_type": "code",
   "execution_count": 35,
   "metadata": {},
   "outputs": [
    {
     "name": "stdout",
     "output_type": "stream",
     "text": [
      "Model: \"sequential_44\"\n",
      "_________________________________________________________________\n",
      "Layer (type)                 Output Shape              Param #   \n",
      "=================================================================\n",
      "embedding_3 (Embedding)      (None, 20, 300)           3000000   \n",
      "_________________________________________________________________\n",
      "flatten_2 (Flatten)          (None, 6000)              0         \n",
      "_________________________________________________________________\n",
      "dense_121 (Dense)            (None, 1)                 6001      \n",
      "=================================================================\n",
      "Total params: 3,006,001\n",
      "Trainable params: 3,006,001\n",
      "Non-trainable params: 0\n",
      "_________________________________________________________________\n",
      "None\n"
     ]
    }
   ],
   "source": [
    "from tensorflow.keras.layers import Embedding, Flatten, Dense\n",
    "\n",
    "max_length = 20 # pad documents to a maximum number of words\n",
    "vocab_size = 10000 # vocabulary size\n",
    "embedding_length = 300 # vocabulary size\n",
    "# define the model\n",
    "model = models.Sequential()\n",
    "model.add(Embedding(vocab_size, embedding_length, input_length=max_length))\n",
    "model.add(Flatten())\n",
    "model.add(Dense(1, activation='sigmoid'))\n",
    "# compile the model\n",
    "model.compile(optimizer='rmsprop', loss='binary_crossentropy', metrics=['accuracy'])\n",
    "# summarize the model\n",
    "print(model.summary())"
   ]
  },
  {
   "cell_type": "markdown",
   "metadata": {},
   "source": [
    "### Further reading\n",
    "\n",
    "https://www.tensorflow.org/learn\n",
    "\n",
    "http://playground.tensorflow.org\n",
    "\n",
    "https://www.tensorflow.org/tensorboard"
   ]
  }
 ],
 "metadata": {
  "anaconda-cloud": {},
  "celltoolbar": "Slideshow",
  "kernelspec": {
   "display_name": "Python 3",
   "language": "python",
   "name": "python3"
  },
  "language_info": {
   "codemirror_mode": {
    "name": "ipython",
    "version": 3
   },
   "file_extension": ".py",
   "mimetype": "text/x-python",
   "name": "python",
   "nbconvert_exporter": "python",
   "pygments_lexer": "ipython3",
   "version": "3.7.3"
  }
 },
 "nbformat": 4,
 "nbformat_minor": 4
}
