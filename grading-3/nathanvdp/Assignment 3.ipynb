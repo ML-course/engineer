{
 "cells": [
  {
   "cell_type": "code",
   "execution_count": 3,
   "metadata": {
    "colab": {},
    "colab_type": "code",
    "id": "uPiqHyC_MuLL"
   },
   "outputs": [],
   "source": [
    "# Fill in your name using the format below and student ID number\n",
    "your_name = \"van der Putten, Nathan\"\n",
    "student_id = \"0946008\""
   ]
  },
  {
   "cell_type": "code",
   "execution_count": 34,
   "metadata": {},
   "outputs": [],
   "source": [
    "# Before submission, set this to True so that you can render and verify this notebook without training deep learning models.\n",
    "# Any deep learning models will be trained from file instead.\n",
    "stop_training = True"
   ]
  },
  {
   "cell_type": "code",
   "execution_count": 5,
   "metadata": {
    "colab": {
     "base_uri": "https://localhost:8080/",
     "height": 71
    },
    "colab_type": "code",
    "id": "-rAuraOsM22r",
    "outputId": "af1729f6-a9f4-494f-db04-ef9c03d26008"
   },
   "outputs": [],
   "source": [
    "# Uncomment the following line to run in Google Colab\n",
    "# !pip install --quiet openml "
   ]
  },
  {
   "cell_type": "code",
   "execution_count": 4,
   "metadata": {
    "colab": {
     "base_uri": "https://localhost:8080/",
     "height": 35
    },
    "colab_type": "code",
    "id": "OS-d8ziENCs1",
    "outputId": "0bc61a59-66c6-487c-9f32-2aaa2818469e"
   },
   "outputs": [
    {
     "data": {
      "text/plain": [
       "[PhysicalDevice(name='/physical_device:GPU:0', device_type='GPU')]"
      ]
     },
     "execution_count": 4,
     "metadata": {},
     "output_type": "execute_result"
    }
   ],
   "source": [
    "# Uncomment the following line to run in Google Colab\n",
    "#%tensorflow_version 2.x\n",
    "import tensorflow as tf\n",
    "tf.config.experimental.list_physical_devices('GPU') # Check whether GPUs are available"
   ]
  },
  {
   "cell_type": "code",
   "execution_count": 5,
   "metadata": {
    "colab": {},
    "colab_type": "code",
    "id": "-iTn6RmNMuLT"
   },
   "outputs": [],
   "source": [
    "%matplotlib inline\n",
    "import openml as oml\n",
    "import numpy as np\n",
    "import matplotlib.pyplot as plt\n",
    "import sklearn\n",
    "from tensorflow.keras import models\n",
    "from tensorflow.keras import layers"
   ]
  },
  {
   "cell_type": "code",
   "execution_count": 8,
   "metadata": {},
   "outputs": [
    {
     "data": {
      "text/plain": [
       "'\\nfrom tensorflow.compat.v1 import ConfigProto\\nfrom tensorflow.compat.v1 import InteractiveSession\\n\\n#tf.compat.v1.disable_eager_execution()\\nconfig = ConfigProto()\\nconfig.gpu_options.allow_growth = True\\nsession = InteractiveSession(config=config)\\n'"
      ]
     },
     "execution_count": 8,
     "metadata": {},
     "output_type": "execute_result"
    }
   ],
   "source": [
    "\n",
    "from tensorflow.compat.v1 import ConfigProto\n",
    "from tensorflow.compat.v1 import InteractiveSession\n",
    "\n",
    "#tf.compat.v1.disable_eager_execution()\n",
    "config = ConfigProto()\n",
    "config.gpu_options.allow_growth = True\n",
    "session = InteractiveSession(config=config)\n"
   ]
  },
  {
   "cell_type": "code",
   "execution_count": 7,
   "metadata": {
    "colab": {
     "base_uri": "https://localhost:8080/",
     "height": 35
    },
    "colab_type": "code",
    "id": "brth0Z_TMuLZ",
    "outputId": "d3ad568e-e9a2-4c40-a93c-9160e4ed1e49"
   },
   "outputs": [
    {
     "name": "stdout",
     "output_type": "stream",
     "text": [
      "Hi Nathan, Looks good. You may continue :)\n"
     ]
    }
   ],
   "source": [
    "from packaging import version\n",
    "import sklearn\n",
    "import tensorflow\n",
    "sklearn_version = sklearn.__version__\n",
    "tensorflow_version = tensorflow.__version__\n",
    "if version.parse(sklearn_version) < version.parse(\"0.22.0\"):\n",
    "    print(\"scikit-learn is outdated. Please update now!\")\n",
    "if version.parse(tensorflow_version) < version.parse(\"2.1.0\"):\n",
    "    print(\"Tensorflow is outdated. This is version {}. Please update to 2.1.\".format(tensorflow_version))\n",
    "else:\n",
    "    print(\"Hi{}, Looks good. You may continue :)\".format(your_name.split(\",\")[1]))"
   ]
  },
  {
   "cell_type": "markdown",
   "metadata": {
    "colab_type": "text",
    "id": "7kdeFjIGMuLv"
   },
   "source": [
    "# Assignment 3"
   ]
  },
  {
   "cell_type": "markdown",
   "metadata": {
    "colab_type": "text",
    "id": "ljhP8DXu-H4j"
   },
   "source": [
    "### Choice of libraries\n",
    "We recommend to use Tensorflow in this assignment since that is what we covered in the labs. If you feel confident using PyTorch (and Skorch for the scikit-learn wrapper), that is allowed too, as long as you are able to implement the requested functions and return the requested data. Read the assignment carefully and ensure that you can. Note that you may also need to do a bit more work to implement certain helper functions and wrappers."
   ]
  },
  {
   "cell_type": "markdown",
   "metadata": {
    "colab_type": "text",
    "id": "-BQG9Kp2EcPc"
   },
   "source": [
    "### Storing and submitting files\n",
    "You must be able to store your models and submit them to GitHub Classroom. The evaluation functions used in this notebook will automatically store models for you.\n",
    "\n",
    "If you want to run and solve the notebook on your local machine/laptop, fill in the path 'base_dir' to your assignment folder into the next cell.\n",
    "\n",
    "If you use Colab, we recommend that you link it to your Google Drive:  \n",
    "* Upload the assignment folder to your Google Drive (+ New > Folder Upload)\n",
    "* Open Colab in a browser, open the 'Files' menu in the left sidebar, and click 'Mount Drive'\n",
    "  * At this point you may need to authenticate\n",
    "* Fill in the path to your assignment folder below\n",
    "  * It's likely '/content/drive/My Drive/assignment-3-yourname'"
   ]
  },
  {
   "cell_type": "code",
   "execution_count": 9,
   "metadata": {
    "colab": {},
    "colab_type": "code",
    "id": "aO6jTIIFHQNU"
   },
   "outputs": [],
   "source": [
    "#base_dir = '/content/drive/My Drive/TestAssignment' # For Google Colab\n",
    "base_dir = './'"
   ]
  },
  {
   "cell_type": "code",
   "execution_count": 17,
   "metadata": {
    "colab": {
     "base_uri": "https://localhost:8080/",
     "height": 127
    },
    "colab_type": "code",
    "id": "HKaM3mwrODBR",
    "outputId": "159fb13d-54c8-43ea-8026-5e4998023e16"
   },
   "outputs": [],
   "source": [
    "#Uncomment to link Colab notebook to Google Drive\n",
    "#from google.colab import drive\n",
    "#drive.mount('/content/drive')"
   ]
  },
  {
   "cell_type": "markdown",
   "metadata": {
    "colab_type": "text",
    "id": "D_BDIpWh92Dk"
   },
   "source": [
    "### Using GPUs\n",
    "While you can solve this assignment on a CPU, using a GPU will speed things up training quite a bit. If you have a local GPU, you can use that. If you don't, we recommend Google Colab. When you are in Colab:\n",
    "* In Runtime > Change runtime type, select the GPU under Hardware Accelerator\n",
    "* Run the 3rd cell on the top of this notebook to check that the GPU is found.\n",
    "\n",
    "Note that Colab may not always have GPUs ready all the time, and may deny you a GPU when you have used them a lot. When you are temporarily 'locked out', you can switch to a non-GPU runtime or to a local instance of Jupyter running on your machine."
   ]
  },
  {
   "cell_type": "markdown",
   "metadata": {
    "colab_type": "text",
    "id": "hq6oPNF546_5"
   },
   "source": [
    "### Constraints\n",
    "* Your stored models should not be larger than 100MB when stored in file. GitHub will not allow uploading if they are.\n",
    "* When questions ask you to provide an explanation, it should be less than 500\n",
    "characters long. Some questions have a higher limit. Always answer in full sentences.\n",
    "* Don't train for more than 100 epochs, i.e. don't throw excessing computational resources at the problem. If your model hasn't converged by then, think of ways it could be made to converge faster. In this assignment you are not after the last tiny improvement, you can stop when learning curves flatten out. Do at least 5 epochs to get a reasonable learning curve."
   ]
  },
  {
   "cell_type": "markdown",
   "metadata": {
    "colab_type": "text",
    "id": "h8wBDNspEvcY"
   },
   "source": [
    "### Grading\n",
    "Grading is based on the following aspects:\n",
    "* Correctness in answering the question. Carefully read the question and answer\n",
    "what is asked for. Train your models on the correct data. It should be clear on which data should be trained, but ask when in doubt. When something is not defined (e.g. the number of epochs or batch size), you can freely choose them.\n",
    "* Clarity of your explanations. Write short but precise descriptions of what you did and why. Give short but clear explanations of the observed performance. \n",
    "After your explanation, your approach and model should make perfect sense. Refrain from using symbols as substitute for words in your explanation (e.g. no: \"More layers -> more parameters\" yes: \"More layers mean more parameters\"). \n",
    "* Part of your grade depends on how well your model performs. When the question says 'you should at least get x%', x% will give you a good but not the maximal grade. You can get the full grade when you are close to what is the expected maximal performance. You don't need to invest lots of effort into the last tiny improvement, though. Unless specified, we look at the accuracy on the validation set. If your learning curves are very erratic we'll compute a score based on the smoothed curves (i.e. single peaks don't count).\n",
    "* The weight of each question is indicated. Take this into account when planning your time."
   ]
  },
  {
   "cell_type": "markdown",
   "metadata": {
    "colab_type": "text",
    "id": "KNyA5dEpR00Z"
   },
   "source": [
    "### Other tips\n",
    "* Don't wait until the last minute to do the assignment. The models take time to train, most questions will require some thinking, and some require you to read up on some new concepts.\n",
    "* Take care that you upload the results as requested. You need to submit not only the notebooks but also the trained models and learning curves (training histories). Be sure to run the verification script and check that all the results are included.\n",
    "* We provide an evaluation function that also stored models to disk. After you are done training the model, set the 'train' attribute to False so that the model doesn't train again (and loads from file instead) when you restart and rerun your notebook.\n",
    "* Explore. For many questions we'll ask you to explain your model design decisions. You cannot magically know the best solutions but you can experiment\n",
    "based on your understanding and make decisions based on both your knowledge and experiments. Your explanation is at least as important as the performance of your model.\n",
    "* Be original. We will check for plagiarism between student submissions."
   ]
  },
  {
   "cell_type": "markdown",
   "metadata": {
    "colab_type": "text",
    "id": "k0nKOZrPJTn8"
   },
   "source": [
    "### Data\n",
    "The [Street View House Numbers Dataset](https://www.openml.org/d/41081) contains 32-by-32 RGB images centered around a single digit of a house number appearing in Google Street View. Many of the images do contain some distractors at the sides. It consists of 10 classes, 1 for each digit. Digit '1' has label 1, '9' has label 9 and '0' has label 10. Your goal is to build models that recognize the correct digit."
   ]
  },
  {
   "cell_type": "markdown",
   "metadata": {
    "colab_type": "text",
    "id": "B8sOA7mEKOSp"
   },
   "source": [
    "If you use Colab, uncomment the following to cache the dataset inside the VM. This will make reloading faster if you need to restart your notebook. After longer periods of inactivity, your VM may be recycled and the cache lost, in which case the dataset will be downloaded again. Also note that this dataset is about 1Gb large, and will take even more space in memory. You may need to switch to a high-RAM environment (Colab will ask you if you hit the limit)."
   ]
  },
  {
   "cell_type": "code",
   "execution_count": 18,
   "metadata": {
    "colab": {},
    "colab_type": "code",
    "id": "Wu9s9dnlJMP0"
   },
   "outputs": [],
   "source": [
    "# Use OpenML caching in Colab\n",
    "# On your local machine, it will store data in a hidden folder '~/.openml'\n",
    "#import os\n",
    "#oml.config.cache_directory = os.path.expanduser('/content/cache')"
   ]
  },
  {
   "cell_type": "code",
   "execution_count": 10,
   "metadata": {
    "colab": {},
    "colab_type": "code",
    "id": "_3o_TT8SMuLy"
   },
   "outputs": [],
   "source": [
    "# Download Streetview data. Takes a while (several minutes), and quite a bit of\n",
    "# memory when it needs to download. After caching it loads faster.\n",
    "SVHN = oml.datasets.get_dataset(41081)\n",
    "X, y, _, _ = SVHN.get_data(dataset_format='array',\n",
    "    target=SVHN.default_target_attribute)"
   ]
  },
  {
   "cell_type": "markdown",
   "metadata": {
    "colab_type": "text",
    "id": "EPwHgeC3MuMI"
   },
   "source": [
    "Reshape, sample and split the data"
   ]
  },
  {
   "cell_type": "code",
   "execution_count": 11,
   "metadata": {
    "colab": {},
    "colab_type": "code",
    "id": "3C14250QOGpL"
   },
   "outputs": [],
   "source": [
    "from tensorflow.keras.utils import to_categorical\n",
    "\n",
    "Xr = X.reshape((len(X),32,32,3))\n",
    "Xr = Xr / 255.\n",
    "yr = to_categorical(y)"
   ]
  },
  {
   "cell_type": "code",
   "execution_count": 12,
   "metadata": {
    "colab": {},
    "colab_type": "code",
    "id": "sbxtRoDcMuMK"
   },
   "outputs": [],
   "source": [
    "# DO NOT EDIT. DO NOT OVERWRITE THESE VARIABLES.\n",
    "from sklearn.model_selection import train_test_split\n",
    "# We do an 80-20 split for the training and test set, and then again a 80-20 split into training and validation data\n",
    "X_train_all, X_test, y_train_all, y_test = train_test_split(Xr,yr, stratify=yr, train_size=0.8, test_size=0.2, random_state=1)\n",
    "X_train, X_val, y_train, y_val = train_test_split(X_train_all,y_train_all, stratify=y_train_all, train_size=0.8, random_state=1)\n",
    "evaluation_split = X_train, X_val, y_train, y_val"
   ]
  },
  {
   "cell_type": "markdown",
   "metadata": {
    "colab_type": "text",
    "id": "gUAf28y2O6ks"
   },
   "source": [
    "Check the formatting - and what the data looks like"
   ]
  },
  {
   "cell_type": "code",
   "execution_count": 13,
   "metadata": {
    "colab": {
     "base_uri": "https://localhost:8080/",
     "height": 141
    },
    "colab_type": "code",
    "id": "QEWsr56hMuL8",
    "outputId": "6b3d17a1-bbc8-46ef-f5c6-66e15f01b963"
   },
   "outputs": [
    {
     "data": {
      "image/png": "[encoded data removed]",
      "text/plain": [
       "<Figure size 720x360 with 5 Axes>"
      ]
     },
     "metadata": {},
     "output_type": "display_data"
    }
   ],
   "source": [
    "from random import randint\n",
    "\n",
    "# Takes a list of row ids, and plots the corresponding images\n",
    "# Use grayscale=True for plotting grayscale images\n",
    "def plot_images(X, y, grayscale=False):\n",
    "    fig, axes = plt.subplots(1, len(X),  figsize=(10, 5))\n",
    "    for n in range(len(X)):\n",
    "        if grayscale:\n",
    "            axes[n].imshow(X[n], cmap='gray')\n",
    "        else:\n",
    "            axes[n].imshow(X[n])\n",
    "        axes[n].set_xlabel((np.argmax(y[n])+1)%10) # Label is index+1\n",
    "        axes[n].set_xticks(()), axes[n].set_yticks(())\n",
    "    plt.show();\n",
    "\n",
    "images = [randint(0,len(X_train)) for i in range(5)]\n",
    "X_random = [X_train[i] for i in images]\n",
    "y_random = [y_train[i] for i in images]\n",
    "plot_images(X_random, y_random)"
   ]
  },
  {
   "cell_type": "markdown",
   "metadata": {
    "colab_type": "text",
    "id": "yUQ22FEawd-J"
   },
   "source": [
    "### Evaluation harness\n",
    "We provide an evaluation function 'run_evaluation' that you should use to \n",
    "evaluate all your models. It also stores the trained models to disk so that\n",
    "your submission can be quickly verified, as well as to avoid having to train\n",
    "them over and over again. Your last run of the evaluation function (the last one\n",
    "stored to file), is the one that will be evaluated. The 'train' argument indicates whether to train or to load from disk. We have provided helper functions for saving and loading models to/from file, assuming you use TensorFlow. If you use PyTorch you'll have to adapt them."
   ]
  },
  {
   "cell_type": "code",
   "execution_count": 31,
   "metadata": {
    "colab": {},
    "colab_type": "code",
    "id": "SFGTq4mUV2zK"
   },
   "outputs": [],
   "source": [
    "import os\n",
    "import pickle\n",
    "import pandas as pd\n",
    "import numpy as np\n",
    "from tensorflow.keras.models import load_model # for use with tensorflow\n",
    "from tensorflow.keras.models import model_from_json\n",
    "\n",
    "def shout(text, verbose=1):\n",
    "    \"\"\" Prints text in red. Just for fun.\n",
    "    \"\"\"\n",
    "    if verbose>0:\n",
    "        print('\\033[91m'+text+'\\x1b[0m')\n",
    "\n",
    "def load_model_from_file(base_dir, name, extension='.h5'):\n",
    "  \"\"\" Loads a model from a file. The returned model must have a 'fit' and 'summary'\n",
    "  function following the Keras API. Don't change if you use TensorFlow. Otherwise,\n",
    "  adapt as needed. \n",
    "  Keyword arguments:\n",
    "    base_dir -- Directory where the models are stored\n",
    "    name -- Name of the model, e.g. 'question_1_1'\n",
    "    extension -- the file extension\n",
    "  \"\"\"\n",
    "  try:\n",
    "    # if a json description is available, load config and then weights\n",
    "    if os.path.isfile(os.path.join(base_dir, name+'.json')):\n",
    "      json_file = open(os.path.join(base_dir, name+'.json'), 'r')\n",
    "      loaded_model_json = json_file.read()\n",
    "      json_file.close()\n",
    "      model = model_from_json(loaded_model_json)\n",
    "      model.load_weights(os.path.join(base_dir, name+extension))\n",
    "    # else just load the entire model from hdf5 file\n",
    "    else:\n",
    "      model = load_model(os.path.join(base_dir, name+extension))\n",
    "  except OSError:\n",
    "    shout(\"Saved model could not be found. Was it trained and stored correctly? Is the base_dir correct?\")\n",
    "    return False\n",
    "  return model\n",
    "\n",
    "def save_model_to_file(model, base_dir, name, extension='.h5'):\n",
    "  \"\"\" Saves a model to file. Don't change if you use TensorFlow. Otherwise,\n",
    "  adapt as needed. \n",
    "  Keyword arguments:\n",
    "    model -- the model to be saved\n",
    "    base_dir -- Directory where the models should be stored\n",
    "    name -- Name of the model, e.g. 'question_1_1'\n",
    "    extension -- the file extension\n",
    "  \"\"\"\n",
    "  path = os.path.join(base_dir, name+extension)\n",
    "  model.save(path)\n",
    "  size = os.path.getsize(path)\n",
    "  # If model > 100MB, store the weights and architecture only.\n",
    "  if size > 100*1024*1024:\n",
    "    print(\"Model larger than 100MB, storing weights only.\")\n",
    "    model.save_weights(path)\n",
    "    model_json = model.to_json()\n",
    "    with open(os.path.join(base_dir, name+\".json\"), \"w\") as json_file:\n",
    "        json_file.write(model_json)\n",
    "\n",
    "# Helper function to extract min/max from the learning curves\n",
    "def minMax(x):\n",
    "    return pd.Series(index=['min','max'],data=[x.min(),x.max()])\n",
    "\n",
    "# DO NOT EDIT\n",
    "def run_evaluation(name, model_builder, data, base_dir, train=True, \n",
    "                   generator=False, epochs=3, batch_size=32, steps_per_epoch=60, \n",
    "                   verbose=1, **kwargs):\n",
    "    \"\"\" Trains and evaluates the given model on the predefined train and test splits,\n",
    "    stores the trained model and learning curves. Also prints out a summary of the \n",
    "    model and plots the learning curves.\n",
    "    Keyword arguments:\n",
    "    name -- the name of the model to be stored, e.g. 'question_1_1.h5'\n",
    "    model_builder -- function that returns an (untrained) model. The model must \n",
    "                     have a 'fit' function that follows the Keras API. It can wrap\n",
    "                     a non-Keras model as long as the 'fit' function takes the \n",
    "                     same attributes and returns the learning curves (history).\n",
    "                     It also must have a 'summary' function that prints out a \n",
    "                     model summary, and a 'save' function that saves the model \n",
    "                     to disk. \n",
    "    data -- data split for evaluation. A tuple of either:\n",
    "            * Numpy arrays (X_train, X_val, y_train, y_val)\n",
    "            * A data generator and validation data (generator, X_val, y_val)\n",
    "    base_dir -- the directory to save or read models to/from\n",
    "    train -- whether or not the data should be trained. If False, the trained model\n",
    "             will be loaded from disk.\n",
    "    generator -- whether the data in given as a generator or not\n",
    "    epochs -- the number of epochs to train for\n",
    "    batch_size -- the batch size to train with\n",
    "    steps_per_epoch -- steps per epoch, in case a generator is used (ignored otherwise)\n",
    "    verbose -- verbosity level, 0: silent, 1: minimal,...\n",
    "    kwargs -- keyword arguments that should be passed to model_builder.\n",
    "              Not required, but may help you to adjust its behavior\n",
    "    \"\"\"\n",
    "    model = model_builder(**kwargs)\n",
    "    if not model:\n",
    "        shout(\"No model is returned by the model_builder\")\n",
    "        return\n",
    "    if not hasattr(model, 'fit'):\n",
    "        shout(\"Model is not built correctly\")\n",
    "        return\n",
    "    learning_curves = {}\n",
    "    if train and not stop_training: # Train anew\n",
    "        shout(\"Training the model\", verbose)\n",
    "        if generator:\n",
    "            generator, X_val, y_val = data\n",
    "            history = model.fit(generator, epochs=epochs, batch_size=batch_size,\n",
    "                              steps_per_epoch=steps_per_epoch, verbose=1, \n",
    "                              validation_data=(X_val, y_val))\n",
    "            learning_curves = history.history\n",
    "        else:\n",
    "            X_train, X_val, y_train, y_val = data\n",
    "            history = model.fit(X_train, y_train, epochs=epochs, batch_size=batch_size,\n",
    "                              verbose=1, validation_data=(X_val, y_val))\n",
    "            learning_curves = history.history\n",
    "        shout(\"Saving to file\", verbose)\n",
    "        save_model_to_file(model, base_dir, name)\n",
    "        with open(os.path.join(base_dir, name+'.p'), 'wb') as file_pi:\n",
    "            pickle.dump(learning_curves, file_pi)\n",
    "        shout(\"Model stored in \"+base_dir, verbose)\n",
    "    else: # Load from file\n",
    "        shout(\"Loading model from file\", verbose)\n",
    "        model = load_model_from_file(base_dir, name)\n",
    "        if not model:\n",
    "            shout(\"Model not found\")\n",
    "            return\n",
    "        learning_curves = None\n",
    "        try:\n",
    "            learning_curves = pickle.load(open(os.path.join(base_dir, name+'.p'), \"rb\"))\n",
    "        except FileNotFoundError:\n",
    "            shout(\"Learning curves not found\")\n",
    "            return\n",
    "        shout(\"Success!\", verbose)\n",
    "    # Report\n",
    "    print(model.summary())\n",
    "    lc = pd.DataFrame(learning_curves)\n",
    "    lc.plot(lw=2,style=['b:','r:','b-','r-']);\n",
    "    plt.xlabel('epochs');\n",
    "    print(lc.apply(minMax))"
   ]
  },
  {
   "cell_type": "markdown",
   "metadata": {
    "colab_type": "text",
    "id": "IU_zPWGPypce"
   },
   "source": [
    "## Part 1. Dense networks (10 points)\n",
    "\n",
    "### Question 1.1: Baseline model (4 points)\n",
    "- Build a dense network (with only dense layers) of at least 3 layers that is shaped like a pyramid: The first layer must have many nodes, and every subsequent layer must have increasingly fewer nodes, e.g. half as many. Implement a function 'build_model_1_1' that returns this model.\n",
    "- You can explore different settings, but don't use any preprocessing or regularization yet. You should be able to achieve at least 70% accuracy, but more is of course better. Unless otherwise stated, you can use accuracy as the evaluation metric in all questions.\n",
    "* Add a small description of your design choices (max. 500 characters) in 'answer_q_1_1': explain what you did and also why. Also discuss the performance of the model. Is it working well? Both the performance of the model and your explanations matter.\n",
    "- The name of the model should be 'model_1_1'. Evaluate it using the 'run_evaluation' function. For this question, you should not use more than 50 epochs."
   ]
  },
  {
   "cell_type": "code",
   "execution_count": 16,
   "metadata": {
    "colab": {
     "base_uri": "https://localhost:8080/",
     "height": 53
    },
    "colab_type": "code",
    "id": "hci6BIdHJTN0",
    "outputId": "d55ca35d-f1d7-467b-9a08-cb3caa0b75c4"
   },
   "outputs": [
    {
     "name": "stdout",
     "output_type": "stream",
     "text": [
      "\u001b[91mTraining the model\u001b[0m\n",
      "Train on 63544 samples, validate on 15887 samples\n",
      "Epoch 1/50\n",
      "63544/63544 [==============================] - 6s 99us/sample - loss: 2.1990 - accuracy: 0.1927 - val_loss: 1.9847 - val_accuracy: 0.2906\n",
      "Epoch 2/50\n",
      "63544/63544 [==============================] - 6s 91us/sample - loss: 1.5978 - accuracy: 0.4497 - val_loss: 1.4515 - val_accuracy: 0.5107\n",
      "Epoch 3/50\n",
      "63544/63544 [==============================] - 6s 92us/sample - loss: 1.3168 - accuracy: 0.5738 - val_loss: 1.2618 - val_accuracy: 0.5953\n",
      "Epoch 4/50\n",
      "63544/63544 [==============================] - 6s 93us/sample - loss: 1.1954 - accuracy: 0.6228 - val_loss: 1.1493 - val_accuracy: 0.6486\n",
      "Epoch 5/50\n",
      "63544/63544 [==============================] - 6s 98us/sample - loss: 1.1128 - accuracy: 0.6561 - val_loss: 1.0598 - val_accuracy: 0.6759\n",
      "Epoch 6/50\n",
      "63544/63544 [==============================] - 6s 96us/sample - loss: 1.0406 - accuracy: 0.6829 - val_loss: 1.0366 - val_accuracy: 0.6849\n",
      "Epoch 7/50\n",
      "63544/63544 [==============================] - 6s 97us/sample - loss: 0.9987 - accuracy: 0.6965 - val_loss: 1.0016 - val_accuracy: 0.6943\n",
      "Epoch 8/50\n",
      "63544/63544 [==============================] - 6s 100us/sample - loss: 0.9671 - accuracy: 0.7062 - val_loss: 0.9570 - val_accuracy: 0.7163\n",
      "Epoch 9/50\n",
      "63544/63544 [==============================] - 6s 96us/sample - loss: 0.9421 - accuracy: 0.7148 - val_loss: 1.0122 - val_accuracy: 0.6869\n",
      "Epoch 10/50\n",
      "63544/63544 [==============================] - 6s 100us/sample - loss: 0.9198 - accuracy: 0.7231 - val_loss: 0.9455 - val_accuracy: 0.7173\n",
      "Epoch 11/50\n",
      "63544/63544 [==============================] - 6s 95us/sample - loss: 0.8999 - accuracy: 0.7279 - val_loss: 0.9545 - val_accuracy: 0.7120\n",
      "Epoch 12/50\n",
      "63544/63544 [==============================] - 6s 93us/sample - loss: 0.8851 - accuracy: 0.7324 - val_loss: 0.9219 - val_accuracy: 0.7247\n",
      "Epoch 13/50\n",
      "63544/63544 [==============================] - 6s 96us/sample - loss: 0.8727 - accuracy: 0.7350 - val_loss: 0.8717 - val_accuracy: 0.7436\n",
      "Epoch 14/50\n",
      "63544/63544 [==============================] - 6s 99us/sample - loss: 0.8530 - accuracy: 0.7421 - val_loss: 0.8710 - val_accuracy: 0.7413\n",
      "Epoch 15/50\n",
      "63544/63544 [==============================] - 6s 94us/sample - loss: 0.8400 - accuracy: 0.7466 - val_loss: 0.8505 - val_accuracy: 0.7492\n",
      "Epoch 16/50\n",
      "63544/63544 [==============================] - 6s 94us/sample - loss: 0.8315 - accuracy: 0.7510 - val_loss: 0.8896 - val_accuracy: 0.7318\n",
      "Epoch 17/50\n",
      "63544/63544 [==============================] - 6s 92us/sample - loss: 0.8223 - accuracy: 0.7521 - val_loss: 0.8148 - val_accuracy: 0.7611\n",
      "Epoch 18/50\n",
      "63544/63544 [==============================] - 6s 94us/sample - loss: 0.8074 - accuracy: 0.7579 - val_loss: 0.8434 - val_accuracy: 0.7533\n",
      "Epoch 19/50\n",
      "63544/63544 [==============================] - 6s 92us/sample - loss: 0.7970 - accuracy: 0.7608 - val_loss: 0.8526 - val_accuracy: 0.7489\n",
      "Epoch 20/50\n",
      "63544/63544 [==============================] - 6s 91us/sample - loss: 0.7936 - accuracy: 0.7634 - val_loss: 0.8198 - val_accuracy: 0.7607\n",
      "Epoch 21/50\n",
      "63544/63544 [==============================] - 6s 92us/sample - loss: 0.7788 - accuracy: 0.7674 - val_loss: 0.8042 - val_accuracy: 0.7666\n",
      "Epoch 22/50\n",
      "63544/63544 [==============================] - 6s 92us/sample - loss: 0.7733 - accuracy: 0.7671 - val_loss: 0.8276 - val_accuracy: 0.7589\n",
      "Epoch 23/50\n",
      "63544/63544 [==============================] - 6s 92us/sample - loss: 0.7642 - accuracy: 0.7714 - val_loss: 0.7856 - val_accuracy: 0.7714\n",
      "Epoch 24/50\n",
      "63544/63544 [==============================] - 6s 98us/sample - loss: 0.7582 - accuracy: 0.7735 - val_loss: 0.8450 - val_accuracy: 0.7516\n",
      "Epoch 25/50\n",
      "63544/63544 [==============================] - 6s 94us/sample - loss: 0.7567 - accuracy: 0.7750 - val_loss: 0.7733 - val_accuracy: 0.7752\n",
      "Epoch 26/50\n",
      "63544/63544 [==============================] - 6s 92us/sample - loss: 0.7479 - accuracy: 0.7771 - val_loss: 0.8074 - val_accuracy: 0.7645\n",
      "Epoch 27/50\n",
      "63544/63544 [==============================] - 6s 97us/sample - loss: 0.7443 - accuracy: 0.7778 - val_loss: 0.7923 - val_accuracy: 0.7674\n",
      "Epoch 28/50\n",
      "63544/63544 [==============================] - 6s 96us/sample - loss: 0.7361 - accuracy: 0.7801 - val_loss: 0.8039 - val_accuracy: 0.7669\n",
      "Epoch 29/50\n",
      "63544/63544 [==============================] - 6s 100us/sample - loss: 0.7344 - accuracy: 0.7797 - val_loss: 0.7939 - val_accuracy: 0.7665\n",
      "Epoch 30/50\n",
      "63544/63544 [==============================] - 7s 103us/sample - loss: 0.7263 - accuracy: 0.7853 - val_loss: 0.7717 - val_accuracy: 0.7749\n",
      "Epoch 31/50\n",
      "63544/63544 [==============================] - 6s 92us/sample - loss: 0.7237 - accuracy: 0.7847 - val_loss: 0.7673 - val_accuracy: 0.7780\n",
      "Epoch 32/50\n",
      "63544/63544 [==============================] - 6s 93us/sample - loss: 0.7191 - accuracy: 0.7863 - val_loss: 0.7925 - val_accuracy: 0.7730\n",
      "Epoch 33/50\n",
      "63544/63544 [==============================] - 6s 95us/sample - loss: 0.7159 - accuracy: 0.7864 - val_loss: 0.7857 - val_accuracy: 0.7716\n",
      "Epoch 34/50\n",
      "63544/63544 [==============================] - 6s 93us/sample - loss: 0.7106 - accuracy: 0.7875 - val_loss: 0.7944 - val_accuracy: 0.7688\n",
      "Epoch 35/50\n",
      "63544/63544 [==============================] - 6s 92us/sample - loss: 0.7089 - accuracy: 0.7882 - val_loss: 0.7853 - val_accuracy: 0.7745\n",
      "Epoch 36/50\n",
      "63544/63544 [==============================] - 6s 94us/sample - loss: 0.7035 - accuracy: 0.7894 - val_loss: 0.7940 - val_accuracy: 0.7687\n",
      "Epoch 37/50\n",
      "63544/63544 [==============================] - 6s 96us/sample - loss: 0.7010 - accuracy: 0.7912 - val_loss: 0.7868 - val_accuracy: 0.7736\n",
      "Epoch 38/50\n",
      "63544/63544 [==============================] - 6s 96us/sample - loss: 0.6986 - accuracy: 0.7921 - val_loss: 0.8009 - val_accuracy: 0.7682\n",
      "Epoch 39/50\n",
      "63544/63544 [==============================] - 6s 95us/sample - loss: 0.6960 - accuracy: 0.7917 - val_loss: 0.7353 - val_accuracy: 0.7937\n",
      "Epoch 40/50\n",
      "63544/63544 [==============================] - 6s 96us/sample - loss: 0.6926 - accuracy: 0.7931 - val_loss: 0.7433 - val_accuracy: 0.7878\n",
      "Epoch 41/50\n",
      "63544/63544 [==============================] - 6s 96us/sample - loss: 0.6873 - accuracy: 0.7949 - val_loss: 0.7168 - val_accuracy: 0.7950\n",
      "Epoch 42/50\n",
      "63544/63544 [==============================] - 6s 94us/sample - loss: 0.6852 - accuracy: 0.7953 - val_loss: 0.7492 - val_accuracy: 0.7861\n",
      "Epoch 43/50\n",
      "63544/63544 [==============================] - 6s 93us/sample - loss: 0.6759 - accuracy: 0.7981 - val_loss: 0.7906 - val_accuracy: 0.7708\n",
      "Epoch 44/50\n",
      "63544/63544 [==============================] - 6s 95us/sample - loss: 0.6780 - accuracy: 0.7972 - val_loss: 0.7608 - val_accuracy: 0.7806\n",
      "Epoch 45/50\n",
      "63544/63544 [==============================] - 6s 93us/sample - loss: 0.6710 - accuracy: 0.7997 - val_loss: 0.7498 - val_accuracy: 0.7854\n",
      "Epoch 46/50\n",
      "63544/63544 [==============================] - 6s 91us/sample - loss: 0.6712 - accuracy: 0.7983 - val_loss: 0.7638 - val_accuracy: 0.7813\n",
      "Epoch 47/50\n",
      "63544/63544 [==============================] - 6s 94us/sample - loss: 0.6728 - accuracy: 0.7985 - val_loss: 0.7173 - val_accuracy: 0.7969\n",
      "Epoch 48/50\n",
      "63544/63544 [==============================] - 6s 100us/sample - loss: 0.6678 - accuracy: 0.8007 - val_loss: 0.7356 - val_accuracy: 0.7880\n",
      "Epoch 49/50\n",
      "63544/63544 [==============================] - 6s 94us/sample - loss: 0.6700 - accuracy: 0.7994 - val_loss: 0.7611 - val_accuracy: 0.7787\n",
      "Epoch 50/50\n",
      "63544/63544 [==============================] - 6s 93us/sample - loss: 0.6611 - accuracy: 0.8018 - val_loss: 0.7761 - val_accuracy: 0.7799\n",
      "\u001b[91mSaving to file\u001b[0m\n",
      "\u001b[91mModel stored in ./\u001b[0m\n",
      "Model: \"sequential_1\"\n",
      "_________________________________________________________________\n",
      "Layer (type)                 Output Shape              Param #   \n",
      "=================================================================\n",
      "flatten_1 (Flatten)          (None, 3072)              0         \n",
      "_________________________________________________________________\n",
      "dense_3 (Dense)              (None, 1088)              3343424   \n",
      "_________________________________________________________________\n",
      "dense_4 (Dense)              (None, 120)               130680    \n",
      "_________________________________________________________________\n",
      "dense_5 (Dense)              (None, 10)                1210      \n",
      "=================================================================\n",
      "Total params: 3,475,314\n",
      "Trainable params: 3,475,314\n",
      "Non-trainable params: 0\n",
      "_________________________________________________________________\n",
      "None\n",
      "         loss  accuracy  val_loss  val_accuracy\n",
      "min  0.661120  0.192733  0.716843      0.290552\n",
      "max  2.199037  0.801807  1.984691      0.796878\n",
      "Answer is 356 characters long\n"
     ]
    },
    {
     "data": {
      "image/png": "[encoded data removed]",
      "text/plain": [
       "<Figure size 432x288 with 1 Axes>"
      ]
     },
     "metadata": {
      "needs_background": "light"
     },
     "output_type": "display_data"
    }
   ],
   "source": [
    "def build_model_1_1():\n",
    "    \n",
    "    model = models.Sequential()\n",
    "    model.add(layers.Flatten(input_shape=(32,32,3)))\n",
    "    model.add(layers.Dense(1088, activation='relu'))\n",
    "    model.add(layers.Dense(120, activation='relu'))\n",
    "    model.add(layers.Dense(10, activation='softmax'))\n",
    "    model.compile(optimizer='adam',\n",
    "                  loss='categorical_crossentropy',\n",
    "                  metrics=['accuracy'])\n",
    "    return model\n",
    "\n",
    "run_evaluation(\"model_1_1\", build_model_1_1, evaluation_split, base_dir, \n",
    "               train=True, epochs=50, batch_size=32)\n",
    "answer_q_1_1 = \"\"\"\n",
    "I intuitively thought of a number of nodes per layer: rows*cols+(rows+cols), in a way representing a pixel arrays + a bias,\n",
    "both vertically as well as horizontally. For 32 this gave a layer with 1088 nodes, and for 10 this gave a layer with 120 nodes.\n",
    "This consistently gave an accuracy of over 70% after only 10-20 epochs ending around 80% after all 50.\n",
    "\"\"\"\n",
    "print(\"Answer is {} characters long\".format(len(answer_q_1_1)))"
   ]
  },
  {
   "cell_type": "markdown",
   "metadata": {
    "colab_type": "text",
    "id": "kmicpoNvonjd"
   },
   "source": [
    "### Question 1.2: Preprocessing (2 points)\n",
    "Rerun the model, but now preprocess the data first by converting the images to \n",
    "greyscale. You can use the helper function below. If you want to do additional \n",
    "preprocessing, you can do that here, too.\n",
    "* Store the preprocessed data as a tuple `preprocessed_split`\n",
    "* Rerun and re-evaluate your model using the preprocessed data.\n",
    "  * For the remainder of the assignment, always use the preprocessed data\n",
    "* Explain what you did and interpret the results in 'answer_q_1_2'. Is the model\n",
    "  better, if so, why?"
   ]
  },
  {
   "cell_type": "code",
   "execution_count": 17,
   "metadata": {
    "colab": {},
    "colab_type": "code",
    "id": "_wFGWDQSqkIM"
   },
   "outputs": [],
   "source": [
    "# Luminance-preserving RGB to greyscale conversion\n",
    "def rgb2gray(X):\n",
    "    return np.expand_dims(np.dot(X, [0.2990, 0.5870, 0.1140]), axis=3)"
   ]
  },
  {
   "cell_type": "code",
   "execution_count": 18,
   "metadata": {
    "colab": {
     "base_uri": "https://localhost:8080/",
     "height": 53
    },
    "colab_type": "code",
    "id": "3aTVsLaojNeM",
    "outputId": "7ce47d0b-a86f-476b-b1ab-bce088c17a8e"
   },
   "outputs": [
    {
     "name": "stdout",
     "output_type": "stream",
     "text": [
      "\u001b[91mTraining the model\u001b[0m\n",
      "Train on 63544 samples, validate on 15887 samples\n",
      "Epoch 1/50\n",
      "63544/63544 [==============================] - 6s 101us/sample - loss: 1.9730 - accuracy: 0.2948 - val_loss: 1.4822 - val_accuracy: 0.5066\n",
      "Epoch 2/50\n",
      "63544/63544 [==============================] - 6s 87us/sample - loss: 1.3432 - accuracy: 0.5647 - val_loss: 1.2433 - val_accuracy: 0.6133\n",
      "Epoch 3/50\n",
      "63544/63544 [==============================] - 5s 86us/sample - loss: 1.1692 - accuracy: 0.6319 - val_loss: 1.1580 - val_accuracy: 0.6383\n",
      "Epoch 4/50\n",
      "63544/63544 [==============================] - 6s 92us/sample - loss: 1.0764 - accuracy: 0.6655 - val_loss: 1.0308 - val_accuracy: 0.6852\n",
      "Epoch 5/50\n",
      "63544/63544 [==============================] - 6s 89us/sample - loss: 1.0059 - accuracy: 0.6896 - val_loss: 1.0062 - val_accuracy: 0.6865\n",
      "Epoch 6/50\n",
      "63544/63544 [==============================] - 7s 103us/sample - loss: 0.9551 - accuracy: 0.7068 - val_loss: 0.9592 - val_accuracy: 0.7137\n",
      "Epoch 7/50\n",
      "63544/63544 [==============================] - 7s 102us/sample - loss: 0.9190 - accuracy: 0.7201 - val_loss: 0.9079 - val_accuracy: 0.7257\n",
      "Epoch 8/50\n",
      "63544/63544 [==============================] - 6s 92us/sample - loss: 0.8910 - accuracy: 0.7296 - val_loss: 0.9503 - val_accuracy: 0.7115\n",
      "Epoch 9/50\n",
      "63544/63544 [==============================] - 7s 104us/sample - loss: 0.8655 - accuracy: 0.7372 - val_loss: 0.8980 - val_accuracy: 0.7269\n",
      "Epoch 10/50\n",
      "63544/63544 [==============================] - 6s 98us/sample - loss: 0.8435 - accuracy: 0.7441 - val_loss: 0.8361 - val_accuracy: 0.7520\n",
      "Epoch 11/50\n",
      "63544/63544 [==============================] - 6s 98us/sample - loss: 0.8299 - accuracy: 0.7497 - val_loss: 0.8724 - val_accuracy: 0.7384\n",
      "Epoch 12/50\n",
      "63544/63544 [==============================] - 6s 91us/sample - loss: 0.8119 - accuracy: 0.7539 - val_loss: 0.8363 - val_accuracy: 0.7511\n",
      "Epoch 13/50\n",
      "63544/63544 [==============================] - 6s 92us/sample - loss: 0.7937 - accuracy: 0.7592 - val_loss: 0.7975 - val_accuracy: 0.7649\n",
      "Epoch 14/50\n",
      "63544/63544 [==============================] - 6s 94us/sample - loss: 0.7787 - accuracy: 0.7659 - val_loss: 0.9038 - val_accuracy: 0.7278\n",
      "Epoch 15/50\n",
      "63544/63544 [==============================] - 6s 92us/sample - loss: 0.7657 - accuracy: 0.7694 - val_loss: 0.7894 - val_accuracy: 0.7654\n",
      "Epoch 16/50\n",
      "63544/63544 [==============================] - 6s 93us/sample - loss: 0.7556 - accuracy: 0.7740 - val_loss: 0.7805 - val_accuracy: 0.7690\n",
      "Epoch 17/50\n",
      "63544/63544 [==============================] - 6s 95us/sample - loss: 0.7491 - accuracy: 0.7763 - val_loss: 0.7759 - val_accuracy: 0.7703\n",
      "Epoch 18/50\n",
      "63544/63544 [==============================] - 6s 92us/sample - loss: 0.7352 - accuracy: 0.7809 - val_loss: 0.7760 - val_accuracy: 0.7713\n",
      "Epoch 19/50\n",
      "63544/63544 [==============================] - 6s 95us/sample - loss: 0.7339 - accuracy: 0.7792 - val_loss: 0.8348 - val_accuracy: 0.7518\n",
      "Epoch 20/50\n",
      "63544/63544 [==============================] - 6s 91us/sample - loss: 0.7225 - accuracy: 0.7850 - val_loss: 0.7568 - val_accuracy: 0.7787\n",
      "Epoch 21/50\n",
      "63544/63544 [==============================] - 6s 92us/sample - loss: 0.7145 - accuracy: 0.7856 - val_loss: 0.7712 - val_accuracy: 0.7747\n",
      "Epoch 22/50\n",
      "63544/63544 [==============================] - 6s 92us/sample - loss: 0.7079 - accuracy: 0.7879 - val_loss: 0.8002 - val_accuracy: 0.7603\n",
      "Epoch 23/50\n",
      "63544/63544 [==============================] - 6s 90us/sample - loss: 0.7028 - accuracy: 0.7886 - val_loss: 0.7590 - val_accuracy: 0.7767\n",
      "Epoch 24/50\n",
      "63544/63544 [==============================] - 5s 84us/sample - loss: 0.6908 - accuracy: 0.7934 - val_loss: 0.7450 - val_accuracy: 0.7793\n",
      "Epoch 25/50\n",
      "63544/63544 [==============================] - 5s 85us/sample - loss: 0.6928 - accuracy: 0.7929 - val_loss: 0.7497 - val_accuracy: 0.7781\n",
      "Epoch 26/50\n",
      "63544/63544 [==============================] - 5s 86us/sample - loss: 0.6868 - accuracy: 0.7951 - val_loss: 0.7391 - val_accuracy: 0.7861\n",
      "Epoch 27/50\n",
      "63544/63544 [==============================] - 5s 86us/sample - loss: 0.6815 - accuracy: 0.7977 - val_loss: 0.7389 - val_accuracy: 0.7874\n",
      "Epoch 28/50\n",
      "63544/63544 [==============================] - 5s 86us/sample - loss: 0.6747 - accuracy: 0.7988 - val_loss: 0.7380 - val_accuracy: 0.7881\n",
      "Epoch 29/50\n",
      "63544/63544 [==============================] - 6s 92us/sample - loss: 0.6684 - accuracy: 0.7998 - val_loss: 0.7549 - val_accuracy: 0.7820\n",
      "Epoch 30/50\n",
      "63544/63544 [==============================] - 5s 84us/sample - loss: 0.6682 - accuracy: 0.8016 - val_loss: 0.7059 - val_accuracy: 0.7956\n",
      "Epoch 31/50\n",
      "63544/63544 [==============================] - 5s 81us/sample - loss: 0.6620 - accuracy: 0.8022 - val_loss: 0.7235 - val_accuracy: 0.7881\n",
      "Epoch 32/50\n",
      "63544/63544 [==============================] - 5s 80us/sample - loss: 0.6599 - accuracy: 0.8027 - val_loss: 0.7244 - val_accuracy: 0.7895\n",
      "Epoch 33/50\n",
      "63544/63544 [==============================] - 5s 80us/sample - loss: 0.6553 - accuracy: 0.8034 - val_loss: 0.6976 - val_accuracy: 0.8000\n",
      "Epoch 34/50\n",
      "63544/63544 [==============================] - 5s 81us/sample - loss: 0.6537 - accuracy: 0.8032 - val_loss: 0.6963 - val_accuracy: 0.7992\n",
      "Epoch 35/50\n",
      "63544/63544 [==============================] - 5s 80us/sample - loss: 0.6467 - accuracy: 0.8087 - val_loss: 0.7319 - val_accuracy: 0.7916\n",
      "Epoch 36/50\n",
      "63544/63544 [==============================] - 5s 79us/sample - loss: 0.6426 - accuracy: 0.8063 - val_loss: 0.7159 - val_accuracy: 0.7960\n",
      "Epoch 37/50\n",
      "63544/63544 [==============================] - 5s 81us/sample - loss: 0.6399 - accuracy: 0.8099 - val_loss: 0.7039 - val_accuracy: 0.8024\n",
      "Epoch 38/50\n",
      "63544/63544 [==============================] - 5s 80us/sample - loss: 0.6366 - accuracy: 0.8099 - val_loss: 0.7059 - val_accuracy: 0.7992\n",
      "Epoch 39/50\n",
      "63544/63544 [==============================] - 5s 83us/sample - loss: 0.6329 - accuracy: 0.8105 - val_loss: 0.7149 - val_accuracy: 0.7951\n",
      "Epoch 40/50\n",
      "63544/63544 [==============================] - 5s 86us/sample - loss: 0.6309 - accuracy: 0.8133 - val_loss: 0.7109 - val_accuracy: 0.7964\n",
      "Epoch 41/50\n",
      "63544/63544 [==============================] - 5s 79us/sample - loss: 0.6256 - accuracy: 0.8145 - val_loss: 0.7263 - val_accuracy: 0.7906\n",
      "Epoch 42/50\n",
      "63544/63544 [==============================] - 5s 80us/sample - loss: 0.6252 - accuracy: 0.8140 - val_loss: 0.7041 - val_accuracy: 0.7978\n",
      "Epoch 43/50\n",
      "63544/63544 [==============================] - 5s 82us/sample - loss: 0.6243 - accuracy: 0.8136 - val_loss: 0.6899 - val_accuracy: 0.8041\n",
      "Epoch 44/50\n",
      "63544/63544 [==============================] - 6s 88us/sample - loss: 0.6209 - accuracy: 0.8158 - val_loss: 0.6974 - val_accuracy: 0.8003\n",
      "Epoch 45/50\n",
      "63544/63544 [==============================] - 6s 90us/sample - loss: 0.6173 - accuracy: 0.8163 - val_loss: 0.6780 - val_accuracy: 0.8064\n",
      "Epoch 46/50\n",
      "63544/63544 [==============================] - 5s 85us/sample - loss: 0.6144 - accuracy: 0.8172 - val_loss: 0.7320 - val_accuracy: 0.7880\n",
      "Epoch 47/50\n",
      "63544/63544 [==============================] - 8s 120us/sample - loss: 0.6104 - accuracy: 0.8180 - val_loss: 0.6821 - val_accuracy: 0.8049\n",
      "Epoch 48/50\n",
      "63544/63544 [==============================] - 6s 96us/sample - loss: 0.6096 - accuracy: 0.8186 - val_loss: 0.6795 - val_accuracy: 0.8082\n",
      "Epoch 49/50\n",
      "63544/63544 [==============================] - 5s 82us/sample - loss: 0.6092 - accuracy: 0.8181 - val_loss: 0.6802 - val_accuracy: 0.8037\n",
      "Epoch 50/50\n",
      "63544/63544 [==============================] - 6s 91us/sample - loss: 0.6080 - accuracy: 0.8197 - val_loss: 0.6644 - val_accuracy: 0.8083\n",
      "\u001b[91mSaving to file\u001b[0m\n",
      "\u001b[91mModel stored in ./\u001b[0m\n",
      "Model: \"sequential_2\"\n",
      "_________________________________________________________________\n",
      "Layer (type)                 Output Shape              Param #   \n",
      "=================================================================\n",
      "flatten_2 (Flatten)          (None, 1024)              0         \n",
      "_________________________________________________________________\n",
      "dense_6 (Dense)              (None, 1088)              1115200   \n",
      "_________________________________________________________________\n",
      "dense_7 (Dense)              (None, 120)               130680    \n",
      "_________________________________________________________________\n",
      "dense_8 (Dense)              (None, 10)                1210      \n",
      "=================================================================\n",
      "Total params: 1,247,090\n",
      "Trainable params: 1,247,090\n",
      "Non-trainable params: 0\n",
      "_________________________________________________________________\n",
      "None\n",
      "         loss  accuracy  val_loss  val_accuracy\n",
      "min  0.608011  0.294819  0.664370      0.506641\n",
      "max  1.972954  0.819668  1.482162      0.808334\n",
      "Answer is 496 characters long\n"
     ]
    },
    {
     "data": {
      "image/png": "[encoded data removed]",
      "text/plain": [
       "<Figure size 432x288 with 1 Axes>"
      ]
     },
     "metadata": {
      "needs_background": "light"
     },
     "output_type": "display_data"
    }
   ],
   "source": [
    "# Replace with the preprocessed data\n",
    "preprocessed_split = rgb2gray(X_train), rgb2gray(X_val), y_train, y_val\n",
    "\n",
    "# Adjusted model\n",
    "def build_model_1_2():\n",
    "    \n",
    "    model = models.Sequential()\n",
    "    model.add(layers.Flatten(input_shape=(32,32,1)))\n",
    "    model.add(layers.Dense(1088, activation='relu'))\n",
    "    model.add(layers.Dense(120, activation='relu'))\n",
    "    model.add(layers.Dense(10, activation='softmax'))\n",
    "    model.compile(optimizer='adam',\n",
    "                  loss='categorical_crossentropy',\n",
    "                  metrics=['accuracy'])\n",
    "    return model\n",
    "\n",
    "# Evaluate. Use a new name 'model_1_2' to not overwrite the previous trained model\n",
    "run_evaluation(\"model_1_2\", build_model_1_2, preprocessed_split, base_dir, \n",
    "               train=True, epochs=50, batch_size=32)\n",
    "answer_q_1_2 = \"\"\"\n",
    "The accuracy seems to be about the same after converting the input to grayscale.The difference is that the model cannot use the\n",
    "RGB values, which gives it slightly less information to work with. It seems like the model isn't too influenced by this change\n",
    "however, since the accuracy hasn't changed that much. It does seem to speed up the training and as a result, after flattening \n",
    "the small increases in accuracy start earlier which may result in a slightly better performance after 50 epochs.\n",
    "\"\"\"\n",
    "print(\"Answer is {} characters long\".format(len(answer_q_1_2)))"
   ]
  },
  {
   "cell_type": "markdown",
   "metadata": {
    "colab_type": "text",
    "id": "7l1pHwimiWQI"
   },
   "source": [
    "### Question 1.3: Regularization and tuning (4 points)\n",
    "* Regularize the model. You can explore (and combine) different techniques. What works best?\n",
    "* Tune other hyperparameters (e.g. learning rate, batch size,...) as you see fit.\n",
    "* Explain your findings and final design decisions. Retrain the model again on the preprocessed data and discuss the results.\n",
    "* Return your model in function 'build_model_1_3' and write your answer in 'answer_q_1_3'"
   ]
  },
  {
   "cell_type": "code",
   "execution_count": 19,
   "metadata": {
    "colab": {
     "base_uri": "https://localhost:8080/",
     "height": 53
    },
    "colab_type": "code",
    "id": "2ZZenVX1jDIQ",
    "outputId": "21294110-1f3e-4555-f3f3-a24bae135de5"
   },
   "outputs": [
    {
     "name": "stderr",
     "output_type": "stream",
     "text": [
      "Using TensorFlow backend.\n"
     ]
    },
    {
     "name": "stdout",
     "output_type": "stream",
     "text": [
      "\u001b[91mTraining the model\u001b[0m\n",
      "Train on 63544 samples, validate on 15887 samples\n",
      "Epoch 1/50\n",
      "63544/63544 [==============================] - 4s 55us/sample - loss: 2.0707 - accuracy: 0.3363 - val_loss: 1.6790 - val_accuracy: 0.5103\n",
      "Epoch 2/50\n",
      "63544/63544 [==============================] - 3s 46us/sample - loss: 1.4916 - accuracy: 0.5730 - val_loss: 1.3838 - val_accuracy: 0.6041\n",
      "Epoch 3/50\n",
      "63544/63544 [==============================] - 3s 44us/sample - loss: 1.2729 - accuracy: 0.6483 - val_loss: 1.2066 - val_accuracy: 0.6713\n",
      "Epoch 4/50\n",
      "63544/63544 [==============================] - 3s 45us/sample - loss: 1.1642 - accuracy: 0.6805 - val_loss: 1.1294 - val_accuracy: 0.6930\n",
      "Epoch 5/50\n",
      "63544/63544 [==============================] - 3s 45us/sample - loss: 1.0894 - accuracy: 0.7025 - val_loss: 1.1051 - val_accuracy: 0.6930\n",
      "Epoch 6/50\n",
      "63544/63544 [==============================] - 3s 44us/sample - loss: 1.0324 - accuracy: 0.7209 - val_loss: 1.0388 - val_accuracy: 0.7241\n",
      "Epoch 7/50\n",
      "63544/63544 [==============================] - 3s 44us/sample - loss: 0.9832 - accuracy: 0.7366 - val_loss: 1.0413 - val_accuracy: 0.7145\n",
      "Epoch 8/50\n",
      "63544/63544 [==============================] - 3s 45us/sample - loss: 0.9466 - accuracy: 0.7478 - val_loss: 0.9946 - val_accuracy: 0.7295\n",
      "Epoch 9/50\n",
      "63544/63544 [==============================] - 3s 44us/sample - loss: 0.9152 - accuracy: 0.7586 - val_loss: 0.9379 - val_accuracy: 0.7531\n",
      "Epoch 10/50\n",
      "63544/63544 [==============================] - 3s 44us/sample - loss: 0.8873 - accuracy: 0.7664 - val_loss: 0.9093 - val_accuracy: 0.7620\n",
      "Epoch 11/50\n",
      "63544/63544 [==============================] - 3s 44us/sample - loss: 0.8627 - accuracy: 0.7757 - val_loss: 0.8919 - val_accuracy: 0.7702\n",
      "Epoch 12/50\n",
      "63544/63544 [==============================] - 3s 44us/sample - loss: 0.8400 - accuracy: 0.7834 - val_loss: 0.8939 - val_accuracy: 0.7698\n",
      "Epoch 13/50\n",
      "63544/63544 [==============================] - 3s 46us/sample - loss: 0.8247 - accuracy: 0.7857 - val_loss: 0.8539 - val_accuracy: 0.7845\n",
      "Epoch 14/50\n",
      "63544/63544 [==============================] - 3s 45us/sample - loss: 0.8019 - accuracy: 0.7956 - val_loss: 0.8473 - val_accuracy: 0.7842\n",
      "Epoch 15/50\n",
      "63544/63544 [==============================] - 3s 45us/sample - loss: 0.7865 - accuracy: 0.8005 - val_loss: 0.8350 - val_accuracy: 0.7855\n",
      "Epoch 16/50\n",
      "63544/63544 [==============================] - 3s 45us/sample - loss: 0.7733 - accuracy: 0.8024 - val_loss: 0.8503 - val_accuracy: 0.7825\n",
      "Epoch 17/50\n",
      "63544/63544 [==============================] - 3s 45us/sample - loss: 0.7591 - accuracy: 0.8080 - val_loss: 0.8030 - val_accuracy: 0.7994\n",
      "Epoch 18/50\n",
      "63544/63544 [==============================] - 3s 45us/sample - loss: 0.7451 - accuracy: 0.8111 - val_loss: 0.8069 - val_accuracy: 0.7985\n",
      "Epoch 19/50\n",
      "63544/63544 [==============================] - 3s 50us/sample - loss: 0.7326 - accuracy: 0.8153 - val_loss: 0.8163 - val_accuracy: 0.7887\n",
      "Epoch 20/50\n",
      "63544/63544 [==============================] - 3s 44us/sample - loss: 0.7216 - accuracy: 0.8180 - val_loss: 0.7822 - val_accuracy: 0.8067\n",
      "Epoch 21/50\n",
      "63544/63544 [==============================] - 3s 44us/sample - loss: 0.7143 - accuracy: 0.8203 - val_loss: 0.7803 - val_accuracy: 0.8034\n",
      "Epoch 22/50\n",
      "63544/63544 [==============================] - 3s 44us/sample - loss: 0.7042 - accuracy: 0.8240 - val_loss: 0.7628 - val_accuracy: 0.8100\n",
      "Epoch 23/50\n",
      "63544/63544 [==============================] - 3s 44us/sample - loss: 0.6939 - accuracy: 0.8265 - val_loss: 0.7898 - val_accuracy: 0.7990\n",
      "Epoch 24/50\n",
      "63544/63544 [==============================] - 3s 45us/sample - loss: 0.6857 - accuracy: 0.8290 - val_loss: 0.7585 - val_accuracy: 0.8148\n",
      "Epoch 25/50\n",
      "63544/63544 [==============================] - 3s 46us/sample - loss: 0.6747 - accuracy: 0.8327 - val_loss: 0.7463 - val_accuracy: 0.8161\n",
      "Epoch 26/50\n",
      "63544/63544 [==============================] - 3s 45us/sample - loss: 0.6740 - accuracy: 0.8330 - val_loss: 0.7401 - val_accuracy: 0.8165\n",
      "Epoch 27/50\n",
      "63544/63544 [==============================] - 3s 44us/sample - loss: 0.6632 - accuracy: 0.8377 - val_loss: 0.7653 - val_accuracy: 0.8160\n",
      "Epoch 28/50\n",
      "63544/63544 [==============================] - 3s 45us/sample - loss: 0.6560 - accuracy: 0.8384 - val_loss: 0.7582 - val_accuracy: 0.8144\n",
      "Epoch 29/50\n",
      "63544/63544 [==============================] - 3s 47us/sample - loss: 0.6485 - accuracy: 0.8410 - val_loss: 0.7439 - val_accuracy: 0.8185\n",
      "Epoch 30/50\n",
      "63544/63544 [==============================] - 3s 52us/sample - loss: 0.6390 - accuracy: 0.8440 - val_loss: 0.7530 - val_accuracy: 0.8118\n",
      "Epoch 31/50\n",
      "63544/63544 [==============================] - 3s 46us/sample - loss: 0.6385 - accuracy: 0.8450 - val_loss: 0.7419 - val_accuracy: 0.8138\n",
      "Epoch 32/50\n",
      "63544/63544 [==============================] - 3s 46us/sample - loss: 0.6303 - accuracy: 0.8471 - val_loss: 0.7151 - val_accuracy: 0.8272\n",
      "Epoch 33/50\n",
      "63544/63544 [==============================] - 3s 44us/sample - loss: 0.6256 - accuracy: 0.8484 - val_loss: 0.7196 - val_accuracy: 0.8260\n",
      "Epoch 34/50\n",
      "63544/63544 [==============================] - 3s 44us/sample - loss: 0.6184 - accuracy: 0.8499 - val_loss: 0.7782 - val_accuracy: 0.8045\n",
      "Epoch 35/50\n",
      "63544/63544 [==============================] - 3s 45us/sample - loss: 0.6139 - accuracy: 0.8505 - val_loss: 0.6925 - val_accuracy: 0.8345\n",
      "Epoch 36/50\n",
      "63544/63544 [==============================] - 3s 45us/sample - loss: 0.6069 - accuracy: 0.8535 - val_loss: 0.6993 - val_accuracy: 0.8319\n",
      "Epoch 37/50\n",
      "63544/63544 [==============================] - 3s 44us/sample - loss: 0.6022 - accuracy: 0.8554 - val_loss: 0.7268 - val_accuracy: 0.8231\n",
      "Epoch 38/50\n",
      "63544/63544 [==============================] - 3s 44us/sample - loss: 0.6021 - accuracy: 0.8532 - val_loss: 0.7257 - val_accuracy: 0.8229\n",
      "Epoch 39/50\n",
      "63544/63544 [==============================] - 3s 44us/sample - loss: 0.5930 - accuracy: 0.8578 - val_loss: 0.6981 - val_accuracy: 0.8337\n",
      "Epoch 40/50\n",
      "63544/63544 [==============================] - 3s 45us/sample - loss: 0.5877 - accuracy: 0.8598 - val_loss: 0.7175 - val_accuracy: 0.8257\n",
      "Epoch 41/50\n",
      "63544/63544 [==============================] - 3s 46us/sample - loss: 0.5872 - accuracy: 0.8580 - val_loss: 0.7086 - val_accuracy: 0.8290\n",
      "Epoch 42/50\n",
      "63544/63544 [==============================] - 3s 46us/sample - loss: 0.5788 - accuracy: 0.8605 - val_loss: 0.7192 - val_accuracy: 0.8273\n",
      "Epoch 43/50\n",
      "63544/63544 [==============================] - 3s 48us/sample - loss: 0.5794 - accuracy: 0.8614 - val_loss: 0.6879 - val_accuracy: 0.8374\n",
      "Epoch 44/50\n",
      "63544/63544 [==============================] - 3s 46us/sample - loss: 0.5726 - accuracy: 0.8634 - val_loss: 0.6945 - val_accuracy: 0.8341\n",
      "Epoch 45/50\n",
      "63544/63544 [==============================] - 3s 45us/sample - loss: 0.5682 - accuracy: 0.8644 - val_loss: 0.6998 - val_accuracy: 0.8337\n",
      "Epoch 46/50\n",
      "63544/63544 [==============================] - 3s 46us/sample - loss: 0.5625 - accuracy: 0.8660 - val_loss: 0.7005 - val_accuracy: 0.8355\n",
      "Epoch 47/50\n",
      "63544/63544 [==============================] - 3s 45us/sample - loss: 0.5541 - accuracy: 0.8673 - val_loss: 0.7005 - val_accuracy: 0.8335\n",
      "Epoch 48/50\n",
      "63544/63544 [==============================] - 3s 45us/sample - loss: 0.5566 - accuracy: 0.8681 - val_loss: 0.7106 - val_accuracy: 0.8282\n",
      "Epoch 49/50\n",
      "63544/63544 [==============================] - 3s 46us/sample - loss: 0.5519 - accuracy: 0.8698 - val_loss: 0.6778 - val_accuracy: 0.8394\n",
      "Epoch 50/50\n",
      "63544/63544 [==============================] - 3s 49us/sample - loss: 0.5471 - accuracy: 0.8699 - val_loss: 0.7266 - val_accuracy: 0.8216\n",
      "\u001b[91mSaving to file\u001b[0m\n",
      "\u001b[91mModel stored in ./\u001b[0m\n",
      "Model: \"sequential_3\"\n",
      "_________________________________________________________________\n",
      "Layer (type)                 Output Shape              Param #   \n",
      "=================================================================\n",
      "flatten_3 (Flatten)          (None, 1024)              0         \n",
      "_________________________________________________________________\n",
      "dense_9 (Dense)              (None, 1088)              1115200   \n",
      "_________________________________________________________________\n",
      "dense_10 (Dense)             (None, 120)               130680    \n",
      "_________________________________________________________________\n",
      "dense_11 (Dense)             (None, 10)                1210      \n",
      "=================================================================\n",
      "Total params: 1,247,090\n",
      "Trainable params: 1,247,090\n",
      "Non-trainable params: 0\n",
      "_________________________________________________________________\n",
      "None\n",
      "         loss  accuracy  val_loss  val_accuracy\n",
      "min  0.547075  0.336255  0.677796      0.510291\n",
      "max  2.070739  0.869854  1.679000      0.839428\n",
      "Answer is 479 characters long\n"
     ]
    },
    {
     "data": {
      "image/png": "[encoded data removed]",
      "text/plain": [
       "<Figure size 432x288 with 1 Axes>"
      ]
     },
     "metadata": {
      "needs_background": "light"
     },
     "output_type": "display_data"
    }
   ],
   "source": [
    "from keras import regularizers\n",
    "from tensorflow.keras import optimizers\n",
    "\n",
    "def build_model_1_3():\n",
    "    model = models.Sequential()\n",
    "    model.add(layers.Flatten(input_shape=(32,32,1)))\n",
    "    model.add(layers.Dense(1088, kernel_regularizer=regularizers.l2(0.0001), activation='relu'))\n",
    "    model.add(layers.Dense(120, kernel_regularizer=regularizers.l2(0.0001), activation='relu'))\n",
    "    model.add(layers.Dense(10, activation='softmax'))\n",
    "    model.compile(optimizer=optimizers.Adam(lr=0.0001),\n",
    "                  loss='categorical_crossentropy',\n",
    "                  metrics=['accuracy'])\n",
    "    return model\n",
    "\n",
    "run_evaluation(\"model_1_3\", build_model_1_3, preprocessed_split, base_dir, \n",
    "               train=True, epochs=50, batch_size=64)\n",
    "answer_q_1_3 = \"\"\"\n",
    "After applying l2 regularization the accuracy increased slightly to around 86%. After testing l2 seemed to have a better \n",
    "effect then l1. Bigger penalties stopped the model from training so a value of 0.0001 has been used. Also the learning rate\n",
    "performed best at this value. Increasing the batch size to 100 sped up the training a lot but it cost about a percent in \n",
    "accuracy. A value in the middle of 64 is a good pick as it is noticably faster with around the same accuracy.\n",
    "\"\"\"\n",
    "print(\"Answer is {} characters long\".format(len(answer_q_1_3)))"
   ]
  },
  {
   "cell_type": "markdown",
   "metadata": {
    "colab_type": "text",
    "id": "leo7YbI9L5et"
   },
   "source": [
    "## Part 2. Convolutional neural networks (10 points)\n",
    "### Question 2.1: Design a ConvNet (7 points)\n",
    "- Build a sequential convolutional neural network. Try to achieve the best validation accuracy you can. You should be able to get at least 90% accuracy. You can use any depth, any combination of layers, and any kind of regularization and tuning. \n",
    "- Add a description of your design choices in 'answer_q_2_1': explain what you did and also why. Also discuss the performance of the model. Is it working well? Both the performance of the model and your explanations matter.\n",
    "- You are allowed **800** characters for this answer (but don’t ramble).\n",
    "- The name of the model should be 'model_2_1'. Evaluate it using the 'run_evaluation' function and the preprocessed data."
   ]
  },
  {
   "cell_type": "code",
   "execution_count": 20,
   "metadata": {
    "colab": {
     "base_uri": "https://localhost:8080/",
     "height": 53
    },
    "colab_type": "code",
    "id": "ceyv-n1JRYyP",
    "outputId": "818e2fd1-77c1-4236-a8ee-dec7d9eb8a9e"
   },
   "outputs": [
    {
     "name": "stdout",
     "output_type": "stream",
     "text": [
      "\u001b[91mTraining the model\u001b[0m\n",
      "Train on 63544 samples, validate on 15887 samples\n",
      "Epoch 1/50\n",
      "63544/63544 [==============================] - 8s 119us/sample - loss: 1.1029 - accuracy: 0.6512 - val_loss: 0.6115 - val_accuracy: 0.8391\n",
      "Epoch 2/50\n",
      "63544/63544 [==============================] - 6s 88us/sample - loss: 0.6335 - accuracy: 0.8287 - val_loss: 0.4957 - val_accuracy: 0.8748\n",
      "Epoch 3/50\n",
      "63544/63544 [==============================] - 6s 87us/sample - loss: 0.5493 - accuracy: 0.8597 - val_loss: 0.4760 - val_accuracy: 0.8936\n",
      "Epoch 4/50\n",
      "63544/63544 [==============================] - 6s 88us/sample - loss: 0.5070 - accuracy: 0.8758 - val_loss: 0.4253 - val_accuracy: 0.9000\n",
      "Epoch 5/50\n",
      "63544/63544 [==============================] - 6s 87us/sample - loss: 0.4789 - accuracy: 0.8855 - val_loss: 0.4325 - val_accuracy: 0.9005\n",
      "Epoch 6/50\n",
      "63544/63544 [==============================] - 6s 89us/sample - loss: 0.4571 - accuracy: 0.8931 - val_loss: 0.4157 - val_accuracy: 0.9031\n",
      "Epoch 7/50\n",
      "63544/63544 [==============================] - 6s 87us/sample - loss: 0.4412 - accuracy: 0.8994 - val_loss: 0.3852 - val_accuracy: 0.9141\n",
      "Epoch 8/50\n",
      "63544/63544 [==============================] - 6s 87us/sample - loss: 0.4302 - accuracy: 0.9025 - val_loss: 0.3880 - val_accuracy: 0.9142\n",
      "Epoch 9/50\n",
      "63544/63544 [==============================] - 6s 87us/sample - loss: 0.4161 - accuracy: 0.9078 - val_loss: 0.3790 - val_accuracy: 0.9169\n",
      "Epoch 10/50\n",
      "63544/63544 [==============================] - 5s 86us/sample - loss: 0.4082 - accuracy: 0.9104 - val_loss: 0.3785 - val_accuracy: 0.9189\n",
      "Epoch 11/50\n",
      "63544/63544 [==============================] - 6s 88us/sample - loss: 0.4020 - accuracy: 0.9132 - val_loss: 0.3776 - val_accuracy: 0.9177\n",
      "Epoch 12/50\n",
      "63544/63544 [==============================] - 6s 88us/sample - loss: 0.3922 - accuracy: 0.9165 - val_loss: 0.4059 - val_accuracy: 0.9124\n",
      "Epoch 13/50\n",
      "63544/63544 [==============================] - 5s 86us/sample - loss: 0.3871 - accuracy: 0.9172 - val_loss: 0.3675 - val_accuracy: 0.9219\n",
      "Epoch 14/50\n",
      "63544/63544 [==============================] - 6s 87us/sample - loss: 0.3827 - accuracy: 0.9187 - val_loss: 0.3806 - val_accuracy: 0.9216\n",
      "Epoch 15/50\n",
      "63544/63544 [==============================] - 6s 87us/sample - loss: 0.3771 - accuracy: 0.9206 - val_loss: 0.3735 - val_accuracy: 0.9219\n",
      "Epoch 16/50\n",
      "63544/63544 [==============================] - 6s 90us/sample - loss: 0.3712 - accuracy: 0.9235 - val_loss: 0.3632 - val_accuracy: 0.9257\n",
      "Epoch 17/50\n",
      "63544/63544 [==============================] - 6s 87us/sample - loss: 0.3671 - accuracy: 0.9233 - val_loss: 0.3610 - val_accuracy: 0.9289\n",
      "Epoch 18/50\n",
      "63544/63544 [==============================] - 5s 86us/sample - loss: 0.3606 - accuracy: 0.9253 - val_loss: 0.3638 - val_accuracy: 0.9267\n",
      "Epoch 19/50\n",
      "63544/63544 [==============================] - 6s 87us/sample - loss: 0.3621 - accuracy: 0.9236 - val_loss: 0.3736 - val_accuracy: 0.9228\n",
      "Epoch 20/50\n",
      "63544/63544 [==============================] - 6s 87us/sample - loss: 0.3564 - accuracy: 0.9277 - val_loss: 0.3615 - val_accuracy: 0.9285\n",
      "Epoch 21/50\n",
      "63544/63544 [==============================] - 5s 86us/sample - loss: 0.3526 - accuracy: 0.9275 - val_loss: 0.3665 - val_accuracy: 0.9271\n",
      "Epoch 22/50\n",
      "63544/63544 [==============================] - 5s 86us/sample - loss: 0.3477 - accuracy: 0.9304 - val_loss: 0.3717 - val_accuracy: 0.9243\n",
      "Epoch 23/50\n",
      "63544/63544 [==============================] - 5s 86us/sample - loss: 0.3469 - accuracy: 0.9308 - val_loss: 0.3760 - val_accuracy: 0.9221\n",
      "Epoch 24/50\n",
      "63544/63544 [==============================] - 6s 87us/sample - loss: 0.3439 - accuracy: 0.9305 - val_loss: 0.3734 - val_accuracy: 0.9243\n",
      "Epoch 25/50\n",
      "63544/63544 [==============================] - 5s 85us/sample - loss: 0.3455 - accuracy: 0.9324 - val_loss: 0.3614 - val_accuracy: 0.9281\n",
      "Epoch 26/50\n",
      "63544/63544 [==============================] - 6s 87us/sample - loss: 0.3386 - accuracy: 0.9329 - val_loss: 0.3711 - val_accuracy: 0.9264\n",
      "Epoch 27/50\n",
      "63544/63544 [==============================] - 6s 88us/sample - loss: 0.3366 - accuracy: 0.9335 - val_loss: 0.3614 - val_accuracy: 0.9281\n",
      "Epoch 28/50\n",
      "63544/63544 [==============================] - 6s 87us/sample - loss: 0.3357 - accuracy: 0.9340 - val_loss: 0.3652 - val_accuracy: 0.9293\n",
      "Epoch 29/50\n",
      "63544/63544 [==============================] - 6s 88us/sample - loss: 0.3364 - accuracy: 0.9339 - val_loss: 0.3704 - val_accuracy: 0.9283\n",
      "Epoch 30/50\n",
      "63544/63544 [==============================] - 6s 88us/sample - loss: 0.3348 - accuracy: 0.9356 - val_loss: 0.3694 - val_accuracy: 0.9291\n",
      "Epoch 31/50\n",
      "63544/63544 [==============================] - 6s 88us/sample - loss: 0.3316 - accuracy: 0.9358 - val_loss: 0.3675 - val_accuracy: 0.9286\n",
      "Epoch 32/50\n",
      "63544/63544 [==============================] - 5s 86us/sample - loss: 0.3281 - accuracy: 0.9354 - val_loss: 0.3665 - val_accuracy: 0.9285\n",
      "Epoch 33/50\n",
      "63544/63544 [==============================] - 6s 87us/sample - loss: 0.3270 - accuracy: 0.9369 - val_loss: 0.3695 - val_accuracy: 0.9291\n",
      "Epoch 34/50\n",
      "63544/63544 [==============================] - 6s 88us/sample - loss: 0.3260 - accuracy: 0.9383 - val_loss: 0.3691 - val_accuracy: 0.9289\n",
      "Epoch 35/50\n",
      "63544/63544 [==============================] - 6s 87us/sample - loss: 0.3245 - accuracy: 0.9384 - val_loss: 0.3673 - val_accuracy: 0.9311\n",
      "Epoch 36/50\n",
      "63544/63544 [==============================] - 5s 86us/sample - loss: 0.3233 - accuracy: 0.9372 - val_loss: 0.3767 - val_accuracy: 0.9282\n",
      "Epoch 37/50\n",
      "63544/63544 [==============================] - 6s 91us/sample - loss: 0.3224 - accuracy: 0.9382 - val_loss: 0.3672 - val_accuracy: 0.9304\n",
      "Epoch 38/50\n",
      "63544/63544 [==============================] - 6s 91us/sample - loss: 0.3201 - accuracy: 0.9403 - val_loss: 0.3763 - val_accuracy: 0.9264\n",
      "Epoch 39/50\n",
      "63544/63544 [==============================] - 6s 90us/sample - loss: 0.3176 - accuracy: 0.9399 - val_loss: 0.3756 - val_accuracy: 0.9294\n",
      "Epoch 40/50\n",
      "63544/63544 [==============================] - 6s 98us/sample - loss: 0.3172 - accuracy: 0.9404 - val_loss: 0.3880 - val_accuracy: 0.9263\n",
      "Epoch 41/50\n",
      "63544/63544 [==============================] - 6s 101us/sample - loss: 0.3175 - accuracy: 0.9406 - val_loss: 0.3685 - val_accuracy: 0.9294\n",
      "Epoch 42/50\n",
      "63544/63544 [==============================] - 7s 103us/sample - loss: 0.3134 - accuracy: 0.9414 - val_loss: 0.3723 - val_accuracy: 0.9309\n",
      "Epoch 43/50\n",
      "63544/63544 [==============================] - 7s 102us/sample - loss: 0.3150 - accuracy: 0.9420 - val_loss: 0.3859 - val_accuracy: 0.9254\n",
      "Epoch 44/50\n",
      "63544/63544 [==============================] - 6s 94us/sample - loss: 0.3154 - accuracy: 0.9411 - val_loss: 0.3746 - val_accuracy: 0.9281\n",
      "Epoch 45/50\n",
      "63544/63544 [==============================] - 6s 94us/sample - loss: 0.3150 - accuracy: 0.9420 - val_loss: 0.3873 - val_accuracy: 0.9269\n",
      "Epoch 46/50\n",
      "63544/63544 [==============================] - 6s 92us/sample - loss: 0.3087 - accuracy: 0.9438 - val_loss: 0.3777 - val_accuracy: 0.9287\n",
      "Epoch 47/50\n",
      "63544/63544 [==============================] - 6s 92us/sample - loss: 0.3095 - accuracy: 0.9433 - val_loss: 0.3703 - val_accuracy: 0.9301\n",
      "Epoch 48/50\n",
      "63544/63544 [==============================] - 6s 91us/sample - loss: 0.3083 - accuracy: 0.9435 - val_loss: 0.3735 - val_accuracy: 0.9316\n",
      "Epoch 49/50\n",
      "63544/63544 [==============================] - 6s 95us/sample - loss: 0.3092 - accuracy: 0.9437 - val_loss: 0.3776 - val_accuracy: 0.9292\n",
      "Epoch 50/50\n",
      "63544/63544 [==============================] - 6s 96us/sample - loss: 0.3061 - accuracy: 0.9450 - val_loss: 0.3884 - val_accuracy: 0.9252\n",
      "\u001b[91mSaving to file\u001b[0m\n",
      "\u001b[91mModel stored in ./\u001b[0m\n",
      "Model: \"sequential_4\"\n",
      "_________________________________________________________________\n",
      "Layer (type)                 Output Shape              Param #   \n",
      "=================================================================\n",
      "conv2d (Conv2D)              (None, 30, 30, 32)        320       \n",
      "_________________________________________________________________\n",
      "max_pooling2d (MaxPooling2D) (None, 15, 15, 32)        0         \n",
      "_________________________________________________________________\n",
      "conv2d_1 (Conv2D)            (None, 13, 13, 120)       34680     \n",
      "_________________________________________________________________\n",
      "dropout (Dropout)            (None, 13, 13, 120)       0         \n",
      "_________________________________________________________________\n",
      "max_pooling2d_1 (MaxPooling2 (None, 6, 6, 120)         0         \n",
      "_________________________________________________________________\n",
      "conv2d_2 (Conv2D)            (None, 4, 4, 440)         475640    \n",
      "_________________________________________________________________\n",
      "dropout_1 (Dropout)          (None, 4, 4, 440)         0         \n",
      "_________________________________________________________________\n",
      "flatten_4 (Flatten)          (None, 7040)              0         \n",
      "_________________________________________________________________\n",
      "dense_12 (Dense)             (None, 128)               901248    \n",
      "_________________________________________________________________\n",
      "dropout_2 (Dropout)          (None, 128)               0         \n",
      "_________________________________________________________________\n",
      "dense_13 (Dense)             (None, 10)                1290      \n",
      "=================================================================\n",
      "Total params: 1,413,178\n",
      "Trainable params: 1,413,178\n",
      "Non-trainable params: 0\n",
      "_________________________________________________________________\n",
      "None\n",
      "         loss  accuracy  val_loss  val_accuracy\n",
      "min  0.306114  0.651155  0.360971      0.839051\n",
      "max  1.102872  0.945030  0.611455      0.931642\n",
      "Answer is 749 characters long\n"
     ]
    },
    {
     "data": {
      "image/png": "[encoded data removed]",
      "text/plain": [
       "<Figure size 432x288 with 1 Axes>"
      ]
     },
     "metadata": {
      "needs_background": "light"
     },
     "output_type": "display_data"
    }
   ],
   "source": [
    "def build_model_2_1():\n",
    "    model = models.Sequential()\n",
    "    model.add(layers.Conv2D(32, (3, 3), activation='relu', input_shape=(32, 32, 1)))\n",
    "    model.add(layers.MaxPooling2D((2, 2)))\n",
    "    model.add(layers.Conv2D(120, (3, 3), kernel_regularizer=regularizers.l2(0.0001), activation='relu'))\n",
    "    model.add(layers.Dropout(0.2))\n",
    "    model.add(layers.MaxPooling2D((2, 2)))\n",
    "    model.add(layers.Conv2D(440, (3, 3), kernel_regularizer=regularizers.l2(0.0001), activation='relu'))\n",
    "    model.add(layers.Dropout(0.2))\n",
    "    model.add(layers.Flatten())\n",
    "    model.add(layers.Dense(128, kernel_regularizer=regularizers.l2(0.0001), activation='relu'))\n",
    "    model.add(layers.Dropout(0.3))\n",
    "    model.add(layers.Dense(10, activation='softmax'))\n",
    "    model.compile(optimizer='adam',\n",
    "              loss='categorical_crossentropy',\n",
    "              metrics=['accuracy'])\n",
    "    \n",
    "    return model\n",
    "run_evaluation(\"model_2_1\", build_model_2_1, preprocessed_split, base_dir, \n",
    "               train=True, epochs=50, batch_size=64)\n",
    "answer_q_2_1 = \"\"\"\n",
    "The final network has around a 95% acurracy on training and 93% on validation. I started with a small 32 node layer, followed by\n",
    "the 120 and 1088 node layers. The 1088 layer however introduced too many params which resulted in significant overfitting.\n",
    "To reduce this I used 440 nodes (20*20+(20+20)) which reduced the overfitting. For the dense layer I used 128. This denses\n",
    "the data quite significant from 7040, but using a higher amount of nodes made the model overfit quite a lot (97% vs 92% val).\n",
    "A dropout rate of 0.3 after the dense layer and 0.2 in between layers gave good results. When using the Adam optimizer with a \n",
    "0.0001 learning rate as in previous exercises the performance slightly decreased, so the default implementation is used.\"\"\"\n",
    "print(\"Answer is {} characters long\".format(len(answer_q_2_1)))"
   ]
  },
  {
   "cell_type": "markdown",
   "metadata": {
    "colab_type": "text",
    "id": "EpdLTbPwXmOc"
   },
   "source": [
    "### Question 2.2: Data Augmentation (3 points)\n",
    "\n",
    "- Augment the preprocessed training data. You can explore using image shifts, rotations, zooming, flips, etc. What works well, and what does not?\n",
    "- Evaluate the model from question 2.1 with the augmented data using the 'run_evaluation' function. Store the new trained model as 'model_2_2'.\n",
    "- Add a description of your design choices in 'answer_q_2_2': explain what you did and also why. Also discuss the performance of the model."
   ]
  },
  {
   "cell_type": "code",
   "execution_count": 21,
   "metadata": {
    "colab": {
     "base_uri": "https://localhost:8080/",
     "height": 53
    },
    "colab_type": "code",
    "id": "cp8wMUU-aqhQ",
    "outputId": "4cdfe1e6-2c8f-4f19-ca46-cd283fe66113"
   },
   "outputs": [
    {
     "name": "stdout",
     "output_type": "stream",
     "text": [
      "\u001b[91mTraining the model\u001b[0m\n",
      "WARNING:tensorflow:sample_weight modes were coerced from\n",
      "  ...\n",
      "    to  \n",
      "  ['...']\n",
      "Train for 60 steps, validate on 15887 samples\n",
      "Epoch 1/100\n",
      "60/60 [==============================] - 2s 35ms/step - loss: 2.2786 - accuracy: 0.1891 - val_loss: 2.2451 - val_accuracy: 0.1911\n",
      "Epoch 2/100\n",
      "60/60 [==============================] - 1s 17ms/step - loss: 2.1076 - accuracy: 0.2672 - val_loss: 1.9199 - val_accuracy: 0.3240\n",
      "Epoch 3/100\n",
      "60/60 [==============================] - 1s 17ms/step - loss: 1.7047 - accuracy: 0.4326 - val_loss: 1.4682 - val_accuracy: 0.5313\n",
      "Epoch 4/100\n",
      "60/60 [==============================] - 1s 18ms/step - loss: 1.3869 - accuracy: 0.5469 - val_loss: 1.1915 - val_accuracy: 0.6427\n",
      "Epoch 5/100\n",
      "60/60 [==============================] - 1s 17ms/step - loss: 1.1856 - accuracy: 0.6320 - val_loss: 0.9895 - val_accuracy: 0.7128\n",
      "Epoch 6/100\n",
      "60/60 [==============================] - 1s 17ms/step - loss: 1.0664 - accuracy: 0.6763 - val_loss: 0.9146 - val_accuracy: 0.7451\n",
      "Epoch 7/100\n",
      "60/60 [==============================] - 1s 17ms/step - loss: 0.9627 - accuracy: 0.7151 - val_loss: 0.8130 - val_accuracy: 0.7833\n",
      "Epoch 8/100\n",
      "60/60 [==============================] - 1s 17ms/step - loss: 0.8694 - accuracy: 0.7365 - val_loss: 0.7439 - val_accuracy: 0.8013\n",
      "Epoch 9/100\n",
      "60/60 [==============================] - 1s 16ms/step - loss: 0.8448 - accuracy: 0.7453 - val_loss: 0.7462 - val_accuracy: 0.7998\n",
      "Epoch 10/100\n",
      "60/60 [==============================] - 1s 16ms/step - loss: 0.8123 - accuracy: 0.7773 - val_loss: 0.6820 - val_accuracy: 0.8154\n",
      "Epoch 11/100\n",
      "60/60 [==============================] - 1s 15ms/step - loss: 0.7802 - accuracy: 0.7784 - val_loss: 0.6657 - val_accuracy: 0.8173\n",
      "Epoch 12/100\n",
      "60/60 [==============================] - 1s 15ms/step - loss: 0.7485 - accuracy: 0.7914 - val_loss: 0.6312 - val_accuracy: 0.8351\n",
      "Epoch 13/100\n",
      "60/60 [==============================] - 1s 16ms/step - loss: 0.7515 - accuracy: 0.7917 - val_loss: 0.6390 - val_accuracy: 0.8370\n",
      "Epoch 14/100\n",
      "60/60 [==============================] - 1s 16ms/step - loss: 0.7155 - accuracy: 0.7974 - val_loss: 0.6437 - val_accuracy: 0.8282\n",
      "Epoch 15/100\n",
      "60/60 [==============================] - 1s 16ms/step - loss: 0.7021 - accuracy: 0.7958 - val_loss: 0.6285 - val_accuracy: 0.8286\n",
      "Epoch 16/100\n",
      "60/60 [==============================] - 1s 16ms/step - loss: 0.6912 - accuracy: 0.8039 - val_loss: 0.6014 - val_accuracy: 0.8394\n",
      "Epoch 17/100\n",
      "60/60 [==============================] - 1s 16ms/step - loss: 0.6672 - accuracy: 0.8177 - val_loss: 0.5983 - val_accuracy: 0.8360\n",
      "Epoch 18/100\n",
      "60/60 [==============================] - 1s 16ms/step - loss: 0.6763 - accuracy: 0.8091 - val_loss: 0.5657 - val_accuracy: 0.8532\n",
      "Epoch 19/100\n",
      "60/60 [==============================] - 1s 15ms/step - loss: 0.6843 - accuracy: 0.8152 - val_loss: 0.5687 - val_accuracy: 0.8506\n",
      "Epoch 20/100\n",
      "60/60 [==============================] - 1s 16ms/step - loss: 0.6544 - accuracy: 0.8253 - val_loss: 0.6130 - val_accuracy: 0.8457\n",
      "Epoch 21/100\n",
      "60/60 [==============================] - 1s 16ms/step - loss: 0.6323 - accuracy: 0.8268 - val_loss: 0.5532 - val_accuracy: 0.8552\n",
      "Epoch 22/100\n",
      "60/60 [==============================] - 1s 16ms/step - loss: 0.6498 - accuracy: 0.8273 - val_loss: 0.5518 - val_accuracy: 0.8599\n",
      "Epoch 23/100\n",
      "60/60 [==============================] - 1s 16ms/step - loss: 0.6110 - accuracy: 0.8332 - val_loss: 0.5401 - val_accuracy: 0.8627\n",
      "Epoch 24/100\n",
      "60/60 [==============================] - 1s 16ms/step - loss: 0.6327 - accuracy: 0.8297 - val_loss: 0.5319 - val_accuracy: 0.8644\n",
      "Epoch 25/100\n",
      "60/60 [==============================] - 1s 16ms/step - loss: 0.5889 - accuracy: 0.8458 - val_loss: 0.5236 - val_accuracy: 0.8645\n",
      "Epoch 26/100\n",
      "60/60 [==============================] - 1s 16ms/step - loss: 0.5976 - accuracy: 0.8438 - val_loss: 0.5440 - val_accuracy: 0.8616\n",
      "Epoch 27/100\n",
      "60/60 [==============================] - 1s 16ms/step - loss: 0.5757 - accuracy: 0.8516 - val_loss: 0.5232 - val_accuracy: 0.8685\n",
      "Epoch 28/100\n",
      "60/60 [==============================] - 1s 16ms/step - loss: 0.5798 - accuracy: 0.8495 - val_loss: 0.5205 - val_accuracy: 0.8713\n",
      "Epoch 29/100\n",
      "60/60 [==============================] - 1s 16ms/step - loss: 0.5660 - accuracy: 0.8464 - val_loss: 0.4955 - val_accuracy: 0.8753\n",
      "Epoch 30/100\n",
      "60/60 [==============================] - 1s 15ms/step - loss: 0.5577 - accuracy: 0.8516 - val_loss: 0.4986 - val_accuracy: 0.8736\n",
      "Epoch 31/100\n",
      "60/60 [==============================] - 1s 15ms/step - loss: 0.5781 - accuracy: 0.8510 - val_loss: 0.5021 - val_accuracy: 0.8746\n",
      "Epoch 32/100\n",
      "60/60 [==============================] - 1s 16ms/step - loss: 0.5756 - accuracy: 0.8518 - val_loss: 0.4831 - val_accuracy: 0.8757\n",
      "Epoch 33/100\n",
      "60/60 [==============================] - 1s 19ms/step - loss: 0.5456 - accuracy: 0.8641 - val_loss: 0.4892 - val_accuracy: 0.8762\n",
      "Epoch 34/100\n",
      "60/60 [==============================] - 2s 28ms/step - loss: 0.5605 - accuracy: 0.8557 - val_loss: 0.4789 - val_accuracy: 0.8833\n",
      "Epoch 35/100\n",
      "60/60 [==============================] - 1s 19ms/step - loss: 0.5347 - accuracy: 0.8659 - val_loss: 0.4837 - val_accuracy: 0.8797\n",
      "Epoch 36/100\n",
      "60/60 [==============================] - 1s 19ms/step - loss: 0.5443 - accuracy: 0.8630 - val_loss: 0.4923 - val_accuracy: 0.8776\n",
      "Epoch 37/100\n",
      "60/60 [==============================] - 1s 18ms/step - loss: 0.5635 - accuracy: 0.8578 - val_loss: 0.4909 - val_accuracy: 0.8783\n",
      "Epoch 38/100\n",
      "60/60 [==============================] - 1s 18ms/step - loss: 0.5276 - accuracy: 0.8594 - val_loss: 0.4747 - val_accuracy: 0.8859\n",
      "Epoch 39/100\n",
      "60/60 [==============================] - 1s 18ms/step - loss: 0.4987 - accuracy: 0.8732 - val_loss: 0.4779 - val_accuracy: 0.8837\n",
      "Epoch 40/100\n",
      "60/60 [==============================] - 1s 18ms/step - loss: 0.5389 - accuracy: 0.8687 - val_loss: 0.4830 - val_accuracy: 0.8778\n",
      "Epoch 41/100\n",
      "60/60 [==============================] - 1s 18ms/step - loss: 0.5498 - accuracy: 0.8557 - val_loss: 0.4880 - val_accuracy: 0.8785\n",
      "Epoch 42/100\n",
      "60/60 [==============================] - 1s 18ms/step - loss: 0.5101 - accuracy: 0.8729 - val_loss: 0.4747 - val_accuracy: 0.8845\n",
      "Epoch 43/100\n",
      "60/60 [==============================] - 1s 19ms/step - loss: 0.5155 - accuracy: 0.8695 - val_loss: 0.4685 - val_accuracy: 0.8864\n",
      "Epoch 44/100\n",
      "60/60 [==============================] - 1s 20ms/step - loss: 0.5036 - accuracy: 0.8698 - val_loss: 0.4726 - val_accuracy: 0.8810\n",
      "Epoch 45/100\n",
      "60/60 [==============================] - 1s 19ms/step - loss: 0.5300 - accuracy: 0.8677 - val_loss: 0.4657 - val_accuracy: 0.8891\n",
      "Epoch 46/100\n",
      "60/60 [==============================] - 1s 19ms/step - loss: 0.5060 - accuracy: 0.8742 - val_loss: 0.4591 - val_accuracy: 0.8915\n",
      "Epoch 47/100\n",
      "60/60 [==============================] - 1s 20ms/step - loss: 0.5085 - accuracy: 0.8760 - val_loss: 0.4748 - val_accuracy: 0.8907\n",
      "Epoch 48/100\n",
      "60/60 [==============================] - 1s 21ms/step - loss: 0.5018 - accuracy: 0.8776 - val_loss: 0.4585 - val_accuracy: 0.8885\n",
      "Epoch 49/100\n",
      "60/60 [==============================] - 1s 19ms/step - loss: 0.4856 - accuracy: 0.8839 - val_loss: 0.4623 - val_accuracy: 0.8885\n",
      "Epoch 50/100\n",
      "60/60 [==============================] - 1s 19ms/step - loss: 0.5039 - accuracy: 0.8740 - val_loss: 0.4513 - val_accuracy: 0.8925\n",
      "Epoch 51/100\n",
      "60/60 [==============================] - 1s 18ms/step - loss: 0.4750 - accuracy: 0.8828 - val_loss: 0.4383 - val_accuracy: 0.8949\n",
      "Epoch 52/100\n",
      "60/60 [==============================] - 1s 19ms/step - loss: 0.5255 - accuracy: 0.8711 - val_loss: 0.4566 - val_accuracy: 0.8877\n",
      "Epoch 53/100\n",
      "60/60 [==============================] - 1s 19ms/step - loss: 0.5115 - accuracy: 0.8786 - val_loss: 0.4487 - val_accuracy: 0.8918\n",
      "Epoch 54/100\n",
      "60/60 [==============================] - 1s 19ms/step - loss: 0.4498 - accuracy: 0.8938 - val_loss: 0.4598 - val_accuracy: 0.8905\n",
      "Epoch 55/100\n",
      "60/60 [==============================] - 1s 18ms/step - loss: 0.5354 - accuracy: 0.8643 - val_loss: 0.4456 - val_accuracy: 0.8992\n",
      "Epoch 56/100\n",
      "60/60 [==============================] - 1s 22ms/step - loss: 0.4985 - accuracy: 0.8807 - val_loss: 0.4697 - val_accuracy: 0.8924\n",
      "Epoch 57/100\n"
     ]
    },
    {
     "name": "stdout",
     "output_type": "stream",
     "text": [
      "60/60 [==============================] - 1s 19ms/step - loss: 0.5174 - accuracy: 0.8786 - val_loss: 0.4563 - val_accuracy: 0.8915\n",
      "Epoch 58/100\n",
      "60/60 [==============================] - 1s 18ms/step - loss: 0.5013 - accuracy: 0.8753 - val_loss: 0.4506 - val_accuracy: 0.8990\n",
      "Epoch 59/100\n",
      "60/60 [==============================] - 1s 18ms/step - loss: 0.4619 - accuracy: 0.8953 - val_loss: 0.4362 - val_accuracy: 0.8995\n",
      "Epoch 60/100\n",
      "60/60 [==============================] - 1s 19ms/step - loss: 0.4761 - accuracy: 0.8904 - val_loss: 0.4447 - val_accuracy: 0.8971\n",
      "Epoch 61/100\n",
      "60/60 [==============================] - 1s 20ms/step - loss: 0.4555 - accuracy: 0.8901 - val_loss: 0.4461 - val_accuracy: 0.8919\n",
      "Epoch 62/100\n",
      "60/60 [==============================] - 1s 18ms/step - loss: 0.4870 - accuracy: 0.8909 - val_loss: 0.4615 - val_accuracy: 0.8956\n",
      "Epoch 63/100\n",
      "60/60 [==============================] - 1s 18ms/step - loss: 0.4788 - accuracy: 0.8859 - val_loss: 0.4308 - val_accuracy: 0.9033\n",
      "Epoch 64/100\n",
      "60/60 [==============================] - 1s 19ms/step - loss: 0.5046 - accuracy: 0.8786 - val_loss: 0.4384 - val_accuracy: 0.8975\n",
      "Epoch 65/100\n",
      "60/60 [==============================] - 1s 17ms/step - loss: 0.4911 - accuracy: 0.8852 - val_loss: 0.4434 - val_accuracy: 0.8987\n",
      "Epoch 66/100\n",
      "60/60 [==============================] - 1s 17ms/step - loss: 0.4518 - accuracy: 0.8883 - val_loss: 0.4322 - val_accuracy: 0.8985\n",
      "Epoch 67/100\n",
      "60/60 [==============================] - 1s 18ms/step - loss: 0.4419 - accuracy: 0.8943 - val_loss: 0.4307 - val_accuracy: 0.8991\n",
      "Epoch 68/100\n",
      "60/60 [==============================] - 1s 16ms/step - loss: 0.4672 - accuracy: 0.8906 - val_loss: 0.4208 - val_accuracy: 0.9036\n",
      "Epoch 69/100\n",
      "60/60 [==============================] - 1s 16ms/step - loss: 0.4743 - accuracy: 0.8859 - val_loss: 0.4254 - val_accuracy: 0.8997\n",
      "Epoch 70/100\n",
      "60/60 [==============================] - 1s 16ms/step - loss: 0.4405 - accuracy: 0.8979 - val_loss: 0.4287 - val_accuracy: 0.8974\n",
      "Epoch 71/100\n",
      "60/60 [==============================] - 1s 16ms/step - loss: 0.4576 - accuracy: 0.8984 - val_loss: 0.4263 - val_accuracy: 0.8988\n",
      "Epoch 72/100\n",
      "60/60 [==============================] - 1s 17ms/step - loss: 0.4650 - accuracy: 0.8966 - val_loss: 0.4344 - val_accuracy: 0.9004\n",
      "Epoch 73/100\n",
      "60/60 [==============================] - 1s 17ms/step - loss: 0.4529 - accuracy: 0.8932 - val_loss: 0.4356 - val_accuracy: 0.8966\n",
      "Epoch 74/100\n",
      "60/60 [==============================] - 1s 17ms/step - loss: 0.4877 - accuracy: 0.8802 - val_loss: 0.4327 - val_accuracy: 0.9044\n",
      "Epoch 75/100\n",
      "60/60 [==============================] - 1s 17ms/step - loss: 0.4655 - accuracy: 0.8917 - val_loss: 0.4157 - val_accuracy: 0.9058\n",
      "Epoch 76/100\n",
      "60/60 [==============================] - 1s 18ms/step - loss: 0.4669 - accuracy: 0.8925 - val_loss: 0.4200 - val_accuracy: 0.9041\n",
      "Epoch 77/100\n",
      "60/60 [==============================] - 1s 22ms/step - loss: 0.4393 - accuracy: 0.9039 - val_loss: 0.4191 - val_accuracy: 0.9064\n",
      "Epoch 78/100\n",
      "60/60 [==============================] - 1s 19ms/step - loss: 0.4412 - accuracy: 0.9003 - val_loss: 0.4212 - val_accuracy: 0.9024\n",
      "Epoch 79/100\n",
      "60/60 [==============================] - 1s 19ms/step - loss: 0.4288 - accuracy: 0.8974 - val_loss: 0.4082 - val_accuracy: 0.9098\n",
      "Epoch 80/100\n",
      "60/60 [==============================] - 1s 17ms/step - loss: 0.4802 - accuracy: 0.8891 - val_loss: 0.4172 - val_accuracy: 0.9092\n",
      "Epoch 81/100\n",
      "60/60 [==============================] - 1s 16ms/step - loss: 0.4595 - accuracy: 0.8922 - val_loss: 0.4169 - val_accuracy: 0.9078\n",
      "Epoch 82/100\n",
      "60/60 [==============================] - 1s 17ms/step - loss: 0.4556 - accuracy: 0.8977 - val_loss: 0.4325 - val_accuracy: 0.9042\n",
      "Epoch 83/100\n",
      "60/60 [==============================] - 1s 16ms/step - loss: 0.4873 - accuracy: 0.8938 - val_loss: 0.4129 - val_accuracy: 0.9078\n",
      "Epoch 84/100\n",
      "60/60 [==============================] - 1s 16ms/step - loss: 0.4607 - accuracy: 0.8987 - val_loss: 0.4171 - val_accuracy: 0.9063\n",
      "Epoch 85/100\n",
      "60/60 [==============================] - 1s 16ms/step - loss: 0.4301 - accuracy: 0.8953 - val_loss: 0.4065 - val_accuracy: 0.9106\n",
      "Epoch 86/100\n",
      "60/60 [==============================] - 1s 16ms/step - loss: 0.4312 - accuracy: 0.9049 - val_loss: 0.4056 - val_accuracy: 0.9100\n",
      "Epoch 87/100\n",
      "60/60 [==============================] - 1s 18ms/step - loss: 0.4689 - accuracy: 0.8953 - val_loss: 0.4326 - val_accuracy: 0.9031\n",
      "Epoch 88/100\n",
      "60/60 [==============================] - 1s 17ms/step - loss: 0.4529 - accuracy: 0.8953 - val_loss: 0.4197 - val_accuracy: 0.9063\n",
      "Epoch 89/100\n",
      "60/60 [==============================] - 1s 18ms/step - loss: 0.4149 - accuracy: 0.9125 - val_loss: 0.4146 - val_accuracy: 0.9069\n",
      "Epoch 90/100\n",
      "60/60 [==============================] - 1s 16ms/step - loss: 0.4412 - accuracy: 0.8997 - val_loss: 0.4144 - val_accuracy: 0.9089\n",
      "Epoch 91/100\n",
      "60/60 [==============================] - 1s 16ms/step - loss: 0.4312 - accuracy: 0.8990 - val_loss: 0.4240 - val_accuracy: 0.9026\n",
      "Epoch 92/100\n",
      "60/60 [==============================] - 1s 17ms/step - loss: 0.4285 - accuracy: 0.9055 - val_loss: 0.4125 - val_accuracy: 0.9090\n",
      "Epoch 93/100\n",
      "60/60 [==============================] - 1s 18ms/step - loss: 0.4502 - accuracy: 0.8953 - val_loss: 0.4336 - val_accuracy: 0.9041\n",
      "Epoch 94/100\n",
      "60/60 [==============================] - 1s 17ms/step - loss: 0.4227 - accuracy: 0.9026 - val_loss: 0.4183 - val_accuracy: 0.9063\n",
      "Epoch 95/100\n",
      "60/60 [==============================] - 1s 17ms/step - loss: 0.4413 - accuracy: 0.9023 - val_loss: 0.4157 - val_accuracy: 0.9081\n",
      "Epoch 96/100\n",
      "60/60 [==============================] - 1s 17ms/step - loss: 0.4207 - accuracy: 0.9060 - val_loss: 0.4152 - val_accuracy: 0.9060\n",
      "Epoch 97/100\n",
      "60/60 [==============================] - 1s 17ms/step - loss: 0.4290 - accuracy: 0.9021 - val_loss: 0.4161 - val_accuracy: 0.9079\n",
      "Epoch 98/100\n",
      "60/60 [==============================] - 1s 20ms/step - loss: 0.4258 - accuracy: 0.9070 - val_loss: 0.4111 - val_accuracy: 0.9071\n",
      "Epoch 99/100\n",
      "60/60 [==============================] - 1s 17ms/step - loss: 0.4209 - accuracy: 0.9073 - val_loss: 0.4070 - val_accuracy: 0.9110\n",
      "Epoch 100/100\n",
      "60/60 [==============================] - 1s 16ms/step - loss: 0.4410 - accuracy: 0.9023 - val_loss: 0.4130 - val_accuracy: 0.9072\n",
      "\u001b[91mSaving to file\u001b[0m\n",
      "\u001b[91mModel stored in ./\u001b[0m\n",
      "Model: \"sequential_5\"\n",
      "_________________________________________________________________\n",
      "Layer (type)                 Output Shape              Param #   \n",
      "=================================================================\n",
      "conv2d_3 (Conv2D)            (None, 30, 30, 32)        320       \n",
      "_________________________________________________________________\n",
      "max_pooling2d_2 (MaxPooling2 (None, 15, 15, 32)        0         \n",
      "_________________________________________________________________\n",
      "conv2d_4 (Conv2D)            (None, 13, 13, 120)       34680     \n",
      "_________________________________________________________________\n",
      "dropout_3 (Dropout)          (None, 13, 13, 120)       0         \n",
      "_________________________________________________________________\n",
      "max_pooling2d_3 (MaxPooling2 (None, 6, 6, 120)         0         \n",
      "_________________________________________________________________\n",
      "conv2d_5 (Conv2D)            (None, 4, 4, 440)         475640    \n",
      "_________________________________________________________________\n",
      "dropout_4 (Dropout)          (None, 4, 4, 440)         0         \n",
      "_________________________________________________________________\n",
      "flatten_5 (Flatten)          (None, 7040)              0         \n",
      "_________________________________________________________________\n",
      "dense_14 (Dense)             (None, 128)               901248    \n",
      "_________________________________________________________________\n",
      "dropout_5 (Dropout)          (None, 128)               0         \n",
      "_________________________________________________________________\n",
      "dense_15 (Dense)             (None, 10)                1290      \n",
      "=================================================================\n",
      "Total params: 1,413,178\n",
      "Trainable params: 1,413,178\n",
      "Non-trainable params: 0\n",
      "_________________________________________________________________\n",
      "None\n",
      "         loss  accuracy  val_loss  val_accuracy\n",
      "min  0.414921  0.189063  0.405608      0.191100\n",
      "max  2.278603  0.912500  2.245148      0.910996\n",
      "Answer is 490 characters long\n"
     ]
    },
    {
     "data": {
      "image/png": "[encoded data removed]",
      "text/plain": [
       "<Figure size 432x288 with 1 Axes>"
      ]
     },
     "metadata": {
      "needs_background": "light"
     },
     "output_type": "display_data"
    }
   ],
   "source": [
    "# Note that we build the same untrained model as in question 2.1 but store the \n",
    "# trained version as model_2_2. Change attributes as needed to run on augmented\n",
    "# data\n",
    "from tensorflow.keras.preprocessing.image import ImageDataGenerator\n",
    "\n",
    "train_datagen = ImageDataGenerator()\n",
    "it_train = train_datagen.flow(rgb2gray(X_train), y_train, batch_size=64)\n",
    "\n",
    "augmented_split = it_train, rgb2gray(X_val), y_val\n",
    "\n",
    "run_evaluation(\"model_2_2\", build_model_2_1, augmented_split, base_dir, \n",
    "               train=True, generator=True, epochs=100, batch_size=None)\n",
    "answer_q_2_2 = \"\"\"\n",
    "Most augmentations worsen the performance. This is most likely due to the fact that most digits are already in the center of the\n",
    "image, with the image not showing much more than the digit (cropped). Also the shape of the digits is similar in almost all \n",
    "images, resulting in augmentation like zooming or shifting simply reducing the amount of information on the digit, thus \n",
    "worsining the performance. After a lot of testing I could not find any augmentation that improved the performance.\"\"\"\n",
    "print(\"Answer is {} characters long\".format(len(answer_q_2_2)))"
   ]
  },
  {
   "cell_type": "markdown",
   "metadata": {
    "colab_type": "text",
    "id": "Nb8jrFlnbBUP"
   },
   "source": [
    "## Part 3. Model interpretation (10 points)\n",
    "### Question 3.1: Interpreting misclassifications (2 points)\n",
    "Study which errors are still made by your last model (model_2_2) by evaluating it on the test data. You do not need to retrain the model.\n",
    "* What is the accuracy of model_2_2 on the test data? Store this in 'test_accuracy_3_1'.\n",
    "* Plot the confusion matrix in 'plot_confusion_matrix' and discuss which classes are often confused.\n",
    "* Visualize the misclassifications in more depth by focusing on a single\n",
    "class (e.g. the number '2') and analyse which kinds of mistakes are made for that class. For instance, are the errors related to the background, noisiness, etc.? Implement the visualization in 'plot_misclassifications'.\n",
    "* Summarize your findings in 'answer_q_3_1'"
   ]
  },
  {
   "cell_type": "code",
   "execution_count": 22,
   "metadata": {
    "colab": {},
    "colab_type": "code",
    "id": "yNg-7JsSbn2-"
   },
   "outputs": [
    {
     "name": "stdout",
     "output_type": "stream",
     "text": [
      "19858/19858 [==============================] - 2s 81us/sample - loss: 0.4121 - accuracy: 0.9099\n",
      "Answer is 466 characters long\n"
     ]
    }
   ],
   "source": [
    "from sklearn.metrics import confusion_matrix\n",
    "\n",
    "classes = [1,2,3,4,5,6,7,8,9,0]\n",
    "\n",
    "model = load_model_from_file(base_dir, \"model_2_2\")\n",
    "y_pred = model.predict(rgb2gray(X_test))\n",
    "misclassified_samples = np.nonzero(np.argmax(y_test, axis=1) != np.argmax(y_pred, axis=1))[0]\n",
    "test_accuracy_3_1 = model.evaluate(rgb2gray(X_test), y_test)[1]\n",
    "\n",
    "def plot_confusion_matrix():\n",
    "    cm = confusion_matrix(np.argmax(y_test, axis=1),np.argmax(y_pred, axis=1))\n",
    "    fig, ax = plt.subplots()\n",
    "    im = ax.imshow(cm)\n",
    "    ax.set_xticks(np.arange(10)), ax.set_yticks(np.arange(10))\n",
    "    ax.set_xticklabels(classes, rotation=45, ha=\"right\")\n",
    "    ax.set_yticklabels(classes)\n",
    "    ax.set_ylabel('True')\n",
    "    ax.set_xlabel('Predicted')\n",
    "    for i in range(100):\n",
    "        ax.text(int(i/10),i%10,cm[i%10,int(i/10)], ha=\"center\", va=\"center\", color=\"w\")\n",
    "    plt.show()\n",
    "    \n",
    "def plot_misclassifications():\n",
    "    for nr, i in enumerate(misclassified_samples[:50]):\n",
    "        if classes[np.argmax(y_test[i])] == 1:\n",
    "            plt.imshow(X_test[i])\n",
    "            plt.xlabel(\"Predicted: %s,\\n Actual : %s\" % (classes[np.argmax(y_pred[i])],classes[np.argmax(y_test[i])]))\n",
    "            plt.show();\n",
    "\n",
    "answer_q_3_1 = \"\"\"\n",
    "The accuracy on testing data is 91% and falls in line with what we expect when looking at our validation accuracy. We can see \n",
    "that the most misclassification happen when wrongly predicting 3. Digit 1 often got misclassified in general and when looking\n",
    "at the images we notice that for a lot the resolution is extremely low or the shape is different, with most 1s being just a \n",
    "line, but misclassified 1s having a big line at the top, making it look a lot like a 7.\"\"\"\n",
    "print(\"Answer is {} characters long\".format(len(answer_q_3_1)))"
   ]
  },
  {
   "cell_type": "markdown",
   "metadata": {
    "colab_type": "text",
    "id": "EBRdBpz5Hcrx"
   },
   "source": [
    "### Question 3.2: Visualizing activations (4 points)\n",
    "* Implement a function `plot_activations()` that returns the most interesting activations (feature maps). Select the first example from the test set. Retrieve and visualize the activations of model 2_2 for that example (make sure you load that model in the function), for every filter for different convolutional layers (at different depths in the network).\n",
    "* Give an explanation (as detailed as you can) about your observations in 'answer_q_3_2'. Is your model indeed learning something useful?"
   ]
  },
  {
   "cell_type": "code",
   "execution_count": 23,
   "metadata": {
    "colab": {},
    "colab_type": "code",
    "id": "TyQ-IHHcN5Qc"
   },
   "outputs": [
    {
     "name": "stdout",
     "output_type": "stream",
     "text": [
      "Answer is 290 characters long\n"
     ]
    }
   ],
   "source": [
    "def plot_activations():\n",
    "    images_per_row = 8\n",
    "    model = load_model_from_file(base_dir, \"model_2_2\")\n",
    "    \n",
    "    layer_names = []\n",
    "    for layer in model.layers:\n",
    "        layer_names.append(layer.name)\n",
    "        \n",
    "    img_tensor = rgb2gray(X_test)[0]\n",
    "    img_tensor = np.expand_dims(img_tensor, axis=0) \n",
    "\n",
    "    layer_outputs = [layer.output for layer in model.layers]\n",
    "    activation_model = models.Model(inputs=model.input, outputs=layer_outputs)\n",
    "    activations = activation_model.predict(img_tensor)\n",
    "    \n",
    "    i = 0\n",
    "    for layer_name, layer_activation in zip(layer_names[i:i+1], activations[i:i+1]):\n",
    "        n_features = layer_activation.shape[-1]\n",
    "        size = layer_activation.shape[1]\n",
    "\n",
    "        n_cols = n_features // images_per_row\n",
    "        display_grid = np.zeros((size * n_cols, images_per_row * size))\n",
    "\n",
    "        for col in range(n_cols):\n",
    "            for row in range(images_per_row):\n",
    "                channel_image = layer_activation[0,\n",
    "                                                 :, :,\n",
    "                                                 col * images_per_row + row]\n",
    "                channel_image -= channel_image.mean()\n",
    "                channel_image /= channel_image.std()\n",
    "                channel_image *= 64\n",
    "                channel_image += 128\n",
    "                channel_image = np.clip(channel_image, 0, 255).astype('uint8')\n",
    "                display_grid[col * size : (col + 1) * size,\n",
    "                             row * size : (row + 1) * size] = channel_image\n",
    "\n",
    "        scale = 1. / size\n",
    "        plt.figure(figsize=(scale * display_grid.shape[1],\n",
    "                            scale * display_grid.shape[0]))\n",
    "        plt.title(\"Activation of layer {} ({})\".format(i+1,layer_name))\n",
    "        plt.grid(False)\n",
    "        plt.imshow(display_grid, aspect='auto', cmap='viridis')\n",
    "\n",
    "    plt.show()\n",
    "    \n",
    "answer_q_3_2 = \"\"\"\n",
    "We only look at the first layer. Here we can clearly see cases where the model looks for edges, both on the sides as well as\n",
    "for the entire shapes. The reason we only look at this layer is because subsequent layers are too pixelated and we cannot \n",
    "see anything interesting on them anymore.\"\"\"\n",
    "print(\"Answer is {} characters long\".format(len(answer_q_3_2)))"
   ]
  },
  {
   "cell_type": "markdown",
   "metadata": {
    "colab_type": "text",
    "id": "6a4XT0-7Ym25"
   },
   "source": [
    "### Question 3.3: Visualizing activations (4 points)\n",
    "* Again, select the first example from the test set, and the trained model_2_2.\n",
    "* Implement a function `plot_activation_map()` that builds and shows a class activation map for your last convolutional layer that highlights what the model is paying attention to when classifying the example.\n",
    "* If possible, superimpossible the activation map over the image. If not, plot\n",
    "them side by side. Implement a function 'plot_3_3' that returns the entire plot."
   ]
  },
  {
   "cell_type": "code",
   "execution_count": 24,
   "metadata": {
    "colab": {},
    "colab_type": "code",
    "id": "vsmqYQl2ZZ4n"
   },
   "outputs": [],
   "source": [
    "from tensorflow.keras import backend as K\n",
    "from tensorflow.keras.applications.vgg16 import preprocess_input, decode_predictions\n",
    "import cv2\n",
    "\n",
    "def plot_activation_map():\n",
    "    model = load_model_from_file(base_dir, \"model_2_2\")\n",
    "    x = np.expand_dims(rgb2gray(X_test)[0], axis=0)\n",
    "    \n",
    "    with tf.GradientTape() as tape:\n",
    "        last_conv_layer = model.get_layer('conv2d_5')\n",
    "        iterate = tf.keras.models.Model([model.inputs], [model.output, last_conv_layer.output])\n",
    "        model_out, conv_layer_output_value = iterate([x])\n",
    "        class_out = model_out[:, 0]\n",
    "        grads = tape.gradient(class_out, conv_layer_output_value)\n",
    "        pooled_grads_value = K.mean(grads, axis=(0, 1, 2))\n",
    "    \n",
    "    heatmap = np.mean(conv_layer_output_value, axis=-1)\n",
    "    \n",
    "    heatmap = tf.reduce_mean(tf.multiply(pooled_grads_value, conv_layer_output_value), axis=-1)\n",
    "    heatmap = np.maximum(heatmap, 0)\n",
    "    heatmap /= np.max(heatmap)\n",
    "    \n",
    "    heatmap = heatmap.reshape((4,4))\n",
    "    \n",
    "    img = X_test[0]\n",
    "    heatmap = cv2.resize(heatmap, (img.shape[1], img.shape[0]))\n",
    "\n",
    "    heatmap = np.uint8(255 * heatmap)\n",
    "\n",
    "    heatmap = cv2.applyColorMap(heatmap, cv2.COLORMAP_JET)\n",
    "\n",
    "    superimposed_img = np.uint8(heatmap * 0.3 + (255*img))\n",
    "    \n",
    "    RGB_im = cv2.cvtColor(superimposed_img, cv2.COLOR_BGR2RGB)\n",
    "\n",
    "    plt.rcParams['figure.dpi'] = 120\n",
    "    plt.imshow(RGB_im)\n",
    "    plt.title('Class activation map')\n",
    "    plt.xticks([])\n",
    "    plt.yticks([])\n",
    "    plt.show()\n",
    "    \n",
    "    return heatmap, img\n",
    "\n",
    "def plot_3_3():\n",
    "\n",
    "    heatmap, img = plot_activation_map()\n",
    "    \n",
    "    plt.title('Original image')\n",
    "    plt.xticks([])\n",
    "    plt.yticks([])\n",
    "    plt.imshow(img)\n",
    "    plt.show()\n",
    "    \n",
    "    plt.title('Reshaped heatmap')\n",
    "    plt.xticks([])\n",
    "    plt.yticks([])\n",
    "    plt.imshow(heatmap)\n",
    "    plt.show()\n"
   ]
  },
  {
   "cell_type": "markdown",
   "metadata": {
    "colab_type": "text",
    "id": "buQLQ16EypgL"
   },
   "source": [
    "## Part 4. Transfer learning (10 points)\n",
    "### Question 4.1 Fast feature extraction with VGG16 (5 points)\n",
    "- Import the VGG16 model, pretrained on ImageNet. [See here](https://keras.io/applications/). Only import the convolutional part, not the dense layers.\n",
    "- Implement a function 'build_model_4_1` that adds a dense layer to the convolutional base, and freezes the convolutional base. Consider unfreezing the last few convolutional layers and evaluate whether that works better.\n",
    "- Train the resulting model on the *original* (colored) training data\n",
    "- Evaluate the resulting model using 'run_evaluate'. Discuss the observed performance in 'answer_q_4_1'."
   ]
  },
  {
   "cell_type": "code",
   "execution_count": 25,
   "metadata": {
    "colab": {
     "base_uri": "https://localhost:8080/",
     "height": 53
    },
    "colab_type": "code",
    "id": "QXH1Z7Pqj3HW",
    "outputId": "f16a8d67-a115-464a-d06d-f7eaacc9f905",
    "scrolled": true
   },
   "outputs": [
    {
     "name": "stdout",
     "output_type": "stream",
     "text": [
      "\u001b[91mTraining the model\u001b[0m\n",
      "Train on 63544 samples, validate on 15887 samples\n",
      "Epoch 1/10\n",
      "63544/63544 [==============================] - 24s 373us/sample - loss: 1.2270 - accuracy: 0.5914 - val_loss: 0.6977 - val_accuracy: 0.7693\n",
      "Epoch 2/10\n",
      "63544/63544 [==============================] - 22s 344us/sample - loss: 0.6977 - accuracy: 0.7805 - val_loss: 0.5538 - val_accuracy: 0.8212\n",
      "Epoch 3/10\n",
      "63544/63544 [==============================] - 21s 336us/sample - loss: 0.5842 - accuracy: 0.8193 - val_loss: 0.5017 - val_accuracy: 0.8413\n",
      "Epoch 4/10\n",
      "63544/63544 [==============================] - 21s 329us/sample - loss: 0.5122 - accuracy: 0.8416 - val_loss: 0.4646 - val_accuracy: 0.8514\n",
      "Epoch 5/10\n",
      "63544/63544 [==============================] - 21s 332us/sample - loss: 0.4656 - accuracy: 0.8569 - val_loss: 0.4416 - val_accuracy: 0.8588\n",
      "Epoch 6/10\n",
      "63544/63544 [==============================] - 22s 340us/sample - loss: 0.4245 - accuracy: 0.8721 - val_loss: 0.4189 - val_accuracy: 0.8662\n",
      "Epoch 7/10\n",
      "63544/63544 [==============================] - 21s 338us/sample - loss: 0.3924 - accuracy: 0.8820 - val_loss: 0.4382 - val_accuracy: 0.8596\n",
      "Epoch 8/10\n",
      "63544/63544 [==============================] - 22s 346us/sample - loss: 0.3642 - accuracy: 0.8900 - val_loss: 0.3953 - val_accuracy: 0.8751\n",
      "Epoch 9/10\n",
      "63544/63544 [==============================] - 21s 333us/sample - loss: 0.3364 - accuracy: 0.8993 - val_loss: 0.3947 - val_accuracy: 0.8796\n",
      "Epoch 10/10\n",
      "63544/63544 [==============================] - 22s 340us/sample - loss: 0.3138 - accuracy: 0.9057 - val_loss: 0.4010 - val_accuracy: 0.8783\n",
      "\u001b[91mSaving to file\u001b[0m\n",
      "Model larger than 100MB, storing weights only.\n",
      "\u001b[91mModel stored in ./\u001b[0m\n",
      "Model: \"sequential\"\n",
      "_________________________________________________________________\n",
      "Layer (type)                 Output Shape              Param #   \n",
      "=================================================================\n",
      "vgg16 (Model)                (None, 1, 1, 512)         14714688  \n",
      "_________________________________________________________________\n",
      "flatten (Flatten)            (None, 512)               0         \n",
      "_________________________________________________________________\n",
      "dense (Dense)                (None, 128)               65664     \n",
      "_________________________________________________________________\n",
      "dropout (Dropout)            (None, 128)               0         \n",
      "_________________________________________________________________\n",
      "dense_1 (Dense)              (None, 10)                1290      \n",
      "=================================================================\n",
      "Total params: 14,781,642\n",
      "Trainable params: 11,865,994\n",
      "Non-trainable params: 2,915,648\n",
      "_________________________________________________________________\n",
      "None\n",
      "         loss  accuracy  val_loss  val_accuracy\n",
      "min  0.313811  0.591417  0.394651      0.769308\n",
      "max  1.227049  0.905735  0.697688      0.879587\n",
      "Answer is 349 characters long\n"
     ]
    },
    {
     "data": {
      "image/png": "[encoded data removed]",
      "text/plain": [
       "<Figure size 432x288 with 1 Axes>"
      ]
     },
     "metadata": {
      "needs_background": "light"
     },
     "output_type": "display_data"
    }
   ],
   "source": [
    "from tensorflow.keras.applications.vgg16 import VGG16\n",
    "\n",
    "def build_model_4_1():\n",
    "    K.clear_session()\n",
    "    conv_base = VGG16(weights='imagenet', include_top=False, input_shape=(32, 32, 3))\n",
    "    model = models.Sequential()\n",
    "    model.add(conv_base)\n",
    "    model.add(layers.Flatten())\n",
    "    model.add(layers.Dense(128, activation='relu'))\n",
    "    model.add(layers.Dropout(0.5))\n",
    "    model.add(layers.Dense(10, activation='softmax'))\n",
    "    conv_base.trainable = True\n",
    "    set_trainable = False\n",
    "    for layer in conv_base.layers:\n",
    "        if layer.name == 'block4_conv2' or layer.name == 'block5_conv1':\n",
    "            set_trainable = True\n",
    "        if set_trainable:\n",
    "            layer.trainable = True\n",
    "        else:\n",
    "            layer.trainable = False\n",
    "    model.compile(optimizer=optimizers.Adam(lr=0.00001),\n",
    "              loss='categorical_crossentropy',\n",
    "              metrics=['accuracy'])\n",
    "    return model\n",
    "    \n",
    "run_evaluation(\"model_4_1\", build_model_4_1, evaluation_split, base_dir, \n",
    "               train=True, epochs=10, batch_size=64)\n",
    "answer_q_4_1 = \"\"\"\n",
    "The accuracy was significantly higher when unfreezing some layers. It went up to around 90%. To make sure not too many features\n",
    "were lost I used a learning rate of 0.00001. I used a dropout of 0.5 to reduce overfit, but even with this setting it starts \n",
    "to show some overfitting after 10 epochs. To speed up training a bit I use a batch size of 64.\"\"\"\n",
    "print(\"Answer is {} characters long\".format(len(answer_q_4_1)))"
   ]
  },
  {
   "cell_type": "markdown",
   "metadata": {
    "colab_type": "text",
    "id": "cp60rxZTYI8O"
   },
   "source": [
    "### Question 4.2 Embeddings and pipelines (5 points)\n",
    "- Generate embeddings of the original images by running them through the trained convolutional part of model_4_1 (without the dense layer) and returning the output. Embed the training and test data and store them to disk using the helper functions below. Implement a function `store_embeddings` that loads model_4_1 and stores all necessary embeddings to file. Make sure to run it once so that the embeddings are stored (and submitted).\n",
    "- Implement a function 'generate_pipeline' that returns an scikit-learn pipeline. You can use any non-deep learning technique (eg. SVMs, RFs,...), and preprocessing technique. You can do model selection using the validation set. \n",
    "- Implement a function 'evaluate_pipeline' that evaluates a given pipeline on a given training and test set. \n",
    "- Implement a function 'evaluation_4_2' that evaluates your pipeline on the embedded training and test set (loaded from file) and returns the accuracy. \n",
    "- Describe what you did and what you observed. Report the obtained accuracy score. Can you beat your best model thus far?"
   ]
  },
  {
   "cell_type": "code",
   "execution_count": 33,
   "metadata": {
    "colab": {
     "base_uri": "https://localhost:8080/",
     "height": 35
    },
    "colab_type": "code",
    "id": "IQo_zskOrs_m",
    "outputId": "f2b0314f-9953-43e6-c1c8-56f5cd7a5dcf"
   },
   "outputs": [
    {
     "name": "stdout",
     "output_type": "stream",
     "text": [
      "Pipeline: Pipeline(memory=None,\n",
      "         steps=[('scaler', Normalizer(copy=True, norm='l2')),\n",
      "                ('classifier',\n",
      "                 KNeighborsClassifier(algorithm='auto', leaf_size=30,\n",
      "                                      metric='minkowski', metric_params=None,\n",
      "                                      n_jobs=None, n_neighbors=5, p=2,\n",
      "                                      weights='uniform'))],\n",
      "         verbose=False)\n",
      "Answer is 190 characters long\n"
     ]
    }
   ],
   "source": [
    "import pickle\n",
    "import gzip\n",
    "from sklearn.pipeline import Pipeline\n",
    "from sklearn.preprocessing import Normalizer\n",
    "from sklearn.neighbors import KNeighborsClassifier\n",
    "\n",
    "def store_embedding(X, name):  \n",
    "    with gzip.open(os.path.join(base_dir, name+'_embedding.p'), 'wb') as file_pi:\n",
    "        pickle.dump(X, file_pi)\n",
    "\n",
    "def load_embedding(name):\n",
    "    with gzip.open(os.path.join(base_dir, name+'_embedding.p'), 'rb') as file_pi:\n",
    "    \n",
    "        return pickle.load(file_pi)\n",
    "\n",
    "def store_embeddings():\n",
    "    \"\"\" Stores all necessary embeddings to file\n",
    "    \"\"\"\n",
    "    old_model = load_model_from_file(base_dir, \"model_4_1\")\n",
    "    model = models.Sequential()\n",
    "    model.add(old_model.layers[0])\n",
    "    \n",
    "    store_embedding(model.predict(X_train), \"train\")\n",
    "    store_embedding(model.predict(X_test), \"test\")\n",
    "\n",
    "def generate_pipeline():\n",
    "    \"\"\" Returns an sklearn pipeline.\n",
    "    \"\"\"\n",
    "    final_pipe = Pipeline([\n",
    "        ('scaler', Normalizer()),\n",
    "        ('classifier', KNeighborsClassifier())\n",
    "    ])\n",
    "    \n",
    "    return final_pipe\n",
    "\n",
    "def evaluate_pipeline(pipeline, X_train, y_train, X_test, y_test):\n",
    "    \"\"\" Evaluates the given pipeline, trained on the given embedded training set and \n",
    "      evaluated on the supplied embedded test set. Returns the accuracy score.\n",
    "    \"\"\"\n",
    "    pipeline.fit(X_train, y_train)\n",
    "    return pipeline.score(X_test, y_test)\n",
    "\n",
    "def evaluation_4_2(X_train, y_train, X_test, y_test):\n",
    "    \"\"\" Runs 'evaluate_pipeline' with embedded versions of the input data \n",
    "    and returns the accuracy.\n",
    "    \"\"\"\n",
    "    X_emb_train = load_embedding(\"train\")\n",
    "    X_emb_test = load_embedding(\"test\")\n",
    "    X_emb_train = X_emb_train.reshape(X_emb_train.shape[0],X_emb_train.shape[-1])\n",
    "    X_emb_test = X_emb_test.reshape(X_emb_test.shape[0],X_emb_test.shape[-1])\n",
    "    pipeline = generate_pipeline()\n",
    "    \n",
    "    return evaluate_pipeline(pipeline, X_emb_train, y_train, X_emb_test, y_test)\n",
    "\n",
    "answer_q_4_2 = \"\"\"\n",
    "The best model had a score of around 95%. After testing multiple classifiers and preprocessors I did not manage to get higher \n",
    "than 87%, which is still slightly lower than the model in 4.1.\"\"\"\n",
    "print(\"Pipeline:\",generate_pipeline())\n",
    "print(\"Answer is {} characters long\".format(len(answer_q_4_2)))"
   ]
  },
  {
   "cell_type": "code",
   "execution_count": null,
   "metadata": {},
   "outputs": [],
   "source": []
  }
 ],
 "metadata": {
  "accelerator": "GPU",
  "anaconda-cloud": {},
  "colab": {
   "collapsed_sections": [],
   "machine_shape": "hm",
   "name": "Assignment 3 - Model Solution.ipynb",
   "provenance": []
  },
  "kernelspec": {
   "display_name": "Python 3",
   "language": "python",
   "name": "python3"
  },
  "language_info": {
   "codemirror_mode": {
    "name": "ipython",
    "version": 3
   },
   "file_extension": ".py",
   "mimetype": "text/x-python",
   "name": "python",
   "nbconvert_exporter": "python",
   "pygments_lexer": "ipython3",
   "version": "3.7.7"
  }
 },
 "nbformat": 4,
 "nbformat_minor": 4
}
