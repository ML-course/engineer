{
  "nbformat": 4,
  "nbformat_minor": 0,
  "metadata": {
    "anaconda-cloud": {},
    "colab": {
      "name": "Assignment 3.ipynb",
      "provenance": [],
      "collapsed_sections": [],
      "machine_shape": "hm"
    },
    "kernelspec": {
      "display_name": "Python 3",
      "language": "python",
      "name": "python3"
    },
    "language_info": {
      "codemirror_mode": {
        "name": "ipython",
        "version": 3
      },
      "file_extension": ".py",
      "mimetype": "text/x-python",
      "name": "python",
      "nbconvert_exporter": "python",
      "pygments_lexer": "ipython3",
      "version": "3.5.5"
    },
    "accelerator": "GPU"
  },
  "cells": [
    {
      "cell_type": "code",
      "metadata": {
        "colab_type": "code",
        "id": "uPiqHyC_MuLL",
        "colab": {}
      },
      "source": [
        "# Fill in your name using the format below and student ID number\n",
        "your_name = \"Chen, Yuxin\"\n",
        "student_id = \"1444794\""
      ],
      "execution_count": 0,
      "outputs": []
    },
    {
      "cell_type": "code",
      "metadata": {
        "id": "vCW6_VEaj5op",
        "colab_type": "code",
        "colab": {}
      },
      "source": [
        "# Before submission, set this to True so that you can render and verify this notebook without training deep learning models.\n",
        "# Any deep learning models will be trained from file instead.\n",
        "stop_training = True"
      ],
      "execution_count": 0,
      "outputs": []
    },
    {
      "cell_type": "code",
      "metadata": {
        "colab_type": "code",
        "id": "-rAuraOsM22r",
        "colab": {}
      },
      "source": [
        "# Uncomment the following line to run in Google Colab\n",
        "!pip install --quiet openml "
      ],
      "execution_count": 0,
      "outputs": []
    },
    {
      "cell_type": "code",
      "metadata": {
        "colab_type": "code",
        "id": "OS-d8ziENCs1",
        "outputId": "d3ebee14-6a15-463e-aec4-d3cd732f6871",
        "colab": {
          "base_uri": "https://localhost:8080/",
          "height": 34
        }
      },
      "source": [
        "# Uncomment the following line to run in Google Colab\n",
        "%tensorflow_version 2.x\n",
        "import tensorflow as tf\n",
        "tf.config.experimental.list_physical_devices('GPU') # Check whether GPUs are available"
      ],
      "execution_count": 8,
      "outputs": [
        {
          "output_type": "execute_result",
          "data": {
            "text/plain": [
              "[PhysicalDevice(name='/physical_device:GPU:0', device_type='GPU')]"
            ]
          },
          "metadata": {
            "tags": []
          },
          "execution_count": 8
        }
      ]
    },
    {
      "cell_type": "code",
      "metadata": {
        "colab_type": "code",
        "id": "-iTn6RmNMuLT",
        "colab": {}
      },
      "source": [
        "%matplotlib inline\n",
        "import openml as oml\n",
        "import numpy as np\n",
        "import matplotlib.pyplot as plt\n",
        "import sklearn"
      ],
      "execution_count": 0,
      "outputs": []
    },
    {
      "cell_type": "code",
      "metadata": {
        "colab_type": "code",
        "id": "brth0Z_TMuLZ",
        "outputId": "5e15f1cd-9ee6-4660-f7c2-9dee8c818162",
        "colab": {
          "base_uri": "https://localhost:8080/",
          "height": 34
        }
      },
      "source": [
        "from packaging import version\n",
        "import sklearn\n",
        "import tensorflow\n",
        "sklearn_version = sklearn.__version__\n",
        "tensorflow_version = tensorflow.__version__\n",
        "if version.parse(sklearn_version) < version.parse(\"0.22.0\"):\n",
        "    print(\"scikit-learn is outdated. Please update now!\")\n",
        "if version.parse(tensorflow_version) < version.parse(\"2.1.0\"):\n",
        "    print(\"Tensorflow is outdated. This is version {}. Please update to 2.1.\".format(tensorflow_version))\n",
        "else:\n",
        "    print(\"Hi{}, Looks good. You may continue :)\".format(your_name.split(\",\")[1]))"
      ],
      "execution_count": 8,
      "outputs": [
        {
          "output_type": "stream",
          "text": [
            "Hi Yuxin, Looks good. You may continue :)\n"
          ],
          "name": "stdout"
        }
      ]
    },
    {
      "cell_type": "markdown",
      "metadata": {
        "colab_type": "text",
        "id": "7kdeFjIGMuLv"
      },
      "source": [
        "# Assignment 3"
      ]
    },
    {
      "cell_type": "markdown",
      "metadata": {
        "colab_type": "text",
        "id": "ljhP8DXu-H4j"
      },
      "source": [
        "### Choice of libraries\n",
        "We recommend to use Tensorflow in this assignment since that is what we covered in the labs. If you feel confident using PyTorch (and Skorch for the scikit-learn wrapper), that is allowed too, as long as you are able to implement the requested functions and return the requested data. Read the assignment carefully and ensure that you can. Note that you may also need to do a bit more work to implement certain helper functions and wrappers."
      ]
    },
    {
      "cell_type": "markdown",
      "metadata": {
        "colab_type": "text",
        "id": "-BQG9Kp2EcPc"
      },
      "source": [
        "### Storing and submitting files\n",
        "You must be able to store your models and submit them to GitHub Classroom. The evaluation functions used in this notebook will automatically store models for you.\n",
        "\n",
        "If you want to run and solve the notebook on your local machine/laptop, fill in the path 'base_dir' to your assignment folder into the next cell.\n",
        "\n",
        "If you use Colab, we recommend that you link it to your Google Drive:  \n",
        "* Upload the assignment folder to your Google Drive (+ New > Folder Upload)\n",
        "* Open Colab in a browser, open the 'Files' menu in the left sidebar, and click 'Mount Drive'\n",
        "  * At this point you may need to authenticate\n",
        "* Fill in the path to your assignment folder below\n",
        "  * It's likely '/content/drive/My Drive/assignment-3-yourname'"
      ]
    },
    {
      "cell_type": "code",
      "metadata": {
        "colab_type": "code",
        "id": "aO6jTIIFHQNU",
        "colab": {}
      },
      "source": [
        "base_dir = '/content/drive/My Drive/assignment-3-hellojoannachan' # For Google Colab\n",
        "# base_dir = './'"
      ],
      "execution_count": 0,
      "outputs": []
    },
    {
      "cell_type": "code",
      "metadata": {
        "colab_type": "code",
        "id": "HKaM3mwrODBR",
        "outputId": "39494dc5-598f-4cde-e760-5107d2085ee7",
        "colab": {
          "base_uri": "https://localhost:8080/",
          "height": 34
        }
      },
      "source": [
        "#Uncomment to link Colab notebook to Google Drive\n",
        "from google.colab import drive\n",
        "drive.mount('/content/drive')"
      ],
      "execution_count": 11,
      "outputs": [
        {
          "output_type": "stream",
          "text": [
            "Drive already mounted at /content/drive; to attempt to forcibly remount, call drive.mount(\"/content/drive\", force_remount=True).\n"
          ],
          "name": "stdout"
        }
      ]
    },
    {
      "cell_type": "markdown",
      "metadata": {
        "colab_type": "text",
        "id": "D_BDIpWh92Dk"
      },
      "source": [
        "### Using GPUs\n",
        "While you can solve this assignment on a CPU, using a GPU will speed things up training quite a bit. If you have a local GPU, you can use that. If you don't, we recommend Google Colab. When you are in Colab:\n",
        "* In Runtime > Change runtime type, select the GPU under Hardware Accelerator\n",
        "* Run the 3rd cell on the top of this notebook to check that the GPU is found.\n",
        "\n",
        "Note that Colab may not always have GPUs ready all the time, and may deny you a GPU when you have used them a lot. When you are temporarily 'locked out', you can switch to a non-GPU runtime or to a local instance of Jupyter running on your machine."
      ]
    },
    {
      "cell_type": "markdown",
      "metadata": {
        "colab_type": "text",
        "id": "hq6oPNF546_5"
      },
      "source": [
        "### Constraints\n",
        "* Your stored models should not be larger than 100MB when stored in file. GitHub will not allow uploading if they are.\n",
        "* When questions ask you to provide an explanation, it should be less than 500\n",
        "characters long. Some questions have a higher limit. Always answer in full sentences.\n",
        "* Don't train for more than 100 epochs, i.e. don't throw excessing computational resources at the problem. If your model hasn't converged by then, think of ways it could be made to converge faster. In this assignment you are not after the last tiny improvement, you can stop when learning curves flatten out. Do at least 5 epochs to get a reasonable learning curve."
      ]
    },
    {
      "cell_type": "markdown",
      "metadata": {
        "colab_type": "text",
        "id": "h8wBDNspEvcY"
      },
      "source": [
        "### Grading\n",
        "Grading is based on the following aspects:\n",
        "* Correctness in answering the question. Carefully read the question and answer\n",
        "what is asked for. Train your models on the correct data. It should be clear on which data should be trained, but ask when in doubt. When something is not defined (e.g. the number of epochs or batch size), you can freely choose them.\n",
        "* Clarity of your explanations. Write short but precise descriptions of what you did and why. Give short but clear explanations of the observed performance. \n",
        "After your explanation, your approach and model should make perfect sense. Refrain from using symbols as substitute for words in your explanation (e.g. no: \"More layers -> more parameters\" yes: \"More layers mean more parameters\"). \n",
        "* Part of your grade depends on how well your model performs. When the question says 'you should at least get x%', x% will give you a good but not the maximal grade. You can get the full grade when you are close to what is the expected maximal performance. You don't need to invest lots of effort into the last tiny improvement, though. Unless specified, we look at the accuracy on the validation set. If your learning curves are very erratic we'll compute a score based on the smoothed curves (i.e. single peaks don't count).\n",
        "* The weight of each question is indicated. Take this into account when planning your time."
      ]
    },
    {
      "cell_type": "markdown",
      "metadata": {
        "colab_type": "text",
        "id": "KNyA5dEpR00Z"
      },
      "source": [
        "### Other tips\n",
        "* Don't wait until the last minute to do the assignment. The models take time to train, most questions will require some thinking, and some require you to read up on some new concepts.\n",
        "* Take care that you upload the results as requested. You need to submit not only the notebooks but also the trained models and learning curves (training histories). Be sure to run the verification script and check that all the results are included.\n",
        "* We provide an evaluation function that also stored models to disk. After you are done training the model, set the 'train' attribute to False so that the model doesn't train again (and loads from file instead) when you restart and rerun your notebook.\n",
        "* Explore. For many questions we'll ask you to explain your model design decisions. You cannot magically know the best solutions but you can experiment\n",
        "based on your understanding and make decisions based on both your knowledge and experiments. Your explanation is at least as important as the performance of your model.\n",
        "* Be original. We will check for plagiarism between student submissions."
      ]
    },
    {
      "cell_type": "markdown",
      "metadata": {
        "colab_type": "text",
        "id": "k0nKOZrPJTn8"
      },
      "source": [
        "### Data\n",
        "The [Street View House Numbers Dataset](https://www.openml.org/d/41081) contains 32-by-32 RGB images centered around a single digit of a house number appearing in Google Street View. Many of the images do contain some distractors at the sides. It consists of 10 classes, 1 for each digit. Digit '1' has label 1, '9' has label 9 and '0' has label 10. Your goal is to build models that recognize the correct digit."
      ]
    },
    {
      "cell_type": "markdown",
      "metadata": {
        "colab_type": "text",
        "id": "B8sOA7mEKOSp"
      },
      "source": [
        "If you use Colab, uncomment the following to cache the dataset inside the VM. This will make reloading faster if you need to restart your notebook. After longer periods of inactivity, your VM may be recycled and the cache lost, in which case the dataset will be downloaded again. Also note that this dataset is about 1Gb large, and will take even more space in memory. You may need to switch to a high-RAM environment (Colab will ask you if you hit the limit)."
      ]
    },
    {
      "cell_type": "code",
      "metadata": {
        "colab_type": "code",
        "id": "Wu9s9dnlJMP0",
        "colab": {}
      },
      "source": [
        "# Use OpenML caching in Colab\n",
        "# On your local machine, it will store data in a hidden folder '~/.openml'\n",
        "import os\n",
        "oml.config.cache_directory = os.path.expanduser('/content/cache')"
      ],
      "execution_count": 0,
      "outputs": []
    },
    {
      "cell_type": "code",
      "metadata": {
        "colab_type": "code",
        "id": "_3o_TT8SMuLy",
        "colab": {}
      },
      "source": [
        "# Download Streetview data. Takes a while (several minutes), and quite a bit of\n",
        "# memory when it needs to download. After caching it loads faster.\n",
        "SVHN = oml.datasets.get_dataset(41081)\n",
        "X, y, _, _ = SVHN.get_data(dataset_format='array',\n",
        "    target=SVHN.default_target_attribute)\n",
        "SVHN_classes = {0: \"1\", 1: \"2\", 2: \"3\", 3: \"4\", 4: \"5\",\n",
        "                 5: \"6\", 6: \"7\", 7: \"8\", 8: \"9\", 9: \"0\"}"
      ],
      "execution_count": 0,
      "outputs": []
    },
    {
      "cell_type": "markdown",
      "metadata": {
        "colab_type": "text",
        "id": "EPwHgeC3MuMI"
      },
      "source": [
        "Reshape, sample and split the data"
      ]
    },
    {
      "cell_type": "code",
      "metadata": {
        "colab_type": "code",
        "id": "3C14250QOGpL",
        "colab": {}
      },
      "source": [
        "from tensorflow.keras.utils import to_categorical\n",
        "\n",
        "Xr = X.reshape((len(X),32,32,3))\n",
        "Xr = Xr / 255.\n",
        "yr = to_categorical(y)"
      ],
      "execution_count": 0,
      "outputs": []
    },
    {
      "cell_type": "code",
      "metadata": {
        "colab_type": "code",
        "id": "sbxtRoDcMuMK",
        "colab": {}
      },
      "source": [
        "# DO NOT EDIT. DO NOT OVERWRITE THESE VARIABLES.\n",
        "from sklearn.model_selection import train_test_split\n",
        "# We do an 80-20 split for the training and test set, and then again a 80-20 split into training and validation data\n",
        "X_train_all, X_test, y_train_all, y_test = train_test_split(Xr,yr, stratify=yr, train_size=0.8, test_size=0.2, random_state=1)\n",
        "X_train, X_val, y_train, y_val = train_test_split(X_train_all,y_train_all, stratify=y_train_all, train_size=0.8, random_state=1)\n",
        "evaluation_split = X_train, X_val, y_train, y_val"
      ],
      "execution_count": 0,
      "outputs": []
    },
    {
      "cell_type": "markdown",
      "metadata": {
        "colab_type": "text",
        "id": "gUAf28y2O6ks"
      },
      "source": [
        "Check the formatting - and what the data looks like"
      ]
    },
    {
      "cell_type": "code",
      "metadata": {
        "colab_type": "code",
        "id": "QEWsr56hMuL8",
        "outputId": "60e0c1df-6c4c-4a91-d7fa-7c13b3a1cc9a",
        "colab": {
          "base_uri": "https://localhost:8080/",
          "height": 141
        }
      },
      "source": [
        "from random import randint\n",
        "\n",
        "# Takes a list of row ids, and plots the corresponding images\n",
        "# Use grayscale=True for plotting grayscale images\n",
        "def plot_images(X, y, grayscale=False):\n",
        "    fig, axes = plt.subplots(1, len(X),  figsize=(10, 5))\n",
        "    for n in range(len(X)):\n",
        "        if grayscale:\n",
        "            axes[n].imshow(X[n], cmap='gray')\n",
        "        else:\n",
        "            axes[n].imshow(X[n])\n",
        "        axes[n].set_xlabel((np.argmax(y[n])+1)%10) # Label is index+1\n",
        "        axes[n].set_xticks(()), axes[n].set_yticks(())\n",
        "    plt.show();\n",
        "\n",
        "images = [randint(0,len(X_train)) for i in range(5)]\n",
        "X_random = [X_train[i] for i in images]\n",
        "y_random = [y_train[i] for i in images]\n",
        "plot_images(X_random, y_random)"
      ],
      "execution_count": 0,
      "outputs": [
        {
          "output_type": "display_data",
          "data": {
            "image/png": "[encoded data removed]",
            "text/plain": [
              "<Figure size 720x360 with 5 Axes>"
            ]
          },
          "metadata": {
            "tags": []
          }
        }
      ]
    },
    {
      "cell_type": "markdown",
      "metadata": {
        "colab_type": "text",
        "id": "yUQ22FEawd-J"
      },
      "source": [
        "### Evaluation harness\n",
        "We provide an evaluation function 'run_evaluation' that you should use to \n",
        "evaluate all your models. It also stores the trained models to disk so that\n",
        "your submission can be quickly verified, as well as to avoid having to train\n",
        "them over and over again. Your last run of the evaluation function (the last one\n",
        "stored to file), is the one that will be evaluated. The 'train' argument indicates whether to train or to load from disk. We have provided helper functions for saving and loading models to/from file, assuming you use TensorFlow. If you use PyTorch you'll have to adapt them."
      ]
    },
    {
      "cell_type": "code",
      "metadata": {
        "colab_type": "code",
        "id": "SFGTq4mUV2zK",
        "colab": {}
      },
      "source": [
        "import os\n",
        "import pickle\n",
        "import pandas as pd\n",
        "import numpy as np\n",
        "from tensorflow.keras.models import load_model # for use with tensorflow\n",
        "\n",
        "def shout(text, verbose=1):\n",
        "    \"\"\" Prints text in red. Just for fun.\n",
        "    \"\"\"\n",
        "    if verbose>0:\n",
        "        print('\\033[91m'+text+'\\x1b[0m')\n",
        "\n",
        "def load_model_from_file(base_dir, name, extension='.h5'):\n",
        "    \"\"\" Loads a model from a file. The returned model must have a 'fit' and 'summary'\n",
        "    function following the Keras API. Don't change if you use TensorFlow. Otherwise,\n",
        "    adapt as needed. \n",
        "    Keyword arguments:\n",
        "    base_dir -- Directory where the models are stored\n",
        "    name -- Name of the model, e.g. 'question_1_1'\n",
        "    extension -- the file extension\n",
        "    \"\"\"\n",
        "    try:\n",
        "        model = load_model(os.path.join(base_dir, name+extension))\n",
        "    except OSError:\n",
        "        shout(\"Saved model could not be found. Was it trained and stored correctly? Is the base_dir correct?\")\n",
        "        return False\n",
        "    return model\n",
        "\n",
        "def save_model_to_file(model, base_dir, name, extension='.h5'):\n",
        "    \"\"\" Saves a model to file. Don't change if you use TensorFlow. Otherwise,\n",
        "    adapt as needed. \n",
        "    Keyword arguments:\n",
        "    model -- the model to be saved\n",
        "    base_dir -- Directory where the models should be stored\n",
        "    name -- Name of the model, e.g. 'question_1_1'\n",
        "    extension -- the file extension\n",
        "    \"\"\"\n",
        "    model.save(os.path.join(base_dir, name+extension))\n",
        "\n",
        "# Helper function to extract min/max from the learning curves\n",
        "def minMax(x):\n",
        "    return pd.Series(index=['min','max'],data=[x.min(),x.max()])\n",
        "\n",
        "# DO NOT EDIT\n",
        "def run_evaluation(name, model_builder, data, base_dir, train=True, \n",
        "                   generator=False, epochs=3, batch_size=32, steps_per_epoch=60, \n",
        "                   verbose=1, **kwargs):\n",
        "    \"\"\" Trains and evaluates the given model on the predefined train and test splits,\n",
        "    stores the trained model and learning curves. Also prints out a summary of the \n",
        "    model and plots the learning curves.\n",
        "    Keyword arguments:\n",
        "    name -- the name of the model to be stored, e.g. 'question_1_1.h5'\n",
        "    model_builder -- function that returns an (untrained) model. The model must \n",
        "                     have a 'fit' function that follows the Keras API. It can wrap\n",
        "                     a non-Keras model as long as the 'fit' function takes the \n",
        "                     same attributes and returns the learning curves (history).\n",
        "                     It also must have a 'summary' function that prints out a \n",
        "                     model summary, and a 'save' function that saves the model \n",
        "                     to disk. \n",
        "    data -- data split for evaluation. A tuple of either:\n",
        "            * Numpy arrays (X_train, X_val, y_train, y_val)\n",
        "            * A data generator and validation data (generator, X_val, y_val)\n",
        "    base_dir -- the directory to save or read models to/from\n",
        "    train -- whether or not the data should be trained. If False, the trained model\n",
        "             will be loaded from disk.\n",
        "    generator -- whether the data in given as a generator or not\n",
        "    epochs -- the number of epochs to train for\n",
        "    batch_size -- the batch size to train with\n",
        "    steps_per_epoch -- steps per epoch, in case a generator is used (ignored otherwise)\n",
        "    verbose -- verbosity level, 0: silent, 1: minimal,...\n",
        "    kwargs -- keyword arguments that should be passed to model_builder.\n",
        "              Not required, but may help you to adjust its behavior\n",
        "    \"\"\"\n",
        "    model = model_builder(**kwargs)\n",
        "    if not model:\n",
        "        shout(\"No model is returned by the model_builder\")\n",
        "        return\n",
        "    if not hasattr(model, 'fit'):\n",
        "        shout(\"Model is not built correctly\")\n",
        "        return\n",
        "    learning_curves = {}\n",
        "    if train and not stop_training: # Train anew\n",
        "        shout(\"Training the model\", verbose)\n",
        "        if generator:\n",
        "            generator, X_val, y_val = data\n",
        "            history = model.fit(generator, epochs=epochs, batch_size=batch_size,\n",
        "                              steps_per_epoch=steps_per_epoch, verbose=1, \n",
        "                              validation_data=(X_val, y_val))\n",
        "            learning_curves = history.history\n",
        "        else:\n",
        "            X_train, X_val, y_train, y_val = data\n",
        "            history = model.fit(X_train, y_train, epochs=epochs, batch_size=batch_size,\n",
        "                              verbose=1, validation_data=(X_val, y_val))\n",
        "            learning_curves = history.history\n",
        "        shout(\"Saving to file\", verbose)\n",
        "        save_model_to_file(model, base_dir, name)\n",
        "        with open(os.path.join(base_dir, name+'.p'), 'wb') as file_pi:\n",
        "            pickle.dump(learning_curves, file_pi)\n",
        "        shout(\"Model stored in \"+base_dir, verbose)\n",
        "    else: # Load from file\n",
        "        shout(\"Loading model from file\", verbose)\n",
        "        model = load_model_from_file(base_dir, name)\n",
        "        if not model:\n",
        "            shout(\"Model not found\")\n",
        "        return\n",
        "        learning_curves = None\n",
        "        try:\n",
        "            learning_curves = pickle.load(open(os.path.join(base_dir, name+'.p'), \"rb\"))\n",
        "        except FileNotFoundError:\n",
        "            shout(\"Learning curves not found\")\n",
        "        return\n",
        "        shout(\"Success!\", verbose)\n",
        "    # Report\n",
        "    print(model.summary())\n",
        "    lc = pd.DataFrame(learning_curves)\n",
        "    lc.plot(lw=2,style=['b:','r:','b-','r-']);\n",
        "    plt.xlabel('epochs');\n",
        "    print(lc.apply(minMax))"
      ],
      "execution_count": 0,
      "outputs": []
    },
    {
      "cell_type": "code",
      "metadata": {
        "colab_type": "code",
        "id": "FCzYq_jpkDZO",
        "outputId": "438b0610-6466-4ba9-b671-426fa6ae2067",
        "colab": {
          "base_uri": "https://localhost:8080/",
          "height": 750
        }
      },
      "source": [
        "# Toy usage example\n",
        "# # Remove before submission\n",
        "# from tensorflow.keras import models\n",
        "# from tensorflow.keras import layers \n",
        "\n",
        "# def build_toy_model():\n",
        "#     model = models.Sequential()\n",
        "#     model.add(layers.Reshape((3072,), input_shape=(32,32,3)))\n",
        "#     model.add(layers.Dense(10, activation='relu'))\n",
        "#     model.add(layers.Dense(10, activation='softmax'))\n",
        "#     model.compile(optimizer='rmsprop',\n",
        "#                   loss='categorical_crossentropy',\n",
        "#                   metrics=['accuracy'])\n",
        "#     return model\n",
        "\n",
        "# # First build and store\n",
        "# run_evaluation(\"toy_example\", build_toy_model, evaluation_split, base_dir, \n",
        "#                train=True, epochs=3, batch_size=32)"
      ],
      "execution_count": 0,
      "outputs": [
        {
          "output_type": "stream",
          "text": [
            "\u001b[91mTraining the model\u001b[0m\n",
            "Epoch 1/3\n",
            "1986/1986 [==============================] - 5s 2ms/step - loss: 2.2461 - accuracy: 0.1890 - val_loss: 2.2331 - val_accuracy: 0.1910\n",
            "Epoch 2/3\n",
            "1986/1986 [==============================] - 5s 2ms/step - loss: 2.2335 - accuracy: 0.1910 - val_loss: 2.2330 - val_accuracy: 0.1910\n",
            "Epoch 3/3\n",
            "1986/1986 [==============================] - 5s 2ms/step - loss: 2.2337 - accuracy: 0.1910 - val_loss: 2.2331 - val_accuracy: 0.1910\n",
            "\u001b[91mSaving to file\u001b[0m\n",
            "\u001b[91mModel stored in /content/drive/My Drive/assignment-3-hellojoannachan\u001b[0m\n",
            "Model: \"sequential_4\"\n",
            "_________________________________________________________________\n",
            "Layer (type)                 Output Shape              Param #   \n",
            "=================================================================\n",
            "reshape_1 (Reshape)          (None, 3072)              0         \n",
            "_________________________________________________________________\n",
            "dense_5 (Dense)              (None, 10)                30730     \n",
            "_________________________________________________________________\n",
            "dense_6 (Dense)              (None, 10)                110       \n",
            "=================================================================\n",
            "Total params: 30,840\n",
            "Trainable params: 30,840\n",
            "Non-trainable params: 0\n",
            "_________________________________________________________________\n",
            "None\n",
            "         loss  accuracy  val_loss  val_accuracy\n",
            "min  2.233477  0.189003  2.233046      0.190974\n",
            "max  2.246105  0.190954  2.233092      0.190974\n"
          ],
          "name": "stdout"
        },
        {
          "output_type": "display_data",
          "data": {
            "image/png": "[encoded data removed]",
            "text/plain": [
              "<Figure size 432x288 with 1 Axes>"
            ]
          },
          "metadata": {
            "tags": [],
            "needs_background": "light"
          }
        }
      ]
    },
    {
      "cell_type": "code",
      "metadata": {
        "colab_type": "code",
        "id": "vKkkQwwdta8r",
        "outputId": "88c91916-a1f9-49c5-da2b-86a51e4d80cb",
        "colab": {
          "base_uri": "https://localhost:8080/",
          "height": 34
        }
      },
      "source": [
        "# Toy usage example\n",
        "# Remove before submission\n",
        "# # With train=False: load from file and report the same results without rerunning\n",
        "# run_evaluation(\"toy_example\", build_toy_model, evaluation_split, base_dir, \n",
        "#                train=False)"
      ],
      "execution_count": 0,
      "outputs": [
        {
          "output_type": "stream",
          "text": [
            "\u001b[91mLoading model from file\u001b[0m\n"
          ],
          "name": "stdout"
        }
      ]
    },
    {
      "cell_type": "markdown",
      "metadata": {
        "colab_type": "text",
        "id": "IU_zPWGPypce"
      },
      "source": [
        "## Part 1. Dense networks (10 points)\n",
        "\n",
        "### Question 1.1: Baseline model (4 points)\n",
        "- Build a dense network (with only dense layers) of at least 3 layers that is shaped like a pyramid: The first layer must have many nodes, and every subsequent layer must have increasingly fewer nodes, e.g. half as many. Implement a function 'build_model_1_1' that returns this model.\n",
        "- You can explore different settings, but don't use any preprocessing or regularization yet. You should be able to achieve at least 70% accuracy, but more is of course better. Unless otherwise stated, you can use accuracy as the evaluation metric in all questions.\n",
        "* Add a small description of your design choices (max. 500 characters) in 'answer_q_1_1': explain what you did and also why. Also discuss the performance of the model. Is it working well? Both the performance of the model and your explanations matter.\n",
        "- The name of the model should be 'model_1_1'. Evaluate it using the 'run_evaluation' function. For this question, you should not use more than 50 epochs."
      ]
    },
    {
      "cell_type": "code",
      "metadata": {
        "colab_type": "code",
        "id": "hci6BIdHJTN0",
        "outputId": "d2e6317b-cd47-44f1-f968-86d7e00de351",
        "colab": {
          "base_uri": "https://localhost:8080/",
          "height": 1000
        }
      },
      "source": [
        "from tensorflow.keras import layers\n",
        "from tensorflow.keras import models\n",
        "\n",
        "def build_model_1_1():\n",
        "  model = models.Sequential()\n",
        "  model.add(layers.Reshape((3072,), input_shape=(32,32,3)))\n",
        "  model.add(layers.Dense(512, activation='relu', input_shape=(32*32*3,)))\n",
        "  # model.add(layers.Reshape((3072,), input_shape=(32,32,3)))\n",
        "  # model.add(layers.Conv2D(512, (3, 3), activation='relu', input_shape=(32*32*3,)))\n",
        "  # model.add(layers.MaxPooling2D((2, 2)))\n",
        "  model.add(layers.Dense(128, activation='relu'))\n",
        "  # model.add(layers.Flatten())\n",
        "  model.add(layers.Dense(10, activation='sigmoid'))\n",
        "\n",
        "  model.compile(optimizer='rmsprop',\n",
        "              loss='binary_crossentropy',\n",
        "              metrics=['accuracy'])\n",
        "  \n",
        "  # history = model.fit(X_train, y_train,\n",
        "  #                     epochs=50, batch_size=64, verbose=1,\n",
        "  #                     validation_data=(X_val, y_val))\n",
        "  return model\n",
        "\n",
        "\n",
        "run_evaluation(\"model_1_1\", build_model_1_1, evaluation_split, base_dir, \n",
        "               train=True, epochs=20, batch_size=128)\n",
        "answer_q_1_1 = \"\"\" \n",
        "First reshape the data because dense layers accept input in forms of (batch_xize, units), then add three dense layer.\n",
        "The input dimension was first reshaped to 3072 because of the input form of dense layer, then the dense layers decrease\n",
        "the dimension gradually. The dimension of the layers should not be too far apart, it will lose lots of information, \n",
        "then the accuracy will be low. Then 20 epochs and 128 batches are set to improve the performance. \n",
        "\"\"\"\n",
        "\n",
        "\n",
        "print(\"Answer is {} characters long\".format(len(answer_q_1_1)))"
      ],
      "execution_count": 0,
      "outputs": [
        {
          "output_type": "stream",
          "text": [
            "\u001b[91mTraining the model\u001b[0m\n",
            "Epoch 1/20\n",
            "497/497 [==============================] - 3s 7ms/step - loss: 0.3418 - accuracy: 0.2029 - val_loss: 0.3086 - val_accuracy: 0.2447\n",
            "Epoch 2/20\n",
            "497/497 [==============================] - 3s 7ms/step - loss: 0.2645 - accuracy: 0.4013 - val_loss: 0.2627 - val_accuracy: 0.3992\n",
            "Epoch 3/20\n",
            "497/497 [==============================] - 3s 7ms/step - loss: 0.2241 - accuracy: 0.5219 - val_loss: 0.2238 - val_accuracy: 0.5409\n",
            "Epoch 4/20\n",
            "497/497 [==============================] - 3s 7ms/step - loss: 0.2026 - accuracy: 0.5819 - val_loss: 0.2093 - val_accuracy: 0.5546\n",
            "Epoch 5/20\n",
            "497/497 [==============================] - 3s 7ms/step - loss: 0.1879 - accuracy: 0.6191 - val_loss: 0.1805 - val_accuracy: 0.6377\n",
            "Epoch 6/20\n",
            "497/497 [==============================] - 3s 7ms/step - loss: 0.1775 - accuracy: 0.6473 - val_loss: 0.1760 - val_accuracy: 0.6626\n",
            "Epoch 7/20\n",
            "497/497 [==============================] - 3s 7ms/step - loss: 0.1693 - accuracy: 0.6645 - val_loss: 0.2086 - val_accuracy: 0.5683\n",
            "Epoch 8/20\n",
            "497/497 [==============================] - 3s 7ms/step - loss: 0.1631 - accuracy: 0.6822 - val_loss: 0.1900 - val_accuracy: 0.6260\n",
            "Epoch 9/20\n",
            "497/497 [==============================] - 4s 7ms/step - loss: 0.1567 - accuracy: 0.6963 - val_loss: 0.1798 - val_accuracy: 0.6418\n",
            "Epoch 10/20\n",
            "497/497 [==============================] - 3s 7ms/step - loss: 0.1523 - accuracy: 0.7042 - val_loss: 0.1650 - val_accuracy: 0.6841\n",
            "Epoch 11/20\n",
            "497/497 [==============================] - 3s 7ms/step - loss: 0.1487 - accuracy: 0.7140 - val_loss: 0.1573 - val_accuracy: 0.7008\n",
            "Epoch 12/20\n",
            "497/497 [==============================] - 3s 7ms/step - loss: 0.1447 - accuracy: 0.7219 - val_loss: 0.1619 - val_accuracy: 0.6865\n",
            "Epoch 13/20\n",
            "497/497 [==============================] - 3s 7ms/step - loss: 0.1414 - accuracy: 0.7287 - val_loss: 0.1647 - val_accuracy: 0.6807\n",
            "Epoch 14/20\n",
            "497/497 [==============================] - 3s 7ms/step - loss: 0.1389 - accuracy: 0.7346 - val_loss: 0.1672 - val_accuracy: 0.6879\n",
            "Epoch 15/20\n",
            "497/497 [==============================] - 3s 7ms/step - loss: 0.1361 - accuracy: 0.7413 - val_loss: 0.1473 - val_accuracy: 0.7181\n",
            "Epoch 16/20\n",
            "497/497 [==============================] - 3s 7ms/step - loss: 0.1335 - accuracy: 0.7472 - val_loss: 0.1348 - val_accuracy: 0.7555\n",
            "Epoch 17/20\n",
            "497/497 [==============================] - 3s 7ms/step - loss: 0.1310 - accuracy: 0.7514 - val_loss: 0.1779 - val_accuracy: 0.6652\n",
            "Epoch 18/20\n",
            "497/497 [==============================] - 3s 7ms/step - loss: 0.1289 - accuracy: 0.7582 - val_loss: 0.1542 - val_accuracy: 0.7018\n",
            "Epoch 19/20\n",
            "497/497 [==============================] - 3s 7ms/step - loss: 0.1268 - accuracy: 0.7639 - val_loss: 0.1504 - val_accuracy: 0.7162\n",
            "Epoch 20/20\n",
            "497/497 [==============================] - 3s 7ms/step - loss: 0.1254 - accuracy: 0.7657 - val_loss: 0.1922 - val_accuracy: 0.6468\n",
            "\u001b[91mSaving to file\u001b[0m\n",
            "\u001b[91mModel stored in /content/drive/My Drive/assignment-3-hellojoannachan\u001b[0m\n",
            "Model: \"sequential\"\n",
            "_________________________________________________________________\n",
            "Layer (type)                 Output Shape              Param #   \n",
            "=================================================================\n",
            "reshape (Reshape)            (None, 3072)              0         \n",
            "_________________________________________________________________\n",
            "dense (Dense)                (None, 512)               1573376   \n",
            "_________________________________________________________________\n",
            "dense_1 (Dense)              (None, 128)               65664     \n",
            "_________________________________________________________________\n",
            "dense_2 (Dense)              (None, 10)                1290      \n",
            "=================================================================\n",
            "Total params: 1,640,330\n",
            "Trainable params: 1,640,330\n",
            "Non-trainable params: 0\n",
            "_________________________________________________________________\n",
            "None\n",
            "         loss  accuracy  val_loss  val_accuracy\n",
            "min  0.125369  0.202899  0.134805      0.244728\n",
            "max  0.341809  0.765674  0.308570      0.755523\n",
            "Answer is 456 characters long\n"
          ],
          "name": "stdout"
        },
        {
          "output_type": "display_data",
          "data": {
            "image/png": "[encoded data removed]",
            "text/plain": [
              "<Figure size 432x288 with 1 Axes>"
            ]
          },
          "metadata": {
            "tags": [],
            "needs_background": "light"
          }
        }
      ]
    },
    {
      "cell_type": "markdown",
      "metadata": {
        "colab_type": "text",
        "id": "kmicpoNvonjd"
      },
      "source": [
        "### Question 1.2: Preprocessing (2 points)\n",
        "Rerun the model, but now preprocess the data first by converting the images to \n",
        "greyscale. You can use the helper function below. If you want to do additional \n",
        "preprocessing, you can do that here, too.\n",
        "* Store the preprocessed data as a tuple `preprocessed_split`\n",
        "* Rerun and re-evaluate your model using the preprocessed data.\n",
        "  * For the remainder of the assignment, always use the preprocessed data\n",
        "* Explain what you did and interpret the results in 'answer_q_1_2'. Is the model\n",
        "  better, if so, why?"
      ]
    },
    {
      "cell_type": "code",
      "metadata": {
        "colab_type": "code",
        "id": "_wFGWDQSqkIM",
        "colab": {}
      },
      "source": [
        "# Luminance-preserving RGB to greyscale conversion\n",
        "def rgb2gray(X):\n",
        "    return np.expand_dims(np.dot(X, [0.2990, 0.5870, 0.1140]), axis=3)"
      ],
      "execution_count": 0,
      "outputs": []
    },
    {
      "cell_type": "code",
      "metadata": {
        "colab_type": "code",
        "id": "lmTAgJysHup0",
        "colab": {}
      },
      "source": [
        "# Replace with the preprocessed data\n",
        "X_train_preprocessed = rgb2gray(X_train)\n",
        "X_val_preprocessed = rgb2gray(X_val)\n",
        "preprocessed_split = X_train_preprocessed, X_val_preprocessed, y_train, y_val"
      ],
      "execution_count": 0,
      "outputs": []
    },
    {
      "cell_type": "code",
      "metadata": {
        "colab_type": "code",
        "id": "3aTVsLaojNeM",
        "outputId": "4b327d25-dcab-40b0-bdba-030eff33691c",
        "colab": {
          "base_uri": "https://localhost:8080/",
          "height": 1000
        }
      },
      "source": [
        "# Replace with the preprocessed data\n",
        "X_train_preprocessed = rgb2gray(X_train)\n",
        "X_val_preprocessed = rgb2gray(X_val)\n",
        "preprocessed_split = X_train_preprocessed, X_val_preprocessed, y_train, y_val\n",
        "\n",
        "# Adjusted model\n",
        "def build_model_1_2():  \n",
        "  model_1_2 = models.Sequential()  \n",
        "  model_1_2.add(layers.Reshape((1024,), input_shape=(32,32,1)))  \n",
        "  model_1_2.add(layers.Dense(512, activation='relu', input_shape=(32*32*1,)))  \n",
        "  # model.add(layers.Reshape((3072,), input_shape=(32,32,3)))\n",
        "  # model.add(layers.Conv2D(512, (3, 3), activation='relu', input_shape=(32*32*3,)))\n",
        "  # model.add(layers.MaxPooling2D((2, 2)))\n",
        "  model_1_2.add(layers.Dense(128, activation='relu'))\n",
        "  # model.add(layers.Flatten())\n",
        "  model_1_2.add(layers.Dense(10, activation='sigmoid'))\n",
        "\n",
        "  model_1_2.compile(optimizer='rmsprop',\n",
        "              loss='binary_crossentropy',\n",
        "              metrics=['accuracy'])  \n",
        "  return model_1_2\n",
        "\n",
        "# Evaluate. Use a new name 'model_1_2' to not overwrite the previous trained model\n",
        "run_evaluation(\"model_1_2\", build_model_1_2, preprocessed_split, base_dir, train=True, epochs=20, batch_size=128)\n",
        "\n",
        "answer_q_1_2 = \"\"\"\n",
        "First preprocess the data from color picture to gray, because the color does not matter in this question. Then \n",
        "the number of channel becomes 1 after transformation to gray. This model is slightly better, because with only \n",
        "one channel, the model has less information to be trained.\n",
        "\"\"\"\n",
        "print(\"Answer is {} characters long\".format(len(answer_q_1_2)))"
      ],
      "execution_count": 0,
      "outputs": [
        {
          "output_type": "stream",
          "text": [
            "\u001b[91mTraining the model\u001b[0m\n",
            "Epoch 1/20\n",
            "497/497 [==============================] - 2s 5ms/step - loss: 0.3203 - accuracy: 0.2399 - val_loss: 0.2803 - val_accuracy: 0.3533\n",
            "Epoch 2/20\n",
            "497/497 [==============================] - 2s 5ms/step - loss: 0.2424 - accuracy: 0.4669 - val_loss: 0.2366 - val_accuracy: 0.4927\n",
            "Epoch 3/20\n",
            "497/497 [==============================] - 2s 5ms/step - loss: 0.2090 - accuracy: 0.5619 - val_loss: 0.2054 - val_accuracy: 0.5729\n",
            "Epoch 4/20\n",
            "497/497 [==============================] - 2s 5ms/step - loss: 0.1907 - accuracy: 0.6102 - val_loss: 0.1991 - val_accuracy: 0.5783\n",
            "Epoch 5/20\n",
            "497/497 [==============================] - 2s 5ms/step - loss: 0.1781 - accuracy: 0.6433 - val_loss: 0.1897 - val_accuracy: 0.6102\n",
            "Epoch 6/20\n",
            "497/497 [==============================] - 2s 5ms/step - loss: 0.1675 - accuracy: 0.6665 - val_loss: 0.1691 - val_accuracy: 0.6675\n",
            "Epoch 7/20\n",
            "497/497 [==============================] - 2s 5ms/step - loss: 0.1598 - accuracy: 0.6836 - val_loss: 0.1669 - val_accuracy: 0.6660\n",
            "Epoch 8/20\n",
            "497/497 [==============================] - 2s 5ms/step - loss: 0.1530 - accuracy: 0.6993 - val_loss: 0.1767 - val_accuracy: 0.6547\n",
            "Epoch 9/20\n",
            "497/497 [==============================] - 2s 5ms/step - loss: 0.1478 - accuracy: 0.7120 - val_loss: 0.1766 - val_accuracy: 0.6503\n",
            "Epoch 10/20\n",
            "497/497 [==============================] - 2s 5ms/step - loss: 0.1425 - accuracy: 0.7224 - val_loss: 0.1560 - val_accuracy: 0.7006\n",
            "Epoch 11/20\n",
            "497/497 [==============================] - 2s 5ms/step - loss: 0.1386 - accuracy: 0.7345 - val_loss: 0.1429 - val_accuracy: 0.7305\n",
            "Epoch 12/20\n",
            "497/497 [==============================] - 2s 5ms/step - loss: 0.1347 - accuracy: 0.7421 - val_loss: 0.1398 - val_accuracy: 0.7407\n",
            "Epoch 13/20\n",
            "497/497 [==============================] - 2s 5ms/step - loss: 0.1308 - accuracy: 0.7513 - val_loss: 0.1595 - val_accuracy: 0.7040\n",
            "Epoch 14/20\n",
            "497/497 [==============================] - 2s 5ms/step - loss: 0.1278 - accuracy: 0.7581 - val_loss: 0.1434 - val_accuracy: 0.7295\n",
            "Epoch 15/20\n",
            "497/497 [==============================] - 2s 5ms/step - loss: 0.1255 - accuracy: 0.7633 - val_loss: 0.1266 - val_accuracy: 0.7670\n",
            "Epoch 16/20\n",
            "497/497 [==============================] - 2s 5ms/step - loss: 0.1227 - accuracy: 0.7694 - val_loss: 0.1373 - val_accuracy: 0.7400\n",
            "Epoch 17/20\n",
            "497/497 [==============================] - 2s 5ms/step - loss: 0.1199 - accuracy: 0.7768 - val_loss: 0.1433 - val_accuracy: 0.7297\n",
            "Epoch 18/20\n",
            "497/497 [==============================] - 2s 5ms/step - loss: 0.1180 - accuracy: 0.7789 - val_loss: 0.1284 - val_accuracy: 0.7640\n",
            "Epoch 19/20\n",
            "497/497 [==============================] - 2s 5ms/step - loss: 0.1155 - accuracy: 0.7843 - val_loss: 0.1582 - val_accuracy: 0.7006\n",
            "Epoch 20/20\n",
            "497/497 [==============================] - 2s 5ms/step - loss: 0.1136 - accuracy: 0.7881 - val_loss: 0.1407 - val_accuracy: 0.7439\n",
            "\u001b[91mSaving to file\u001b[0m\n",
            "\u001b[91mModel stored in /content/drive/My Drive/assignment-3-hellojoannachan\u001b[0m\n",
            "Model: \"sequential_1\"\n",
            "_________________________________________________________________\n",
            "Layer (type)                 Output Shape              Param #   \n",
            "=================================================================\n",
            "reshape_1 (Reshape)          (None, 1024)              0         \n",
            "_________________________________________________________________\n",
            "dense_3 (Dense)              (None, 512)               524800    \n",
            "_________________________________________________________________\n",
            "dense_4 (Dense)              (None, 128)               65664     \n",
            "_________________________________________________________________\n",
            "dense_5 (Dense)              (None, 10)                1290      \n",
            "=================================================================\n",
            "Total params: 591,754\n",
            "Trainable params: 591,754\n",
            "Non-trainable params: 0\n",
            "_________________________________________________________________\n",
            "None\n",
            "         loss  accuracy  val_loss  val_accuracy\n",
            "min  0.113635  0.239928  0.126604      0.353308\n",
            "max  0.320308  0.788052  0.280256      0.766979\n",
            "Answer is 284 characters long\n"
          ],
          "name": "stdout"
        },
        {
          "output_type": "display_data",
          "data": {
            "image/png": "[encoded data removed]",
            "text/plain": [
              "<Figure size 432x288 with 1 Axes>"
            ]
          },
          "metadata": {
            "tags": [],
            "needs_background": "light"
          }
        }
      ]
    },
    {
      "cell_type": "markdown",
      "metadata": {
        "colab_type": "text",
        "id": "7l1pHwimiWQI"
      },
      "source": [
        "### Question 1.3: Regularization and tuning (4 points)\n",
        "* Regularize the model. You can explore (and combine) different techniques. What works best?\n",
        "* Tune other hyperparameters (e.g. learning rate, batch size,...) as you see fit.\n",
        "* Explain your findings and final design decisions. Retrain the model again on the preprocessed data and discuss the results.\n",
        "* Return your model in function 'build_model_1_3' and write your answer in 'answer_q_1_3'"
      ]
    },
    {
      "cell_type": "code",
      "metadata": {
        "colab_type": "code",
        "id": "2ZZenVX1jDIQ",
        "outputId": "68810ba8-709f-4438-8952-3ca5b3bbe9cf",
        "colab": {
          "base_uri": "https://localhost:8080/",
          "height": 1000
        }
      },
      "source": [
        "from keras import regularizers\n",
        "from keras import optimizers\n",
        "def build_model_1_3():\n",
        "  model_1_3 = models.Sequential()\n",
        "  model_1_3.add(layers.Reshape((1024,), input_shape=(32,32,1)))\n",
        "  model_1_3.add(layers.Dense(512, activation='relu', input_shape=(32*32*1,)))\n",
        "  model_1_3.add(layers.BatchNormalization())\n",
        "  model_1_3.add(layers.Dense(128, activation='relu'))\n",
        "  model_1_3.add(layers.BatchNormalization())\n",
        "  model_1_3.add(layers.Dropout(0.1))\n",
        "  model_1_3.add(layers.Dense(10, activation='sigmoid'))\n",
        "\n",
        "  model_1_3.compile(optimizer='rmsprop',\n",
        "              loss='binary_crossentropy',\n",
        "              metrics=['accuracy'])\n",
        "  \n",
        "  return model_1_3\n",
        "  \n",
        "run_evaluation(\"model_1_3\", build_model_1_3, preprocessed_split, base_dir, \n",
        "               train=True, epochs=20, batch_size=128)\n",
        "answer_q_1_3 = \"\"\"\n",
        "The batch normalization and dropout methods increase the accuracy largely, because they limit the value of the output and can normalize the data,\n",
        "they enable the input data of the activation function to fall into the gradient unsaturated region. \n",
        "\"\"\"\n",
        "print(\"Answer is {} characters long\".format(len(answer_q_1_3)))"
      ],
      "execution_count": 0,
      "outputs": [
        {
          "output_type": "stream",
          "text": [
            "\u001b[91mTraining the model\u001b[0m\n",
            "Epoch 1/20\n",
            "497/497 [==============================] - 3s 7ms/step - loss: 0.3014 - accuracy: 0.5092 - val_loss: 0.5569 - val_accuracy: 0.3339\n",
            "Epoch 2/20\n",
            "497/497 [==============================] - 3s 6ms/step - loss: 0.1816 - accuracy: 0.6608 - val_loss: 0.2612 - val_accuracy: 0.5315\n",
            "Epoch 3/20\n",
            "497/497 [==============================] - 3s 6ms/step - loss: 0.1636 - accuracy: 0.7005 - val_loss: 0.2191 - val_accuracy: 0.5693\n",
            "Epoch 4/20\n",
            "497/497 [==============================] - 3s 6ms/step - loss: 0.1549 - accuracy: 0.7193 - val_loss: 0.2975 - val_accuracy: 0.4258\n",
            "Epoch 5/20\n",
            "497/497 [==============================] - 3s 6ms/step - loss: 0.1513 - accuracy: 0.7277 - val_loss: 0.3230 - val_accuracy: 0.4227\n",
            "Epoch 6/20\n",
            "497/497 [==============================] - 3s 6ms/step - loss: 0.1463 - accuracy: 0.7400 - val_loss: 0.2769 - val_accuracy: 0.4910\n",
            "Epoch 7/20\n",
            "497/497 [==============================] - 3s 6ms/step - loss: 0.1417 - accuracy: 0.7514 - val_loss: 0.2000 - val_accuracy: 0.6153\n",
            "Epoch 8/20\n",
            "497/497 [==============================] - 3s 6ms/step - loss: 0.1392 - accuracy: 0.7574 - val_loss: 0.1904 - val_accuracy: 0.6323\n",
            "Epoch 9/20\n",
            "497/497 [==============================] - 3s 6ms/step - loss: 0.1364 - accuracy: 0.7634 - val_loss: 0.1794 - val_accuracy: 0.6626\n",
            "Epoch 10/20\n",
            "497/497 [==============================] - 3s 6ms/step - loss: 0.1338 - accuracy: 0.7678 - val_loss: 0.1563 - val_accuracy: 0.7128\n",
            "Epoch 11/20\n",
            "497/497 [==============================] - 3s 6ms/step - loss: 0.1322 - accuracy: 0.7721 - val_loss: 0.1525 - val_accuracy: 0.7163\n",
            "Epoch 12/20\n",
            "497/497 [==============================] - 3s 6ms/step - loss: 0.1304 - accuracy: 0.7760 - val_loss: 0.1670 - val_accuracy: 0.6933\n",
            "Epoch 13/20\n",
            "497/497 [==============================] - 3s 6ms/step - loss: 0.1291 - accuracy: 0.7784 - val_loss: 0.1376 - val_accuracy: 0.7553\n",
            "Epoch 14/20\n",
            "497/497 [==============================] - 3s 6ms/step - loss: 0.1281 - accuracy: 0.7816 - val_loss: 0.1862 - val_accuracy: 0.6563\n",
            "Epoch 15/20\n",
            "497/497 [==============================] - 3s 6ms/step - loss: 0.1271 - accuracy: 0.7827 - val_loss: 0.1998 - val_accuracy: 0.6298\n",
            "Epoch 16/20\n",
            "497/497 [==============================] - 3s 6ms/step - loss: 0.1257 - accuracy: 0.7839 - val_loss: 0.1564 - val_accuracy: 0.7164\n",
            "Epoch 17/20\n",
            "497/497 [==============================] - 3s 6ms/step - loss: 0.1246 - accuracy: 0.7881 - val_loss: 0.1602 - val_accuracy: 0.7101\n",
            "Epoch 18/20\n",
            "497/497 [==============================] - 3s 6ms/step - loss: 0.1243 - accuracy: 0.7900 - val_loss: 0.2679 - val_accuracy: 0.5330\n",
            "Epoch 19/20\n",
            "497/497 [==============================] - 3s 6ms/step - loss: 0.1239 - accuracy: 0.7896 - val_loss: 0.1757 - val_accuracy: 0.6927\n",
            "Epoch 20/20\n",
            "497/497 [==============================] - 3s 6ms/step - loss: 0.1233 - accuracy: 0.7915 - val_loss: 0.2056 - val_accuracy: 0.6155\n",
            "\u001b[91mSaving to file\u001b[0m\n",
            "\u001b[91mModel stored in /content/drive/My Drive/assignment-3-hellojoannachan\u001b[0m\n",
            "Model: \"sequential_3\"\n",
            "_________________________________________________________________\n",
            "Layer (type)                 Output Shape              Param #   \n",
            "=================================================================\n",
            "reshape_3 (Reshape)          (None, 1024)              0         \n",
            "_________________________________________________________________\n",
            "dense_9 (Dense)              (None, 512)               524800    \n",
            "_________________________________________________________________\n",
            "batch_normalization_2 (Batch (None, 512)               2048      \n",
            "_________________________________________________________________\n",
            "dense_10 (Dense)             (None, 128)               65664     \n",
            "_________________________________________________________________\n",
            "batch_normalization_3 (Batch (None, 128)               512       \n",
            "_________________________________________________________________\n",
            "dropout_1 (Dropout)          (None, 128)               0         \n",
            "_________________________________________________________________\n",
            "dense_11 (Dense)             (None, 10)                1290      \n",
            "=================================================================\n",
            "Total params: 594,314\n",
            "Trainable params: 593,034\n",
            "Non-trainable params: 1,280\n",
            "_________________________________________________________________\n",
            "None\n",
            "         loss  accuracy  val_loss  val_accuracy\n",
            "min  0.123315  0.509238  0.137577      0.333921\n",
            "max  0.301406  0.791530  0.556943      0.755335\n",
            "Answer is 247 characters long\n"
          ],
          "name": "stdout"
        },
        {
          "output_type": "display_data",
          "data": {
            "image/png": "[encoded data removed]",
            "text/plain": [
              "<Figure size 432x288 with 1 Axes>"
            ]
          },
          "metadata": {
            "tags": [],
            "needs_background": "light"
          }
        }
      ]
    },
    {
      "cell_type": "markdown",
      "metadata": {
        "colab_type": "text",
        "id": "leo7YbI9L5et"
      },
      "source": [
        "## Part 2. Convolutional neural networks (10 points)\n",
        "### Question 2.1: Design a ConvNet (7 points)\n",
        "- Build a sequential convolutional neural network. Try to achieve the best validation accuracy you can. You should be able to get at least 90% accuracy. You can use any depth, any combination of layers, and any kind of regularization and tuning. \n",
        "- Add a description of your design choices in 'answer_q_2_1': explain what you did and also why. Also discuss the performance of the model. Is it working well? Both the performance of the model and your explanations matter.\n",
        "- You are allowed **800** characters for this answer (but don’t ramble).\n",
        "- The name of the model should be 'model_2_1'. Evaluate it using the 'run_evaluation' function and the preprocessed data."
      ]
    },
    {
      "cell_type": "code",
      "metadata": {
        "colab_type": "code",
        "id": "ceyv-n1JRYyP",
        "outputId": "91bd9ecc-7952-46fa-ab3f-57813dc2f305",
        "colab": {
          "base_uri": "https://localhost:8080/",
          "height": 1000
        }
      },
      "source": [
        "from tensorflow.keras import layers\n",
        "from tensorflow.keras import models\n",
        "\n",
        "def build_model_2_1():\n",
        "  model_2_1 = models.Sequential()\n",
        "  # model_1_2.add(layers.Reshape((1024,), input_shape=(32,32,1)))  \n",
        "  # model_1_2.add(layers.Dense(512, activation='relu', input_shape=(32*32*1,)))  \n",
        "  model_2_1.add(layers.Conv2D(512, (3, 3), activation='relu', padding='same', input_shape=(32, 32, 1)))\n",
        "  model_2_1.add(layers.BatchNormalization())\n",
        "  model_2_1.add(layers.MaxPooling2D((2, 2)))\n",
        "  model_2_1.add(layers.Conv2D(128, (3, 3), activation='relu', padding='same'))\n",
        "  model_2_1.add(layers.MaxPooling2D((2, 2)))\n",
        "  model_2_1.add(layers.Dropout(0.2))\n",
        "  model_2_1.add(layers.Flatten())\n",
        "  model_2_1.add(layers.Dense(128, activation='relu'))\n",
        "  model_2_1.add(layers.Dense(10, activation='softmax'))\n",
        "  model_2_1.compile(optimizer='rmsprop',\n",
        "                loss='categorical_crossentropy',\n",
        "                metrics=['accuracy'])\n",
        "  return model_2_1\n",
        "  # history = model.fit(X_train, y_train, epochs=50, batch_size=64, verbose=1,\n",
        "  #                     validation_data=(X_test, y_test))\n",
        "\n",
        "run_evaluation(\"model_2_1\", build_model_2_1, preprocessed_split, base_dir, \n",
        "               train=True, epochs=10, batch_size=128)\n",
        "answer_q_2_1 = \"\"\"\n",
        "The performance of this model is pretty good since the accuracy is higher that 0.9, but it is not fast enough.\n",
        "I add two Convolutional Neural Networks with regularizations like batch normalization and dropout, also the maxpooling. It does work better\n",
        "because the regularizations limit the value of the output and can normalize the data, they enable the input data of the activation function\n",
        "to fall into the gradient unsaturated region. The \"same\" padding can make the input image and output image have the same size. And the \n",
        "maxpooling layer makes the the long input become a fixed size and also solves the overfit problem. The epochs is 10 is just because I want\n",
        "to verify the model quicker, it does not change the learning result a lot.\n",
        "\n",
        "\"\"\"\n",
        "print(\"Answer is {} characters long\".format(len(answer_q_2_1)))"
      ],
      "execution_count": 0,
      "outputs": [
        {
          "output_type": "stream",
          "text": [
            "\u001b[91mTraining the model\u001b[0m\n",
            "Epoch 1/10\n",
            "497/497 [==============================] - 44s 89ms/step - loss: 0.8946 - accuracy: 0.7444 - val_loss: 1.6856 - val_accuracy: 0.6518\n",
            "Epoch 2/10\n",
            "497/497 [==============================] - 43s 87ms/step - loss: 0.4464 - accuracy: 0.8694 - val_loss: 0.4652 - val_accuracy: 0.8598\n",
            "Epoch 3/10\n",
            "497/497 [==============================] - 43s 87ms/step - loss: 0.3664 - accuracy: 0.8928 - val_loss: 0.5438 - val_accuracy: 0.8648\n",
            "Epoch 4/10\n",
            "497/497 [==============================] - 43s 86ms/step - loss: 0.3185 - accuracy: 0.9073 - val_loss: 0.3904 - val_accuracy: 0.8870\n",
            "Epoch 5/10\n",
            "497/497 [==============================] - 43s 86ms/step - loss: 0.2775 - accuracy: 0.9188 - val_loss: 0.3634 - val_accuracy: 0.8938\n",
            "Epoch 6/10\n",
            "497/497 [==============================] - 43s 86ms/step - loss: 0.2491 - accuracy: 0.9272 - val_loss: 0.4861 - val_accuracy: 0.8662\n",
            "Epoch 7/10\n",
            "497/497 [==============================] - 43s 86ms/step - loss: 0.2216 - accuracy: 0.9366 - val_loss: 0.5834 - val_accuracy: 0.8686\n",
            "Epoch 8/10\n",
            "497/497 [==============================] - 43s 87ms/step - loss: 0.2040 - accuracy: 0.9413 - val_loss: 1.4940 - val_accuracy: 0.8348\n",
            "Epoch 9/10\n",
            "497/497 [==============================] - 43s 86ms/step - loss: 0.1841 - accuracy: 0.9459 - val_loss: 0.4070 - val_accuracy: 0.8969\n",
            "Epoch 10/10\n",
            "497/497 [==============================] - 43s 86ms/step - loss: 0.1703 - accuracy: 0.9500 - val_loss: 0.4909 - val_accuracy: 0.8684\n",
            "\u001b[91mSaving to file\u001b[0m\n",
            "\u001b[91mModel stored in /content/drive/My Drive/assignment-3-hellojoannachan\u001b[0m\n",
            "Model: \"sequential_4\"\n",
            "_________________________________________________________________\n",
            "Layer (type)                 Output Shape              Param #   \n",
            "=================================================================\n",
            "conv2d (Conv2D)              (None, 32, 32, 512)       5120      \n",
            "_________________________________________________________________\n",
            "batch_normalization_4 (Batch (None, 32, 32, 512)       2048      \n",
            "_________________________________________________________________\n",
            "max_pooling2d (MaxPooling2D) (None, 16, 16, 512)       0         \n",
            "_________________________________________________________________\n",
            "conv2d_1 (Conv2D)            (None, 16, 16, 128)       589952    \n",
            "_________________________________________________________________\n",
            "max_pooling2d_1 (MaxPooling2 (None, 8, 8, 128)         0         \n",
            "_________________________________________________________________\n",
            "dropout_2 (Dropout)          (None, 8, 8, 128)         0         \n",
            "_________________________________________________________________\n",
            "flatten (Flatten)            (None, 8192)              0         \n",
            "_________________________________________________________________\n",
            "dense_12 (Dense)             (None, 128)               1048704   \n",
            "_________________________________________________________________\n",
            "dense_13 (Dense)             (None, 10)                1290      \n",
            "=================================================================\n",
            "Total params: 1,647,114\n",
            "Trainable params: 1,646,090\n",
            "Non-trainable params: 1,024\n",
            "_________________________________________________________________\n",
            "None\n",
            "         loss  accuracy  val_loss  val_accuracy\n",
            "min  0.170294  0.744413  0.363433      0.651791\n",
            "max  0.894625  0.949972  1.685635      0.896897\n",
            "Answer is 44 characters long\n"
          ],
          "name": "stdout"
        },
        {
          "output_type": "display_data",
          "data": {
            "image/png": "[encoded data removed]",
            "text/plain": [
              "<Figure size 432x288 with 1 Axes>"
            ]
          },
          "metadata": {
            "tags": [],
            "needs_background": "light"
          }
        }
      ]
    },
    {
      "cell_type": "markdown",
      "metadata": {
        "colab_type": "text",
        "id": "EpdLTbPwXmOc"
      },
      "source": [
        "### Question 2.2: Data Augmentation (3 points)\n",
        "\n",
        "- Augment the preprocessed training data. You can explore using image shifts, rotations, zooming, flips, etc. What works well, and what does not?\n",
        "- Evaluate the model from question 2.1 with the augmented data using the 'run_evaluation' function. Store the new trained model as 'model_2_2'.\n",
        "- Add a description of your design choices in 'answer_q_2_2': explain what you did and also why. Also discuss the performance of the model."
      ]
    },
    {
      "cell_type": "code",
      "metadata": {
        "colab_type": "code",
        "id": "cp8wMUU-aqhQ",
        "outputId": "af3fdae8-6196-46bc-926a-1f0e933da395",
        "colab": {
          "base_uri": "https://localhost:8080/",
          "height": 238
        }
      },
      "source": [
        "# Note that we build the same untrained model as in question 2.1 but store the \n",
        "# trained version as model_2_2. Change attributes as needed to run on augmented\n",
        "# data\n",
        "from tensorflow.keras.preprocessing.image import ImageDataGenerator\n",
        "\n",
        "train_datagen = ImageDataGenerator(\n",
        "      width_shift_range=0.1,\n",
        "      height_shift_range=0.1,\n",
        "      shear_range=0.2,\n",
        "      zoom_range=0.2,\n",
        "      horizontal_flip=False,\n",
        "      fill_mode='nearest'\n",
        "      )\n",
        "it_train = train_datagen.flow(X_train_preprocessed, y_train, batch_size=64)\n",
        "# X_test_preprocessed = rgb2gray(X_test)\n",
        "# test_datagen = ImageDataGenerator(rescale=1./255)\n",
        "# validation_generator = test_datagen.flow(X_val_preprocessed, y_val, batch_size=64)\n",
        "augmented_split = it_train, X_val_preprocessed, y_val\n",
        "# augmented_split = it_drain, X_test_preprocessed, y_test\n",
        "\n",
        "run_evaluation(\"model_2_2\", build_model_2_1, augmented_split, base_dir, \n",
        "               train=True, generator=True, epochs=10, batch_size=64, steps_per_epoch=X_train_preprocessed.shape[0]//64)\n",
        "# steps_per_epoch=X_train_pre.shape[0]//64\n",
        "answer_q_2_2 = \"\"\"\n",
        "To augment the data, I add a ImageDataGenerator to generate new images via image transformations, it allows the pictures to shift, zoom \n",
        "and shear. Horizontal flip and Rotation will decrease the accuracy by about 0.1, so I delete the rotation parameter and disable the \n",
        "horizontal_flip. Also, the shift range of width and height is also important, value around 0.1 like 0.05 and 0.2 decrease the accuracy\n",
        "by 0.1, and 0.1 is the best choice. This model performs really similar to the last one.\n",
        "\"\"\"\n",
        "print(\"Answer is {} characters long\".format(len(answer_q_2_2)))"
      ],
      "execution_count": 0,
      "outputs": [
        {
          "output_type": "error",
          "ename": "NameError",
          "evalue": "ignored",
          "traceback": [
            "\u001b[0;31m---------------------------------------------------------------------------\u001b[0m",
            "\u001b[0;31mNameError\u001b[0m                                 Traceback (most recent call last)",
            "\u001b[0;32m<ipython-input-2-fcc31c4df841>\u001b[0m in \u001b[0;36m<module>\u001b[0;34m()\u001b[0m\n\u001b[1;32m      9\u001b[0m       \u001b[0mfill_mode\u001b[0m\u001b[0;34m=\u001b[0m\u001b[0;34m'nearest'\u001b[0m\u001b[0;34m\u001b[0m\u001b[0;34m\u001b[0m\u001b[0m\n\u001b[1;32m     10\u001b[0m       )\n\u001b[0;32m---> 11\u001b[0;31m \u001b[0mit_train\u001b[0m \u001b[0;34m=\u001b[0m \u001b[0mtrain_datagen\u001b[0m\u001b[0;34m.\u001b[0m\u001b[0mflow\u001b[0m\u001b[0;34m(\u001b[0m\u001b[0mX_train_preprocessed\u001b[0m\u001b[0;34m,\u001b[0m \u001b[0my_train\u001b[0m\u001b[0;34m,\u001b[0m \u001b[0mbatch_size\u001b[0m\u001b[0;34m=\u001b[0m\u001b[0;36m64\u001b[0m\u001b[0;34m)\u001b[0m\u001b[0;34m\u001b[0m\u001b[0;34m\u001b[0m\u001b[0m\n\u001b[0m\u001b[1;32m     12\u001b[0m \u001b[0;31m# X_test_preprocessed = rgb2gray(X_test)\u001b[0m\u001b[0;34m\u001b[0m\u001b[0;34m\u001b[0m\u001b[0;34m\u001b[0m\u001b[0m\n\u001b[1;32m     13\u001b[0m \u001b[0;31m# test_datagen = ImageDataGenerator(rescale=1./255)\u001b[0m\u001b[0;34m\u001b[0m\u001b[0;34m\u001b[0m\u001b[0;34m\u001b[0m\u001b[0m\n",
            "\u001b[0;31mNameError\u001b[0m: name 'X_train_preprocessed' is not defined"
          ]
        }
      ]
    },
    {
      "cell_type": "markdown",
      "metadata": {
        "colab_type": "text",
        "id": "Nb8jrFlnbBUP"
      },
      "source": [
        "## Part 3. Model interpretation (10 points)\n",
        "### Question 3.1: Interpreting misclassifications (2 points)\n",
        "Study which errors are still made by your last model (model_2_2) by evaluating it on the test data. You do not need to retrain the model.\n",
        "* What is the accuracy of model_2_2 on the test data? Store this in 'test_accuracy_3_1'.\n",
        "* Plot the confusion matrix in 'plot_confusion_matrix' and discuss which classes are often confused.\n",
        "* Visualize the misclassifications in more depth by focusing on a single\n",
        "class (e.g. the number '2') and analyse which kinds of mistakes are made for that class. For instance, are the errors related to the background, noisiness, etc.? Implement the visualization in 'plot_misclassifications'.\n",
        "* Summarize your findings in 'answer_q_3_1'"
      ]
    },
    {
      "cell_type": "code",
      "metadata": {
        "colab_type": "code",
        "id": "yNg-7JsSbn2-",
        "outputId": "0247215c-6a58-4f0b-d27c-1acbe16c6612",
        "colab": {
          "base_uri": "https://localhost:8080/",
          "height": 34
        }
      },
      "source": [
        "test_accuracy_3_1 = 0.898\n",
        "\n",
        "from sklearn.metrics import confusion_matrix\n",
        "from tensorflow.keras import models\n",
        "\n",
        "model_3_1 = load_model_from_file(base_dir, \"model_2_2\")\n",
        "X_test_preprocessed = rgb2gray(X_test)\n",
        "y_pred = model_3_1.predict(X_test_preprocessed)\n",
        "misclassified_samples = np.nonzero(np.argmax(y_test, axis=1) != np.argmax(y_pred, axis=1))[0]\n",
        "# axes[n].set_xlabel((np.argmax(y[n])+1)%10)\n",
        "\n",
        "def plot_confusion_matrix():\n",
        "  cm = confusion_matrix(np.argmax(y_test, axis=1),np.argmax(y_pred, axis=1))\n",
        "  fig, ax = plt.subplots()\n",
        "  im = ax.imshow(cm)\n",
        "  ax.set_xticks(np.arange(10)), ax.set_yticks(np.arange(10))\n",
        "  ax.set_xticklabels(list(SVHN_classes.values()), ha=\"right\")\n",
        "  ax.set_yticklabels(list(SVHN_classes.values()))\n",
        "  ax.set_ylabel('True')\n",
        "  ax.set_xlabel('Predicted')\n",
        "  for i in range(100):\n",
        "      ax.text(int(i/10),i%10,cm[i%10,int(i/10)], ha=\"center\", va=\"center\", color=\"w\")\n",
        "\n",
        "def plot_misclassifications():\n",
        "  # Visualize the (first five) misclassifications, together with the predicted and actual class\n",
        "  fig, axes = plt.subplots(1, 5,  figsize=(10, 5))\n",
        "  for nr, i in enumerate(misclassified_samples[:5]):\n",
        "      axes[nr].imshow(X_test[i])\n",
        "      axes[nr].set_xlabel(\"Predicted: %s,\\n Actual : %s\" %(SVHN_classes[np.argmax(y_pred[i])],SVHN_classes[np.argmax(y_test[i])]))\n",
        "      axes[nr].set_xticks(()), axes[nr].set_yticks(())\n",
        "\n",
        "  plt.show();\n",
        "answer_q_3_1 = \"\"\"\n",
        "Numbers with an angle like 1,4,7 are often misidentified as each other, so do numbers with an arc like 3,5,6,8,9.\n",
        "The problem may be that the pictures are too blur and the number is somehow distorted. Another reason may be that \n",
        "the picture shows several numbers and the model recognizes the other one. \n",
        "\"\"\"\n",
        "print(\"Answer is {} characters long\".format(len(answer_q_3_1)))"
      ],
      "execution_count": 0,
      "outputs": [
        {
          "output_type": "stream",
          "text": [
            "Answer is 305 characters long\n"
          ],
          "name": "stdout"
        }
      ]
    },
    {
      "cell_type": "code",
      "metadata": {
        "id": "BNPwEYPUorfg",
        "colab_type": "code",
        "outputId": "50704fba-f623-4012-f9e1-fc6568384f25",
        "colab": {
          "base_uri": "https://localhost:8080/",
          "height": 686
        }
      },
      "source": [
        "plot_confusion_matrix()\n",
        "plot_misclassifications()"
      ],
      "execution_count": 0,
      "outputs": [
        {
          "output_type": "display_data",
          "data": {
            "image/png": "[encoded data removed]",
            "text/plain": [
              "<Figure size 720x480 with 1 Axes>"
            ]
          },
          "metadata": {
            "tags": [],
            "needs_background": "light"
          }
        },
        {
          "output_type": "display_data",
          "data": {
            "image/png": "[encoded data removed]",
            "text/plain": [
              "<Figure size 1200x600 with 5 Axes>"
            ]
          },
          "metadata": {
            "tags": []
          }
        }
      ]
    },
    {
      "cell_type": "markdown",
      "metadata": {
        "colab_type": "text",
        "id": "EBRdBpz5Hcrx"
      },
      "source": [
        "### Question 3.2: Visualizing activations (4 points)\n",
        "* Implement a function `plot_activations()` that returns the most interesting activations (feature maps). Select the first example from the test set. Retrieve and visualize the activations of model 2_2 for that example (make sure you load that model in the function), for every filter for different convolutional layers (at different depths in the network).\n",
        "* Give an explanation (as detailed as you can) about your observations in 'answer_q_3_2'. Is your model indeed learning something useful?"
      ]
    },
    {
      "cell_type": "code",
      "metadata": {
        "colab_type": "code",
        "id": "TyQ-IHHcN5Qc",
        "outputId": "048a872b-d308-4a22-d8f4-240f7c2d0cb1",
        "colab": {
          "base_uri": "https://localhost:8080/",
          "height": 238
        }
      },
      "source": [
        "from tensorflow.keras import layers\n",
        "from tensorflow.keras import models\n",
        "from tensorflow.keras.preprocessing import image\n",
        "import numpy as np\n",
        "\n",
        "\n",
        "images_per_row = 16\n",
        "model_3_2 = load_model_from_file(base_dir, \"model_2_2\")\n",
        "layer_names = []\n",
        "for layer in model_3_2.layers[:8]:\n",
        "    layer_names.append(layer.name)\n",
        "\n",
        "def plot_activations():\n",
        "  layer_index = [1,3,5]\n",
        "  for layer_index in layer_index[:]:\n",
        "    model_3_2 = load_model_from_file(base_dir, \"model_2_2\")\n",
        "    img_tensor = X_test_preprocessed[0]\n",
        "    img_tensor = np.expand_dims(img_tensor, axis=0) \n",
        "    layer_outputs = [layer.output for layer in model_3_2.layers[:8]]\n",
        "    activation_model = models.Model(inputs=model_3_2.input, outputs=layer_outputs)\n",
        "    activations = activation_model.predict(img_tensor)\n",
        "    start = layer_index\n",
        "    end = layer_index+1\n",
        "    # Now let's display our feature maps\n",
        "    for layer_name, layer_activation in zip(layer_names[start:end], activations[start:end]):\n",
        "        # This is the number of features in the feature map\n",
        "        n_features = layer_activation.shape[-1]\n",
        "\n",
        "        # The feature map has shape (1, size, size, n_features)\n",
        "        size = layer_activation.shape[1]\n",
        "\n",
        "        # We will tile the activation channels in this matrix\n",
        "        n_cols = n_features // images_per_row\n",
        "        display_grid = np.zeros((size * n_cols, images_per_row * size))\n",
        "\n",
        "        # We'll tile each filter into this big horizontal grid\n",
        "        for col in range(n_cols):\n",
        "            for row in range(images_per_row):\n",
        "                channel_image = layer_activation[0,:, :,col * images_per_row + row]\n",
        "                # Post-process the feature to make it visually palatable\n",
        "                channel_image -= channel_image.mean()\n",
        "                channel_image /= channel_image.std()\n",
        "                channel_image *= 64\n",
        "                channel_image += 128\n",
        "                channel_image = np.clip(channel_image, 0, 255).astype('uint8')\n",
        "                display_grid[col * size : (col + 1) * size,\n",
        "                              row * size : (row + 1) * size] = channel_image\n",
        "\n",
        "        # Display the grid\n",
        "        scale = 1. / size\n",
        "        plt.figure(figsize=(scale * display_grid.shape[1],\n",
        "                            scale * display_grid.shape[0]))\n",
        "        plt.title(\"Activation of layer {} ({})\".format(layer_index+1,layer_name))\n",
        "        plt.grid(False)\n",
        "        plt.imshow(display_grid, aspect='auto', cmap='viridis')\n",
        "\n",
        "    plt.show()\n",
        "    \n",
        "answer_q_3_2 = \"\"\"\n",
        "In this model, it is important to preprocess the data. I can see that the pictures are getting blur when checking the higher\n",
        "layers, this is because the input is getting smaller and smaller after the convolution of filters, and they are the output of the \n",
        "previous layers, it means that the picture is changed a lot. Also, picture under some of the filters shows nothing, that is \n",
        "because that filter is not sensitive about the specific features in the picture.\n",
        "\"\"\"\n",
        "print(\"Answer is {} characters long\".format(len(answer_q_3_2)))\n",
        "\n",
        "\n",
        "# plot_activations(2,activations)"
      ],
      "execution_count": 0,
      "outputs": [
        {
          "output_type": "error",
          "ename": "NameError",
          "evalue": "ignored",
          "traceback": [
            "\u001b[0;31m---------------------------------------------------------------------------\u001b[0m",
            "\u001b[0;31mNameError\u001b[0m                                 Traceback (most recent call last)",
            "\u001b[0;32m<ipython-input-1-5bfff4b73c68>\u001b[0m in \u001b[0;36m<module>\u001b[0;34m()\u001b[0m\n\u001b[1;32m      4\u001b[0m \u001b[0;32mimport\u001b[0m \u001b[0mnumpy\u001b[0m \u001b[0;32mas\u001b[0m \u001b[0mnp\u001b[0m\u001b[0;34m\u001b[0m\u001b[0;34m\u001b[0m\u001b[0m\n\u001b[1;32m      5\u001b[0m \u001b[0;34m\u001b[0m\u001b[0m\n\u001b[0;32m----> 6\u001b[0;31m \u001b[0mmodel_3_2\u001b[0m \u001b[0;34m=\u001b[0m \u001b[0mload_model_from_file\u001b[0m\u001b[0;34m(\u001b[0m\u001b[0mbase_dir\u001b[0m\u001b[0;34m,\u001b[0m \u001b[0;34m\"model_2_2\"\u001b[0m\u001b[0;34m)\u001b[0m\u001b[0;34m\u001b[0m\u001b[0;34m\u001b[0m\u001b[0m\n\u001b[0m\u001b[1;32m      7\u001b[0m \u001b[0mimg_tensor\u001b[0m \u001b[0;34m=\u001b[0m \u001b[0mX_test_preprocessed\u001b[0m\u001b[0;34m[\u001b[0m\u001b[0;36m0\u001b[0m\u001b[0;34m]\u001b[0m\u001b[0;34m\u001b[0m\u001b[0;34m\u001b[0m\u001b[0m\n\u001b[1;32m      8\u001b[0m \u001b[0mimg_tensor\u001b[0m \u001b[0;34m=\u001b[0m \u001b[0mnp\u001b[0m\u001b[0;34m.\u001b[0m\u001b[0mexpand_dims\u001b[0m\u001b[0;34m(\u001b[0m\u001b[0mimg_tensor\u001b[0m\u001b[0;34m,\u001b[0m \u001b[0maxis\u001b[0m\u001b[0;34m=\u001b[0m\u001b[0;36m0\u001b[0m\u001b[0;34m)\u001b[0m\u001b[0;34m\u001b[0m\u001b[0;34m\u001b[0m\u001b[0m\n",
            "\u001b[0;31mNameError\u001b[0m: name 'load_model_from_file' is not defined"
          ]
        }
      ]
    },
    {
      "cell_type": "markdown",
      "metadata": {
        "id": "C6qSPuiUtT_X",
        "colab_type": "text"
      },
      "source": [
        ""
      ]
    },
    {
      "cell_type": "markdown",
      "metadata": {
        "colab_type": "text",
        "id": "6a4XT0-7Ym25"
      },
      "source": [
        "### Question 3.3: Visualizing activations (4 points)\n",
        "* Again, select the first example from the test set, and the trained model_2_2.\n",
        "* Implement a function `plot_activation_map()` that builds and shows a class activation map for your last convolutional layer that highlights what the model is paying attention to when classifying the example.\n",
        "* If possible, superimpossible the activation map over the image. If not, plot\n",
        "them side by side. Implement a function 'plot_3_3' that returns the entire plot."
      ]
    },
    {
      "cell_type": "code",
      "metadata": {
        "colab_type": "code",
        "id": "vsmqYQl2ZZ4n",
        "colab": {}
      },
      "source": [
        "from tensorflow.keras import backend as K\n",
        "from tensorflow.keras.preprocessing import image\n",
        "from tensorflow.keras.applications.vgg16 import preprocess_input, decode_predictions\n",
        "import numpy as np\n",
        "import cv2\n",
        "tf.compat.v1.disable_eager_execution()\n",
        "K.clear_session()\n",
        "def plot_3_3():\n",
        "  \n",
        "  model_3_3 = load_model_from_file(base_dir, \"model_2_2\")\n",
        "  \n",
        "  x_3_3 = X_test_preprocessed[6]\n",
        "  x_3_3 = np.expand_dims(x_3_3, axis=0)\n",
        "  number_output = model_3_3.output[:]\n",
        "  last_conv_layer = model_3_3.get_layer('conv2d_3')\n",
        "  grads = K.gradients(number_output, last_conv_layer.output)[0]\n",
        "  pooled_grads = K.mean(grads, axis=(0, 1, 2))\n",
        "  iterate = K.function([model_3_3.input], [pooled_grads, last_conv_layer.output[0]])\n",
        "  pooled_grads_value, conv_layer_output_value = iterate([x_3_3])\n",
        "  for i in range(16):\n",
        "      conv_layer_output_value[:, :, i] *= pooled_grads_value[i]\n",
        "\n",
        "  # The channel-wise mean of the resulting feature map\n",
        "  # is our heatmap of class activation\n",
        "  heatmap = np.mean(conv_layer_output_value, axis=-1)\n",
        "  heatmap = np.maximum(heatmap, 0)\n",
        "  heatmap /= np.max(heatmap)\n",
        "  plt.matshow(heatmap)\n",
        "  # plt.show()\n",
        "\n",
        "  img = X_test[6]\n",
        "  heatmap = cv2.resize(heatmap, (img.shape[1], img.shape[0]))\n",
        "  heatmap = np.uint8(255 * heatmap)\n",
        "  heatmap = cv2.applyColorMap(heatmap, cv2.COLORMAP_JET)\n",
        "  superimposed_img = heatmap * 0.001 + X_test[0] \n",
        "  plt.rcParams['figure.dpi'] = 120\n",
        "  # plt.imshow(RGB_im)\n",
        "  # plt.title('Class activation map')\n",
        "  f, ax1 = plt.subplots(1, 1, sharey=True)\n",
        "  ax1.imshow(superimposed_img)\n",
        "  # plt.xticks([])\n",
        "  # plt.yticks([])\n",
        "  # plt.show()"
      ],
      "execution_count": 0,
      "outputs": []
    },
    {
      "cell_type": "code",
      "metadata": {
        "id": "BNciEHvmG79K",
        "colab_type": "code",
        "outputId": "5fd37b34-3c03-4dca-aa3d-e25d6713a6df",
        "colab": {
          "base_uri": "https://localhost:8080/",
          "height": 692
        }
      },
      "source": [
        "plot_3_3()"
      ],
      "execution_count": 0,
      "outputs": [
        {
          "output_type": "display_data",
          "data": {
            "image/png": "[encoded data removed]",
            "text/plain": [
              "<Figure size 288x288 with 1 Axes>"
            ]
          },
          "metadata": {
            "tags": [],
            "needs_background": "light"
          }
        },
        {
          "output_type": "display_data",
          "data": {
            "image/png": "[encoded data removed]",
            "text/plain": [
              "<Figure size 720x480 with 1 Axes>"
            ]
          },
          "metadata": {
            "tags": [],
            "needs_background": "light"
          }
        }
      ]
    },
    {
      "cell_type": "markdown",
      "metadata": {
        "colab_type": "text",
        "id": "buQLQ16EypgL"
      },
      "source": [
        "## Part 4. Transfer learning (10 points)\n",
        "### Question 4.1 Fast feature extraction with VGG16 (5 points)\n",
        "- Import the VGG16 model, pretrained on ImageNet. [See here](https://keras.io/applications/). Only import the convolutional part, not the dense layers.\n",
        "- Implement a function 'build_model_4_1` that adds a dense layer to the convolutional base, and freezes the convolutional base. Consider unfreezing the last few convolutional layers and evaluate whether that works better.\n",
        "- Train the resulting model on the *original* (colored) training data\n",
        "- Evaluate the resulting model using 'run_evaluate'. Discuss the observed performance in 'answer_q_4_1'."
      ]
    },
    {
      "cell_type": "code",
      "metadata": {
        "colab_type": "code",
        "id": "QXH1Z7Pqj3HW",
        "outputId": "a46220ee-7145-4f1b-e538-abe8b9eca8a8",
        "colab": {
          "base_uri": "https://localhost:8080/",
          "height": 1000
        }
      },
      "source": [
        "from tensorflow.keras.applications.vgg16 import VGG16\n",
        "from tensorflow.keras import backend as K\n",
        "from tensorflow.keras import optimizers\n",
        "from tensorflow.keras.preprocessing.image import ImageDataGenerator\n",
        "from tensorflow.keras import models\n",
        "from tensorflow.keras import layers\n",
        "\n",
        "def build_model_4_1():\n",
        "  evaluation_split = X_train, X_val, y_train, y_val\n",
        "  conv_base = VGG16(include_top=False, weights='imagenet', input_shape=(32, 32, 3))\n",
        "  conv_base.trainable = True\n",
        "  set_trainable = False\n",
        "  for layer in conv_base.layers:\n",
        "    if layer.name == 'block5_conv1':\n",
        "        layer.trainable = True\n",
        "    else:\n",
        "        layer.trainable = False\n",
        "  model_4_1 = models.Sequential()\n",
        "  model_4_1.add(conv_base)\n",
        "  model_4_1.add(layers.BatchNormalization())\n",
        "  model_4_1.add(layers.Flatten())\n",
        "  model_4_1.add(layers.Dense(10, activation='sigmoid'))\n",
        "  model_4_1.compile(optimizer=optimizers.RMSprop(lr=2e-5),\n",
        "              loss='binary_crossentropy',\n",
        "              metrics=['acc'])\n",
        "\n",
        "  return model_4_1\n",
        "\n",
        "train_datagen = ImageDataGenerator(\n",
        "      width_shift_range=0.1,\n",
        "      height_shift_range=0.1,\n",
        "      zoom_range=0.2,\n",
        "      horizontal_flip=False,\n",
        "      fill_mode='nearest'\n",
        "      )\n",
        "it_train = train_datagen.flow(X_train, y_train, batch_size=64)\n",
        "# X_test_preprocessed = rgb2gray(X_test)\n",
        "# test_datagen = ImageDataGenerator(rescale=1./255)\n",
        "# validation_generator = test_datagen.flow(X_val_preprocessed, y_val, batch_size=64)\n",
        "augmented_split = it_train, X_val, y_val\n",
        "# augmented_split = it_drain, X_test_preprocessed, y_test\n",
        "\n",
        "run_evaluation(\"model_4_1\", build_model_4_1, augmented_split, base_dir, \n",
        "               train=True, generator=True, epochs=10, batch_size=128, steps_per_epoch=X_train_preprocessed.shape[0]//64)  \n",
        "\n",
        "# run_evaluation(\"model_4_1\", build_model_4_1, preprocessed_split, base_dir, \n",
        "#                train=True, epochs=3, batch_size=32)\n",
        "answer_q_4_1 = \"\"\"\n",
        "It uses the same data augmentation as 2_2. This model use one convolution layer and one batch normalization and one dense layer. \n",
        "If we only train the model with convolution layer freezed, which is meant to keep the features capture capability of them, the \n",
        "accuracy would be low, and if we unfreeze them and train the whole model, the accuracy is better. \n",
        "\"\"\"\n",
        "print(\"Answer is {} characters long\".format(len(answer_q_4_1)))"
      ],
      "execution_count": 0,
      "outputs": [
        {
          "output_type": "stream",
          "text": [
            "\u001b[91mTraining the model\u001b[0m\n",
            "Epoch 1/10\n",
            "992/992 [==============================] - 45s 46ms/step - loss: 0.6143 - acc: 0.4516 - val_loss: 0.5100 - val_acc: 0.6391\n",
            "Epoch 2/10\n",
            "992/992 [==============================] - 44s 45ms/step - loss: 0.4195 - acc: 0.6476 - val_loss: 0.3240 - val_acc: 0.7049\n",
            "Epoch 3/10\n",
            "992/992 [==============================] - 44s 44ms/step - loss: 0.2569 - acc: 0.6953 - val_loss: 0.1910 - val_acc: 0.7421\n",
            "Epoch 4/10\n",
            "992/992 [==============================] - 44s 44ms/step - loss: 0.1717 - acc: 0.7224 - val_loss: 0.1437 - val_acc: 0.7651\n",
            "Epoch 5/10\n",
            "992/992 [==============================] - 44s 44ms/step - loss: 0.1462 - acc: 0.7388 - val_loss: 0.1301 - val_acc: 0.7757\n",
            "Epoch 6/10\n",
            "992/992 [==============================] - 44s 45ms/step - loss: 0.1356 - acc: 0.7532 - val_loss: 0.1211 - val_acc: 0.7834\n",
            "Epoch 7/10\n",
            "992/992 [==============================] - 44s 45ms/step - loss: 0.1282 - acc: 0.7658 - val_loss: 0.1149 - val_acc: 0.7932\n",
            "Epoch 8/10\n",
            "992/992 [==============================] - 44s 44ms/step - loss: 0.1230 - acc: 0.7745 - val_loss: 0.1121 - val_acc: 0.7979\n",
            "Epoch 9/10\n",
            "992/992 [==============================] - 44s 44ms/step - loss: 0.1186 - acc: 0.7810 - val_loss: 0.1064 - val_acc: 0.8078\n",
            "Epoch 10/10\n",
            "992/992 [==============================] - 43s 44ms/step - loss: 0.1158 - acc: 0.7863 - val_loss: 0.1048 - val_acc: 0.8117\n",
            "\u001b[91mSaving to file\u001b[0m\n",
            "\u001b[91mModel stored in /content/drive/My Drive/assignment-3-hellojoannachan\u001b[0m\n",
            "Model: \"sequential_3\"\n",
            "_________________________________________________________________\n",
            "Layer (type)                 Output Shape              Param #   \n",
            "=================================================================\n",
            "vgg16 (Model)                (None, 1, 1, 512)         14714688  \n",
            "_________________________________________________________________\n",
            "batch_normalization_2 (Batch (None, 1, 1, 512)         2048      \n",
            "_________________________________________________________________\n",
            "flatten_2 (Flatten)          (None, 512)               0         \n",
            "_________________________________________________________________\n",
            "dense_2 (Dense)              (None, 10)                5130      \n",
            "=================================================================\n",
            "Total params: 14,721,866\n",
            "Trainable params: 2,365,962\n",
            "Non-trainable params: 12,355,904\n",
            "_________________________________________________________________\n",
            "None\n",
            "         loss       acc  val_loss   val_acc\n",
            "min  0.115817  0.451613  0.104783  0.639139\n",
            "max  0.614287  0.786295  0.510000  0.811733\n",
            "Answer is 44 characters long\n"
          ],
          "name": "stdout"
        },
        {
          "output_type": "display_data",
          "data": {
            "image/png": "[encoded data removed]",
            "text/plain": [
              "<Figure size 432x288 with 1 Axes>"
            ]
          },
          "metadata": {
            "tags": [],
            "needs_background": "light"
          }
        }
      ]
    },
    {
      "cell_type": "markdown",
      "metadata": {
        "colab_type": "text",
        "id": "cp60rxZTYI8O"
      },
      "source": [
        "### Question 4.2 Embeddings and pipelines (5 points)\n",
        "- Generate embeddings of the original images by running them through the trained convolutional part of model_4_1 (without the dense layer) and returning the output. Embed the training and test data and store them to disk using the helper functions below. Implement a function `store_embeddings` that loads model_4_1 and stores all necessary embeddings to file. Make sure to run it once so that the embeddings are stored (and submitted).\n",
        "- Implement a function 'generate_pipeline' that returns an scikit-learn pipeline. You can use any non-deep learning technique (eg. SVMs, RFs,...), and preprocessing technique. You can do model selection using the validation set. \n",
        "- Implement a function 'evaluate_pipeline' that evaluates a given pipeline on a given training and test set. \n",
        "- Implement a function 'evaluation_4_2' that evaluates your pipeline on the embedded training and test set (loaded from file) and returns the accuracy. \n",
        "- Describe what you did and what you observed. Report the obtained accuracy score. Can you beat your best model thus far?"
      ]
    },
    {
      "cell_type": "code",
      "metadata": {
        "colab_type": "code",
        "id": "IQo_zskOrs_m",
        "outputId": "fa875767-1323-4d19-ee8c-d0108925d729",
        "colab": {
          "base_uri": "https://localhost:8080/",
          "height": 139
        }
      },
      "source": [
        "import pickle\n",
        "import gzip\n",
        "from sklearn.pipeline import Pipeline\n",
        "from sklearn.preprocessing import MinMaxScaler\n",
        "from sklearn.svm import LinearSVC\n",
        "from sklearn.model_selection import train_test_split\n",
        "from sklearn.datasets import load_breast_cancer\n",
        "from tensorflow.keras import models\n",
        "from sklearn.linear_model import LinearRegression\n",
        "\n",
        "\n",
        "def store_embedding(X, name):  \n",
        "  with gzip.open(os.path.join(base_dir, name+'_embedding.p'), 'wb') as file_pi:\n",
        "    pickle.dump(X, file_pi)\n",
        "\n",
        "def load_embedding(name):\n",
        "  with gzip.open(os.path.join(base_dir, name+'_embedding.p'), 'rb') as file_pi:\n",
        "    return pickle.load(file_pi)\n",
        "\n",
        "def store_embeddings():\n",
        "  \"\"\" Stores all necessary embeddings to file\n",
        "  \"\"\"\n",
        "  model_4_2 = load_model_from_file(base_dir, \"model_4_1\")\n",
        "  model_4_2_layer = model_4_2.get_layer(\"vgg16\")\n",
        "  xtrain = model_4_2_layer.predict(X_train_all).reshape(xtrain.shape[0], 512)\n",
        "  xtest = model_4_2_layer.predict(X_test).reshape(xtest.shape[0], 512)\n",
        "  store_embedding(xtrain, 'X_train')\n",
        "  store_embedding(xtest, 'X_test')\n",
        "\n",
        "\n",
        "def generate_pipeline():\n",
        "  \"\"\" Returns an sklearn pipeline.\n",
        "  \"\"\"\n",
        "  pipe = Pipeline([(\"scaler\", MinMaxScaler()), (\"reg\", LinearRegression())])\n",
        "  return pipe\n",
        "\n",
        "def evaluate_pipeline(pipeline, X_train, y_train, X_test, y_test):\n",
        "  \"\"\" Evaluates the given pipeline, trained on the given embedded training set and \n",
        "      evaluated on the supplied embedded test set. Returns the accuracy score.\n",
        "  \"\"\"\n",
        "  trainx = X_train.reshape(X_train.shape[0], -1)\n",
        "  testx = X_test.reshape(X_test.shape[0], -1)\n",
        "  trainscore = pipeline.fit(trainx, y_train).score(testx, y_test)\n",
        "  # testscore = pipeline.fit(trainx, y_train).score(testx, y_test)\n",
        "  return trainscore\n",
        "\n",
        "def evaluation_4_2(X_train, y_train, X_test, y_test):\n",
        "  \"\"\" Runs 'evaluate_pipeline' with embedded versions of the input data \n",
        "  and returns the accuracy.\n",
        "  \"\"\"\n",
        "  # traindatax = load_embedding('X_train')\n",
        "  # testdatax = load_embedding('X_test')\n",
        "  trainscore = evaluate_pipeline(generate_pipeline(), X_train, y_train, X_test, y_test)\n",
        "  return trainscore\n",
        "\n",
        "answer_q_4_2 = \"\"\"\n",
        "The pipeline is combined with a minmaxscaler and a linearSVC, the data has to be preprocessed because of the form matter, then they\n",
        "are trained and got score from the pipeline.\n",
        "\"\"\"\n",
        "print(\"Pipeline:\",generate_pipeline())\n",
        "print(\"Answer is {} characters long\".format(len(answer_q_4_2)))"
      ],
      "execution_count": 30,
      "outputs": [
        {
          "output_type": "stream",
          "text": [
            "Pipeline: Pipeline(memory=None,\n",
            "         steps=[('scaler', MinMaxScaler(copy=True, feature_range=(0, 1))),\n",
            "                ('reg',\n",
            "                 LinearRegression(copy_X=True, fit_intercept=True, n_jobs=None,\n",
            "                                  normalize=False))],\n",
            "         verbose=False)\n",
            "Answer is 178 characters long\n"
          ],
          "name": "stdout"
        }
      ]
    },
    {
      "cell_type": "code",
      "metadata": {
        "id": "9dkQp2c1EX12",
        "colab_type": "code",
        "outputId": "a82651d3-80c4-4366-f054-162a58aa0d80",
        "colab": {
          "base_uri": "https://localhost:8080/",
          "height": 89
        }
      },
      "source": [
        "traindatax = load_embedding('X_train')\n",
        "testdatax = load_embedding('X_test')\n",
        "evaluation_4_2(traindatax, y_train_all, testdatax, y_test)"
      ],
      "execution_count": 31,
      "outputs": [
        {
          "output_type": "stream",
          "text": [
            "/usr/local/lib/python3.6/dist-packages/sklearn/base.py:434: FutureWarning: The default value of multioutput (not exposed in score method) will change from 'variance_weighted' to 'uniform_average' in 0.23 to keep consistent with 'metrics.r2_score'. To specify the default value manually and avoid the warning, please either call 'metrics.r2_score' directly or make a custom scorer with 'metrics.make_scorer' (the built-in scorer 'r2' uses multioutput='uniform_average').\n",
            "  \"multioutput='uniform_average').\", FutureWarning)\n"
          ],
          "name": "stderr"
        },
        {
          "output_type": "execute_result",
          "data": {
            "text/plain": [
              "0.5892986865005453"
            ]
          },
          "metadata": {
            "tags": []
          },
          "execution_count": 31
        }
      ]
    },
    {
      "cell_type": "code",
      "metadata": {
        "id": "EM-p7XZxbrv6",
        "colab_type": "code",
        "colab": {}
      },
      "source": [
        ""
      ],
      "execution_count": 0,
      "outputs": []
    }
  ]
}