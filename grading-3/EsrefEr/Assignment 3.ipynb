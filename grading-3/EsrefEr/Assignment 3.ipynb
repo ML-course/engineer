{
 "cells": [
  {
   "cell_type": "code",
   "execution_count": 8,
   "metadata": {
    "colab": {},
    "colab_type": "code",
    "id": "uPiqHyC_MuLL"
   },
   "outputs": [],
   "source": [
    "# Fill in your name using the format below and student ID number\n",
    "your_name = \"Er, Esref\"\n",
    "student_id = \"1068926\""
   ]
  },
  {
   "cell_type": "code",
   "execution_count": 9,
   "metadata": {},
   "outputs": [],
   "source": [
    "# Before submission, set this to True so that you can render and verify this notebook without training deep learning models.\n",
    "# Any deep learning models will be trained from file instead.\n",
    "stop_training = True"
   ]
  },
  {
   "cell_type": "code",
   "execution_count": 10,
   "metadata": {
    "colab": {
     "base_uri": "https://localhost:8080/",
     "height": 71
    },
    "colab_type": "code",
    "id": "-rAuraOsM22r",
    "outputId": "af1729f6-a9f4-494f-db04-ef9c03d26008"
   },
   "outputs": [],
   "source": [
    "# Uncomment the following line to run in Google Colab\n",
    "# !pip install --quiet openml "
   ]
  },
  {
   "cell_type": "code",
   "execution_count": 11,
   "metadata": {
    "colab": {
     "base_uri": "https://localhost:8080/",
     "height": 35
    },
    "colab_type": "code",
    "id": "OS-d8ziENCs1",
    "outputId": "0bc61a59-66c6-487c-9f32-2aaa2818469e"
   },
   "outputs": [
    {
     "data": {
      "text/plain": [
       "[PhysicalDevice(name='/physical_device:GPU:0', device_type='GPU')]"
      ]
     },
     "execution_count": 11,
     "metadata": {},
     "output_type": "execute_result"
    }
   ],
   "source": [
    "# Uncomment the following line to run in Google Colab\n",
    "#%tensorflow_version 2.x\n",
    "import tensorflow as tf\n",
    "tf.config.experimental.list_physical_devices('GPU') # Check whether GPUs are available"
   ]
  },
  {
   "cell_type": "code",
   "execution_count": 12,
   "metadata": {
    "colab": {},
    "colab_type": "code",
    "id": "-iTn6RmNMuLT"
   },
   "outputs": [],
   "source": [
    "%matplotlib inline\n",
    "import openml as oml\n",
    "import numpy as np\n",
    "import matplotlib.pyplot as plt\n",
    "import sklearn"
   ]
  },
  {
   "cell_type": "code",
   "execution_count": 13,
   "metadata": {
    "colab": {
     "base_uri": "https://localhost:8080/",
     "height": 35
    },
    "colab_type": "code",
    "id": "brth0Z_TMuLZ",
    "outputId": "d3ad568e-e9a2-4c40-a93c-9160e4ed1e49"
   },
   "outputs": [
    {
     "name": "stdout",
     "output_type": "stream",
     "text": [
      "Hi Esref, Looks good. You may continue :)\n"
     ]
    }
   ],
   "source": [
    "from packaging import version\n",
    "import sklearn\n",
    "import tensorflow\n",
    "sklearn_version = sklearn.__version__\n",
    "tensorflow_version = tensorflow.__version__\n",
    "if version.parse(sklearn_version) < version.parse(\"0.22.0\"):\n",
    "    print(\"scikit-learn is outdated. Please update now!\")\n",
    "if version.parse(tensorflow_version) < version.parse(\"2.1.0\"):\n",
    "    print(\"Tensorflow is outdated. This is version {}. Please update to 2.1.\".format(tensorflow_version))\n",
    "else:\n",
    "    print(\"Hi{}, Looks good. You may continue :)\".format(your_name.split(\",\")[1]))"
   ]
  },
  {
   "cell_type": "code",
   "execution_count": 14,
   "metadata": {},
   "outputs": [],
   "source": [
    "#Imports needed\n",
    "from tensorflow.keras import models\n",
    "from tensorflow.keras import layers\n",
    "from tensorflow.keras import regularizers\n",
    "from tensorflow.keras import optimizers\n",
    "\n",
    "from tensorflow.keras.preprocessing.image import ImageDataGenerator\n",
    "from tensorflow.keras.preprocessing import image\n",
    "from tensorflow.keras.applications.vgg16 import preprocess_input, decode_predictions\n",
    "from tensorflow.keras.applications.vgg16 import VGG16\n",
    "from tensorflow.keras import backend as K\n",
    "\n",
    "import cv2\n",
    "\n",
    "import os.path\n",
    "\n",
    "from PIL import Image\n",
    "\n",
    "import pickle\n",
    "\n",
    "import gzip\n",
    "\n",
    "from sklearn.linear_model import LogisticRegression\n",
    "from sklearn.pipeline import make_pipeline, Pipeline\n",
    "from sklearn.preprocessing import StandardScaler, Normalizer, PowerTransformer\n",
    "from sklearn.metrics import accuracy_score\n",
    "from sklearn.svm import SVC\n",
    "from sklearn.ensemble import RandomForestClassifier\n",
    "\n",
    "from tensorflow.keras.models import model_from_json\n",
    "\n"
   ]
  },
  {
   "cell_type": "markdown",
   "metadata": {
    "colab_type": "text",
    "id": "7kdeFjIGMuLv"
   },
   "source": [
    "# Assignment 3"
   ]
  },
  {
   "cell_type": "markdown",
   "metadata": {
    "colab_type": "text",
    "id": "ljhP8DXu-H4j"
   },
   "source": [
    "### Choice of libraries\n",
    "We recommend to use Tensorflow in this assignment since that is what we covered in the labs. If you feel confident using PyTorch (and Skorch for the scikit-learn wrapper), that is allowed too, as long as you are able to implement the requested functions and return the requested data. Read the assignment carefully and ensure that you can. Note that you may also need to do a bit more work to implement certain helper functions and wrappers."
   ]
  },
  {
   "cell_type": "markdown",
   "metadata": {
    "colab_type": "text",
    "id": "-BQG9Kp2EcPc"
   },
   "source": [
    "### Storing and submitting files\n",
    "You must be able to store your models and submit them to GitHub Classroom. The evaluation functions used in this notebook will automatically store models for you.\n",
    "\n",
    "If you want to run and solve the notebook on your local machine/laptop, fill in the path 'base_dir' to your assignment folder into the next cell.\n",
    "\n",
    "If you use Colab, we recommend that you link it to your Google Drive:  \n",
    "* Upload the assignment folder to your Google Drive (+ New > Folder Upload)\n",
    "* Open Colab in a browser, open the 'Files' menu in the left sidebar, and click 'Mount Drive'\n",
    "  * At this point you may need to authenticate\n",
    "* Fill in the path to your assignment folder below\n",
    "  * It's likely '/content/drive/My Drive/assignment-3-yourname'"
   ]
  },
  {
   "cell_type": "code",
   "execution_count": 15,
   "metadata": {
    "colab": {},
    "colab_type": "code",
    "id": "aO6jTIIFHQNU"
   },
   "outputs": [],
   "source": [
    "#base_dir = '/content/drive/My Drive/TestAssignment' # For Google Colab\n",
    "base_dir = './'"
   ]
  },
  {
   "cell_type": "code",
   "execution_count": 16,
   "metadata": {
    "colab": {
     "base_uri": "https://localhost:8080/",
     "height": 127
    },
    "colab_type": "code",
    "id": "HKaM3mwrODBR",
    "outputId": "159fb13d-54c8-43ea-8026-5e4998023e16"
   },
   "outputs": [],
   "source": [
    "#Uncomment to link Colab notebook to Google Drive\n",
    "#from google.colab import drive\n",
    "#drive.mount('/content/drive')"
   ]
  },
  {
   "cell_type": "markdown",
   "metadata": {
    "colab_type": "text",
    "id": "D_BDIpWh92Dk"
   },
   "source": [
    "### Using GPUs\n",
    "While you can solve this assignment on a CPU, using a GPU will speed things up training quite a bit. If you have a local GPU, you can use that. If you don't, we recommend Google Colab. When you are in Colab:\n",
    "* In Runtime > Change runtime type, select the GPU under Hardware Accelerator\n",
    "* Run the 3rd cell on the top of this notebook to check that the GPU is found.\n",
    "\n",
    "Note that Colab may not always have GPUs ready all the time, and may deny you a GPU when you have used them a lot. When you are temporarily 'locked out', you can switch to a non-GPU runtime or to a local instance of Jupyter running on your machine."
   ]
  },
  {
   "cell_type": "markdown",
   "metadata": {
    "colab_type": "text",
    "id": "hq6oPNF546_5"
   },
   "source": [
    "### Constraints\n",
    "* Your stored models should not be larger than 100MB when stored in file. GitHub will not allow uploading if they are.\n",
    "* When questions ask you to provide an explanation, it should be less than 500\n",
    "characters long. Some questions have a higher limit. Always answer in full sentences.\n",
    "* Don't train for more than 100 epochs, i.e. don't throw excessing computational resources at the problem. If your model hasn't converged by then, think of ways it could be made to converge faster. In this assignment you are not after the last tiny improvement, you can stop when learning curves flatten out. Do at least 5 epochs to get a reasonable learning curve."
   ]
  },
  {
   "cell_type": "markdown",
   "metadata": {
    "colab_type": "text",
    "id": "h8wBDNspEvcY"
   },
   "source": [
    "### Grading\n",
    "Grading is based on the following aspects:\n",
    "* Correctness in answering the question. Carefully read the question and answer\n",
    "what is asked for. Train your models on the correct data. It should be clear on which data should be trained, but ask when in doubt. When something is not defined (e.g. the number of epochs or batch size), you can freely choose them.\n",
    "* Clarity of your explanations. Write short but precise descriptions of what you did and why. Give short but clear explanations of the observed performance. \n",
    "After your explanation, your approach and model should make perfect sense. Refrain from using symbols as substitute for words in your explanation (e.g. no: \"More layers -> more parameters\" yes: \"More layers mean more parameters\"). \n",
    "* Part of your grade depends on how well your model performs. When the question says 'you should at least get x%', x% will give you a good but not the maximal grade. You can get the full grade when you are close to what is the expected maximal performance. You don't need to invest lots of effort into the last tiny improvement, though. Unless specified, we look at the accuracy on the validation set. If your learning curves are very erratic we'll compute a score based on the smoothed curves (i.e. single peaks don't count).\n",
    "* The weight of each question is indicated. Take this into account when planning your time."
   ]
  },
  {
   "cell_type": "markdown",
   "metadata": {
    "colab_type": "text",
    "id": "KNyA5dEpR00Z"
   },
   "source": [
    "### Other tips\n",
    "* Don't wait until the last minute to do the assignment. The models take time to train, most questions will require some thinking, and some require you to read up on some new concepts.\n",
    "* Take care that you upload the results as requested. You need to submit not only the notebooks but also the trained models and learning curves (training histories). Be sure to run the verification script and check that all the results are included.\n",
    "* We provide an evaluation function that also stored models to disk. After you are done training the model, set the 'train' attribute to False so that the model doesn't train again (and loads from file instead) when you restart and rerun your notebook.\n",
    "* Explore. For many questions we'll ask you to explain your model design decisions. You cannot magically know the best solutions but you can experiment\n",
    "based on your understanding and make decisions based on both your knowledge and experiments. Your explanation is at least as important as the performance of your model.\n",
    "* Be original. We will check for plagiarism between student submissions."
   ]
  },
  {
   "cell_type": "markdown",
   "metadata": {
    "colab_type": "text",
    "id": "k0nKOZrPJTn8"
   },
   "source": [
    "### Data\n",
    "The [Street View House Numbers Dataset](https://www.openml.org/d/41081) contains 32-by-32 RGB images centered around a single digit of a house number appearing in Google Street View. Many of the images do contain some distractors at the sides. It consists of 10 classes, 1 for each digit. Digit '1' has label 1, '9' has label 9 and '0' has label 10. Your goal is to build models that recognize the correct digit."
   ]
  },
  {
   "cell_type": "markdown",
   "metadata": {
    "colab_type": "text",
    "id": "B8sOA7mEKOSp"
   },
   "source": [
    "If you use Colab, uncomment the following to cache the dataset inside the VM. This will make reloading faster if you need to restart your notebook. After longer periods of inactivity, your VM may be recycled and the cache lost, in which case the dataset will be downloaded again. Also note that this dataset is about 1Gb large, and will take even more space in memory. You may need to switch to a high-RAM environment (Colab will ask you if you hit the limit)."
   ]
  },
  {
   "cell_type": "code",
   "execution_count": 17,
   "metadata": {
    "colab": {},
    "colab_type": "code",
    "id": "Wu9s9dnlJMP0"
   },
   "outputs": [],
   "source": [
    "# Use OpenML caching in Colab\n",
    "# On your local machine, it will store data in a hidden folder '~/.openml'\n",
    "#import os\n",
    "#oml.config.cache_directory = os.path.expanduser('/content/cache')"
   ]
  },
  {
   "cell_type": "code",
   "execution_count": 18,
   "metadata": {
    "colab": {},
    "colab_type": "code",
    "id": "_3o_TT8SMuLy"
   },
   "outputs": [],
   "source": [
    "# Download Streetview data. Takes a while (several minutes), and quite a bit of\n",
    "# memory when it needs to download. After caching it loads faster.\n",
    "SVHN = oml.datasets.get_dataset(41081)\n",
    "X, y, _, _ = SVHN.get_data(dataset_format='array',\n",
    "    target=SVHN.default_target_attribute)"
   ]
  },
  {
   "cell_type": "markdown",
   "metadata": {
    "colab_type": "text",
    "id": "EPwHgeC3MuMI"
   },
   "source": [
    "Reshape, sample and split the data"
   ]
  },
  {
   "cell_type": "code",
   "execution_count": 19,
   "metadata": {
    "colab": {},
    "colab_type": "code",
    "id": "3C14250QOGpL"
   },
   "outputs": [],
   "source": [
    "from tensorflow.keras.utils import to_categorical\n",
    "\n",
    "Xr = X.reshape((len(X),32,32,3))\n",
    "Xr = Xr / 255.\n",
    "yr = to_categorical(y)"
   ]
  },
  {
   "cell_type": "code",
   "execution_count": 20,
   "metadata": {
    "colab": {},
    "colab_type": "code",
    "id": "sbxtRoDcMuMK"
   },
   "outputs": [],
   "source": [
    "# DO NOT EDIT. DO NOT OVERWRITE THESE VARIABLES.\n",
    "from sklearn.model_selection import train_test_split\n",
    "# We do an 80-20 split for the training and test set, and then again a 80-20 split into training and validation data\n",
    "X_train_all, X_test, y_train_all, y_test = train_test_split(Xr,yr, stratify=yr, train_size=0.8, test_size=0.2, random_state=1)\n",
    "X_train, X_val, y_train, y_val = train_test_split(X_train_all,y_train_all, stratify=y_train_all, train_size=0.8, random_state=1)\n",
    "evaluation_split = X_train, X_val, y_train, y_val"
   ]
  },
  {
   "cell_type": "markdown",
   "metadata": {
    "colab_type": "text",
    "id": "gUAf28y2O6ks"
   },
   "source": [
    "Check the formatting - and what the data looks like"
   ]
  },
  {
   "cell_type": "code",
   "execution_count": 21,
   "metadata": {
    "colab": {
     "base_uri": "https://localhost:8080/",
     "height": 141
    },
    "colab_type": "code",
    "id": "QEWsr56hMuL8",
    "outputId": "6b3d17a1-bbc8-46ef-f5c6-66e15f01b963"
   },
   "outputs": [
    {
     "data": {
      "image/png": "[encoded data removed]",
      "text/plain": [
       "<Figure size 720x360 with 5 Axes>"
      ]
     },
     "metadata": {},
     "output_type": "display_data"
    }
   ],
   "source": [
    "from random import randint\n",
    "\n",
    "# Takes a list of row ids, and plots the corresponding images\n",
    "# Use grayscale=True for plotting grayscale images\n",
    "def plot_images(X, y, grayscale=False):\n",
    "    fig, axes = plt.subplots(1, len(X),  figsize=(10, 5))\n",
    "    for n in range(len(X)):\n",
    "        if grayscale:\n",
    "            axes[n].imshow(X[n], cmap='gray')\n",
    "        else:\n",
    "            axes[n].imshow(X[n])\n",
    "        axes[n].set_xlabel((np.argmax(y[n])+1)%10) # Label is index+1\n",
    "        axes[n].set_xticks(()), axes[n].set_yticks(())\n",
    "    plt.show();\n",
    "\n",
    "images = [randint(0,len(X_train)) for i in range(5)]\n",
    "X_random = [X_train[i] for i in images]\n",
    "y_random = [y_train[i] for i in images]\n",
    "plot_images(X_random, y_random)"
   ]
  },
  {
   "cell_type": "markdown",
   "metadata": {
    "colab_type": "text",
    "id": "yUQ22FEawd-J"
   },
   "source": [
    "### Evaluation harness\n",
    "We provide an evaluation function 'run_evaluation' that you should use to \n",
    "evaluate all your models. It also stores the trained models to disk so that\n",
    "your submission can be quickly verified, as well as to avoid having to train\n",
    "them over and over again. Your last run of the evaluation function (the last one\n",
    "stored to file), is the one that will be evaluated. The 'train' argument indicates whether to train or to load from disk. We have provided helper functions for saving and loading models to/from file, assuming you use TensorFlow. If you use PyTorch you'll have to adapt them."
   ]
  },
  {
   "cell_type": "code",
   "execution_count": 22,
   "metadata": {
    "colab": {},
    "colab_type": "code",
    "id": "SFGTq4mUV2zK"
   },
   "outputs": [],
   "source": [
    "import os\n",
    "import pickle\n",
    "import pandas as pd\n",
    "import numpy as np\n",
    "from tensorflow.keras.models import load_model # for use with tensorflow\n",
    "\n",
    "def shout(text, verbose=1):\n",
    "    \"\"\" Prints text in red. Just for fun.\n",
    "    \"\"\"\n",
    "    if verbose>0:\n",
    "        print('\\033[91m'+text+'\\x1b[0m')\n",
    "\n",
    "def load_model_from_file(base_dir, name, extension='.h5'):\n",
    "  \"\"\" Loads a model from a file. The returned model must have a 'fit' and 'summary'\n",
    "  function following the Keras API. Don't change if you use TensorFlow. Otherwise,\n",
    "  adapt as needed. \n",
    "  Keyword arguments:\n",
    "    base_dir -- Directory where the models are stored\n",
    "    name -- Name of the model, e.g. 'question_1_1'\n",
    "    extension -- the file extension\n",
    "  \"\"\"\n",
    "  try:\n",
    "    # if a json description is available, load config and then weights\n",
    "    if os.path.isfile(os.path.join(base_dir, name+'.json')):\n",
    "      json_file = open(os.path.join(base_dir, name+'.json'), 'r')\n",
    "      loaded_model_json = json_file.read()\n",
    "      json_file.close()\n",
    "      model = model_from_json(loaded_model_json)\n",
    "      model.load_weights(os.path.join(base_dir, name+extension))\n",
    "    # else just load the entire model from hdf5 file\n",
    "    else:\n",
    "      model = load_model(os.path.join(base_dir, name+extension))\n",
    "  except OSError:\n",
    "    shout(\"Saved model could not be found. Was it trained and stored correctly? Is the base_dir correct?\")\n",
    "    return False\n",
    "  return model\n",
    "\n",
    "def save_model_to_file(model, base_dir, name, extension='.h5'):\n",
    "  \"\"\" Saves a model to file. Don't change if you use TensorFlow. Otherwise,\n",
    "  adapt as needed. \n",
    "  Keyword arguments:\n",
    "    model -- the model to be saved\n",
    "    base_dir -- Directory where the models should be stored\n",
    "    name -- Name of the model, e.g. 'question_1_1'\n",
    "    extension -- the file extension\n",
    "  \"\"\"\n",
    "  path = os.path.join(base_dir, name+extension)\n",
    "  model.save(path)\n",
    "  size = os.path.getsize(path)\n",
    "  # If model > 100MB, store the weights and architecture only.\n",
    "  if size > 100*1024*1024:\n",
    "    print(\"Model larger than 100MB, storing weights only.\")\n",
    "    model.save_weights(path)\n",
    "    model_json = model.to_json()\n",
    "    with open(os.path.join(base_dir, name+\".json\"), \"w\") as json_file:\n",
    "        json_file.write(model_json)\n",
    "\n",
    "# Helper function to extract min/max from the learning curves\n",
    "def minMax(x):\n",
    "    return pd.Series(index=['min','max'],data=[x.min(),x.max()])\n",
    "\n",
    "# DO NOT EDIT\n",
    "def run_evaluation(name, model_builder, data, base_dir, train=True, \n",
    "                   generator=False, epochs=3, batch_size=32, steps_per_epoch=60, \n",
    "                   verbose=1, **kwargs):\n",
    "    \"\"\" Trains and evaluates the given model on the predefined train and test splits,\n",
    "    stores the trained model and learning curves. Also prints out a summary of the \n",
    "    model and plots the learning curves.\n",
    "    Keyword arguments:\n",
    "    name -- the name of the model to be stored, e.g. 'question_1_1.h5'\n",
    "    model_builder -- function that returns an (untrained) model. The model must \n",
    "                     have a 'fit' function that follows the Keras API. It can wrap\n",
    "                     a non-Keras model as long as the 'fit' function takes the \n",
    "                     same attributes and returns the learning curves (history).\n",
    "                     It also must have a 'summary' function that prints out a \n",
    "                     model summary, and a 'save' function that saves the model \n",
    "                     to disk. \n",
    "    data -- data split for evaluation. A tuple of either:\n",
    "            * Numpy arrays (X_train, X_val, y_train, y_val)\n",
    "            * A data generator and validation data (generator, X_val, y_val)\n",
    "    base_dir -- the directory to save or read models to/from\n",
    "    train -- whether or not the data should be trained. If False, the trained model\n",
    "             will be loaded from disk.\n",
    "    generator -- whether the data in given as a generator or not\n",
    "    epochs -- the number of epochs to train for\n",
    "    batch_size -- the batch size to train with\n",
    "    steps_per_epoch -- steps per epoch, in case a generator is used (ignored otherwise)\n",
    "    verbose -- verbosity level, 0: silent, 1: minimal,...\n",
    "    kwargs -- keyword arguments that should be passed to model_builder.\n",
    "              Not required, but may help you to adjust its behavior\n",
    "    \"\"\"\n",
    "    model = model_builder(**kwargs)\n",
    "    if not model:\n",
    "        shout(\"No model is returned by the model_builder\")\n",
    "        return\n",
    "    if not hasattr(model, 'fit'):\n",
    "        shout(\"Model is not built correctly\")\n",
    "        return\n",
    "    learning_curves = {}\n",
    "    if train and not stop_training: # Train anew\n",
    "        shout(\"Training the model\", verbose)\n",
    "        if generator:\n",
    "            generator, X_val, y_val = data\n",
    "            history = model.fit(generator, epochs=epochs, batch_size=batch_size,\n",
    "                              steps_per_epoch=steps_per_epoch, verbose=1, \n",
    "                              validation_data=(X_val, y_val))\n",
    "            learning_curves = history.history\n",
    "        else:\n",
    "            X_train, X_val, y_train, y_val = data\n",
    "            history = model.fit(X_train, y_train, epochs=epochs, batch_size=batch_size,\n",
    "                              verbose=1, validation_data=(X_val, y_val))\n",
    "            learning_curves = history.history\n",
    "        shout(\"Saving to file\", verbose)\n",
    "        save_model_to_file(model, base_dir, name)\n",
    "        with open(os.path.join(base_dir, name+'.p'), 'wb') as file_pi:\n",
    "            pickle.dump(learning_curves, file_pi)\n",
    "        shout(\"Model stored in \"+base_dir, verbose)\n",
    "    else: # Load from file\n",
    "        shout(\"Loading model from file\", verbose)\n",
    "        model = load_model_from_file(base_dir, name)\n",
    "        if not model:\n",
    "            shout(\"Model not found\")\n",
    "            return\n",
    "        learning_curves = None\n",
    "        try:\n",
    "            learning_curves = pickle.load(open(os.path.join(base_dir, name+'.p'), \"rb\"))\n",
    "        except FileNotFoundError:\n",
    "            shout(\"Learning curves not found\")\n",
    "            return\n",
    "        shout(\"Success!\", verbose)\n",
    "    # Report\n",
    "    print(model.summary())\n",
    "    lc = pd.DataFrame(learning_curves)\n",
    "    lc.plot(lw=2,style=['b:','r:','b-','r-']);\n",
    "    plt.xlabel('epochs');\n",
    "    print(lc.apply(minMax))"
   ]
  },
  {
   "cell_type": "markdown",
   "metadata": {
    "colab_type": "text",
    "id": "IU_zPWGPypce"
   },
   "source": [
    "## Part 1. Dense networks (10 points)\n",
    "\n",
    "### Question 1.1: Baseline model (4 points)\n",
    "- Build a dense network (with only dense layers) of at least 3 layers that is shaped like a pyramid: The first layer must have many nodes, and every subsequent layer must have increasingly fewer nodes, e.g. half as many. Implement a function 'build_model_1_1' that returns this model.\n",
    "- You can explore different settings, but don't use any preprocessing or regularization yet. You should be able to achieve at least 70% accuracy, but more is of course better. Unless otherwise stated, you can use accuracy as the evaluation metric in all questions.\n",
    "* Add a small description of your design choices (max. 500 characters) in 'answer_q_1_1': explain what you did and also why. Also discuss the performance of the model. Is it working well? Both the performance of the model and your explanations matter.\n",
    "- The name of the model should be 'model_1_1'. Evaluate it using the 'run_evaluation' function. For this question, you should not use more than 50 epochs."
   ]
  },
  {
   "cell_type": "code",
   "execution_count": 23,
   "metadata": {
    "colab": {
     "base_uri": "https://localhost:8080/",
     "height": 53
    },
    "colab_type": "code",
    "id": "hci6BIdHJTN0",
    "outputId": "d55ca35d-f1d7-467b-9a08-cb3caa0b75c4"
   },
   "outputs": [
    {
     "name": "stdout",
     "output_type": "stream",
     "text": [
      "\u001b[91mLoading model from file\u001b[0m\n",
      "\u001b[91mSuccess!\u001b[0m\n",
      "Model: \"sequential_52\"\n",
      "_________________________________________________________________\n",
      "Layer (type)                 Output Shape              Param #   \n",
      "=================================================================\n",
      "reshape_51 (Reshape)         (None, 3072)              0         \n",
      "_________________________________________________________________\n",
      "dense_211 (Dense)            (None, 128)               393344    \n",
      "_________________________________________________________________\n",
      "dense_212 (Dense)            (None, 64)                8256      \n",
      "_________________________________________________________________\n",
      "dense_213 (Dense)            (None, 32)                2080      \n",
      "_________________________________________________________________\n",
      "dense_214 (Dense)            (None, 10)                330       \n",
      "=================================================================\n",
      "Total params: 404,010\n",
      "Trainable params: 404,010\n",
      "Non-trainable params: 0\n",
      "_________________________________________________________________\n",
      "None\n",
      "         loss  accuracy  val_loss  val_accuracy\n",
      "min  0.524492  0.430033  0.616552      0.556493\n",
      "max  1.662558  0.835279  1.343686      0.817398\n"
     ]
    },
    {
     "data": {
      "image/png": "[encoded data removed]",
      "text/plain": [
       "<Figure size 432x288 with 1 Axes>"
      ]
     },
     "metadata": {
      "needs_background": "light"
     },
     "output_type": "display_data"
    }
   ],
   "source": [
    "def build_model_1_1():\n",
    "    model = models.Sequential()\n",
    "    model.add(layers.Reshape((3072,), input_shape=(32,32,3)))\n",
    "    model.add(layers.Dense(128, activation='elu'))\n",
    "    model.add(layers.Dense(64, activation='elu'))\n",
    "    model.add(layers.Dense(32, activation='elu'))\n",
    "    model.add(layers.Dense(10, activation='softmax'))\n",
    "    model.compile(optimizer='Nadam',\n",
    "                  loss='categorical_crossentropy',\n",
    "                  metrics=['accuracy'])\n",
    "    return model\n",
    "\n",
    "run_evaluation(\"model_1_1\", build_model_1_1, evaluation_split, base_dir, \n",
    "               train=False, epochs=40, batch_size=32)"
   ]
  },
  {
   "cell_type": "code",
   "execution_count": 24,
   "metadata": {},
   "outputs": [
    {
     "name": "stdout",
     "output_type": "stream",
     "text": [
      "Answer is 486 characters long\n"
     ]
    }
   ],
   "source": [
    "answer_q_1_1 = \"\"\"\n",
    "I started with a dense layer of 32 neurons and iteratively added a dense layer with twice the neurons until the network stopped underfitting.\n",
    "I chose ELU since it is not too sensitive to vanishing gradients and removes the dying ReLU problem.\n",
    "I tried all default Keras optimizers, and Nadam worked best.\n",
    "I chose softmax as activation function in the output layer, since it works well with categorical_crossentropy.\n",
    "The network works quite well, but starts overfitting after 15 epochs.\n",
    "\"\"\"\n",
    "print(\"Answer is {} characters long\".format(len(answer_q_1_1)))"
   ]
  },
  {
   "cell_type": "markdown",
   "metadata": {
    "colab_type": "text",
    "id": "kmicpoNvonjd"
   },
   "source": [
    "### Question 1.2: Preprocessing (2 points)\n",
    "Rerun the model, but now preprocess the data first by converting the images to \n",
    "greyscale. You can use the helper function below. If you want to do additional \n",
    "preprocessing, you can do that here, too.\n",
    "* Store the preprocessed data as a tuple `preprocessed_split`\n",
    "* Rerun and re-evaluate your model using the preprocessed data.\n",
    "  * For the remainder of the assignment, always use the preprocessed data\n",
    "* Explain what you did and interpret the results in 'answer_q_1_2'. Is the model\n",
    "  better, if so, why?"
   ]
  },
  {
   "cell_type": "code",
   "execution_count": 25,
   "metadata": {
    "colab": {},
    "colab_type": "code",
    "id": "_wFGWDQSqkIM"
   },
   "outputs": [],
   "source": [
    "# Luminance-preserving RGB to greyscale conversion\n",
    "def rgb2gray(X):\n",
    "    return np.expand_dims(np.dot(X, [0.2990, 0.5870, 0.1140]), axis=3)"
   ]
  },
  {
   "cell_type": "code",
   "execution_count": 26,
   "metadata": {
    "colab": {
     "base_uri": "https://localhost:8080/",
     "height": 53
    },
    "colab_type": "code",
    "id": "3aTVsLaojNeM",
    "outputId": "7ce47d0b-a86f-476b-b1ab-bce088c17a8e"
   },
   "outputs": [
    {
     "name": "stdout",
     "output_type": "stream",
     "text": [
      "\u001b[91mLoading model from file\u001b[0m\n",
      "\u001b[91mSuccess!\u001b[0m\n",
      "Model: \"sequential_37\"\n",
      "_________________________________________________________________\n",
      "Layer (type)                 Output Shape              Param #   \n",
      "=================================================================\n",
      "reshape_37 (Reshape)         (None, 1024)              0         \n",
      "_________________________________________________________________\n",
      "dense_153 (Dense)            (None, 128)               131200    \n",
      "_________________________________________________________________\n",
      "dense_154 (Dense)            (None, 64)                8256      \n",
      "_________________________________________________________________\n",
      "dense_155 (Dense)            (None, 32)                2080      \n",
      "_________________________________________________________________\n",
      "dense_156 (Dense)            (None, 10)                330       \n",
      "=================================================================\n",
      "Total params: 141,866\n",
      "Trainable params: 141,866\n",
      "Non-trainable params: 0\n",
      "_________________________________________________________________\n",
      "None\n",
      "         loss  accuracy  val_loss  val_accuracy\n",
      "min  0.527624  0.446604  0.618088      0.564990\n",
      "max  1.622562  0.834886  1.322053      0.812362\n"
     ]
    },
    {
     "data": {
      "image/png": "[encoded data removed]",
      "text/plain": [
       "<Figure size 432x288 with 1 Axes>"
      ]
     },
     "metadata": {
      "needs_background": "light"
     },
     "output_type": "display_data"
    }
   ],
   "source": [
    "# Replace with the preprocessed data\n",
    "preprocessed_split = rgb2gray(X_train),  rgb2gray(X_val),  y_train,  y_val\n",
    "\n",
    "# Adjusted model\n",
    "def build_model_1_2():\n",
    "    model = models.Sequential()\n",
    "    model.add(layers.Reshape((1024,), input_shape=(32,32,1)))\n",
    "    model.add(layers.Dense(128, activation='elu'))\n",
    "    model.add(layers.Dense(64, activation='elu'))\n",
    "    model.add(layers.Dense(32, activation='elu'))\n",
    "    model.add(layers.Dense(10, activation='softmax'))\n",
    "    model.compile(optimizer='Nadam',\n",
    "                  loss='categorical_crossentropy',\n",
    "                  metrics=['accuracy'])\n",
    "    return model\n",
    "\n",
    "# Evaluate. Use a new name 'model_1_2' to not overwrite the previous trained model\n",
    "run_evaluation(\"model_1_2\", build_model_1_2, preprocessed_split, base_dir, \n",
    "               train=False, epochs=25, batch_size=32)"
   ]
  },
  {
   "cell_type": "code",
   "execution_count": 27,
   "metadata": {},
   "outputs": [
    {
     "name": "stdout",
     "output_type": "stream",
     "text": [
      "Answer is 494 characters long\n"
     ]
    }
   ],
   "source": [
    "answer_q_1_2 = \"\"\"\n",
    "Data is lost by converting the images to greyscale. This shrinks the input shape from (32,32,3) to (32,32,1).\n",
    "Data may be lost, but color is not important when it comes to catogoraizing images of numbers.\n",
    "The first few epochs have the biggest difference in accuracy. The model learns faster, since there is less 'noise' in the data. \n",
    "As a result, the model requires less epochs to get the same accuracy from the previous model, making it a better model.\n",
    "However, it starts to overfit earlier.\n",
    "\"\"\"\n",
    "\n",
    "print(\"Answer is {} characters long\".format(len(answer_q_1_2)))"
   ]
  },
  {
   "cell_type": "markdown",
   "metadata": {
    "colab_type": "text",
    "id": "7l1pHwimiWQI"
   },
   "source": [
    "### Question 1.3: Regularization and tuning (4 points)\n",
    "* Regularize the model. You can explore (and combine) different techniques. What works best?\n",
    "* Tune other hyperparameters (e.g. learning rate, batch size,...) as you see fit.\n",
    "* Explain your findings and final design decisions. Retrain the model again on the preprocessed data and discuss the results.\n",
    "* Return your model in function 'build_model_1_3' and write your answer in 'answer_q_1_3'"
   ]
  },
  {
   "cell_type": "code",
   "execution_count": 28,
   "metadata": {
    "colab": {
     "base_uri": "https://localhost:8080/",
     "height": 53
    },
    "colab_type": "code",
    "id": "2ZZenVX1jDIQ",
    "outputId": "21294110-1f3e-4555-f3f3-a24bae135de5"
   },
   "outputs": [
    {
     "name": "stdout",
     "output_type": "stream",
     "text": [
      "\u001b[91mLoading model from file\u001b[0m\n",
      "\u001b[91mSuccess!\u001b[0m\n",
      "Model: \"sequential_46\"\n",
      "_________________________________________________________________\n",
      "Layer (type)                 Output Shape              Param #   \n",
      "=================================================================\n",
      "reshape_46 (Reshape)         (None, 1024)              0         \n",
      "_________________________________________________________________\n",
      "dense_189 (Dense)            (None, 128)               131200    \n",
      "_________________________________________________________________\n",
      "dropout_33 (Dropout)         (None, 128)               0         \n",
      "_________________________________________________________________\n",
      "dense_190 (Dense)            (None, 64)                8256      \n",
      "_________________________________________________________________\n",
      "dropout_34 (Dropout)         (None, 64)                0         \n",
      "_________________________________________________________________\n",
      "dense_191 (Dense)            (None, 32)                2080      \n",
      "_________________________________________________________________\n",
      "dropout_35 (Dropout)         (None, 32)                0         \n",
      "_________________________________________________________________\n",
      "dense_192 (Dense)            (None, 10)                330       \n",
      "=================================================================\n",
      "Total params: 141,866\n",
      "Trainable params: 141,866\n",
      "Non-trainable params: 0\n",
      "_________________________________________________________________\n",
      "None\n",
      "         loss  accuracy  val_loss  val_accuracy\n",
      "min  0.643333  0.259427  0.633529       0.38755\n",
      "max  2.114226  0.830385  1.837512       0.83817\n"
     ]
    },
    {
     "data": {
      "image/png": "[encoded data removed]",
      "text/plain": [
       "<Figure size 432x288 with 1 Axes>"
      ]
     },
     "metadata": {
      "needs_background": "light"
     },
     "output_type": "display_data"
    }
   ],
   "source": [
    "def build_model_1_3():\n",
    "    model = models.Sequential()\n",
    "    model.add(layers.Reshape((1024,), input_shape=(32,32,1)))\n",
    "    model.add(layers.Dense(128, kernel_regularizer=regularizers.l2(0.001 / 10),activation='elu'))\n",
    "    model.add(layers.Dropout(0.3 / 10))\n",
    "    model.add(layers.Dense(64, kernel_regularizer=regularizers.l2(0.001 / 10), activation='elu'))\n",
    "    model.add(layers.Dropout(0.4 / 10))\n",
    "    model.add(layers.Dense(32, kernel_regularizer=regularizers.l2(0.001 / 10), activation='elu'))\n",
    "    model.add(layers.Dropout(0.5 / 10))\n",
    "    model.add(layers.Dense(10,activation='softmax'))\n",
    "    model.compile(optimizer='Nadam',\n",
    "                  loss='categorical_crossentropy',\n",
    "                  metrics=['accuracy'])\n",
    "    return model\n",
    "\n",
    "run_evaluation(\"model_1_3\", build_model_1_3, preprocessed_split, base_dir, \n",
    "               train=False, epochs=50, batch_size=128)"
   ]
  },
  {
   "cell_type": "code",
   "execution_count": 29,
   "metadata": {},
   "outputs": [
    {
     "name": "stdout",
     "output_type": "stream",
     "text": [
      "Answer is 498 characters long\n"
     ]
    }
   ],
   "source": [
    "answer_q_1_3 = \"\"\"\n",
    "The base amount of layers/neurons has not been adjusted due to the build-up strategy of 1.1.\n",
    "I did a gridsearch to determine the regularizer and regularizer factor.\n",
    "I tried batch normalization, but the network got worse.\n",
    "Gradually increasing the amount of dropout rate worked best. This forces layers deep in the model to regularize more.\n",
    "It is recommended to use default values for Nadam.\n",
    "The generalization performance of the network has improved, resulting in higher overall accuracy on X_val.\n",
    "\"\"\"\n",
    "print(\"Answer is {} characters long\".format(len(answer_q_1_3)))"
   ]
  },
  {
   "cell_type": "markdown",
   "metadata": {
    "colab_type": "text",
    "id": "leo7YbI9L5et"
   },
   "source": [
    "## Part 2. Convolutional neural networks (10 points)\n",
    "### Question 2.1: Design a ConvNet (7 points)\n",
    "- Build a sequential convolutional neural network. Try to achieve the best validation accuracy you can. You should be able to get at least 90% accuracy. You can use any depth, any combination of layers, and any kind of regularization and tuning. \n",
    "- Add a description of your design choices in 'answer_q_2_1': explain what you did and also why. Also discuss the performance of the model. Is it working well? Both the performance of the model and your explanations matter.\n",
    "- You are allowed **800** characters for this answer (but don’t ramble).\n",
    "- The name of the model should be 'model_2_1'. Evaluate it using the 'run_evaluation' function and the preprocessed data."
   ]
  },
  {
   "cell_type": "code",
   "execution_count": 30,
   "metadata": {
    "colab": {
     "base_uri": "https://localhost:8080/",
     "height": 53
    },
    "colab_type": "code",
    "id": "ceyv-n1JRYyP",
    "outputId": "818e2fd1-77c1-4236-a8ee-dec7d9eb8a9e"
   },
   "outputs": [
    {
     "name": "stdout",
     "output_type": "stream",
     "text": [
      "\u001b[91mLoading model from file\u001b[0m\n",
      "\u001b[91mSuccess!\u001b[0m\n",
      "Model: \"sequential_76\"\n",
      "_________________________________________________________________\n",
      "Layer (type)                 Output Shape              Param #   \n",
      "=================================================================\n",
      "conv2d_99 (Conv2D)           (None, 32, 32, 32)        320       \n",
      "_________________________________________________________________\n",
      "batch_normalization_121 (Bat (None, 32, 32, 32)        128       \n",
      "_________________________________________________________________\n",
      "conv2d_100 (Conv2D)          (None, 32, 32, 32)        9248      \n",
      "_________________________________________________________________\n",
      "batch_normalization_122 (Bat (None, 32, 32, 32)        128       \n",
      "_________________________________________________________________\n",
      "max_pooling2d_49 (MaxPooling (None, 16, 16, 32)        0         \n",
      "_________________________________________________________________\n",
      "dropout_110 (Dropout)        (None, 16, 16, 32)        0         \n",
      "_________________________________________________________________\n",
      "conv2d_101 (Conv2D)          (None, 16, 16, 64)        18496     \n",
      "_________________________________________________________________\n",
      "batch_normalization_123 (Bat (None, 16, 16, 64)        256       \n",
      "_________________________________________________________________\n",
      "conv2d_102 (Conv2D)          (None, 16, 16, 64)        36928     \n",
      "_________________________________________________________________\n",
      "batch_normalization_124 (Bat (None, 16, 16, 64)        256       \n",
      "_________________________________________________________________\n",
      "max_pooling2d_50 (MaxPooling (None, 8, 8, 64)          0         \n",
      "_________________________________________________________________\n",
      "dropout_111 (Dropout)        (None, 8, 8, 64)          0         \n",
      "_________________________________________________________________\n",
      "flatten_24 (Flatten)         (None, 4096)              0         \n",
      "_________________________________________________________________\n",
      "dense_259 (Dense)            (None, 512)               2097664   \n",
      "_________________________________________________________________\n",
      "batch_normalization_125 (Bat (None, 512)               2048      \n",
      "_________________________________________________________________\n",
      "dropout_112 (Dropout)        (None, 512)               0         \n",
      "_________________________________________________________________\n",
      "dense_260 (Dense)            (None, 10)                5130      \n",
      "=================================================================\n",
      "Total params: 2,170,602\n",
      "Trainable params: 2,169,194\n",
      "Non-trainable params: 1,408\n",
      "_________________________________________________________________\n",
      "None\n",
      "         loss  accuracy  val_loss  val_accuracy\n",
      "min  0.181150  0.751416  0.212202      0.857871\n",
      "max  0.829757  0.947076  0.479592      0.947001\n"
     ]
    },
    {
     "data": {
      "image/png": "[encoded data removed]",
      "text/plain": [
       "<Figure size 432x288 with 1 Axes>"
      ]
     },
     "metadata": {
      "needs_background": "light"
     },
     "output_type": "display_data"
    }
   ],
   "source": [
    "def build_model_2_1():\n",
    "    model = models.Sequential()\n",
    "    \n",
    "    #Block 1\n",
    "    model.add(layers.Conv2D(32, (3, 3), activation='relu', padding='same', input_shape=(32, 32, 1)))\n",
    "    model.add(layers.BatchNormalization())\n",
    "    model.add(layers.Conv2D(32, (3, 3), activation='relu', padding='same', input_shape=(32, 32, 1)))\n",
    "    model.add(layers.BatchNormalization())\n",
    "    model.add(layers.MaxPooling2D((2,2)))\n",
    "    model.add(layers.Dropout(0.4)) \n",
    "\n",
    "    #Block 2\n",
    "    model.add(layers.Conv2D(64, (3, 3), activation='relu', padding='same'))\n",
    "    model.add(layers.BatchNormalization())\n",
    "    model.add(layers.Conv2D(64, (3, 3), activation='relu', padding='same'))\n",
    "    model.add(layers.BatchNormalization())\n",
    "    model.add(layers.MaxPooling2D((2,2)))\n",
    "    model.add(layers.Dropout(0.4))\n",
    "    \n",
    "    #Final Dense Layer\n",
    "    model.add(layers.Flatten())\n",
    "    model.add(layers.Dense(512, activation='relu'))\n",
    "    model.add(layers.BatchNormalization())\n",
    "    model.add(layers.Dropout(0.5))\n",
    "    \n",
    "    \n",
    "    #Output Layer\n",
    "    model.add(layers.Dense(10, activation='softmax'))\n",
    "    \n",
    "    rms = optimizers.RMSprop(learning_rate=0.001, rho=0.9, momentum=0.0, epsilon=1e-07, centered=True)\n",
    "\n",
    "    model.compile(optimizer=rms,\n",
    "                  loss='categorical_crossentropy',\n",
    "                  metrics=['accuracy'])\n",
    "    return model\n",
    "\n",
    "run_evaluation(\"model_2_1\", build_model_2_1, preprocessed_split, base_dir, \n",
    "               train=False, epochs=25, batch_size=32)\n"
   ]
  },
  {
   "cell_type": "code",
   "execution_count": 31,
   "metadata": {},
   "outputs": [
    {
     "name": "stdout",
     "output_type": "stream",
     "text": [
      "Answer is 797 characters long\n"
     ]
    }
   ],
   "source": [
    "answer_q_2_1 = \"\"\"\n",
    "The number of filters learning is increasing as the output spatial volume is decreasing. \n",
    "I have done this, since it is a common practice in designing CNN architectures. \n",
    "After every two Conv2d there is a Max Pooling layer, since more convolution before reducing the size can lead to more interesting representations of the data, and improve the accuracy. \n",
    "A kernel size of 3x3 is chosen, since the input is small. \n",
    "Gradually increasing the amount of dropout rate worked best. This forces layers deep in the model to regularize more.\n",
    "The network converged more quickly and trained faster with the use of batch normalization.\n",
    "A final fully conntected layer is added, since this is common practive and increased the accuracy. \n",
    "The model works well, but starts slightly overfitting after 20 epochs.\n",
    "\"\"\"\n",
    "print(\"Answer is {} characters long\".format(len(answer_q_2_1)))"
   ]
  },
  {
   "cell_type": "markdown",
   "metadata": {
    "colab_type": "text",
    "id": "EpdLTbPwXmOc"
   },
   "source": [
    "### Question 2.2: Data Augmentation (3 points)\n",
    "\n",
    "- Augment the preprocessed training data. You can explore using image shifts, rotations, zooming, flips, etc. What works well, and what does not?\n",
    "- Evaluate the model from question 2.1 with the augmented data using the 'run_evaluation' function. Store the new trained model as 'model_2_2'.\n",
    "- Add a description of your design choices in 'answer_q_2_2': explain what you did and also why. Also discuss the performance of the model."
   ]
  },
  {
   "cell_type": "code",
   "execution_count": 32,
   "metadata": {
    "colab": {
     "base_uri": "https://localhost:8080/",
     "height": 53
    },
    "colab_type": "code",
    "id": "cp8wMUU-aqhQ",
    "outputId": "4cdfe1e6-2c8f-4f19-ca46-cd283fe66113"
   },
   "outputs": [
    {
     "name": "stdout",
     "output_type": "stream",
     "text": [
      "\u001b[91mLoading model from file\u001b[0m\n",
      "\u001b[91mSuccess!\u001b[0m\n",
      "Model: \"sequential_77\"\n",
      "_________________________________________________________________\n",
      "Layer (type)                 Output Shape              Param #   \n",
      "=================================================================\n",
      "conv2d_103 (Conv2D)          (None, 32, 32, 32)        320       \n",
      "_________________________________________________________________\n",
      "batch_normalization_126 (Bat (None, 32, 32, 32)        128       \n",
      "_________________________________________________________________\n",
      "conv2d_104 (Conv2D)          (None, 32, 32, 32)        9248      \n",
      "_________________________________________________________________\n",
      "batch_normalization_127 (Bat (None, 32, 32, 32)        128       \n",
      "_________________________________________________________________\n",
      "max_pooling2d_51 (MaxPooling (None, 16, 16, 32)        0         \n",
      "_________________________________________________________________\n",
      "dropout_113 (Dropout)        (None, 16, 16, 32)        0         \n",
      "_________________________________________________________________\n",
      "conv2d_105 (Conv2D)          (None, 16, 16, 64)        18496     \n",
      "_________________________________________________________________\n",
      "batch_normalization_128 (Bat (None, 16, 16, 64)        256       \n",
      "_________________________________________________________________\n",
      "conv2d_106 (Conv2D)          (None, 16, 16, 64)        36928     \n",
      "_________________________________________________________________\n",
      "batch_normalization_129 (Bat (None, 16, 16, 64)        256       \n",
      "_________________________________________________________________\n",
      "max_pooling2d_52 (MaxPooling (None, 8, 8, 64)          0         \n",
      "_________________________________________________________________\n",
      "dropout_114 (Dropout)        (None, 8, 8, 64)          0         \n",
      "_________________________________________________________________\n",
      "flatten_25 (Flatten)         (None, 4096)              0         \n",
      "_________________________________________________________________\n",
      "dense_261 (Dense)            (None, 512)               2097664   \n",
      "_________________________________________________________________\n",
      "batch_normalization_130 (Bat (None, 512)               2048      \n",
      "_________________________________________________________________\n",
      "dropout_115 (Dropout)        (None, 512)               0         \n",
      "_________________________________________________________________\n",
      "dense_262 (Dense)            (None, 10)                5130      \n",
      "=================================================================\n",
      "Total params: 2,170,602\n",
      "Trainable params: 2,169,194\n",
      "Non-trainable params: 1,408\n",
      "_________________________________________________________________\n",
      "None\n",
      "         loss  accuracy  val_loss  val_accuracy\n",
      "min  0.190132  0.715315  0.183663      0.864606\n",
      "max  0.937041  0.944212  0.433776      0.953232\n"
     ]
    },
    {
     "data": {
      "image/png": "[encoded data removed]",
      "text/plain": [
       "<Figure size 432x288 with 1 Axes>"
      ]
     },
     "metadata": {
      "needs_background": "light"
     },
     "output_type": "display_data"
    }
   ],
   "source": [
    "# Note that we build the same untrained model as in question 2.1 but store the \n",
    "# trained version as model_2_2. Change attributes as needed to run on augmented\n",
    "# data\n",
    "\n",
    "train_datagen = ImageDataGenerator(\n",
    "rotation_range=10,\n",
    "width_shift_range=1.1,\n",
    "height_shift_range=1.1,\n",
    "zoom_range=[0.9,1.1],\n",
    "rescale=1.1\n",
    ")\n",
    "train_it = train_datagen.flow(preprocessed_split[0], y_train, batch_size=64)\n",
    "augmented_split = (train_it,  preprocessed_split[1],  y_val)\n",
    "\n",
    "run_evaluation(\"model_2_2\", build_model_2_1, augmented_split, base_dir, \n",
    "               train=False, epochs=50, batch_size=None, generator=True,steps_per_epoch=len(preprocessed_split[0])/64)\n"
   ]
  },
  {
   "cell_type": "code",
   "execution_count": 33,
   "metadata": {},
   "outputs": [
    {
     "name": "stdout",
     "output_type": "stream",
     "text": [
      "Answer is 456 characters long\n"
     ]
    }
   ],
   "source": [
    "answer_q_2_2 = \"\"\"\n",
    "The validation accuracy is much higher than the training accuracy in the first 30 epochs.\n",
    "This is probably due to the fact that the train data contains more 'difficult' data to learn.\n",
    "We get the best results with very subtle data augmentation (small shifts, rotations, zooms and rescales), \n",
    "because the images are low resolution and too many editing results in too much information loss.\n",
    "Flipped images do not appear in the data set, so they cause noise.\n",
    "\"\"\"\n",
    "print(\"Answer is {} characters long\".format(len(answer_q_2_2)))"
   ]
  },
  {
   "cell_type": "markdown",
   "metadata": {
    "colab_type": "text",
    "id": "Nb8jrFlnbBUP"
   },
   "source": [
    "## Part 3. Model interpretation (10 points)\n",
    "### Question 3.1: Interpreting misclassifications (2 points)\n",
    "Study which errors are still made by your last model (model_2_2) by evaluating it on the test data. You do not need to retrain the model.\n",
    "* What is the accuracy of model_2_2 on the test data? Store this in 'test_accuracy_3_1'.\n",
    "* Plot the confusion matrix in 'plot_confusion_matrix' and discuss which classes are often confused.\n",
    "* Visualize the misclassifications in more depth by focusing on a single\n",
    "class (e.g. the number '2') and analyse which kinds of mistakes are made for that class. For instance, are the errors related to the background, noisiness, etc.? Implement the visualization in 'plot_misclassifications'.\n",
    "* Summarize your findings in 'answer_q_3_1'"
   ]
  },
  {
   "cell_type": "code",
   "execution_count": 34,
   "metadata": {
    "colab": {},
    "colab_type": "code",
    "id": "yNg-7JsSbn2-"
   },
   "outputs": [
    {
     "name": "stdout",
     "output_type": "stream",
     "text": [
      "19858/19858 [==============================] - 4s 182us/sample - loss: 0.1859 - accuracy: 0.9527\n"
     ]
    }
   ],
   "source": [
    "model = load_model_from_file(base_dir, 'model_2_2')\n",
    "model._make_predict_function()\n",
    "y_pred = model.predict(rgb2gray(X_test))\n",
    "misclassified_samples = np.nonzero(np.argmax(y_test, axis=1) != np.argmax(y_pred, axis=1))[0]\n",
    "cifar_classes = {0: \"One\", 1: \"Two\", 2: \"Three\", 3: \"Four\", 4: \"Five\",\n",
    "             5: \"Six\", 6: \"Seven\", 7: \"Eight\", 8: \"Nine\", 9: \"Zero\"}\n",
    "test_accuracy_3_1 = model.evaluate(rgb2gray(X_test), y_test)[1]\n",
    "\n",
    "def plot_confusion_matrix():\n",
    "\n",
    "    from sklearn.metrics import confusion_matrix\n",
    "    cm = confusion_matrix(np.argmax(y_test, axis=1),np.argmax(y_pred, axis=1))\n",
    "    fig, ax = plt.subplots()\n",
    "    im = ax.imshow(cm)\n",
    "    ax.set_xticks(np.arange(10)), ax.set_yticks(np.arange(10))\n",
    "    ax.set_xticklabels(list(cifar_classes.values()), rotation=45, ha=\"right\")\n",
    "    ax.set_yticklabels(list(cifar_classes.values()))\n",
    "    ax.set_ylabel('True')\n",
    "    ax.set_xlabel('Predicted')\n",
    "    for i in range(100):\n",
    "        ax.text(int(i/10),i%10,cm[i%10,int(i/10)], ha=\"center\", va=\"center\", color=\"w\")\n",
    "        \n",
    "def plot_misclassifications():\n",
    "    fig, axes = plt.subplots(1, 5,  figsize=(10, 5))\n",
    "    hoi = 1\n",
    "    index = 0\n",
    "    for nr, i in enumerate(misclassified_samples):\n",
    "        if cifar_classes[np.argmax(y_pred[i])] == \"Six\" and cifar_classes[np.argmax(y_test[i])] == \"Three\":\n",
    "            axes[index].imshow(X_test[i])\n",
    "            axes[index].set_xlabel(\"Predicted: %s,\\n Actual : %s\" % (cifar_classes[np.argmax(y_pred[i])],cifar_classes[np.argmax(y_test[i])]))\n",
    "            axes[index].set_xticks(()), axes[index].set_yticks(())\n",
    "            index = index + 1\n",
    "        if index > 4:\n",
    "            break\n",
    "\n",
    "    plt.show();\n",
    "\n"
   ]
  },
  {
   "cell_type": "code",
   "execution_count": 35,
   "metadata": {},
   "outputs": [
    {
     "name": "stdout",
     "output_type": "stream",
     "text": [
      "Answer is 452 characters long\n"
     ]
    }
   ],
   "source": [
    "answer_q_3_1 = \"\"\"\n",
    "The accuracy on the test set was about 95%.\n",
    "You can see from the confusion matrix that the numbers that are confused with each other often look alike. Take 1 and 7 for example.\n",
    "It can also be seen that numbers with simple shapes such as 1 are often confused with others.\n",
    "I've researched images predicted 6 but are actual a 3, since they don't look alike.\n",
    "These confusions are usually due to poor photo quality, background noises and weird typography.\n",
    "\"\"\"\n",
    "print(\"Answer is {} characters long\".format(len(answer_q_3_1)))"
   ]
  },
  {
   "cell_type": "markdown",
   "metadata": {
    "colab_type": "text",
    "id": "EBRdBpz5Hcrx"
   },
   "source": [
    "### Question 3.2: Visualizing activations (4 points)\n",
    "* Implement a function `plot_activations()` that returns the most interesting activations (feature maps). Select the first example from the test set. Retrieve and visualize the activations of model 2_2 for that example (make sure you load that model in the function), for every filter for different convolutional layers (at different depths in the network).\n",
    "* Give an explanation (as detailed as you can) about your observations in 'answer_q_3_2'. Is your model indeed learning something useful?"
   ]
  },
  {
   "cell_type": "code",
   "execution_count": 36,
   "metadata": {
    "colab": {},
    "colab_type": "code",
    "id": "TyQ-IHHcN5Qc"
   },
   "outputs": [],
   "source": [
    "from tensorflow.keras import models\n",
    "\n",
    "# Extracts the outputs of the top 8 layers:\n",
    "layer_outputs = [layer.output for layer in model.layers]\n",
    "# Creates a model that will return these outputs, given the model input:\n",
    "activation_model = models.Model(inputs=model.input, outputs=layer_outputs)\n",
    "\n",
    "# This will return a list of 5 Numpy arrays:\n",
    "# one array per layer activation\n",
    "activations = activation_model.predict(rgb2gray(X_test))\n",
    "\n",
    "def plot_activation(layer_index, activations):\n",
    "    images_per_row = 16\n",
    "\n",
    "    layer_names = []\n",
    "    for layer in model.layers:\n",
    "        layer_names.append(layer.name)\n",
    "    \n",
    "    start = layer_index\n",
    "    end = layer_index+1\n",
    "    # Now let's display our feature maps\n",
    "    for layer_name, layer_activation in zip(layer_names[start:end], activations[start:end]):\n",
    "        # This is the number of features in the feature map\n",
    "        n_features = layer_activation.shape[-1]\n",
    "\n",
    "        # The feature map has shape (1, size, size, n_features)\n",
    "        size = layer_activation.shape[1]\n",
    "\n",
    "        # We will tile the activation channels in this matrix\n",
    "        n_cols = n_features // images_per_row\n",
    "        display_grid = np.zeros((size * n_cols, images_per_row * size))\n",
    "\n",
    "        # We'll tile each filter into this big horizontal grid\n",
    "        for col in range(n_cols):\n",
    "            for row in range(images_per_row):\n",
    "                channel_image = layer_activation[0,\n",
    "                                                 :, :,\n",
    "                                                 col * images_per_row + row]\n",
    "                # Post-process the feature to make it visually palatable\n",
    "                channel_image -= channel_image.mean()\n",
    "                channel_image /= channel_image.std()\n",
    "                channel_image *= 64\n",
    "                channel_image += 128\n",
    "                channel_image = np.clip(channel_image, 0, 255).astype('uint8')\n",
    "                display_grid[col * size : (col + 1) * size,\n",
    "                             row * size : (row + 1) * size] = channel_image\n",
    "\n",
    "        # Display the grid\n",
    "        scale = 1. / size\n",
    "        plt.figure(figsize=(scale * display_grid.shape[1],\n",
    "                            scale * display_grid.shape[0]))\n",
    "        plt.title(\"Activation of layer {} ({})\".format(layer_index+1,layer_name))\n",
    "        plt.grid(False)\n",
    "        plt.imshow(display_grid, aspect='auto', cmap='viridis')\n",
    "\n",
    "    plt.show()\n",
    "\n",
    "    \n",
    "def plot_activations():\n",
    "    plot_activation(0, activations)\n",
    "    plot_activation(2, activations)\n",
    "    plot_activation(6, activations)\n",
    "    plot_activation(8, activations)\n"
   ]
  },
  {
   "cell_type": "code",
   "execution_count": 37,
   "metadata": {},
   "outputs": [
    {
     "name": "stdout",
     "output_type": "stream",
     "text": [
      "Answer is 499 characters long\n"
     ]
    }
   ],
   "source": [
    "answer_q_3_2 = \"\"\"\n",
    "The first 2 convolution layers are various edge detectors. \n",
    "There are alot of empty filter activation in the first convolution layer, this happends when the input image does not have the information that the filter was interested in. \n",
    "Within the 3rd convolution layer it can be seen that the activations are becoming more and more abstract. \n",
    "The filter is activating on for example: the top/bottom part of the 8 and also the two holes.\n",
    "The activations on the last layer become even more abstract. \n",
    "\"\"\"\n",
    "print(\"Answer is {} characters long\".format(len(answer_q_3_2)))"
   ]
  },
  {
   "cell_type": "markdown",
   "metadata": {
    "colab_type": "text",
    "id": "6a4XT0-7Ym25"
   },
   "source": [
    "### Question 3.3: Visualizing activations (4 points)\n",
    "* Again, select the first example from the test set, and the trained model_2_2.\n",
    "* Implement a function `plot_activation_map()` that builds and shows a class activation map for your last convolutional layer that highlights what the model is paying attention to when classifying the example.\n",
    "* If possible, superimpossible the activation map over the image. If not, plot\n",
    "them side by side. Implement a function 'plot_3_3' that returns the entire plot."
   ]
  },
  {
   "cell_type": "code",
   "execution_count": 38,
   "metadata": {
    "colab": {},
    "colab_type": "code",
    "id": "vsmqYQl2ZZ4n"
   },
   "outputs": [
    {
     "name": "stdout",
     "output_type": "stream",
     "text": [
      "WARNING:tensorflow:From c:\\users\\esref er\\anaconda3\\envs\\tf_gpu\\lib\\site-packages\\tensorflow_core\\python\\ops\\resource_variable_ops.py:1635: calling BaseResourceVariable.__init__ (from tensorflow.python.ops.resource_variable_ops) with constraint is deprecated and will be removed in a future version.\n",
      "Instructions for updating:\n",
      "If using Keras pass *_constraint arguments to layers.\n"
     ]
    },
    {
     "data": {
      "image/png": "[encoded data removed]",
      "text/plain": [
       "<Figure size 720x480 with 1 Axes>"
      ]
     },
     "metadata": {},
     "output_type": "display_data"
    }
   ],
   "source": [
    "tf.compat.v1.disable_eager_execution()\n",
    "\n",
    "def plot_3_3():\n",
    "    model = load_model_from_file(base_dir, 'model_2_2')\n",
    "    # `x` is a float32 Numpy array of shape (224, 224, 3)\n",
    "    x = rgb2gray(X_test)[0]\n",
    "    x = np.expand_dims(x, axis=0)\n",
    "\n",
    "    african_elephant_output = model.output[:,7]\n",
    "\n",
    "    # The is the output feature map of the `block5_conv3` layer,\n",
    "    # the last convolutional layer in VGG16\n",
    "    last_conv_layer = model.get_layer('conv2d_106')\n",
    "\n",
    "    # This is the gradient of the \"african elephant\" class with regard to\n",
    "    # the output feature map of `block5_conv3`\n",
    "    grads = K.gradients(african_elephant_output, last_conv_layer.output)[0]\n",
    "\n",
    "    # This is a vector of shape (512,), where each entry\n",
    "    # is the mean intensity of the gradient over a specific feature map channel\n",
    "    pooled_grads = K.mean(grads, axis=(0, 1, 2))\n",
    "\n",
    "    # This function allows us to access the values of the quantities we just defined:\n",
    "    # `pooled_grads` and the output feature map of `block5_conv3`,\n",
    "    # given a sample image\n",
    "\n",
    "    iterate = K.function([model.input], [pooled_grads, last_conv_layer.output[0]])\n",
    "\n",
    "    # These are the values of these two quantities, as Numpy arrays,\n",
    "    # given our sample image of two elephants\n",
    "    pooled_grads_value, conv_layer_output_value = iterate([x])\n",
    "\n",
    "    # We multiply each channel in the feature map array\n",
    "    # by \"how important this channel is\" with regard to the elephant class\n",
    "    for i in range(64):\n",
    "        conv_layer_output_value[:, :, i] *= pooled_grads_value[i]\n",
    "\n",
    "    # The channel-wise mean of the resulting feature map\n",
    "    # is our heatmap of class activation\n",
    "\n",
    "    heatmap = np.mean(conv_layer_output_value, axis=-1)\n",
    "\n",
    "    preds = model.predict(x)\n",
    "    heatmap = np.maximum(heatmap, 0)\n",
    "    heatmap /= np.max(heatmap)\n",
    "\n",
    "    img =  X_test[0]*255\n",
    "\n",
    "    cv2.imwrite('original_image_3_3.jpg', img)\n",
    "    \n",
    "    # We use cv2 to load the original image\n",
    "    img = cv2.imread('original_image_3_3.jpg')\n",
    "\n",
    "    # We resize the heatmap to have the same size as the original image\n",
    "    heatmap = cv2.resize(heatmap, (img.shape[1], img.shape[0]))\n",
    "\n",
    "    # We convert the heatmap to RGB\n",
    "    heatmap = np.uint8(255 * heatmap)\n",
    "\n",
    "    # We apply the heatmap to the original image\n",
    "    heatmap = cv2.applyColorMap(heatmap, cv2.COLORMAP_JET)\n",
    "\n",
    "    # 0.4 here is a heatmap intensity factor\n",
    "    superimposed_img = heatmap * 0.4 + img\n",
    "\n",
    "    # Save the image to disk\n",
    "    cv2.imwrite('heatmap_image_3_3.jpg', superimposed_img)\n",
    "\n",
    "    img = cv2.imread('heatmap_image_3_3.jpg')\n",
    "    RGB_im = cv2.cvtColor(img, cv2.COLOR_BGR2RGB)\n",
    "\n",
    "    plt.rcParams['figure.dpi'] = 120\n",
    "    plt.imshow(RGB_im)\n",
    "    plt.title('Class activation map')\n",
    "    plt.xticks([])\n",
    "    plt.yticks([])\n",
    "    plt.show()\n",
    "    \n",
    "plot_3_3()"
   ]
  },
  {
   "cell_type": "markdown",
   "metadata": {
    "colab_type": "text",
    "id": "buQLQ16EypgL"
   },
   "source": [
    "## Part 4. Transfer learning (10 points)\n",
    "### Question 4.1 Fast feature extraction with VGG16 (5 points)\n",
    "- Import the VGG16 model, pretrained on ImageNet. [See here](https://keras.io/applications/). Only import the convolutional part, not the dense layers.\n",
    "- Implement a function 'build_model_4_1` that adds a dense layer to the convolutional base, and freezes the convolutional base. Consider unfreezing the last few convolutional layers and evaluate whether that works better.\n",
    "- Train the resulting model on the *original* (colored) training data\n",
    "- Evaluate the resulting model using 'run_evaluate'. Discuss the observed performance in 'answer_q_4_1'."
   ]
  },
  {
   "cell_type": "code",
   "execution_count": 39,
   "metadata": {
    "colab": {
     "base_uri": "https://localhost:8080/",
     "height": 53
    },
    "colab_type": "code",
    "id": "QXH1Z7Pqj3HW",
    "outputId": "f16a8d67-a115-464a-d06d-f7eaacc9f905"
   },
   "outputs": [
    {
     "name": "stdout",
     "output_type": "stream",
     "text": [
      "Model: \"vgg16\"\n",
      "_________________________________________________________________\n",
      "Layer (type)                 Output Shape              Param #   \n",
      "=================================================================\n",
      "input_1 (InputLayer)         [(None, 32, 32, 3)]       0         \n",
      "_________________________________________________________________\n",
      "block1_conv1 (Conv2D)        (None, 32, 32, 64)        1792      \n",
      "_________________________________________________________________\n",
      "block1_conv2 (Conv2D)        (None, 32, 32, 64)        36928     \n",
      "_________________________________________________________________\n",
      "block1_pool (MaxPooling2D)   (None, 16, 16, 64)        0         \n",
      "_________________________________________________________________\n",
      "block2_conv1 (Conv2D)        (None, 16, 16, 128)       73856     \n",
      "_________________________________________________________________\n",
      "block2_conv2 (Conv2D)        (None, 16, 16, 128)       147584    \n",
      "_________________________________________________________________\n",
      "block2_pool (MaxPooling2D)   (None, 8, 8, 128)         0         \n",
      "_________________________________________________________________\n",
      "block3_conv1 (Conv2D)        (None, 8, 8, 256)         295168    \n",
      "_________________________________________________________________\n",
      "block3_conv2 (Conv2D)        (None, 8, 8, 256)         590080    \n",
      "_________________________________________________________________\n",
      "block3_conv3 (Conv2D)        (None, 8, 8, 256)         590080    \n",
      "_________________________________________________________________\n",
      "block3_pool (MaxPooling2D)   (None, 4, 4, 256)         0         \n",
      "_________________________________________________________________\n",
      "block4_conv1 (Conv2D)        (None, 4, 4, 512)         1180160   \n",
      "_________________________________________________________________\n",
      "block4_conv2 (Conv2D)        (None, 4, 4, 512)         2359808   \n",
      "_________________________________________________________________\n",
      "block4_conv3 (Conv2D)        (None, 4, 4, 512)         2359808   \n",
      "_________________________________________________________________\n",
      "block4_pool (MaxPooling2D)   (None, 2, 2, 512)         0         \n",
      "_________________________________________________________________\n",
      "block5_conv1 (Conv2D)        (None, 2, 2, 512)         2359808   \n",
      "_________________________________________________________________\n",
      "block5_conv2 (Conv2D)        (None, 2, 2, 512)         2359808   \n",
      "_________________________________________________________________\n",
      "block5_conv3 (Conv2D)        (None, 2, 2, 512)         2359808   \n",
      "_________________________________________________________________\n",
      "block5_pool (MaxPooling2D)   (None, 1, 1, 512)         0         \n",
      "_________________________________________________________________\n",
      "global_max_pooling2d (Global (None, 512)               0         \n",
      "=================================================================\n",
      "Total params: 14,714,688\n",
      "Trainable params: 14,714,688\n",
      "Non-trainable params: 0\n",
      "_________________________________________________________________\n",
      "\u001b[91mLoading model from file\u001b[0m\n",
      "\u001b[91mSuccess!\u001b[0m\n",
      "Model: \"sequential_8\"\n",
      "_________________________________________________________________\n",
      "Layer (type)                 Output Shape              Param #   \n",
      "=================================================================\n",
      "vgg16 (Model)                (None, 512)               14714688  \n",
      "_________________________________________________________________\n",
      "flatten_5 (Flatten)          (None, 512)               0         \n",
      "_________________________________________________________________\n",
      "dense_22 (Dense)             (None, 256)               131328    \n",
      "_________________________________________________________________\n",
      "dense_23 (Dense)             (None, 10)                2570      \n",
      "=================================================================\n",
      "Total params: 14,848,586\n",
      "Trainable params: 7,213,322\n",
      "Non-trainable params: 7,635,264\n",
      "_________________________________________________________________\n",
      "None\n",
      "         loss  accuracy  val_loss  val_accuracy\n",
      "min  0.371457  0.616187  0.565664      0.709322\n",
      "max  1.142955  0.879170  0.885212      0.819097\n"
     ]
    },
    {
     "data": {
      "image/png": "[encoded data removed]",
      "text/plain": [
       "<Figure size 720x480 with 1 Axes>"
      ]
     },
     "metadata": {
      "needs_background": "light"
     },
     "output_type": "display_data"
    }
   ],
   "source": [
    "def build_model_4_1():\n",
    "    conv_base = VGG16(weights='imagenet', \n",
    "                  include_top=False,\n",
    "                  input_shape=(32, 32, 3),\n",
    "                 pooling='max')\n",
    "    conv_base.summary()\n",
    "    \n",
    "    model = models.Sequential()\n",
    "    model.add(conv_base)\n",
    "    model.add(layers.Flatten())\n",
    "    model.add(layers.Dense(256, activation='relu'))  \n",
    "    model.add(layers.Dense(10, activation='softmax'))\n",
    "    conv_base.trainable = True\n",
    "\n",
    "    set_trainable = False\n",
    "    for layer in conv_base.layers:\n",
    "        if layer.name == 'block5_conv1':\n",
    "            set_trainable = True\n",
    "        if set_trainable:\n",
    "            layer.trainable = True\n",
    "        else:\n",
    "            layer.trainable = False\n",
    "    \n",
    "    rms = optimizers.RMSprop(learning_rate=0.00002, rho=0.9, momentum=0.0, epsilon=1e-07, centered=True)\n",
    "\n",
    "    model.compile(optimizer=rms,\n",
    "                  loss='categorical_crossentropy',\n",
    "                  metrics=['accuracy'])\n",
    "    return model\n",
    "\n",
    "run_evaluation(\"model_4_1\", build_model_4_1, evaluation_split, base_dir, \n",
    "               train=False, epochs=10, batch_size=64)"
   ]
  },
  {
   "cell_type": "code",
   "execution_count": 40,
   "metadata": {},
   "outputs": [
    {
     "name": "stdout",
     "output_type": "stream",
     "text": [
      "Answer is 467 characters long\n"
     ]
    }
   ],
   "source": [
    "answer_q_4_1 = \"\"\"\n",
    "We get very poor performance when we use the fast feature extraction method.\n",
    "Fine-tuning works better, with the last block (block5_conv1) being unfreezed, but it starts heavily overfitting after 6 epochs.\n",
    "The accuracy on the validation set does not exceed 82%.\n",
    "VVG16 model is made to classify 1000 different objects in the imagenet dataset, not including numbers.\n",
    "Our network is performing better, we can conclude that VVG16 is not the network to use for this case.\n",
    "\"\"\"\n",
    "print(\"Answer is {} characters long\".format(len(answer_q_4_1)))"
   ]
  },
  {
   "cell_type": "markdown",
   "metadata": {
    "colab_type": "text",
    "id": "cp60rxZTYI8O"
   },
   "source": [
    "### Question 4.2 Embeddings and pipelines (5 points)\n",
    "- Generate embeddings of the original images by running them through the trained convolutional part of model_4_1 (without the dense layer) and returning the output. Embed the training and test data and store them to disk using the helper functions below. Implement a function `store_embeddings` that loads model_4_1 and stores all necessary embeddings to file. Make sure to run it once so that the embeddings are stored (and submitted).\n",
    "- Implement a function 'generate_pipeline' that returns an scikit-learn pipeline. You can use any non-deep learning technique (eg. SVMs, RFs,...), and preprocessing technique. You can do model selection using the validation set. \n",
    "- Implement a function 'evaluate_pipeline' that evaluates a given pipeline on a given training and test set. \n",
    "- Implement a function 'evaluation_4_2' that evaluates your pipeline on the embedded training and test set (loaded from file) and returns the accuracy. \n",
    "- Describe what you did and what you observed. Report the obtained accuracy score. Can you beat your best model thus far?"
   ]
  },
  {
   "cell_type": "code",
   "execution_count": 46,
   "metadata": {
    "colab": {
     "base_uri": "https://localhost:8080/",
     "height": 35
    },
    "colab_type": "code",
    "id": "IQo_zskOrs_m",
    "outputId": "f2b0314f-9953-43e6-c1c8-56f5cd7a5dcf"
   },
   "outputs": [
    {
     "data": {
      "text/plain": [
       "0.8125692416154698"
      ]
     },
     "execution_count": 46,
     "metadata": {},
     "output_type": "execute_result"
    }
   ],
   "source": [
    "def mapping(y):\n",
    "    \"\"\" To integers\n",
    "    \"\"\"\n",
    "    mapping = [1, 2, 3, 4, 5, 6, 7, 8, 9, 0]\n",
    "    \n",
    "    result = []\n",
    "    \n",
    "    for i in y:\n",
    "        result.append(mapping[np.argmax(i)])\n",
    "        \n",
    "    return result\n",
    "\n",
    "\n",
    "def store_embedding(X, name):  \n",
    "  with gzip.open(os.path.join(base_dir, name+'_embedding.p'), 'wb') as file_pi:\n",
    "    pickle.dump(X, file_pi)\n",
    "\n",
    "def load_embedding(name):\n",
    "  with gzip.open(os.path.join(base_dir, name+'_embedding.p'), 'rb') as file_pi:\n",
    "    return pickle.load(file_pi)\n",
    "\n",
    "def store_embeddings():\n",
    "    \"\"\" Stores all necessary embeddings to file\n",
    "    \"\"\"\n",
    "    model = load_model_from_file(base_dir, 'model_4_1')\n",
    "    model._layers.pop()\n",
    "    model._layers.pop()\n",
    "    model._layers.pop()\n",
    "    store_embedding(model.predict(X_train), 'Train')\n",
    "    store_embedding(model.predict(X_test), 'Test')\n",
    "    store_embedding(model.predict(X_val), 'Validation')\n",
    "\n",
    "def generate_pipeline():\n",
    "  \"\"\" Returns an sklearn pipeline.\n",
    "  \"\"\"\n",
    "  return make_pipeline(StandardScaler(),  RandomForestClassifier(n_estimators=250, max_features=0.05))\n",
    "\n",
    "def evaluate_pipeline(pipeline, X_train, y_train, X_test, y_test):\n",
    "    \"\"\" Evaluates the given pipeline, trained on the given embedded training set and \n",
    "      evaluated on the supplied embedded test set. Returns the accuracy score.\n",
    "    \"\"\"\n",
    "    pipeline.fit(X_train, mapping(y_train))\n",
    "    \n",
    "    y_pred = pipeline.predict(X_test)\n",
    "    return accuracy_score(mapping(y_test), y_pred)\n",
    "\n",
    "def evaluation_4_2(X_train, y_train, X_test, y_test):\n",
    "    \"\"\" Runs 'evaluate_pipeline' with embedded versions of the input data \n",
    "    and returns the accuracy.\n",
    "    \"\"\"\n",
    "    validation = load_embedding('Validation')\n",
    "    train = load_embedding('Train')\n",
    "    test = load_embedding('Test')\n",
    "\n",
    "    pipeline = generate_pipeline()\n",
    "    \n",
    "    #Test\n",
    "    accuracy = evaluate_pipeline(pipeline, train, train, test, y_test)\n",
    "\n",
    "    return accuracy\n",
    "\n",
    "evaluation_4_2(X_train, y_train, X_test, y_test)"
   ]
  },
  {
   "cell_type": "code",
   "execution_count": 42,
   "metadata": {},
   "outputs": [
    {
     "name": "stdout",
     "output_type": "stream",
     "text": [
      "Pipeline: Pipeline(memory=None,\n",
      "         steps=[('standardscaler',\n",
      "                 StandardScaler(copy=True, with_mean=True, with_std=True)),\n",
      "                ('logisticregression',\n",
      "                 LogisticRegression(C=0.2, class_weight=None, dual=False,\n",
      "                                    fit_intercept=True, intercept_scaling=1,\n",
      "                                    l1_ratio=None, max_iter=100,\n",
      "                                    multi_class='auto', n_jobs=None,\n",
      "                                    penalty='l2', random_state=None,\n",
      "                                    solver='lbfgs', tol=0.0001, verbose=0,\n",
      "                                    warm_start=False))],\n",
      "         verbose=False)\n",
      "Answer is 410 characters long\n"
     ]
    }
   ],
   "source": [
    "answer_q_4_2 = \"\"\"\n",
    "I loaded the network from 4_2 and popped the dense layers off.\n",
    "Then I made several pipelines with different classifiers. Including RandomForest, LogisticRegression and SupportVector.\n",
    "I did a grid search for each classifier for the relevant parameters.\n",
    "Random forest came out best in the tests, although they were all very similar in accuracy.\n",
    "The accuracy is (almost) the same as 2_2, but no better than 4_2.\n",
    "\"\"\"\n",
    "print(\"Pipeline:\",generate_pipeline())\n",
    "print(\"Answer is {} characters long\".format(len(answer_q_4_2)))"
   ]
  }
 ],
 "metadata": {
  "accelerator": "GPU",
  "anaconda-cloud": {},
  "colab": {
   "collapsed_sections": [],
   "machine_shape": "hm",
   "name": "Assignment 3 - Model Solution.ipynb",
   "provenance": []
  },
  "kernelspec": {
   "display_name": "Python 3",
   "language": "python",
   "name": "python3"
  },
  "language_info": {
   "codemirror_mode": {
    "name": "ipython",
    "version": 3
   },
   "file_extension": ".py",
   "mimetype": "text/x-python",
   "name": "python",
   "nbconvert_exporter": "python",
   "pygments_lexer": "ipython3",
   "version": "3.7.7"
  }
 },
 "nbformat": 4,
 "nbformat_minor": 4
}
